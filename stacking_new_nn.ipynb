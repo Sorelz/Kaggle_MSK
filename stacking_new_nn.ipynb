{
 "cells": [
  {
   "cell_type": "code",
   "execution_count": 154,
   "metadata": {
    "collapsed": true
   },
   "outputs": [],
   "source": [
    "import numpy as np\n",
    "import pandas as pd\n",
    "import re\n",
    "import glob\n",
    "import os \n",
    "import xgboost as xgb\n",
    "from xgboost import XGBClassifier\n",
    "from sklearn.model_selection import GridSearchCV \n",
    "from sklearn.model_selection import cross_val_score\n",
    "import matplotlib.pyplot as plt"
   ]
  },
  {
   "cell_type": "code",
   "execution_count": 136,
   "metadata": {
    "collapsed": true
   },
   "outputs": [],
   "source": [
    "path_train=\"scores/stack_train/\"\n",
    "path_test=\"scores/stack_test/\""
   ]
  },
  {
   "cell_type": "code",
   "execution_count": 137,
   "metadata": {
    "collapsed": true
   },
   "outputs": [],
   "source": [
    "dict_train = {} \n",
    "dict_test = {}\n",
    "train_files = [i for i in os.listdir(path_train)]\n",
    "test_files = [i for i in os.listdir(path_test)]\n",
    "for f in train_files:\n",
    "    dict_train[re.sub(\"\\.csv\",\"\",f)] = pd.read_csv(path_train+f)\n",
    "for f in test_files:\n",
    "    dict_test[re.sub(\"\\.csv\",\"\",f)] = pd.read_csv(path_test+f)"
   ]
  },
  {
   "cell_type": "code",
   "execution_count": 138,
   "metadata": {
    "collapsed": true
   },
   "outputs": [],
   "source": [
    "col_no_ID=['class1', 'class2', 'class3', 'class4', 'class5', 'class6', 'class7',\n",
    "       'class8', 'class9']\n",
    "del dict_train[\".DS_Store\"]\n",
    "del dict_test[\".DS_Store\"]"
   ]
  },
  {
   "cell_type": "code",
   "execution_count": 139,
   "metadata": {
    "collapsed": true,
    "scrolled": true
   },
   "outputs": [],
   "source": [
    "#Affecting  columns name\n",
    "for name in dict_test.keys():\n",
    "    dict_train[name].columns=[name+\"_\"+s for s in col_no_ID]+[\"ID\"]\n",
    "    dict_test[name].columns=[name+\"_\"+s for s in col_no_ID]+[\"ID\"]"
   ]
  },
  {
   "cell_type": "code",
   "execution_count": 140,
   "metadata": {
    "collapsed": true
   },
   "outputs": [],
   "source": [
    "stack_train=dict_train[\"nowdw_XGB_medium\"].merge(dict_train[\"nowdw_XGB_small\"],\n",
    "on=\"ID\").merge(dict_train[\"nowdw_XGB_tall\"],on=\"ID\").merge(dict_train[\"XGB_M_d2v\"],\n",
    "on=\"ID\").merge(dict_train[\"XGB_S_d2v\"],on=\"ID\").merge(dict_train[\"XGB_T_d2v\"],\n",
    "on=\"ID\").merge(dict_train[\"XGB_S_tfidf\"],on=\"ID\").merge(dict_train[\"XGB_M_tfidf\"],\n",
    "on=\"ID\").merge(dict_train[\"XGB_T_tfidf\"],on=\"ID\").merge(dict_train[\"XGB_S_w2v\"],\n",
    "on=\"ID\").merge(dict_train[\"XGB_M_w2v\"],on=\"ID\").merge(dict_train[\"XGB_T_w2v\"],\n",
    "on=\"ID\").merge(dict_train[\"LGBM_S_d2v\"],on=\"ID\").merge(dict_train[\"LGBM_M_d2v\"],\n",
    "on=\"ID\").merge(dict_train[\"LGBM_T_d2v\"],on=\"ID\").merge(dict_train[\"LGBM_S_tfidf\"],\n",
    "on=\"ID\").merge(dict_train[\"LGBM_M_tfidf\"],on=\"ID\").merge(dict_train[\"LGBM_T_tfidf\"],\n",
    "on=\"ID\").merge(dict_train[\"LGBM_S_w2v\"],on=\"ID\").merge(dict_train[\"LGBM_M_w2v\"],\n",
    "on=\"ID\").merge(dict_train[\"LGBM_T_w2v\"],on=\"ID\").merge(dict_train[\"adaboost_d2v\"],\n",
    "on=\"ID\").merge(dict_train[\"adaboost_tfidf\"],on=\"ID\").merge(dict_train[\"adaboost_w2v\"],\n",
    "on=\"ID\").merge(dict_train[\"logit_d2v\"],on=\"ID\").merge(dict_train[\"logit_tfidf\"],\n",
    "on=\"ID\").merge(dict_train[\"logit_w2v\"],on=\"ID\").merge(dict_train[\"knn_d2v\"],\n",
    "on=\"ID\").merge(dict_train[\"knn_tfidf\"],on=\"ID\").merge(dict_train[\"knn_w2v\"],\n",
    "                    on=\"ID\").merge(dict_train[\"nowdw_neural_net_new\"],on=\"ID\")\n",
    "#a tester "
   ]
  },
  {
   "cell_type": "code",
   "execution_count": 141,
   "metadata": {
    "collapsed": true
   },
   "outputs": [],
   "source": [
    "stack_test=dict_test[\"nowdw_XGB_medium\"].merge(dict_test[\"nowdw_XGB_small\"],\n",
    "on=\"ID\").merge(dict_test[\"nowdw_XGB_tall\"],on=\"ID\").merge(dict_test[\"XGB_M_d2v\"],\n",
    "on=\"ID\").merge(dict_test[\"XGB_S_d2v\"],on=\"ID\").merge(dict_test[\"XGB_T_d2v\"],\n",
    "on=\"ID\").merge(dict_test[\"XGB_S_tfidf\"],on=\"ID\").merge(dict_test[\"XGB_M_tfidf\"],\n",
    "on=\"ID\").merge(dict_test[\"XGB_T_tfidf\"],on=\"ID\").merge(dict_test[\"XGB_S_w2v\"],\n",
    "on=\"ID\").merge(dict_test[\"XGB_M_w2v\"],on=\"ID\").merge(dict_test[\"XGB_T_w2v\"],\n",
    "on=\"ID\").merge(dict_test[\"LGBM_S_d2v\"],on=\"ID\").merge(dict_test[\"LGBM_M_d2v\"],\n",
    "on=\"ID\").merge(dict_test[\"LGBM_T_d2v\"],on=\"ID\").merge(dict_test[\"LGBM_S_tfidf\"],\n",
    "on=\"ID\").merge(dict_test[\"LGBM_M_tfidf\"],on=\"ID\").merge(dict_test[\"LGBM_T_tfidf\"],\n",
    "on=\"ID\").merge(dict_test[\"LGBM_S_w2v\"],on=\"ID\").merge(dict_test[\"LGBM_M_w2v\"],\n",
    "on=\"ID\").merge(dict_test[\"LGBM_T_w2v\"],on=\"ID\").merge(dict_test[\"adaboost_d2v\"],\n",
    "on=\"ID\").merge(dict_test[\"adaboost_tfidf\"],on=\"ID\").merge(dict_test[\"adaboost_w2v\"],\n",
    "on=\"ID\").merge(dict_test[\"logit_d2v\"],on=\"ID\").merge(dict_test[\"logit_tfidf\"],\n",
    "on=\"ID\").merge(dict_test[\"logit_w2v\"],on=\"ID\").merge(dict_test[\"knn_d2v\"],\n",
    "on=\"ID\").merge(dict_test[\"knn_tfidf\"],on=\"ID\").merge(dict_test[\"knn_w2v\"],\n",
    "                    on=\"ID\").merge(dict_test[\"nowdw_neural_net_new\"],on=\"ID\")"
   ]
  },
  {
   "cell_type": "code",
   "execution_count": 19,
   "metadata": {
    "collapsed": true
   },
   "outputs": [],
   "source": [
    "#quand le merging est fini : table unique, on peut monter un meta_model"
   ]
  },
  {
   "cell_type": "code",
   "execution_count": 20,
   "metadata": {
    "collapsed": true
   },
   "outputs": [],
   "source": [
    "y=pd.read_csv(\"bases/training_variants\").Class.values - 1"
   ]
  },
  {
   "cell_type": "code",
   "execution_count": 21,
   "metadata": {
    "collapsed": true
   },
   "outputs": [],
   "source": [
    "ID_test=stack_test[\"ID\"]"
   ]
  },
  {
   "cell_type": "code",
   "execution_count": 22,
   "metadata": {
    "collapsed": true
   },
   "outputs": [],
   "source": [
    "X_train=np.array(stack_train.drop(\"ID\",axis=1))"
   ]
  },
  {
   "cell_type": "code",
   "execution_count": 23,
   "metadata": {
    "collapsed": true
   },
   "outputs": [],
   "source": [
    "X_test=np.array(stack_test.drop(\"ID\",axis=1))"
   ]
  },
  {
   "cell_type": "code",
   "execution_count": 24,
   "metadata": {
    "collapsed": true
   },
   "outputs": [],
   "source": [
    "param_test1 = {\n",
    " 'max_depth':[1,3,5,7,9],\n",
    " 'min_child_weight':[1,3,5,7,9]\n",
    "}\n",
    "param_test1_bis={\n",
    "    'max_depth':[1,2,3,4,5,7,9],\n",
    " 'min_child_weight':[1,3,5,7]\n",
    "}\n",
    "param_test2 = {\n",
    " 'gamma':[i for i in range(1,10)]\n",
    "}\n",
    "param_test3 = {\n",
    " 'subsample':[i/10.0 for i in range(6,10)],\n",
    " 'colsample_bytree':[i/10.0 for i in range(6,10)]\n",
    "}\n",
    "param_test3_bis = {\n",
    " 'subsample':[i/100.0 for i in range(75,90,5)],\n",
    " 'colsample_bytree':[i/100.0 for i in range(75,90,5)]\n",
    "}\n",
    "param_test4 = {\n",
    " 'reg_alpha':[0.1,0.3,0.5,0.7,0.9]\n",
    "}\n",
    "param_test4_bis = {\n",
    " 'reg_alpha':[i for i in np.arange(94,96,.2)]\n",
    "}\n",
    "param_test5 = {\n",
    " \"learning_rate\" : [i for i in np.arange(0.05,0.15,0.025)]\n",
    "}\n",
    "param_test6 = {\n",
    "    \"n_estimators\" : [i for i in range(50, 300, 50)]\n",
    "}\n"
   ]
  },
  {
   "cell_type": "code",
   "execution_count": 26,
   "metadata": {
    "collapsed": true
   },
   "outputs": [],
   "source": [
    "model = XGBClassifier(objective=\"multi:softprob\",\n",
    "seed=26,gamma=6,n_estimators=200)\n",
    "results=cross_val_score(model,X_train,y,cv=5,scoring=\"neg_log_loss\")"
   ]
  },
  {
   "cell_type": "code",
   "execution_count": 31,
   "metadata": {
    "collapsed": true
   },
   "outputs": [],
   "source": [
    "results=cross_val_score(model,X_train,y,cv=5,scoring=\"neg_log_loss\")"
   ]
  },
  {
   "cell_type": "code",
   "execution_count": 34,
   "metadata": {},
   "outputs": [
    {
     "data": {
      "text/plain": [
       "-0.36328832669740663"
      ]
     },
     "execution_count": 34,
     "metadata": {},
     "output_type": "execute_result"
    }
   ],
   "source": [
    "results.mean()"
   ]
  },
  {
   "cell_type": "code",
   "execution_count": 39,
   "metadata": {},
   "outputs": [
    {
     "name": "stderr",
     "output_type": "stream",
     "text": [
      "/Users/LF/anaconda/lib/python3.6/site-packages/sklearn/model_selection/_search.py:667: DeprecationWarning: The grid_scores_ attribute was deprecated in version 0.18 in favor of the more elaborate cv_results_ attribute. The grid_scores_ attribute will not be available from 0.20\n",
      "  DeprecationWarning)\n"
     ]
    },
    {
     "data": {
      "text/plain": [
       "([mean: -0.37745, std: 0.04417, params: {'max_depth': 1, 'min_child_weight': 1},\n",
       "  mean: -0.37737, std: 0.04418, params: {'max_depth': 1, 'min_child_weight': 3},\n",
       "  mean: -0.37716, std: 0.04379, params: {'max_depth': 1, 'min_child_weight': 5},\n",
       "  mean: -0.37620, std: 0.04315, params: {'max_depth': 1, 'min_child_weight': 7},\n",
       "  mean: -0.37609, std: 0.04253, params: {'max_depth': 1, 'min_child_weight': 9},\n",
       "  mean: -0.37100, std: 0.05525, params: {'max_depth': 3, 'min_child_weight': 1},\n",
       "  mean: -0.36960, std: 0.05471, params: {'max_depth': 3, 'min_child_weight': 3},\n",
       "  mean: -0.36913, std: 0.05437, params: {'max_depth': 3, 'min_child_weight': 5},\n",
       "  mean: -0.36812, std: 0.05433, params: {'max_depth': 3, 'min_child_weight': 7},\n",
       "  mean: -0.36783, std: 0.05341, params: {'max_depth': 3, 'min_child_weight': 9},\n",
       "  mean: -0.37462, std: 0.05413, params: {'max_depth': 5, 'min_child_weight': 1},\n",
       "  mean: -0.37071, std: 0.05471, params: {'max_depth': 5, 'min_child_weight': 3},\n",
       "  mean: -0.36922, std: 0.05288, params: {'max_depth': 5, 'min_child_weight': 5},\n",
       "  mean: -0.36767, std: 0.05386, params: {'max_depth': 5, 'min_child_weight': 7},\n",
       "  mean: -0.36406, std: 0.05317, params: {'max_depth': 5, 'min_child_weight': 9},\n",
       "  mean: -0.37386, std: 0.05781, params: {'max_depth': 7, 'min_child_weight': 1},\n",
       "  mean: -0.37145, std: 0.05593, params: {'max_depth': 7, 'min_child_weight': 3},\n",
       "  mean: -0.36925, std: 0.05165, params: {'max_depth': 7, 'min_child_weight': 5},\n",
       "  mean: -0.36787, std: 0.05264, params: {'max_depth': 7, 'min_child_weight': 7},\n",
       "  mean: -0.36550, std: 0.05231, params: {'max_depth': 7, 'min_child_weight': 9},\n",
       "  mean: -0.37340, std: 0.05699, params: {'max_depth': 9, 'min_child_weight': 1},\n",
       "  mean: -0.37097, std: 0.05549, params: {'max_depth': 9, 'min_child_weight': 3},\n",
       "  mean: -0.36905, std: 0.05101, params: {'max_depth': 9, 'min_child_weight': 5},\n",
       "  mean: -0.36806, std: 0.05286, params: {'max_depth': 9, 'min_child_weight': 7},\n",
       "  mean: -0.36505, std: 0.05237, params: {'max_depth': 9, 'min_child_weight': 9}],\n",
       " {'max_depth': 5, 'min_child_weight': 9},\n",
       " -0.36406393455221348)"
      ]
     },
     "execution_count": 39,
     "metadata": {},
     "output_type": "execute_result"
    }
   ],
   "source": [
    "gsearch1=GridSearchCV(estimator = XGBClassifier(objective=\"multi:softprob\",\n",
    "seed=26,gamma=6,n_estimators=200),param_grid = param_test1,scoring=\"neg_log_loss\",n_jobs=4,iid=False, cv=5)\n",
    "gsearch1.fit(X_train,y)\n",
    "gsearch1.grid_scores_, gsearch1_bis.best_params_, gsearch1_bis.best_score_"
   ]
  },
  {
   "cell_type": "code",
   "execution_count": 43,
   "metadata": {},
   "outputs": [
    {
     "name": "stderr",
     "output_type": "stream",
     "text": [
      "/Users/LF/anaconda/lib/python3.6/site-packages/sklearn/model_selection/_search.py:667: DeprecationWarning: The grid_scores_ attribute was deprecated in version 0.18 in favor of the more elaborate cv_results_ attribute. The grid_scores_ attribute will not be available from 0.20\n",
      "  DeprecationWarning)\n"
     ]
    },
    {
     "data": {
      "text/plain": [
       "([mean: -0.37764, std: 0.07344, params: {'gamma': 1},\n",
       "  mean: -0.36598, std: 0.06443, params: {'gamma': 2},\n",
       "  mean: -0.35869, std: 0.05881, params: {'gamma': 3},\n",
       "  mean: -0.35659, std: 0.05807, params: {'gamma': 4},\n",
       "  mean: -0.35929, std: 0.05476, params: {'gamma': 5},\n",
       "  mean: -0.36406, std: 0.05317, params: {'gamma': 6},\n",
       "  mean: -0.36992, std: 0.05125, params: {'gamma': 7},\n",
       "  mean: -0.37458, std: 0.05150, params: {'gamma': 8},\n",
       "  mean: -0.37957, std: 0.05119, params: {'gamma': 9}],\n",
       " {'gamma': 4},\n",
       " -0.35659368456848306)"
      ]
     },
     "execution_count": 43,
     "metadata": {},
     "output_type": "execute_result"
    }
   ],
   "source": [
    "gsearch2 = GridSearchCV(estimator = XGBClassifier(objective=\"multi:softprob\",\n",
    "seed=26,max_depth=5,min_child_weight=9,gamma=4,n_estimators=200),param_grid = param_test2,scoring=\"neg_log_loss\",n_jobs=4,iid=False, cv=5)\n",
    "gsearch2.fit(X_train,y)\n",
    "gsearch2.grid_scores_, gsearch2.best_params_, gsearch2.best_score_"
   ]
  },
  {
   "cell_type": "code",
   "execution_count": 45,
   "metadata": {},
   "outputs": [
    {
     "name": "stderr",
     "output_type": "stream",
     "text": [
      "/Users/LF/anaconda/lib/python3.6/site-packages/sklearn/model_selection/_search.py:667: DeprecationWarning: The grid_scores_ attribute was deprecated in version 0.18 in favor of the more elaborate cv_results_ attribute. The grid_scores_ attribute will not be available from 0.20\n",
      "  DeprecationWarning)\n"
     ]
    },
    {
     "data": {
      "text/plain": [
       "([mean: -0.36632, std: 0.06287, params: {'colsample_bytree': 0.6, 'subsample': 0.6},\n",
       "  mean: -0.36289, std: 0.06102, params: {'colsample_bytree': 0.6, 'subsample': 0.7},\n",
       "  mean: -0.36232, std: 0.05489, params: {'colsample_bytree': 0.6, 'subsample': 0.8},\n",
       "  mean: -0.36409, std: 0.05611, params: {'colsample_bytree': 0.6, 'subsample': 0.9},\n",
       "  mean: -0.36585, std: 0.06147, params: {'colsample_bytree': 0.7, 'subsample': 0.6},\n",
       "  mean: -0.35824, std: 0.05773, params: {'colsample_bytree': 0.7, 'subsample': 0.7},\n",
       "  mean: -0.35979, std: 0.06083, params: {'colsample_bytree': 0.7, 'subsample': 0.8},\n",
       "  mean: -0.36062, std: 0.05940, params: {'colsample_bytree': 0.7, 'subsample': 0.9},\n",
       "  mean: -0.36360, std: 0.06795, params: {'colsample_bytree': 0.8, 'subsample': 0.6},\n",
       "  mean: -0.35706, std: 0.05851, params: {'colsample_bytree': 0.8, 'subsample': 0.7},\n",
       "  mean: -0.35843, std: 0.06317, params: {'colsample_bytree': 0.8, 'subsample': 0.8},\n",
       "  mean: -0.35508, std: 0.05975, params: {'colsample_bytree': 0.8, 'subsample': 0.9},\n",
       "  mean: -0.36282, std: 0.06626, params: {'colsample_bytree': 0.9, 'subsample': 0.6},\n",
       "  mean: -0.35741, std: 0.06256, params: {'colsample_bytree': 0.9, 'subsample': 0.7},\n",
       "  mean: -0.35960, std: 0.06230, params: {'colsample_bytree': 0.9, 'subsample': 0.8},\n",
       "  mean: -0.35686, std: 0.06099, params: {'colsample_bytree': 0.9, 'subsample': 0.9}],\n",
       " {'colsample_bytree': 0.8, 'subsample': 0.9},\n",
       " -0.35508297195615335)"
      ]
     },
     "execution_count": 45,
     "metadata": {},
     "output_type": "execute_result"
    }
   ],
   "source": [
    "gsearch3 = GridSearchCV(estimator = XGBClassifier(objective=\"multi:softprob\",\n",
    "seed=26,max_depth=5,min_child_weight=9,gamma=4,n_estimators=200),param_grid = param_test3,scoring=\"neg_log_loss\",n_jobs=4,iid=False, cv=5)\n",
    "gsearch3.fit(X_train,y)\n",
    "gsearch3.grid_scores_, gsearch3.best_params_, gsearch3.best_score_"
   ]
  },
  {
   "cell_type": "code",
   "execution_count": 47,
   "metadata": {},
   "outputs": [
    {
     "name": "stderr",
     "output_type": "stream",
     "text": [
      "/Users/LF/anaconda/lib/python3.6/site-packages/sklearn/model_selection/_search.py:667: DeprecationWarning: The grid_scores_ attribute was deprecated in version 0.18 in favor of the more elaborate cv_results_ attribute. The grid_scores_ attribute will not be available from 0.20\n",
      "  DeprecationWarning)\n"
     ]
    },
    {
     "data": {
      "text/plain": [
       "([mean: -0.35570, std: 0.05928, params: {'reg_alpha': 0.1},\n",
       "  mean: -0.35595, std: 0.06030, params: {'reg_alpha': 0.3},\n",
       "  mean: -0.35475, std: 0.05805, params: {'reg_alpha': 0.5},\n",
       "  mean: -0.35765, std: 0.05885, params: {'reg_alpha': 0.7},\n",
       "  mean: -0.35595, std: 0.05873, params: {'reg_alpha': 0.9}],\n",
       " {'reg_alpha': 0.5},\n",
       " -0.35475223505015158)"
      ]
     },
     "execution_count": 47,
     "metadata": {},
     "output_type": "execute_result"
    }
   ],
   "source": [
    "gsearch4 = GridSearchCV(estimator = XGBClassifier(n_estimators=200,objective=\"multi:softprob\",\n",
    "seed=26,max_depth=5,min_child_weight=9,gamma=4,colsample_bytree=0.8,subsample=0.9,reg_alpha=0.5),param_grid = param_test4,scoring=\"neg_log_loss\",n_jobs=4,iid=False, cv=5)\n",
    "gsearch4.fit(X_train,y)\n",
    "gsearch4.grid_scores_, gsearch4.best_params_, gsearch4.best_score_"
   ]
  },
  {
   "cell_type": "code",
   "execution_count": 162,
   "metadata": {},
   "outputs": [
    {
     "name": "stderr",
     "output_type": "stream",
     "text": [
      "/Users/LF/anaconda/lib/python3.6/site-packages/sklearn/model_selection/_search.py:667: DeprecationWarning: The grid_scores_ attribute was deprecated in version 0.18 in favor of the more elaborate cv_results_ attribute. The grid_scores_ attribute will not be available from 0.20\n",
      "  DeprecationWarning)\n"
     ]
    },
    {
     "data": {
      "text/plain": [
       "([mean: -0.36961, std: 0.05279, params: {'learning_rate': 0.050000000000000003},\n",
       "  mean: -0.35951, std: 0.05413, params: {'learning_rate': 0.075000000000000011},\n",
       "  mean: -0.35664, std: 0.05352, params: {'learning_rate': 0.10000000000000002},\n",
       "  mean: -0.35599, std: 0.05416, params: {'learning_rate': 0.12500000000000003}],\n",
       " {'learning_rate': 0.12500000000000003},\n",
       " -0.35598858850717086)"
      ]
     },
     "execution_count": 162,
     "metadata": {},
     "output_type": "execute_result"
    }
   ],
   "source": [
    "gsearch5 = GridSearchCV(estimator = XGBClassifier(n_estimators=100,objective=\"multi:softprob\",\n",
    "seed=26,max_depth=5,min_child_weight=9,gamma=4,colsample_bytree=0.8,subsample=0.9,learning_rate=0.1,reg_alpha=0.5),param_grid = param_test5,scoring=\"neg_log_loss\",n_jobs=4,iid=False, cv=5)\n",
    "gsearch5.fit(X_train,y)\n",
    "gsearch5.grid_scores_, gsearch5.best_params_, gsearch5.best_score_"
   ]
  },
  {
   "cell_type": "code",
   "execution_count": 40,
   "metadata": {},
   "outputs": [
    {
     "name": "stderr",
     "output_type": "stream",
     "text": [
      "/Users/LF/anaconda/lib/python3.6/site-packages/sklearn/model_selection/_search.py:667: DeprecationWarning: The grid_scores_ attribute was deprecated in version 0.18 in favor of the more elaborate cv_results_ attribute. The grid_scores_ attribute will not be available from 0.20\n",
      "  DeprecationWarning)\n"
     ]
    },
    {
     "data": {
      "text/plain": [
       "([mean: -0.37009, std: 0.05394, params: {'n_estimators': 50},\n",
       "  mean: -0.35664, std: 0.05352, params: {'n_estimators': 100},\n",
       "  mean: -0.35602, std: 0.05393, params: {'n_estimators': 150},\n",
       "  mean: -0.35580, std: 0.05421, params: {'n_estimators': 200},\n",
       "  mean: -0.35545, std: 0.05462, params: {'n_estimators': 250}],\n",
       " {'n_estimators': 250},\n",
       " -0.35545106118535574)"
      ]
     },
     "execution_count": 40,
     "metadata": {},
     "output_type": "execute_result"
    }
   ],
   "source": [
    "gsearch6 = GridSearchCV(estimator = XGBClassifier(n_estimators=200,objective=\"multi:softprob\",\n",
    "seed=26,max_depth=5,min_child_weight=9,gamma=4,colsample_bytree=0.8,subsample=0.9,learning_rate=0.1,reg_alpha=0.5),param_grid = param_test6,scoring=\"neg_log_loss\",n_jobs=4,iid=False, cv=5)\n",
    "gsearch6.fit(X_train,y)\n",
    "gsearch6.grid_scores_, gsearch6.best_params_, gsearch6.best_score_"
   ]
  },
  {
   "cell_type": "code",
   "execution_count": 35,
   "metadata": {
    "collapsed": true
   },
   "outputs": [],
   "source": [
    "clf = XGBClassifier(objective=\"multi:softprob\",\n",
    "seed=26,n_estimators=200)\n",
    "                     \n",
    "clf.fit(X_train,y)\n",
    "y_test=clf.predict_proba(X_test)\n",
    "\n",
    "classes = \"class1,class2,class3,class4,class5,class6,class7,class8,class9\".split(',')\n",
    "sub = pd.DataFrame(y_test, columns=classes)\n",
    "sub['ID'] = ID_test\n",
    "sub.to_csv(\"scores/stacking_finish_grdsearch_new.csv\",index=False)"
   ]
  },
  {
   "cell_type": "code",
   "execution_count": 156,
   "metadata": {
    "collapsed": true
   },
   "outputs": [],
   "source": [
    "features=np.asarray(stack_test.drop(\"ID\",axis=1).columns)\n",
    "imp=clf.feature_importances_\n",
    "feat_imp=pd.DataFrame(imp,features,columns=[\"feat_imp\"])\n",
    "fi=feat_imp.sort_values(by=\"feat_imp\",ascending=False)"
   ]
  },
  {
   "cell_type": "code",
   "execution_count": null,
   "metadata": {
    "collapsed": true
   },
   "outputs": [],
   "source": []
  }
 ],
 "metadata": {
  "kernelspec": {
   "display_name": "Python 3",
   "language": "python",
   "name": "python3"
  },
  "language_info": {
   "codemirror_mode": {
    "name": "ipython",
    "version": 3
   },
   "file_extension": ".py",
   "mimetype": "text/x-python",
   "name": "python",
   "nbconvert_exporter": "python",
   "pygments_lexer": "ipython3",
   "version": "3.6.1"
  }
 },
 "nbformat": 4,
 "nbformat_minor": 2
}
