{
 "cells": [
  {
   "cell_type": "code",
   "execution_count": 16,
   "metadata": {
    "scrolled": false
   },
   "outputs": [],
   "source": [
    "import numpy as np\n",
    "import pandas as pd\n",
    "import scipy.sparse as ssp\n",
    "\n",
    "from sklearn.feature_extraction.text import TfidfVectorizer\n",
    "from sklearn import metrics, model_selection\n",
    "from sklearn.linear_model import LogisticRegression\n",
    "import xgboost as xgb\n",
    "from xgboost import XGBClassifier\n",
    "from sklearn import svm\n",
    "from sklearn.neighbors import KNeighborsClassifier\n",
    "from sklearn.model_selection import cross_val_predict,cross_val_score\n",
    "from sklearn.decomposition import TruncatedSVD\n",
    "from sklearn.ensemble import BaggingClassifier\n",
    "from sklearn.ensemble import AdaBoostClassifier\n",
    "import lightgbm\n",
    "from lightgbm.sklearn import LGBMClassifier\n",
    "import os \n",
    "import re\n",
    "from sklearn.model_selection import GridSearchCV\n",
    "from sklearn.ensemble import RandomForestClassifier"
   ]
  },
  {
   "cell_type": "markdown",
   "metadata": {},
   "source": [
    "# I will use cross_val_score on XGBoost to select 100,200 or 300 for each preprocess"
   ]
  },
  {
   "cell_type": "code",
   "execution_count": 17,
   "metadata": {},
   "outputs": [],
   "source": [
    "work_train_w2v = {} \n",
    "work_test_w2v = {}\n",
    "pre_process=[\"w2v_100.csv\",\"w2v_200.csv\",\"w2v_300.csv\"]\n",
    "path=\"checkpoints_databases/\"\n",
    "for f in pre_process:\n",
    "    work_train_w2v[re.sub(\"\\.csv\",\"\",f)] = pd.read_csv(path+\"nw_working_train_\"+f)\n",
    "    work_test_w2v[re.sub(\"\\.csv\",\"\",f)] = pd.read_csv(path+\"nw_working_test_\"+f)"
   ]
  },
  {
   "cell_type": "code",
   "execution_count": 3,
   "metadata": {},
   "outputs": [],
   "source": [
    "work_train_bio = {} \n",
    "work_test_bio = {}\n",
    "pre_process=[\"bio.csv\"]\n",
    "path=\"checkpoints_databases/\"\n",
    "for f in pre_process:\n",
    "    work_train_bio[re.sub(\"\\.csv\",\"\",f)] = pd.read_csv(path+\"nw_working_train_\"+f)\n",
    "    work_test_bio[re.sub(\"\\.csv\",\"\",f)] = pd.read_csv(path+\"nw_working_test_\"+f)"
   ]
  },
  {
   "cell_type": "code",
   "execution_count": 4,
   "metadata": {},
   "outputs": [],
   "source": [
    "work_train_tfidf = {} \n",
    "work_test_tfidf = {}\n",
    "pre_process=[\"tfidf_tsvd_100.csv\",\"tfidf_tsvd_200.csv\",\"tfidf_tsvd_300.csv\"]\n",
    "path=\"checkpoints_databases/\"\n",
    "for f in pre_process:\n",
    "    work_train_tfidf[re.sub(\"\\.csv\",\"\",f)] = pd.read_csv(path+\"nw_working_train_\"+f)\n",
    "    work_test_tfidf[re.sub(\"\\.csv\",\"\",f)] = pd.read_csv(path+\"nw_working_test_\"+f)"
   ]
  },
  {
   "cell_type": "code",
   "execution_count": 5,
   "metadata": {},
   "outputs": [],
   "source": [
    "new_train_v=pd.read_csv(\"../bases/new_training_variants.csv\")"
   ]
  },
  {
   "cell_type": "code",
   "execution_count": 6,
   "metadata": {},
   "outputs": [],
   "source": [
    "y=np.array(new_train_v.iloc[:,0])-1"
   ]
  },
  {
   "cell_type": "code",
   "execution_count": 8,
   "metadata": {},
   "outputs": [],
   "source": [
    "train = pd.read_csv('../bases/new_training_variants.csv')\n",
    "test = pd.read_csv('../bases/new_test_variants.csv')\n",
    "ID_train=train.ID\n",
    "ID_test=test.ID\n",
    "del train,test"
   ]
  },
  {
   "cell_type": "code",
   "execution_count": 9,
   "metadata": {},
   "outputs": [],
   "source": [
    "kf = model_selection.StratifiedKFold(n_splits=5, random_state=26, shuffle=True)"
   ]
  },
  {
   "cell_type": "code",
   "execution_count": 10,
   "metadata": {},
   "outputs": [
    {
     "name": "stdout",
     "output_type": "stream",
     "text": [
      "meanw2v_100 -1.00422806424 std:w2v_100 0.0325493546696\n",
      "meanw2v_200 -1.00385541522 std:w2v_200 0.0322415146009\n",
      "meanw2v_300 -0.987052629045 std:w2v_300 0.0403660088829\n"
     ]
    }
   ],
   "source": [
    "clf_xgb=XGBClassifier(max_depth=5, objective=\"multi:softprob\",seed=26)\n",
    "for name in work_train_w2v:\n",
    "    h=cross_val_score(clf_xgb,np.array(work_train_w2v[name].drop(\"ID\",axis=1)),y,cv=kf,n_jobs=-1,scoring=\"neg_log_loss\")\n",
    "    print(\"mean\"+name+\" \"+str(h.mean()),\n",
    "         \"std:\"+name+\" \"+str(h.std()))"
   ]
  },
  {
   "cell_type": "code",
   "execution_count": 11,
   "metadata": {},
   "outputs": [
    {
     "name": "stdout",
     "output_type": "stream",
     "text": [
      "meanbio -1.03229973699 std:bio 0.0338258622169\n"
     ]
    }
   ],
   "source": [
    "for name in work_train_bio:\n",
    "    h=cross_val_score(clf_xgb,np.array(work_train_bio[name].drop(\"ID\",axis=1)),y,cv=kf,n_jobs=-1,scoring=\"neg_log_loss\")\n",
    "    print(\"mean\"+name+\" \"+str(h.mean()),\n",
    "         \"std:\"+name+\" \"+str(h.std()))"
   ]
  },
  {
   "cell_type": "code",
   "execution_count": 14,
   "metadata": {
    "scrolled": true
   },
   "outputs": [
    {
     "name": "stdout",
     "output_type": "stream",
     "text": [
      "meantfidf_tsvd_100 -0.972444529011 std:tfidf_tsvd_100 0.0341352210089\n",
      "meantfidf_tsvd_200 -0.989768786429 std:tfidf_tsvd_200 0.0421389970526\n",
      "meantfidf_tsvd_300 -0.988125473019 std:tfidf_tsvd_300 0.045022240091\n"
     ]
    }
   ],
   "source": [
    "for name in work_train_tfidf:\n",
    "    h=cross_val_score(clf_xgb,np.array(work_train_tfidf[name]),y,cv=kf,n_jobs=-1,scoring=\"neg_log_loss\")\n",
    "    print(\"mean\"+name+\" \"+str(h.mean()),\n",
    "         \"std:\"+name+\" \"+str(h.std()))"
   ]
  },
  {
   "cell_type": "markdown",
   "metadata": {},
   "source": [
    "# GRID SEARCH PHASE ALL ALGOS"
   ]
  },
  {
   "cell_type": "code",
   "execution_count": 66,
   "metadata": {},
   "outputs": [],
   "source": [
    "work_train= {} \n",
    "work_test = {}\n",
    "pre_process=[\"bio.csv\",\"tfidf_tsvd_100.csv\",\"w2v_100.csv\"]\n",
    "path=\"checkpoints_databases/\"\n",
    "for f in pre_process:\n",
    "    work_train[re.sub(\"\\.csv\",\"\",f)] = pd.read_csv(path+\"nw_working_train_\"+f)\n",
    "    work_test[re.sub(\"\\.csv\",\"\",f)] = pd.read_csv(path+\"nw_working_test_\"+f)"
   ]
  },
  {
   "cell_type": "code",
   "execution_count": null,
   "metadata": {},
   "outputs": [],
   "source": [
    "#also add features "
   ]
  },
  {
   "cell_type": "code",
   "execution_count": null,
   "metadata": {},
   "outputs": [],
   "source": [
    "feat_train=pd.read_csv(\"../No_window/nw_meta_features/meta_train_l1l2.csv\")\n",
    "feat_test=pd.read_csv(\"../No_window/nw_meta_features/meta_test_l1l2.csv\")"
   ]
  },
  {
   "cell_type": "code",
   "execution_count": 15,
   "metadata": {},
   "outputs": [],
   "source": [
    "#add a \"external model\" xgb alone"
   ]
  },
  {
   "cell_type": "code",
   "execution_count": null,
   "metadata": {},
   "outputs": [],
   "source": [
    "ext_bio=pd.read_csv(\"../l2_meta_features/svd25_biological.csv\")\n",
    "ext_cell=pd.read_csv(\"../l2_meta_features/svd25_cellular.csv\")\n",
    "ext_mol=pd.read_csv(\"../l2_meta_features/svd25_molecular.csv\")"
   ]
  },
  {
   "cell_type": "code",
   "execution_count": null,
   "metadata": {},
   "outputs": [],
   "source": [
    "ext_bio=ext_bio.drop([\"Class\",\"Gene\",\"ID\",\"Variation\"],axis=1)\n",
    "ext_cell=ext_cell.drop([\"Class\",\"Gene\",\"ID\",\"Variation\"],axis=1)\n",
    "ext_mol=ext_mol.drop([\"Class\",\"Gene\",\"ID\",\"Variation\"],axis=1)"
   ]
  },
  {
   "cell_type": "code",
   "execution_count": null,
   "metadata": {},
   "outputs": [],
   "source": [
    "model_ext=pd.concat((ext_bio,ext_cell,ext_mol),axis=1)\n",
    "model_ext_train=model_ext[:len(y)]\n",
    "model_ext_test=model_ext[len(y):]"
   ]
  },
  {
   "cell_type": "code",
   "execution_count": null,
   "metadata": {},
   "outputs": [],
   "source": [
    "clf_xgb=XGBClassifier(max_depth=3, objective=\"multi:softprob\",seed=26)\n",
    "param_test= {\n",
    "    \"max_depth\" : [3,5,7],\n",
    "    \"min_child_weight\" : [1,3],\n",
    "    \"n_estimators\" : [100,200],\n",
    "    \"subsample\":[0.8,1],\n",
    "    \"colsample_bytree\":[0.8,1]\n",
    "}\n",
    "gsearch=GridSearchCV(estimator=clf_xgb, param_grid = param_test,scoring=\"neg_log_loss\",n_jobs=-1,iid=False, cv=kf,verbose=True)\n",
    "gsearch.fit(model_ext_train,y)\n",
    "print(gsearch.grid_scores_)\n",
    "print(gsearch.best_params_)\n",
    "print(gsearch.best_score_)"
   ]
  },
  {
   "cell_type": "code",
   "execution_count": null,
   "metadata": {},
   "outputs": [],
   "source": [
    "work_train_final={}\n",
    "work_test_final={}\n",
    "for name in work_train:\n",
    "    work_train_final[name]=pd.concat((work_train[name],feat_train),axis=1)\n",
    "    work_test_final[name]=pd.concat((work_test[name],feat_test),axis=1)"
   ]
  },
  {
   "cell_type": "code",
   "execution_count": 42,
   "metadata": {
    "collapsed": true
   },
   "outputs": [
    {
     "name": "stdout",
     "output_type": "stream",
     "text": [
      "Fitting 5 folds for each of 48 candidates, totalling 240 fits\n"
     ]
    },
    {
     "name": "stderr",
     "output_type": "stream",
     "text": [
      "[Parallel(n_jobs=-1)]: Done  42 tasks      | elapsed:  7.1min\n",
      "[Parallel(n_jobs=-1)]: Done 192 tasks      | elapsed: 48.4min\n",
      "[Parallel(n_jobs=-1)]: Done 240 out of 240 | elapsed: 67.5min finished\n"
     ]
    },
    {
     "name": "stdout",
     "output_type": "stream",
     "text": [
      "d2v_100\n",
      "[mean: -1.10183, std: 0.04434, params: {'colsample_bytree': 0.8, 'max_depth': 3, 'min_child_weight': 1, 'n_estimators': 100, 'subsample': 0.8}, mean: -1.11608, std: 0.03952, params: {'colsample_bytree': 0.8, 'max_depth': 3, 'min_child_weight': 1, 'n_estimators': 100, 'subsample': 1}, mean: -1.03937, std: 0.05671, params: {'colsample_bytree': 0.8, 'max_depth': 3, 'min_child_weight': 1, 'n_estimators': 200, 'subsample': 0.8}, mean: -1.06731, std: 0.05026, params: {'colsample_bytree': 0.8, 'max_depth': 3, 'min_child_weight': 1, 'n_estimators': 200, 'subsample': 1}, mean: -1.10267, std: 0.04157, params: {'colsample_bytree': 0.8, 'max_depth': 3, 'min_child_weight': 3, 'n_estimators': 100, 'subsample': 0.8}, mean: -1.11616, std: 0.03778, params: {'colsample_bytree': 0.8, 'max_depth': 3, 'min_child_weight': 3, 'n_estimators': 100, 'subsample': 1}, mean: -1.04035, std: 0.05765, params: {'colsample_bytree': 0.8, 'max_depth': 3, 'min_child_weight': 3, 'n_estimators': 200, 'subsample': 0.8}, mean: -1.06385, std: 0.04691, params: {'colsample_bytree': 0.8, 'max_depth': 3, 'min_child_weight': 3, 'n_estimators': 200, 'subsample': 1}, mean: -1.01124, std: 0.06010, params: {'colsample_bytree': 0.8, 'max_depth': 5, 'min_child_weight': 1, 'n_estimators': 100, 'subsample': 0.8}, mean: -1.02515, std: 0.05799, params: {'colsample_bytree': 0.8, 'max_depth': 5, 'min_child_weight': 1, 'n_estimators': 100, 'subsample': 1}, mean: -1.00477, std: 0.07964, params: {'colsample_bytree': 0.8, 'max_depth': 5, 'min_child_weight': 1, 'n_estimators': 200, 'subsample': 0.8}, mean: -1.01056, std: 0.07415, params: {'colsample_bytree': 0.8, 'max_depth': 5, 'min_child_weight': 1, 'n_estimators': 200, 'subsample': 1}, mean: -1.01882, std: 0.05451, params: {'colsample_bytree': 0.8, 'max_depth': 5, 'min_child_weight': 3, 'n_estimators': 100, 'subsample': 0.8}, mean: -1.03160, std: 0.04726, params: {'colsample_bytree': 0.8, 'max_depth': 5, 'min_child_weight': 3, 'n_estimators': 100, 'subsample': 1}, mean: -0.99883, std: 0.07398, params: {'colsample_bytree': 0.8, 'max_depth': 5, 'min_child_weight': 3, 'n_estimators': 200, 'subsample': 0.8}, mean: -1.00864, std: 0.06668, params: {'colsample_bytree': 0.8, 'max_depth': 5, 'min_child_weight': 3, 'n_estimators': 200, 'subsample': 1}, mean: -0.99059, std: 0.06817, params: {'colsample_bytree': 0.8, 'max_depth': 7, 'min_child_weight': 1, 'n_estimators': 100, 'subsample': 0.8}, mean: -0.99940, std: 0.06953, params: {'colsample_bytree': 0.8, 'max_depth': 7, 'min_child_weight': 1, 'n_estimators': 100, 'subsample': 1}, mean: -1.05722, std: 0.09074, params: {'colsample_bytree': 0.8, 'max_depth': 7, 'min_child_weight': 1, 'n_estimators': 200, 'subsample': 0.8}, mean: -1.02819, std: 0.08708, params: {'colsample_bytree': 0.8, 'max_depth': 7, 'min_child_weight': 1, 'n_estimators': 200, 'subsample': 1}, mean: -0.98799, std: 0.06035, params: {'colsample_bytree': 0.8, 'max_depth': 7, 'min_child_weight': 3, 'n_estimators': 100, 'subsample': 0.8}, mean: -0.99927, std: 0.06163, params: {'colsample_bytree': 0.8, 'max_depth': 7, 'min_child_weight': 3, 'n_estimators': 100, 'subsample': 1}, mean: -1.01819, std: 0.08175, params: {'colsample_bytree': 0.8, 'max_depth': 7, 'min_child_weight': 3, 'n_estimators': 200, 'subsample': 0.8}, mean: -1.01683, std: 0.07830, params: {'colsample_bytree': 0.8, 'max_depth': 7, 'min_child_weight': 3, 'n_estimators': 200, 'subsample': 1}, mean: -1.09443, std: 0.04345, params: {'colsample_bytree': 1, 'max_depth': 3, 'min_child_weight': 1, 'n_estimators': 100, 'subsample': 0.8}, mean: -1.11642, std: 0.03855, params: {'colsample_bytree': 1, 'max_depth': 3, 'min_child_weight': 1, 'n_estimators': 100, 'subsample': 1}, mean: -1.03659, std: 0.06029, params: {'colsample_bytree': 1, 'max_depth': 3, 'min_child_weight': 1, 'n_estimators': 200, 'subsample': 0.8}, mean: -1.06728, std: 0.04848, params: {'colsample_bytree': 1, 'max_depth': 3, 'min_child_weight': 1, 'n_estimators': 200, 'subsample': 1}, mean: -1.09895, std: 0.04032, params: {'colsample_bytree': 1, 'max_depth': 3, 'min_child_weight': 3, 'n_estimators': 100, 'subsample': 0.8}, mean: -1.11983, std: 0.03718, params: {'colsample_bytree': 1, 'max_depth': 3, 'min_child_weight': 3, 'n_estimators': 100, 'subsample': 1}, mean: -1.03765, std: 0.05590, params: {'colsample_bytree': 1, 'max_depth': 3, 'min_child_weight': 3, 'n_estimators': 200, 'subsample': 0.8}, mean: -1.06607, std: 0.04853, params: {'colsample_bytree': 1, 'max_depth': 3, 'min_child_weight': 3, 'n_estimators': 200, 'subsample': 1}, mean: -1.00796, std: 0.06270, params: {'colsample_bytree': 1, 'max_depth': 5, 'min_child_weight': 1, 'n_estimators': 100, 'subsample': 0.8}, mean: -1.02711, std: 0.05615, params: {'colsample_bytree': 1, 'max_depth': 5, 'min_child_weight': 1, 'n_estimators': 100, 'subsample': 1}, mean: -1.00691, std: 0.08267, params: {'colsample_bytree': 1, 'max_depth': 5, 'min_child_weight': 1, 'n_estimators': 200, 'subsample': 0.8}, mean: -1.01188, std: 0.07502, params: {'colsample_bytree': 1, 'max_depth': 5, 'min_child_weight': 1, 'n_estimators': 200, 'subsample': 1}, mean: -1.01173, std: 0.05402, params: {'colsample_bytree': 1, 'max_depth': 5, 'min_child_weight': 3, 'n_estimators': 100, 'subsample': 0.8}, mean: -1.03254, std: 0.05427, params: {'colsample_bytree': 1, 'max_depth': 5, 'min_child_weight': 3, 'n_estimators': 100, 'subsample': 1}, mean: -0.99996, std: 0.07450, params: {'colsample_bytree': 1, 'max_depth': 5, 'min_child_weight': 3, 'n_estimators': 200, 'subsample': 0.8}, mean: -1.01476, std: 0.07668, params: {'colsample_bytree': 1, 'max_depth': 5, 'min_child_weight': 3, 'n_estimators': 200, 'subsample': 1}, mean: -0.99579, std: 0.07367, params: {'colsample_bytree': 1, 'max_depth': 7, 'min_child_weight': 1, 'n_estimators': 100, 'subsample': 0.8}, mean: -1.00193, std: 0.06885, params: {'colsample_bytree': 1, 'max_depth': 7, 'min_child_weight': 1, 'n_estimators': 100, 'subsample': 1}, mean: -1.06911, std: 0.09549, params: {'colsample_bytree': 1, 'max_depth': 7, 'min_child_weight': 1, 'n_estimators': 200, 'subsample': 0.8}, mean: -1.03693, std: 0.08953, params: {'colsample_bytree': 1, 'max_depth': 7, 'min_child_weight': 1, 'n_estimators': 200, 'subsample': 1}, mean: -0.98985, std: 0.06490, params: {'colsample_bytree': 1, 'max_depth': 7, 'min_child_weight': 3, 'n_estimators': 100, 'subsample': 0.8}, mean: -1.01186, std: 0.06765, params: {'colsample_bytree': 1, 'max_depth': 7, 'min_child_weight': 3, 'n_estimators': 100, 'subsample': 1}, mean: -1.02979, std: 0.08652, params: {'colsample_bytree': 1, 'max_depth': 7, 'min_child_weight': 3, 'n_estimators': 200, 'subsample': 0.8}, mean: -1.02639, std: 0.08793, params: {'colsample_bytree': 1, 'max_depth': 7, 'min_child_weight': 3, 'n_estimators': 200, 'subsample': 1}]\n",
      "{'colsample_bytree': 0.8, 'max_depth': 7, 'min_child_weight': 3, 'n_estimators': 100, 'subsample': 0.8}\n",
      "-0.98799150285\n",
      "Fitting 5 folds for each of 48 candidates, totalling 240 fits\n"
     ]
    },
    {
     "name": "stderr",
     "output_type": "stream",
     "text": [
      "C:\\Users\\Franck\\Documents\\Continuum\\Anaconda3\\lib\\site-packages\\sklearn\\model_selection\\_search.py:667: DeprecationWarning: The grid_scores_ attribute was deprecated in version 0.18 in favor of the more elaborate cv_results_ attribute. The grid_scores_ attribute will not be available from 0.20\n",
      "  DeprecationWarning)\n",
      "[Parallel(n_jobs=-1)]: Done  42 tasks      | elapsed: 10.3min\n",
      "[Parallel(n_jobs=-1)]: Done 192 tasks      | elapsed: 67.4min\n",
      "[Parallel(n_jobs=-1)]: Done 240 out of 240 | elapsed: 94.2min finished\n"
     ]
    },
    {
     "name": "stdout",
     "output_type": "stream",
     "text": [
      "tfidf_tsvd_100\n",
      "[mean: -0.91554, std: 0.04153, params: {'colsample_bytree': 0.8, 'max_depth': 3, 'min_child_weight': 1, 'n_estimators': 100, 'subsample': 0.8}, mean: -0.92413, std: 0.04066, params: {'colsample_bytree': 0.8, 'max_depth': 3, 'min_child_weight': 1, 'n_estimators': 100, 'subsample': 1}, mean: -0.88847, std: 0.05802, params: {'colsample_bytree': 0.8, 'max_depth': 3, 'min_child_weight': 1, 'n_estimators': 200, 'subsample': 0.8}, mean: -0.88659, std: 0.05416, params: {'colsample_bytree': 0.8, 'max_depth': 3, 'min_child_weight': 1, 'n_estimators': 200, 'subsample': 1}, mean: -0.91610, std: 0.04252, params: {'colsample_bytree': 0.8, 'max_depth': 3, 'min_child_weight': 3, 'n_estimators': 100, 'subsample': 0.8}, mean: -0.92441, std: 0.03528, params: {'colsample_bytree': 0.8, 'max_depth': 3, 'min_child_weight': 3, 'n_estimators': 100, 'subsample': 1}, mean: -0.88585, std: 0.05543, params: {'colsample_bytree': 0.8, 'max_depth': 3, 'min_child_weight': 3, 'n_estimators': 200, 'subsample': 0.8}, mean: -0.88395, std: 0.05074, params: {'colsample_bytree': 0.8, 'max_depth': 3, 'min_child_weight': 3, 'n_estimators': 200, 'subsample': 1}, mean: -0.89044, std: 0.05955, params: {'colsample_bytree': 0.8, 'max_depth': 5, 'min_child_weight': 1, 'n_estimators': 100, 'subsample': 0.8}, mean: -0.88160, std: 0.05815, params: {'colsample_bytree': 0.8, 'max_depth': 5, 'min_child_weight': 1, 'n_estimators': 100, 'subsample': 1}, mean: -0.95667, std: 0.07430, params: {'colsample_bytree': 0.8, 'max_depth': 5, 'min_child_weight': 1, 'n_estimators': 200, 'subsample': 0.8}, mean: -0.93311, std: 0.07024, params: {'colsample_bytree': 0.8, 'max_depth': 5, 'min_child_weight': 1, 'n_estimators': 200, 'subsample': 1}, mean: -0.88664, std: 0.05694, params: {'colsample_bytree': 0.8, 'max_depth': 5, 'min_child_weight': 3, 'n_estimators': 100, 'subsample': 0.8}, mean: -0.87274, std: 0.05181, params: {'colsample_bytree': 0.8, 'max_depth': 5, 'min_child_weight': 3, 'n_estimators': 100, 'subsample': 1}, mean: -0.93369, std: 0.06888, params: {'colsample_bytree': 0.8, 'max_depth': 5, 'min_child_weight': 3, 'n_estimators': 200, 'subsample': 0.8}, mean: -0.91751, std: 0.06505, params: {'colsample_bytree': 0.8, 'max_depth': 5, 'min_child_weight': 3, 'n_estimators': 200, 'subsample': 1}, mean: -0.92980, std: 0.05762, params: {'colsample_bytree': 0.8, 'max_depth': 7, 'min_child_weight': 1, 'n_estimators': 100, 'subsample': 0.8}, mean: -0.91204, std: 0.06112, params: {'colsample_bytree': 0.8, 'max_depth': 7, 'min_child_weight': 1, 'n_estimators': 100, 'subsample': 1}, mean: -1.03594, std: 0.06742, params: {'colsample_bytree': 0.8, 'max_depth': 7, 'min_child_weight': 1, 'n_estimators': 200, 'subsample': 0.8}, mean: -1.01363, std: 0.07201, params: {'colsample_bytree': 0.8, 'max_depth': 7, 'min_child_weight': 1, 'n_estimators': 200, 'subsample': 1}, mean: -0.90925, std: 0.06001, params: {'colsample_bytree': 0.8, 'max_depth': 7, 'min_child_weight': 3, 'n_estimators': 100, 'subsample': 0.8}, mean: -0.90258, std: 0.05873, params: {'colsample_bytree': 0.8, 'max_depth': 7, 'min_child_weight': 3, 'n_estimators': 100, 'subsample': 1}, mean: -0.98317, std: 0.06987, params: {'colsample_bytree': 0.8, 'max_depth': 7, 'min_child_weight': 3, 'n_estimators': 200, 'subsample': 0.8}, mean: -0.98173, std: 0.07001, params: {'colsample_bytree': 0.8, 'max_depth': 7, 'min_child_weight': 3, 'n_estimators': 200, 'subsample': 1}, mean: -0.91606, std: 0.04439, params: {'colsample_bytree': 1, 'max_depth': 3, 'min_child_weight': 1, 'n_estimators': 100, 'subsample': 0.8}, mean: -0.92785, std: 0.03948, params: {'colsample_bytree': 1, 'max_depth': 3, 'min_child_weight': 1, 'n_estimators': 100, 'subsample': 1}, mean: -0.89280, std: 0.05725, params: {'colsample_bytree': 1, 'max_depth': 3, 'min_child_weight': 1, 'n_estimators': 200, 'subsample': 0.8}, mean: -0.88982, std: 0.05375, params: {'colsample_bytree': 1, 'max_depth': 3, 'min_child_weight': 1, 'n_estimators': 200, 'subsample': 1}, mean: -0.91480, std: 0.04319, params: {'colsample_bytree': 1, 'max_depth': 3, 'min_child_weight': 3, 'n_estimators': 100, 'subsample': 0.8}, mean: -0.92697, std: 0.03796, params: {'colsample_bytree': 1, 'max_depth': 3, 'min_child_weight': 3, 'n_estimators': 100, 'subsample': 1}, mean: -0.88708, std: 0.05665, params: {'colsample_bytree': 1, 'max_depth': 3, 'min_child_weight': 3, 'n_estimators': 200, 'subsample': 0.8}, mean: -0.88487, std: 0.05092, params: {'colsample_bytree': 1, 'max_depth': 3, 'min_child_weight': 3, 'n_estimators': 200, 'subsample': 1}, mean: -0.89263, std: 0.05421, params: {'colsample_bytree': 1, 'max_depth': 5, 'min_child_weight': 1, 'n_estimators': 100, 'subsample': 0.8}, mean: -0.88812, std: 0.05432, params: {'colsample_bytree': 1, 'max_depth': 5, 'min_child_weight': 1, 'n_estimators': 100, 'subsample': 1}, mean: -0.96541, std: 0.07203, params: {'colsample_bytree': 1, 'max_depth': 5, 'min_child_weight': 1, 'n_estimators': 200, 'subsample': 0.8}, mean: -0.94167, std: 0.06842, params: {'colsample_bytree': 1, 'max_depth': 5, 'min_child_weight': 1, 'n_estimators': 200, 'subsample': 1}, mean: -0.88725, std: 0.05275, params: {'colsample_bytree': 1, 'max_depth': 5, 'min_child_weight': 3, 'n_estimators': 100, 'subsample': 0.8}, mean: -0.88247, std: 0.05681, params: {'colsample_bytree': 1, 'max_depth': 5, 'min_child_weight': 3, 'n_estimators': 100, 'subsample': 1}, mean: -0.94094, std: 0.06844, params: {'colsample_bytree': 1, 'max_depth': 5, 'min_child_weight': 3, 'n_estimators': 200, 'subsample': 0.8}, mean: -0.92920, std: 0.07135, params: {'colsample_bytree': 1, 'max_depth': 5, 'min_child_weight': 3, 'n_estimators': 200, 'subsample': 1}, mean: -0.93229, std: 0.05640, params: {'colsample_bytree': 1, 'max_depth': 7, 'min_child_weight': 1, 'n_estimators': 100, 'subsample': 0.8}, mean: -0.92617, std: 0.05876, params: {'colsample_bytree': 1, 'max_depth': 7, 'min_child_weight': 1, 'n_estimators': 100, 'subsample': 1}, mean: -1.04139, std: 0.06910, params: {'colsample_bytree': 1, 'max_depth': 7, 'min_child_weight': 1, 'n_estimators': 200, 'subsample': 0.8}, mean: -1.03283, std: 0.07101, params: {'colsample_bytree': 1, 'max_depth': 7, 'min_child_weight': 1, 'n_estimators': 200, 'subsample': 1}, mean: -0.90583, std: 0.05494, params: {'colsample_bytree': 1, 'max_depth': 7, 'min_child_weight': 3, 'n_estimators': 100, 'subsample': 0.8}, mean: -0.91345, std: 0.05653, params: {'colsample_bytree': 1, 'max_depth': 7, 'min_child_weight': 3, 'n_estimators': 100, 'subsample': 1}, mean: -0.98477, std: 0.06433, params: {'colsample_bytree': 1, 'max_depth': 7, 'min_child_weight': 3, 'n_estimators': 200, 'subsample': 0.8}, mean: -0.99532, std: 0.06827, params: {'colsample_bytree': 1, 'max_depth': 7, 'min_child_weight': 3, 'n_estimators': 200, 'subsample': 1}]\n",
      "{'colsample_bytree': 0.8, 'max_depth': 5, 'min_child_weight': 3, 'n_estimators': 100, 'subsample': 1}\n",
      "-0.87273601942\n",
      "Fitting 5 folds for each of 48 candidates, totalling 240 fits\n"
     ]
    },
    {
     "name": "stderr",
     "output_type": "stream",
     "text": [
      "C:\\Users\\Franck\\Documents\\Continuum\\Anaconda3\\lib\\site-packages\\sklearn\\model_selection\\_search.py:667: DeprecationWarning: The grid_scores_ attribute was deprecated in version 0.18 in favor of the more elaborate cv_results_ attribute. The grid_scores_ attribute will not be available from 0.20\n",
      "  DeprecationWarning)\n",
      "[Parallel(n_jobs=-1)]: Done  42 tasks      | elapsed: 12.5min\n",
      "[Parallel(n_jobs=-1)]: Done 192 tasks      | elapsed: 90.6min\n",
      "[Parallel(n_jobs=-1)]: Done 240 out of 240 | elapsed: 125.8min finished\n"
     ]
    },
    {
     "name": "stdout",
     "output_type": "stream",
     "text": [
      "w2v_100\n",
      "[mean: -0.93032, std: 0.03761, params: {'colsample_bytree': 0.8, 'max_depth': 3, 'min_child_weight': 1, 'n_estimators': 100, 'subsample': 0.8}, mean: -0.94576, std: 0.03704, params: {'colsample_bytree': 0.8, 'max_depth': 3, 'min_child_weight': 1, 'n_estimators': 100, 'subsample': 1}, mean: -0.89707, std: 0.04870, params: {'colsample_bytree': 0.8, 'max_depth': 3, 'min_child_weight': 1, 'n_estimators': 200, 'subsample': 0.8}, mean: -0.90587, std: 0.04871, params: {'colsample_bytree': 0.8, 'max_depth': 3, 'min_child_weight': 1, 'n_estimators': 200, 'subsample': 1}, mean: -0.93094, std: 0.03437, params: {'colsample_bytree': 0.8, 'max_depth': 3, 'min_child_weight': 3, 'n_estimators': 100, 'subsample': 0.8}, mean: -0.94363, std: 0.03466, params: {'colsample_bytree': 0.8, 'max_depth': 3, 'min_child_weight': 3, 'n_estimators': 100, 'subsample': 1}, mean: -0.89250, std: 0.04405, params: {'colsample_bytree': 0.8, 'max_depth': 3, 'min_child_weight': 3, 'n_estimators': 200, 'subsample': 0.8}, mean: -0.89994, std: 0.04322, params: {'colsample_bytree': 0.8, 'max_depth': 3, 'min_child_weight': 3, 'n_estimators': 200, 'subsample': 1}, mean: -0.89708, std: 0.04755, params: {'colsample_bytree': 0.8, 'max_depth': 5, 'min_child_weight': 1, 'n_estimators': 100, 'subsample': 0.8}, mean: -0.89127, std: 0.05070, params: {'colsample_bytree': 0.8, 'max_depth': 5, 'min_child_weight': 1, 'n_estimators': 100, 'subsample': 1}, mean: -0.96616, std: 0.06068, params: {'colsample_bytree': 0.8, 'max_depth': 5, 'min_child_weight': 1, 'n_estimators': 200, 'subsample': 0.8}, mean: -0.94205, std: 0.06367, params: {'colsample_bytree': 0.8, 'max_depth': 5, 'min_child_weight': 1, 'n_estimators': 200, 'subsample': 1}, mean: -0.88839, std: 0.04591, params: {'colsample_bytree': 0.8, 'max_depth': 5, 'min_child_weight': 3, 'n_estimators': 100, 'subsample': 0.8}, mean: -0.88599, std: 0.04980, params: {'colsample_bytree': 0.8, 'max_depth': 5, 'min_child_weight': 3, 'n_estimators': 100, 'subsample': 1}, mean: -0.93715, std: 0.05805, params: {'colsample_bytree': 0.8, 'max_depth': 5, 'min_child_weight': 3, 'n_estimators': 200, 'subsample': 0.8}, mean: -0.92563, std: 0.06260, params: {'colsample_bytree': 0.8, 'max_depth': 5, 'min_child_weight': 3, 'n_estimators': 200, 'subsample': 1}, mean: -0.93712, std: 0.06024, params: {'colsample_bytree': 0.8, 'max_depth': 7, 'min_child_weight': 1, 'n_estimators': 100, 'subsample': 0.8}, mean: -0.92067, std: 0.05903, params: {'colsample_bytree': 0.8, 'max_depth': 7, 'min_child_weight': 1, 'n_estimators': 100, 'subsample': 1}, mean: -1.04438, std: 0.06818, params: {'colsample_bytree': 0.8, 'max_depth': 7, 'min_child_weight': 1, 'n_estimators': 200, 'subsample': 0.8}, mean: -1.01836, std: 0.07304, params: {'colsample_bytree': 0.8, 'max_depth': 7, 'min_child_weight': 1, 'n_estimators': 200, 'subsample': 1}, mean: -0.90871, std: 0.05477, params: {'colsample_bytree': 0.8, 'max_depth': 7, 'min_child_weight': 3, 'n_estimators': 100, 'subsample': 0.8}, mean: -0.90166, std: 0.05386, params: {'colsample_bytree': 0.8, 'max_depth': 7, 'min_child_weight': 3, 'n_estimators': 100, 'subsample': 1}, mean: -0.98839, std: 0.06442, params: {'colsample_bytree': 0.8, 'max_depth': 7, 'min_child_weight': 3, 'n_estimators': 200, 'subsample': 0.8}, mean: -0.97320, std: 0.06557, params: {'colsample_bytree': 0.8, 'max_depth': 7, 'min_child_weight': 3, 'n_estimators': 200, 'subsample': 1}, mean: -0.93425, std: 0.03885, params: {'colsample_bytree': 1, 'max_depth': 3, 'min_child_weight': 1, 'n_estimators': 100, 'subsample': 0.8}, mean: -0.94238, std: 0.03433, params: {'colsample_bytree': 1, 'max_depth': 3, 'min_child_weight': 1, 'n_estimators': 100, 'subsample': 1}, mean: -0.90717, std: 0.05147, params: {'colsample_bytree': 1, 'max_depth': 3, 'min_child_weight': 1, 'n_estimators': 200, 'subsample': 0.8}, mean: -0.90630, std: 0.04512, params: {'colsample_bytree': 1, 'max_depth': 3, 'min_child_weight': 1, 'n_estimators': 200, 'subsample': 1}, mean: -0.93264, std: 0.03677, params: {'colsample_bytree': 1, 'max_depth': 3, 'min_child_weight': 3, 'n_estimators': 100, 'subsample': 0.8}, mean: -0.94063, std: 0.03439, params: {'colsample_bytree': 1, 'max_depth': 3, 'min_child_weight': 3, 'n_estimators': 100, 'subsample': 1}, mean: -0.89789, std: 0.04993, params: {'colsample_bytree': 1, 'max_depth': 3, 'min_child_weight': 3, 'n_estimators': 200, 'subsample': 0.8}, mean: -0.90061, std: 0.04397, params: {'colsample_bytree': 1, 'max_depth': 3, 'min_child_weight': 3, 'n_estimators': 200, 'subsample': 1}, mean: -0.90102, std: 0.05185, params: {'colsample_bytree': 1, 'max_depth': 5, 'min_child_weight': 1, 'n_estimators': 100, 'subsample': 0.8}, mean: -0.89497, std: 0.05498, params: {'colsample_bytree': 1, 'max_depth': 5, 'min_child_weight': 1, 'n_estimators': 100, 'subsample': 1}, mean: -0.97424, std: 0.06263, params: {'colsample_bytree': 1, 'max_depth': 5, 'min_child_weight': 1, 'n_estimators': 200, 'subsample': 0.8}, mean: -0.94709, std: 0.07176, params: {'colsample_bytree': 1, 'max_depth': 5, 'min_child_weight': 1, 'n_estimators': 200, 'subsample': 1}, mean: -0.89196, std: 0.05116, params: {'colsample_bytree': 1, 'max_depth': 5, 'min_child_weight': 3, 'n_estimators': 100, 'subsample': 0.8}, mean: -0.88566, std: 0.04898, params: {'colsample_bytree': 1, 'max_depth': 5, 'min_child_weight': 3, 'n_estimators': 100, 'subsample': 1}, mean: -0.94580, std: 0.06587, params: {'colsample_bytree': 1, 'max_depth': 5, 'min_child_weight': 3, 'n_estimators': 200, 'subsample': 0.8}, mean: -0.92880, std: 0.06370, params: {'colsample_bytree': 1, 'max_depth': 5, 'min_child_weight': 3, 'n_estimators': 200, 'subsample': 1}, mean: -0.94369, std: 0.05694, params: {'colsample_bytree': 1, 'max_depth': 7, 'min_child_weight': 1, 'n_estimators': 100, 'subsample': 0.8}, mean: -0.92677, std: 0.06189, params: {'colsample_bytree': 1, 'max_depth': 7, 'min_child_weight': 1, 'n_estimators': 100, 'subsample': 1}, mean: -1.05130, std: 0.06746, params: {'colsample_bytree': 1, 'max_depth': 7, 'min_child_weight': 1, 'n_estimators': 200, 'subsample': 0.8}, mean: -1.03046, std: 0.07684, params: {'colsample_bytree': 1, 'max_depth': 7, 'min_child_weight': 1, 'n_estimators': 200, 'subsample': 1}, mean: -0.91398, std: 0.05503, params: {'colsample_bytree': 1, 'max_depth': 7, 'min_child_weight': 3, 'n_estimators': 100, 'subsample': 0.8}, mean: -0.90267, std: 0.05546, params: {'colsample_bytree': 1, 'max_depth': 7, 'min_child_weight': 3, 'n_estimators': 100, 'subsample': 1}, mean: -0.99602, std: 0.06629, params: {'colsample_bytree': 1, 'max_depth': 7, 'min_child_weight': 3, 'n_estimators': 200, 'subsample': 0.8}, mean: -0.97601, std: 0.06824, params: {'colsample_bytree': 1, 'max_depth': 7, 'min_child_weight': 3, 'n_estimators': 200, 'subsample': 1}]\n",
      "{'colsample_bytree': 1, 'max_depth': 5, 'min_child_weight': 3, 'n_estimators': 100, 'subsample': 1}\n",
      "-0.885656806362\n"
     ]
    },
    {
     "name": "stderr",
     "output_type": "stream",
     "text": [
      "C:\\Users\\Franck\\Documents\\Continuum\\Anaconda3\\lib\\site-packages\\sklearn\\model_selection\\_search.py:667: DeprecationWarning: The grid_scores_ attribute was deprecated in version 0.18 in favor of the more elaborate cv_results_ attribute. The grid_scores_ attribute will not be available from 0.20\n",
      "  DeprecationWarning)\n"
     ]
    }
   ],
   "source": [
    "clf_xgb=XGBClassifier(max_depth=3, objective=\"multi:softprob\",seed=26)\n",
    "param_test= {\n",
    "    \"max_depth\" : [3,5,7],\n",
    "    \"min_child_weight\" : [1,3],\n",
    "    \"n_estimators\" : [100,200],\n",
    "    \"subsample\":[0.8,1],\n",
    "    \"colsample_bytree\":[0.8,1]\n",
    "}\n",
    "for name in work_train_final:\n",
    "    gsearch=GridSearchCV(estimator=clf_xgb, param_grid = param_test,scoring=\"neg_log_loss\",n_jobs=-1,iid=False, cv=kf,verbose=True)\n",
    "    gsearch.fit(np.array(work_train_final[name].drop(\"ID\",axis=1)),y)\n",
    "    print(name)\n",
    "    print(gsearch.grid_scores_)\n",
    "    print(gsearch.best_params_)\n",
    "    print(gsearch.best_score_)\n",
    "#d2v : {'colsample_bytree': 0.8, 'max_depth': 7, 'min_child_weight': 3, 'n_estimators': 100, 'subsample': 0.8}\n",
    "#tfidf : {'colsample_bytree': 0.8, 'max_depth': 5, 'min_child_weight': 3, 'n_estimators': 100, 'subsample': 1}\n",
    "#w2v : {'colsample_bytree': 1, 'max_depth': 5, 'min_child_weight': 3, 'n_estimators': 100, 'subsample': 1}"
   ]
  },
  {
   "cell_type": "code",
   "execution_count": 44,
   "metadata": {
    "collapsed": true
   },
   "outputs": [
    {
     "name": "stdout",
     "output_type": "stream",
     "text": [
      "Fitting 5 folds for each of 48 candidates, totalling 240 fits\n"
     ]
    },
    {
     "name": "stderr",
     "output_type": "stream",
     "text": [
      "[Parallel(n_jobs=-1)]: Done  42 tasks      | elapsed:   24.3s\n",
      "[Parallel(n_jobs=-1)]: Done 192 tasks      | elapsed:  3.7min\n",
      "[Parallel(n_jobs=-1)]: Done 240 out of 240 | elapsed:  5.5min finished\n"
     ]
    },
    {
     "name": "stdout",
     "output_type": "stream",
     "text": [
      "d2v_100\n",
      "[mean: -1.71471, std: 0.00934, params: {'boosting_type': 'gbdt', 'colsample_bytree': 0.7, 'n_estimators': 8, 'num_leaves': 6, 'subsample': 0.7}, mean: -1.71198, std: 0.00720, params: {'boosting_type': 'gbdt', 'colsample_bytree': 0.7, 'n_estimators': 8, 'num_leaves': 6, 'subsample': 0.8}, mean: -1.65478, std: 0.02224, params: {'boosting_type': 'gbdt', 'colsample_bytree': 0.7, 'n_estimators': 8, 'num_leaves': 12, 'subsample': 0.7}, mean: -1.65026, std: 0.01736, params: {'boosting_type': 'gbdt', 'colsample_bytree': 0.7, 'n_estimators': 8, 'num_leaves': 12, 'subsample': 0.8}, mean: -1.63703, std: 0.01133, params: {'boosting_type': 'gbdt', 'colsample_bytree': 0.7, 'n_estimators': 8, 'num_leaves': 16, 'subsample': 0.7}, mean: -1.63596, std: 0.02267, params: {'boosting_type': 'gbdt', 'colsample_bytree': 0.7, 'n_estimators': 8, 'num_leaves': 16, 'subsample': 0.8}, mean: -1.62014, std: 0.01198, params: {'boosting_type': 'gbdt', 'colsample_bytree': 0.7, 'n_estimators': 8, 'num_leaves': 22, 'subsample': 0.7}, mean: -1.61963, std: 0.02007, params: {'boosting_type': 'gbdt', 'colsample_bytree': 0.7, 'n_estimators': 8, 'num_leaves': 22, 'subsample': 0.8}, mean: -1.40123, std: 0.02087, params: {'boosting_type': 'gbdt', 'colsample_bytree': 0.7, 'n_estimators': 24, 'num_leaves': 6, 'subsample': 0.7}, mean: -1.40411, std: 0.02018, params: {'boosting_type': 'gbdt', 'colsample_bytree': 0.7, 'n_estimators': 24, 'num_leaves': 6, 'subsample': 0.8}, mean: -1.32583, std: 0.02570, params: {'boosting_type': 'gbdt', 'colsample_bytree': 0.7, 'n_estimators': 24, 'num_leaves': 12, 'subsample': 0.7}, mean: -1.32519, std: 0.02470, params: {'boosting_type': 'gbdt', 'colsample_bytree': 0.7, 'n_estimators': 24, 'num_leaves': 12, 'subsample': 0.8}, mean: -1.30712, std: 0.02190, params: {'boosting_type': 'gbdt', 'colsample_bytree': 0.7, 'n_estimators': 24, 'num_leaves': 16, 'subsample': 0.7}, mean: -1.30981, std: 0.02733, params: {'boosting_type': 'gbdt', 'colsample_bytree': 0.7, 'n_estimators': 24, 'num_leaves': 16, 'subsample': 0.8}, mean: -1.29615, std: 0.02897, params: {'boosting_type': 'gbdt', 'colsample_bytree': 0.7, 'n_estimators': 24, 'num_leaves': 22, 'subsample': 0.7}, mean: -1.29135, std: 0.02776, params: {'boosting_type': 'gbdt', 'colsample_bytree': 0.7, 'n_estimators': 24, 'num_leaves': 22, 'subsample': 0.8}, mean: -1.26930, std: 0.02649, params: {'boosting_type': 'gbdt', 'colsample_bytree': 0.7, 'n_estimators': 48, 'num_leaves': 6, 'subsample': 0.7}, mean: -1.27241, std: 0.02925, params: {'boosting_type': 'gbdt', 'colsample_bytree': 0.7, 'n_estimators': 48, 'num_leaves': 6, 'subsample': 0.8}, mean: -1.21383, std: 0.03676, params: {'boosting_type': 'gbdt', 'colsample_bytree': 0.7, 'n_estimators': 48, 'num_leaves': 12, 'subsample': 0.7}, mean: -1.21352, std: 0.04300, params: {'boosting_type': 'gbdt', 'colsample_bytree': 0.7, 'n_estimators': 48, 'num_leaves': 12, 'subsample': 0.8}, mean: -1.19508, std: 0.03326, params: {'boosting_type': 'gbdt', 'colsample_bytree': 0.7, 'n_estimators': 48, 'num_leaves': 16, 'subsample': 0.7}, mean: -1.20114, std: 0.04501, params: {'boosting_type': 'gbdt', 'colsample_bytree': 0.7, 'n_estimators': 48, 'num_leaves': 16, 'subsample': 0.8}, mean: -1.18226, std: 0.04133, params: {'boosting_type': 'gbdt', 'colsample_bytree': 0.7, 'n_estimators': 48, 'num_leaves': 22, 'subsample': 0.7}, mean: -1.17783, std: 0.04681, params: {'boosting_type': 'gbdt', 'colsample_bytree': 0.7, 'n_estimators': 48, 'num_leaves': 22, 'subsample': 0.8}, mean: -1.70753, std: 0.00980, params: {'boosting_type': 'gbdt', 'colsample_bytree': 0.8, 'n_estimators': 8, 'num_leaves': 6, 'subsample': 0.7}, mean: -1.70615, std: 0.01023, params: {'boosting_type': 'gbdt', 'colsample_bytree': 0.8, 'n_estimators': 8, 'num_leaves': 6, 'subsample': 0.8}, mean: -1.64858, std: 0.01022, params: {'boosting_type': 'gbdt', 'colsample_bytree': 0.8, 'n_estimators': 8, 'num_leaves': 12, 'subsample': 0.7}, mean: -1.64097, std: 0.01233, params: {'boosting_type': 'gbdt', 'colsample_bytree': 0.8, 'n_estimators': 8, 'num_leaves': 12, 'subsample': 0.8}, mean: -1.62638, std: 0.00972, params: {'boosting_type': 'gbdt', 'colsample_bytree': 0.8, 'n_estimators': 8, 'num_leaves': 16, 'subsample': 0.7}, mean: -1.62377, std: 0.01010, params: {'boosting_type': 'gbdt', 'colsample_bytree': 0.8, 'n_estimators': 8, 'num_leaves': 16, 'subsample': 0.8}, mean: -1.61271, std: 0.00929, params: {'boosting_type': 'gbdt', 'colsample_bytree': 0.8, 'n_estimators': 8, 'num_leaves': 22, 'subsample': 0.7}, mean: -1.61088, std: 0.01873, params: {'boosting_type': 'gbdt', 'colsample_bytree': 0.8, 'n_estimators': 8, 'num_leaves': 22, 'subsample': 0.8}, mean: -1.39452, std: 0.01900, params: {'boosting_type': 'gbdt', 'colsample_bytree': 0.8, 'n_estimators': 24, 'num_leaves': 6, 'subsample': 0.7}, mean: -1.39687, std: 0.01762, params: {'boosting_type': 'gbdt', 'colsample_bytree': 0.8, 'n_estimators': 24, 'num_leaves': 6, 'subsample': 0.8}, mean: -1.32444, std: 0.02110, params: {'boosting_type': 'gbdt', 'colsample_bytree': 0.8, 'n_estimators': 24, 'num_leaves': 12, 'subsample': 0.7}, mean: -1.31843, std: 0.01972, params: {'boosting_type': 'gbdt', 'colsample_bytree': 0.8, 'n_estimators': 24, 'num_leaves': 12, 'subsample': 0.8}, mean: -1.29985, std: 0.02321, params: {'boosting_type': 'gbdt', 'colsample_bytree': 0.8, 'n_estimators': 24, 'num_leaves': 16, 'subsample': 0.7}, mean: -1.29344, std: 0.02681, params: {'boosting_type': 'gbdt', 'colsample_bytree': 0.8, 'n_estimators': 24, 'num_leaves': 16, 'subsample': 0.8}, mean: -1.28347, std: 0.02294, params: {'boosting_type': 'gbdt', 'colsample_bytree': 0.8, 'n_estimators': 24, 'num_leaves': 22, 'subsample': 0.7}, mean: -1.27893, std: 0.02790, params: {'boosting_type': 'gbdt', 'colsample_bytree': 0.8, 'n_estimators': 24, 'num_leaves': 22, 'subsample': 0.8}, mean: -1.27224, std: 0.02598, params: {'boosting_type': 'gbdt', 'colsample_bytree': 0.8, 'n_estimators': 48, 'num_leaves': 6, 'subsample': 0.7}, mean: -1.26941, std: 0.02896, params: {'boosting_type': 'gbdt', 'colsample_bytree': 0.8, 'n_estimators': 48, 'num_leaves': 6, 'subsample': 0.8}, mean: -1.21501, std: 0.03306, params: {'boosting_type': 'gbdt', 'colsample_bytree': 0.8, 'n_estimators': 48, 'num_leaves': 12, 'subsample': 0.7}, mean: -1.21042, std: 0.04014, params: {'boosting_type': 'gbdt', 'colsample_bytree': 0.8, 'n_estimators': 48, 'num_leaves': 12, 'subsample': 0.8}, mean: -1.18758, std: 0.03266, params: {'boosting_type': 'gbdt', 'colsample_bytree': 0.8, 'n_estimators': 48, 'num_leaves': 16, 'subsample': 0.7}, mean: -1.19110, std: 0.04547, params: {'boosting_type': 'gbdt', 'colsample_bytree': 0.8, 'n_estimators': 48, 'num_leaves': 16, 'subsample': 0.8}, mean: -1.17187, std: 0.03659, params: {'boosting_type': 'gbdt', 'colsample_bytree': 0.8, 'n_estimators': 48, 'num_leaves': 22, 'subsample': 0.7}, mean: -1.16844, std: 0.04515, params: {'boosting_type': 'gbdt', 'colsample_bytree': 0.8, 'n_estimators': 48, 'num_leaves': 22, 'subsample': 0.8}]\n",
      "{'boosting_type': 'gbdt', 'colsample_bytree': 0.8, 'n_estimators': 48, 'num_leaves': 22, 'subsample': 0.8}\n",
      "-1.16844338777\n",
      "Fitting 5 folds for each of 48 candidates, totalling 240 fits\n"
     ]
    },
    {
     "name": "stderr",
     "output_type": "stream",
     "text": [
      "C:\\Users\\Franck\\Documents\\Continuum\\Anaconda3\\lib\\site-packages\\sklearn\\model_selection\\_search.py:667: DeprecationWarning: The grid_scores_ attribute was deprecated in version 0.18 in favor of the more elaborate cv_results_ attribute. The grid_scores_ attribute will not be available from 0.20\n",
      "  DeprecationWarning)\n",
      "[Parallel(n_jobs=-1)]: Done  42 tasks      | elapsed:   32.2s\n",
      "[Parallel(n_jobs=-1)]: Done 192 tasks      | elapsed:  5.5min\n",
      "[Parallel(n_jobs=-1)]: Done 240 out of 240 | elapsed:  8.5min finished\n"
     ]
    },
    {
     "name": "stdout",
     "output_type": "stream",
     "text": [
      "tfidf_tsvd_100\n",
      "[mean: -1.59855, std: 0.01637, params: {'boosting_type': 'gbdt', 'colsample_bytree': 0.7, 'n_estimators': 8, 'num_leaves': 6, 'subsample': 0.7}, mean: -1.59189, std: 0.01554, params: {'boosting_type': 'gbdt', 'colsample_bytree': 0.7, 'n_estimators': 8, 'num_leaves': 6, 'subsample': 0.8}, mean: -1.53482, std: 0.01789, params: {'boosting_type': 'gbdt', 'colsample_bytree': 0.7, 'n_estimators': 8, 'num_leaves': 12, 'subsample': 0.7}, mean: -1.52955, std: 0.01667, params: {'boosting_type': 'gbdt', 'colsample_bytree': 0.7, 'n_estimators': 8, 'num_leaves': 12, 'subsample': 0.8}, mean: -1.51620, std: 0.01840, params: {'boosting_type': 'gbdt', 'colsample_bytree': 0.7, 'n_estimators': 8, 'num_leaves': 16, 'subsample': 0.7}, mean: -1.50908, std: 0.01384, params: {'boosting_type': 'gbdt', 'colsample_bytree': 0.7, 'n_estimators': 8, 'num_leaves': 16, 'subsample': 0.8}, mean: -1.49688, std: 0.01829, params: {'boosting_type': 'gbdt', 'colsample_bytree': 0.7, 'n_estimators': 8, 'num_leaves': 22, 'subsample': 0.7}, mean: -1.48604, std: 0.01470, params: {'boosting_type': 'gbdt', 'colsample_bytree': 0.7, 'n_estimators': 8, 'num_leaves': 22, 'subsample': 0.8}, mean: -1.22447, std: 0.02130, params: {'boosting_type': 'gbdt', 'colsample_bytree': 0.7, 'n_estimators': 24, 'num_leaves': 6, 'subsample': 0.7}, mean: -1.22176, std: 0.02416, params: {'boosting_type': 'gbdt', 'colsample_bytree': 0.7, 'n_estimators': 24, 'num_leaves': 6, 'subsample': 0.8}, mean: -1.13658, std: 0.02114, params: {'boosting_type': 'gbdt', 'colsample_bytree': 0.7, 'n_estimators': 24, 'num_leaves': 12, 'subsample': 0.7}, mean: -1.13600, std: 0.02406, params: {'boosting_type': 'gbdt', 'colsample_bytree': 0.7, 'n_estimators': 24, 'num_leaves': 12, 'subsample': 0.8}, mean: -1.11283, std: 0.02366, params: {'boosting_type': 'gbdt', 'colsample_bytree': 0.7, 'n_estimators': 24, 'num_leaves': 16, 'subsample': 0.7}, mean: -1.11236, std: 0.01930, params: {'boosting_type': 'gbdt', 'colsample_bytree': 0.7, 'n_estimators': 24, 'num_leaves': 16, 'subsample': 0.8}, mean: -1.08738, std: 0.02261, params: {'boosting_type': 'gbdt', 'colsample_bytree': 0.7, 'n_estimators': 24, 'num_leaves': 22, 'subsample': 0.7}, mean: -1.07987, std: 0.02242, params: {'boosting_type': 'gbdt', 'colsample_bytree': 0.7, 'n_estimators': 24, 'num_leaves': 22, 'subsample': 0.8}, mean: -1.04445, std: 0.02697, params: {'boosting_type': 'gbdt', 'colsample_bytree': 0.7, 'n_estimators': 48, 'num_leaves': 6, 'subsample': 0.7}, mean: -1.04293, std: 0.03023, params: {'boosting_type': 'gbdt', 'colsample_bytree': 0.7, 'n_estimators': 48, 'num_leaves': 6, 'subsample': 0.8}, mean: -0.96458, std: 0.03078, params: {'boosting_type': 'gbdt', 'colsample_bytree': 0.7, 'n_estimators': 48, 'num_leaves': 12, 'subsample': 0.7}, mean: -0.96350, std: 0.03400, params: {'boosting_type': 'gbdt', 'colsample_bytree': 0.7, 'n_estimators': 48, 'num_leaves': 12, 'subsample': 0.8}, mean: -0.94805, std: 0.03119, params: {'boosting_type': 'gbdt', 'colsample_bytree': 0.7, 'n_estimators': 48, 'num_leaves': 16, 'subsample': 0.7}, mean: -0.94547, std: 0.03351, params: {'boosting_type': 'gbdt', 'colsample_bytree': 0.7, 'n_estimators': 48, 'num_leaves': 16, 'subsample': 0.8}, mean: -0.92979, std: 0.03410, params: {'boosting_type': 'gbdt', 'colsample_bytree': 0.7, 'n_estimators': 48, 'num_leaves': 22, 'subsample': 0.7}, mean: -0.92298, std: 0.03888, params: {'boosting_type': 'gbdt', 'colsample_bytree': 0.7, 'n_estimators': 48, 'num_leaves': 22, 'subsample': 0.8}, mean: -1.59209, std: 0.01376, params: {'boosting_type': 'gbdt', 'colsample_bytree': 0.8, 'n_estimators': 8, 'num_leaves': 6, 'subsample': 0.7}, mean: -1.58368, std: 0.01465, params: {'boosting_type': 'gbdt', 'colsample_bytree': 0.8, 'n_estimators': 8, 'num_leaves': 6, 'subsample': 0.8}, mean: -1.52896, std: 0.01631, params: {'boosting_type': 'gbdt', 'colsample_bytree': 0.8, 'n_estimators': 8, 'num_leaves': 12, 'subsample': 0.7}, mean: -1.52444, std: 0.01013, params: {'boosting_type': 'gbdt', 'colsample_bytree': 0.8, 'n_estimators': 8, 'num_leaves': 12, 'subsample': 0.8}, mean: -1.50601, std: 0.01674, params: {'boosting_type': 'gbdt', 'colsample_bytree': 0.8, 'n_estimators': 8, 'num_leaves': 16, 'subsample': 0.7}, mean: -1.49747, std: 0.01234, params: {'boosting_type': 'gbdt', 'colsample_bytree': 0.8, 'n_estimators': 8, 'num_leaves': 16, 'subsample': 0.8}, mean: -1.48948, std: 0.02115, params: {'boosting_type': 'gbdt', 'colsample_bytree': 0.8, 'n_estimators': 8, 'num_leaves': 22, 'subsample': 0.7}, mean: -1.48164, std: 0.01317, params: {'boosting_type': 'gbdt', 'colsample_bytree': 0.8, 'n_estimators': 8, 'num_leaves': 22, 'subsample': 0.8}, mean: -1.22195, std: 0.02297, params: {'boosting_type': 'gbdt', 'colsample_bytree': 0.8, 'n_estimators': 24, 'num_leaves': 6, 'subsample': 0.7}, mean: -1.21750, std: 0.02203, params: {'boosting_type': 'gbdt', 'colsample_bytree': 0.8, 'n_estimators': 24, 'num_leaves': 6, 'subsample': 0.8}, mean: -1.13366, std: 0.02041, params: {'boosting_type': 'gbdt', 'colsample_bytree': 0.8, 'n_estimators': 24, 'num_leaves': 12, 'subsample': 0.7}, mean: -1.12991, std: 0.01841, params: {'boosting_type': 'gbdt', 'colsample_bytree': 0.8, 'n_estimators': 24, 'num_leaves': 12, 'subsample': 0.8}, mean: -1.10331, std: 0.02228, params: {'boosting_type': 'gbdt', 'colsample_bytree': 0.8, 'n_estimators': 24, 'num_leaves': 16, 'subsample': 0.7}, mean: -1.09950, std: 0.02090, params: {'boosting_type': 'gbdt', 'colsample_bytree': 0.8, 'n_estimators': 24, 'num_leaves': 16, 'subsample': 0.8}, mean: -1.08580, std: 0.02496, params: {'boosting_type': 'gbdt', 'colsample_bytree': 0.8, 'n_estimators': 24, 'num_leaves': 22, 'subsample': 0.7}, mean: -1.07888, std: 0.02002, params: {'boosting_type': 'gbdt', 'colsample_bytree': 0.8, 'n_estimators': 24, 'num_leaves': 22, 'subsample': 0.8}, mean: -1.04189, std: 0.02728, params: {'boosting_type': 'gbdt', 'colsample_bytree': 0.8, 'n_estimators': 48, 'num_leaves': 6, 'subsample': 0.7}, mean: -1.03874, std: 0.02775, params: {'boosting_type': 'gbdt', 'colsample_bytree': 0.8, 'n_estimators': 48, 'num_leaves': 6, 'subsample': 0.8}, mean: -0.96332, std: 0.02802, params: {'boosting_type': 'gbdt', 'colsample_bytree': 0.8, 'n_estimators': 48, 'num_leaves': 12, 'subsample': 0.7}, mean: -0.95832, std: 0.03068, params: {'boosting_type': 'gbdt', 'colsample_bytree': 0.8, 'n_estimators': 48, 'num_leaves': 12, 'subsample': 0.8}, mean: -0.93899, std: 0.03168, params: {'boosting_type': 'gbdt', 'colsample_bytree': 0.8, 'n_estimators': 48, 'num_leaves': 16, 'subsample': 0.7}, mean: -0.93365, std: 0.03138, params: {'boosting_type': 'gbdt', 'colsample_bytree': 0.8, 'n_estimators': 48, 'num_leaves': 16, 'subsample': 0.8}, mean: -0.92825, std: 0.03650, params: {'boosting_type': 'gbdt', 'colsample_bytree': 0.8, 'n_estimators': 48, 'num_leaves': 22, 'subsample': 0.7}, mean: -0.92395, std: 0.03686, params: {'boosting_type': 'gbdt', 'colsample_bytree': 0.8, 'n_estimators': 48, 'num_leaves': 22, 'subsample': 0.8}]\n",
      "{'boosting_type': 'gbdt', 'colsample_bytree': 0.7, 'n_estimators': 48, 'num_leaves': 22, 'subsample': 0.8}\n",
      "-0.922979447054\n",
      "Fitting 5 folds for each of 48 candidates, totalling 240 fits\n"
     ]
    },
    {
     "name": "stderr",
     "output_type": "stream",
     "text": [
      "C:\\Users\\Franck\\Documents\\Continuum\\Anaconda3\\lib\\site-packages\\sklearn\\model_selection\\_search.py:667: DeprecationWarning: The grid_scores_ attribute was deprecated in version 0.18 in favor of the more elaborate cv_results_ attribute. The grid_scores_ attribute will not be available from 0.20\n",
      "  DeprecationWarning)\n",
      "[Parallel(n_jobs=-1)]: Done  42 tasks      | elapsed:   40.5s\n",
      "[Parallel(n_jobs=-1)]: Done 192 tasks      | elapsed:  6.9min\n",
      "[Parallel(n_jobs=-1)]: Done 240 out of 240 | elapsed: 10.7min finished\n"
     ]
    },
    {
     "name": "stdout",
     "output_type": "stream",
     "text": [
      "w2v_100\n",
      "[mean: -1.61438, std: 0.01175, params: {'boosting_type': 'gbdt', 'colsample_bytree': 0.7, 'n_estimators': 8, 'num_leaves': 6, 'subsample': 0.7}, mean: -1.61260, std: 0.00565, params: {'boosting_type': 'gbdt', 'colsample_bytree': 0.7, 'n_estimators': 8, 'num_leaves': 6, 'subsample': 0.8}, mean: -1.55027, std: 0.01063, params: {'boosting_type': 'gbdt', 'colsample_bytree': 0.7, 'n_estimators': 8, 'num_leaves': 12, 'subsample': 0.7}, mean: -1.54867, std: 0.00930, params: {'boosting_type': 'gbdt', 'colsample_bytree': 0.7, 'n_estimators': 8, 'num_leaves': 12, 'subsample': 0.8}, mean: -1.52788, std: 0.01277, params: {'boosting_type': 'gbdt', 'colsample_bytree': 0.7, 'n_estimators': 8, 'num_leaves': 16, 'subsample': 0.7}, mean: -1.52228, std: 0.01232, params: {'boosting_type': 'gbdt', 'colsample_bytree': 0.7, 'n_estimators': 8, 'num_leaves': 16, 'subsample': 0.8}, mean: -1.50684, std: 0.01323, params: {'boosting_type': 'gbdt', 'colsample_bytree': 0.7, 'n_estimators': 8, 'num_leaves': 22, 'subsample': 0.7}, mean: -1.50245, std: 0.01157, params: {'boosting_type': 'gbdt', 'colsample_bytree': 0.7, 'n_estimators': 8, 'num_leaves': 22, 'subsample': 0.8}, mean: -1.24414, std: 0.02279, params: {'boosting_type': 'gbdt', 'colsample_bytree': 0.7, 'n_estimators': 24, 'num_leaves': 6, 'subsample': 0.7}, mean: -1.24503, std: 0.01693, params: {'boosting_type': 'gbdt', 'colsample_bytree': 0.7, 'n_estimators': 24, 'num_leaves': 6, 'subsample': 0.8}, mean: -1.15575, std: 0.01824, params: {'boosting_type': 'gbdt', 'colsample_bytree': 0.7, 'n_estimators': 24, 'num_leaves': 12, 'subsample': 0.7}, mean: -1.15301, std: 0.02030, params: {'boosting_type': 'gbdt', 'colsample_bytree': 0.7, 'n_estimators': 24, 'num_leaves': 12, 'subsample': 0.8}, mean: -1.12829, std: 0.02228, params: {'boosting_type': 'gbdt', 'colsample_bytree': 0.7, 'n_estimators': 24, 'num_leaves': 16, 'subsample': 0.7}, mean: -1.12514, std: 0.02135, params: {'boosting_type': 'gbdt', 'colsample_bytree': 0.7, 'n_estimators': 24, 'num_leaves': 16, 'subsample': 0.8}, mean: -1.10256, std: 0.01990, params: {'boosting_type': 'gbdt', 'colsample_bytree': 0.7, 'n_estimators': 24, 'num_leaves': 22, 'subsample': 0.7}, mean: -1.10012, std: 0.01506, params: {'boosting_type': 'gbdt', 'colsample_bytree': 0.7, 'n_estimators': 24, 'num_leaves': 22, 'subsample': 0.8}, mean: -1.06675, std: 0.02948, params: {'boosting_type': 'gbdt', 'colsample_bytree': 0.7, 'n_estimators': 48, 'num_leaves': 6, 'subsample': 0.7}, mean: -1.06831, std: 0.02488, params: {'boosting_type': 'gbdt', 'colsample_bytree': 0.7, 'n_estimators': 48, 'num_leaves': 6, 'subsample': 0.8}, mean: -0.98571, std: 0.02479, params: {'boosting_type': 'gbdt', 'colsample_bytree': 0.7, 'n_estimators': 48, 'num_leaves': 12, 'subsample': 0.7}, mean: -0.97802, std: 0.02891, params: {'boosting_type': 'gbdt', 'colsample_bytree': 0.7, 'n_estimators': 48, 'num_leaves': 12, 'subsample': 0.8}, mean: -0.96199, std: 0.02994, params: {'boosting_type': 'gbdt', 'colsample_bytree': 0.7, 'n_estimators': 48, 'num_leaves': 16, 'subsample': 0.7}, mean: -0.96234, std: 0.03328, params: {'boosting_type': 'gbdt', 'colsample_bytree': 0.7, 'n_estimators': 48, 'num_leaves': 16, 'subsample': 0.8}, mean: -0.94585, std: 0.03149, params: {'boosting_type': 'gbdt', 'colsample_bytree': 0.7, 'n_estimators': 48, 'num_leaves': 22, 'subsample': 0.7}, mean: -0.94393, std: 0.03289, params: {'boosting_type': 'gbdt', 'colsample_bytree': 0.7, 'n_estimators': 48, 'num_leaves': 22, 'subsample': 0.8}, mean: -1.60875, std: 0.01287, params: {'boosting_type': 'gbdt', 'colsample_bytree': 0.8, 'n_estimators': 8, 'num_leaves': 6, 'subsample': 0.7}, mean: -1.60784, std: 0.00964, params: {'boosting_type': 'gbdt', 'colsample_bytree': 0.8, 'n_estimators': 8, 'num_leaves': 6, 'subsample': 0.8}, mean: -1.54048, std: 0.01229, params: {'boosting_type': 'gbdt', 'colsample_bytree': 0.8, 'n_estimators': 8, 'num_leaves': 12, 'subsample': 0.7}, mean: -1.53635, std: 0.00672, params: {'boosting_type': 'gbdt', 'colsample_bytree': 0.8, 'n_estimators': 8, 'num_leaves': 12, 'subsample': 0.8}, mean: -1.52099, std: 0.01124, params: {'boosting_type': 'gbdt', 'colsample_bytree': 0.8, 'n_estimators': 8, 'num_leaves': 16, 'subsample': 0.7}, mean: -1.51206, std: 0.00620, params: {'boosting_type': 'gbdt', 'colsample_bytree': 0.8, 'n_estimators': 8, 'num_leaves': 16, 'subsample': 0.8}, mean: -1.50120, std: 0.01406, params: {'boosting_type': 'gbdt', 'colsample_bytree': 0.8, 'n_estimators': 8, 'num_leaves': 22, 'subsample': 0.7}, mean: -1.48673, std: 0.00536, params: {'boosting_type': 'gbdt', 'colsample_bytree': 0.8, 'n_estimators': 8, 'num_leaves': 22, 'subsample': 0.8}, mean: -1.24235, std: 0.02170, params: {'boosting_type': 'gbdt', 'colsample_bytree': 0.8, 'n_estimators': 24, 'num_leaves': 6, 'subsample': 0.7}, mean: -1.24344, std: 0.01770, params: {'boosting_type': 'gbdt', 'colsample_bytree': 0.8, 'n_estimators': 24, 'num_leaves': 6, 'subsample': 0.8}, mean: -1.14489, std: 0.01893, params: {'boosting_type': 'gbdt', 'colsample_bytree': 0.8, 'n_estimators': 24, 'num_leaves': 12, 'subsample': 0.7}, mean: -1.14808, std: 0.01440, params: {'boosting_type': 'gbdt', 'colsample_bytree': 0.8, 'n_estimators': 24, 'num_leaves': 12, 'subsample': 0.8}, mean: -1.12317, std: 0.02086, params: {'boosting_type': 'gbdt', 'colsample_bytree': 0.8, 'n_estimators': 24, 'num_leaves': 16, 'subsample': 0.7}, mean: -1.11574, std: 0.01726, params: {'boosting_type': 'gbdt', 'colsample_bytree': 0.8, 'n_estimators': 24, 'num_leaves': 16, 'subsample': 0.8}, mean: -1.09914, std: 0.02020, params: {'boosting_type': 'gbdt', 'colsample_bytree': 0.8, 'n_estimators': 24, 'num_leaves': 22, 'subsample': 0.7}, mean: -1.08621, std: 0.01432, params: {'boosting_type': 'gbdt', 'colsample_bytree': 0.8, 'n_estimators': 24, 'num_leaves': 22, 'subsample': 0.8}, mean: -1.06709, std: 0.02627, params: {'boosting_type': 'gbdt', 'colsample_bytree': 0.8, 'n_estimators': 48, 'num_leaves': 6, 'subsample': 0.7}, mean: -1.06908, std: 0.02798, params: {'boosting_type': 'gbdt', 'colsample_bytree': 0.8, 'n_estimators': 48, 'num_leaves': 6, 'subsample': 0.8}, mean: -0.97864, std: 0.02923, params: {'boosting_type': 'gbdt', 'colsample_bytree': 0.8, 'n_estimators': 48, 'num_leaves': 12, 'subsample': 0.7}, mean: -0.97943, std: 0.03076, params: {'boosting_type': 'gbdt', 'colsample_bytree': 0.8, 'n_estimators': 48, 'num_leaves': 12, 'subsample': 0.8}, mean: -0.95999, std: 0.03461, params: {'boosting_type': 'gbdt', 'colsample_bytree': 0.8, 'n_estimators': 48, 'num_leaves': 16, 'subsample': 0.7}, mean: -0.95186, std: 0.03177, params: {'boosting_type': 'gbdt', 'colsample_bytree': 0.8, 'n_estimators': 48, 'num_leaves': 16, 'subsample': 0.8}, mean: -0.94524, std: 0.03637, params: {'boosting_type': 'gbdt', 'colsample_bytree': 0.8, 'n_estimators': 48, 'num_leaves': 22, 'subsample': 0.7}, mean: -0.93148, std: 0.02966, params: {'boosting_type': 'gbdt', 'colsample_bytree': 0.8, 'n_estimators': 48, 'num_leaves': 22, 'subsample': 0.8}]\n",
      "{'boosting_type': 'gbdt', 'colsample_bytree': 0.8, 'n_estimators': 48, 'num_leaves': 22, 'subsample': 0.8}\n",
      "-0.931482969854\n"
     ]
    },
    {
     "name": "stderr",
     "output_type": "stream",
     "text": [
      "C:\\Users\\Franck\\Documents\\Continuum\\Anaconda3\\lib\\site-packages\\sklearn\\model_selection\\_search.py:667: DeprecationWarning: The grid_scores_ attribute was deprecated in version 0.18 in favor of the more elaborate cv_results_ attribute. The grid_scores_ attribute will not be available from 0.20\n",
      "  DeprecationWarning)\n"
     ]
    }
   ],
   "source": [
    "clf_lgbm=LGBMClassifier(seed=26)\n",
    "param_test= {\n",
    "    'n_estimators': [8,24,48],\n",
    "    'num_leaves': [6,12,16,22],\n",
    "    'boosting_type' : ['gbdt'],\n",
    "    'colsample_bytree' : [0.7,0.8],\n",
    "    'subsample' : [0.7,0.8]\n",
    "    }\n",
    "for name in work_train_final:\n",
    "    gsearch=GridSearchCV(estimator=clf_lgbm, param_grid = param_test,scoring=\"neg_log_loss\",n_jobs=-1,iid=False, cv=kf,verbose=True)\n",
    "    gsearch.fit(np.array(work_train_final[name].drop(\"ID\",axis=1)),y)\n",
    "    print(name)\n",
    "    print(gsearch.grid_scores_)\n",
    "    print(gsearch.best_params_)\n",
    "    print(gsearch.best_score_)\n",
    "#d2v : {'boosting_type': 'gbdt', 'colsample_bytree': 0.8, 'n_estimators': 48, 'num_leaves': 22, 'subsample': 0.8}\n",
    "#tfidf : {'boosting_type': 'gbdt', 'colsample_bytree': 0.7, 'n_estimators': 48, 'num_leaves': 22, 'subsample': 0.8}\n",
    "#w2v : {'boosting_type': 'gbdt', 'colsample_bytree': 0.8, 'n_estimators': 48, 'num_leaves': 22, 'subsample': 0.8}"
   ]
  },
  {
   "cell_type": "code",
   "execution_count": 45,
   "metadata": {
    "collapsed": true
   },
   "outputs": [
    {
     "name": "stdout",
     "output_type": "stream",
     "text": [
      "Fitting 5 folds for each of 14 candidates, totalling 70 fits\n"
     ]
    },
    {
     "name": "stderr",
     "output_type": "stream",
     "text": [
      "[Parallel(n_jobs=-1)]: Done  42 tasks      | elapsed:   17.0s\n",
      "[Parallel(n_jobs=-1)]: Done  70 out of  70 | elapsed:   43.4s finished\n"
     ]
    },
    {
     "name": "stdout",
     "output_type": "stream",
     "text": [
      "d2v_100\n",
      "[mean: -1.86803, std: 0.03398, params: {'C': 0.001, 'penalty': 'l1'}, mean: -1.85301, std: 0.03435, params: {'C': 0.001, 'penalty': 'l2'}, mean: -1.85695, std: 0.03592, params: {'C': 0.01, 'penalty': 'l1'}, mean: -1.76132, std: 0.02708, params: {'C': 0.01, 'penalty': 'l2'}, mean: -1.48878, std: 0.03079, params: {'C': 0.1, 'penalty': 'l1'}, mean: -1.70851, std: 0.02299, params: {'C': 0.1, 'penalty': 'l2'}, mean: -1.28133, std: 0.02638, params: {'C': 1, 'penalty': 'l1'}, mean: -1.62934, std: 0.04810, params: {'C': 1, 'penalty': 'l2'}, mean: -1.26483, std: 0.03273, params: {'C': 10, 'penalty': 'l1'}, mean: -1.62548, std: 0.04035, params: {'C': 10, 'penalty': 'l2'}, mean: -1.31990, std: 0.04065, params: {'C': 100, 'penalty': 'l1'}, mean: -1.64046, std: 0.03516, params: {'C': 100, 'penalty': 'l2'}, mean: -1.41898, std: 0.06563, params: {'C': 1000, 'penalty': 'l1'}, mean: -1.63924, std: 0.03499, params: {'C': 1000, 'penalty': 'l2'}]\n",
      "{'C': 10, 'penalty': 'l1'}\n",
      "-1.2648347351\n",
      "Fitting 5 folds for each of 14 candidates, totalling 70 fits\n"
     ]
    },
    {
     "name": "stderr",
     "output_type": "stream",
     "text": [
      "C:\\Users\\Franck\\Documents\\Continuum\\Anaconda3\\lib\\site-packages\\sklearn\\model_selection\\_search.py:667: DeprecationWarning: The grid_scores_ attribute was deprecated in version 0.18 in favor of the more elaborate cv_results_ attribute. The grid_scores_ attribute will not be available from 0.20\n",
      "  DeprecationWarning)\n",
      "[Parallel(n_jobs=-1)]: Done  42 tasks      | elapsed:   48.5s\n",
      "[Parallel(n_jobs=-1)]: Done  70 out of  70 | elapsed:  2.0min finished\n"
     ]
    },
    {
     "name": "stdout",
     "output_type": "stream",
     "text": [
      "tfidf_tsvd_100\n",
      "[mean: -1.86803, std: 0.03398, params: {'C': 0.001, 'penalty': 'l1'}, mean: -1.84770, std: 0.03393, params: {'C': 0.001, 'penalty': 'l2'}, mean: -1.85690, std: 0.03590, params: {'C': 0.01, 'penalty': 'l1'}, mean: -1.72502, std: 0.03332, params: {'C': 0.01, 'penalty': 'l2'}, mean: -1.37320, std: 0.03032, params: {'C': 0.1, 'penalty': 'l1'}, mean: -1.54961, std: 0.03515, params: {'C': 0.1, 'penalty': 'l2'}, mean: -1.04443, std: 0.03156, params: {'C': 1, 'penalty': 'l1'}, mean: -1.50064, std: 0.04759, params: {'C': 1, 'penalty': 'l2'}, mean: -0.97721, std: 0.03534, params: {'C': 10, 'penalty': 'l1'}, mean: -1.46547, std: 0.04555, params: {'C': 10, 'penalty': 'l2'}, mean: -1.11089, std: 0.06555, params: {'C': 100, 'penalty': 'l1'}, mean: -1.47910, std: 0.05720, params: {'C': 100, 'penalty': 'l2'}, mean: -1.25983, std: 0.09510, params: {'C': 1000, 'penalty': 'l1'}, mean: -1.47220, std: 0.03731, params: {'C': 1000, 'penalty': 'l2'}]\n",
      "{'C': 10, 'penalty': 'l1'}\n",
      "-0.977210584672\n",
      "Fitting 5 folds for each of 14 candidates, totalling 70 fits\n"
     ]
    },
    {
     "name": "stderr",
     "output_type": "stream",
     "text": [
      "C:\\Users\\Franck\\Documents\\Continuum\\Anaconda3\\lib\\site-packages\\sklearn\\model_selection\\_search.py:667: DeprecationWarning: The grid_scores_ attribute was deprecated in version 0.18 in favor of the more elaborate cv_results_ attribute. The grid_scores_ attribute will not be available from 0.20\n",
      "  DeprecationWarning)\n",
      "[Parallel(n_jobs=-1)]: Done  42 tasks      | elapsed:  1.1min\n",
      "[Parallel(n_jobs=-1)]: Done  70 out of  70 | elapsed:  3.6min finished\n"
     ]
    },
    {
     "name": "stdout",
     "output_type": "stream",
     "text": [
      "w2v_100\n",
      "[mean: -1.86803, std: 0.03397, params: {'C': 0.001, 'penalty': 'l1'}, mean: -1.73130, std: 0.02830, params: {'C': 0.001, 'penalty': 'l2'}, mean: -1.79844, std: 0.03595, params: {'C': 0.01, 'penalty': 'l1'}, mean: -1.49137, std: 0.02284, params: {'C': 0.01, 'penalty': 'l2'}, mean: -1.32659, std: 0.03685, params: {'C': 0.1, 'penalty': 'l1'}, mean: -1.34454, std: 0.01237, params: {'C': 0.1, 'penalty': 'l2'}, mean: -1.07196, std: 0.04045, params: {'C': 1, 'penalty': 'l1'}, mean: -1.28040, std: 0.04270, params: {'C': 1, 'penalty': 'l2'}, mean: -1.06280, std: 0.05567, params: {'C': 10, 'penalty': 'l1'}, mean: -1.28403, std: 0.04111, params: {'C': 10, 'penalty': 'l2'}, mean: -1.16657, std: 0.09201, params: {'C': 100, 'penalty': 'l1'}, mean: -1.29447, std: 0.02789, params: {'C': 100, 'penalty': 'l2'}, mean: -1.23551, std: 0.11745, params: {'C': 1000, 'penalty': 'l1'}, mean: -1.27845, std: 0.04311, params: {'C': 1000, 'penalty': 'l2'}]\n",
      "{'C': 10, 'penalty': 'l1'}\n",
      "-1.06279894516\n"
     ]
    },
    {
     "name": "stderr",
     "output_type": "stream",
     "text": [
      "C:\\Users\\Franck\\Documents\\Continuum\\Anaconda3\\lib\\site-packages\\sklearn\\model_selection\\_search.py:667: DeprecationWarning: The grid_scores_ attribute was deprecated in version 0.18 in favor of the more elaborate cv_results_ attribute. The grid_scores_ attribute will not be available from 0.20\n",
      "  DeprecationWarning)\n"
     ]
    }
   ],
   "source": [
    "clf_log=LogisticRegression()\n",
    "param_test= {\n",
    "    \"C\" : [0.001, 0.01, 0.1, 1, 10, 100, 1000],\n",
    "    \"penalty\" : [\"l1\",\"l2\"]\n",
    "}\n",
    "for name in work_train_final:\n",
    "    gsearch=GridSearchCV(estimator=clf_log, param_grid = param_test,scoring=\"neg_log_loss\",n_jobs=-1,iid=False, cv=kf,verbose=True)\n",
    "    gsearch.fit(np.array(work_train_final[name].drop(\"ID\",axis=1)),y)\n",
    "    print(name)\n",
    "    print(gsearch.grid_scores_)\n",
    "    print(gsearch.best_params_)\n",
    "    print(gsearch.best_score_)\n",
    "#d2v : {'C': 10, 'penalty': 'l1'}\n",
    "#tfidf : {'C': 10, 'penalty': 'l1'}\n",
    "#w2v : {'C': 10, 'penalty': 'l1'}"
   ]
  },
  {
   "cell_type": "code",
   "execution_count": 46,
   "metadata": {
    "collapsed": true
   },
   "outputs": [
    {
     "name": "stdout",
     "output_type": "stream",
     "text": [
      "Fitting 5 folds for each of 8 candidates, totalling 40 fits\n"
     ]
    },
    {
     "name": "stderr",
     "output_type": "stream",
     "text": [
      "[Parallel(n_jobs=-1)]: Done  40 out of  40 | elapsed:   46.5s finished\n"
     ]
    },
    {
     "name": "stdout",
     "output_type": "stream",
     "text": [
      "d2v_100\n",
      "[mean: -1.94169, std: 0.00465, params: {'learning_rate': 0.3, 'n_estimators': 50}, mean: -1.99920, std: 0.01060, params: {'learning_rate': 0.3, 'n_estimators': 100}, mean: -1.96065, std: 0.01302, params: {'learning_rate': 0.5, 'n_estimators': 50}, mean: -2.01419, std: 0.01107, params: {'learning_rate': 0.5, 'n_estimators': 100}, mean: -2.00529, std: 0.02161, params: {'learning_rate': 0.9, 'n_estimators': 50}, mean: -2.04604, std: 0.01959, params: {'learning_rate': 0.9, 'n_estimators': 100}, mean: -2.00737, std: 0.01516, params: {'learning_rate': 1, 'n_estimators': 50}, mean: -2.05062, std: 0.01401, params: {'learning_rate': 1, 'n_estimators': 100}]\n",
      "{'learning_rate': 0.3, 'n_estimators': 50}\n",
      "-1.94168942506\n",
      "Fitting 5 folds for each of 8 candidates, totalling 40 fits\n"
     ]
    },
    {
     "name": "stderr",
     "output_type": "stream",
     "text": [
      "C:\\Users\\Franck\\Documents\\Continuum\\Anaconda3\\lib\\site-packages\\sklearn\\model_selection\\_search.py:667: DeprecationWarning: The grid_scores_ attribute was deprecated in version 0.18 in favor of the more elaborate cv_results_ attribute. The grid_scores_ attribute will not be available from 0.20\n",
      "  DeprecationWarning)\n",
      "[Parallel(n_jobs=-1)]: Done  40 out of  40 | elapsed:  1.6min finished\n"
     ]
    },
    {
     "name": "stdout",
     "output_type": "stream",
     "text": [
      "tfidf_tsvd_100\n",
      "[mean: -1.91750, std: 0.01409, params: {'learning_rate': 0.3, 'n_estimators': 50}, mean: -1.94188, std: 0.01189, params: {'learning_rate': 0.3, 'n_estimators': 100}, mean: -1.95182, std: 0.01644, params: {'learning_rate': 0.5, 'n_estimators': 50}, mean: -1.97111, std: 0.01814, params: {'learning_rate': 0.5, 'n_estimators': 100}, mean: -2.00289, std: 0.02692, params: {'learning_rate': 0.9, 'n_estimators': 50}, mean: -2.06171, std: 0.07002, params: {'learning_rate': 0.9, 'n_estimators': 100}, mean: -2.03082, std: 0.03772, params: {'learning_rate': 1, 'n_estimators': 50}, mean: -2.07098, std: 0.04586, params: {'learning_rate': 1, 'n_estimators': 100}]\n",
      "{'learning_rate': 0.3, 'n_estimators': 50}\n",
      "-1.91749502231\n",
      "Fitting 5 folds for each of 8 candidates, totalling 40 fits\n"
     ]
    },
    {
     "name": "stderr",
     "output_type": "stream",
     "text": [
      "C:\\Users\\Franck\\Documents\\Continuum\\Anaconda3\\lib\\site-packages\\sklearn\\model_selection\\_search.py:667: DeprecationWarning: The grid_scores_ attribute was deprecated in version 0.18 in favor of the more elaborate cv_results_ attribute. The grid_scores_ attribute will not be available from 0.20\n",
      "  DeprecationWarning)\n",
      "[Parallel(n_jobs=-1)]: Done  40 out of  40 | elapsed:  1.6min finished\n"
     ]
    },
    {
     "name": "stdout",
     "output_type": "stream",
     "text": [
      "w2v_100\n",
      "[mean: -1.91682, std: 0.00978, params: {'learning_rate': 0.3, 'n_estimators': 50}, mean: -1.94374, std: 0.00987, params: {'learning_rate': 0.3, 'n_estimators': 100}, mean: -1.95939, std: 0.03143, params: {'learning_rate': 0.5, 'n_estimators': 50}, mean: -1.99379, std: 0.04053, params: {'learning_rate': 0.5, 'n_estimators': 100}, mean: -2.02985, std: 0.02044, params: {'learning_rate': 0.9, 'n_estimators': 50}, mean: -2.03370, std: 0.01915, params: {'learning_rate': 0.9, 'n_estimators': 100}, mean: -2.04482, std: 0.02814, params: {'learning_rate': 1, 'n_estimators': 50}, mean: -2.09304, std: 0.04078, params: {'learning_rate': 1, 'n_estimators': 100}]\n",
      "{'learning_rate': 0.3, 'n_estimators': 50}\n",
      "-1.91681966898\n"
     ]
    },
    {
     "name": "stderr",
     "output_type": "stream",
     "text": [
      "C:\\Users\\Franck\\Documents\\Continuum\\Anaconda3\\lib\\site-packages\\sklearn\\model_selection\\_search.py:667: DeprecationWarning: The grid_scores_ attribute was deprecated in version 0.18 in favor of the more elaborate cv_results_ attribute. The grid_scores_ attribute will not be available from 0.20\n",
      "  DeprecationWarning)\n"
     ]
    }
   ],
   "source": [
    "clf_ada=AdaBoostClassifier(n_estimators=100, learning_rate=0.3, algorithm=\"SAMME.R\", random_state=26)\n",
    "param_test={\n",
    "    \"n_estimators\":[50,70,100,200],\n",
    "    \"learning_rate\":[0.01,0.05,0.1,0.2]\n",
    "}\n",
    "for name in work_train_final:\n",
    "    gsearch=GridSearchCV(estimator=clf_ada, param_grid = param_test,scoring=\"neg_log_loss\",n_jobs=-1,iid=False, cv=kf,verbose=True)\n",
    "    gsearch.fit(np.array(work_train_final[name].drop(\"ID\",axis=1)),y)\n",
    "    print(name)\n",
    "    print(gsearch.grid_scores_)\n",
    "    print(gsearch.best_params_)\n",
    "    print(gsearch.best_score_)\n",
    "#d2v : {'learning_rate': 0.3, 'n_estimators': 50}\n",
    "#tfidf : {'learning_rate': 0.3, 'n_estimators': 50}\n",
    "#w2v : {'learning_rate': 0.3, 'n_estimators': 50}\n"
   ]
  },
  {
   "cell_type": "code",
   "execution_count": 67,
   "metadata": {
    "collapsed": true
   },
   "outputs": [
    {
     "name": "stdout",
     "output_type": "stream",
     "text": [
      "Fitting 5 folds for each of 12 candidates, totalling 60 fits\n"
     ]
    },
    {
     "name": "stderr",
     "output_type": "stream",
     "text": [
      "[Parallel(n_jobs=-1)]: Done  42 tasks      | elapsed:  1.3min\n",
      "[Parallel(n_jobs=-1)]: Done  60 out of  60 | elapsed:  2.3min finished\n"
     ]
    },
    {
     "name": "stdout",
     "output_type": "stream",
     "text": [
      "d2v_100\n",
      "[mean: -1.22844, std: 0.03563, params: {'max_depth': 15, 'n_estimators': 200}, mean: -1.22791, std: 0.03435, params: {'max_depth': 15, 'n_estimators': 300}, mean: -1.22571, std: 0.03375, params: {'max_depth': 15, 'n_estimators': 400}, mean: -1.16550, std: 0.04155, params: {'max_depth': 20, 'n_estimators': 200}, mean: -1.16466, std: 0.04370, params: {'max_depth': 20, 'n_estimators': 300}, mean: -1.16096, std: 0.04186, params: {'max_depth': 20, 'n_estimators': 400}, mean: -1.15077, std: 0.04684, params: {'max_depth': 25, 'n_estimators': 200}, mean: -1.14424, std: 0.04787, params: {'max_depth': 25, 'n_estimators': 300}, mean: -1.14550, std: 0.04492, params: {'max_depth': 25, 'n_estimators': 400}, mean: -1.16388, std: 0.06146, params: {'max_depth': 30, 'n_estimators': 200}, mean: -1.15763, std: 0.04410, params: {'max_depth': 30, 'n_estimators': 300}, mean: -1.15487, std: 0.04284, params: {'max_depth': 30, 'n_estimators': 400}]\n",
      "{'max_depth': 25, 'n_estimators': 300}\n",
      "-1.14424083177\n",
      "Fitting 5 folds for each of 12 candidates, totalling 60 fits\n"
     ]
    },
    {
     "name": "stderr",
     "output_type": "stream",
     "text": [
      "C:\\Users\\Franck\\Documents\\Continuum\\Anaconda3\\lib\\site-packages\\sklearn\\model_selection\\_search.py:667: DeprecationWarning: The grid_scores_ attribute was deprecated in version 0.18 in favor of the more elaborate cv_results_ attribute. The grid_scores_ attribute will not be available from 0.20\n",
      "  DeprecationWarning)\n",
      "[Parallel(n_jobs=-1)]: Done  42 tasks      | elapsed:  2.2min\n",
      "[Parallel(n_jobs=-1)]: Done  60 out of  60 | elapsed:  4.3min finished\n"
     ]
    },
    {
     "name": "stdout",
     "output_type": "stream",
     "text": [
      "tfidf_tsvd_100\n",
      "[mean: -0.94831, std: 0.02960, params: {'max_depth': 15, 'n_estimators': 200}, mean: -0.94279, std: 0.03010, params: {'max_depth': 15, 'n_estimators': 300}, mean: -0.95152, std: 0.02612, params: {'max_depth': 15, 'n_estimators': 400}, mean: -0.98358, std: 0.05267, params: {'max_depth': 20, 'n_estimators': 200}, mean: -0.97815, std: 0.02881, params: {'max_depth': 20, 'n_estimators': 300}, mean: -0.97319, std: 0.02574, params: {'max_depth': 20, 'n_estimators': 400}, mean: -1.24485, std: 0.07011, params: {'max_depth': 25, 'n_estimators': 200}, mean: -1.13895, std: 0.14529, params: {'max_depth': 25, 'n_estimators': 300}, mean: -1.09501, std: 0.06563, params: {'max_depth': 25, 'n_estimators': 400}, mean: -1.47265, std: 0.11060, params: {'max_depth': 30, 'n_estimators': 200}, mean: -1.39942, std: 0.18520, params: {'max_depth': 30, 'n_estimators': 300}, mean: -1.27881, std: 0.05559, params: {'max_depth': 30, 'n_estimators': 400}]\n",
      "{'max_depth': 15, 'n_estimators': 300}\n",
      "-0.94278938571\n",
      "Fitting 5 folds for each of 12 candidates, totalling 60 fits\n"
     ]
    },
    {
     "name": "stderr",
     "output_type": "stream",
     "text": [
      "C:\\Users\\Franck\\Documents\\Continuum\\Anaconda3\\lib\\site-packages\\sklearn\\model_selection\\_search.py:667: DeprecationWarning: The grid_scores_ attribute was deprecated in version 0.18 in favor of the more elaborate cv_results_ attribute. The grid_scores_ attribute will not be available from 0.20\n",
      "  DeprecationWarning)\n",
      "[Parallel(n_jobs=-1)]: Done  42 tasks      | elapsed:  1.9min\n",
      "[Parallel(n_jobs=-1)]: Done  60 out of  60 | elapsed:  2.9min finished\n"
     ]
    },
    {
     "name": "stdout",
     "output_type": "stream",
     "text": [
      "w2v_100\n",
      "[mean: -1.00518, std: 0.04244, params: {'max_depth': 15, 'n_estimators': 200}, mean: -0.98611, std: 0.03042, params: {'max_depth': 15, 'n_estimators': 300}, mean: -1.00611, std: 0.04150, params: {'max_depth': 15, 'n_estimators': 400}, mean: -1.18631, std: 0.08091, params: {'max_depth': 20, 'n_estimators': 200}, mean: -1.13412, std: 0.07174, params: {'max_depth': 20, 'n_estimators': 300}, mean: -1.09728, std: 0.05019, params: {'max_depth': 20, 'n_estimators': 400}, mean: -1.38482, std: 0.07572, params: {'max_depth': 25, 'n_estimators': 200}, mean: -1.27289, std: 0.04654, params: {'max_depth': 25, 'n_estimators': 300}, mean: -1.21932, std: 0.05829, params: {'max_depth': 25, 'n_estimators': 400}, mean: -1.42201, std: 0.07977, params: {'max_depth': 30, 'n_estimators': 200}, mean: -1.35885, std: 0.09196, params: {'max_depth': 30, 'n_estimators': 300}, mean: -1.29912, std: 0.03608, params: {'max_depth': 30, 'n_estimators': 400}]\n",
      "{'max_depth': 15, 'n_estimators': 300}\n",
      "-0.986113396697\n"
     ]
    },
    {
     "name": "stderr",
     "output_type": "stream",
     "text": [
      "C:\\Users\\Franck\\Documents\\Continuum\\Anaconda3\\lib\\site-packages\\sklearn\\model_selection\\_search.py:667: DeprecationWarning: The grid_scores_ attribute was deprecated in version 0.18 in favor of the more elaborate cv_results_ attribute. The grid_scores_ attribute will not be available from 0.20\n",
      "  DeprecationWarning)\n"
     ]
    }
   ],
   "source": [
    "clf_dt=RandomForestClassifier()\n",
    "param_test={\n",
    "    \"max_depth\":[10,15,20,25,30],\n",
    "    \"n_estimators\":[200,300,400]\n",
    "}\n",
    "for name in work_train_final:\n",
    "    gsearch=GridSearchCV(estimator=clf_dt, param_grid = param_test,scoring=\"neg_log_loss\",n_jobs=-1,iid=False, cv=kf,verbose=True)\n",
    "    gsearch.fit(np.array(work_train_final[name].drop(\"ID\",axis=1)),y)\n",
    "    print(name)\n",
    "    print(gsearch.grid_scores_)\n",
    "    print(gsearch.best_params_)\n",
    "    print(gsearch.best_score_)\n",
    "#d2v : {'max_depth': 25, 'n_estimators': 300}\n",
    "#tfidf : {'max_depth': 15, 'n_estimators': 300}\n",
    "#w2v : {'max_depth': 15, 'n_estimators': 200}"
   ]
  },
  {
   "cell_type": "markdown",
   "metadata": {},
   "source": [
    "# TRAINING PHASE ALL ALGOS "
   ]
  },
  {
   "cell_type": "code",
   "execution_count": 64,
   "metadata": {},
   "outputs": [],
   "source": [
    "def model_gen(X,X_test,y,classifier,file,five_fold_predict=True):\n",
    "    #if not os.path.exists(\"scores/\"+file):\n",
    "    #   os.makedirs(\"scores/\"+file)\n",
    "    kf = model_selection.StratifiedKFold(n_splits=5, random_state=26, shuffle=True)\n",
    "    if five_fold_predict:\n",
    "        fold = 0\n",
    "        y_test=0\n",
    "        for train_index, test_index in kf.split(X, y):\n",
    "        \n",
    "            fold += 1\n",
    "\n",
    "            X_train, X_valid    = X[train_index],   X[test_index]\n",
    "            y_train, y_valid    = y[train_index],   y[test_index]\n",
    "\n",
    "            print(\"Fold\", fold, X_train.shape, X_valid.shape)\n",
    "\n",
    "            clf=classifier\n",
    "            clf.fit(X_train,y_train)\n",
    "            p_test = clf.predict_proba(X_test)\n",
    "            y_test += p_test/5\n",
    "\n",
    "    classes = \"class1,class2,class3,class4,class5,class6,class7,class8,class9\".split(',')\n",
    "    subm = pd.DataFrame(y_test, columns=classes)\n",
    "    subm['ID'] = ID_test\n",
    "    \n",
    "    subm.to_csv(\"nw_scores/nw_stack_test/nw_{}.csv\".format(file),index=False)\n",
    "    \n",
    "    print(\"cross_val sur train \") #peut etre que to array est exclusivement pour les xgb\n",
    "    \n",
    "    #if os.path.isfile(\"nw_scores/nw_stack_train/nw_{}.csv\".format(file)):\n",
    "       # print(\"not necessary, already done\")\n",
    "    \n",
    "    y_pred=cross_val_predict(estimator=clf,X=X,y=y,cv=kf,method=\"predict_proba\")\n",
    "    subm1 = pd.DataFrame(y_pred, columns=classes)\n",
    "    subm1['ID'] = ID_train\n",
    "    subm1.to_csv(\"nw_scores/nw_stack_train/nw_{}.csv\".format(file),index=False)\n"
   ]
  },
  {
   "cell_type": "code",
   "execution_count": 68,
   "metadata": {
    "scrolled": true
   },
   "outputs": [
    {
     "name": "stdout",
     "output_type": "stream",
     "text": [
      "xgboost here\n",
      "Fold 1 (2946, 137) (743, 137)\n",
      "Fold 2 (2949, 137) (740, 137)\n",
      "Fold 3 (2952, 137) (737, 137)\n",
      "Fold 4 (2954, 137) (735, 137)\n",
      "Fold 5 (2955, 137) (734, 137)\n",
      "cross_val sur train \n",
      "Fold 1 (2946, 137) (743, 137)\n",
      "Fold 2 (2949, 137) (740, 137)\n",
      "Fold 3 (2952, 137) (737, 137)\n",
      "Fold 4 (2954, 137) (735, 137)\n",
      "Fold 5 (2955, 137) (734, 137)\n",
      "cross_val sur train \n",
      "Fold 1 (2946, 138) (743, 138)\n",
      "Fold 2 (2949, 138) (740, 138)\n",
      "Fold 3 (2952, 138) (737, 138)\n",
      "Fold 4 (2954, 138) (735, 138)\n",
      "Fold 5 (2955, 138) (734, 138)\n",
      "cross_val sur train \n",
      "lgbm here\n",
      "Fold 1 (2946, 137) (743, 137)\n",
      "Fold 2 (2949, 137) (740, 137)\n",
      "Fold 3 (2952, 137) (737, 137)\n",
      "Fold 4 (2954, 137) (735, 137)\n",
      "Fold 5 (2955, 137) (734, 137)\n",
      "cross_val sur train \n",
      "Fold 1 (2946, 137) (743, 137)\n",
      "Fold 2 (2949, 137) (740, 137)\n",
      "Fold 3 (2952, 137) (737, 137)\n",
      "Fold 4 (2954, 137) (735, 137)\n",
      "Fold 5 (2955, 137) (734, 137)\n",
      "cross_val sur train \n",
      "Fold 1 (2946, 138) (743, 138)\n",
      "Fold 2 (2949, 138) (740, 138)\n",
      "Fold 3 (2952, 138) (737, 138)\n",
      "Fold 4 (2954, 138) (735, 138)\n",
      "Fold 5 (2955, 138) (734, 138)\n",
      "cross_val sur train \n",
      "logreg here\n",
      "Fold 1 (2946, 137) (743, 137)\n",
      "Fold 2 (2949, 137) (740, 137)\n",
      "Fold 3 (2952, 137) (737, 137)\n",
      "Fold 4 (2954, 137) (735, 137)\n",
      "Fold 5 (2955, 137) (734, 137)\n",
      "cross_val sur train \n",
      "Fold 1 (2946, 137) (743, 137)\n",
      "Fold 2 (2949, 137) (740, 137)\n",
      "Fold 3 (2952, 137) (737, 137)\n",
      "Fold 4 (2954, 137) (735, 137)\n",
      "Fold 5 (2955, 137) (734, 137)\n",
      "cross_val sur train \n",
      "Fold 1 (2946, 138) (743, 138)\n",
      "Fold 2 (2949, 138) (740, 138)\n",
      "Fold 3 (2952, 138) (737, 138)\n",
      "Fold 4 (2954, 138) (735, 138)\n",
      "Fold 5 (2955, 138) (734, 138)\n",
      "cross_val sur train \n",
      "adaboost here\n",
      "Fold 1 (2946, 137) (743, 137)\n",
      "Fold 2 (2949, 137) (740, 137)\n",
      "Fold 3 (2952, 137) (737, 137)\n",
      "Fold 4 (2954, 137) (735, 137)\n",
      "Fold 5 (2955, 137) (734, 137)\n",
      "cross_val sur train \n",
      "Fold 1 (2946, 137) (743, 137)\n",
      "Fold 2 (2949, 137) (740, 137)\n",
      "Fold 3 (2952, 137) (737, 137)\n",
      "Fold 4 (2954, 137) (735, 137)\n",
      "Fold 5 (2955, 137) (734, 137)\n",
      "cross_val sur train \n",
      "Fold 1 (2946, 138) (743, 138)\n",
      "Fold 2 (2949, 138) (740, 138)\n",
      "Fold 3 (2952, 138) (737, 138)\n",
      "Fold 4 (2954, 138) (735, 138)\n",
      "Fold 5 (2955, 138) (734, 138)\n",
      "cross_val sur train \n",
      "random forest here\n",
      "Fold 1 (2946, 137) (743, 137)\n",
      "Fold 2 (2949, 137) (740, 137)\n",
      "Fold 3 (2952, 137) (737, 137)\n",
      "Fold 4 (2954, 137) (735, 137)\n",
      "Fold 5 (2955, 137) (734, 137)\n",
      "cross_val sur train \n",
      "Fold 1 (2946, 137) (743, 137)\n",
      "Fold 2 (2949, 137) (740, 137)\n",
      "Fold 3 (2952, 137) (737, 137)\n",
      "Fold 4 (2954, 137) (735, 137)\n",
      "Fold 5 (2955, 137) (734, 137)\n",
      "cross_val sur train \n",
      "Fold 1 (2946, 138) (743, 138)\n",
      "Fold 2 (2949, 138) (740, 138)\n",
      "Fold 3 (2952, 138) (737, 138)\n",
      "Fold 4 (2954, 138) (735, 138)\n",
      "Fold 5 (2955, 138) (734, 138)\n",
      "cross_val sur train \n"
     ]
    }
   ],
   "source": [
    "dic_xgb={\"xgb_d2v\":XGBClassifier(colsample_bytree=0.8,max_depth=7,min_child_weight=3,n_estimators=100,subsample=0.8,objective=\"multi:softprob\",seed=26),\n",
    "        \"xgb_tfidf\":XGBClassifier(colsample_bytree=0.8,max_depth=5,min_child_weight=3,n_estimators=100,subsample=1,objective=\"multi:softprob\",seed=26),\n",
    "        \"xgb_w2v\":XGBClassifier(colsample_bytree=0.8,max_depth=5,min_child_weight=3,n_estimators=100,subsample=0.8,objective=\"multi:softprob\",seed=26)}\n",
    "\n",
    "dic_lgbm={\"lgbm_d2v\":LGBMClassifier(boosting_type=\"gbdt\",colsample_bytree=0.8,n_estimators=48,num_leaves=22,subsample=0.8,seed=26),\n",
    "        \"lgbm_tfidf\":LGBMClassifier(boosting_type=\"gbdt\",colsample_bytree=0.8,n_estimators=48,num_leaves=22,subsample=0.8,seed=26),\n",
    "        \"lgbm_w2v\":LGBMClassifier(boosting_type=\"gbdt\",colsample_bytree=0.8,n_estimators=48,num_leaves=22,subsample=0.8,seed=26)}\n",
    "dic_lr={\"lr_d2v\":LogisticRegression(C=10,penalty=\"l1\"),\n",
    "        \"lr_tfidf\":LogisticRegression(C=10,penalty=\"l1\"),\n",
    "        \"lr_w2v\":LogisticRegression(C=1,penalty=\"l1\")}\n",
    "dic_ada={\"ada_d2v\":AdaBoostClassifier(n_estimators=50, learning_rate=0.01, algorithm=\"SAMME.R\", random_state=26),\n",
    "        \"ada_tfidf\":AdaBoostClassifier(n_estimators=70, learning_rate=0.01, algorithm=\"SAMME.R\", random_state=26),\n",
    "        \"ada_w2v\":AdaBoostClassifier(n_estimators=50, learning_rate=0.01, algorithm=\"SAMME.R\", random_state=26)}\n",
    "dic_rf={\"rf_d2v\":RandomForestClassifier(n_estimators=400,max_depth=25,random_state=26),\n",
    "        \"rf_tfidf\":RandomForestClassifier(n_estimators=400,max_depth=20,random_state=26),\n",
    "        \"rf_w2v\":RandomForestClassifier(n_estimators=300,max_depth=15,random_state=26)}\n",
    "\n",
    "print(\"xgboost here\")\n",
    "for clf,name in zip(dic_xgb.keys(),work_train_final.keys()):\n",
    "    model_gen(X=np.array(work_train_final[name].drop(\"ID\",axis=1)),X_test=np.array(work_test_final[name].drop(\"ID\",axis=1)),y=y,classifier=dic_xgb[clf],file=clf)\n",
    "print(\"lgbm here\")\n",
    "for clf,name in zip(dic_lgbm.keys(),work_train.keys()):\n",
    "    model_gen(X=np.array(work_train_final[name].drop(\"ID\",axis=1)),X_test=np.array(work_test_final[name].drop(\"ID\",axis=1)),y=y,classifier=dic_lgbm[clf],file=clf)\n",
    "print(\"logreg here\")\n",
    "for clf,name in zip(dic_lr.keys(),work_train.keys()):\n",
    "    model_gen(X=np.array(work_train_final[name].drop(\"ID\",axis=1)),X_test=np.array(work_test_final[name].drop(\"ID\",axis=1)),y=y,classifier=dic_lr[clf],file=clf)\n",
    "print(\"adaboost here\")\n",
    "for clf,name in zip(dic_ada.keys(),work_train.keys()):\n",
    "    model_gen(X=np.array(work_train_final[name].drop(\"ID\",axis=1)),X_test=np.array(work_test_final[name].drop(\"ID\",axis=1)),y=y,classifier=dic_ada[clf],file=clf)\n",
    "print(\"random forest here\")\n",
    "for clf,name in zip(dic_rf.keys(),work_train.keys()):\n",
    "    model_gen(X=np.array(work_train_final[name].drop(\"ID\",axis=1)),X_test=np.array(work_test_final[name].drop(\"ID\",axis=1)),y=y,classifier=dic_rf[clf],file=clf)\n",
    "\n",
    "ext_xgb=XGBClassifier(colsample_bytree=1,objective=\"multi:softprob\",max_depth= 3,min_child_weight= 3, n_estimators=100,subsample= 0.8,seed=26)\n",
    "model_gen(X=np.array(model_ext_train),X_test=np.array(model_ext_test),y=y,classifier=ext_xgb,file=\"xgb_external\")"
   ]
  },
  {
   "cell_type": "code",
   "execution_count": null,
   "metadata": {},
   "outputs": [],
   "source": []
  },
  {
   "cell_type": "code",
   "execution_count": null,
   "metadata": {},
   "outputs": [],
   "source": []
  }
 ],
 "metadata": {
  "kernelspec": {
   "display_name": "Python 3",
   "language": "python",
   "name": "python3"
  },
  "language_info": {
   "codemirror_mode": {
    "name": "ipython",
    "version": 3
   },
   "file_extension": ".py",
   "mimetype": "text/x-python",
   "name": "python",
   "nbconvert_exporter": "python",
   "pygments_lexer": "ipython3",
   "version": "3.6.1"
  }
 },
 "nbformat": 4,
 "nbformat_minor": 2
}
