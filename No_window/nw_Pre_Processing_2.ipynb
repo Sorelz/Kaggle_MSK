{
 "cells": [
  {
   "cell_type": "code",
   "execution_count": 112,
   "metadata": {},
   "outputs": [],
   "source": [
    "import numpy as np\n",
    "import pandas as pd\n",
    "import pickle\n",
    "from sklearn.metrics import log_loss\n",
    "from sklearn.linear_model import LogisticRegression\n",
    "from sklearn.feature_extraction.text import TfidfVectorizer\n",
    "import gensim\n",
    "from gensim.models.doc2vec import LabeledSentence\n",
    "from gensim.models import Doc2Vec\n",
    "from gensim import utils\n",
    "import os\n",
    "import nltk\n",
    "import scipy.sparse as ssp\n",
    "from sklearn.decomposition import TruncatedSVD\n",
    "import nltk\n",
    "from nltk.tokenize import sent_tokenize, word_tokenize\n",
    "\n",
    "from nltk.corpus import stopwords\n",
    "from nltk.stem import WordNetLemmatizer\n",
    "import re\n",
    "from nltk import pos_tag"
   ]
  },
  {
   "cell_type": "code",
   "execution_count": 90,
   "metadata": {},
   "outputs": [],
   "source": [
    "train=pd.read_csv(\"checkpoints_databases/nw_working_train_0.csv\",encoding=\"utf8\")\n",
    "test=pd.read_csv(\"checkpoints_databases/nw_working_test_0.csv\",encoding=\"utf8\")"
   ]
  },
  {
   "cell_type": "code",
   "execution_count": 91,
   "metadata": {},
   "outputs": [],
   "source": [
    "train_cl=train.drop([\"Variation\",\"Text\",\"Class\",\"Gene\"],axis=1)\n",
    "test_cl=test.drop([\"Text\",\"Class\",\"Variation\",\"Gene\"],axis=1)\n",
    "train_cl=train_cl.reset_index()\n",
    "train_cl=train_cl.drop(\"ID\",axis=1)\n",
    "train_cl=train_cl.rename(columns={\"index\":\"ID\"})"
   ]
  },
  {
   "cell_type": "code",
   "execution_count": 92,
   "metadata": {},
   "outputs": [],
   "source": [
    "train_cl.to_csv(\"nw_meta_features/meta_train_l1l2.csv\")\n",
    "test_cl.to_csv(\"nw_meta_features/meta_test_l1l2.csv\")"
   ]
  },
  {
   "cell_type": "code",
   "execution_count": 138,
   "metadata": {},
   "outputs": [],
   "source": [
    "data_all=pd.concat((train,test)).reset_index(drop=True)"
   ]
  },
  {
   "cell_type": "code",
   "execution_count": 132,
   "metadata": {},
   "outputs": [],
   "source": [
    "stop = set(stopwords.words('english'))\n",
    "exclude = set('!\"#$%&\\'()*+:;<=>?@[\\\\]^_`{|}~0123456789') \n",
    "lemma = WordNetLemmatizer()\n",
    "def clean(doc,lemmatiz=False):\n",
    "    stop_free = \" \".join([i for i in doc.lower().split() if i not in stop])\n",
    "    punc_free_0 = [re.sub(\",|\\.|/\",\" \",ch) for ch in stop_free]\n",
    "    if lemmatiz:\n",
    "        punc_free_lem=\"\".join(ch for ch in punc_free_0 if ch not in exclude)\n",
    "        for word,tag in pos_tag(word_tokenize(punc_free_lem)):\n",
    "            lem=[]\n",
    "            wntag=tag[0].lower()\n",
    "            wntag=wntag if wntag in [\"a\",\"r\",\"n\",\"v\"] else None\n",
    "            if not wntag:\n",
    "                lem.append(word)\n",
    "            else:\n",
    "                lem.append(lemma.lemmatize(word,wntag))\n",
    "            normalized=\" \".join(word for word in lem)\n",
    "        return normalized\n",
    "    else:\n",
    "        punc_free = \"\".join(ch for ch in punc_free_0 if ch not in exclude)\n",
    "        return punc_free"
   ]
  },
  {
   "cell_type": "code",
   "execution_count": 133,
   "metadata": {},
   "outputs": [],
   "source": [
    "#No lemmatization for the moment, be careful not to lemmatize then w2vec\n",
    "data_all.Text = [clean(doc,True) for doc in data_all.Text]  "
   ]
  },
  {
   "cell_type": "code",
   "execution_count": 143,
   "metadata": {},
   "outputs": [],
   "source": [
    "stop_free = \" \".join([i for i in data_all.Text[0].lower().split() if i not in stop])\n",
    "punc_free_0 = [re.sub(\",|\\.|/\",\" \",ch) for ch in stop_free]\n",
    "\n",
    "punc_free_lem=\"\".join(ch for ch in punc_free_0 if ch not in exclude)\n",
    "lem=[]\n",
    "for word,tag in pos_tag(word_tokenize(punc_free_lem)):\n",
    "    \n",
    "    wntag=tag[0].lower()\n",
    "    wntag=wntag if wntag in [\"a\",\"r\",\"n\",\"v\"] else None\n",
    "    if not wntag:\n",
    "        lem.append(word)\n",
    "    else:\n",
    "        lem.append(lemma.lemmatize(word,wntag))\n",
    "        normalized=\" \".join(word for word in lem)\n"
   ]
  },
  {
   "cell_type": "code",
   "execution_count": 145,
   "metadata": {},
   "outputs": [
    {
     "data": {
      "text/plain": [
       "'cyclin-dependent kinase cdks regulate variety fundamental cellular process cdk stand one last orphan cdks activate cyclin identify kinase activity reveal previous work show cdk silencing increase ets v-ets erythroblastosis virus e oncogene homolog -driven activation mapk pathway confers tamoxifen resistance breast cancer cell precise mechanisms cdk modulates ets activity generally function cdk remain elusive demonstrate cdk cyclin-dependent kinase identify cyclin activate cyclin cyclin m orphan cyclin product fama whose mutation cause star syndrome human developmental anomaly whose feature include toe syndactyly telecanthus anogenital renal malformation show star syndrome-associated cyclin mutant unable interact cdk cyclin silence phenocopies cdk silence increase c-raf conferring tamoxifen resistance breast cancer cell cdk cyclin phosphorylates ets vitro cell positively control ets degradation proteasome ets protein level increase cell derive star patient increase attributable decreased cyclin level altogether result reveal additional regulatory mechanism ets play key role cancer development also shed light molecular mechanism underlie star syndrome cyclin-dependent kinase cdks play pivotal role control number fundamental cellular process human genome contains gene encode protein consider member cdk family owe sequence similarity bona fide cdks know activated cyclins although discover almost ago cdk remain one two cdks without identified cyclin partner knowledge gap largely impeded exploration biological function cdk act positive cell cycle regulator cell tumor suppressor others cdk interacts ets v-ets erythroblastosis virus e oncogene homolog transcription factor inhibit transcriptional activity unknown mechanism cdk knockdown derepresses ets increase expression c-raf protein kinase activate mapk pathway induces resistance mcf cell tamoxifen here deorphanize cdk identify cyclin m product fama bind partner mutation gene predict absence truncation cyclin associate star syndrome whose feature include toe syndactyly telecanthus anogenital renal malformation heterozygous female however function cyclin pathogenesis star syndrome remain unknown show recombinant cdk cyclin heterodimer active protein kinase phosphorylates ets vitro cyclin silence phenocopies cdk silence increase c-raf phospho-erk expression level induce tamoxifen resistance estrogen receptor er breast cancer cell show cdk cyclin positively control ets degradation proteasome phosphorylation two neighboring serine finally detect increase ets expression level cell derive star patient demonstrate attributable decrease cyclin expression level observe cell previous sectionnext sectionresultsa yeast two-hybrid yh screen unveiled interaction signal cdk mouse protein whose c-terminal half present strong sequence homology human fama gene product whose proposed name cyclin thus perform yh mating assay determine whether human cdk interacts human cyclin fig a–c longest cdk isoform p express bait protein produce strong interaction phenotype full-length cyclin express prey protein detectable phenotype cyclin d p cip cdi kap know bind partner cdks fig b cdk cdk also produce yh signal cyclin m albeit notably weaker observe cdk fig b interaction phenotype also observe full-length cyclin cdk protein express bait prey respectively fig sa test different isoforms cdk cyclin originate alternative gene splice two truncated cyclin protein correspond hypothetical product two mutate fama gene find star syndrome patient none shorter isoforms produce interaction phenotype fig c fig sa fig in new window download pptfig cdk cyclin form interaction complex a schematic representation different protein isoforms analyze yh assay amino acid number indicate black box indicate internal deletion red box indicate differ amino acid sequence compare cdk p b yh assay set cdk protein express bait in fusion lexa dna bind domain cdk interact protein express prey in fusion b transcriptional activator peg pjg- empty bait prey plasmid express lexa b respectively lacz use reporter gene blue yeast indicative yh interaction phenotype c yh assay different cdk cyclin isoforms amino-terminal region ets know interact cdk also assay d western blot analysis myc-cdk wt kd cycm-v-his expression level transfected hek cell e western blot analysis myc-cdk wt kd immunoprecipitates obtain use anti-myc antibody “ input ” correspond μg total lysates obtain hek cell coexpressing myc-cdk wt kd cycm-v-his f western blot analysis immunoprecipitates obtain use anti-cdk antibody control goat antibody human breast cancer mcf cell “ input ” correspond μg mcf total cell lysates lower band doublet observe upper panel comigrates exogenously express untagged cdk thus correspond endogenous cdk upper band doublet correspond nonspecific signal demonstrate insensitivity either overexpression cdk as see leave lane silence cdk fig sb another experiment longer gel migration show fig sd next examined ability cdk cyclin interact express human cell fig e test wild-type cdk wt kinase dead kd mutant bearing da amino acid substitution abolishes atp bind express cyclin m-v-his and or myc-cdk wt kd human embryonic kidney cell line hek expression level cyclin m-v-his significantly increase upon coexpression myc-cdk wt kd and lesser extent myc-cdk wt kd increase upon coexpression cyclin m-v-his fig d immunoprecipitated myc-cdk protein detect presence cyclin cdk wt kd immunoprecipitates protein coexpressed pair-wise fig e confirm observation detect presence myc-cdk cyclin m-v-his immunoprecipitates fig sb experiment confirm lack robust interaction cdk p isoform cyclin fig sc detect interaction endogenous protein perform immunoprecipitations nontransfected mcf cell derive human breast cancer cdk cyclin antibody detect cognate endogenous protein western blot readily detect cyclin immunoprecipitates obtain cdk antibody control antibody fig f result confirm physical interaction cdk cyclin human cell to unveil hypothesize cdk cyclin protein kinase activity produce gst-cdk strepii-cyclin fusion protein insect cell either individually combination observe gst-cdk strepii-cyclin copurified thus confirm interaction yet another cellular model fig a performed vitro kinase assay purified protein use histone h generic substrate histone h phosphorylation detect lysates cell coexpressing gst-cdk strepii-cyclin m phosphorylation detect gst-cdk strepii-cyclin express alone strepii-cyclin coexpressed gst-cdkkd fig a next investigated whether ets know interact cdk fig c phosphorylation substrate cdk cyclin m detect strong phosphorylation ets gst-cdk strepii-cyclin purified heterodimer whereas phosphorylation detect use gst-cdk alone gst-cdkkd strepii-cyclin heterodimer fig b fig in new window download pptfig cdk cyclin m-dependent protein kinase a vitro protein kinase assay histone h lysates insect cell express different protein purify glutathione sepharose matrix capture gst-cdkwt kd fusion proteins alone complex str-cycm fusion protein purify protein expression level analyze western blot top upper middle kinase activity determine autoradiography histone h whose added amount visualize coomassie stain lower middle bottom b a use purified recombinant his-ets substrate cdk silence show increase ets-driven c-raf transcription activate mapk pathway investigate whether cyclin also involve regulatory pathway aim highly specific silence used sirna pool mix four different sirnas low final concentration nm cdk cyclin sirna pool silence expression cognate target fig c fig s and interestingly cyclin sirna pool also cause marked decrease cdk protein level fig a fig sb result show fig d suggest cyclin binding stabilize cdk cyclin silence induced increase c-raf protein mrna level fig b c phosphorylated erk erk protein level fig sb similarly cdk silence expected effect cdk cyclin silencing decreased sensitivity er mcf cell tamoxifen similar extent combine silence gene result higher resistance drug fig sc altogether observation demonstrate functional interaction cyclin cdk negatively control ets fig in new window download pptfig cyclin silence up-regulates c-raf expression a western blot analysis endogenous cdk cyclin expression level mcf cell response sirna-mediated gene silence b western blot analysis endogenous c-raf expression level mcf cell response cdk cyclin silence quantification show fig sa c quantitative rt-pcr analysis cdk cyclin m c-raf mrna level response cdk upper cyclin lower silence p ≤ p ≤ we wish explore mechanism cdk cyclin control ets ets short-lived protein degrade proteasome straightforward hypothesis cdk cyclin positively control ets degradation thus examine impact cdk cyclin silence ets expression level silence cdk cyclin cause increase expression level exogenously express flag-ets protein fig sa well endogenous ets protein fig a increase attributable increase ets mrna level marginally fluctuate response cdk cyclin silence fig sb examine expression level flag-tagged ets protein express alone combination myc-cdk -cdkkd without cyclin m-v-his flag-ets readily detect expressed alone or lesser extent coexpressed cdkkd however expression level dramatically decrease coexpressed cdk alone cdk cyclin fig b observation suggest endogenous cyclin level excess compare cdk mcf cell show major decrease ets level observe upon cdk coexpression involve cdk kinase activity treatment cell coexpressing flag-ets cdk cyclin proteasome inhibitor mg largely rescue flag-ets expression level fig b fig in new window download pptfig cdk cyclin control ets stability human cancer derive cell a western blot analysis endogenous ets expression level mcf cell response sirna-mediated cdk and or cyclin silence quantification show fig sb b western blot analysis exogenously express flag-ets protein level mcf cell cotransfected empty vector coexpressing myc-cdk wt kd myc-cdk cycm-v-his latter cell treat h mg proteasome inhibitor proper expression cdk cyclin tag protein verified western blot analysis c d western blot analysis expression level exogenously express flag-ets wild-type mutant protein mcf cell absence c response d myc-cdk cycm-v-his expression quantification show fig s c d a mass spectrometry analysis recombinant ets phosphorylated cdk cyclin vitro reveal existence multiple phosphorylated residue among two neighbor phospho-serines at position may form phosphodegron fig s–s confirm finding compare phosphorylation level recombinant etswt etssasa protein mutant bearing alanine substitution two serine expect existence multiple phosphorylation site detect small reproducible significant decrease phosphorylation level etssasa compare etswt fig s thus confirm ser ser phosphorylated cdk cyclin m establish direct link ets phosphorylation cdk cyclin degradation examine expression level flag-etssasa absence cdk cyclin coexpression differ significantly flag-ets contrary flag-etsdbm bearing deletion n-terminal destruction d- box previously show involved apc-cdh–mediated degradation ets fig c however contrary flag-ets wild type expression level flag-etssasa remain insensitive cdk cyclin coexpression fig d altogether result suggest cdk cyclin directly control ets degradation phosphorylation two serine finally study lymphoblastoid cell line derive patient star syndrome bearing fama mutation c ga predict result aberrant splicing accordance incomplete skew x chromosome inactivation previously find patient detect decreased expression level cyclin protein star cell line compare control lymphoblastoid cell line line precede observation detect increased expression level ets protein star cell line compare control fig a fig sa examine quantitative rt-pcr mrna expression level correspond gene star cell line show decreased expression level cyclin mrna expression level ets mrna similar control cell line fig b demonstrate increase ets protein expression indeed result decrease cyclin expression observe star patient-derived cell line express cyclin m-v-his cell line expression cause decrease ets protein level fig c fig in new window download pptfig decrease cyclin expression star patient-derived cell result increase ets protein level a western blot analysis cyclin ets protein level star patient-derived lymphoblastoid cell line control lymphoblastoid cell line derive healthy individual quantification show fig sa b quantitative rt-pcr analysis cyclin ets mrna level cell p ≤ c western blot analysis ets protein level star patient-derived lymphoblastoid cell line transfected empty vector vector direct expression cyclin m-v-his another western blot reveal endogenously exogenously express cyclin level show fig sb quantification ets protein level show fig sc previous sectionnext sectiondiscussionin work unveil interaction cdk last orphan cdk discover pregenomic era cyclin m cyclin associate human genetic disease far whose function remain unknown closest paralogs cdk within cdk family cdk proteins interact l-type cyclins interestingly closest paralog cyclins within cyclin family cyclin fig s fact none shorter cdk isoforms interact robustly cyclin suggests alternative splice cdk gene play important role regulate cdk function the functional relevance interaction cdk cyclin support different observation protein seem enhance other ’ s stability judge increase expression level partner exogenously coexpressed fig d much reduce endogenous cdk expression level observe response cyclin silence fig a fig sb cdk subject ubiquitin-mediated degradation observation suggest cyclin protects cdk degradation cyclin partner cdk least mcf cell also suggest cyclin stability enhance upon bind cdk independently kinase activity see cyclin c cdk uncover cyclin m-dependent cdk protein kinase activity vitro thus demonstrate protein name cdk sole basis amino acid sequence indeed genuine cyclin-dependent kinase yh assay reveal truncate cyclin protein correspond hypothetical product two star syndrome-associated fama mutation produce interaction phenotype cdk hence regardless whether mutate mrna undergo nonsense-mediated decay as suggest decreased cyclin mrna level star cell show fig b give rise truncate cyclin protein female affect star syndrome must exhibit compromised cdk cyclin kinase activity least tissue specific developmental stage we show ets know interactor cdk phosphorylation substrate cdk cyclin vitro cdk cyclin kinase activity positively control ets degradation proteasome control seem exert fine mechanism judge sensitivity ets level partially decrease cdk cyclin level achieve mcf cell observe star cell respectively finding offer straightforward explanation already report up-regulation ets-driven transcription c-raf response cdk silence bring evidence cdk cyclin directly control ets degradation phosphorylation two neighboring serine may form noncanonical β-trcp phosphodegron dsmcpas none two serine precede proline conform usual cdk phosphorylation sit however multiple so-called transcriptional cdks cdk - - - to cdk may belong fig s show phosphorylate variety motif non–proline-directed fashion especially context molecular dock substrate here hypothesize high-affinity interaction cdk point domain ets fig c would allow docking-mediated phosphorylation atypical site control ets degradation involve number player include apc-cdh cullin-ring ligase crl formal identification ubiquitin ligase involve cdk cyclin pathway elucidation concert action ubiquitin ligases regulate ets degradation require study our result present number significant biological medical implication first shed light regulation ets play important role development frequently deregulate many cancer second result contribute understand molecular mechanism cause tamoxifen resistance associate reduce cdk expression level suggest that like cdk cyclin could also predictive clinical marker hormone therapy response erα-positive breast cancer patient third finding offer interesting hypothesis molecular mechanism underlie star syndrome ets transgenic mouse show less twofold overexpression ets present severe cranial abnormality observe star patient could thus cause least part increase ets protein level another expect consequence enhance ets expression level would decrease risk develop certain type cancer increase risk develop others study various mouse model include model syndrome three copy ets exist revealed ets dosage repress promote tumor growth and hence ets exert noncell autonomous function cancer intringuingly one star patient identify far diagnosed nephroblastoma finally finding facilitate general exploration biological function cdk and particular role control cell division previous study suggest either positive role cell cycle control tumor-suppressive activity cancer severe growth retardation exhibit star patient strongly suggest cdk cyclin play important role control cell proliferation previous sectionnext sectionmaterials methodscloning cdk cyclin cdna plasmid construction tamoxifen response analysis quantitative rt-pcr mass spectrometry experiment antibody production detail si material method yeast two-hybrid interaction assay perform yeast interaction mating assay previously describe mammalian cell culture transfections grow human hek mcf cell dmem supplement vol vol fbs invitrogen grow lymphoblastoid cell rpmi glutamax supplement vol vol fbs transfected hek mcf cell use lipofectamine invitrogen plasmid lipofectamine rnaimax invitrogen sirnas jetprime polyplus plasmid sirnas combination accord manufacturer ’ instruction transfected lymphoblastoid cell electroporation neon invitrogen ets stability study treat mcf cell h transfection μm mg fisher scientific h coimmunoprecipitation western blot experiment collect cell scrap pb or centrifugation lymphoblastoid cell lysed sonication lysis buffer contain mm β-glycerophosphate mm p-nitrophenylphosphate mm -n-morpholinopropanesulfonic acid mop ph mm egta mm mgcl mm na vanadate mm naf mm phenylphosphate nonidet p- protease inhibitor mixture roche spun lysates min × g °c collect supernatant determine protein content use bradford assay perform immunoprecipitation experiment μg total protein lysis buffer precleared lysates μl protein g-agarose bead incubate h °c rotate wheel add μg antibody supernatant incubate h °c rotate wheel add μl protein g-agarose bead incubate h °c rotate wheel collect bead centrifugation × g °c wash three time bead buffer contain mm tris ph mm naf mm nacl mm edta mm egta nonidet p- protease inhibitor coktail roche directly add sample buffer wash pellet heat-denatured protein run sample bis-tris sds page transfer protein onto hybond nitrocellulose membrane process blot accord standard procedure western blot experiment use follow primary antibody anti-myc abcam ab anti-v invitrogen r anti-tubulin santa cruz biotechnology b- anti-cdk covalab pabp santa cruz biotechnology c- anti-cycm home-made dilution covalab pab-p dilution anti-raf santa cruz biotechnology c- anti-ets santa cruz biotechnology c- anti-flag sigma f anti-actin sigma a used hrp-coupled anti-goat santa cruz biotechnology sc- dilution anti-mouse bio-rad – dilution anti-rabbit bio-rad – secondary antibody reveal blot enhance chemiluminescence supersignal west femto thermo scientific production purification recombinant proteins gst-cdkkd strepii-cycm generate recombinant bacmids dhbac escherichia coli baculoviruses sf cell use bac-to-bac system describe provider invitrogen infect sf cell gst-cdk- or gst-cdkkd-producing virus coinfected cell strepii-cycm–producing virus collect cell h infection purify gst-fusion protein spin ml cell resuspend pellet ml lysis buffer pb mm nacl nonidet p- mm naf mm β-glycerophosphate mm na-vanadate contain protease inhibitor mixture roche lysed cell sonication spun lysate min × g collect soluble fraction add -ml glutathione-sepharose matrix incubate h °c wash four time lysis buffer one time kinase buffer see below finally resuspend bead μl kinase buffer contain vol vol glycerol storage his-ets transform origami de novagen his-ets expression vector induced expression mm isopropyl-β-d -- thiogalactopyranoside h °c purify his-ets spun ml cell resuspend pellet ml lysis buffer pb mm nacl mm imidazole mm dtt nonidet p- contain protease inhibitor mixture without edta roche lysed cell bar use cell disruptor spun lysate min × g collect soluble fraction add μl cobalt bead thermo scientific h incubation °c rotate wheel wash four time lysis buffer elute incubated bead min elution buffer pb mm imidazole ph contain protease inhibitor mixture spun × g collect eluted protein protein kinase assay mixed glutathione-sepharose bead harbor gst-cdk wt kd either monomeric complexed strepii-cycm μm bsa mm dtt μm atp μci atpγ-p μm histone h μm his-ets add kinase buffer mm tris·hcl mm mgcl mm egta mm dtt μm heparin ph total volume μl incubate reaction min °c add laemli sample buffer heat-denatured sample run bis-tris sd page cut gel slice detect gst-cdk strepii-cycm western blotting stain gel slice contain substrate coomassie r- bio-rad dry them detect incorporated radioactivity autoradiography identify four unrelated girl anogenital renal malformation dysmorphic facial feature normal intellect syndactyly toe similar combination feature report previously mother–daughter pair table supplementary note online author note clinical overlap townes-brocks syndrome suggest phenotype represent separate autosomal dominant entity mim define cardinal feature syndrome characteristic facial appearance apparent telecanthus broad tripartite nasal tip variable syndactyly toe – hypoplastic labia anal atresia urogenital malformation fig a–h also observe variety feature table figure clinical molecular characterization star syndrome figure clinical molecular characterization star syndrome a–f facial appearance case – apparent telecanthus dysplastic ear thin upper lips a c e toe syndactyly – – – b d f case illustrate recognizable feature star syndrome specific parental consent obtain publication photographs anal atresia hypoplastic labium show g h x-ray film foot case show four ray leave delta-shaped th th metatarsal right h compare clinical picture d i array-cgh data log ratio represent copy number loss six probe span kb one probe position within fama deletion remove part functional gene j schematic structure fama position mutation fama five cod exon box cyclin domain green encode exon – horizontal arrow indicate deletion extend case include exon whereas horizontal line exon indicate deletion find case remove exon sequence pink horizontal bar box indicate amplicons use qpcr sequence one alternative exon amplicon indicate space constraint mutation dupt case result immediate stop codon ga -ga splice mutation case predict deleterious alter conserve splice donor acceptor site intron respectively full size image kb table clinical feature star syndrome case table - clinical feature star syndrome case full table basis phenotypic overlap townes-brocks okihiro feingold syndrome analyze sall ref sall ref mycn find mutation gene supplementary method online next carried genome-wide high-resolution oligonucleotide array comparative genomic hybridization cgh analysis supplementary method genomic dna severely affect individual case lower lid coloboma epilepsy syringomyelia identify heterozygous deletion – kb xq remove exon fama fig i j use real-time pcr confirm deletion child exclude unaffected parent supplementary fig a online supplementary method supplementary table online cgh customize oligonucleotide array enrich probe xq follow breakpoint clone define exact deletion size bp g delchromosome x ncbi build fig j supplementary fig online deletion remove cod region exon well intron bp bp intron bp sequence include utr entire krtp pseudogene ncbi gene id paternity proven use routine method find deletion overlap fama available copy number variation cnv databases subsequently carry qpcr analysis three affected individual case mother-daughter pair literature case case detect de novo heterozygous deletion – kb overlap exon supplementary fig b online use xq-targeted array cgh breakpoint clone identify deletion bp g delchromosome x ncbi build fig j supplementary fig remove bp intron exon include utr bp sequence find heterozygous fama point mutation remain case fig j supplementary fig supplementary method supplementary table case identify mutation ga affect splice donor site intron case identify frameshift mutation dupt immediately result premature stop codon nxfsx case detect mutation -ga alters splice acceptor site intron validate point mutation deletion independent round pcr sequence qpcr confirm paternity de novo status point mutation deletion sporadic case none mutation see dna unaffected female control larger deletion involve fama find unrelated array-cgh investigation analyze x-chromosome inactivation supplementary method supplementary fig online find complete skew x inactivation case – almost complete skew case suggest cell carry mutation active x chromosome growth disadvantage fetal development use rt-pcr rna lymphoblastoid cell case supplementary fig find aberrant splice product additional evidence mutate allele inactivate furthermore fama subject x inactivation case parental origin deletion could determine result lack informative snp case mother case give birth two boy clinically unaffected sample available can not exclude condition lethal male fetal loss report family function fama unknown gene consist five coding exon -bp cod region encodes protein amino acid genbank list mrna length bp reference sequence nm expression gene by est data find adult tissue include kidney colon cervix uterus heart ncbi expression viewer unigene h expression also note listed tumor tissue well embryo fetus gene homologous fama ncbi homologene find x chromosome chimpanzee dog zebrafish similar gene chromosome however mouse rat true homologs specie similar intronless gene chromosome mouse rat likely arise retrotransposon insertion event murine x chromosome flank gene atpb dusp conserved remnant fama sequence detect fama contains cyclin-box-fold domain protein-binding domain find cyclins role cell cycle transcription control human phenotype result cyclin gene mutation yet report homozygous knockout mouse ccnd encode cyclin d viable small reduce lifespan also dystrophic change retina likely result decrease cell proliferation degeneration photoreceptor cell embryogenesis cyclin d colocalizes sall nucleus protein cooperatively mediate transcriptional repression phenotype case overlap considerably townes-brocks syndrome cause sall mutation carry co-immunoprecipitation find sall sall would interact fama manner similar observe sall cyclin d find fama interacts sall sall supplementary fig online support hypothesis fama sall participate developmental pathway fama mutation lead star syndrome growth retardation all case table retinal abnormality three case reminiscent reduce body size retinal anomaly cyclin d knockout mouse therefore proliferation defect might partly responsible star syndrome address question carry knockdown fama mrna follow proliferation assay transfection hek cell three different fama-specific rnai oligonucleotides result significant reduction fama mrna expression proliferation transfected cell supplementary method supplementary fig online support link fama cell proliferation find loss-of-function mutation fama result rather homogeneous clinical phenotype additional anomaly case likely result effect -kb deletion expression neighbor gene possibly atpb dusp however can not exclude homogeneous phenotype result ascertainment bias fama mutation include missense change could result broader spectrum malformation gene cause overlap phenotype star syndrome townes-brocks syndrome seem act pathway note mycn gene mutate feingold syndrome direct regulator cyclin d ref thus worth explore whether phenotypic similarity feingold star syndrome might explain direct regulation fama mycn fama locate approximately mb centromeric mecp xq duplication overlap mecp fama describe associated clinical phenotype female deletion overlap mecp fama observe date although gene fama mecp implicate brain development fama mecp gene region know result x-linked dominant phenotype thus deletion gene allele might lethal male female'"
      ]
     },
     "execution_count": 145,
     "metadata": {},
     "output_type": "execute_result"
    }
   ],
   "source": [
    "normalized"
   ]
  },
  {
   "cell_type": "code",
   "execution_count": null,
   "metadata": {},
   "outputs": [],
   "source": [
    "train = data_all.iloc[:len(train)]\n",
    "test = data_all.iloc[len(train):]"
   ]
  },
  {
   "cell_type": "markdown",
   "metadata": {},
   "source": [
    "# Here we will add features from word2vec retrained then get the mean for the sentences"
   ]
  },
  {
   "cell_type": "code",
   "execution_count": 84,
   "metadata": {},
   "outputs": [],
   "source": [
    "class MySentences(object):\n",
    "    \"\"\"MySentences is a generator to produce a list of tokenized sentences \n",
    "    \n",
    "    Takes a list of numpy arrays containing documents.\n",
    "    \n",
    "    Args:\n",
    "        arrays: List of arrays, where each element in the array contains a document.\n",
    "    \"\"\"\n",
    "    def __init__(self, *arrays):\n",
    "        self.arrays = arrays\n",
    " \n",
    "    def __iter__(self):\n",
    "        for array in self.arrays:\n",
    "            for document in array:\n",
    "                for sent in nltk.sent_tokenize(document):\n",
    "                    yield nltk.word_tokenize(sent)\n",
    "\n",
    "def get_word2vec(sentences, location,size):\n",
    "    \"\"\"Returns trained word2vec\n",
    "    \n",
    "    Args:\n",
    "        sentences: iterator for sentences\n",
    "        \n",
    "        location (str): Path to save/load word2vec\n",
    "    \"\"\"\n",
    "    if os.path.exists(location):\n",
    "        print('Found {}'.format(location))\n",
    "        model = gensim.models.Word2Vec.load(location)\n",
    "        return model\n",
    "    \n",
    "    print('{} not found. training model'.format(location))\n",
    "    model = gensim.models.Word2Vec(sentences, size=size, window=5, min_count=5, workers=4)\n",
    "    print('Model done training. Saving to disk')\n",
    "    model.save(location)\n",
    "    return model"
   ]
  },
  {
   "cell_type": "code",
   "execution_count": 4,
   "metadata": {},
   "outputs": [],
   "source": [
    "#It's important to remove duplicated spaces for word2vec learning !\n",
    "train[\"Text\"]=[\" \".join(doc.split()) for doc in train[\"Text\"].values]\n",
    "test[\"Text\"]=[\" \".join(doc.split()) for doc in test[\"Text\"].values]"
   ]
  },
  {
   "cell_type": "code",
   "execution_count": 85,
   "metadata": {},
   "outputs": [
    {
     "name": "stdout",
     "output_type": "stream",
     "text": [
      "w2v_features100 not found. training model\n",
      "Model done training. Saving to disk\n",
      "w2v_features200 not found. training model\n",
      "Model done training. Saving to disk\n",
      "w2v_features300 not found. training model\n",
      "Model done training. Saving to disk\n"
     ]
    }
   ],
   "source": [
    "number_w2v=[100,200,300]\n",
    "w2v={}\n",
    "for size in number_w2v:\n",
    "    w2v[\"w2v_\"+str(size)] = get_word2vec(\n",
    "        MySentences(\n",
    "            train[\"Text\"].values),\"w2v_features\"+str(size),size\n",
    "    )"
   ]
  },
  {
   "cell_type": "code",
   "execution_count": 86,
   "metadata": {},
   "outputs": [],
   "source": [
    "class MyTokenizer:\n",
    "    def __init__(self):\n",
    "        pass\n",
    "    \n",
    "    def fit(self, X, y=None):\n",
    "        return self\n",
    "    \n",
    "    def transform(self, X):\n",
    "        transformed_X = []\n",
    "        for document in X:\n",
    "            tokenized_doc = []\n",
    "            for sent in nltk.sent_tokenize(document):\n",
    "                tokenized_doc += nltk.word_tokenize(sent)\n",
    "            transformed_X.append(np.array(tokenized_doc))\n",
    "        return np.array(transformed_X)\n",
    "    \n",
    "    def fit_transform(self, X, y=None):\n",
    "        return self.transform(X)\n",
    "\n",
    "class MeanEmbeddingVectorizer(object):\n",
    "    def __init__(self, word2vec):\n",
    "        self.word2vec = word2vec\n",
    "        # if a text is empty we should return a vector of zeros\n",
    "        # with the same dimensionality as all the other vectors\n",
    "        self.dim = len(word2vec.wv.syn0[0])\n",
    "\n",
    "    def fit(self, X, y=None):\n",
    "        return self\n",
    "\n",
    "    def transform(self, X):\n",
    "        X = MyTokenizer().fit_transform(X)\n",
    "        \n",
    "        return np.array([\n",
    "            np.mean([self.word2vec.wv[w] for w in words if w in self.word2vec.wv]\n",
    "                    or [np.zeros(self.dim)], axis=0)\n",
    "            for words in X\n",
    "        ])\n",
    "    \n",
    "    def fit_transform(self, X, y=None):\n",
    "        return self.transform(X)"
   ]
  },
  {
   "cell_type": "code",
   "execution_count": 87,
   "metadata": {
    "scrolled": true
   },
   "outputs": [
    {
     "ename": "KeyboardInterrupt",
     "evalue": "",
     "output_type": "error",
     "traceback": [
      "\u001b[1;31m---------------------------------------------------------------------------\u001b[0m",
      "\u001b[1;31mKeyboardInterrupt\u001b[0m                         Traceback (most recent call last)",
      "\u001b[1;32m<ipython-input-87-43d22b5f1064>\u001b[0m in \u001b[0;36m<module>\u001b[1;34m()\u001b[0m\n\u001b[0;32m      4\u001b[0m \u001b[1;32mfor\u001b[0m \u001b[0mname\u001b[0m \u001b[1;32min\u001b[0m \u001b[0mw2v\u001b[0m\u001b[1;33m:\u001b[0m\u001b[1;33m\u001b[0m\u001b[0m\n\u001b[0;32m      5\u001b[0m     \u001b[0mmean_embedding_vectorizer\u001b[0m\u001b[1;33m[\u001b[0m\u001b[0mname\u001b[0m\u001b[1;33m]\u001b[0m \u001b[1;33m=\u001b[0m \u001b[0mMeanEmbeddingVectorizer\u001b[0m\u001b[1;33m(\u001b[0m\u001b[0mw2v\u001b[0m\u001b[1;33m[\u001b[0m\u001b[0mname\u001b[0m\u001b[1;33m]\u001b[0m\u001b[1;33m)\u001b[0m\u001b[1;33m\u001b[0m\u001b[0m\n\u001b[1;32m----> 6\u001b[1;33m     \u001b[0mmean_embedded_train\u001b[0m\u001b[1;33m[\u001b[0m\u001b[0mname\u001b[0m\u001b[1;33m]\u001b[0m \u001b[1;33m=\u001b[0m \u001b[0mmean_embedding_vectorizer\u001b[0m\u001b[1;33m[\u001b[0m\u001b[0mname\u001b[0m\u001b[1;33m]\u001b[0m\u001b[1;33m.\u001b[0m\u001b[0mfit_transform\u001b[0m\u001b[1;33m(\u001b[0m\u001b[0mtrain\u001b[0m\u001b[1;33m[\u001b[0m\u001b[1;34m'Text'\u001b[0m\u001b[1;33m]\u001b[0m\u001b[1;33m)\u001b[0m\u001b[1;33m\u001b[0m\u001b[0m\n\u001b[0m\u001b[0;32m      7\u001b[0m     \u001b[0mmean_embedded_test\u001b[0m\u001b[1;33m[\u001b[0m\u001b[0mname\u001b[0m\u001b[1;33m]\u001b[0m \u001b[1;33m=\u001b[0m \u001b[0mmean_embedding_vectorizer\u001b[0m\u001b[1;33m[\u001b[0m\u001b[0mname\u001b[0m\u001b[1;33m]\u001b[0m\u001b[1;33m.\u001b[0m\u001b[0mfit_transform\u001b[0m\u001b[1;33m(\u001b[0m\u001b[0mtest\u001b[0m\u001b[1;33m[\u001b[0m\u001b[1;34m'Text'\u001b[0m\u001b[1;33m]\u001b[0m\u001b[1;33m)\u001b[0m\u001b[1;33m\u001b[0m\u001b[0m\n\u001b[0;32m      8\u001b[0m \u001b[0mdf_embed_tr\u001b[0m\u001b[1;33m=\u001b[0m\u001b[1;33m{\u001b[0m\u001b[1;33m}\u001b[0m\u001b[1;33m\u001b[0m\u001b[0m\n",
      "\u001b[1;32m<ipython-input-86-7ecc3d3c050a>\u001b[0m in \u001b[0;36mfit_transform\u001b[1;34m(self, X, y)\u001b[0m\n\u001b[0;32m     38\u001b[0m \u001b[1;33m\u001b[0m\u001b[0m\n\u001b[0;32m     39\u001b[0m     \u001b[1;32mdef\u001b[0m \u001b[0mfit_transform\u001b[0m\u001b[1;33m(\u001b[0m\u001b[0mself\u001b[0m\u001b[1;33m,\u001b[0m \u001b[0mX\u001b[0m\u001b[1;33m,\u001b[0m \u001b[0my\u001b[0m\u001b[1;33m=\u001b[0m\u001b[1;32mNone\u001b[0m\u001b[1;33m)\u001b[0m\u001b[1;33m:\u001b[0m\u001b[1;33m\u001b[0m\u001b[0m\n\u001b[1;32m---> 40\u001b[1;33m         \u001b[1;32mreturn\u001b[0m \u001b[0mself\u001b[0m\u001b[1;33m.\u001b[0m\u001b[0mtransform\u001b[0m\u001b[1;33m(\u001b[0m\u001b[0mX\u001b[0m\u001b[1;33m)\u001b[0m\u001b[1;33m\u001b[0m\u001b[0m\n\u001b[0m",
      "\u001b[1;32m<ipython-input-86-7ecc3d3c050a>\u001b[0m in \u001b[0;36mtransform\u001b[1;34m(self, X)\u001b[0m\n\u001b[0;32m     29\u001b[0m \u001b[1;33m\u001b[0m\u001b[0m\n\u001b[0;32m     30\u001b[0m     \u001b[1;32mdef\u001b[0m \u001b[0mtransform\u001b[0m\u001b[1;33m(\u001b[0m\u001b[0mself\u001b[0m\u001b[1;33m,\u001b[0m \u001b[0mX\u001b[0m\u001b[1;33m)\u001b[0m\u001b[1;33m:\u001b[0m\u001b[1;33m\u001b[0m\u001b[0m\n\u001b[1;32m---> 31\u001b[1;33m         \u001b[0mX\u001b[0m \u001b[1;33m=\u001b[0m \u001b[0mMyTokenizer\u001b[0m\u001b[1;33m(\u001b[0m\u001b[1;33m)\u001b[0m\u001b[1;33m.\u001b[0m\u001b[0mfit_transform\u001b[0m\u001b[1;33m(\u001b[0m\u001b[0mX\u001b[0m\u001b[1;33m)\u001b[0m\u001b[1;33m\u001b[0m\u001b[0m\n\u001b[0m\u001b[0;32m     32\u001b[0m \u001b[1;33m\u001b[0m\u001b[0m\n\u001b[0;32m     33\u001b[0m         return np.array([\n",
      "\u001b[1;32m<ipython-input-86-7ecc3d3c050a>\u001b[0m in \u001b[0;36mfit_transform\u001b[1;34m(self, X, y)\u001b[0m\n\u001b[0;32m     16\u001b[0m \u001b[1;33m\u001b[0m\u001b[0m\n\u001b[0;32m     17\u001b[0m     \u001b[1;32mdef\u001b[0m \u001b[0mfit_transform\u001b[0m\u001b[1;33m(\u001b[0m\u001b[0mself\u001b[0m\u001b[1;33m,\u001b[0m \u001b[0mX\u001b[0m\u001b[1;33m,\u001b[0m \u001b[0my\u001b[0m\u001b[1;33m=\u001b[0m\u001b[1;32mNone\u001b[0m\u001b[1;33m)\u001b[0m\u001b[1;33m:\u001b[0m\u001b[1;33m\u001b[0m\u001b[0m\n\u001b[1;32m---> 18\u001b[1;33m         \u001b[1;32mreturn\u001b[0m \u001b[0mself\u001b[0m\u001b[1;33m.\u001b[0m\u001b[0mtransform\u001b[0m\u001b[1;33m(\u001b[0m\u001b[0mX\u001b[0m\u001b[1;33m)\u001b[0m\u001b[1;33m\u001b[0m\u001b[0m\n\u001b[0m\u001b[0;32m     19\u001b[0m \u001b[1;33m\u001b[0m\u001b[0m\n\u001b[0;32m     20\u001b[0m \u001b[1;32mclass\u001b[0m \u001b[0mMeanEmbeddingVectorizer\u001b[0m\u001b[1;33m(\u001b[0m\u001b[0mobject\u001b[0m\u001b[1;33m)\u001b[0m\u001b[1;33m:\u001b[0m\u001b[1;33m\u001b[0m\u001b[0m\n",
      "\u001b[1;32m<ipython-input-86-7ecc3d3c050a>\u001b[0m in \u001b[0;36mtransform\u001b[1;34m(self, X)\u001b[0m\n\u001b[0;32m     11\u001b[0m             \u001b[0mtokenized_doc\u001b[0m \u001b[1;33m=\u001b[0m \u001b[1;33m[\u001b[0m\u001b[1;33m]\u001b[0m\u001b[1;33m\u001b[0m\u001b[0m\n\u001b[0;32m     12\u001b[0m             \u001b[1;32mfor\u001b[0m \u001b[0msent\u001b[0m \u001b[1;32min\u001b[0m \u001b[0mnltk\u001b[0m\u001b[1;33m.\u001b[0m\u001b[0msent_tokenize\u001b[0m\u001b[1;33m(\u001b[0m\u001b[0mdocument\u001b[0m\u001b[1;33m)\u001b[0m\u001b[1;33m:\u001b[0m\u001b[1;33m\u001b[0m\u001b[0m\n\u001b[1;32m---> 13\u001b[1;33m                 \u001b[0mtokenized_doc\u001b[0m \u001b[1;33m+=\u001b[0m \u001b[0mnltk\u001b[0m\u001b[1;33m.\u001b[0m\u001b[0mword_tokenize\u001b[0m\u001b[1;33m(\u001b[0m\u001b[0msent\u001b[0m\u001b[1;33m)\u001b[0m\u001b[1;33m\u001b[0m\u001b[0m\n\u001b[0m\u001b[0;32m     14\u001b[0m             \u001b[0mtransformed_X\u001b[0m\u001b[1;33m.\u001b[0m\u001b[0mappend\u001b[0m\u001b[1;33m(\u001b[0m\u001b[0mnp\u001b[0m\u001b[1;33m.\u001b[0m\u001b[0marray\u001b[0m\u001b[1;33m(\u001b[0m\u001b[0mtokenized_doc\u001b[0m\u001b[1;33m)\u001b[0m\u001b[1;33m)\u001b[0m\u001b[1;33m\u001b[0m\u001b[0m\n\u001b[0;32m     15\u001b[0m         \u001b[1;32mreturn\u001b[0m \u001b[0mnp\u001b[0m\u001b[1;33m.\u001b[0m\u001b[0marray\u001b[0m\u001b[1;33m(\u001b[0m\u001b[0mtransformed_X\u001b[0m\u001b[1;33m)\u001b[0m\u001b[1;33m\u001b[0m\u001b[0m\n",
      "\u001b[1;32mC:\\Users\\Franck\\Documents\\Continuum\\Anaconda3\\lib\\site-packages\\nltk\\tokenize\\__init__.py\u001b[0m in \u001b[0;36mword_tokenize\u001b[1;34m(text, language, preserve_line)\u001b[0m\n\u001b[0;32m    129\u001b[0m     \"\"\"\n\u001b[0;32m    130\u001b[0m     \u001b[0msentences\u001b[0m \u001b[1;33m=\u001b[0m \u001b[1;33m[\u001b[0m\u001b[0mtext\u001b[0m\u001b[1;33m]\u001b[0m \u001b[1;32mif\u001b[0m \u001b[0mpreserve_line\u001b[0m \u001b[1;32melse\u001b[0m \u001b[0msent_tokenize\u001b[0m\u001b[1;33m(\u001b[0m\u001b[0mtext\u001b[0m\u001b[1;33m,\u001b[0m \u001b[0mlanguage\u001b[0m\u001b[1;33m)\u001b[0m\u001b[1;33m\u001b[0m\u001b[0m\n\u001b[1;32m--> 131\u001b[1;33m     return [token for sent in sentences\n\u001b[0m\u001b[0;32m    132\u001b[0m             for token in _treebank_word_tokenizer.tokenize(sent)]\n",
      "\u001b[1;32mC:\\Users\\Franck\\Documents\\Continuum\\Anaconda3\\lib\\site-packages\\nltk\\tokenize\\__init__.py\u001b[0m in \u001b[0;36m<listcomp>\u001b[1;34m(.0)\u001b[0m\n\u001b[0;32m    130\u001b[0m     \u001b[0msentences\u001b[0m \u001b[1;33m=\u001b[0m \u001b[1;33m[\u001b[0m\u001b[0mtext\u001b[0m\u001b[1;33m]\u001b[0m \u001b[1;32mif\u001b[0m \u001b[0mpreserve_line\u001b[0m \u001b[1;32melse\u001b[0m \u001b[0msent_tokenize\u001b[0m\u001b[1;33m(\u001b[0m\u001b[0mtext\u001b[0m\u001b[1;33m,\u001b[0m \u001b[0mlanguage\u001b[0m\u001b[1;33m)\u001b[0m\u001b[1;33m\u001b[0m\u001b[0m\n\u001b[0;32m    131\u001b[0m     return [token for sent in sentences\n\u001b[1;32m--> 132\u001b[1;33m             for token in _treebank_word_tokenizer.tokenize(sent)]\n\u001b[0m",
      "\u001b[1;32mC:\\Users\\Franck\\Documents\\Continuum\\Anaconda3\\lib\\site-packages\\nltk\\tokenize\\treebank.py\u001b[0m in \u001b[0;36mtokenize\u001b[1;34m(self, text, convert_parentheses, return_str)\u001b[0m\n\u001b[0;32m    131\u001b[0m \u001b[1;33m\u001b[0m\u001b[0m\n\u001b[0;32m    132\u001b[0m         \u001b[1;32mfor\u001b[0m \u001b[0mregexp\u001b[0m\u001b[1;33m,\u001b[0m \u001b[0msubstitution\u001b[0m \u001b[1;32min\u001b[0m \u001b[0mself\u001b[0m\u001b[1;33m.\u001b[0m\u001b[0mENDING_QUOTES\u001b[0m\u001b[1;33m:\u001b[0m\u001b[1;33m\u001b[0m\u001b[0m\n\u001b[1;32m--> 133\u001b[1;33m             \u001b[0mtext\u001b[0m \u001b[1;33m=\u001b[0m \u001b[0mregexp\u001b[0m\u001b[1;33m.\u001b[0m\u001b[0msub\u001b[0m\u001b[1;33m(\u001b[0m\u001b[0msubstitution\u001b[0m\u001b[1;33m,\u001b[0m \u001b[0mtext\u001b[0m\u001b[1;33m)\u001b[0m\u001b[1;33m\u001b[0m\u001b[0m\n\u001b[0m\u001b[0;32m    134\u001b[0m \u001b[1;33m\u001b[0m\u001b[0m\n\u001b[0;32m    135\u001b[0m         \u001b[1;32mfor\u001b[0m \u001b[0mregexp\u001b[0m \u001b[1;32min\u001b[0m \u001b[0mself\u001b[0m\u001b[1;33m.\u001b[0m\u001b[0mCONTRACTIONS2\u001b[0m\u001b[1;33m:\u001b[0m\u001b[1;33m\u001b[0m\u001b[0m\n",
      "\u001b[1;31mKeyboardInterrupt\u001b[0m: "
     ]
    }
   ],
   "source": [
    "mean_embedding_vectorizer={}\n",
    "mean_embedded_train={}\n",
    "mean_embedded_test={}\n",
    "for name in w2v:\n",
    "    mean_embedding_vectorizer[name] = MeanEmbeddingVectorizer(w2v[name])\n",
    "    mean_embedded_train[name] = mean_embedding_vectorizer[name].fit_transform(train['Text'])\n",
    "    mean_embedded_test[name] = mean_embedding_vectorizer[name].fit_transform(test['Text'])\n",
    "df_embed_tr={}\n",
    "df_embed_te={}\n",
    "for name in w2v:\n",
    "    df_embed_tr[name]=pd.DataFrame(mean_embedded_train[name])\n",
    "    df_embed_te[name]=pd.DataFrame(mean_embedded_test[name])\n",
    "df_embedding_tr={}\n",
    "df_embedding_te={}\n",
    "for name in w2v:\n",
    "    df_embedding_tr[name]=df_embed_tr[name].reset_index()\n",
    "    df_embedding_te[name]=df_embed_te[name].reset_index()\n",
    "    df_embedding_tr[name]=df_embedding_tr[name].rename(columns={\"index\":\"ID\"})\n",
    "    df_embedding_te[name]=df_embedding_te[name].rename(columns={\"index\":\"ID\"})\n",
    "train_w2v={}\n",
    "test_w2v={}\n",
    "for name in w2v:\n",
    "    train_w2v[name]=pd.concat((train_cl,df_embedding_tr[name]),axis=1)\n",
    "    test_w2v[name]=pd.concat((test_cl,df_embedding_te[name]),axis=1)\n"
   ]
  },
  {
   "cell_type": "code",
   "execution_count": null,
   "metadata": {},
   "outputs": [],
   "source": [
    "for name in w2v:\n",
    "    train_w2v[name].to_csv(\"checkpoints_databases/nw_working_train_\"+name+\".csv\",index=False)\n",
    "    test_w2v[name].to_csv(\"checkpoints_databases/nw_working_test_\"+name+\".csv\",index=False)"
   ]
  },
  {
   "cell_type": "markdown",
   "metadata": {},
   "source": [
    "# Now TFIDF+300tsvd"
   ]
  },
  {
   "cell_type": "code",
   "execution_count": 16,
   "metadata": {},
   "outputs": [],
   "source": [
    "tfidf = TfidfVectorizer(\n",
    "        min_df=10, max_features=10000, strip_accents=None, lowercase = False,\n",
    "        analyzer='word', token_pattern=r'\\w+', ngram_range=(1,3), use_idf=True,\n",
    "        smooth_idf=True, sublinear_tf=True\n",
    "        ).fit(train[\"Text\"])\n",
    "\n",
    "X_train_text = tfidf.transform(train[\"Text\"])\n",
    "X_test_text = tfidf.transform(test[\"Text\"])"
   ]
  },
  {
   "cell_type": "code",
   "execution_count": 38,
   "metadata": {},
   "outputs": [],
   "source": [
    "tsvd_train= {}\n",
    "tsvd_test={}\n",
    "list_comp=[100,200,300]\n",
    "dic_svd={}\n",
    "for comp in list_comp:\n",
    "    dic_svd[str(comp)]=TruncatedSVD(n_components=comp,n_iter=25,random_state=26)\n",
    "for svd in dic_svd:\n",
    "    tsvd_train[svd]=dic_svd[svd].fit_transform(X_train_text)\n",
    "    tsvd_test[svd]=dic_svd[svd].transform(X_test_text)\n",
    "X_train=pd.DataFrame()\n",
    "X_test=pd.DataFrame()\n",
    "for n in dic_svd:\n",
    "    for i in range(int(n)):\n",
    "        X_train['tsvd_' +str(n)+\"_\"+str(i)] = tsvd_train[n][:, i]\n",
    "        X_test['tsvd_' +str(n)+\"_\"+str(i)] = tsvd_test[n][:, i]"
   ]
  },
  {
   "cell_type": "code",
   "execution_count": 40,
   "metadata": {},
   "outputs": [],
   "source": [
    "X_train_100=X_train.iloc[:,:100]\n",
    "X_train_200=X_train.iloc[:,100:300]\n",
    "X_train_300=X_train.iloc[:,300:600]\n",
    "X_test_100=X_test.iloc[:,:100]\n",
    "X_test_200=X_test.iloc[:,100:300]\n",
    "X_test_300=X_test.iloc[:,300:600]\n",
    "dic_train={}\n",
    "dic_test={}\n",
    "dic_train[\"tsvd_100\"]=pd.concat((train_cl, X_train_100),axis=1)\n",
    "dic_test[\"tsvd_100\"]=pd.concat((test_cl,X_test_100),axis=1)\n",
    "dic_train[\"tsvd_200\"]=pd.concat((train_cl, X_train_200),axis=1)\n",
    "dic_test[\"tsvd_200\"]=pd.concat((test_cl,X_test_200),axis=1)\n",
    "dic_train[\"tsvd_300\"]=pd.concat((train_cl, X_train_300),axis=1)\n",
    "dic_test[\"tsvd_300\"]=pd.concat((test_cl,X_test_300),axis=1)\n"
   ]
  },
  {
   "cell_type": "code",
   "execution_count": 67,
   "metadata": {},
   "outputs": [],
   "source": [
    "for name in dic_train:\n",
    "    dic_train[name].to_csv(\"checkpoints_databases/nw_working_train_tfidf_\"+name+\".csv\",index=False)\n",
    "    dic_test[name].to_csv(\"checkpoints_databases/nw_working_test_tfidf_\"+name+\".csv\",index=False)"
   ]
  },
  {
   "cell_type": "markdown",
   "metadata": {},
   "source": [
    "# Now Doc2Vec"
   ]
  },
  {
   "cell_type": "code",
   "execution_count": 19,
   "metadata": {},
   "outputs": [],
   "source": [
    "def constructLabeledSentences(data):\n",
    "    sentences=[]\n",
    "    for index, row in data.iteritems():\n",
    "        sentences.append(LabeledSentence(utils.to_unicode(row).split(), ['Text' + '_%s' % str(index)]))\n",
    "    return sentences\n",
    "\n",
    "train_sentences = constructLabeledSentences(train['Text'])\n",
    "test_sentences = constructLabeledSentences(test['Text'])\n",
    "\n",
    "Text_dim=[100,200,300]\n",
    "d2v_train={}\n",
    "d2v_test={}\n",
    "for size in Text_dim:\n",
    "    d2v_train[\"d2v_\"+str(size)] = Doc2Vec(min_count=1, window=10, size=size, sample=1e-4, negative=5, workers=-1, iter=5,seed=26)\n",
    "    d2v_train[\"d2v_\"+str(size)].build_vocab(train_sentences)\n",
    "    d2v_train[\"d2v_\"+str(size)].train(train_sentences, total_examples=d2v_train[\"d2v_\"+str(size)].corpus_count,\n",
    "                                      epochs=d2v_train[\"d2v_\"+str(size)].iter)\n",
    "for size in Text_dim:\n",
    "    d2v_test[\"d2v_\"+str(size)] = Doc2Vec(min_count=1, window=10, size=size, sample=1e-4, negative=5, workers=-1, iter=5,seed=26)\n",
    "    d2v_test[\"d2v_\"+str(size)].build_vocab(test_sentences)\n",
    "    d2v_test[\"d2v_\"+str(size)].train(test_sentences, total_examples=d2v_test[\"d2v_\"+str(size)].corpus_count,\n",
    "                                 epochs=d2v_test[\"d2v_\"+str(size)].iter)"
   ]
  },
  {
   "cell_type": "code",
   "execution_count": 20,
   "metadata": {},
   "outputs": [],
   "source": [
    "d2v_train_arrays={}\n",
    "d2v_test_arrays={}\n",
    "d2v_train_arrays[\"d2v_100\"] = np.zeros((len(train), 100))\n",
    "d2v_test_arrays[\"d2v_100\"] = np.zeros((len(test), 100))\n",
    "d2v_train_arrays[\"d2v_200\"] = np.zeros((len(train), 200))\n",
    "d2v_test_arrays[\"d2v_200\"] = np.zeros((len(test), 200))\n",
    "d2v_train_arrays[\"d2v_300\"] = np.zeros((len(train), 300))\n",
    "d2v_test_arrays[\"d2v_300\"] = np.zeros((len(test), 300))\n",
    "\n",
    "\n",
    "for n_train,n_test in zip(range(len(train)),range(len(test))):\n",
    "    d2v_train_arrays[\"d2v_100\"][n_train] = d2v_train[\"d2v_100\"].docvecs['Text_'+str(n_train)]\n",
    "    d2v_test_arrays[\"d2v_100\"][n_test] = d2v_test[\"d2v_100\"].docvecs['Text_'+str(n_test)]\n",
    "    d2v_train_arrays[\"d2v_200\"][n_train] = d2v_train[\"d2v_200\"].docvecs['Text_'+str(n_train)]\n",
    "    d2v_test_arrays[\"d2v_200\"][n_test] = d2v_test[\"d2v_200\"].docvecs['Text_'+str(n_test)]\n",
    "    d2v_train_arrays[\"d2v_300\"][n_train] = d2v_train[\"d2v_300\"].docvecs['Text_'+str(n_train)]\n",
    "    d2v_test_arrays[\"d2v_300\"][n_test] = d2v_test[\"d2v_300\"].docvecs['Text_'+str(n_test)]\n",
    "    \n"
   ]
  },
  {
   "cell_type": "code",
   "execution_count": 68,
   "metadata": {
    "scrolled": true
   },
   "outputs": [
    {
     "name": "stdout",
     "output_type": "stream",
     "text": [
      "(3689, 138) (986, 138)\n",
      "(3689, 238) (986, 238)\n",
      "(3689, 338) (986, 338)\n"
     ]
    }
   ],
   "source": [
    "X_train_d2v={}\n",
    "X_test_d2v={}\n",
    "for name in d2v_train:\n",
    "    X_train_d2v[name]=pd.concat((train_cl, pd.DataFrame(d2v_train_arrays[name])),axis=1)\n",
    "    X_test_d2v[name]=pd.concat((test_cl, pd.DataFrame(d2v_test_arrays[name])),axis=1)\n",
    "    print(X_train_d2v[name].shape,X_test_d2v[name].shape)\n",
    "for name in X_train_d2v:\n",
    "    X_train_d2v[name].to_csv(\"checkpoints_databases/nw_working_train_\"+name+\".csv\",index=False)\n",
    "    X_test_d2v[name].to_csv(\"checkpoints_databases/nw_working_test_\"+name+\".csv\",index=False)\n",
    "    "
   ]
  },
  {
   "cell_type": "code",
   "execution_count": null,
   "metadata": {},
   "outputs": [],
   "source": []
  }
 ],
 "metadata": {
  "kernelspec": {
   "display_name": "Python 3",
   "language": "python",
   "name": "python3"
  },
  "language_info": {
   "codemirror_mode": {
    "name": "ipython",
    "version": 3
   },
   "file_extension": ".py",
   "mimetype": "text/x-python",
   "name": "python",
   "nbconvert_exporter": "python",
   "pygments_lexer": "ipython3",
   "version": "3.6.1"
  }
 },
 "nbformat": 4,
 "nbformat_minor": 2
}
