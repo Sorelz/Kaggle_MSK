{
 "cells": [
  {
   "cell_type": "code",
   "execution_count": 9,
   "metadata": {},
   "outputs": [],
   "source": [
    "import numpy as np\n",
    "import pandas as pd\n",
    "import re\n",
    "import xgboost\n",
    "from xgboost.sklearn import XGBClassifier\n"
   ]
  },
  {
   "cell_type": "code",
   "execution_count": 2,
   "metadata": {},
   "outputs": [],
   "source": [
    "work_train= {} \n",
    "work_test = {}\n",
    "pre_process=[\"tfidf_tsvd_100.csv\",\"w2v_300.csv\",\"bio.csv\"]\n",
    "path=\"./window/checkpoints_databases/\"\n",
    "for f in pre_process:\n",
    "    work_train[re.sub(\"\\.csv\",\"\",f)] = pd.read_csv(path+\"new_working_train_\"+f)\n",
    "    work_test[re.sub(\"\\.csv\",\"\",f)] = pd.read_csv(path+\"new_working_test_\"+f)"
   ]
  },
  {
   "cell_type": "code",
   "execution_count": 3,
   "metadata": {},
   "outputs": [],
   "source": [
    "#External features + genes dummies\n",
    "feat_train_1=pd.read_csv(\"./window/w_meta_features/meta_train_l1l2.csv\") #Gene dummies\n",
    "feat_test_1=pd.read_csv(\"./window/w_meta_features/meta_test_l1l2.csv\") \n",
    "feat_train_1=feat_train_1.drop(\"ID\",axis=1)\n",
    "feat_test_1=feat_test_1.drop(\"ID\",axis=1)\n",
    "feat_train_2=pd.read_csv(\"./window/w_meta_features/new_working_train_ext.csv\")#External tsvd\n",
    "feat_test_2=pd.read_csv(\"./window/w_meta_features/new_working_test_ext.csv\")"
   ]
  },
  {
   "cell_type": "code",
   "execution_count": 4,
   "metadata": {},
   "outputs": [],
   "source": [
    "train=pd.concat((work_train[\"bio\"],work_train[\"tfidf_tsvd_100\"],work_train[\"w2v_300\"],feat_train_1,feat_train_2),axis=1)"
   ]
  },
  {
   "cell_type": "code",
   "execution_count": 5,
   "metadata": {},
   "outputs": [],
   "source": [
    "test=pd.concat((work_test[\"bio\"],work_test[\"tfidf_tsvd_100\"],work_test[\"w2v_300\"],feat_test_1,feat_test_2),axis=1)"
   ]
  },
  {
   "cell_type": "code",
   "execution_count": 6,
   "metadata": {},
   "outputs": [],
   "source": [
    "new_train=pd.read_csv(\"window/checkpoints_databases/new_working_train.csv\")\n",
    "new_test=pd.read_csv(\"window/checkpoints_databases/new_working_test.csv\")\n",
    "y=new_train.Class - 1\n",
    "ID_train=new_train.ID\n",
    "ID_test=new_test.ID\n",
    "del new_train, new_test\n"
   ]
  },
  {
   "cell_type": "code",
   "execution_count": null,
   "metadata": {},
   "outputs": [],
   "source": []
  },
  {
   "cell_type": "code",
   "execution_count": null,
   "metadata": {},
   "outputs": [],
   "source": []
  },
  {
   "cell_type": "code",
   "execution_count": null,
   "metadata": {},
   "outputs": [],
   "source": []
  }
 ],
 "metadata": {
  "kernelspec": {
   "display_name": "Python 3",
   "language": "python",
   "name": "python3"
  },
  "language_info": {
   "codemirror_mode": {
    "name": "ipython",
    "version": 3
   },
   "file_extension": ".py",
   "mimetype": "text/x-python",
   "name": "python",
   "nbconvert_exporter": "python",
   "pygments_lexer": "ipython3",
   "version": "3.6.1"
  }
 },
 "nbformat": 4,
 "nbformat_minor": 2
}
