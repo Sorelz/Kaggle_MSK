{
 "cells": [
  {
   "cell_type": "code",
   "execution_count": 81,
   "metadata": {},
   "outputs": [],
   "source": [
    "import numpy as np\n",
    "import pandas as pd\n",
    "import re\n",
    "import glob\n",
    "import os \n",
    "from sklearn.model_selection import GridSearchCV,cross_val_score,cross_val_predict\n",
    "from sklearn.linear_model import LogisticRegression\n",
    "from sklearn.model_selection import StratifiedKFold"
   ]
  },
  {
   "cell_type": "code",
   "execution_count": 2,
   "metadata": {},
   "outputs": [],
   "source": [
    "path_train=\"../No_window/nw_scores/nw_stack_train/\"\n",
    "path_test=\"../No_window/nw_scores/nw_stack_test/\""
   ]
  },
  {
   "cell_type": "code",
   "execution_count": 3,
   "metadata": {},
   "outputs": [],
   "source": [
    "dict_train = {} \n",
    "dict_test = {}\n",
    "train_files = [i for i in os.listdir(path_train)]\n",
    "test_files = [i for i in os.listdir(path_test)]\n",
    "for f in train_files:\n",
    "    dict_train[re.sub(\"\\.csv\",\"\",f)] = pd.read_csv(path_train+f)\n",
    "for f in test_files:\n",
    "    dict_test[re.sub(\"\\.csv\",\"\",f)] = pd.read_csv(path_test+f)"
   ]
  },
  {
   "cell_type": "code",
   "execution_count": 4,
   "metadata": {},
   "outputs": [],
   "source": [
    "col_no_ID=['class1', 'class2', 'class3', 'class4', 'class5', 'class6', 'class7',\n",
    "       'class8', 'class9']"
   ]
  },
  {
   "cell_type": "code",
   "execution_count": 5,
   "metadata": {},
   "outputs": [],
   "source": [
    "#Affecting  columns name\n",
    "for name in dict_test.keys():\n",
    "    dict_train[name].columns=[name+\"_\"+s for s in col_no_ID]+[\"ID\"]\n",
    "    dict_test[name].columns=[name+\"_\"+s for s in col_no_ID]+[\"ID\"]"
   ]
  },
  {
   "cell_type": "code",
   "execution_count": 6,
   "metadata": {},
   "outputs": [],
   "source": [
    "stack_train=dict_train[\"nw_xgb_d2v\"].merge(dict_train[\"nw_xgb_tfidf\"],\n",
    "on=\"ID\").merge(dict_train[\"nw_xgb_w2v\"],on=\"ID\").merge(dict_train[\"nw_lgbm_d2v\"],\n",
    "on=\"ID\").merge(dict_train[\"nw_lgbm_tfidf\"],on=\"ID\").merge(dict_train[\"nw_lgbm_w2v\"],\n",
    "on=\"ID\").merge(dict_train[\"nw_lr_d2v\"],on=\"ID\").merge(dict_train[\"nw_lr_tfidf\"],\n",
    "on=\"ID\").merge(dict_train[\"nw_lr_w2v\"],on=\"ID\").merge(dict_train[\"nw_ada_d2v\"],\n",
    "on=\"ID\").merge(dict_train[\"nw_ada_tfidf\"],on=\"ID\").merge(dict_train[\"nw_ada_w2v\"],\n",
    "on=\"ID\").merge(dict_train[\"nw_rf_d2v\"],on=\"ID\").merge(dict_train[\"nw_rf_tfidf\"],\n",
    "on=\"ID\").merge(dict_train[\"nw_rf_w2v\"],on=\"ID\")\n",
    "#.merge(dict_train[\"nowdw_neural_net\"],on=\"ID\")\n",
    "#a tester "
   ]
  },
  {
   "cell_type": "code",
   "execution_count": 7,
   "metadata": {},
   "outputs": [],
   "source": [
    "stack_test=dict_test[\"nw_xgb_d2v\"].merge(dict_test[\"nw_xgb_tfidf\"],\n",
    "on=\"ID\").merge(dict_test[\"nw_xgb_w2v\"],on=\"ID\").merge(dict_test[\"nw_lgbm_d2v\"],\n",
    "on=\"ID\").merge(dict_test[\"nw_lgbm_tfidf\"],on=\"ID\").merge(dict_test[\"nw_lgbm_w2v\"],\n",
    "on=\"ID\").merge(dict_test[\"nw_lr_d2v\"],on=\"ID\").merge(dict_test[\"nw_lr_tfidf\"],\n",
    "on=\"ID\").merge(dict_test[\"nw_lr_w2v\"],on=\"ID\").merge(dict_test[\"nw_ada_d2v\"],\n",
    "on=\"ID\").merge(dict_test[\"nw_ada_tfidf\"],on=\"ID\").merge(dict_test[\"nw_ada_w2v\"],\n",
    "on=\"ID\").merge(dict_test[\"nw_rf_d2v\"],on=\"ID\").merge(dict_test[\"nw_rf_tfidf\"],\n",
    "on=\"ID\").merge(dict_test[\"nw_rf_w2v\"],on=\"ID\")"
   ]
  },
  {
   "cell_type": "code",
   "execution_count": 8,
   "metadata": {},
   "outputs": [],
   "source": [
    "#quand le merging est fini : table unique, on peut monter un meta_model"
   ]
  },
  {
   "cell_type": "code",
   "execution_count": 28,
   "metadata": {},
   "outputs": [],
   "source": [
    "y=pd.read_csv(\"../bases/new_training_variants.csv\").Class.values - 1"
   ]
  },
  {
   "cell_type": "code",
   "execution_count": 43,
   "metadata": {},
   "outputs": [],
   "source": [
    "ID_test=stack_test[\"ID\"]\n",
    "ID_train=stack_train[\"ID\"]"
   ]
  },
  {
   "cell_type": "code",
   "execution_count": 52,
   "metadata": {},
   "outputs": [],
   "source": [
    "meta_feat_train=pd.read_csv(\"../No_window/nw_meta_features/meta_train_l1l2.csv\")\n",
    "meta_feat_test=pd.read_csv(\"../No_window/nw_meta_features/meta_test_l1l2.csv\")"
   ]
  },
  {
   "cell_type": "code",
   "execution_count": 54,
   "metadata": {},
   "outputs": [],
   "source": [
    "meta_feat_train=meta_feat_train.drop(\"Unnamed: 0\",axis=1)\n",
    "meta_feat_test=meta_feat_test.drop(\"Unnamed: 0\",axis=1)"
   ]
  },
  {
   "cell_type": "code",
   "execution_count": 55,
   "metadata": {},
   "outputs": [],
   "source": [
    "magic_feat=pd.read_csv(\"../l2_meta_features/svd25_molecular_functions.csv\")\n",
    "magic_feat=magic_feat.drop([\"Class\",\"Gene\",\"ID\",\"Variation\"],axis=1)\n",
    "magic_train=magic_feat[:len(y)]\n",
    "magic_test=magic_feat[len(y):]\n",
    "magic_train=magic_train.reset_index(drop=True)\n",
    "magic_test=magic_test.reset_index(drop=True)"
   ]
  },
  {
   "cell_type": "code",
   "execution_count": 56,
   "metadata": {},
   "outputs": [],
   "source": [
    "stack_train_1=pd.concat((stack_train,meta_feat_train,magic_train),axis=1)\n",
    "stack_test_1=pd.concat((stack_test,meta_feat_test,magic_test),axis=1)"
   ]
  },
  {
   "cell_type": "code",
   "execution_count": 61,
   "metadata": {},
   "outputs": [],
   "source": [
    "X_train=np.array(stack_train_1.drop(\"ID\",axis=1))"
   ]
  },
  {
   "cell_type": "code",
   "execution_count": 62,
   "metadata": {},
   "outputs": [],
   "source": [
    "X_test=np.array(stack_test_1.drop(\"ID\",axis=1))"
   ]
  },
  {
   "cell_type": "code",
   "execution_count": 73,
   "metadata": {},
   "outputs": [],
   "source": [
    "#Ridge vs Lasso searching\n",
    "param_test= {\n",
    "    \"C\" : [0.1,0.3,0.5,0.7,0.9, 1, 2,3,4,5],\n",
    "    \"penalty\": [\"l1\",\"l2\"]\n",
    "}\n"
   ]
  },
  {
   "cell_type": "code",
   "execution_count": 74,
   "metadata": {},
   "outputs": [],
   "source": [
    "kf = StratifiedKFold(n_splits=5, random_state=26, shuffle=True)"
   ]
  },
  {
   "cell_type": "code",
   "execution_count": 75,
   "metadata": {},
   "outputs": [
    {
     "name": "stderr",
     "output_type": "stream",
     "text": [
      "C:\\Users\\Franck\\Documents\\Continuum\\Anaconda3\\lib\\site-packages\\sklearn\\model_selection\\_search.py:667: DeprecationWarning: The grid_scores_ attribute was deprecated in version 0.18 in favor of the more elaborate cv_results_ attribute. The grid_scores_ attribute will not be available from 0.20\n",
      "  DeprecationWarning)\n"
     ]
    },
    {
     "data": {
      "text/plain": [
       "([mean: -0.92888, std: 0.04135, params: {'C': 0.1, 'penalty': 'l1'},\n",
       "  mean: -0.93251, std: 0.04187, params: {'C': 0.1, 'penalty': 'l2'},\n",
       "  mean: -0.89225, std: 0.04256, params: {'C': 0.3, 'penalty': 'l1'},\n",
       "  mean: -0.92617, std: 0.04280, params: {'C': 0.3, 'penalty': 'l2'},\n",
       "  mean: -0.88581, std: 0.04346, params: {'C': 0.5, 'penalty': 'l1'},\n",
       "  mean: -0.92481, std: 0.04126, params: {'C': 0.5, 'penalty': 'l2'},\n",
       "  mean: -0.88120, std: 0.04637, params: {'C': 0.7, 'penalty': 'l1'},\n",
       "  mean: -0.92502, std: 0.04321, params: {'C': 0.7, 'penalty': 'l2'},\n",
       "  mean: -0.87942, std: 0.04865, params: {'C': 0.9, 'penalty': 'l1'},\n",
       "  mean: -0.92403, std: 0.04246, params: {'C': 0.9, 'penalty': 'l2'},\n",
       "  mean: -0.87965, std: 0.04914, params: {'C': 1, 'penalty': 'l1'},\n",
       "  mean: -0.92379, std: 0.04452, params: {'C': 1, 'penalty': 'l2'},\n",
       "  mean: -0.88506, std: 0.05983, params: {'C': 2, 'penalty': 'l1'},\n",
       "  mean: -0.92370, std: 0.04491, params: {'C': 2, 'penalty': 'l2'},\n",
       "  mean: -0.88828, std: 0.06379, params: {'C': 3, 'penalty': 'l1'},\n",
       "  mean: -0.92210, std: 0.04349, params: {'C': 3, 'penalty': 'l2'},\n",
       "  mean: -0.89343, std: 0.06729, params: {'C': 4, 'penalty': 'l1'},\n",
       "  mean: -0.92311, std: 0.04491, params: {'C': 4, 'penalty': 'l2'},\n",
       "  mean: -0.90068, std: 0.07233, params: {'C': 5, 'penalty': 'l1'},\n",
       "  mean: -0.92278, std: 0.04526, params: {'C': 5, 'penalty': 'l2'}],\n",
       " {'C': 0.9, 'penalty': 'l1'},\n",
       " -0.8794228466494225)"
      ]
     },
     "execution_count": 75,
     "metadata": {},
     "output_type": "execute_result"
    }
   ],
   "source": [
    "gsearch=GridSearchCV(estimator=LogisticRegression(), param_grid = param_test,scoring=\"neg_log_loss\",n_jobs=4,iid=False, cv=kf)\n",
    "gsearch.fit(X_train,y)\n",
    "gsearch.grid_scores_, gsearch.best_params_, gsearch.best_score_\n"
   ]
  },
  {
   "cell_type": "code",
   "execution_count": null,
   "metadata": {
    "collapsed": true
   },
   "outputs": [],
   "source": [
    "#model with parameters found on gridsearch"
   ]
  },
  {
   "cell_type": "code",
   "execution_count": 78,
   "metadata": {},
   "outputs": [],
   "source": [
    "def stacker_gen(X,X_test,y,classifier):\n",
    "    kf = StratifiedKFold(n_splits=5, random_state=26, shuffle=True)\n",
    "    fold = 0\n",
    "    y_test=0\n",
    "    for train_index, test_index in kf.split(X, y):\n",
    "        \n",
    "        fold += 1\n",
    "\n",
    "        X_train, X_valid    = X[train_index],   X[test_index]\n",
    "        y_train, y_valid    = y[train_index],   y[test_index]\n",
    "\n",
    "        print(\"Fold\", fold, X_train.shape, X_valid.shape)\n",
    "\n",
    "        clf=classifier\n",
    "        clf.fit(X_train,y_train)\n",
    "        p_test = clf.predict_proba(X_test)\n",
    "        y_test += p_test/5\n",
    "    classes = \"class1,class2,class3,class4,class5,class6,class7,class8,class9\".split(',')\n",
    "    subm = pd.DataFrame(y_test, columns=classes)\n",
    "    subm['ID'] = ID_test\n",
    "    \n",
    "    subm.to_csv(\"../final_scores/nw_stack_test.csv\",index=False)\n",
    "    \n",
    "    print(\"cross_val sur train \") #peut etre que to array est exclusivement pour les xgb\n",
    "    \n",
    "\n",
    "    y_pred=cross_val_predict(estimator=clf,X=X,y=y,cv=kf,method=\"predict_proba\")\n",
    "    subm1 = pd.DataFrame(y_pred, columns=classes)\n",
    "    subm1['ID'] = ID_train\n",
    "    subm1.to_csv(\"../final_scores/nw_stack_train.csv\",index=False)\n"
   ]
  },
  {
   "cell_type": "code",
   "execution_count": 79,
   "metadata": {},
   "outputs": [],
   "source": [
    "# paramètre C et penalty à rentrer"
   ]
  },
  {
   "cell_type": "code",
   "execution_count": 82,
   "metadata": {},
   "outputs": [
    {
     "name": "stdout",
     "output_type": "stream",
     "text": [
      "Fold 1 (2946, 197) (743, 197)\n",
      "Fold 2 (2949, 197) (740, 197)\n",
      "Fold 3 (2952, 197) (737, 197)\n",
      "Fold 4 (2954, 197) (735, 197)\n",
      "Fold 5 (2955, 197) (734, 197)\n",
      "cross_val sur train \n"
     ]
    }
   ],
   "source": [
    "clf = LogisticRegression(C=0.9,penalty=\"l1\")\n",
    "stacker_gen(X_train,X_test,y,clf)"
   ]
  },
  {
   "cell_type": "code",
   "execution_count": null,
   "metadata": {
    "collapsed": true
   },
   "outputs": [],
   "source": []
  }
 ],
 "metadata": {
  "kernelspec": {
   "display_name": "Python 3",
   "language": "python",
   "name": "python3"
  },
  "language_info": {
   "codemirror_mode": {
    "name": "ipython",
    "version": 3
   },
   "file_extension": ".py",
   "mimetype": "text/x-python",
   "name": "python",
   "nbconvert_exporter": "python",
   "pygments_lexer": "ipython3",
   "version": "3.6.1"
  }
 },
 "nbformat": 4,
 "nbformat_minor": 2
}
