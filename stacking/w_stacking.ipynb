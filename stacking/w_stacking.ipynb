{
 "cells": [
  {
   "cell_type": "code",
   "execution_count": 3,
   "metadata": {},
   "outputs": [],
   "source": [
    "import numpy as np\n",
    "import pandas as pd\n",
    "import re\n",
    "import glob\n",
    "import os \n",
    "from sklearn.model_selection import GridSearchCV,cross_val_score,cross_val_predict\n",
    "from sklearn.linear_model import LogisticRegression\n",
    "from sklearn.model_selection import StratifiedKFold"
   ]
  },
  {
   "cell_type": "code",
   "execution_count": 4,
   "metadata": {},
   "outputs": [],
   "source": [
    "path_train=\"../window/w_scores/w_stack_train/\"\n",
    "path_test=\"../window/w_scores/w_stack_test/\""
   ]
  },
  {
   "cell_type": "code",
   "execution_count": 5,
   "metadata": {},
   "outputs": [],
   "source": [
    "dict_train = {} \n",
    "dict_test = {}\n",
    "train_files = [i for i in os.listdir(path_train)]\n",
    "test_files = [i for i in os.listdir(path_test)]\n",
    "for f in train_files:\n",
    "    dict_train[re.sub(\"\\.csv\",\"\",f)] = pd.read_csv(path_train+f)\n",
    "for f in test_files:\n",
    "    dict_test[re.sub(\"\\.csv\",\"\",f)] = pd.read_csv(path_test+f)"
   ]
  },
  {
   "cell_type": "code",
   "execution_count": 6,
   "metadata": {},
   "outputs": [],
   "source": [
    "col_no_ID=['class1', 'class2', 'class3', 'class4', 'class5', 'class6', 'class7',\n",
    "       'class8', 'class9']"
   ]
  },
  {
   "cell_type": "code",
   "execution_count": 7,
   "metadata": {},
   "outputs": [],
   "source": [
    "#Affecting  columns name\n",
    "for name in dict_test.keys():\n",
    "    dict_train[name].columns=[name+\"_\"+s for s in col_no_ID]+[\"ID\"]\n",
    "    dict_test[name].columns=[name+\"_\"+s for s in col_no_ID]+[\"ID\"]"
   ]
  },
  {
   "cell_type": "code",
   "execution_count": 8,
   "metadata": {},
   "outputs": [],
   "source": [
    "stack_train=dict_train[\"w_xgb_d2v\"].merge(dict_train[\"w_xgb_tfidf\"],\n",
    "on=\"ID\").merge(dict_train[\"w_xgb_w2v\"],on=\"ID\").merge(dict_train[\"w_lgbm_d2v\"],\n",
    "on=\"ID\").merge(dict_train[\"w_lgbm_tfidf\"],on=\"ID\").merge(dict_train[\"w_lgbm_w2v\"],\n",
    "on=\"ID\").merge(dict_train[\"w_lr_d2v\"],on=\"ID\").merge(dict_train[\"w_lr_tfidf\"],\n",
    "on=\"ID\").merge(dict_train[\"w_lr_w2v\"],on=\"ID\").merge(dict_train[\"w_ada_d2v\"],\n",
    "on=\"ID\").merge(dict_train[\"w_ada_tfidf\"],on=\"ID\").merge(dict_train[\"w_ada_w2v\"],\n",
    "on=\"ID\").merge(dict_train[\"w_rf_d2v\"],on=\"ID\").merge(dict_train[\"w_rf_tfidf\"],\n",
    "on=\"ID\").merge(dict_train[\"w_rf_w2v\"],on=\"ID\")\n",
    "#a tester "
   ]
  },
  {
   "cell_type": "code",
   "execution_count": 9,
   "metadata": {},
   "outputs": [],
   "source": [
    "stack_test=dict_test[\"w_xgb_d2v\"].merge(dict_test[\"w_xgb_tfidf\"],\n",
    "on=\"ID\").merge(dict_test[\"w_xgb_w2v\"],on=\"ID\").merge(dict_test[\"w_lgbm_d2v\"],\n",
    "on=\"ID\").merge(dict_test[\"w_lgbm_tfidf\"],on=\"ID\").merge(dict_test[\"w_lgbm_w2v\"],\n",
    "on=\"ID\").merge(dict_test[\"w_lr_d2v\"],on=\"ID\").merge(dict_test[\"w_lr_tfidf\"],\n",
    "on=\"ID\").merge(dict_test[\"w_lr_w2v\"],on=\"ID\").merge(dict_test[\"w_ada_d2v\"],\n",
    "on=\"ID\").merge(dict_test[\"w_ada_tfidf\"],on=\"ID\").merge(dict_test[\"w_ada_w2v\"],\n",
    "on=\"ID\").merge(dict_test[\"w_rf_d2v\"],on=\"ID\").merge(dict_test[\"w_rf_tfidf\"],\n",
    "on=\"ID\").merge(dict_test[\"w_rf_w2v\"],on=\"ID\")"
   ]
  },
  {
   "cell_type": "code",
   "execution_count": 14,
   "metadata": {
    "collapsed": true
   },
   "outputs": [],
   "source": [
    "#quand le merging est fini : table unique, on peut monter un meta_model"
   ]
  },
  {
   "cell_type": "code",
   "execution_count": 11,
   "metadata": {},
   "outputs": [],
   "source": [
    "y=pd.read_csv(\"../bases/new_training_variants.csv\").Class.values - 1"
   ]
  },
  {
   "cell_type": "code",
   "execution_count": 12,
   "metadata": {},
   "outputs": [],
   "source": [
    "ID_test=stack_test[\"ID\"]\n",
    "ID_train=stack_train[\"ID\"]"
   ]
  },
  {
   "cell_type": "code",
   "execution_count": 13,
   "metadata": {},
   "outputs": [],
   "source": [
    "meta_feat_train=pd.read_csv(\"../window/w_meta_features/meta_train_l1l2.csv\")\n",
    "meta_feat_test=pd.read_csv(\"../window/w_meta_features/meta_test_l1l2.csv\")"
   ]
  },
  {
   "cell_type": "code",
   "execution_count": 14,
   "metadata": {},
   "outputs": [],
   "source": [
    "magic_feat=pd.read_csv(\"../l2_meta_features/svd25_molecular_functions.csv\")\n",
    "magic_feat=magic_feat.drop([\"Class\",\"Gene\",\"ID\",\"Variation\"],axis=1)\n",
    "magic_train=magic_feat[:len(y)]\n",
    "magic_test=magic_feat[len(y):]\n",
    "magic_train=magic_train.reset_index(drop=True)\n",
    "magic_test=magic_test.reset_index(drop=True)"
   ]
  },
  {
   "cell_type": "code",
   "execution_count": 15,
   "metadata": {},
   "outputs": [],
   "source": [
    "stack_train_1=pd.concat((stack_train,meta_feat_train,magic_train),axis=1)\n",
    "stack_test_1=pd.concat((stack_test,meta_feat_test,magic_test),axis=1)"
   ]
  },
  {
   "cell_type": "code",
   "execution_count": 16,
   "metadata": {},
   "outputs": [],
   "source": [
    "meta_feat_train=meta_feat_train.drop(\"Unnamed: 0\",axis=1)\n",
    "meta_feat_test=meta_feat_test.drop(\"Unnamed: 0\",axis=1)"
   ]
  },
  {
   "cell_type": "code",
   "execution_count": 17,
   "metadata": {},
   "outputs": [],
   "source": [
    "X_train=np.array(stack_train_1.drop(\"ID\",axis=1))"
   ]
  },
  {
   "cell_type": "code",
   "execution_count": 18,
   "metadata": {},
   "outputs": [],
   "source": [
    "X_test=np.array(stack_test_1.drop(\"ID\",axis=1))"
   ]
  },
  {
   "cell_type": "code",
   "execution_count": 20,
   "metadata": {},
   "outputs": [],
   "source": [
    "kf = StratifiedKFold(n_splits=5, random_state=26, shuffle=True)"
   ]
  },
  {
   "cell_type": "code",
   "execution_count": 26,
   "metadata": {},
   "outputs": [],
   "source": [
    "#Ridge vs Lasso searching\n",
    "param_test= {\n",
    "    \"C\" : [0.1,0.3,0.5,0.7,0.9,1,2,3,4,5],\n",
    "    \"penalty\": [\"l1\",\"l2\"]\n",
    "}\n"
   ]
  },
  {
   "cell_type": "code",
   "execution_count": 27,
   "metadata": {},
   "outputs": [
    {
     "name": "stderr",
     "output_type": "stream",
     "text": [
      "C:\\Users\\Franck\\Documents\\Continuum\\Anaconda3\\lib\\site-packages\\sklearn\\model_selection\\_search.py:667: DeprecationWarning: The grid_scores_ attribute was deprecated in version 0.18 in favor of the more elaborate cv_results_ attribute. The grid_scores_ attribute will not be available from 0.20\n",
      "  DeprecationWarning)\n"
     ]
    },
    {
     "data": {
      "text/plain": [
       "([mean: -0.92355, std: 0.03656, params: {'C': 0.1, 'penalty': 'l1'},\n",
       "  mean: -0.90141, std: 0.03732, params: {'C': 0.1, 'penalty': 'l2'},\n",
       "  mean: -0.88315, std: 0.03961, params: {'C': 0.3, 'penalty': 'l1'},\n",
       "  mean: -0.88530, std: 0.03827, params: {'C': 0.3, 'penalty': 'l2'},\n",
       "  mean: -0.87617, std: 0.04131, params: {'C': 0.5, 'penalty': 'l1'},\n",
       "  mean: -0.88300, std: 0.04029, params: {'C': 0.5, 'penalty': 'l2'},\n",
       "  mean: -0.87322, std: 0.04229, params: {'C': 0.7, 'penalty': 'l1'},\n",
       "  mean: -0.88458, std: 0.04131, params: {'C': 0.7, 'penalty': 'l2'},\n",
       "  mean: -0.87436, std: 0.04314, params: {'C': 0.9, 'penalty': 'l1'},\n",
       "  mean: -0.88372, std: 0.04049, params: {'C': 0.9, 'penalty': 'l2'},\n",
       "  mean: -0.87496, std: 0.04380, params: {'C': 1, 'penalty': 'l1'},\n",
       "  mean: -0.88218, std: 0.04254, params: {'C': 1, 'penalty': 'l2'},\n",
       "  mean: -0.88438, std: 0.04582, params: {'C': 2, 'penalty': 'l1'},\n",
       "  mean: -0.88286, std: 0.04145, params: {'C': 2, 'penalty': 'l2'},\n",
       "  mean: -0.88819, std: 0.04593, params: {'C': 3, 'penalty': 'l1'},\n",
       "  mean: -0.88431, std: 0.04265, params: {'C': 3, 'penalty': 'l2'},\n",
       "  mean: -0.89426, std: 0.04455, params: {'C': 4, 'penalty': 'l1'},\n",
       "  mean: -0.88614, std: 0.04362, params: {'C': 4, 'penalty': 'l2'},\n",
       "  mean: -0.89985, std: 0.04227, params: {'C': 5, 'penalty': 'l1'},\n",
       "  mean: -0.88502, std: 0.04443, params: {'C': 5, 'penalty': 'l2'}],\n",
       " {'C': 0.7, 'penalty': 'l1'},\n",
       " -0.87321767991090182)"
      ]
     },
     "execution_count": 27,
     "metadata": {},
     "output_type": "execute_result"
    }
   ],
   "source": [
    "gsearch=GridSearchCV(estimator=LogisticRegression(), param_grid = param_test,scoring=\"neg_log_loss\",n_jobs=4,iid=False, cv=kf)\n",
    "gsearch.fit(X_train,y)\n",
    "gsearch.grid_scores_, gsearch.best_params_, gsearch.best_score_\n"
   ]
  },
  {
   "cell_type": "code",
   "execution_count": 28,
   "metadata": {},
   "outputs": [],
   "source": [
    "#model with parameters found on gridsearch"
   ]
  },
  {
   "cell_type": "code",
   "execution_count": 29,
   "metadata": {},
   "outputs": [],
   "source": [
    "def stacker_gen(X,X_test,y,classifier):\n",
    "    kf = model_selection.StratifiedKFold(n_splits=5, random_state=26, shuffle=True)\n",
    "    fold = 0\n",
    "    y_test=0\n",
    "    for train_index, test_index in kf.split(X, y):\n",
    "        \n",
    "        fold += 1\n",
    "\n",
    "        X_train, X_valid    = X[train_index],   X[test_index]\n",
    "        y_train, y_valid    = y[train_index],   y[test_index]\n",
    "\n",
    "        print(\"Fold\", fold, X_train.shape, X_valid.shape)\n",
    "\n",
    "        clf=classifier\n",
    "        clf.fit(X_train,y_train)\n",
    "        p_test = clf.predict_proba(X_test)\n",
    "        y_test += p_test/5\n",
    "    classes = \"class1,class2,class3,class4,class5,class6,class7,class8,class9\".split(',')\n",
    "    subm = pd.DataFrame(y_test, columns=classes)\n",
    "    subm['ID'] = ID_test\n",
    "    \n",
    "    subm.to_csv(\"../final_scores/w_stack_test.csv\",index=False)\n",
    "    \n",
    "    print(\"cross_val sur train \") #peut etre que to array est exclusivement pour les xgb\n",
    "    \n",
    "\n",
    "    y_pred=cross_val_predict(estimator=clf,X=X,y=y,cv=kf,method=\"predict_proba\")\n",
    "    subm1 = pd.DataFrame(y_pred, columns=classes)\n",
    "    subm1['ID'] = ID_train\n",
    "    subm1.to_csv(\"../final_scores/w_stack_train.csv\",index=False)\n"
   ]
  },
  {
   "cell_type": "code",
   "execution_count": 30,
   "metadata": {},
   "outputs": [],
   "source": [
    "#parametres à rentrer"
   ]
  },
  {
   "cell_type": "code",
   "execution_count": 31,
   "metadata": {},
   "outputs": [
    {
     "ename": "NameError",
     "evalue": "name 'model_selection' is not defined",
     "output_type": "error",
     "traceback": [
      "\u001b[1;31m---------------------------------------------------------------------------\u001b[0m",
      "\u001b[1;31mNameError\u001b[0m                                 Traceback (most recent call last)",
      "\u001b[1;32m<ipython-input-31-042dde7b7534>\u001b[0m in \u001b[0;36m<module>\u001b[1;34m()\u001b[0m\n\u001b[0;32m      1\u001b[0m \u001b[0mclf\u001b[0m \u001b[1;33m=\u001b[0m \u001b[0mLogisticRegression\u001b[0m\u001b[1;33m(\u001b[0m\u001b[0mC\u001b[0m\u001b[1;33m=\u001b[0m\u001b[1;36m0.7\u001b[0m\u001b[1;33m,\u001b[0m\u001b[0mpenalty\u001b[0m\u001b[1;33m=\u001b[0m\u001b[1;34m\"l1\"\u001b[0m\u001b[1;33m)\u001b[0m\u001b[1;33m\u001b[0m\u001b[0m\n\u001b[1;32m----> 2\u001b[1;33m \u001b[0mstacker_gen\u001b[0m\u001b[1;33m(\u001b[0m\u001b[0mX_train\u001b[0m\u001b[1;33m,\u001b[0m\u001b[0mX_test\u001b[0m\u001b[1;33m,\u001b[0m\u001b[0my\u001b[0m\u001b[1;33m,\u001b[0m\u001b[0mclf\u001b[0m\u001b[1;33m)\u001b[0m\u001b[1;33m\u001b[0m\u001b[0m\n\u001b[0m",
      "\u001b[1;32m<ipython-input-29-743a3ccc7b9b>\u001b[0m in \u001b[0;36mstacker_gen\u001b[1;34m(X, X_test, y, classifier)\u001b[0m\n\u001b[0;32m      1\u001b[0m \u001b[1;32mdef\u001b[0m \u001b[0mstacker_gen\u001b[0m\u001b[1;33m(\u001b[0m\u001b[0mX\u001b[0m\u001b[1;33m,\u001b[0m\u001b[0mX_test\u001b[0m\u001b[1;33m,\u001b[0m\u001b[0my\u001b[0m\u001b[1;33m,\u001b[0m\u001b[0mclassifier\u001b[0m\u001b[1;33m)\u001b[0m\u001b[1;33m:\u001b[0m\u001b[1;33m\u001b[0m\u001b[0m\n\u001b[1;32m----> 2\u001b[1;33m     \u001b[0mkf\u001b[0m \u001b[1;33m=\u001b[0m \u001b[0mmodel_selection\u001b[0m\u001b[1;33m.\u001b[0m\u001b[0mStratifiedKFold\u001b[0m\u001b[1;33m(\u001b[0m\u001b[0mn_splits\u001b[0m\u001b[1;33m=\u001b[0m\u001b[1;36m5\u001b[0m\u001b[1;33m,\u001b[0m \u001b[0mrandom_state\u001b[0m\u001b[1;33m=\u001b[0m\u001b[1;36m26\u001b[0m\u001b[1;33m,\u001b[0m \u001b[0mshuffle\u001b[0m\u001b[1;33m=\u001b[0m\u001b[1;32mTrue\u001b[0m\u001b[1;33m)\u001b[0m\u001b[1;33m\u001b[0m\u001b[0m\n\u001b[0m\u001b[0;32m      3\u001b[0m     \u001b[0mfold\u001b[0m \u001b[1;33m=\u001b[0m \u001b[1;36m0\u001b[0m\u001b[1;33m\u001b[0m\u001b[0m\n\u001b[0;32m      4\u001b[0m     \u001b[0my_test\u001b[0m\u001b[1;33m=\u001b[0m\u001b[1;36m0\u001b[0m\u001b[1;33m\u001b[0m\u001b[0m\n\u001b[0;32m      5\u001b[0m     \u001b[1;32mfor\u001b[0m \u001b[0mtrain_index\u001b[0m\u001b[1;33m,\u001b[0m \u001b[0mtest_index\u001b[0m \u001b[1;32min\u001b[0m \u001b[0mkf\u001b[0m\u001b[1;33m.\u001b[0m\u001b[0msplit\u001b[0m\u001b[1;33m(\u001b[0m\u001b[0mX\u001b[0m\u001b[1;33m,\u001b[0m \u001b[0my\u001b[0m\u001b[1;33m)\u001b[0m\u001b[1;33m:\u001b[0m\u001b[1;33m\u001b[0m\u001b[0m\n",
      "\u001b[1;31mNameError\u001b[0m: name 'model_selection' is not defined"
     ]
    }
   ],
   "source": [
    "clf = LogisticRegression(C=0.7,penalty=\"l1\")\n",
    "stacker_gen(X_train,X_test,y,clf)\n"
   ]
  },
  {
   "cell_type": "code",
   "execution_count": null,
   "metadata": {
    "collapsed": true
   },
   "outputs": [],
   "source": []
  }
 ],
 "metadata": {
  "kernelspec": {
   "display_name": "Python 3",
   "language": "python",
   "name": "python3"
  },
  "language_info": {
   "codemirror_mode": {
    "name": "ipython",
    "version": 3
   },
   "file_extension": ".py",
   "mimetype": "text/x-python",
   "name": "python",
   "nbconvert_exporter": "python",
   "pygments_lexer": "ipython3",
   "version": "3.6.1"
  }
 },
 "nbformat": 4,
 "nbformat_minor": 2
}
