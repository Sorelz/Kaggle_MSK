{
 "cells": [
  {
   "cell_type": "code",
   "execution_count": 2,
   "metadata": {
    "collapsed": true
   },
   "outputs": [],
   "source": [
    "import numpy as np\n",
    "import pandas as pd\n",
    "import re\n",
    "import glob\n",
    "import os \n",
    "from sklearn.model_selection import GridSearchCV,cross_val_score\n",
    "from sklearn.linear_model import LogisticRegression"
   ]
  },
  {
   "cell_type": "code",
   "execution_count": null,
   "metadata": {
    "collapsed": true
   },
   "outputs": [],
   "source": [
    "w_stack_train=pd.read_csv(\"..//final_scores/w_train.csv\")\n",
    "w_stack_test=pd.read_csv(\"..//final_scores/w_test.csv\")\n",
    "nw_stack_train=pd.read_csv(\"..//final_scores/nw_train.csv\")\n",
    "nw_stack_test=pd.read_csv(\"..//final_scores/nw_test.csv\")"
   ]
  },
  {
   "cell_type": "code",
   "execution_count": 4,
   "metadata": {
    "collapsed": true
   },
   "outputs": [],
   "source": [
    "#meta features"
   ]
  },
  {
   "cell_type": "code",
   "execution_count": null,
   "metadata": {
    "collapsed": true
   },
   "outputs": [],
   "source": [
    "mt_train=pd.read_csv(\"..//l2_meta_features/meta_train_l1l2.csv\")\n",
    "mt_test=pd.read_csv(\"..//l2_meta_features/meta_test_l1l2.csv\")\n",
    "mt_train_a=pd.read_csv(\"..//l2_meta_features/meta_train_l2.csv\")\n",
    "mt_test_a=pd.read_csv(\"..//l2_meta_features/meta_test_l2.csv\")"
   ]
  },
  {
   "cell_type": "code",
   "execution_count": null,
   "metadata": {
    "collapsed": true
   },
   "outputs": [],
   "source": [
    "#merge all "
   ]
  },
  {
   "cell_type": "code",
   "execution_count": null,
   "metadata": {
    "collapsed": true
   },
   "outputs": [],
   "source": [
    "stack_train=w_stack_train.merge(nw_stack_train,on=\"ID\").merge(mt_train,\n",
    "        on=\"ID\").merge(mt_train_a,on=\"ID\")\n",
    "stack_test=w_stack_test.merge(nw_stack_test,on=\"ID\").merge(mt_test,\n",
    "        on=\"ID\").merge(mt_test_a,on=\"ID\")"
   ]
  },
  {
   "cell_type": "code",
   "execution_count": null,
   "metadata": {
    "collapsed": true
   },
   "outputs": [],
   "source": [
    "y=pd.read_csv(\"..//bases/training_variants\").Class.values - 1\n",
    "X_train=np.array(stack_train.drop(\"ID\",axis=1))\n",
    "X_test=np.array(stack_test.drop(\"ID\",axis=1))"
   ]
  },
  {
   "cell_type": "code",
   "execution_count": 5,
   "metadata": {
    "collapsed": true
   },
   "outputs": [],
   "source": [
    "#Ridge vs Lasso searching\n",
    "param_test= {\n",
    "    \"C\" : [0.001, 0.01, 0.1, 1, 10, 100, 1000],\n",
    "    \"penalty\": [\"l1\",\"l2\"]\n",
    "}"
   ]
  },
  {
   "cell_type": "code",
   "execution_count": null,
   "metadata": {
    "collapsed": true
   },
   "outputs": [],
   "source": [
    "gsearch=GridSearchCV(estimator=LogisticRegression(), param_grid = param_test,scoring=\"neg_log_loss\",n_jobs=4,iid=False, cv=5)\n",
    "gsearch.fit(X_train,y)\n",
    "gsearch.grid_scores_, gsearch.best_params_, gsearch.best_score_\n"
   ]
  },
  {
   "cell_type": "code",
   "execution_count": 6,
   "metadata": {
    "collapsed": true
   },
   "outputs": [],
   "source": [
    "# best model to complete"
   ]
  },
  {
   "cell_type": "code",
   "execution_count": null,
   "metadata": {
    "collapsed": true
   },
   "outputs": [],
   "source": [
    "clf = LogisticRegression()                     \n",
    "clf.fit(X_train,y)\n",
    "y_test=clf.predict_proba(X_test)\n",
    "\n",
    "classes = \"class1,class2,class3,class4,class5,class6,class7,class8,class9\".split(',')\n",
    "sub = pd.DataFrame(y_test, columns=classes)\n",
    "sub['ID'] = ID_test\n",
    "sub.to_csv(\"scores/stacking_final.csv\",index=False)"
   ]
  },
  {
   "cell_type": "code",
   "execution_count": 10,
   "metadata": {
    "collapsed": true
   },
   "outputs": [],
   "source": [
    "# which model impacts more ? "
   ]
  },
  {
   "cell_type": "code",
   "execution_count": null,
   "metadata": {
    "collapsed": true
   },
   "outputs": [],
   "source": [
    "features=np.asarray(stack_test.drop(\"ID\",axis=1).columns)\n",
    "imp=clf.feature_importances_\n",
    "feat_imp=pd.DataFrame(imp,features,columns=[\"feat_imp\"])\n",
    "fi=feat_imp.sort_values(by=\"feat_imp\",ascending=False)"
   ]
  }
 ],
 "metadata": {
  "kernelspec": {
   "display_name": "Python 3",
   "language": "python",
   "name": "python3"
  },
  "language_info": {
   "codemirror_mode": {
    "name": "ipython",
    "version": 3
   },
   "file_extension": ".py",
   "mimetype": "text/x-python",
   "name": "python",
   "nbconvert_exporter": "python",
   "pygments_lexer": "ipython3",
   "version": "3.6.1"
  }
 },
 "nbformat": 4,
 "nbformat_minor": 2
}
