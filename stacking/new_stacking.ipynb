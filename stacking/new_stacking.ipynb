{
 "cells": [
  {
   "cell_type": "code",
   "execution_count": 57,
   "metadata": {},
   "outputs": [],
   "source": [
    "import numpy as np\n",
    "import pandas as pd\n",
    "import re\n",
    "import glob\n",
    "import os \n",
    "from sklearn.model_selection import GridSearchCV,cross_val_score,cross_val_predict\n",
    "from sklearn.linear_model import LogisticRegression\n",
    "from sklearn.model_selection import StratifiedKFold\n",
    "from xgboost import XGBClassifier"
   ]
  },
  {
   "cell_type": "code",
   "execution_count": 2,
   "metadata": {},
   "outputs": [],
   "source": [
    "path_train=\"../window/new_scores/new_stack_train/\"\n",
    "path_test=\"../window/new_scores/new_stack_test/\""
   ]
  },
  {
   "cell_type": "code",
   "execution_count": 3,
   "metadata": {},
   "outputs": [],
   "source": [
    "dict_train = {} \n",
    "dict_test = {}\n",
    "train_files = [i for i in os.listdir(path_train)]\n",
    "test_files = [i for i in os.listdir(path_test)]\n",
    "for f in train_files:\n",
    "    dict_train[re.sub(\"\\.csv\",\"\",f)] = pd.read_csv(path_train+f)\n",
    "for f in test_files:\n",
    "    dict_test[re.sub(\"\\.csv\",\"\",f)] = pd.read_csv(path_test+f)"
   ]
  },
  {
   "cell_type": "code",
   "execution_count": 16,
   "metadata": {},
   "outputs": [],
   "source": [
    "stack_train=pd.concat((dict_train[\"new_stem_xgb_bio\"],dict_train[\"new_stem_xgb_f_tfidf\"],\n",
    "dict_train[\"new_stem_xgb_w_tfidf\"],dict_train[\"new_stem_xgb_w2v\"],dict_train[\"new_stem_lgbm_bio\"],\n",
    "dict_train[\"new_stem_lgbm_f_tfidf\"],dict_train[\"new_stem_lgbm_w_tfidf\"],dict_train[\"new_stem_lgbm_w2v\"],\n",
    "dict_train[\"new_stem_lr_bio\"],dict_train[\"new_stem_lr_f_tfidf\"],dict_train[\"new_stem_lr_w_tfidf\"],\n",
    "dict_train[\"new_stem_lr_w2v\"],dict_train[\"new_stem_rf_bio\"],dict_train[\"new_stem_rf_f_tfidf\"],\n",
    "dict_train[\"new_stem_rf_w_tfidf\"],dict_train[\"new_stem_rf_w2v\"]),axis=1)\n"
   ]
  },
  {
   "cell_type": "code",
   "execution_count": 19,
   "metadata": {},
   "outputs": [],
   "source": [
    "stack_test=pd.concat((dict_test[\"new_stem_xgb_bio\"],dict_test[\"new_stem_xgb_f_tfidf\"],\n",
    "dict_test[\"new_stem_xgb_w_tfidf\"],dict_test[\"new_stem_xgb_w2v\"],dict_test[\"new_stem_lgbm_bio\"],\n",
    "dict_test[\"new_stem_lgbm_f_tfidf\"],dict_test[\"new_stem_lgbm_w_tfidf\"],dict_test[\"new_stem_lgbm_w2v\"],\n",
    "dict_test[\"new_stem_lr_bio\"],dict_test[\"new_stem_lr_f_tfidf\"],dict_test[\"new_stem_lr_w_tfidf\"],\n",
    "dict_test[\"new_stem_lr_w2v\"],dict_test[\"new_stem_rf_bio\"],dict_test[\"new_stem_rf_f_tfidf\"],\n",
    "dict_test[\"new_stem_rf_w_tfidf\"],dict_test[\"new_stem_rf_w2v\"]),axis=1)"
   ]
  },
  {
   "cell_type": "code",
   "execution_count": 20,
   "metadata": {},
   "outputs": [],
   "source": [
    "#quand le merging est fini : table unique, on peut monter un meta_model"
   ]
  },
  {
   "cell_type": "code",
   "execution_count": 54,
   "metadata": {},
   "outputs": [],
   "source": [
    "new_train=pd.read_csv(\"../window/checkpoints_databases/new_working_train.csv\")\n",
    "y=np.array(new_train.Class)-1"
   ]
  },
  {
   "cell_type": "code",
   "execution_count": 75,
   "metadata": {},
   "outputs": [],
   "source": [
    "ID_test=stack_test[\"ID\"]\n",
    "ID_test=ID_test.iloc[:,0]\n",
    "ID_train=stack_train[\"ID\"]\n",
    "ID_train=ID_train.iloc[:,0]"
   ]
  },
  {
   "cell_type": "code",
   "execution_count": 23,
   "metadata": {},
   "outputs": [],
   "source": [
    "feat_train=pd.read_csv(\"../window/w_meta_features/meta_train_l1l2.csv\")\n",
    "feat_test=pd.read_csv(\"../window/w_meta_features/meta_test_l1l2.csv\")\n",
    "feat_train=feat_train.drop(\"ID\",axis=1)\n",
    "feat_test=feat_test.drop(\"ID\",axis=1)\n",
    "feat_ext_train=pd.read_csv(\"../window/w_meta_features/new_working_train_ext.csv\")\n",
    "feat_ext_test=pd.read_csv(\"../window/w_meta_features/new_working_test_ext.csv\")"
   ]
  },
  {
   "cell_type": "code",
   "execution_count": 24,
   "metadata": {},
   "outputs": [],
   "source": [
    "stack_train_1=pd.concat((stack_train,feat_train,feat_ext_train),axis=1)\n",
    "stack_test_1=pd.concat((stack_test,feat_test,feat_ext_test),axis=1)"
   ]
  },
  {
   "cell_type": "code",
   "execution_count": 46,
   "metadata": {},
   "outputs": [],
   "source": [
    "X_train=np.array(stack_train_1.drop(\"ID\",axis=1))"
   ]
  },
  {
   "cell_type": "code",
   "execution_count": 47,
   "metadata": {},
   "outputs": [],
   "source": [
    "X_test=np.array(stack_test_1.drop(\"ID\",axis=1))"
   ]
  },
  {
   "cell_type": "code",
   "execution_count": 48,
   "metadata": {},
   "outputs": [],
   "source": [
    "kf = StratifiedKFold(n_splits=5, random_state=26, shuffle=True)"
   ]
  },
  {
   "cell_type": "code",
   "execution_count": 58,
   "metadata": {},
   "outputs": [],
   "source": [
    "#Ridge vs Lasso searching\n",
    "param_test= {\n",
    "    \"C\" : [0.5,1,2,3,4,5],\n",
    "    \"penalty\": [\"l1\",\"l2\"]\n",
    "}\n"
   ]
  },
  {
   "cell_type": "code",
   "execution_count": 59,
   "metadata": {},
   "outputs": [
    {
     "name": "stderr",
     "output_type": "stream",
     "text": [
      "C:\\Users\\Franck\\Documents\\Continuum\\Anaconda3\\lib\\site-packages\\sklearn\\model_selection\\_search.py:667: DeprecationWarning: The grid_scores_ attribute was deprecated in version 0.18 in favor of the more elaborate cv_results_ attribute. The grid_scores_ attribute will not be available from 0.20\n",
      "  DeprecationWarning)\n"
     ]
    },
    {
     "data": {
      "text/plain": [
       "([mean: -0.91968, std: 0.03681, params: {'C': 0.5, 'penalty': 'l1'},\n",
       "  mean: -0.92156, std: 0.03941, params: {'C': 0.5, 'penalty': 'l2'},\n",
       "  mean: -0.92193, std: 0.03882, params: {'C': 1, 'penalty': 'l1'},\n",
       "  mean: -0.92822, std: 0.04362, params: {'C': 1, 'penalty': 'l2'},\n",
       "  mean: -0.93851, std: 0.04563, params: {'C': 2, 'penalty': 'l1'},\n",
       "  mean: -0.94071, std: 0.04926, params: {'C': 2, 'penalty': 'l2'},\n",
       "  mean: -0.96018, std: 0.05344, params: {'C': 3, 'penalty': 'l1'},\n",
       "  mean: -0.95109, std: 0.05344, params: {'C': 3, 'penalty': 'l2'},\n",
       "  mean: -0.97934, std: 0.05886, params: {'C': 4, 'penalty': 'l1'},\n",
       "  mean: -0.95993, std: 0.05688, params: {'C': 4, 'penalty': 'l2'},\n",
       "  mean: -0.99686, std: 0.06335, params: {'C': 5, 'penalty': 'l1'},\n",
       "  mean: -0.96762, std: 0.05979, params: {'C': 5, 'penalty': 'l2'}],\n",
       " {'C': 0.5, 'penalty': 'l1'},\n",
       " -0.9196754350868126)"
      ]
     },
     "execution_count": 59,
     "metadata": {},
     "output_type": "execute_result"
    }
   ],
   "source": [
    "gsearch=GridSearchCV(estimator=LogisticRegression(), param_grid = param_test,scoring=\"neg_log_loss\",n_jobs=4,iid=False, cv=kf)\n",
    "gsearch.fit(X_train,y)\n",
    "gsearch.grid_scores_, gsearch.best_params_, gsearch.best_score_\n"
   ]
  },
  {
   "cell_type": "code",
   "execution_count": 62,
   "metadata": {},
   "outputs": [],
   "source": [
    "import winsound\n",
    "\n",
    "winsound.PlaySound('sound.wav', winsound.SND_FILENAME)"
   ]
  },
  {
   "cell_type": "code",
   "execution_count": 28,
   "metadata": {},
   "outputs": [],
   "source": [
    "#model with parameters found on gridsearch"
   ]
  },
  {
   "cell_type": "code",
   "execution_count": 65,
   "metadata": {},
   "outputs": [],
   "source": [
    "def stacker_gen(X,X_test,y,classifier,name):\n",
    "    kf = StratifiedKFold(n_splits=5, random_state=26, shuffle=True)\n",
    "    fold = 0\n",
    "    y_test=0\n",
    "    for train_index, test_index in kf.split(X, y):\n",
    "        \n",
    "        fold += 1\n",
    "\n",
    "        X_train, X_valid    = X[train_index],   X[test_index]\n",
    "        y_train, y_valid    = y[train_index],   y[test_index]\n",
    "\n",
    "        print(\"Fold\", fold, X_train.shape, X_valid.shape)\n",
    "\n",
    "        clf=classifier\n",
    "        clf.fit(X_train,y_train)\n",
    "        p_test = clf.predict_proba(X_test)\n",
    "        y_test += p_test/5\n",
    "    classes = \"class1,class2,class3,class4,class5,class6,class7,class8,class9\".split(',')\n",
    "    subm = pd.DataFrame(y_test, columns=classes)\n",
    "    subm['ID'] = ID_test\n",
    "    \n",
    "    subm.to_csv(\"../final_scores/new_stacked_test_{}.csv\".format(name),index=False)\n",
    "    "
   ]
  },
  {
   "cell_type": "code",
   "execution_count": 33,
   "metadata": {},
   "outputs": [],
   "source": [
    "#parametres à rentrer"
   ]
  },
  {
   "cell_type": "code",
   "execution_count": 81,
   "metadata": {},
   "outputs": [
    {
     "name": "stdout",
     "output_type": "stream",
     "text": [
      "Fold 1 (2337, 194) (588, 194)\n",
      "Fold 2 (2338, 194) (587, 194)\n",
      "Fold 3 (2340, 194) (585, 194)\n",
      "Fold 4 (2342, 194) (583, 194)\n",
      "Fold 5 (2343, 194) (582, 194)\n"
     ]
    }
   ],
   "source": [
    "clf = LogisticRegression(C=0.5,penalty=\"l1\")\n",
    "stacker_gen(X_train,X_test,y,clf,\"linear\")"
   ]
  },
  {
   "cell_type": "code",
   "execution_count": 1,
   "metadata": {},
   "outputs": [],
   "source": [
    "#Compare it with a Xgboost stacking if time"
   ]
  },
  {
   "cell_type": "code",
   "execution_count": 78,
   "metadata": {},
   "outputs": [],
   "source": [
    "clf_xgb=XGBClassifier(max_depth=3, objective=\"multi:softprob\",seed=26)\n",
    "param_test= {\n",
    "    \"n_estimators\": [100,200,300],\n",
    "    \"max_depth\" : [2],\n",
    "    \"min_child_weight\" : [2,3],\n",
    "    \"subsample\":[1],\n",
    "    \"colsample_bytree\":[0.85]\n",
    "}"
   ]
  },
  {
   "cell_type": "code",
   "execution_count": 79,
   "metadata": {},
   "outputs": [
    {
     "name": "stderr",
     "output_type": "stream",
     "text": [
      "C:\\Users\\Franck\\Documents\\Continuum\\Anaconda3\\lib\\site-packages\\sklearn\\model_selection\\_search.py:667: DeprecationWarning: The grid_scores_ attribute was deprecated in version 0.18 in favor of the more elaborate cv_results_ attribute. The grid_scores_ attribute will not be available from 0.20\n",
      "  DeprecationWarning)\n"
     ]
    },
    {
     "data": {
      "text/plain": [
       "([mean: -0.87006, std: 0.03638, params: {'colsample_bytree': 0.85, 'max_depth': 2, 'min_child_weight': 2, 'n_estimators': 100, 'subsample': 1},\n",
       "  mean: -0.90382, std: 0.04139, params: {'colsample_bytree': 0.85, 'max_depth': 2, 'min_child_weight': 2, 'n_estimators': 200, 'subsample': 1},\n",
       "  mean: -0.93615, std: 0.04825, params: {'colsample_bytree': 0.85, 'max_depth': 2, 'min_child_weight': 2, 'n_estimators': 300, 'subsample': 1},\n",
       "  mean: -0.86968, std: 0.03722, params: {'colsample_bytree': 0.85, 'max_depth': 2, 'min_child_weight': 3, 'n_estimators': 100, 'subsample': 1},\n",
       "  mean: -0.90244, std: 0.04143, params: {'colsample_bytree': 0.85, 'max_depth': 2, 'min_child_weight': 3, 'n_estimators': 200, 'subsample': 1},\n",
       "  mean: -0.93471, std: 0.04529, params: {'colsample_bytree': 0.85, 'max_depth': 2, 'min_child_weight': 3, 'n_estimators': 300, 'subsample': 1}],\n",
       " {'colsample_bytree': 0.85,\n",
       "  'max_depth': 2,\n",
       "  'min_child_weight': 3,\n",
       "  'n_estimators': 100,\n",
       "  'subsample': 1},\n",
       " -0.86968086988476134)"
      ]
     },
     "execution_count": 79,
     "metadata": {},
     "output_type": "execute_result"
    }
   ],
   "source": [
    "gsearch_xgb=GridSearchCV(estimator=clf_xgb, param_grid = param_test,scoring=\"neg_log_loss\",n_jobs=-1,iid=False, cv=kf)\n",
    "gsearch_xgb.fit(X_train,y)\n",
    "gsearch_xgb.grid_scores_, gsearch_xgb.best_params_, gsearch_xgb.best_score_"
   ]
  },
  {
   "cell_type": "code",
   "execution_count": 80,
   "metadata": {},
   "outputs": [
    {
     "name": "stdout",
     "output_type": "stream",
     "text": [
      "Fold 1 (2337, 194) (588, 194)\n",
      "Fold 2 (2338, 194) (587, 194)\n",
      "Fold 3 (2340, 194) (585, 194)\n",
      "Fold 4 (2342, 194) (583, 194)\n",
      "Fold 5 (2343, 194) (582, 194)\n"
     ]
    }
   ],
   "source": [
    "clf_xgb = XGBClassifier(n_estimators=100,max_depth=2,min_child_weight=3,subsample=1,colsample_bytree=0.85,seed=26,objective=\"multi:softprob\")\n",
    "stacker_gen(X_train,X_test,y,clf_xgb,\"xgb\")"
   ]
  },
  {
   "cell_type": "code",
   "execution_count": 84,
   "metadata": {},
   "outputs": [
    {
     "data": {
      "text/plain": [
       "(368, 10)"
      ]
     },
     "execution_count": 84,
     "metadata": {},
     "output_type": "execute_result"
    }
   ],
   "source": [
    "pd.read_csv(\"../stage1_solution_filtered.csv\")."
   ]
  },
  {
   "cell_type": "code",
   "execution_count": null,
   "metadata": {},
   "outputs": [],
   "source": []
  }
 ],
 "metadata": {
  "kernelspec": {
   "display_name": "Python 3",
   "language": "python",
   "name": "python3"
  },
  "language_info": {
   "codemirror_mode": {
    "name": "ipython",
    "version": 3
   },
   "file_extension": ".py",
   "mimetype": "text/x-python",
   "name": "python",
   "nbconvert_exporter": "python",
   "pygments_lexer": "ipython3",
   "version": "3.6.1"
  }
 },
 "nbformat": 4,
 "nbformat_minor": 2
}
