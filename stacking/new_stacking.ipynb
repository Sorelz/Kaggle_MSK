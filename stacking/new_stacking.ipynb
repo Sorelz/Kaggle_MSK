{
 "cells": [
  {
   "cell_type": "code",
   "execution_count": 3,
   "metadata": {},
   "outputs": [],
   "source": [
    "import numpy as np\n",
    "import pandas as pd\n",
    "import re\n",
    "import glob\n",
    "import os \n",
    "from sklearn.model_selection import GridSearchCV,cross_val_score,cross_val_predict\n",
    "from sklearn.linear_model import LogisticRegression\n",
    "from sklearn.model_selection import StratifiedKFold"
   ]
  },
  {
   "cell_type": "code",
   "execution_count": 4,
   "metadata": {},
   "outputs": [],
   "source": [
    "path_train=\"../window/new_scores/new_stack_train/\"\n",
    "path_test=\"../window/new_scores/new_stack_test/\""
   ]
  },
  {
   "cell_type": "code",
   "execution_count": 5,
   "metadata": {},
   "outputs": [],
   "source": [
    "dict_train = {} \n",
    "dict_test = {}\n",
    "train_files = [i for i in os.listdir(path_train)]\n",
    "test_files = [i for i in os.listdir(path_test)]\n",
    "for f in train_files:\n",
    "    dict_train[re.sub(\"\\.csv\",\"\",f)] = pd.read_csv(path_train+f)\n",
    "for f in test_files:\n",
    "    dict_test[re.sub(\"\\.csv\",\"\",f)] = pd.read_csv(path_test+f)"
   ]
  },
  {
   "cell_type": "code",
   "execution_count": 6,
   "metadata": {},
   "outputs": [],
   "source": [
    "col_no_ID=['class1', 'class2', 'class3', 'class4', 'class5', 'class6', 'class7',\n",
    "       'class8', 'class9']"
   ]
  },
  {
   "cell_type": "code",
   "execution_count": 7,
   "metadata": {},
   "outputs": [],
   "source": [
    "#Affecting  columns name\n",
    "for name in dict_test.keys():\n",
    "    dict_train[name].columns=[name+\"_\"+s for s in col_no_ID]+[\"ID\"]\n",
    "    dict_test[name].columns=[name+\"_\"+s for s in col_no_ID]+[\"ID\"]"
   ]
  },
  {
   "cell_type": "code",
   "execution_count": 8,
   "metadata": {},
   "outputs": [],
   "source": [
    "stack_train=dict_train[\"new_xgb_bio\"].merge(dict_train[\"new_xgb_w_tfidf\"],\n",
    "on=\"ID\").merge(dict_train[\"new_xgb_f_tfidf\"],on=\"ID\").merge(dict_train[\"new_xgb_w2v\"],\n",
    "on=\"ID\").merge(dict_train[\"new_lgbm_bio\"],on=\"ID\").merge(dict_train[\"new_lgbm_w_tfidf\"],\n",
    "on=\"ID\").merge(dict_train[\"new_lgbm_f_tfidf\"],on=\"ID\").merge(dict_train[\"new_lgbm_w2v\"],\n",
    "on=\"ID\").merge(dict_train[\"new_lr_bio\"],on=\"ID\").merge(dict_train[\"new_lr_w_tfidf\"],\n",
    "on=\"ID\").merge(dict_train[\"new_lr_f_tfidf\"],on=\"ID\").merge(dict_train[\"new_lr_w2v\"],\n",
    "on=\"ID\").merge(dict_train[\"new_rf_bio\"],on=\"ID\").merge(dict_train[\"new_rf_w_tfidf\"],\n",
    "on=\"ID\").merge(dict_train[\"new_rf_f_tfidf\"],on=\"ID\").merge(dict_train[\"new_rf_w2v\"],on=\"ID\")\n"
   ]
  },
  {
   "cell_type": "code",
   "execution_count": 9,
   "metadata": {},
   "outputs": [],
   "source": [
    "stack_test=dict_test[\"new_xgb_bio\"].merge(dict_test[\"new_xgb_w_tfidf\"],\n",
    "on=\"ID\").merge(dict_test[\"new_xgb_f_tfidf\"],on=\"ID\").merge(dict_test[\"new_xgb_w2v\"],\n",
    "on=\"ID\").merge(dict_test[\"new_lgbm_bio\"],on=\"ID\").merge(dict_test[\"new_lgbm_w_tfidf\"],\n",
    "on=\"ID\").merge(dict_test[\"new_lgbm_f_tfidf\"],on=\"ID\").merge(dict_test[\"new_lgbm_w2v\"],\n",
    "on=\"ID\").merge(dict_test[\"new_lr_bio\"],on=\"ID\").merge(dict_test[\"new_lr_w_tfidf\"],\n",
    "on=\"ID\").merge(dict_test[\"new_lr_f_tfidf\"],on=\"ID\").merge(dict_test[\"new_lr_w2v\"],\n",
    "on=\"ID\").merge(dict_test[\"new_rf_bio\"],on=\"ID\").merge(dict_test[\"new_rf_w_tfidf\"],\n",
    "on=\"ID\").merge(dict_test[\"new_rf_f_tfidf\"],on=\"ID\").merge(dict_test[\"new_rf_w2v\"],on=\"ID\")"
   ]
  },
  {
   "cell_type": "code",
   "execution_count": 14,
   "metadata": {
    "collapsed": true
   },
   "outputs": [],
   "source": [
    "#quand le merging est fini : table unique, on peut monter un meta_model"
   ]
  },
  {
   "cell_type": "code",
   "execution_count": 11,
   "metadata": {},
   "outputs": [],
   "source": [
    "y=pd.read_csv(\"../bases/new_training_variants.csv\").Class.values - 1"
   ]
  },
  {
   "cell_type": "code",
   "execution_count": 12,
   "metadata": {},
   "outputs": [],
   "source": [
    "ID_test=stack_test[\"ID\"]\n",
    "ID_train=stack_train[\"ID\"]"
   ]
  },
  {
   "cell_type": "code",
   "execution_count": 13,
   "metadata": {},
   "outputs": [],
   "source": [
    "feat_train=pd.read_csv(\"../window/w_meta_features/meta_train_l1l2.csv\")\n",
    "feat_test=pd.read_csv(\"../window/w_meta_features/meta_test_l1l2.csv\")\n",
    "feat_train=feat_train.drop(\"ID\",axis=1)\n",
    "feat_test=feat_test.drop(\"ID\",axis=1)\n",
    "feat_ext_train=pd.read_csv(\"w_meta_features/new_working_train_ext.csv\")\n",
    "feat_ext_test=pd.read_csv(\"w_meta_features/new_working_test_ext.csv\")"
   ]
  },
  {
   "cell_type": "code",
   "execution_count": 15,
   "metadata": {},
   "outputs": [],
   "source": [
    "stack_train_1=pd.concat((stack_train,feat_train,feat_ext_train),axis=1)\n",
    "stack_test_1=pd.concat((stack_test,feat_test,feat_ext_test),axis=1)"
   ]
  },
  {
   "cell_type": "code",
   "execution_count": 17,
   "metadata": {},
   "outputs": [],
   "source": [
    "X_train=np.array(stack_train_1.drop(\"ID\",axis=1))"
   ]
  },
  {
   "cell_type": "code",
   "execution_count": 18,
   "metadata": {},
   "outputs": [],
   "source": [
    "X_test=np.array(stack_test_1.drop(\"ID\",axis=1))"
   ]
  },
  {
   "cell_type": "code",
   "execution_count": 20,
   "metadata": {},
   "outputs": [],
   "source": [
    "kf = StratifiedKFold(n_splits=5, random_state=26, shuffle=True)"
   ]
  },
  {
   "cell_type": "code",
   "execution_count": 26,
   "metadata": {},
   "outputs": [],
   "source": [
    "#Ridge vs Lasso searching\n",
    "param_test= {\n",
    "    \"C\" : [0.1,1,5,10,100,1000],\n",
    "    \"penalty\": [\"l1\",\"l2\"]\n",
    "}\n"
   ]
  },
  {
   "cell_type": "code",
   "execution_count": 27,
   "metadata": {
    "collapsed": true
   },
   "outputs": [
    {
     "name": "stderr",
     "output_type": "stream",
     "text": [
      "C:\\Users\\Franck\\Documents\\Continuum\\Anaconda3\\lib\\site-packages\\sklearn\\model_selection\\_search.py:667: DeprecationWarning: The grid_scores_ attribute was deprecated in version 0.18 in favor of the more elaborate cv_results_ attribute. The grid_scores_ attribute will not be available from 0.20\n",
      "  DeprecationWarning)\n"
     ]
    },
    {
     "data": {
      "text/plain": [
       "([mean: -0.92355, std: 0.03656, params: {'C': 0.1, 'penalty': 'l1'},\n",
       "  mean: -0.90141, std: 0.03732, params: {'C': 0.1, 'penalty': 'l2'},\n",
       "  mean: -0.88315, std: 0.03961, params: {'C': 0.3, 'penalty': 'l1'},\n",
       "  mean: -0.88530, std: 0.03827, params: {'C': 0.3, 'penalty': 'l2'},\n",
       "  mean: -0.87617, std: 0.04131, params: {'C': 0.5, 'penalty': 'l1'},\n",
       "  mean: -0.88300, std: 0.04029, params: {'C': 0.5, 'penalty': 'l2'},\n",
       "  mean: -0.87322, std: 0.04229, params: {'C': 0.7, 'penalty': 'l1'},\n",
       "  mean: -0.88458, std: 0.04131, params: {'C': 0.7, 'penalty': 'l2'},\n",
       "  mean: -0.87436, std: 0.04314, params: {'C': 0.9, 'penalty': 'l1'},\n",
       "  mean: -0.88372, std: 0.04049, params: {'C': 0.9, 'penalty': 'l2'},\n",
       "  mean: -0.87496, std: 0.04380, params: {'C': 1, 'penalty': 'l1'},\n",
       "  mean: -0.88218, std: 0.04254, params: {'C': 1, 'penalty': 'l2'},\n",
       "  mean: -0.88438, std: 0.04582, params: {'C': 2, 'penalty': 'l1'},\n",
       "  mean: -0.88286, std: 0.04145, params: {'C': 2, 'penalty': 'l2'},\n",
       "  mean: -0.88819, std: 0.04593, params: {'C': 3, 'penalty': 'l1'},\n",
       "  mean: -0.88431, std: 0.04265, params: {'C': 3, 'penalty': 'l2'},\n",
       "  mean: -0.89426, std: 0.04455, params: {'C': 4, 'penalty': 'l1'},\n",
       "  mean: -0.88614, std: 0.04362, params: {'C': 4, 'penalty': 'l2'},\n",
       "  mean: -0.89985, std: 0.04227, params: {'C': 5, 'penalty': 'l1'},\n",
       "  mean: -0.88502, std: 0.04443, params: {'C': 5, 'penalty': 'l2'}],\n",
       " {'C': 0.7, 'penalty': 'l1'},\n",
       " -0.87321767991090182)"
      ]
     },
     "execution_count": 27,
     "metadata": {},
     "output_type": "execute_result"
    }
   ],
   "source": [
    "gsearch=GridSearchCV(estimator=LogisticRegression(), param_grid = param_test,scoring=\"neg_log_loss\",n_jobs=4,iid=False, cv=kf)\n",
    "gsearch.fit(X_train,y)\n",
    "gsearch.grid_scores_, gsearch.best_params_, gsearch.best_score_\n"
   ]
  },
  {
   "cell_type": "code",
   "execution_count": 28,
   "metadata": {},
   "outputs": [],
   "source": [
    "#model with parameters found on gridsearch"
   ]
  },
  {
   "cell_type": "code",
   "execution_count": 32,
   "metadata": {},
   "outputs": [],
   "source": [
    "def stacker_gen(X,X_test,y,classifier):\n",
    "    kf = StratifiedKFold(n_splits=5, random_state=26, shuffle=True)\n",
    "    fold = 0\n",
    "    y_test=0\n",
    "    for train_index, test_index in kf.split(X, y):\n",
    "        \n",
    "        fold += 1\n",
    "\n",
    "        X_train, X_valid    = X[train_index],   X[test_index]\n",
    "        y_train, y_valid    = y[train_index],   y[test_index]\n",
    "\n",
    "        print(\"Fold\", fold, X_train.shape, X_valid.shape)\n",
    "\n",
    "        clf=classifier\n",
    "        clf.fit(X_train,y_train)\n",
    "        p_test = clf.predict_proba(X_test)\n",
    "        y_test += p_test/5\n",
    "    classes = \"class1,class2,class3,class4,class5,class6,class7,class8,class9\".split(',')\n",
    "    subm = pd.DataFrame(y_test, columns=classes)\n",
    "    subm['ID'] = ID_test\n",
    "    \n",
    "    subm.to_csv(\"../final_scores/new_stacked_test.csv\",index=False)\n",
    "    "
   ]
  },
  {
   "cell_type": "code",
   "execution_count": 33,
   "metadata": {},
   "outputs": [],
   "source": [
    "#parametres à rentrer"
   ]
  },
  {
   "cell_type": "code",
   "execution_count": 34,
   "metadata": {},
   "outputs": [
    {
     "name": "stdout",
     "output_type": "stream",
     "text": [
      "Fold 1 (2946, 203) (743, 203)\n",
      "Fold 2 (2949, 203) (740, 203)\n",
      "Fold 3 (2952, 203) (737, 203)\n",
      "Fold 4 (2954, 203) (735, 203)\n",
      "Fold 5 (2955, 203) (734, 203)\n",
      "cross_val sur train \n"
     ]
    }
   ],
   "source": [
    "clf = LogisticRegression(C=0.7,penalty=\"l1\")\n",
    "stacker_gen(X_train,X_test,y,clf)"
   ]
  },
  {
   "cell_type": "code",
   "execution_count": 1,
   "metadata": {},
   "outputs": [],
   "source": [
    "#Compare it with a Xgboost stacking if time"
   ]
  },
  {
   "cell_type": "code",
   "execution_count": null,
   "metadata": {},
   "outputs": [],
   "source": [
    "clf_xgb=XGBClassifier(max_depth=3, objective=\"multi:softprob\",seed=26)\n",
    "param_test= {\n",
    "    \"max_depth\" : [3,5,7],\n",
    "    \"min_child_weight\" : [1,3,5],\n",
    "    \"subsample\":[0.8,0.9,1],\n",
    "    \"colsample_bytree\":[0.8,0.9,1]\n",
    "}"
   ]
  },
  {
   "cell_type": "code",
   "execution_count": null,
   "metadata": {},
   "outputs": [],
   "source": [
    "gsearch=GridSearchCV(estimator=clf_xgb, param_grid = param_test,scoring=\"neg_log_loss\",n_jobs=4,iid=False, cv=kf)\n",
    "gsearch.fit(X_train,y)\n",
    "gsearch.grid_scores_, gsearch.best_params_, gsearch.best_score_"
   ]
  }
 ],
 "metadata": {
  "kernelspec": {
   "display_name": "Python 3",
   "language": "python",
   "name": "python3"
  },
  "language_info": {
   "codemirror_mode": {
    "name": "ipython",
    "version": 3
   },
   "file_extension": ".py",
   "mimetype": "text/x-python",
   "name": "python",
   "nbconvert_exporter": "python",
   "pygments_lexer": "ipython3",
   "version": "3.6.1"
  }
 },
 "nbformat": 4,
 "nbformat_minor": 2
}
