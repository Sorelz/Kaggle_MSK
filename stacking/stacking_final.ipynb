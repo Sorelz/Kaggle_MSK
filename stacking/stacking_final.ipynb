{
 "cells": [
  {
   "cell_type": "code",
   "execution_count": 18,
   "metadata": {},
   "outputs": [],
   "source": [
    "import numpy as np\n",
    "import pandas as pd\n",
    "import re\n",
    "import glob\n",
    "import os \n",
    "from sklearn.model_selection import GridSearchCV,cross_val_score,cross_val_predict\n",
    "from sklearn.linear_model import LogisticRegression\n",
    "from sklearn.model_selection import StratifiedKFold"
   ]
  },
  {
   "cell_type": "code",
   "execution_count": 99,
   "metadata": {},
   "outputs": [],
   "source": [
    "w_stack_train=pd.read_csv(\"../final_scores/w_stack_train.csv\")\n",
    "w_stack_test=pd.read_csv(\"../final_scores/w_stack_test.csv\")\n",
    "nw_stack_train=pd.read_csv(\"../final_scores/nw_stack_train.csv\")\n",
    "nw_stack_test=pd.read_csv(\"../final_scores/nw_stack_test.csv\")"
   ]
  },
  {
   "cell_type": "code",
   "execution_count": 100,
   "metadata": {},
   "outputs": [],
   "source": [
    "y=pd.read_csv(\"../bases/new_training_variants.csv\").Class.values - 1\n",
    "ID_test=w_stack_test[\"ID\"]\n",
    "ID_train=w_stack_train[\"ID\"]"
   ]
  },
  {
   "cell_type": "code",
   "execution_count": 101,
   "metadata": {},
   "outputs": [],
   "source": [
    "#meta features"
   ]
  },
  {
   "cell_type": "code",
   "execution_count": 102,
   "metadata": {},
   "outputs": [],
   "source": [
    "meta_feat_train=pd.read_csv(\"../No_window/nw_meta_features/meta_train_l1l2.csv\")\n",
    "meta_feat_test=pd.read_csv(\"../No_window/nw_meta_features/meta_test_l1l2.csv\")\n",
    "meta_feat_train=meta_feat_train.drop(\"Unnamed: 0\",axis=1)\n",
    "meta_feat_test=meta_feat_test.drop(\"Unnamed: 0\",axis=1)\n",
    "magic_feat=pd.read_csv(\"../l2_meta_features/svd25_molecular_functions.csv\")\n",
    "magic_feat=magic_feat.drop([\"Class\",\"Gene\",\"Variation\"],axis=1)\n",
    "bmagic_train=magic_feat[:len(y)]\n",
    "magic_test=magic_feat[len(y):]\n",
    "magic_train=magic_train.reset_index(drop=True)\n",
    "magic_test=magic_test.reset_index(drop=True)\n",
    "magic_train=magic_train.drop(\"ID\",axis=1)\n",
    "magic_train=magic_train.reset_index()\n",
    "magic_train=magic_train.rename(columns={\"index\":\"ID\"})\n",
    "w_stack_train=w_stack_train.drop(\"ID\",axis=1)\n",
    "w_stack_train=w_stack_train.reset_index()\n",
    "w_stack_train=w_stack_train.rename(columns={\"index\":\"ID\"})\n",
    "w_stack_test=w_stack_test.drop(\"ID\",axis=1)\n",
    "w_stack_test=w_stack_test.reset_index()\n",
    "w_stack_test=w_stack_test.rename(columns={\"index\":\"ID\"})\n",
    "nw_stack_train=nw_stack_train.drop(\"ID\",axis=1)\n",
    "nw_stack_train=nw_stack_train.reset_index()\n",
    "nw_stack_train=nw_stack_train.rename(columns={\"index\":\"ID\"})\n",
    "nw_stack_test=nw_stack_test.drop(\"ID\",axis=1)\n",
    "nw_stack_test=nw_stack_test.reset_index()\n",
    "nw_stack_test=nw_stack_test.rename(columns={\"index\":\"ID\"})"
   ]
  },
  {
   "cell_type": "code",
   "execution_count": 103,
   "metadata": {},
   "outputs": [],
   "source": [
    "#merge all "
   ]
  },
  {
   "cell_type": "code",
   "execution_count": 104,
   "metadata": {},
   "outputs": [],
   "source": [
    "stack_train=w_stack_train.merge(nw_stack_train,on=\"ID\").merge(meta_feat_train,\n",
    "        on=\"ID\").merge(magic_train,on=\"ID\")\n",
    "stack_test=w_stack_test.merge(nw_stack_test,on=\"ID\").merge(meta_feat_test,\n",
    "        on=\"ID\").merge(magic_test,on=\"ID\")\n"
   ]
  },
  {
   "cell_type": "code",
   "execution_count": 105,
   "metadata": {},
   "outputs": [],
   "source": [
    "X_train=np.array(stack_train.drop(\"ID\",axis=1))\n",
    "X_test=np.array(stack_test.drop(\"ID\",axis=1))"
   ]
  },
  {
   "cell_type": "code",
   "execution_count": 106,
   "metadata": {},
   "outputs": [],
   "source": [
    "kf = StratifiedKFold(n_splits=5, random_state=26, shuffle=True)"
   ]
  },
  {
   "cell_type": "code",
   "execution_count": 107,
   "metadata": {},
   "outputs": [],
   "source": [
    "#Ridge vs Lasso searching\n",
    "param_test= {\n",
    "    \"C\" : [0.1,0.3,0.5,0.7,0.9, 1,2,3,4,5],\n",
    "    \"penalty\": [\"l1\",\"l2\"]\n",
    "}"
   ]
  },
  {
   "cell_type": "code",
   "execution_count": 95,
   "metadata": {},
   "outputs": [
    {
     "name": "stderr",
     "output_type": "stream",
     "text": [
      "C:\\Users\\Franck\\Documents\\Continuum\\Anaconda3\\lib\\site-packages\\sklearn\\model_selection\\_search.py:667: DeprecationWarning: The grid_scores_ attribute was deprecated in version 0.18 in favor of the more elaborate cv_results_ attribute. The grid_scores_ attribute will not be available from 0.20\n",
      "  DeprecationWarning)\n"
     ]
    },
    {
     "data": {
      "text/plain": [
       "([mean: -0.92112, std: 0.03985, params: {'C': 0.1, 'penalty': 'l1'},\n",
       "  mean: -1.04282, std: 0.04104, params: {'C': 0.1, 'penalty': 'l2'},\n",
       "  mean: -0.89603, std: 0.04312, params: {'C': 0.3, 'penalty': 'l1'},\n",
       "  mean: -1.00632, std: 0.04275, params: {'C': 0.3, 'penalty': 'l2'},\n",
       "  mean: -0.89463, std: 0.04325, params: {'C': 0.5, 'penalty': 'l1'},\n",
       "  mean: -0.97687, std: 0.03926, params: {'C': 0.5, 'penalty': 'l2'},\n",
       "  mean: -0.89533, std: 0.04393, params: {'C': 0.7, 'penalty': 'l1'},\n",
       "  mean: -0.97822, std: 0.03671, params: {'C': 0.7, 'penalty': 'l2'},\n",
       "  mean: -0.89682, std: 0.04456, params: {'C': 0.9, 'penalty': 'l1'},\n",
       "  mean: -0.97797, std: 0.03920, params: {'C': 0.9, 'penalty': 'l2'},\n",
       "  mean: -0.89751, std: 0.04570, params: {'C': 1, 'penalty': 'l1'},\n",
       "  mean: -0.98121, std: 0.04348, params: {'C': 1, 'penalty': 'l2'},\n",
       "  mean: -0.90254, std: 0.04912, params: {'C': 2, 'penalty': 'l1'},\n",
       "  mean: -0.98049, std: 0.04482, params: {'C': 2, 'penalty': 'l2'},\n",
       "  mean: -0.90754, std: 0.05025, params: {'C': 3, 'penalty': 'l1'},\n",
       "  mean: -0.97994, std: 0.04467, params: {'C': 3, 'penalty': 'l2'},\n",
       "  mean: -0.91123, std: 0.05142, params: {'C': 4, 'penalty': 'l1'},\n",
       "  mean: -0.97931, std: 0.04595, params: {'C': 4, 'penalty': 'l2'},\n",
       "  mean: -0.91517, std: 0.05184, params: {'C': 5, 'penalty': 'l1'},\n",
       "  mean: -0.97899, std: 0.04580, params: {'C': 5, 'penalty': 'l2'}],\n",
       " {'C': 0.5, 'penalty': 'l1'},\n",
       " -0.89462534440922636)"
      ]
     },
     "execution_count": 95,
     "metadata": {},
     "output_type": "execute_result"
    }
   ],
   "source": [
    "gsearch=GridSearchCV(estimator=LogisticRegression(), param_grid = param_test,scoring=\"neg_log_loss\",n_jobs=4,iid=False, cv=kf)\n",
    "gsearch.fit(X_train,y)\n",
    "gsearch.grid_scores_, gsearch.best_params_, gsearch.best_score_\n"
   ]
  },
  {
   "cell_type": "code",
   "execution_count": 59,
   "metadata": {},
   "outputs": [],
   "source": [
    "# best model to complete"
   ]
  },
  {
   "cell_type": "code",
   "execution_count": 112,
   "metadata": {},
   "outputs": [],
   "source": [
    "clf = LogisticRegression(C=0.5,penalty=\"l1\")                     \n",
    "clf.fit(X_train,y)\n",
    "y_test=clf.predict_proba(X_test)\n",
    "\n",
    "classes = \"class1,class2,class3,class4,class5,class6,class7,class8,class9\".split(',')\n",
    "sub = pd.DataFrame(y_test, columns=classes)\n",
    "sub['ID'] = ID_test\n",
    "sub.to_csv(\"../final_scores/stacking_final_full_train.csv\",index=False)"
   ]
  },
  {
   "cell_type": "code",
   "execution_count": 113,
   "metadata": {},
   "outputs": [],
   "source": [
    "def stacker_final(X,X_test,y,classifier):\n",
    "    kf = StratifiedKFold(n_splits=5, random_state=26, shuffle=True)\n",
    "    fold = 0\n",
    "    y_test=0\n",
    "    for train_index, test_index in kf.split(X, y):\n",
    "        \n",
    "        fold += 1\n",
    "\n",
    "        X_train, X_valid    = X[train_index],   X[test_index]\n",
    "        y_train, y_valid    = y[train_index],   y[test_index]\n",
    "\n",
    "        print(\"Fold\", fold, X_train.shape, X_valid.shape)\n",
    "\n",
    "        clf=classifier\n",
    "        clf.fit(X_train,y_train)\n",
    "        p_test = clf.predict_proba(X_test)\n",
    "        y_test += p_test/5\n",
    "    classes = \"class1,class2,class3,class4,class5,class6,class7,class8,class9\".split(',')\n",
    "    subm = pd.DataFrame(y_test, columns=classes)\n",
    "    subm['ID'] = ID_test\n",
    "    \n",
    "    subm.to_csv(\"../final_scores/stacking_final_5folds.csv\",index=False)"
   ]
  },
  {
   "cell_type": "code",
   "execution_count": 114,
   "metadata": {},
   "outputs": [
    {
     "name": "stdout",
     "output_type": "stream",
     "text": [
      "Fold 1 (2946, 80) (743, 80)\n",
      "Fold 2 (2949, 80) (740, 80)\n",
      "Fold 3 (2952, 80) (737, 80)\n",
      "Fold 4 (2954, 80) (735, 80)\n",
      "Fold 5 (2955, 80) (734, 80)\n"
     ]
    }
   ],
   "source": [
    "stacker_final(X_train,X_test,y,clf)"
   ]
  },
  {
   "cell_type": "code",
   "execution_count": 109,
   "metadata": {},
   "outputs": [],
   "source": [
    "# which model impacts more ? "
   ]
  },
  {
   "cell_type": "code",
   "execution_count": null,
   "metadata": {},
   "outputs": [],
   "source": []
  }
 ],
 "metadata": {
  "kernelspec": {
   "display_name": "Python 3",
   "language": "python",
   "name": "python3"
  },
  "language_info": {
   "codemirror_mode": {
    "name": "ipython",
    "version": 3
   },
   "file_extension": ".py",
   "mimetype": "text/x-python",
   "name": "python",
   "nbconvert_exporter": "python",
   "pygments_lexer": "ipython3",
   "version": "3.6.1"
  }
 },
 "nbformat": 4,
 "nbformat_minor": 2
}
