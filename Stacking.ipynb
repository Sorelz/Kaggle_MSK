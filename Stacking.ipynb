{
 "cells": [
  {
   "cell_type": "code",
   "execution_count": 1,
   "metadata": {},
   "outputs": [
    {
     "name": "stderr",
     "output_type": "stream",
     "text": [
      "C:\\Users\\Franck\\Documents\\Continuum\\Anaconda3\\lib\\site-packages\\sklearn\\cross_validation.py:44: DeprecationWarning: This module was deprecated in version 0.18 in favor of the model_selection module into which all the refactored classes and functions are moved. Also note that the interface of the new CV iterators are different from that of this module. This module will be removed in 0.20.\n",
      "  \"This module will be removed in 0.20.\", DeprecationWarning)\n"
     ]
    }
   ],
   "source": [
    "import numpy as np\n",
    "import pandas as pd\n",
    "import re\n",
    "import glob\n",
    "import os \n",
    "import xgboost as xgb\n",
    "from xgboost import XGBClassifier\n",
    "from sklearn.model_selection import GridSearchCV "
   ]
  },
  {
   "cell_type": "code",
   "execution_count": 3,
   "metadata": {
    "collapsed": true
   },
   "outputs": [],
   "source": [
    "path_train=\"scores/stack_train/\"\n",
    "path_test=\"scores/stack_test/\""
   ]
  },
  {
   "cell_type": "code",
   "execution_count": 7,
   "metadata": {
    "collapsed": true
   },
   "outputs": [],
   "source": [
    "dict_train = {} \n",
    "dict_test = {}\n",
    "train_files = [i for i in os.listdir(path_train)]\n",
    "test_files = [i for i in os.listdir(path_test)]\n",
    "for f in train_files:\n",
    "    dict_train[re.sub(\".csv\",\"\",f)] = pd.read_csv(path_train+f)\n",
    "for f in test_files:\n",
    "    dict_test[re.sub(\".csv\",\"\",f)] = pd.read_csv(path_test+f)"
   ]
  },
  {
   "cell_type": "code",
   "execution_count": 10,
   "metadata": {},
   "outputs": [
    {
     "name": "stdout",
     "output_type": "stream",
     "text": [
      "scores/stack_test\\nowdw_neural_net.csv\n",
      "scores/stack_test\\nowdw_XGB_medium.csv\n",
      "scores/stack_test\\nowdw_XGB_small.csv\n"
     ]
    }
   ],
   "source": [
    "for files in glob.glob(path_test+\"*.csv\"):\n",
    "    print (files) "
   ]
  },
  {
   "cell_type": "code",
   "execution_count": 5,
   "metadata": {
    "collapsed": true
   },
   "outputs": [],
   "source": [
    "stack_train=dict_train[\"XGB_small\"].merge(dict_train[\"XGB_medium\"], on=\"ID\").merge(dict_train[\"XGB_tall\"],on=\"ID\").merge(dict_train[\"LGBM_small\"],on=\"ID\").merge(dict_train[\"LGBM_mid\"],on=\"ID\").merge(dict_train[\"LGBM_tall\"],on=\"ID\")\n",
    "#a tester "
   ]
  },
  {
   "cell_type": "code",
   "execution_count": 8,
   "metadata": {
    "collapsed": true
   },
   "outputs": [],
   "source": [
    "stack_test=dict_test[\"XGB_small\"].merge(dict_test[\"XGB_medium\"], on=\"ID\").merge(dict_test[\"XGB_tall\"],on=\"ID\").merge(dict_test[\"LGBM_small\"],on=\"ID\").merge(dict_test[\"LGBM_mid\"],on=\"ID\").merge(dict_test[\"LGBM_tall\"],on=\"ID\")"
   ]
  },
  {
   "cell_type": "code",
   "execution_count": 9,
   "metadata": {
    "collapsed": true
   },
   "outputs": [],
   "source": [
    "#quand le merging est fini : table unique, on peut monter un meta_model"
   ]
  },
  {
   "cell_type": "code",
   "execution_count": 10,
   "metadata": {
    "collapsed": true
   },
   "outputs": [],
   "source": [
    "y=pd.read_csv(\"bases/training_variants\").Class.values - 1"
   ]
  },
  {
   "cell_type": "code",
   "execution_count": 11,
   "metadata": {
    "collapsed": true
   },
   "outputs": [],
   "source": [
    "ID_test=stack_test[\"ID\"]"
   ]
  },
  {
   "cell_type": "code",
   "execution_count": 12,
   "metadata": {
    "collapsed": true
   },
   "outputs": [],
   "source": [
    "X_train=np.array(stack_train.drop(\"ID\",axis=1))"
   ]
  },
  {
   "cell_type": "code",
   "execution_count": 13,
   "metadata": {
    "collapsed": true
   },
   "outputs": [],
   "source": [
    "X_test=np.array(stack_test.drop(\"ID\",axis=1))"
   ]
  },
  {
   "cell_type": "code",
   "execution_count": 16,
   "metadata": {
    "collapsed": true
   },
   "outputs": [],
   "source": [
    "param_test1 = {\n",
    " 'max_depth':[1,3,5,7,9],\n",
    " 'min_child_weight':[1,3,5,7,9]\n",
    "}\n",
    "param_test1_bis={\n",
    "    'max_depth':[1,2,3,4,5,7,9],\n",
    " 'min_child_weight':[1,3,5,7]\n",
    "}\n",
    "param_test2 = {\n",
    " 'gamma':[i for i in range(1,10)]\n",
    "}\n",
    "param_test3 = {\n",
    " 'subsample':[i/10.0 for i in range(6,10)],\n",
    " 'colsample_bytree':[i/10.0 for i in range(6,10)]\n",
    "}\n",
    "param_test3_bis = {\n",
    " 'subsample':[i/100.0 for i in range(75,90,5)],\n",
    " 'colsample_bytree':[i/100.0 for i in range(75,90,5)]\n",
    "}\n",
    "param_test4 = {\n",
    " 'reg_alpha':[1,2,3,4,5,10,50, 100]\n",
    "}\n",
    "param_test4_bis = {\n",
    " 'reg_alpha':[i for i in np.arange(94,96,.2)]\n",
    "}\n",
    "param_test5 = {\n",
    " \"learning_rate\" : [i for i in np.arange(0.05,0.15,0.025)]\n",
    "}\n",
    "param_test6 = {\n",
    "    \"n_estimators\" : [i for i in range(50, 300, 50)]\n",
    "}\n",
    "\n",
    "gsearch1 = GridSearchCV(estimator = XGBClassifier(objective=\"multi:softprob\",\n",
    "seed=26),param_grid = param_test1,scoring=\"neg_log_loss\",n_jobs=4,iid=False, cv=5)\n",
    "#gsearch1.fit(X_train,y)\n",
    "#gsearch1.grid_scores_, gsearch1.best_params_, gsearch1.best_score_"
   ]
  },
  {
   "cell_type": "code",
   "execution_count": 17,
   "metadata": {},
   "outputs": [
    {
     "name": "stderr",
     "output_type": "stream",
     "text": [
      "C:\\Users\\Franck\\Documents\\Continuum\\Anaconda3\\lib\\site-packages\\sklearn\\model_selection\\_search.py:667: DeprecationWarning: The grid_scores_ attribute was deprecated in version 0.18 in favor of the more elaborate cv_results_ attribute. The grid_scores_ attribute will not be available from 0.20\n",
      "  DeprecationWarning)\n"
     ]
    },
    {
     "data": {
      "text/plain": [
       "([mean: -0.96434, std: 0.08249, params: {'max_depth': 1, 'min_child_weight': 1},\n",
       "  mean: -0.96437, std: 0.08244, params: {'max_depth': 1, 'min_child_weight': 3},\n",
       "  mean: -0.96449, std: 0.08214, params: {'max_depth': 1, 'min_child_weight': 5},\n",
       "  mean: -0.96511, std: 0.08110, params: {'max_depth': 1, 'min_child_weight': 7},\n",
       "  mean: -0.96922, std: 0.08693, params: {'max_depth': 2, 'min_child_weight': 1},\n",
       "  mean: -0.96850, std: 0.08794, params: {'max_depth': 2, 'min_child_weight': 3},\n",
       "  mean: -0.96888, std: 0.08690, params: {'max_depth': 2, 'min_child_weight': 5},\n",
       "  mean: -0.96853, std: 0.08545, params: {'max_depth': 2, 'min_child_weight': 7},\n",
       "  mean: -0.97494, std: 0.08648, params: {'max_depth': 3, 'min_child_weight': 1},\n",
       "  mean: -0.97596, std: 0.08686, params: {'max_depth': 3, 'min_child_weight': 3},\n",
       "  mean: -0.97495, std: 0.08801, params: {'max_depth': 3, 'min_child_weight': 5},\n",
       "  mean: -0.97384, std: 0.08715, params: {'max_depth': 3, 'min_child_weight': 7},\n",
       "  mean: -0.98032, std: 0.08760, params: {'max_depth': 4, 'min_child_weight': 1},\n",
       "  mean: -0.97947, std: 0.08712, params: {'max_depth': 4, 'min_child_weight': 3},\n",
       "  mean: -0.97937, std: 0.08743, params: {'max_depth': 4, 'min_child_weight': 5},\n",
       "  mean: -0.97863, std: 0.08763, params: {'max_depth': 4, 'min_child_weight': 7},\n",
       "  mean: -0.98532, std: 0.08906, params: {'max_depth': 5, 'min_child_weight': 1},\n",
       "  mean: -0.98579, std: 0.08931, params: {'max_depth': 5, 'min_child_weight': 3},\n",
       "  mean: -0.98397, std: 0.09012, params: {'max_depth': 5, 'min_child_weight': 5},\n",
       "  mean: -0.98362, std: 0.08899, params: {'max_depth': 5, 'min_child_weight': 7},\n",
       "  mean: -0.98948, std: 0.08687, params: {'max_depth': 7, 'min_child_weight': 1},\n",
       "  mean: -0.98750, std: 0.08783, params: {'max_depth': 7, 'min_child_weight': 3},\n",
       "  mean: -0.98729, std: 0.09013, params: {'max_depth': 7, 'min_child_weight': 5},\n",
       "  mean: -0.98810, std: 0.08857, params: {'max_depth': 7, 'min_child_weight': 7},\n",
       "  mean: -0.99143, std: 0.08785, params: {'max_depth': 9, 'min_child_weight': 1},\n",
       "  mean: -0.99194, std: 0.08839, params: {'max_depth': 9, 'min_child_weight': 3},\n",
       "  mean: -0.99022, std: 0.08900, params: {'max_depth': 9, 'min_child_weight': 5},\n",
       "  mean: -0.99004, std: 0.08787, params: {'max_depth': 9, 'min_child_weight': 7}],\n",
       " {'max_depth': 1, 'min_child_weight': 1},\n",
       " -0.96433733442351544)"
      ]
     },
     "execution_count": 17,
     "metadata": {},
     "output_type": "execute_result"
    }
   ],
   "source": [
    "gsearch1_bis=GridSearchCV(estimator = XGBClassifier(objective=\"multi:softprob\",\n",
    "seed=26,gamma=6,n_estimators=140),param_grid = param_test1_bis,scoring=\"neg_log_loss\",n_jobs=4,iid=False, cv=5)\n",
    "gsearch1_bis.fit(X_train,y)\n",
    "gsearch1_bis.grid_scores_, gsearch1_bis.best_params_, gsearch1_bis.best_score_"
   ]
  },
  {
   "cell_type": "code",
   "execution_count": 18,
   "metadata": {},
   "outputs": [
    {
     "name": "stderr",
     "output_type": "stream",
     "text": [
      "C:\\Users\\Franck\\Documents\\Continuum\\Anaconda3\\lib\\site-packages\\sklearn\\model_selection\\_search.py:667: DeprecationWarning: The grid_scores_ attribute was deprecated in version 0.18 in favor of the more elaborate cv_results_ attribute. The grid_scores_ attribute will not be available from 0.20\n",
      "  DeprecationWarning)\n"
     ]
    },
    {
     "data": {
      "text/plain": [
       "([mean: -0.96230, std: 0.09001, params: {'gamma': 1},\n",
       "  mean: -0.96149, std: 0.09003, params: {'gamma': 2},\n",
       "  mean: -0.96216, std: 0.08906, params: {'gamma': 3},\n",
       "  mean: -0.96120, std: 0.08663, params: {'gamma': 4},\n",
       "  mean: -0.96177, std: 0.08450, params: {'gamma': 5},\n",
       "  mean: -0.96436, std: 0.08230, params: {'gamma': 6},\n",
       "  mean: -0.96746, std: 0.08049, params: {'gamma': 7},\n",
       "  mean: -0.97040, std: 0.07928, params: {'gamma': 8},\n",
       "  mean: -0.97408, std: 0.07741, params: {'gamma': 9}],\n",
       " {'gamma': 4},\n",
       " -0.96119845675931237)"
      ]
     },
     "execution_count": 18,
     "metadata": {},
     "output_type": "execute_result"
    }
   ],
   "source": [
    "gsearch2 = GridSearchCV(estimator = XGBClassifier(objective=\"multi:softprob\",\n",
    "seed=26,max_depth=1,min_child_weight=3,gamma=3),param_grid = param_test2,scoring=\"neg_log_loss\",n_jobs=4,iid=False, cv=5)\n",
    "gsearch2.fit(X_train,y)\n",
    "gsearch2.grid_scores_, gsearch2.best_params_, gsearch2.best_score_"
   ]
  },
  {
   "cell_type": "code",
   "execution_count": 19,
   "metadata": {},
   "outputs": [
    {
     "name": "stderr",
     "output_type": "stream",
     "text": [
      "C:\\Users\\Franck\\Documents\\Continuum\\Anaconda3\\lib\\site-packages\\sklearn\\model_selection\\_search.py:667: DeprecationWarning: The grid_scores_ attribute was deprecated in version 0.18 in favor of the more elaborate cv_results_ attribute. The grid_scores_ attribute will not be available from 0.20\n",
      "  DeprecationWarning)\n"
     ]
    },
    {
     "data": {
      "text/plain": [
       "([mean: -0.96334, std: 0.09230, params: {'colsample_bytree': 0.6, 'subsample': 0.6},\n",
       "  mean: -0.96331, std: 0.09117, params: {'colsample_bytree': 0.6, 'subsample': 0.7},\n",
       "  mean: -0.96213, std: 0.09044, params: {'colsample_bytree': 0.6, 'subsample': 0.8},\n",
       "  mean: -0.96064, std: 0.09195, params: {'colsample_bytree': 0.6, 'subsample': 0.9},\n",
       "  mean: -0.96325, std: 0.09033, params: {'colsample_bytree': 0.7, 'subsample': 0.6},\n",
       "  mean: -0.96336, std: 0.09111, params: {'colsample_bytree': 0.7, 'subsample': 0.7},\n",
       "  mean: -0.96068, std: 0.09013, params: {'colsample_bytree': 0.7, 'subsample': 0.8},\n",
       "  mean: -0.95979, std: 0.09066, params: {'colsample_bytree': 0.7, 'subsample': 0.9},\n",
       "  mean: -0.96408, std: 0.09154, params: {'colsample_bytree': 0.8, 'subsample': 0.6},\n",
       "  mean: -0.96357, std: 0.09087, params: {'colsample_bytree': 0.8, 'subsample': 0.7},\n",
       "  mean: -0.96219, std: 0.08942, params: {'colsample_bytree': 0.8, 'subsample': 0.8},\n",
       "  mean: -0.96141, std: 0.08988, params: {'colsample_bytree': 0.8, 'subsample': 0.9},\n",
       "  mean: -0.96441, std: 0.09051, params: {'colsample_bytree': 0.9, 'subsample': 0.6},\n",
       "  mean: -0.96328, std: 0.09034, params: {'colsample_bytree': 0.9, 'subsample': 0.7},\n",
       "  mean: -0.96195, std: 0.08918, params: {'colsample_bytree': 0.9, 'subsample': 0.8},\n",
       "  mean: -0.96116, std: 0.08999, params: {'colsample_bytree': 0.9, 'subsample': 0.9}],\n",
       " {'colsample_bytree': 0.7, 'subsample': 0.9},\n",
       " -0.95978500166358427)"
      ]
     },
     "execution_count": 19,
     "metadata": {},
     "output_type": "execute_result"
    }
   ],
   "source": [
    "gsearch3 = GridSearchCV(estimator = XGBClassifier(objective=\"multi:softprob\",\n",
    "seed=26,max_depth=1,min_child_weight=3,gamma=3),param_grid = param_test3,scoring=\"neg_log_loss\",n_jobs=4,iid=False, cv=5)\n",
    "gsearch3.fit(X_train,y)\n",
    "gsearch3.grid_scores_, gsearch3.best_params_, gsearch3.best_score_"
   ]
  },
  {
   "cell_type": "code",
   "execution_count": 20,
   "metadata": {},
   "outputs": [
    {
     "name": "stderr",
     "output_type": "stream",
     "text": [
      "C:\\Users\\Franck\\Documents\\Continuum\\Anaconda3\\lib\\site-packages\\sklearn\\model_selection\\_search.py:667: DeprecationWarning: The grid_scores_ attribute was deprecated in version 0.18 in favor of the more elaborate cv_results_ attribute. The grid_scores_ attribute will not be available from 0.20\n",
      "  DeprecationWarning)\n"
     ]
    },
    {
     "data": {
      "text/plain": [
       "([mean: -0.96166, std: 0.08835, params: {'reg_alpha': 1},\n",
       "  mean: -0.96176, std: 0.08689, params: {'reg_alpha': 2},\n",
       "  mean: -0.96339, std: 0.08452, params: {'reg_alpha': 3},\n",
       "  mean: -0.96428, std: 0.08255, params: {'reg_alpha': 4},\n",
       "  mean: -0.96678, std: 0.08180, params: {'reg_alpha': 5},\n",
       "  mean: -0.97901, std: 0.07620, params: {'reg_alpha': 10},\n",
       "  mean: -1.12064, std: 0.05085, params: {'reg_alpha': 50},\n",
       "  mean: -1.30463, std: 0.02686, params: {'reg_alpha': 100}],\n",
       " {'reg_alpha': 1},\n",
       " -0.96165883110155259)"
      ]
     },
     "execution_count": 20,
     "metadata": {},
     "output_type": "execute_result"
    }
   ],
   "source": [
    "gsearch4 = GridSearchCV(estimator = XGBClassifier(objective=\"multi:softprob\",\n",
    "seed=26,max_depth=1,min_child_weight=3,gamma=3,colsample_bytree=0.8,subsample=0.9),param_grid = param_test4,scoring=\"neg_log_loss\",n_jobs=4,iid=False, cv=5)\n",
    "gsearch4.fit(X_train,y)\n",
    "gsearch4.grid_scores_, gsearch4.best_params_, gsearch4.best_score_"
   ]
  },
  {
   "cell_type": "code",
   "execution_count": 21,
   "metadata": {},
   "outputs": [
    {
     "name": "stderr",
     "output_type": "stream",
     "text": [
      "C:\\Users\\Franck\\Documents\\Continuum\\Anaconda3\\lib\\site-packages\\sklearn\\model_selection\\_search.py:667: DeprecationWarning: The grid_scores_ attribute was deprecated in version 0.18 in favor of the more elaborate cv_results_ attribute. The grid_scores_ attribute will not be available from 0.20\n",
      "  DeprecationWarning)\n"
     ]
    },
    {
     "data": {
      "text/plain": [
       "([mean: -0.96434, std: 0.08111, params: {'learning_rate': 0.050000000000000003},\n",
       "  mean: -0.95822, std: 0.08702, params: {'learning_rate': 0.075000000000000011},\n",
       "  mean: -0.96141, std: 0.08988, params: {'learning_rate': 0.10000000000000002},\n",
       "  mean: -0.96533, std: 0.09216, params: {'learning_rate': 0.12500000000000003}],\n",
       " {'learning_rate': 0.075000000000000011},\n",
       " -0.95821688086551138)"
      ]
     },
     "execution_count": 21,
     "metadata": {},
     "output_type": "execute_result"
    }
   ],
   "source": [
    "gsearch5 = GridSearchCV(estimator = XGBClassifier(objective=\"multi:softprob\",\n",
    "seed=26,max_depth=1,min_child_weight=3,gamma=3,colsample_bytree=0.8,subsample=0.9,learning_rate=0.075),param_grid = param_test5,scoring=\"neg_log_loss\",n_jobs=4,iid=False, cv=5)\n",
    "gsearch5.fit(X_train,y)\n",
    "gsearch5.grid_scores_, gsearch5.best_params_, gsearch5.best_score_"
   ]
  },
  {
   "cell_type": "code",
   "execution_count": 22,
   "metadata": {},
   "outputs": [
    {
     "name": "stderr",
     "output_type": "stream",
     "text": [
      "C:\\Users\\Franck\\Documents\\Continuum\\Anaconda3\\lib\\site-packages\\sklearn\\model_selection\\_search.py:667: DeprecationWarning: The grid_scores_ attribute was deprecated in version 0.18 in favor of the more elaborate cv_results_ attribute. The grid_scores_ attribute will not be available from 0.20\n",
      "  DeprecationWarning)\n"
     ]
    },
    {
     "data": {
      "text/plain": [
       "([mean: -0.98883, std: 0.07350, params: {'n_estimators': 50},\n",
       "  mean: -0.95822, std: 0.08702, params: {'n_estimators': 100},\n",
       "  mean: -0.96291, std: 0.09134, params: {'n_estimators': 150},\n",
       "  mean: -0.96588, std: 0.09135, params: {'n_estimators': 200},\n",
       "  mean: -0.96727, std: 0.09281, params: {'n_estimators': 250}],\n",
       " {'n_estimators': 100},\n",
       " -0.95821688086551138)"
      ]
     },
     "execution_count": 22,
     "metadata": {},
     "output_type": "execute_result"
    }
   ],
   "source": [
    "gsearch6 = GridSearchCV(estimator = XGBClassifier(objective=\"multi:softprob\",\n",
    "seed=26,max_depth=1,min_child_weight=3,gamma=3,colsample_bytree=0.8,subsample=0.9,learning_rate=0.075),param_grid = param_test6,scoring=\"neg_log_loss\",n_jobs=4,iid=False, cv=5)\n",
    "gsearch6.fit(X_train,y)\n",
    "gsearch6.grid_scores_, gsearch6.best_params_, gsearch6.best_score_"
   ]
  },
  {
   "cell_type": "code",
   "execution_count": 23,
   "metadata": {
    "collapsed": true
   },
   "outputs": [],
   "source": [
    "clf = XGBClassifier(objective=\"multi:softprob\",\n",
    "seed=26,max_depth=1,min_child_weight=3,gamma=3,colsample_bytree=0.8,subsample=0.9,learning_rate=0.075)\n",
    "                     \n",
    "clf.fit(X_train,y)\n",
    "y_test=clf.predict_proba(X_test)\n",
    "\n",
    "classes = \"class1,class2,class3,class4,class5,class6,class7,class8,class9\".split(',')\n",
    "sub = pd.DataFrame(y_test, columns=classes)\n",
    "sub['ID'] = ID_test\n",
    "sub.to_csv(\"scores/stacking_finish.csv\",index=False)"
   ]
  },
  {
   "cell_type": "code",
   "execution_count": null,
   "metadata": {
    "collapsed": true
   },
   "outputs": [],
   "source": []
  }
 ],
 "metadata": {
  "kernelspec": {
   "display_name": "Python 3",
   "language": "python",
   "name": "python3"
  },
  "language_info": {
   "codemirror_mode": {
    "name": "ipython",
    "version": 3
   },
   "file_extension": ".py",
   "mimetype": "text/x-python",
   "name": "python",
   "nbconvert_exporter": "python",
   "pygments_lexer": "ipython3",
   "version": "3.6.1"
  }
 },
 "nbformat": 4,
 "nbformat_minor": 2
}
