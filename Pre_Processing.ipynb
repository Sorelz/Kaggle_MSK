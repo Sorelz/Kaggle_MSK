{
 "cells": [
  {
   "cell_type": "code",
   "execution_count": 1,
   "metadata": {},
   "outputs": [
    {
     "name": "stderr",
     "output_type": "stream",
     "text": [
      "C:\\Users\\Franck\\Documents\\Continuum\\Anaconda3\\lib\\site-packages\\gensim\\utils.py:860: UserWarning: detected Windows; aliasing chunkize to chunkize_serial\n",
      "  warnings.warn(\"detected Windows; aliasing chunkize to chunkize_serial\")\n",
      "Using TensorFlow backend.\n"
     ]
    }
   ],
   "source": [
    "import numpy as np\n",
    "import pandas as pd\n",
    "import string\n",
    "from sklearn import preprocessing\n",
    "\n",
    "\n",
    "from tqdm import tqdm\n",
    "import gensim  ### tester le summarize\n",
    "from nltk.tokenize import RegexpTokenizer\n",
    "from textblob import TextBlob\n",
    "from collections import Counter\n",
    "import nltk\n",
    "from nltk.corpus import stopwords\n",
    "from nltk.stem import WordNetLemmatizer\n",
    "\n",
    "import re\n"
   ]
  },
  {
   "cell_type": "code",
   "execution_count": 2,
   "metadata": {
    "collapsed": true
   },
   "outputs": [],
   "source": [
    "def read_text_data(filename):\n",
    "    texts = []\n",
    "    with open(filename,encoding=\"utf8\") as fi:\n",
    "        fi.readline()\n",
    "        for line in fi:\n",
    "            id, text = line.split(\"||\")\n",
    "            texts.append(text)\n",
    "    return texts\n",
    "train_texts = read_text_data(\"bases/training_text\")\n",
    "test_texts = read_text_data(\"bases/test_text\")\n",
    "train_0 = pd.read_csv(\"bases/training_variants\")\n",
    "test_0 = pd.read_csv(\"bases/test_variants\")"
   ]
  },
  {
   "cell_type": "code",
   "execution_count": 4,
   "metadata": {
    "collapsed": true
   },
   "outputs": [],
   "source": [
    "#nltk.download() and download stopwords + WordNet"
   ]
  },
  {
   "cell_type": "code",
   "execution_count": 75,
   "metadata": {
    "collapsed": true
   },
   "outputs": [],
   "source": [
    "stop = set(stopwords.words('english'))\n",
    "exclude = set('!\"#$%&\\'()*+/:;<=>?@[\\\\]^_`{|}~') \n",
    "exclude_numbers= set('!\"#$%&\\'()*+/:;<=>?@[\\\\]^_`{|}~0123456789') \n",
    "special_exclude=set('.,')\n",
    "lemma = WordNetLemmatizer()\n",
    "def clean(doc,lemmatiz=True):\n",
    "    stop_free = \" \".join([i for i in doc.lower().split() if i not in stop])\n",
    "    punc_free_0 = [re.sub(\",|\\.\",\" \",ch) for ch in stop_free]\n",
    "    if lemmatiz:\n",
    "        punc_free_numbers=\"\".join(ch for ch in punc_free_0 if ch not in exclude_numbers)\n",
    "        normalized = \" \".join(lemma.lemmatize(word) for word in punc_free_numbers.split())\n",
    "        return normalized\n",
    "    else:\n",
    "        punc_free = \"\".join(ch for ch in punc_free_0 if ch not in exclude)\n",
    "        return punc_free"
   ]
  },
  {
   "cell_type": "code",
   "execution_count": 76,
   "metadata": {},
   "outputs": [],
   "source": [
    "train_clean = [clean(doc) for doc in train_texts]  \n",
    "test_clean = [clean(doc) for doc in test_texts]"
   ]
  },
  {
   "cell_type": "code",
   "execution_count": 77,
   "metadata": {},
   "outputs": [],
   "source": [
    "train_clean_nolemma = [clean(doc,lemmatiz=False) for doc in train_texts]  \n",
    "test_clean_nolemma = [clean(doc,lemmatiz=False) for doc in test_texts] "
   ]
  },
  {
   "cell_type": "code",
   "execution_count": 79,
   "metadata": {
    "collapsed": true
   },
   "outputs": [],
   "source": [
    "df_train_text=pd.DataFrame(train_clean).reset_index()\n",
    "df_train_text.columns=[\"ID\",\"Text\"]\n",
    "df_test_text=pd.DataFrame(test_clean).reset_index()\n",
    "df_test_text.columns=[\"ID\",\"Text\"]\n",
    "df_train_text_nolemma=pd.DataFrame(train_clean_nolemma).reset_index()\n",
    "df_train_text_nolemma.columns=[\"ID\",\"Text\"]\n",
    "df_test_text_nolemma=pd.DataFrame(test_clean_nolemma).reset_index()\n",
    "df_test_text_nolemma.columns=[\"ID\",\"Text\"]"
   ]
  },
  {
   "cell_type": "code",
   "execution_count": 80,
   "metadata": {
    "collapsed": true
   },
   "outputs": [],
   "source": [
    "train = pd.merge(train_0, df_train_text, how='left', on='ID').fillna('')\n",
    "train = train.drop(['Class'], axis=1)\n",
    "test = pd.merge(test_0, df_test_text, how='left', on='ID').fillna('')\n",
    "train[\"Gene\"]=train[\"Gene\"].str.lower()\n",
    "train[\"Variation\"]=train[\"Variation\"].str.lower()\n",
    "test[\"Gene\"]=test[\"Gene\"].str.lower()\n",
    "test[\"Variation\"]=test[\"Variation\"].str.lower()"
   ]
  },
  {
   "cell_type": "code",
   "execution_count": 81,
   "metadata": {},
   "outputs": [
    {
     "name": "stderr",
     "output_type": "stream",
     "text": [
      "C:\\Users\\Franck\\Documents\\Continuum\\Anaconda3\\lib\\site-packages\\ipykernel_launcher.py:6: SettingWithCopyWarning: \n",
      "A value is trying to be set on a copy of a slice from a DataFrame.\n",
      "Try using .loc[row_indexer,col_indexer] = value instead\n",
      "\n",
      "See the caveats in the documentation: http://pandas.pydata.org/pandas-docs/stable/indexing.html#indexing-view-versus-copy\n",
      "  \n",
      "C:\\Users\\Franck\\Documents\\Continuum\\Anaconda3\\lib\\site-packages\\ipykernel_launcher.py:7: SettingWithCopyWarning: \n",
      "A value is trying to be set on a copy of a slice from a DataFrame.\n",
      "Try using .loc[row_indexer,col_indexer] = value instead\n",
      "\n",
      "See the caveats in the documentation: http://pandas.pydata.org/pandas-docs/stable/indexing.html#indexing-view-versus-copy\n",
      "  import sys\n"
     ]
    }
   ],
   "source": [
    "train_nolemma = pd.merge(train_0, df_train_text_nolemma, how='left', on='ID').fillna('')\n",
    "train_nolemma = train_nolemma.drop(['Class'], axis=1)\n",
    "df_test_text_nolemma=pd.merge(test_0, df_test_text_nolemma, how='left', on='ID').fillna('')\n",
    "train_nolemma[\"Gene\"]=train_nolemma[\"Gene\"].str.lower()\n",
    "train_nolemma[\"Variation\"]=train_nolemma[\"Variation\"].str.lower()\n",
    "test_nolemma[\"Gene\"]=test_nolemma[\"Gene\"].str.lower()\n",
    "test_nolemma[\"Variation\"]=test_nolemma[\"Variation\"].str.lower()"
   ]
  },
  {
   "cell_type": "code",
   "execution_count": 82,
   "metadata": {
    "collapsed": true
   },
   "outputs": [],
   "source": [
    "#If the Gene is found in the Text, Gene_Share = 1, same for Variation\n",
    "df_all = pd.concat((train, test), axis=0, ignore_index=True)\n",
    "df_all_nolemma=pd.concat((train_nolemma,test_nolemma),axis=0,ignore_index=True)\n",
    "for df in [df_all,df_all_nolemma]:\n",
    "    df['Gene_Share'] = df.apply(lambda r: sum([1 for w in r['Gene'].split(' ') if w in r['Text'].split(' ')]), axis=1)\n",
    "    df['Variation_Share'] = df.apply(lambda r: sum([1 for w in r['Variation'].split(' ') if w in r['Text'].split(' ')]), axis=1)\n",
    "    for c in df.columns:\n",
    "        if df[c].dtype == 'object':\n",
    "            if c == \"Variation\": \n",
    "                df[c+'_len'] = df[c].map(lambda x: len(str(x)))\n",
    "                df[c+'_words'] = df[c].map(lambda x: len(str(x).split(' ')))\n",
    "            if c == \"Gene\": \n",
    "                df[c+'_len'] = df[c].map(lambda x: len(str(x)))\n",
    "            if c=='Text': \n",
    "                df[c+'_len'] = df[c].map(lambda x: len(str(x)))\n",
    "                df[c+'_words'] = df[c].map(lambda x: len(str(x).split(' '))) "
   ]
  },
  {
   "cell_type": "code",
   "execution_count": 83,
   "metadata": {
    "collapsed": true
   },
   "outputs": [],
   "source": [
    "#df_all=pd.get_dummies(df_all,columns=[\"Gene\",\"Variation\"])     The one-encoding here is too expensive for not a lot of infos."
   ]
  },
  {
   "cell_type": "code",
   "execution_count": 84,
   "metadata": {},
   "outputs": [],
   "source": [
    "gen_var_lst = sorted(list(train.Gene.unique()) + list(train.Variation.unique()))\n",
    "gen_var_lst_nolemma = sorted(list(train_nolemma.Gene.unique()) + list(train_nolemma.Variation.unique()))\n",
    "gen_var_lst = [x for x in gen_var_lst if len(x.split(' '))==1] #Suppress weird documented mutation\n",
    "gen_var_lst_nolemma = [x for x in gen_var_lst_nolemma if len(x.split(' '))==1] #Suppress weird documented mutation\n",
    "\n",
    "#for the 3091 gen and unique variation we count how many times it appears in the text\n",
    "for gen_var_lst_itm in gen_var_lst:\n",
    "    df['GV_'+str(gen_var_lst_itm)] = df_all['Text'].map(lambda x: str(x).count(str(gen_var_lst_itm)))\n",
    "for gen_var_lst_itm in gen_var_lst_nolemma:\n",
    "    df['GV_'+str(gen_var_lst_itm)] = df_all_nolemma['Text'].map(lambda x: str(x).count(str(gen_var_lst_itm)))\n",
    "figure_counter=[\"fig\",\"figure\"]"
   ]
  },
  {
   "cell_type": "code",
   "execution_count": 85,
   "metadata": {},
   "outputs": [],
   "source": [
    "for df in [df_all,df_all_nolemma]:\n",
    "    for fig in figure_counter: #On pondère par le nombre de mots, si l'on pondérait par la\n",
    "    #taille totale, on aurait beaucoup de pertes. Alors que là on a un indicateur\n",
    "    #qui a tendance à converger vers la vraie information. Effet vocabulaire très présent\n",
    "    #au début, insensible quand le texte est long.\n",
    "        df[\"Figure_counter\"]=df[\"Text\"].map(lambda x : str(x).count(fig))/df[\"Text_words\"]"
   ]
  },
  {
   "cell_type": "code",
   "execution_count": 86,
   "metadata": {
    "collapsed": true
   },
   "outputs": [],
   "source": [
    "df_all[\"Text\"]=df_all[\"Text\"].replace(\"fig|figure\",\" \")\n",
    "df_all_nolemma[\"Text\"]=df_all_nolemma[\"Text\"].replace(\"fig|figure\",\" \")"
   ]
  },
  {
   "cell_type": "code",
   "execution_count": 87,
   "metadata": {},
   "outputs": [],
   "source": [
    "df_all[\"Text\"]=[re.sub(\"fig|figure\",\"\",doc) for doc in df_all[\"Text\"]]\n",
    "df_all_nolemma[\"Text\"]=[re.sub(\"fig|figure\",\"\",doc) for doc in df_all_nolemma[\"Text\"]]"
   ]
  },
  {
   "cell_type": "code",
   "execution_count": 88,
   "metadata": {
    "collapsed": true
   },
   "outputs": [],
   "source": [
    "train = df_all.iloc[:len(train)]\n",
    "test = df_all.iloc[len(train):]\n",
    "train_nolemma = df_all_nolemma.iloc[:len(train_nolemma)]\n",
    "test_nolemma = df_all_nolemma.iloc[len(train_nolemma):]"
   ]
  },
  {
   "cell_type": "code",
   "execution_count": 89,
   "metadata": {
    "collapsed": true
   },
   "outputs": [],
   "source": [
    "train.to_csv(\"bases/working_train.csv\",index=False,encoding=\"utf8\")\n",
    "test.to_csv(\"bases/working_test.csv\",index=False,encoding=\"utf8\")\n",
    "train_nolemma.to_csv(\"bases/working_train_nolemma.csv\",index=False,encoding=\"utf8\")\n",
    "test_nolemma.to_csv(\"bases/working_test_nolemma.csv\",index=False,encoding=\"utf8\")"
   ]
  },
  {
   "cell_type": "code",
   "execution_count": 92,
   "metadata": {},
   "outputs": [
    {
     "data": {
      "text/plain": [
       "'abstract background non-small cell lung cancer nsclc heterogeneous group disorders number genetic proteomic alterations  c-cbl e3 ubiquitin ligase adaptor molecule important normal homeostasis cancer  determined genetic variations c-cbl  relationship receptor tyrosine kinases egfr met  functionality nsclc  methods findings using archival formalin-fixed paraffin embedded ffpe extracted genomic dna  show c-cbl mutations occur somatic fashion lung cancers  c-cbl mutations mutually exclusive met egfr mutations however independent p53 kras mutations  normaltumor pairwise analysis  significant loss heterozygosity loh c-cbl locus 22  n  837 none samples revealed mutation remaining copy c-cbl  c-cbl loh also positively correlated egfr met mutations observed samples  using select c-cbl somatic mutations s80nh94y  q249e w802 obtained caucasian  taiwanese african-american samples  respectively transfected nsclc cell lines  increased cell viability cell motility  conclusions taking overall mutation rate c-cbl combination somatic missense mutation loh  clear c-cbl highly mutated lung cancers may play essential role lung tumorigenesis metastasis  go to introduction us alone  year approximately 219 400 people diagnosed lung cancers  145 000 succumb disease 1  number roughly equivalent combined mortality rates cancers breast  prostate  colon  liver  kidney melanoma 1  addition prognosis usually poor five-year survival rate less 15  also significant ethnic differences lung cancer  outcome worse blacks compared whites  gender differences also striking women significantly better prognosis compared men  number genetic alterations occur lung cancer  example  nsclc  mutations kras  p53  egfr met identified  many pathways  especially receptor tyrosine kinases rtks controlled c-cbl  cbl casitas b-lineage lymphoma mammalian gene located human chromosome 11q23 3 2 involved cell signaling protein ubiquitination 3  cbl proteins belong ring finger class ubiquitin ligases e3 three homologues c-cbl  cbl-b  cbl-3 4  c-cbl cbl-b genes ubiquitously expressed highest levels hematopoietic tissues 5  c-cbl consists four regions encoding functionally distinct protein domains n-terminal tyrosine kinase binding tkb domain  linker region  catalytic ring finger domain  proline-rich region c-terminal ubiquitin-associated uba domain also overlaps leucine-zipper lz domain 3  tkb ring finger domains essential ligand-induced ubiquitination rtks 6  7  8  9  ring finger domain required recruitment e2 ubiquitin-conjugating enzymes  tkb domain includes four-helix bundle 4h  calcium-biding ef hand  modified sh2 domain  binds phosphotyrosine residues 3  10  11  12  addition  proline-rich region c-cbl associate sh3 domain grb2  indirectly recruit c-cbl rtks via grb2 adaptor protein 7  13  14  c-cbl also binds egfr acts e3 targets egfr ubiquitination degradation  furthermore  cbl desensitizes egf signaling opposes cellular proliferation induced egf 15  egf activation also appears activate tyrosine kinase src  phosphorylates c-cbl turn activates ubiquitination degradation egfr 16  17  18  recent study shows defective endocytosis egfr characterized deletion mutant point mutation l858r  whereby association c-cbl subsequent ubiquitination impaired 19  recently  first human c-cbl mutations reported acute myeloid leukemia aml patients 20  mutation r420q inhibits fms-like tyrosine kinase 3 flt3 internalization ubiquitination 20  e3 activity important oncogenesis  c-cbl dual separate function signal transduction molecule  previously shown c-cbl important binding crkl bcrabl hematopoietic cells  also  bind modulate functions cytoskeleton binding proteins like talin paxillin  tkb domain important binding number molecules  function signal transduction  given critical role cbl normal homeostasis cancer  hypothesized might mutated lung cancers  study  report novel c-cbl somatic mutations s80nh94y  q249e w802 caucasian  taiwanese african-american lung cancer patients  respectively  expressing mutations nsclc cell lines lead increased proliferation cell motility  show c-cbl mutations occur without met egfr mutations mutually exclusive loh c-cbl locus  additionally  c-cbl loh associated either met egfr mutations  thus hypothesize c-cbl mutations might contribute oncogenic potential met egfr lung cancer  go to methods ethics statement written consent research human subjects obtained institutional review board  university chicago covers research performed laboratory  following contact information institutional review board  university chicago  mcgiffert hall  5751 s  woodlawn ave   2nd floor  chicago  il 60637  written informed consents received patients whose tissue samples used study  tissue samples lung cancer tissue paired adjacent normal lung tissues obtained 50 caucasian  29 african-americans 40 taiwanese nsclc patients recruited university chicago hospital chicago  usa caucasian african-american patients taipei veterans general hospital taiwan taiwanese patients obtaining appropriate institutional review board permission informed consent patients  119 samples  77 men  38 women 4 unknown age diagnosis ranging 47 90 years  terms tumor types  53 adenocarcinoma  32 squamous cell carcinoma 34 large cell carcinoma  49 stage i  14 stage ii  34 stage iii  13 stage iv table s1  cell culture human non-small cell lung carcinoma cells a549 h358 maintained dmem rpmi-1640  respectively  human embryonic kidney 293t cells cultured dmem  media supplemented 10 fetal bovine serum  100 unitsml penicillin  100 µgml streptomycin invitrogen  carlsbad  ca  cells cultured 37°c humidified incubator containing 5 co2  c-cbl gene mutational analysis exons 2 16 c-cbl gene individually amplified polymerase chain reaction pcr  primers listed table s2  pcr conditions 1 cycle 95°c 5 minutes 35 cycles 94°c 30 seconds  58°c 30 seconds 72°c 2 minutes one cycle 72°c 10 minutes  pcr products treated exosap-it usb corporation  cleveland  oh sequenced big-dye terminator chemistry applied biosystems  foster city  ca  sequencing performed forward coding strand confirmation c-cbl alterations performed sequencing reverse strand well  chromatograms analyzed mutations using mutation surveyor v2 61 softgenetics  state college  pa  plasmid constructs site-directed mutagenesis wild-type c-cbl cdna insert subcloned paltermax expression vector using xhoi sali restriction enzyme sites promega  madison  wi  using parental plasmid paltermax-c-cbl  tkb domain double mutation s80nh94y  point mutation q249e  c-terminal point mutation w802 c-cbl created using following primers 5′-gctggcgctaaagaataacccaccttatatcttagac-3′ 5′-ctaccagatacctaccagtatctccgtactatcttgtc-3′ double mutation s80nh94y 5′-ctttacccgactctttgagccctggtcctctttgc-3′ q249e  5′-cagctcctcctttggctgattgtctctggatggtgatc-3′ w802 along complementary primers using quickchange site-directed mutagenesis xl kit stratagene  la jolla  ca according manufacturers instructions  constructs confirmed point mutations standard dna sequencing strands  loss heterozygosity loh analysis five microsatellites chromosome 11 3 11q within 200 kb downstream c-cbl gene 2 control markers 11p selected analysis table s3  established microsatellite markers respective primer sequences selected geneloc database httpgenecards weizmann ac ilgenelocindex shtml  weizmann institute science  rehovot  israel  primers custom designed forward primer fluorescently labeled 5′ end fam  pet  ned  vic applied biosystems  primer annealing temperatures duplex scores evaluated nist primer tools httpyellow nist gov8444dnaanalysisprimertoolspage do national institute standards technology  gaithersburg  md  primers verified performing pcr control dna isolated tk6 cells resolving products agarose gels  bands visualized uv transilluminator  genomic dna extracted tumor samples paired normal lung tissue  primers grouped multiplex combinations shown table s4  marker d11s929 served internal control check consistency pcrs peaks capillary electrophoresis  multiplex pcrs carried volume 10 µl contained 1 µl genomic dna 20–50 ng  0 5 µm primer 1 0 µm total primer pair  400 µm dntps  1x pcr buffer containing mgcl2  0 2 u taq dna polymerase  pcr performed abi geneamp 9700 pcr system following conditions 5 min 94°c 30 cycles 30 sec 94°c  1 min 60°c  1 min 72°c 5 min 72°c  pcr products separated capillary electrophoresis abi 3130xl dna analyzer  chromatograms analyzed peak scanner 1 0 genemapper 3 7 software applied biosystems allelic alterations  area peaks produced dna pcr products quantified allele  ratio allelic areas calculated tumor paired normal dna sample  qloh allelic ratio tumor peaks divided allelic ratio paired normal sample ≤0 5 ≥2 0 c-cbl least one 11q marker least two separate experiments  sample considered allelic imbalance interpreted loh  samples evaluated least two separate experiments samples showing prospective loh c-cbl repeated third time included new control marker bax locus data shown chromosome 19 verify integrity sample dna  transfection c-cbl constructs a549 cell line transfected using fugene hd roche  nutley  nj reagent according manufacturers instructions  eight µg plasmid dna  containing either insert empty vector  wild-type c-cbl  s80nh94y c-cbl  q249e c-cbl w802 cbl used transfection 6-well culture plate  cells harvested 48 h transfection analyzed expression  c-cbl knockdown c-cbl knockdown performed using lentiviral transduction using mission lentiviral transduction particles sigma-aldrich  st  louis  mo per manufacturers instructions  briefly  1×105 h358 cellswell seeded 6-well plates infected following day c-cbl lentiviral shrna constructs  generate stable c-cbl knockdown cell lines  cells selected 2 days 1 µgml puromycin  c-cbl levels determined using whole cell lysates immunoblotting anti-cbl antibody santa cruz biotechnologies  santa cruz  ca  cell viability assay cells transfected described transfection assay  forty-eight hours transfection  viability cells assessed using trypan blue exclusion  wound healing assay a549 cells seeded 6-well plates cultured 48 h 100 confluent  medium changed cells transfected described transfection assay  twelve hours transfection  straight scratch made across cell layer using 1 ml pipette tip  cells gently washed 1× pbs remove cellular debris media replaced  photographs taken wound region every 12 h 48 h  western blot analysis forty eight hours transfection  cells collected washed twice 1x pbs  lysed ice-cold lysis buffer 0 5m tris-hcl ph 7 4  1 5 nacl  2 5 deoxycholic acid  10 mm edta  10 np-40  0 5 mm dtt  1 mm phenylmethylsulfonyl fluoride  5 µgml leupeptin  10 µgml aprotinin 5 minutes  lysate centrifuged 13 000 rpm 20 minutes 4°c  protein content supernatant measured  total cell lysates 50 µgwell separated sds-page electrophoresis gels transferred onto nitrocellulose membranes whatman  piscataway  nj  membranes blocked 5 non-fat dry milk phosphate-buffered saline containing tween-20 pbst 1x pbs  0 1 tween-20 1 h room temperature incubated appropriate primary antibody 4°c overnight  membranes washed three times pbst probed appropriate horseradish peroxidase hrp-conjugated secondary antibody 1 h room temperature  membranes washed three times pbst bands visualized using western blot chemiluminescence reagent biorad  valencia  ca chemidoc gel documentation system biorad  valencia  ca  antibodies obtained santa cruz biotechnologies used following dilutions c-cbl  1∶5000 c-met  1∶5000 egfr  1∶5000 ubiquitin  1∶1000 ha  1∶5000 β-actin  1∶10 000  flow cytometry cell cycle analysis carried flow cytometry  approximately 2×106 cells grown media containing 10 fbs  cells harvested trypsinedta treatment  washed 1x pbs three times fixed ice-cold 70 ethanol 2 h  cells washed cold pbs stained solution containing 25 µgml propidium iodide  200 µgml rnase a  0 1 triton x-100 30 minutes dark  cell cycle analysis performed using guava pca-96 flow cytometer guava technologies  millipore  billerica  ma  ubiquitin ligase activity 293t cells maintained culture dmem supplemented 10 fbs 1 penicillin 100 unitsml streptomycin 100 µgml transfected 0 2 µg egfr-pcdna3 2 µg ha-tagged c-cbl constructs indicated using calcium phosphate according manufacturers protocol profection  promega  madison  wi  twenty-four hours post-transfection  cells starved overnight dmem supplemented 0 5 fbs  treated without egf 100 ngml 15 min  cells collected washed two times ice-cold pbs containing 0 2 mm sodium orthovanadate lysed ice-cold lysis buffer 10 mm tris hcl  ph 7 5  150 mm nacl  5 mm edta  1 triton x100  10 glycerol  2 mm sodium orthovanadate protease inhibitors  lysates cleared debris centrifugation 16 000 g 10 min 4°c  egfr immunoprecipitations performed 200 µg cleared lysate using 250 ng rabbit-anti-egfr protein ag plus sepharose overnight 4°c  precipitations washed 5 times lysis buffer boiling laemmli buffer  elutions immunoblotted anti-ubiquitin egfr  twenty micrograms cleared lysate immunoblotted c-cbl constructs using anti-ha  statistical analysis mutation rates different groups compared using fishers exact test  continuous variables  group comparisons performed using analysis variance anova followed sidaks adjustment multiple comparisons  experiments involving repeated measurements time analyzed using repeated measures anova greenhouse-geisser adjustment degrees freedom  analyses conducted using stata v10 1 software stata corporation  college station  tx  go to results c-cbl gene mutations lung cancer investigate role c-cbl lung cancer  analyzed genomic dna tumor paired normal samples drawn multiple ethnicities  lung tumor samples represented caucasians n  50  african-americans n  29  taiwanese n  40 lung cancer patients  designed 12 pairs primers sequence coding region c-cbl gene spans exons 2 16 table s2  identified 8 unique somatic mutations c-cbl exons among 8 different patients  variation l620f  known snp rs2227988 exon 11 also detected  importantly  eight novel non-synonymous mutations confirmed sequencing strands c-cbl genomic dna obtained lung tumor samples table 1  moreover  none 8 mutations detected corresponding normal tissue  indicating somatic mutations  four synonymous single nucleotide variations snvs also identified used study  table 1 table 1 c-cbl mutation analysis 119 lung cancer patient tumor tissues  three 8 novel non-synonymous mutations located tkb tyrosine kinase binding domain s80n  h94y  q249e  one ring finger domain v391i  one proline-rich region 7251572517 del atg  three c-terminal region w802  r830k  a848t c-cbl protein ure 1a ure s1  ure 1b  show model chromatograms representative samples  ure 1 ure 1 c-cbl mutations loh non-small cell lung cancer  11q loh c-cbl gene paired lung tumor normal lung tissue samples taiwanese patients n  37 investigated loh  eight 21 6 showed loh c-cbl locus chromosome 11 29 samples 78 4 revealed normal allelic contribution microsatellite markers ures 1c d  c-cbl mutations different ethnic groups c-cbl double mutant s80nh94y found patient overall mutation rate c-cbl lung tumors 6 7 8119  frequency c-cbl mutation highest large cell carcinoma 14 7 5 34 patients followed squamous carcinoma 6 3 2 32 patients least observed adenocarcinoma ad 1 8 1 53 patients  although rates statistically significant p  0 292  mutation rates 6 0 among caucasians 0 20 ad 0 10 sq 3 20 lc  13 8 african-americans 1 10 ad 1 10 sq 2 9 lc  2 5 0 23 ad 1 12 sq 0 5 lc taiwanese population  additionally two taiwanese patients lung cancer one squamous one adenocarcinoma known snp l620f  ethnic differences statistically significant  however power detect differences low  mutations met egfr co-associated c-cbl alterations since east asians lung cancer higher frequency egfr met mutations lung tumors 21  22  also determined mutations egfr met taiwanese cohort samples compared results observed c-cbl alterations loh andor mutations  37 samples tested  find overlap c-cbl mutations c-cbl loh ure 2  three c-cbl mutants including known l620f snp  rs2227988  one samples met mutation n375s egfr mutation l858r  among 8 samples loh c-cbl locus 5 additional mutation met n375s 2 egfr exon 19 deletion  twenty-six samples neither c-cbl mutation c-cbl loh 3 patients c-cbl mutation c-cbl loh  among 26 samples 9 met mutation 8 n375s  1 l211w  13 egfr mutation 7 exon 9 deletion  6 l858r 4 met egfr mutation  thus rate met egfr mutations among patients loh c-cbl locus 7 8 similar seen patients without c-cbl mutation loh 22 26 patients p  0 99  4 patients identifiable mutation c-cbl  met egfr represented 10 8 37 patients analyzed taiwanese patient cohort  conversely  89 2 taiwanese lung cancer patients identifiable mutation either c-cbl  met egfr combination three genes ure 2  additionally  determined p53 kras mutations taiwanese cohorts  two p53 1 kras mutation detected  single kras mutation overlapped one p53 mutation  patient also egfr exon 19 deletion c-cbl mutation  p53 mutation sample c-cbl loh concurrent met n375s mutation  thus  taiwanese samples analyzed  p53kras mutations c-cbl mutations mutually exclusive data shown  ure 2 ure 2 c-cbl mutations relationship met egfr mutations lung cancer  cellular functions c-cbl alterations context lung tumorigenesis a  e3 activity intact mutant c-cbl proteins investigate whether different c-cbl mutations affect e3 activity  egfr chosen model substrate c-cbl e3 function  c-cbl mutants tested enhanced ubiquitination activated egfr similar wild-type c-cbl protein  result demonstrates catalytic activity c-cbl mutants impaired egfr substrate  ure 3a  ure 3 ure 3 ubiquitination  viability  expression cell cycle analysis various c-cbl mutants  b  effect lung cancer cell viability effect representative c-cbl mutant three ethnic backgrounds lung cancer cell viability cell lines determined  s80nh94y double mutation  q249e  w802 identified lung tumor samples obtained caucasian  taiwanese african-american  respectively  described methods  c-cbl wild-type wt three mutants expressed cloning paltermax vector a549 cells  cells express relatively low basal levels endogenous c-cbl data shown  transfection efficiency comparable different groups number cells transfected c-cbl wild-type construct 70 compared control cells transfected empty vector  cells transfected s80nh94y  q249e w802 c-cbl mutant constructs resulted increased number viable cells 132 3  120 8 147 9 higher respectively  relative empty vector control transfected cells significantly different wild-type construct p  0 022  p  0 049  p  0 008  respectively ure 3b  relative levels c-cbl protein whole cell lysates prepared samples obtained parallel experiment determined  c-cbl protein levels samples representing untransfected empty vector transfected cells comparable representing c-cbl wt three c-cbl mutants comparable ure 3c  c  effect cell cycle investigate increases cell viability different c-cbl mutants due increased cellular proliferation  cell cycle analysis performed  a549 cells transfected c-cbl wt three different mutants s80nh94y  q249e w802  empty vector transfectant used control  forty-eight hours transfection cell cycle analysis performed described materials methods  significant change subg1  g1 phase cell cycle among different mutants compared wt construct p  0 64  p  0 40  p  0 28  respectively  g2m phase cell cycle showed increase cell numbers three mutants  s80nh94y  q249e w802  compared wt difference statistically significant p  0 25 ure 3d  d  effect cell motility investigate effect expression three c-cbl mutants cell migration  carried wound healing assay described materials methods  closing scratch wound monitored 0  12  24  36  48 h  ure 4a  samples  represented cells transfected mutants  wound gap much smaller seen sample represented cells transfected c-cbl wt p0 001  also determined rate wound closure five groups  48 h  wild-type c-cbl transfectants showed 61 1 open wound s80nh94y  q249e w802 mutants showed 18 7  23 9 34 3 open wound respectively p0 001 ure 4b  ure 4 ure 4 c-cbl mutations affect wound healing a549 cells  e  c-cbl knockdown increases cell viability hypothesized loh seen samples could lead decreased expression c-cbl  thus tested effect c-cbl knockdown lung cancer cells  compared a549  h358 lung cancer cells express relatively high levels endogenous c-cbl data shown  c-cbl expression knocked using lentiviral construct expressed c-cbl specific shrna compared results transduced scrambled shrna results shown ure 5  identified several clones revealed varying degrees c-cbl knockdown showing different sets c-cbl lentiviral shrna knockdown efficiency ure 5a  clones tested  clone 27 chosen experiments  equal amount cells seeded 6-well plate cell proliferation measured various times results depicted ure 5b  expected  number cells increased time dependent fashion 100 190 relative scrambled shrna control span 48 h p  0 0002 ure 5b  cell cycle phases h358 cells knocked c-cbl shrna looked compared scrambled shrna  discernable differences two constructs different phases cell cycle data shown  ure 5 ure 5 knockdown c-cbl using shrna increases cell proliferation  go to discussion results demonstrate c-cbl somatically mutated or loh lung cancers  significantly contribute enhanced cell viability motility  also high prevalence loh respect c-cbl lung tumors harbored met egfr mutation  present study  demonstrated occurrence c-cbl mutations lung cancer patients  especially different ancestral variations  mutations c-cbl recently reported juvenile myelomonocytic leukemia myeloid malignancies  aml study  mutation r420q located junction ring finger linker region inhibited fms-like tyrosine kinase 3 flt3 internalization ubiquitination 20  thus contributing gain-in-function rtk  addition  mutations h398y  c384r  l380p mapped ring finger domain linker region c-cbl required e3 activity 23  24  25  26  27  additionally  homozygous mutations ring finger domain c-cbl gene described result acquired uniparental disomy upd 26  important note results indicate loh 11q23 locus mutually exclusive missense mutations c-cbl  somatic mutations heterozygous  mutations aml led abrogation e3 activity leading prolonged rtk activation  addition mutants located linker region surrounding ring finger domain exhibited enhanced akt signaling response cytokine stimulation 26  addition  shown nh3t3 cells  neither mutations ring finger linker region causes transformation  however certain mutations perturbs ubiquitination  others affect receptor recycling prolong kinase activity 28  report c-cbl mutations mapped ring finger domain  also tkb domain  proline-rich domain c-terminal region  none mapped linker region reported aml studies described 23  24  25  26  29  addition  8 mutants detected found different ethnic backgrounds  example  s80nh94y  q249e  w802 detected caucasians  taiwanese african-americans  respectively  results point difference lung cancer cancers  also genetic polymorphism among different races cancer  interestingly  large disparity african-american ethnic populations lung cancer 30  previously shown low frequency egfr met mutation african-americans compared taiwanese caucasians 31  study  number african-american samples analyzed relatively fewer found 3 mutations unique ethnicity  would behoove us study genetic alterations occur determine targeted therapeutics african-americans  results provide evidence importance c-cbl tumorigenesis potential signaling  prediction  based aml data  would v391i ring finger domain mutation would affect e3 activity  also  important determine binding partners c-cbl tkb domain proline rich domain mutations  previously shown tkb domain bind growth factor receptors important determine cross-binding mutants met egfr  would also important future look fluorescence situ hybridizationcopy number changes c-cbl lung cancer  c-cbl plays important role regulating rtk-mediated signaling k63 poly-ubiquitination subsequent downregulation rtks followed lysosomal degredation 3  mono-ubiquitination ubiquitinated k63-linked chains substrates c-cbl may lead enhancement biological biochemical functions reviewed hermann et al  2007 32  mutations analyzed studies point fact e3 activity c-cbl egfr intact egfr levels various mutants remain ure s2  multiple kinases  rtks non-rtks could acted upon c-cbl  including erbs  pdgfr  fms  met  c-kit  vegfr  flt-1  ron  fgfr  ir  well syk  fyn  lck  fgr  lyn c-abl 3  lung cancers relevant substrates c-cbl terms degradation signal transduction yet identified  observation c-cbl somatic mutations  especially s80nh94y  q249e w802 showed increased cell viability cell motility agreement physiological role d-cbl regulation apoptosis differentiation identified drosophila significant 33  previously shown activating c-cbl mutation downregulates egfr signaling decreases cellular proliferation migration breast cancer cell lines 34  although role c-cbl negative regulation rtks well substantiated  thereby suggesting natural tumor suppressor  studies cancer cells revealed tumor suppressor tumor promoting activities depending type c-cbl mutation number alleles c-cbl locus 24  agreement above  three c-cbl mutants described appear tumor growth metastasis promoting properties  although mutants outside ring finger linker region c-cbl  downstream effects significant cause increased proliferation migration  substrate affected mutations known yet  raises possibility cellular functions c-cbl independent ubiquitin-ligase activity  area currently investigating  oncogenic nature rtks  addiction cancers growth signals given clustering c-cbl  egfr met mutations  possible transforming effect c-cbl mutations likely combinatorial effect three  also show loh c-cbl found significant number samples harbored met egfr mutations  fact 7 lung tumor samples likely c-cbl mutations additional 22 likely harbor c-cbl-related loh  makes c-cbl highly mutated molecule lung cancer  since loh alone enough cause transforming event 35  36  37  associated mutation met egfr locus yet another rtk discussed may play role carcinogenesis  predict loh c-cbl results haploinsufficiency downplays rtk ubiquitination leading hyperactivity rtks  however  whether sufficient cause tumorigenesis remains determined  consistent hypothesis fact c-cbl-- mice increased kinase activity lymphocytes  sufficient tumor formation 35  36  37  c-cbl loh could also lead increased expression c-cbl allele compensate loss allele  alternately  could form synergy working reduced c-cbl levels mutated receptors exacerbate phenotype alone  previous studies lab others shown east asians lung cancers relatively high frequencies gain-of-function mutations rtks egfr met 31  cohort japanese patients activating met mutation identified splice region deletes juxtamembrane domain involved e3 activity c-cbl 38  study also found activation met mutually exclusive egfr  kras her2 gene mutations 38  failed detect mutations significant numbers lung tumor samples obtained african-americans n  29 caucasian n  50 patients  one met mutation identified groups whereas 1 3 egfr mutations identified african-american caucasian cohorts respectively  egfr mutations earlier identified one key mutations affecting lung adenocarcinoma patients comprehensive study 188 patients 39  study encompasses different histologies nsclc  however  published series find mutations c-cbl met unlike study encompassed different subtypes nsclc  important note  recently shown met mutations lung cancer majority germline 31  reported earlier c-cbl mutations small cohort taiwanese lung cancer samples 40  efforts understand ethnic differences lung oncogenome  also looked pax transcription factors pax5 pax8 highly expressed lung cancers however preferential expression mutations genes lung tumor samples african-americans  study  show relatively high frequency c-cbl mutations lung cancers  especially large cell type among caucasians particularly among african-americans  therefore propose c-cbl efficacious target lung cancers african-americans needs substantiated  important prognosis african-americans lung cancer  especially men much poorer compared caucasian counterparts 41  conclusion  results presented study demonstrate c-cbl frequently mutated even lost lung cancers  results support role c-cbl mutants independent ubiquitination activity  given relatively high mutation rates c-cbl well rtks met egfr  likely combined effect could synergistic promoting tumorigenesis '"
      ]
     },
     "execution_count": 92,
     "metadata": {},
     "output_type": "execute_result"
    }
   ],
   "source": [
    "train_nolemma[\"Text\"][1]"
   ]
  },
  {
   "cell_type": "code",
   "execution_count": null,
   "metadata": {
    "collapsed": true
   },
   "outputs": [],
   "source": []
  }
 ],
 "metadata": {
  "kernelspec": {
   "display_name": "Python 3",
   "language": "python",
   "name": "python3"
  },
  "language_info": {
   "codemirror_mode": {
    "name": "ipython",
    "version": 3
   },
   "file_extension": ".py",
   "mimetype": "text/x-python",
   "name": "python",
   "nbconvert_exporter": "python",
   "pygments_lexer": "ipython3",
   "version": "3.6.1"
  }
 },
 "nbformat": 4,
 "nbformat_minor": 2
}
