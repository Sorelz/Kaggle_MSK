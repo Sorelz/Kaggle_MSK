{
 "cells": [
  {
   "cell_type": "code",
   "execution_count": 1,
   "metadata": {
    "scrolled": true
   },
   "outputs": [
    {
     "name": "stderr",
     "output_type": "stream",
     "text": [
      "C:\\Users\\Franck\\Documents\\Continuum\\Anaconda3\\lib\\site-packages\\sklearn\\cross_validation.py:44: DeprecationWarning: This module was deprecated in version 0.18 in favor of the model_selection module into which all the refactored classes and functions are moved. Also note that the interface of the new CV iterators are different from that of this module. This module will be removed in 0.20.\n",
      "  \"This module will be removed in 0.20.\", DeprecationWarning)\n"
     ]
    }
   ],
   "source": [
    "import numpy as np\n",
    "import pandas as pd\n",
    "import scipy.sparse as ssp\n",
    "import sklearn\n",
    "from sklearn.feature_extraction.text import TfidfVectorizer\n",
    "from sklearn import metrics, model_selection\n",
    "from sklearn.linear_model import LogisticRegression\n",
    "import xgboost as xgb\n",
    "from xgboost import XGBClassifier\n",
    "from sklearn import svm\n",
    "from sklearn.neighbors import KNeighborsClassifier\n",
    "from sklearn.model_selection import cross_val_predict,cross_val_score\n",
    "from sklearn.decomposition import TruncatedSVD\n",
    "from sklearn.ensemble import BaggingClassifier\n",
    "from sklearn.ensemble import AdaBoostClassifier\n",
    "import lightgbm\n",
    "from lightgbm.sklearn import LGBMClassifier\n",
    "import os \n",
    "import re\n",
    "from sklearn.model_selection import GridSearchCV\n",
    "from sklearn.ensemble import RandomForestClassifier "
   ]
  },
  {
   "cell_type": "markdown",
   "metadata": {},
   "source": [
    "# I will use cross_val_score on XGBoost to select 100,200 or 300 for each preprocess => actually selected so ignore that part"
   ]
  },
  {
   "cell_type": "code",
   "execution_count": null,
   "metadata": {},
   "outputs": [],
   "source": [
    "work_train_w2v = {} \n",
    "work_test_w2v = {}\n",
    "pre_process=[\"w2v_100.csv\",\"w2v_200.csv\",\"w2v_300.csv\"]\n",
    "path=\"checkpoints_databases/\"\n",
    "for f in pre_process:\n",
    "    work_train_w2v[re.sub(\"\\.csv\",\"\",f)] = pd.read_csv(path+\"new_stem_working_train_\"+f)\n",
    "    work_test_w2v[re.sub(\"\\.csv\",\"\",f)] = pd.read_csv(path+\"new_stem_working_test_\"+f)"
   ]
  },
  {
   "cell_type": "code",
   "execution_count": 3,
   "metadata": {},
   "outputs": [],
   "source": [
    "work_train_tfidf = {} \n",
    "work_test_tfidf = {}\n",
    "pre_process=[\"tfidf_tsvd_100.csv\",\"tfidf_tsvd_200.csv\",\"tfidf_tsvd_300.csv\"]\n",
    "path=\"checkpoints_databases/\"\n",
    "for f in pre_process:\n",
    "    work_train_tfidf[re.sub(\"\\.csv\",\"\",f)] = pd.read_csv(path+\"new_stem_working_train_\"+f)\n",
    "    work_test_tfidf[re.sub(\"\\.csv\",\"\",f)] = pd.read_csv(path+\"new_stem_working_test_\"+f)"
   ]
  },
  {
   "cell_type": "code",
   "execution_count": null,
   "metadata": {},
   "outputs": [],
   "source": [
    "#we keep the lemmatization bio w2v\n",
    "work_train_bio = {} \n",
    "work_test_bio = {}\n",
    "pre_process=[\"bio.csv\"]\n",
    "path=\"checkpoints_databases/\"\n",
    "for f in pre_process:\n",
    "    work_train_bio[re.sub(\"\\.csv\",\"\",f)] = pd.read_csv(path+\"new_working_train_\"+f)\n",
    "    work_test_bio[re.sub(\"\\.csv\",\"\",f)] = pd.read_csv(path+\"new_working_test_\"+f)"
   ]
  },
  {
   "cell_type": "code",
   "execution_count": 8,
   "metadata": {},
   "outputs": [
    {
     "name": "stdout",
     "output_type": "stream",
     "text": [
      "meanw2v_100 -1.08591915345 std:w2v_100 0.0541873570702\n",
      "meanw2v_200 -1.07376934966 std:w2v_200 0.0372816273367\n",
      "meanw2v_300 -1.06437402745 std:w2v_300 0.0367764336005\n"
     ]
    }
   ],
   "source": [
    "clf_xgb=XGBClassifier(max_depth=5, objective=\"multi:softprob\",seed=26)\n",
    "for name in work_train_w2v:\n",
    "    h=cross_val_score(clf_xgb,np.array(work_train_w2v[name]),y,cv=kf,n_jobs=-1,scoring=\"neg_log_loss\")\n",
    "    print(\"mean\"+name+\" \"+str(h.mean()),\n",
    "         \"std:\"+name+\" \"+str(h.std()))\n",
    "#"
   ]
  },
  {
   "cell_type": "code",
   "execution_count": 9,
   "metadata": {
    "scrolled": true
   },
   "outputs": [
    {
     "name": "stdout",
     "output_type": "stream",
     "text": [
      "meantfidf_tsvd_100 -1.0169704023 std:tfidf_tsvd_100 0.0365495778442\n",
      "meantfidf_tsvd_200 -1.02394548835 std:tfidf_tsvd_200 0.0384426689575\n",
      "meantfidf_tsvd_300 -1.02594316006 std:tfidf_tsvd_300 0.0390292436386\n"
     ]
    }
   ],
   "source": [
    "for name in work_train_tfidf:\n",
    "    h=cross_val_score(clf_xgb,np.array(work_train_tfidf[name]),y,cv=kf,n_jobs=-1,scoring=\"neg_log_loss\")\n",
    "    print(\"mean\"+name+\" \"+str(h.mean()),\n",
    "         \"std:\"+name+\" \"+str(h.std()))\n",
    "#"
   ]
  },
  {
   "cell_type": "markdown",
   "metadata": {},
   "source": [
    "# things start here"
   ]
  },
  {
   "cell_type": "code",
   "execution_count": 2,
   "metadata": {},
   "outputs": [],
   "source": [
    "new_train=pd.read_csv(\"checkpoints_databases/new_working_train.csv\")\n",
    "new_test=pd.read_csv(\"checkpoints_databases/new_working_test.csv\")"
   ]
  },
  {
   "cell_type": "code",
   "execution_count": 3,
   "metadata": {},
   "outputs": [],
   "source": [
    "y=np.array(new_train.Class)-1"
   ]
  },
  {
   "cell_type": "code",
   "execution_count": 4,
   "metadata": {},
   "outputs": [],
   "source": [
    "ID_train=new_train.ID\n",
    "ID_test=new_test.ID"
   ]
  },
  {
   "cell_type": "code",
   "execution_count": 5,
   "metadata": {},
   "outputs": [],
   "source": [
    "kf = model_selection.StratifiedKFold(n_splits=5, random_state=26, shuffle=True)"
   ]
  },
  {
   "cell_type": "markdown",
   "metadata": {},
   "source": [
    "# GRID SEARCH PHASE ALL ALGOS"
   ]
  },
  {
   "cell_type": "code",
   "execution_count": 8,
   "metadata": {
    "scrolled": false
   },
   "outputs": [],
   "source": [
    "work_train= {} \n",
    "work_test = {}\n",
    "#To complete\n",
    "path=\"checkpoints_databases/\"\n",
    "work_train[\"bio\"] = pd.read_csv(path+\"new_working_train_bio.csv\")\n",
    "work_test[\"bio\"] = pd.read_csv(path+\"new_working_test_bio.csv\")\n",
    "work_train[\"full_tfidf_100\"] = pd.read_csv(path+\"new_stem_working_train_full_tfidf_100.csv\")\n",
    "work_test[\"full_tfidf_100\"] = pd.read_csv(path+\"new_stem_working_test_full_tfidf_100.csv\")\n",
    "\n",
    "work_train[\"wind_tfidf_100\"] = pd.read_csv(path+\"new_stem_working_train_wind_tfidf_100.csv\")\n",
    "work_test[\"wind_tfidf_100\"] = pd.read_csv(path+\"new_stem_working_test_wind_tfidf_100.csv\")\n",
    "\n",
    "work_train[\"w2v_300\"] = pd.read_csv(path+\"new_stem_working_train_w2v_300.csv\")\n",
    "work_test[\"w2v_300\"] = pd.read_csv(path+\"new_stem_working_test_w2v_300.csv\")\n"
   ]
  },
  {
   "cell_type": "code",
   "execution_count": 9,
   "metadata": {},
   "outputs": [],
   "source": [
    "feat_train=pd.read_csv(\"../window/w_meta_features/meta_train_l1l2.csv\")\n",
    "feat_test=pd.read_csv(\"../window/w_meta_features/meta_test_l1l2.csv\")\n",
    "feat_train=feat_train.drop(\"ID\",axis=1)\n",
    "feat_test=feat_test.drop(\"ID\",axis=1)\n",
    "feat_ext_train=pd.read_csv(\"w_meta_features/new_working_train_ext.csv\")\n",
    "feat_ext_test=pd.read_csv(\"w_meta_features/new_working_test_ext.csv\")"
   ]
  },
  {
   "cell_type": "code",
   "execution_count": 10,
   "metadata": {},
   "outputs": [],
   "source": [
    "#GO features + text embeddings\n",
    "work_train_final={}\n",
    "work_test_final={}\n",
    "for name in work_train:\n",
    "    work_train_final[name]=pd.concat((work_train[name],feat_ext_train),axis=1)\n",
    "    work_test_final[name]=pd.concat((work_test[name],feat_ext_test),axis=1)"
   ]
  },
  {
   "cell_type": "code",
   "execution_count": 11,
   "metadata": {},
   "outputs": [
    {
     "name": "stdout",
     "output_type": "stream",
     "text": [
      "bio\n",
      "full_tfidf_100\n",
      "wind_tfidf_100\n",
      "w2v_300\n"
     ]
    }
   ],
   "source": [
    "for name in work_train_final:\n",
    "    print(name) #just to check that the ordering is not doing shit"
   ]
  },
  {
   "cell_type": "markdown",
   "metadata": {},
   "source": [
    "# the gridsearch for w2vbio lemmatized is already done in the other modelling script"
   ]
  },
  {
   "cell_type": "code",
   "execution_count": null,
   "metadata": {},
   "outputs": [
    {
     "name": "stdout",
     "output_type": "stream",
     "text": [
      "Fitting 5 folds for each of 162 candidates, totalling 810 fits\n"
     ]
    },
    {
     "name": "stderr",
     "output_type": "stream",
     "text": [
      "[Parallel(n_jobs=-1)]: Done  42 tasks      | elapsed:  5.5min\n",
      "[Parallel(n_jobs=-1)]: Done 192 tasks      | elapsed: 107.7min\n"
     ]
    }
   ],
   "source": [
    "clf_xgb=XGBClassifier(max_depth=3, objective=\"multi:softprob\",seed=26)\n",
    "param_test= {\n",
    "    \"max_depth\" : [3,5,7],\n",
    "    \"min_child_weight\" : [1,3,5],\n",
    "    \"subsample\":[0.8,0.9,1],\n",
    "    \"colsample_bytree\":[0.8,0.9,1]\n",
    "}\n",
    "for name in work_train_final:\n",
    "    gsearch=GridSearchCV(estimator=clf_xgb, param_grid = param_test,scoring=\"neg_log_loss\",n_jobs=-1,iid=False, cv=kf,verbose=True)\n",
    "    gsearch.fit(np.array(work_train_final[name]),y)\n",
    "    print(name)\n",
    "    print(gsearch.grid_scores_)\n",
    "    print(gsearch.best_params_)\n",
    "    print(gsearch.best_score_)\n",
    "    \n",
    "#bio:\n",
    "#f_tfidf:\n",
    "#w_tfidf:\n",
    "#w2v:\n",
    "    \n",
    "#bio : {'colsample_bytree': 0.8, 'max_depth': 5, 'min_child_weight': 5, 'n_estimators': 100, 'subsample': 0.9} : 0.9385\n",
    "#tfidf: \n",
    "#w2v: "
   ]
  },
  {
   "cell_type": "code",
   "execution_count": 12,
   "metadata": {
    "scrolled": true
   },
   "outputs": [
    {
     "name": "stdout",
     "output_type": "stream",
     "text": [
      "Fitting 5 folds for each of 144 candidates, totalling 720 fits\n"
     ]
    },
    {
     "name": "stderr",
     "output_type": "stream",
     "text": [
      "[Parallel(n_jobs=-1)]: Done  42 tasks      | elapsed:   22.5s\n",
      "[Parallel(n_jobs=-1)]: Done 192 tasks      | elapsed:  3.9min\n",
      "[Parallel(n_jobs=-1)]: Done 442 tasks      | elapsed: 10.6min\n",
      "[Parallel(n_jobs=-1)]: Done 720 out of 720 | elapsed: 19.9min finished\n"
     ]
    },
    {
     "name": "stdout",
     "output_type": "stream",
     "text": [
      "bio\n",
      "[mean: -1.55074, std: 0.01714, params: {'boosting_type': 'gbdt', 'colsample_bytree': 0.7, 'n_estimators': 8, 'num_leaves': 6, 'subsample': 0.7}, mean: -1.55055, std: 0.01657, params: {'boosting_type': 'gbdt', 'colsample_bytree': 0.7, 'n_estimators': 8, 'num_leaves': 6, 'subsample': 0.8}, mean: -1.54984, std: 0.00902, params: {'boosting_type': 'gbdt', 'colsample_bytree': 0.7, 'n_estimators': 8, 'num_leaves': 6, 'subsample': 0.9}, mean: -1.47952, std: 0.01464, params: {'boosting_type': 'gbdt', 'colsample_bytree': 0.7, 'n_estimators': 8, 'num_leaves': 12, 'subsample': 0.7}, mean: -1.47303, std: 0.01523, params: {'boosting_type': 'gbdt', 'colsample_bytree': 0.7, 'n_estimators': 8, 'num_leaves': 12, 'subsample': 0.8}, mean: -1.47443, std: 0.01229, params: {'boosting_type': 'gbdt', 'colsample_bytree': 0.7, 'n_estimators': 8, 'num_leaves': 12, 'subsample': 0.9}, mean: -1.45246, std: 0.01289, params: {'boosting_type': 'gbdt', 'colsample_bytree': 0.7, 'n_estimators': 8, 'num_leaves': 16, 'subsample': 0.7}, mean: -1.44887, std: 0.01442, params: {'boosting_type': 'gbdt', 'colsample_bytree': 0.7, 'n_estimators': 8, 'num_leaves': 16, 'subsample': 0.8}, mean: -1.44658, std: 0.01284, params: {'boosting_type': 'gbdt', 'colsample_bytree': 0.7, 'n_estimators': 8, 'num_leaves': 16, 'subsample': 0.9}, mean: -1.43624, std: 0.00974, params: {'boosting_type': 'gbdt', 'colsample_bytree': 0.7, 'n_estimators': 8, 'num_leaves': 22, 'subsample': 0.7}, mean: -1.42385, std: 0.01226, params: {'boosting_type': 'gbdt', 'colsample_bytree': 0.7, 'n_estimators': 8, 'num_leaves': 22, 'subsample': 0.8}, mean: -1.42307, std: 0.01517, params: {'boosting_type': 'gbdt', 'colsample_bytree': 0.7, 'n_estimators': 8, 'num_leaves': 22, 'subsample': 0.9}, mean: -1.18434, std: 0.02433, params: {'boosting_type': 'gbdt', 'colsample_bytree': 0.7, 'n_estimators': 24, 'num_leaves': 6, 'subsample': 0.7}, mean: -1.18131, std: 0.02285, params: {'boosting_type': 'gbdt', 'colsample_bytree': 0.7, 'n_estimators': 24, 'num_leaves': 6, 'subsample': 0.8}, mean: -1.18078, std: 0.01471, params: {'boosting_type': 'gbdt', 'colsample_bytree': 0.7, 'n_estimators': 24, 'num_leaves': 6, 'subsample': 0.9}, mean: -1.09302, std: 0.02193, params: {'boosting_type': 'gbdt', 'colsample_bytree': 0.7, 'n_estimators': 24, 'num_leaves': 12, 'subsample': 0.7}, mean: -1.08812, std: 0.02451, params: {'boosting_type': 'gbdt', 'colsample_bytree': 0.7, 'n_estimators': 24, 'num_leaves': 12, 'subsample': 0.8}, mean: -1.08468, std: 0.01947, params: {'boosting_type': 'gbdt', 'colsample_bytree': 0.7, 'n_estimators': 24, 'num_leaves': 12, 'subsample': 0.9}, mean: -1.06474, std: 0.02061, params: {'boosting_type': 'gbdt', 'colsample_bytree': 0.7, 'n_estimators': 24, 'num_leaves': 16, 'subsample': 0.7}, mean: -1.05898, std: 0.02317, params: {'boosting_type': 'gbdt', 'colsample_bytree': 0.7, 'n_estimators': 24, 'num_leaves': 16, 'subsample': 0.8}, mean: -1.05908, std: 0.01811, params: {'boosting_type': 'gbdt', 'colsample_bytree': 0.7, 'n_estimators': 24, 'num_leaves': 16, 'subsample': 0.9}, mean: -1.04353, std: 0.01851, params: {'boosting_type': 'gbdt', 'colsample_bytree': 0.7, 'n_estimators': 24, 'num_leaves': 22, 'subsample': 0.7}, mean: -1.04198, std: 0.02312, params: {'boosting_type': 'gbdt', 'colsample_bytree': 0.7, 'n_estimators': 24, 'num_leaves': 22, 'subsample': 0.8}, mean: -1.03743, std: 0.02443, params: {'boosting_type': 'gbdt', 'colsample_bytree': 0.7, 'n_estimators': 24, 'num_leaves': 22, 'subsample': 0.9}, mean: -1.08644, std: 0.02371, params: {'boosting_type': 'gbdt', 'colsample_bytree': 0.7, 'n_estimators': 36, 'num_leaves': 6, 'subsample': 0.7}, mean: -1.08147, std: 0.02324, params: {'boosting_type': 'gbdt', 'colsample_bytree': 0.7, 'n_estimators': 36, 'num_leaves': 6, 'subsample': 0.8}, mean: -1.08173, std: 0.01808, params: {'boosting_type': 'gbdt', 'colsample_bytree': 0.7, 'n_estimators': 36, 'num_leaves': 6, 'subsample': 0.9}, mean: -1.00254, std: 0.02666, params: {'boosting_type': 'gbdt', 'colsample_bytree': 0.7, 'n_estimators': 36, 'num_leaves': 12, 'subsample': 0.7}, mean: -0.99717, std: 0.02893, params: {'boosting_type': 'gbdt', 'colsample_bytree': 0.7, 'n_estimators': 36, 'num_leaves': 12, 'subsample': 0.8}, mean: -0.99398, std: 0.02745, params: {'boosting_type': 'gbdt', 'colsample_bytree': 0.7, 'n_estimators': 36, 'num_leaves': 12, 'subsample': 0.9}, mean: -0.97934, std: 0.02642, params: {'boosting_type': 'gbdt', 'colsample_bytree': 0.7, 'n_estimators': 36, 'num_leaves': 16, 'subsample': 0.7}, mean: -0.97535, std: 0.02970, params: {'boosting_type': 'gbdt', 'colsample_bytree': 0.7, 'n_estimators': 36, 'num_leaves': 16, 'subsample': 0.8}, mean: -0.97717, std: 0.02456, params: {'boosting_type': 'gbdt', 'colsample_bytree': 0.7, 'n_estimators': 36, 'num_leaves': 16, 'subsample': 0.9}, mean: -0.96691, std: 0.02508, params: {'boosting_type': 'gbdt', 'colsample_bytree': 0.7, 'n_estimators': 36, 'num_leaves': 22, 'subsample': 0.7}, mean: -0.96556, std: 0.02754, params: {'boosting_type': 'gbdt', 'colsample_bytree': 0.7, 'n_estimators': 36, 'num_leaves': 22, 'subsample': 0.8}, mean: -0.96638, std: 0.03076, params: {'boosting_type': 'gbdt', 'colsample_bytree': 0.7, 'n_estimators': 36, 'num_leaves': 22, 'subsample': 0.9}, mean: -1.03143, std: 0.02475, params: {'boosting_type': 'gbdt', 'colsample_bytree': 0.7, 'n_estimators': 48, 'num_leaves': 6, 'subsample': 0.7}, mean: -1.02745, std: 0.02531, params: {'boosting_type': 'gbdt', 'colsample_bytree': 0.7, 'n_estimators': 48, 'num_leaves': 6, 'subsample': 0.8}, mean: -1.02924, std: 0.02281, params: {'boosting_type': 'gbdt', 'colsample_bytree': 0.7, 'n_estimators': 48, 'num_leaves': 6, 'subsample': 0.9}, mean: -0.95986, std: 0.03165, params: {'boosting_type': 'gbdt', 'colsample_bytree': 0.7, 'n_estimators': 48, 'num_leaves': 12, 'subsample': 0.7}, mean: -0.95684, std: 0.03357, params: {'boosting_type': 'gbdt', 'colsample_bytree': 0.7, 'n_estimators': 48, 'num_leaves': 12, 'subsample': 0.8}, mean: -0.95215, std: 0.03126, params: {'boosting_type': 'gbdt', 'colsample_bytree': 0.7, 'n_estimators': 48, 'num_leaves': 12, 'subsample': 0.9}, mean: -0.94752, std: 0.03258, params: {'boosting_type': 'gbdt', 'colsample_bytree': 0.7, 'n_estimators': 48, 'num_leaves': 16, 'subsample': 0.7}, mean: -0.94202, std: 0.03712, params: {'boosting_type': 'gbdt', 'colsample_bytree': 0.7, 'n_estimators': 48, 'num_leaves': 16, 'subsample': 0.8}, mean: -0.94732, std: 0.03196, params: {'boosting_type': 'gbdt', 'colsample_bytree': 0.7, 'n_estimators': 48, 'num_leaves': 16, 'subsample': 0.9}, mean: -0.94208, std: 0.03026, params: {'boosting_type': 'gbdt', 'colsample_bytree': 0.7, 'n_estimators': 48, 'num_leaves': 22, 'subsample': 0.7}, mean: -0.94357, std: 0.03471, params: {'boosting_type': 'gbdt', 'colsample_bytree': 0.7, 'n_estimators': 48, 'num_leaves': 22, 'subsample': 0.8}, mean: -0.94540, std: 0.03767, params: {'boosting_type': 'gbdt', 'colsample_bytree': 0.7, 'n_estimators': 48, 'num_leaves': 22, 'subsample': 0.9}, mean: -1.54742, std: 0.01607, params: {'boosting_type': 'gbdt', 'colsample_bytree': 0.8, 'n_estimators': 8, 'num_leaves': 6, 'subsample': 0.7}, mean: -1.54939, std: 0.01672, params: {'boosting_type': 'gbdt', 'colsample_bytree': 0.8, 'n_estimators': 8, 'num_leaves': 6, 'subsample': 0.8}, mean: -1.55055, std: 0.01237, params: {'boosting_type': 'gbdt', 'colsample_bytree': 0.8, 'n_estimators': 8, 'num_leaves': 6, 'subsample': 0.9}, mean: -1.47519, std: 0.01871, params: {'boosting_type': 'gbdt', 'colsample_bytree': 0.8, 'n_estimators': 8, 'num_leaves': 12, 'subsample': 0.7}, mean: -1.46883, std: 0.00973, params: {'boosting_type': 'gbdt', 'colsample_bytree': 0.8, 'n_estimators': 8, 'num_leaves': 12, 'subsample': 0.8}, mean: -1.47087, std: 0.01205, params: {'boosting_type': 'gbdt', 'colsample_bytree': 0.8, 'n_estimators': 8, 'num_leaves': 12, 'subsample': 0.9}, mean: -1.44802, std: 0.01501, params: {'boosting_type': 'gbdt', 'colsample_bytree': 0.8, 'n_estimators': 8, 'num_leaves': 16, 'subsample': 0.7}, mean: -1.44569, std: 0.00859, params: {'boosting_type': 'gbdt', 'colsample_bytree': 0.8, 'n_estimators': 8, 'num_leaves': 16, 'subsample': 0.8}, mean: -1.44213, std: 0.01370, params: {'boosting_type': 'gbdt', 'colsample_bytree': 0.8, 'n_estimators': 8, 'num_leaves': 16, 'subsample': 0.9}, mean: -1.42870, std: 0.01452, params: {'boosting_type': 'gbdt', 'colsample_bytree': 0.8, 'n_estimators': 8, 'num_leaves': 22, 'subsample': 0.7}, mean: -1.42108, std: 0.01112, params: {'boosting_type': 'gbdt', 'colsample_bytree': 0.8, 'n_estimators': 8, 'num_leaves': 22, 'subsample': 0.8}, mean: -1.41778, std: 0.01186, params: {'boosting_type': 'gbdt', 'colsample_bytree': 0.8, 'n_estimators': 8, 'num_leaves': 22, 'subsample': 0.9}, mean: -1.18304, std: 0.02357, params: {'boosting_type': 'gbdt', 'colsample_bytree': 0.8, 'n_estimators': 24, 'num_leaves': 6, 'subsample': 0.7}, mean: -1.18189, std: 0.02153, params: {'boosting_type': 'gbdt', 'colsample_bytree': 0.8, 'n_estimators': 24, 'num_leaves': 6, 'subsample': 0.8}, mean: -1.18013, std: 0.01794, params: {'boosting_type': 'gbdt', 'colsample_bytree': 0.8, 'n_estimators': 24, 'num_leaves': 6, 'subsample': 0.9}, mean: -1.09305, std: 0.02629, params: {'boosting_type': 'gbdt', 'colsample_bytree': 0.8, 'n_estimators': 24, 'num_leaves': 12, 'subsample': 0.7}, mean: -1.08323, std: 0.01949, params: {'boosting_type': 'gbdt', 'colsample_bytree': 0.8, 'n_estimators': 24, 'num_leaves': 12, 'subsample': 0.8}, mean: -1.08633, std: 0.01440, params: {'boosting_type': 'gbdt', 'colsample_bytree': 0.8, 'n_estimators': 24, 'num_leaves': 12, 'subsample': 0.9}, mean: -1.06567, std: 0.02341, params: {'boosting_type': 'gbdt', 'colsample_bytree': 0.8, 'n_estimators': 24, 'num_leaves': 16, 'subsample': 0.7}, mean: -1.05610, std: 0.01912, params: {'boosting_type': 'gbdt', 'colsample_bytree': 0.8, 'n_estimators': 24, 'num_leaves': 16, 'subsample': 0.8}, mean: -1.05370, std: 0.01607, params: {'boosting_type': 'gbdt', 'colsample_bytree': 0.8, 'n_estimators': 24, 'num_leaves': 16, 'subsample': 0.9}, mean: -1.04891, std: 0.02320, params: {'boosting_type': 'gbdt', 'colsample_bytree': 0.8, 'n_estimators': 24, 'num_leaves': 22, 'subsample': 0.7}, mean: -1.03425, std: 0.01821, params: {'boosting_type': 'gbdt', 'colsample_bytree': 0.8, 'n_estimators': 24, 'num_leaves': 22, 'subsample': 0.8}, mean: -1.03305, std: 0.02225, params: {'boosting_type': 'gbdt', 'colsample_bytree': 0.8, 'n_estimators': 24, 'num_leaves': 22, 'subsample': 0.9}, mean: -1.08311, std: 0.02458, params: {'boosting_type': 'gbdt', 'colsample_bytree': 0.8, 'n_estimators': 36, 'num_leaves': 6, 'subsample': 0.7}, mean: -1.08386, std: 0.02118, params: {'boosting_type': 'gbdt', 'colsample_bytree': 0.8, 'n_estimators': 36, 'num_leaves': 6, 'subsample': 0.8}, mean: -1.08401, std: 0.02136, params: {'boosting_type': 'gbdt', 'colsample_bytree': 0.8, 'n_estimators': 36, 'num_leaves': 6, 'subsample': 0.9}, mean: -1.00306, std: 0.03101, params: {'boosting_type': 'gbdt', 'colsample_bytree': 0.8, 'n_estimators': 36, 'num_leaves': 12, 'subsample': 0.7}, mean: -0.99423, std: 0.02525, params: {'boosting_type': 'gbdt', 'colsample_bytree': 0.8, 'n_estimators': 36, 'num_leaves': 12, 'subsample': 0.8}, mean: -0.99565, std: 0.02093, params: {'boosting_type': 'gbdt', 'colsample_bytree': 0.8, 'n_estimators': 36, 'num_leaves': 12, 'subsample': 0.9}, mean: -0.98177, std: 0.02885, params: {'boosting_type': 'gbdt', 'colsample_bytree': 0.8, 'n_estimators': 36, 'num_leaves': 16, 'subsample': 0.7}, mean: -0.97235, std: 0.02768, params: {'boosting_type': 'gbdt', 'colsample_bytree': 0.8, 'n_estimators': 36, 'num_leaves': 16, 'subsample': 0.8}, mean: -0.97512, std: 0.02256, params: {'boosting_type': 'gbdt', 'colsample_bytree': 0.8, 'n_estimators': 36, 'num_leaves': 16, 'subsample': 0.9}, mean: -0.97476, std: 0.03014, params: {'boosting_type': 'gbdt', 'colsample_bytree': 0.8, 'n_estimators': 36, 'num_leaves': 22, 'subsample': 0.7}, mean: -0.96098, std: 0.02702, params: {'boosting_type': 'gbdt', 'colsample_bytree': 0.8, 'n_estimators': 36, 'num_leaves': 22, 'subsample': 0.8}, mean: -0.96287, std: 0.03219, params: {'boosting_type': 'gbdt', 'colsample_bytree': 0.8, 'n_estimators': 36, 'num_leaves': 22, 'subsample': 0.9}, mean: -1.02826, std: 0.02732, params: {'boosting_type': 'gbdt', 'colsample_bytree': 0.8, 'n_estimators': 48, 'num_leaves': 6, 'subsample': 0.7}, mean: -1.02723, std: 0.02289, params: {'boosting_type': 'gbdt', 'colsample_bytree': 0.8, 'n_estimators': 48, 'num_leaves': 6, 'subsample': 0.8}, mean: -1.03097, std: 0.02548, params: {'boosting_type': 'gbdt', 'colsample_bytree': 0.8, 'n_estimators': 48, 'num_leaves': 6, 'subsample': 0.9}, mean: -0.96261, std: 0.03492, params: {'boosting_type': 'gbdt', 'colsample_bytree': 0.8, 'n_estimators': 48, 'num_leaves': 12, 'subsample': 0.7}, mean: -0.95251, std: 0.02878, params: {'boosting_type': 'gbdt', 'colsample_bytree': 0.8, 'n_estimators': 48, 'num_leaves': 12, 'subsample': 0.8}, mean: -0.95733, std: 0.02719, params: {'boosting_type': 'gbdt', 'colsample_bytree': 0.8, 'n_estimators': 48, 'num_leaves': 12, 'subsample': 0.9}, mean: -0.94860, std: 0.03166, params: {'boosting_type': 'gbdt', 'colsample_bytree': 0.8, 'n_estimators': 48, 'num_leaves': 16, 'subsample': 0.7}, mean: -0.94080, std: 0.03532, params: {'boosting_type': 'gbdt', 'colsample_bytree': 0.8, 'n_estimators': 48, 'num_leaves': 16, 'subsample': 0.8}, mean: -0.94549, std: 0.03010, params: {'boosting_type': 'gbdt', 'colsample_bytree': 0.8, 'n_estimators': 48, 'num_leaves': 16, 'subsample': 0.9}, mean: -0.94845, std: 0.03675, params: {'boosting_type': 'gbdt', 'colsample_bytree': 0.8, 'n_estimators': 48, 'num_leaves': 22, 'subsample': 0.7}, mean: -0.94122, std: 0.03289, params: {'boosting_type': 'gbdt', 'colsample_bytree': 0.8, 'n_estimators': 48, 'num_leaves': 22, 'subsample': 0.8}, mean: -0.94228, std: 0.03747, params: {'boosting_type': 'gbdt', 'colsample_bytree': 0.8, 'n_estimators': 48, 'num_leaves': 22, 'subsample': 0.9}, mean: -1.54735, std: 0.01678, params: {'boosting_type': 'gbdt', 'colsample_bytree': 0.9, 'n_estimators': 8, 'num_leaves': 6, 'subsample': 0.7}, mean: -1.54580, std: 0.01438, params: {'boosting_type': 'gbdt', 'colsample_bytree': 0.9, 'n_estimators': 8, 'num_leaves': 6, 'subsample': 0.8}, mean: -1.54708, std: 0.01014, params: {'boosting_type': 'gbdt', 'colsample_bytree': 0.9, 'n_estimators': 8, 'num_leaves': 6, 'subsample': 0.9}, mean: -1.46885, std: 0.01657, params: {'boosting_type': 'gbdt', 'colsample_bytree': 0.9, 'n_estimators': 8, 'num_leaves': 12, 'subsample': 0.7}, mean: -1.46689, std: 0.00724, params: {'boosting_type': 'gbdt', 'colsample_bytree': 0.9, 'n_estimators': 8, 'num_leaves': 12, 'subsample': 0.8}, mean: -1.46690, std: 0.00976, params: {'boosting_type': 'gbdt', 'colsample_bytree': 0.9, 'n_estimators': 8, 'num_leaves': 12, 'subsample': 0.9}, mean: -1.44606, std: 0.01352, params: {'boosting_type': 'gbdt', 'colsample_bytree': 0.9, 'n_estimators': 8, 'num_leaves': 16, 'subsample': 0.7}, mean: -1.44358, std: 0.01140, params: {'boosting_type': 'gbdt', 'colsample_bytree': 0.9, 'n_estimators': 8, 'num_leaves': 16, 'subsample': 0.8}, mean: -1.44208, std: 0.01066, params: {'boosting_type': 'gbdt', 'colsample_bytree': 0.9, 'n_estimators': 8, 'num_leaves': 16, 'subsample': 0.9}, mean: -1.42499, std: 0.01091, params: {'boosting_type': 'gbdt', 'colsample_bytree': 0.9, 'n_estimators': 8, 'num_leaves': 22, 'subsample': 0.7}, mean: -1.42312, std: 0.00971, params: {'boosting_type': 'gbdt', 'colsample_bytree': 0.9, 'n_estimators': 8, 'num_leaves': 22, 'subsample': 0.8}, mean: -1.42003, std: 0.01092, params: {'boosting_type': 'gbdt', 'colsample_bytree': 0.9, 'n_estimators': 8, 'num_leaves': 22, 'subsample': 0.9}, mean: -1.18284, std: 0.02260, params: {'boosting_type': 'gbdt', 'colsample_bytree': 0.9, 'n_estimators': 24, 'num_leaves': 6, 'subsample': 0.7}, mean: -1.18011, std: 0.01919, params: {'boosting_type': 'gbdt', 'colsample_bytree': 0.9, 'n_estimators': 24, 'num_leaves': 6, 'subsample': 0.8}, mean: -1.18097, std: 0.01542, params: {'boosting_type': 'gbdt', 'colsample_bytree': 0.9, 'n_estimators': 24, 'num_leaves': 6, 'subsample': 0.9}, mean: -1.08823, std: 0.02261, params: {'boosting_type': 'gbdt', 'colsample_bytree': 0.9, 'n_estimators': 24, 'num_leaves': 12, 'subsample': 0.7}, mean: -1.08161, std: 0.01621, params: {'boosting_type': 'gbdt', 'colsample_bytree': 0.9, 'n_estimators': 24, 'num_leaves': 12, 'subsample': 0.8}, mean: -1.08358, std: 0.01680, params: {'boosting_type': 'gbdt', 'colsample_bytree': 0.9, 'n_estimators': 24, 'num_leaves': 12, 'subsample': 0.9}, mean: -1.06357, std: 0.02287, params: {'boosting_type': 'gbdt', 'colsample_bytree': 0.9, 'n_estimators': 24, 'num_leaves': 16, 'subsample': 0.7}, mean: -1.05817, std: 0.01930, params: {'boosting_type': 'gbdt', 'colsample_bytree': 0.9, 'n_estimators': 24, 'num_leaves': 16, 'subsample': 0.8}, mean: -1.05844, std: 0.02118, params: {'boosting_type': 'gbdt', 'colsample_bytree': 0.9, 'n_estimators': 24, 'num_leaves': 16, 'subsample': 0.9}, mean: -1.04146, std: 0.02235, params: {'boosting_type': 'gbdt', 'colsample_bytree': 0.9, 'n_estimators': 24, 'num_leaves': 22, 'subsample': 0.7}, mean: -1.03969, std: 0.01816, params: {'boosting_type': 'gbdt', 'colsample_bytree': 0.9, 'n_estimators': 24, 'num_leaves': 22, 'subsample': 0.8}, mean: -1.03928, std: 0.02423, params: {'boosting_type': 'gbdt', 'colsample_bytree': 0.9, 'n_estimators': 24, 'num_leaves': 22, 'subsample': 0.9}, mean: -1.08375, std: 0.02256, params: {'boosting_type': 'gbdt', 'colsample_bytree': 0.9, 'n_estimators': 36, 'num_leaves': 6, 'subsample': 0.7}, mean: -1.08112, std: 0.02095, params: {'boosting_type': 'gbdt', 'colsample_bytree': 0.9, 'n_estimators': 36, 'num_leaves': 6, 'subsample': 0.8}, mean: -1.08401, std: 0.01997, params: {'boosting_type': 'gbdt', 'colsample_bytree': 0.9, 'n_estimators': 36, 'num_leaves': 6, 'subsample': 0.9}, mean: -0.99853, std: 0.02614, params: {'boosting_type': 'gbdt', 'colsample_bytree': 0.9, 'n_estimators': 36, 'num_leaves': 12, 'subsample': 0.7}, mean: -0.99270, std: 0.02278, params: {'boosting_type': 'gbdt', 'colsample_bytree': 0.9, 'n_estimators': 36, 'num_leaves': 12, 'subsample': 0.8}, mean: -0.99337, std: 0.02307, params: {'boosting_type': 'gbdt', 'colsample_bytree': 0.9, 'n_estimators': 36, 'num_leaves': 12, 'subsample': 0.9}, mean: -0.98378, std: 0.02756, params: {'boosting_type': 'gbdt', 'colsample_bytree': 0.9, 'n_estimators': 36, 'num_leaves': 16, 'subsample': 0.7}, mean: -0.97411, std: 0.02677, params: {'boosting_type': 'gbdt', 'colsample_bytree': 0.9, 'n_estimators': 36, 'num_leaves': 16, 'subsample': 0.8}, mean: -0.97784, std: 0.02930, params: {'boosting_type': 'gbdt', 'colsample_bytree': 0.9, 'n_estimators': 36, 'num_leaves': 16, 'subsample': 0.9}, mean: -0.96871, std: 0.03240, params: {'boosting_type': 'gbdt', 'colsample_bytree': 0.9, 'n_estimators': 36, 'num_leaves': 22, 'subsample': 0.7}, mean: -0.96428, std: 0.02760, params: {'boosting_type': 'gbdt', 'colsample_bytree': 0.9, 'n_estimators': 36, 'num_leaves': 22, 'subsample': 0.8}, mean: -0.96718, std: 0.03320, params: {'boosting_type': 'gbdt', 'colsample_bytree': 0.9, 'n_estimators': 36, 'num_leaves': 22, 'subsample': 0.9}, mean: -1.03080, std: 0.02235, params: {'boosting_type': 'gbdt', 'colsample_bytree': 0.9, 'n_estimators': 48, 'num_leaves': 6, 'subsample': 0.7}, mean: -1.02483, std: 0.02265, params: {'boosting_type': 'gbdt', 'colsample_bytree': 0.9, 'n_estimators': 48, 'num_leaves': 6, 'subsample': 0.8}, mean: -1.03149, std: 0.02543, params: {'boosting_type': 'gbdt', 'colsample_bytree': 0.9, 'n_estimators': 48, 'num_leaves': 6, 'subsample': 0.9}, mean: -0.95876, std: 0.03108, params: {'boosting_type': 'gbdt', 'colsample_bytree': 0.9, 'n_estimators': 48, 'num_leaves': 12, 'subsample': 0.7}, mean: -0.95499, std: 0.02705, params: {'boosting_type': 'gbdt', 'colsample_bytree': 0.9, 'n_estimators': 48, 'num_leaves': 12, 'subsample': 0.8}, mean: -0.95577, std: 0.02935, params: {'boosting_type': 'gbdt', 'colsample_bytree': 0.9, 'n_estimators': 48, 'num_leaves': 12, 'subsample': 0.9}, mean: -0.95236, std: 0.03529, params: {'boosting_type': 'gbdt', 'colsample_bytree': 0.9, 'n_estimators': 48, 'num_leaves': 16, 'subsample': 0.7}, mean: -0.94503, std: 0.03320, params: {'boosting_type': 'gbdt', 'colsample_bytree': 0.9, 'n_estimators': 48, 'num_leaves': 16, 'subsample': 0.8}, mean: -0.94740, std: 0.03418, params: {'boosting_type': 'gbdt', 'colsample_bytree': 0.9, 'n_estimators': 48, 'num_leaves': 16, 'subsample': 0.9}, mean: -0.94893, std: 0.03573, params: {'boosting_type': 'gbdt', 'colsample_bytree': 0.9, 'n_estimators': 48, 'num_leaves': 22, 'subsample': 0.7}, mean: -0.94631, std: 0.03197, params: {'boosting_type': 'gbdt', 'colsample_bytree': 0.9, 'n_estimators': 48, 'num_leaves': 22, 'subsample': 0.8}, mean: -0.94829, std: 0.03822, params: {'boosting_type': 'gbdt', 'colsample_bytree': 0.9, 'n_estimators': 48, 'num_leaves': 22, 'subsample': 0.9}]\n",
      "{'boosting_type': 'gbdt', 'colsample_bytree': 0.8, 'n_estimators': 48, 'num_leaves': 16, 'subsample': 0.8}\n",
      "-0.940803913351\n",
      "Fitting 5 folds for each of 144 candidates, totalling 720 fits\n"
     ]
    },
    {
     "name": "stderr",
     "output_type": "stream",
     "text": [
      "C:\\Users\\Franck\\Documents\\Continuum\\Anaconda3\\lib\\site-packages\\sklearn\\model_selection\\_search.py:667: DeprecationWarning: The grid_scores_ attribute was deprecated in version 0.18 in favor of the more elaborate cv_results_ attribute. The grid_scores_ attribute will not be available from 0.20\n",
      "  DeprecationWarning)\n",
      "[Parallel(n_jobs=-1)]: Done  42 tasks      | elapsed:   13.2s\n",
      "[Parallel(n_jobs=-1)]: Done 192 tasks      | elapsed:  2.3min\n",
      "[Parallel(n_jobs=-1)]: Done 442 tasks      | elapsed:  6.2min\n",
      "[Parallel(n_jobs=-1)]: Done 720 out of 720 | elapsed: 11.6min finished\n"
     ]
    },
    {
     "name": "stdout",
     "output_type": "stream",
     "text": [
      "full_tfidf_100\n",
      "[mean: -1.54708, std: 0.01891, params: {'boosting_type': 'gbdt', 'colsample_bytree': 0.7, 'n_estimators': 8, 'num_leaves': 6, 'subsample': 0.7}, mean: -1.54439, std: 0.01607, params: {'boosting_type': 'gbdt', 'colsample_bytree': 0.7, 'n_estimators': 8, 'num_leaves': 6, 'subsample': 0.8}, mean: -1.54226, std: 0.01654, params: {'boosting_type': 'gbdt', 'colsample_bytree': 0.7, 'n_estimators': 8, 'num_leaves': 6, 'subsample': 0.9}, mean: -1.47120, std: 0.01213, params: {'boosting_type': 'gbdt', 'colsample_bytree': 0.7, 'n_estimators': 8, 'num_leaves': 12, 'subsample': 0.7}, mean: -1.46665, std: 0.01478, params: {'boosting_type': 'gbdt', 'colsample_bytree': 0.7, 'n_estimators': 8, 'num_leaves': 12, 'subsample': 0.8}, mean: -1.45764, std: 0.01179, params: {'boosting_type': 'gbdt', 'colsample_bytree': 0.7, 'n_estimators': 8, 'num_leaves': 12, 'subsample': 0.9}, mean: -1.44554, std: 0.01061, params: {'boosting_type': 'gbdt', 'colsample_bytree': 0.7, 'n_estimators': 8, 'num_leaves': 16, 'subsample': 0.7}, mean: -1.44438, std: 0.01840, params: {'boosting_type': 'gbdt', 'colsample_bytree': 0.7, 'n_estimators': 8, 'num_leaves': 16, 'subsample': 0.8}, mean: -1.43425, std: 0.01572, params: {'boosting_type': 'gbdt', 'colsample_bytree': 0.7, 'n_estimators': 8, 'num_leaves': 16, 'subsample': 0.9}, mean: -1.43125, std: 0.01571, params: {'boosting_type': 'gbdt', 'colsample_bytree': 0.7, 'n_estimators': 8, 'num_leaves': 22, 'subsample': 0.7}, mean: -1.42002, std: 0.01746, params: {'boosting_type': 'gbdt', 'colsample_bytree': 0.7, 'n_estimators': 8, 'num_leaves': 22, 'subsample': 0.8}, mean: -1.41421, std: 0.01305, params: {'boosting_type': 'gbdt', 'colsample_bytree': 0.7, 'n_estimators': 8, 'num_leaves': 22, 'subsample': 0.9}, mean: -1.16487, std: 0.02260, params: {'boosting_type': 'gbdt', 'colsample_bytree': 0.7, 'n_estimators': 24, 'num_leaves': 6, 'subsample': 0.7}, mean: -1.16369, std: 0.02143, params: {'boosting_type': 'gbdt', 'colsample_bytree': 0.7, 'n_estimators': 24, 'num_leaves': 6, 'subsample': 0.8}, mean: -1.16097, std: 0.01936, params: {'boosting_type': 'gbdt', 'colsample_bytree': 0.7, 'n_estimators': 24, 'num_leaves': 6, 'subsample': 0.9}, mean: -1.07707, std: 0.02182, params: {'boosting_type': 'gbdt', 'colsample_bytree': 0.7, 'n_estimators': 24, 'num_leaves': 12, 'subsample': 0.7}, mean: -1.06757, std: 0.01845, params: {'boosting_type': 'gbdt', 'colsample_bytree': 0.7, 'n_estimators': 24, 'num_leaves': 12, 'subsample': 0.8}, mean: -1.06155, std: 0.01594, params: {'boosting_type': 'gbdt', 'colsample_bytree': 0.7, 'n_estimators': 24, 'num_leaves': 12, 'subsample': 0.9}, mean: -1.04988, std: 0.02141, params: {'boosting_type': 'gbdt', 'colsample_bytree': 0.7, 'n_estimators': 24, 'num_leaves': 16, 'subsample': 0.7}, mean: -1.04690, std: 0.02179, params: {'boosting_type': 'gbdt', 'colsample_bytree': 0.7, 'n_estimators': 24, 'num_leaves': 16, 'subsample': 0.8}, mean: -1.03637, std: 0.02249, params: {'boosting_type': 'gbdt', 'colsample_bytree': 0.7, 'n_estimators': 24, 'num_leaves': 16, 'subsample': 0.9}, mean: -1.03504, std: 0.02075, params: {'boosting_type': 'gbdt', 'colsample_bytree': 0.7, 'n_estimators': 24, 'num_leaves': 22, 'subsample': 0.7}, mean: -1.02650, std: 0.02544, params: {'boosting_type': 'gbdt', 'colsample_bytree': 0.7, 'n_estimators': 24, 'num_leaves': 22, 'subsample': 0.8}, mean: -1.02018, std: 0.02471, params: {'boosting_type': 'gbdt', 'colsample_bytree': 0.7, 'n_estimators': 24, 'num_leaves': 22, 'subsample': 0.9}, mean: -1.06155, std: 0.02325, params: {'boosting_type': 'gbdt', 'colsample_bytree': 0.7, 'n_estimators': 36, 'num_leaves': 6, 'subsample': 0.7}, mean: -1.05910, std: 0.02198, params: {'boosting_type': 'gbdt', 'colsample_bytree': 0.7, 'n_estimators': 36, 'num_leaves': 6, 'subsample': 0.8}, mean: -1.05664, std: 0.01868, params: {'boosting_type': 'gbdt', 'colsample_bytree': 0.7, 'n_estimators': 36, 'num_leaves': 6, 'subsample': 0.9}, mean: -0.98115, std: 0.02346, params: {'boosting_type': 'gbdt', 'colsample_bytree': 0.7, 'n_estimators': 36, 'num_leaves': 12, 'subsample': 0.7}, mean: -0.97423, std: 0.02252, params: {'boosting_type': 'gbdt', 'colsample_bytree': 0.7, 'n_estimators': 36, 'num_leaves': 12, 'subsample': 0.8}, mean: -0.96977, std: 0.01919, params: {'boosting_type': 'gbdt', 'colsample_bytree': 0.7, 'n_estimators': 36, 'num_leaves': 12, 'subsample': 0.9}, mean: -0.96315, std: 0.02522, params: {'boosting_type': 'gbdt', 'colsample_bytree': 0.7, 'n_estimators': 36, 'num_leaves': 16, 'subsample': 0.7}, mean: -0.96194, std: 0.02818, params: {'boosting_type': 'gbdt', 'colsample_bytree': 0.7, 'n_estimators': 36, 'num_leaves': 16, 'subsample': 0.8}, mean: -0.95306, std: 0.02674, params: {'boosting_type': 'gbdt', 'colsample_bytree': 0.7, 'n_estimators': 36, 'num_leaves': 16, 'subsample': 0.9}, mean: -0.95504, std: 0.02358, params: {'boosting_type': 'gbdt', 'colsample_bytree': 0.7, 'n_estimators': 36, 'num_leaves': 22, 'subsample': 0.7}, mean: -0.95072, std: 0.03193, params: {'boosting_type': 'gbdt', 'colsample_bytree': 0.7, 'n_estimators': 36, 'num_leaves': 22, 'subsample': 0.8}, mean: -0.94530, std: 0.03126, params: {'boosting_type': 'gbdt', 'colsample_bytree': 0.7, 'n_estimators': 36, 'num_leaves': 22, 'subsample': 0.9}, mean: -1.00454, std: 0.02305, params: {'boosting_type': 'gbdt', 'colsample_bytree': 0.7, 'n_estimators': 48, 'num_leaves': 6, 'subsample': 0.7}, mean: -1.00144, std: 0.02169, params: {'boosting_type': 'gbdt', 'colsample_bytree': 0.7, 'n_estimators': 48, 'num_leaves': 6, 'subsample': 0.8}, mean: -0.99882, std: 0.02077, params: {'boosting_type': 'gbdt', 'colsample_bytree': 0.7, 'n_estimators': 48, 'num_leaves': 6, 'subsample': 0.9}, mean: -0.93896, std: 0.02698, params: {'boosting_type': 'gbdt', 'colsample_bytree': 0.7, 'n_estimators': 48, 'num_leaves': 12, 'subsample': 0.7}, mean: -0.93409, std: 0.02705, params: {'boosting_type': 'gbdt', 'colsample_bytree': 0.7, 'n_estimators': 48, 'num_leaves': 12, 'subsample': 0.8}, mean: -0.92938, std: 0.02048, params: {'boosting_type': 'gbdt', 'colsample_bytree': 0.7, 'n_estimators': 48, 'num_leaves': 12, 'subsample': 0.9}, mean: -0.93071, std: 0.02759, params: {'boosting_type': 'gbdt', 'colsample_bytree': 0.7, 'n_estimators': 48, 'num_leaves': 16, 'subsample': 0.7}, mean: -0.92826, std: 0.03201, params: {'boosting_type': 'gbdt', 'colsample_bytree': 0.7, 'n_estimators': 48, 'num_leaves': 16, 'subsample': 0.8}, mean: -0.92009, std: 0.02955, params: {'boosting_type': 'gbdt', 'colsample_bytree': 0.7, 'n_estimators': 48, 'num_leaves': 16, 'subsample': 0.9}, mean: -0.92915, std: 0.02597, params: {'boosting_type': 'gbdt', 'colsample_bytree': 0.7, 'n_estimators': 48, 'num_leaves': 22, 'subsample': 0.7}, mean: -0.92591, std: 0.03616, params: {'boosting_type': 'gbdt', 'colsample_bytree': 0.7, 'n_estimators': 48, 'num_leaves': 22, 'subsample': 0.8}, mean: -0.92313, std: 0.03774, params: {'boosting_type': 'gbdt', 'colsample_bytree': 0.7, 'n_estimators': 48, 'num_leaves': 22, 'subsample': 0.9}, mean: -1.54498, std: 0.01736, params: {'boosting_type': 'gbdt', 'colsample_bytree': 0.8, 'n_estimators': 8, 'num_leaves': 6, 'subsample': 0.7}, mean: -1.53979, std: 0.01711, params: {'boosting_type': 'gbdt', 'colsample_bytree': 0.8, 'n_estimators': 8, 'num_leaves': 6, 'subsample': 0.8}, mean: -1.53918, std: 0.01417, params: {'boosting_type': 'gbdt', 'colsample_bytree': 0.8, 'n_estimators': 8, 'num_leaves': 6, 'subsample': 0.9}, mean: -1.46596, std: 0.01605, params: {'boosting_type': 'gbdt', 'colsample_bytree': 0.8, 'n_estimators': 8, 'num_leaves': 12, 'subsample': 0.7}, mean: -1.45574, std: 0.01488, params: {'boosting_type': 'gbdt', 'colsample_bytree': 0.8, 'n_estimators': 8, 'num_leaves': 12, 'subsample': 0.8}, mean: -1.45513, std: 0.01321, params: {'boosting_type': 'gbdt', 'colsample_bytree': 0.8, 'n_estimators': 8, 'num_leaves': 12, 'subsample': 0.9}, mean: -1.44353, std: 0.01624, params: {'boosting_type': 'gbdt', 'colsample_bytree': 0.8, 'n_estimators': 8, 'num_leaves': 16, 'subsample': 0.7}, mean: -1.43268, std: 0.01871, params: {'boosting_type': 'gbdt', 'colsample_bytree': 0.8, 'n_estimators': 8, 'num_leaves': 16, 'subsample': 0.8}, mean: -1.43012, std: 0.01439, params: {'boosting_type': 'gbdt', 'colsample_bytree': 0.8, 'n_estimators': 8, 'num_leaves': 16, 'subsample': 0.9}, mean: -1.42548, std: 0.01504, params: {'boosting_type': 'gbdt', 'colsample_bytree': 0.8, 'n_estimators': 8, 'num_leaves': 22, 'subsample': 0.7}, mean: -1.41136, std: 0.01595, params: {'boosting_type': 'gbdt', 'colsample_bytree': 0.8, 'n_estimators': 8, 'num_leaves': 22, 'subsample': 0.8}, mean: -1.41116, std: 0.01353, params: {'boosting_type': 'gbdt', 'colsample_bytree': 0.8, 'n_estimators': 8, 'num_leaves': 22, 'subsample': 0.9}, mean: -1.16358, std: 0.02213, params: {'boosting_type': 'gbdt', 'colsample_bytree': 0.8, 'n_estimators': 24, 'num_leaves': 6, 'subsample': 0.7}, mean: -1.16026, std: 0.02096, params: {'boosting_type': 'gbdt', 'colsample_bytree': 0.8, 'n_estimators': 24, 'num_leaves': 6, 'subsample': 0.8}, mean: -1.16122, std: 0.01878, params: {'boosting_type': 'gbdt', 'colsample_bytree': 0.8, 'n_estimators': 24, 'num_leaves': 6, 'subsample': 0.9}, mean: -1.07402, std: 0.02108, params: {'boosting_type': 'gbdt', 'colsample_bytree': 0.8, 'n_estimators': 24, 'num_leaves': 12, 'subsample': 0.7}, mean: -1.06156, std: 0.02083, params: {'boosting_type': 'gbdt', 'colsample_bytree': 0.8, 'n_estimators': 24, 'num_leaves': 12, 'subsample': 0.8}, mean: -1.06274, std: 0.01902, params: {'boosting_type': 'gbdt', 'colsample_bytree': 0.8, 'n_estimators': 24, 'num_leaves': 12, 'subsample': 0.9}, mean: -1.05255, std: 0.02215, params: {'boosting_type': 'gbdt', 'colsample_bytree': 0.8, 'n_estimators': 24, 'num_leaves': 16, 'subsample': 0.7}, mean: -1.04292, std: 0.02445, params: {'boosting_type': 'gbdt', 'colsample_bytree': 0.8, 'n_estimators': 24, 'num_leaves': 16, 'subsample': 0.8}, mean: -1.03805, std: 0.02102, params: {'boosting_type': 'gbdt', 'colsample_bytree': 0.8, 'n_estimators': 24, 'num_leaves': 16, 'subsample': 0.9}, mean: -1.03583, std: 0.02593, params: {'boosting_type': 'gbdt', 'colsample_bytree': 0.8, 'n_estimators': 24, 'num_leaves': 22, 'subsample': 0.7}, mean: -1.02544, std: 0.02386, params: {'boosting_type': 'gbdt', 'colsample_bytree': 0.8, 'n_estimators': 24, 'num_leaves': 22, 'subsample': 0.8}, mean: -1.02344, std: 0.02483, params: {'boosting_type': 'gbdt', 'colsample_bytree': 0.8, 'n_estimators': 24, 'num_leaves': 22, 'subsample': 0.9}, mean: -1.06040, std: 0.02306, params: {'boosting_type': 'gbdt', 'colsample_bytree': 0.8, 'n_estimators': 36, 'num_leaves': 6, 'subsample': 0.7}, mean: -1.05666, std: 0.02072, params: {'boosting_type': 'gbdt', 'colsample_bytree': 0.8, 'n_estimators': 36, 'num_leaves': 6, 'subsample': 0.8}, mean: -1.05639, std: 0.01810, params: {'boosting_type': 'gbdt', 'colsample_bytree': 0.8, 'n_estimators': 36, 'num_leaves': 6, 'subsample': 0.9}, mean: -0.98172, std: 0.02265, params: {'boosting_type': 'gbdt', 'colsample_bytree': 0.8, 'n_estimators': 36, 'num_leaves': 12, 'subsample': 0.7}, mean: -0.96943, std: 0.02417, params: {'boosting_type': 'gbdt', 'colsample_bytree': 0.8, 'n_estimators': 36, 'num_leaves': 12, 'subsample': 0.8}, mean: -0.97188, std: 0.02409, params: {'boosting_type': 'gbdt', 'colsample_bytree': 0.8, 'n_estimators': 36, 'num_leaves': 12, 'subsample': 0.9}, mean: -0.96307, std: 0.02371, params: {'boosting_type': 'gbdt', 'colsample_bytree': 0.8, 'n_estimators': 36, 'num_leaves': 16, 'subsample': 0.7}, mean: -0.95732, std: 0.02875, params: {'boosting_type': 'gbdt', 'colsample_bytree': 0.8, 'n_estimators': 36, 'num_leaves': 16, 'subsample': 0.8}, mean: -0.95363, std: 0.02798, params: {'boosting_type': 'gbdt', 'colsample_bytree': 0.8, 'n_estimators': 36, 'num_leaves': 16, 'subsample': 0.9}, mean: -0.95515, std: 0.02822, params: {'boosting_type': 'gbdt', 'colsample_bytree': 0.8, 'n_estimators': 36, 'num_leaves': 22, 'subsample': 0.7}, mean: -0.95059, std: 0.02930, params: {'boosting_type': 'gbdt', 'colsample_bytree': 0.8, 'n_estimators': 36, 'num_leaves': 22, 'subsample': 0.8}, mean: -0.94890, std: 0.02953, params: {'boosting_type': 'gbdt', 'colsample_bytree': 0.8, 'n_estimators': 36, 'num_leaves': 22, 'subsample': 0.9}, mean: -1.00306, std: 0.02516, params: {'boosting_type': 'gbdt', 'colsample_bytree': 0.8, 'n_estimators': 48, 'num_leaves': 6, 'subsample': 0.7}, mean: -1.00175, std: 0.02035, params: {'boosting_type': 'gbdt', 'colsample_bytree': 0.8, 'n_estimators': 48, 'num_leaves': 6, 'subsample': 0.8}, mean: -1.00111, std: 0.02192, params: {'boosting_type': 'gbdt', 'colsample_bytree': 0.8, 'n_estimators': 48, 'num_leaves': 6, 'subsample': 0.9}, mean: -0.94150, std: 0.02729, params: {'boosting_type': 'gbdt', 'colsample_bytree': 0.8, 'n_estimators': 48, 'num_leaves': 12, 'subsample': 0.7}, mean: -0.92813, std: 0.02862, params: {'boosting_type': 'gbdt', 'colsample_bytree': 0.8, 'n_estimators': 48, 'num_leaves': 12, 'subsample': 0.8}, mean: -0.93337, std: 0.02703, params: {'boosting_type': 'gbdt', 'colsample_bytree': 0.8, 'n_estimators': 48, 'num_leaves': 12, 'subsample': 0.9}, mean: -0.93129, std: 0.02638, params: {'boosting_type': 'gbdt', 'colsample_bytree': 0.8, 'n_estimators': 48, 'num_leaves': 16, 'subsample': 0.7}, mean: -0.92687, std: 0.03051, params: {'boosting_type': 'gbdt', 'colsample_bytree': 0.8, 'n_estimators': 48, 'num_leaves': 16, 'subsample': 0.8}, mean: -0.91952, std: 0.02990, params: {'boosting_type': 'gbdt', 'colsample_bytree': 0.8, 'n_estimators': 48, 'num_leaves': 16, 'subsample': 0.9}, mean: -0.93126, std: 0.03387, params: {'boosting_type': 'gbdt', 'colsample_bytree': 0.8, 'n_estimators': 48, 'num_leaves': 22, 'subsample': 0.7}, mean: -0.92805, std: 0.03345, params: {'boosting_type': 'gbdt', 'colsample_bytree': 0.8, 'n_estimators': 48, 'num_leaves': 22, 'subsample': 0.8}, mean: -0.92636, std: 0.03380, params: {'boosting_type': 'gbdt', 'colsample_bytree': 0.8, 'n_estimators': 48, 'num_leaves': 22, 'subsample': 0.9}, mean: -1.54030, std: 0.01617, params: {'boosting_type': 'gbdt', 'colsample_bytree': 0.9, 'n_estimators': 8, 'num_leaves': 6, 'subsample': 0.7}, mean: -1.53653, std: 0.01764, params: {'boosting_type': 'gbdt', 'colsample_bytree': 0.9, 'n_estimators': 8, 'num_leaves': 6, 'subsample': 0.8}, mean: -1.53501, std: 0.01545, params: {'boosting_type': 'gbdt', 'colsample_bytree': 0.9, 'n_estimators': 8, 'num_leaves': 6, 'subsample': 0.9}, mean: -1.45932, std: 0.01681, params: {'boosting_type': 'gbdt', 'colsample_bytree': 0.9, 'n_estimators': 8, 'num_leaves': 12, 'subsample': 0.7}, mean: -1.45289, std: 0.01641, params: {'boosting_type': 'gbdt', 'colsample_bytree': 0.9, 'n_estimators': 8, 'num_leaves': 12, 'subsample': 0.8}, mean: -1.45205, std: 0.01691, params: {'boosting_type': 'gbdt', 'colsample_bytree': 0.9, 'n_estimators': 8, 'num_leaves': 12, 'subsample': 0.9}, mean: -1.43788, std: 0.01415, params: {'boosting_type': 'gbdt', 'colsample_bytree': 0.9, 'n_estimators': 8, 'num_leaves': 16, 'subsample': 0.7}, mean: -1.43308, std: 0.01608, params: {'boosting_type': 'gbdt', 'colsample_bytree': 0.9, 'n_estimators': 8, 'num_leaves': 16, 'subsample': 0.8}, mean: -1.42838, std: 0.01512, params: {'boosting_type': 'gbdt', 'colsample_bytree': 0.9, 'n_estimators': 8, 'num_leaves': 16, 'subsample': 0.9}, mean: -1.41938, std: 0.01611, params: {'boosting_type': 'gbdt', 'colsample_bytree': 0.9, 'n_estimators': 8, 'num_leaves': 22, 'subsample': 0.7}, mean: -1.41418, std: 0.01401, params: {'boosting_type': 'gbdt', 'colsample_bytree': 0.9, 'n_estimators': 8, 'num_leaves': 22, 'subsample': 0.8}, mean: -1.40948, std: 0.01481, params: {'boosting_type': 'gbdt', 'colsample_bytree': 0.9, 'n_estimators': 8, 'num_leaves': 22, 'subsample': 0.9}, mean: -1.16513, std: 0.02052, params: {'boosting_type': 'gbdt', 'colsample_bytree': 0.9, 'n_estimators': 24, 'num_leaves': 6, 'subsample': 0.7}, mean: -1.15934, std: 0.01802, params: {'boosting_type': 'gbdt', 'colsample_bytree': 0.9, 'n_estimators': 24, 'num_leaves': 6, 'subsample': 0.8}, mean: -1.15764, std: 0.02115, params: {'boosting_type': 'gbdt', 'colsample_bytree': 0.9, 'n_estimators': 24, 'num_leaves': 6, 'subsample': 0.9}, mean: -1.07085, std: 0.02396, params: {'boosting_type': 'gbdt', 'colsample_bytree': 0.9, 'n_estimators': 24, 'num_leaves': 12, 'subsample': 0.7}, mean: -1.06295, std: 0.02056, params: {'boosting_type': 'gbdt', 'colsample_bytree': 0.9, 'n_estimators': 24, 'num_leaves': 12, 'subsample': 0.8}, mean: -1.05951, std: 0.02007, params: {'boosting_type': 'gbdt', 'colsample_bytree': 0.9, 'n_estimators': 24, 'num_leaves': 12, 'subsample': 0.9}, mean: -1.05086, std: 0.02228, params: {'boosting_type': 'gbdt', 'colsample_bytree': 0.9, 'n_estimators': 24, 'num_leaves': 16, 'subsample': 0.7}, mean: -1.04280, std: 0.02260, params: {'boosting_type': 'gbdt', 'colsample_bytree': 0.9, 'n_estimators': 24, 'num_leaves': 16, 'subsample': 0.8}, mean: -1.03606, std: 0.01852, params: {'boosting_type': 'gbdt', 'colsample_bytree': 0.9, 'n_estimators': 24, 'num_leaves': 16, 'subsample': 0.9}, mean: -1.03145, std: 0.02552, params: {'boosting_type': 'gbdt', 'colsample_bytree': 0.9, 'n_estimators': 24, 'num_leaves': 22, 'subsample': 0.7}, mean: -1.02510, std: 0.02305, params: {'boosting_type': 'gbdt', 'colsample_bytree': 0.9, 'n_estimators': 24, 'num_leaves': 22, 'subsample': 0.8}, mean: -1.01928, std: 0.02233, params: {'boosting_type': 'gbdt', 'colsample_bytree': 0.9, 'n_estimators': 24, 'num_leaves': 22, 'subsample': 0.9}, mean: -1.06289, std: 0.01978, params: {'boosting_type': 'gbdt', 'colsample_bytree': 0.9, 'n_estimators': 36, 'num_leaves': 6, 'subsample': 0.7}, mean: -1.05428, std: 0.01990, params: {'boosting_type': 'gbdt', 'colsample_bytree': 0.9, 'n_estimators': 36, 'num_leaves': 6, 'subsample': 0.8}, mean: -1.05528, std: 0.01945, params: {'boosting_type': 'gbdt', 'colsample_bytree': 0.9, 'n_estimators': 36, 'num_leaves': 6, 'subsample': 0.9}, mean: -0.97758, std: 0.02372, params: {'boosting_type': 'gbdt', 'colsample_bytree': 0.9, 'n_estimators': 36, 'num_leaves': 12, 'subsample': 0.7}, mean: -0.97345, std: 0.02409, params: {'boosting_type': 'gbdt', 'colsample_bytree': 0.9, 'n_estimators': 36, 'num_leaves': 12, 'subsample': 0.8}, mean: -0.96717, std: 0.02425, params: {'boosting_type': 'gbdt', 'colsample_bytree': 0.9, 'n_estimators': 36, 'num_leaves': 12, 'subsample': 0.9}, mean: -0.96531, std: 0.02905, params: {'boosting_type': 'gbdt', 'colsample_bytree': 0.9, 'n_estimators': 36, 'num_leaves': 16, 'subsample': 0.7}, mean: -0.96006, std: 0.02607, params: {'boosting_type': 'gbdt', 'colsample_bytree': 0.9, 'n_estimators': 36, 'num_leaves': 16, 'subsample': 0.8}, mean: -0.95069, std: 0.02387, params: {'boosting_type': 'gbdt', 'colsample_bytree': 0.9, 'n_estimators': 36, 'num_leaves': 16, 'subsample': 0.9}, mean: -0.95509, std: 0.02864, params: {'boosting_type': 'gbdt', 'colsample_bytree': 0.9, 'n_estimators': 36, 'num_leaves': 22, 'subsample': 0.7}, mean: -0.95153, std: 0.02888, params: {'boosting_type': 'gbdt', 'colsample_bytree': 0.9, 'n_estimators': 36, 'num_leaves': 22, 'subsample': 0.8}, mean: -0.94660, std: 0.02782, params: {'boosting_type': 'gbdt', 'colsample_bytree': 0.9, 'n_estimators': 36, 'num_leaves': 22, 'subsample': 0.9}, mean: -1.00694, std: 0.02049, params: {'boosting_type': 'gbdt', 'colsample_bytree': 0.9, 'n_estimators': 48, 'num_leaves': 6, 'subsample': 0.7}, mean: -0.99779, std: 0.02207, params: {'boosting_type': 'gbdt', 'colsample_bytree': 0.9, 'n_estimators': 48, 'num_leaves': 6, 'subsample': 0.8}, mean: -0.99910, std: 0.02226, params: {'boosting_type': 'gbdt', 'colsample_bytree': 0.9, 'n_estimators': 48, 'num_leaves': 6, 'subsample': 0.9}, mean: -0.93723, std: 0.02532, params: {'boosting_type': 'gbdt', 'colsample_bytree': 0.9, 'n_estimators': 48, 'num_leaves': 12, 'subsample': 0.7}, mean: -0.93300, std: 0.02794, params: {'boosting_type': 'gbdt', 'colsample_bytree': 0.9, 'n_estimators': 48, 'num_leaves': 12, 'subsample': 0.8}, mean: -0.92668, std: 0.02718, params: {'boosting_type': 'gbdt', 'colsample_bytree': 0.9, 'n_estimators': 48, 'num_leaves': 12, 'subsample': 0.9}, mean: -0.93434, std: 0.03404, params: {'boosting_type': 'gbdt', 'colsample_bytree': 0.9, 'n_estimators': 48, 'num_leaves': 16, 'subsample': 0.7}, mean: -0.93073, std: 0.02909, params: {'boosting_type': 'gbdt', 'colsample_bytree': 0.9, 'n_estimators': 48, 'num_leaves': 16, 'subsample': 0.8}, mean: -0.91988, std: 0.02722, params: {'boosting_type': 'gbdt', 'colsample_bytree': 0.9, 'n_estimators': 48, 'num_leaves': 16, 'subsample': 0.9}, mean: -0.93436, std: 0.03354, params: {'boosting_type': 'gbdt', 'colsample_bytree': 0.9, 'n_estimators': 48, 'num_leaves': 22, 'subsample': 0.7}, mean: -0.92882, std: 0.03455, params: {'boosting_type': 'gbdt', 'colsample_bytree': 0.9, 'n_estimators': 48, 'num_leaves': 22, 'subsample': 0.8}, mean: -0.92715, std: 0.03238, params: {'boosting_type': 'gbdt', 'colsample_bytree': 0.9, 'n_estimators': 48, 'num_leaves': 22, 'subsample': 0.9}]\n",
      "{'boosting_type': 'gbdt', 'colsample_bytree': 0.8, 'n_estimators': 48, 'num_leaves': 16, 'subsample': 0.9}\n",
      "-0.919518508725\n",
      "Fitting 5 folds for each of 144 candidates, totalling 720 fits\n"
     ]
    },
    {
     "name": "stderr",
     "output_type": "stream",
     "text": [
      "C:\\Users\\Franck\\Documents\\Continuum\\Anaconda3\\lib\\site-packages\\sklearn\\model_selection\\_search.py:667: DeprecationWarning: The grid_scores_ attribute was deprecated in version 0.18 in favor of the more elaborate cv_results_ attribute. The grid_scores_ attribute will not be available from 0.20\n",
      "  DeprecationWarning)\n",
      "[Parallel(n_jobs=-1)]: Done  42 tasks      | elapsed:   13.3s\n",
      "[Parallel(n_jobs=-1)]: Done 192 tasks      | elapsed:  2.3min\n",
      "[Parallel(n_jobs=-1)]: Done 442 tasks      | elapsed:  6.3min\n",
      "[Parallel(n_jobs=-1)]: Done 720 out of 720 | elapsed: 11.8min finished\n"
     ]
    },
    {
     "name": "stdout",
     "output_type": "stream",
     "text": [
      "wind_tfidf_100\n",
      "[mean: -1.58529, std: 0.01982, params: {'boosting_type': 'gbdt', 'colsample_bytree': 0.7, 'n_estimators': 8, 'num_leaves': 6, 'subsample': 0.7}, mean: -1.58213, std: 0.01693, params: {'boosting_type': 'gbdt', 'colsample_bytree': 0.7, 'n_estimators': 8, 'num_leaves': 6, 'subsample': 0.8}, mean: -1.58220, std: 0.01996, params: {'boosting_type': 'gbdt', 'colsample_bytree': 0.7, 'n_estimators': 8, 'num_leaves': 6, 'subsample': 0.9}, mean: -1.51485, std: 0.01575, params: {'boosting_type': 'gbdt', 'colsample_bytree': 0.7, 'n_estimators': 8, 'num_leaves': 12, 'subsample': 0.7}, mean: -1.51122, std: 0.01569, params: {'boosting_type': 'gbdt', 'colsample_bytree': 0.7, 'n_estimators': 8, 'num_leaves': 12, 'subsample': 0.8}, mean: -1.50751, std: 0.01940, params: {'boosting_type': 'gbdt', 'colsample_bytree': 0.7, 'n_estimators': 8, 'num_leaves': 12, 'subsample': 0.9}, mean: -1.49094, std: 0.01523, params: {'boosting_type': 'gbdt', 'colsample_bytree': 0.7, 'n_estimators': 8, 'num_leaves': 16, 'subsample': 0.7}, mean: -1.49019, std: 0.01335, params: {'boosting_type': 'gbdt', 'colsample_bytree': 0.7, 'n_estimators': 8, 'num_leaves': 16, 'subsample': 0.8}, mean: -1.48415, std: 0.01859, params: {'boosting_type': 'gbdt', 'colsample_bytree': 0.7, 'n_estimators': 8, 'num_leaves': 16, 'subsample': 0.9}, mean: -1.47500, std: 0.01805, params: {'boosting_type': 'gbdt', 'colsample_bytree': 0.7, 'n_estimators': 8, 'num_leaves': 22, 'subsample': 0.7}, mean: -1.47015, std: 0.01315, params: {'boosting_type': 'gbdt', 'colsample_bytree': 0.7, 'n_estimators': 8, 'num_leaves': 22, 'subsample': 0.8}, mean: -1.46544, std: 0.02008, params: {'boosting_type': 'gbdt', 'colsample_bytree': 0.7, 'n_estimators': 8, 'num_leaves': 22, 'subsample': 0.9}, mean: -1.22238, std: 0.02331, params: {'boosting_type': 'gbdt', 'colsample_bytree': 0.7, 'n_estimators': 24, 'num_leaves': 6, 'subsample': 0.7}, mean: -1.21963, std: 0.02262, params: {'boosting_type': 'gbdt', 'colsample_bytree': 0.7, 'n_estimators': 24, 'num_leaves': 6, 'subsample': 0.8}, mean: -1.21879, std: 0.02160, params: {'boosting_type': 'gbdt', 'colsample_bytree': 0.7, 'n_estimators': 24, 'num_leaves': 6, 'subsample': 0.9}, mean: -1.12988, std: 0.01847, params: {'boosting_type': 'gbdt', 'colsample_bytree': 0.7, 'n_estimators': 24, 'num_leaves': 12, 'subsample': 0.7}, mean: -1.12387, std: 0.01946, params: {'boosting_type': 'gbdt', 'colsample_bytree': 0.7, 'n_estimators': 24, 'num_leaves': 12, 'subsample': 0.8}, mean: -1.12199, std: 0.01998, params: {'boosting_type': 'gbdt', 'colsample_bytree': 0.7, 'n_estimators': 24, 'num_leaves': 12, 'subsample': 0.9}, mean: -1.10526, std: 0.02139, params: {'boosting_type': 'gbdt', 'colsample_bytree': 0.7, 'n_estimators': 24, 'num_leaves': 16, 'subsample': 0.7}, mean: -1.09639, std: 0.01754, params: {'boosting_type': 'gbdt', 'colsample_bytree': 0.7, 'n_estimators': 24, 'num_leaves': 16, 'subsample': 0.8}, mean: -1.09350, std: 0.01994, params: {'boosting_type': 'gbdt', 'colsample_bytree': 0.7, 'n_estimators': 24, 'num_leaves': 16, 'subsample': 0.9}, mean: -1.08652, std: 0.02070, params: {'boosting_type': 'gbdt', 'colsample_bytree': 0.7, 'n_estimators': 24, 'num_leaves': 22, 'subsample': 0.7}, mean: -1.08016, std: 0.01643, params: {'boosting_type': 'gbdt', 'colsample_bytree': 0.7, 'n_estimators': 24, 'num_leaves': 22, 'subsample': 0.8}, mean: -1.07122, std: 0.01768, params: {'boosting_type': 'gbdt', 'colsample_bytree': 0.7, 'n_estimators': 24, 'num_leaves': 22, 'subsample': 0.9}, mean: -1.11288, std: 0.02061, params: {'boosting_type': 'gbdt', 'colsample_bytree': 0.7, 'n_estimators': 36, 'num_leaves': 6, 'subsample': 0.7}, mean: -1.11512, std: 0.02080, params: {'boosting_type': 'gbdt', 'colsample_bytree': 0.7, 'n_estimators': 36, 'num_leaves': 6, 'subsample': 0.8}, mean: -1.11449, std: 0.02310, params: {'boosting_type': 'gbdt', 'colsample_bytree': 0.7, 'n_estimators': 36, 'num_leaves': 6, 'subsample': 0.9}, mean: -1.02789, std: 0.01791, params: {'boosting_type': 'gbdt', 'colsample_bytree': 0.7, 'n_estimators': 36, 'num_leaves': 12, 'subsample': 0.7}, mean: -1.02491, std: 0.01902, params: {'boosting_type': 'gbdt', 'colsample_bytree': 0.7, 'n_estimators': 36, 'num_leaves': 12, 'subsample': 0.8}, mean: -1.02353, std: 0.02212, params: {'boosting_type': 'gbdt', 'colsample_bytree': 0.7, 'n_estimators': 36, 'num_leaves': 12, 'subsample': 0.9}, mean: -1.00978, std: 0.02130, params: {'boosting_type': 'gbdt', 'colsample_bytree': 0.7, 'n_estimators': 36, 'num_leaves': 16, 'subsample': 0.7}, mean: -1.00110, std: 0.01720, params: {'boosting_type': 'gbdt', 'colsample_bytree': 0.7, 'n_estimators': 36, 'num_leaves': 16, 'subsample': 0.8}, mean: -1.00089, std: 0.02396, params: {'boosting_type': 'gbdt', 'colsample_bytree': 0.7, 'n_estimators': 36, 'num_leaves': 16, 'subsample': 0.9}, mean: -0.99411, std: 0.02039, params: {'boosting_type': 'gbdt', 'colsample_bytree': 0.7, 'n_estimators': 36, 'num_leaves': 22, 'subsample': 0.7}, mean: -0.99042, std: 0.02106, params: {'boosting_type': 'gbdt', 'colsample_bytree': 0.7, 'n_estimators': 36, 'num_leaves': 22, 'subsample': 0.8}, mean: -0.98339, std: 0.02105, params: {'boosting_type': 'gbdt', 'colsample_bytree': 0.7, 'n_estimators': 36, 'num_leaves': 22, 'subsample': 0.9}, mean: -1.05369, std: 0.02125, params: {'boosting_type': 'gbdt', 'colsample_bytree': 0.7, 'n_estimators': 48, 'num_leaves': 6, 'subsample': 0.7}, mean: -1.05714, std: 0.02241, params: {'boosting_type': 'gbdt', 'colsample_bytree': 0.7, 'n_estimators': 48, 'num_leaves': 6, 'subsample': 0.8}, mean: -1.05859, std: 0.02714, params: {'boosting_type': 'gbdt', 'colsample_bytree': 0.7, 'n_estimators': 48, 'num_leaves': 6, 'subsample': 0.9}, mean: -0.97928, std: 0.02157, params: {'boosting_type': 'gbdt', 'colsample_bytree': 0.7, 'n_estimators': 48, 'num_leaves': 12, 'subsample': 0.7}, mean: -0.97446, std: 0.02117, params: {'boosting_type': 'gbdt', 'colsample_bytree': 0.7, 'n_estimators': 48, 'num_leaves': 12, 'subsample': 0.8}, mean: -0.97665, std: 0.02690, params: {'boosting_type': 'gbdt', 'colsample_bytree': 0.7, 'n_estimators': 48, 'num_leaves': 12, 'subsample': 0.9}, mean: -0.96695, std: 0.02339, params: {'boosting_type': 'gbdt', 'colsample_bytree': 0.7, 'n_estimators': 48, 'num_leaves': 16, 'subsample': 0.7}, mean: -0.95861, std: 0.02287, params: {'boosting_type': 'gbdt', 'colsample_bytree': 0.7, 'n_estimators': 48, 'num_leaves': 16, 'subsample': 0.8}, mean: -0.95936, std: 0.02869, params: {'boosting_type': 'gbdt', 'colsample_bytree': 0.7, 'n_estimators': 48, 'num_leaves': 16, 'subsample': 0.9}, mean: -0.95828, std: 0.02069, params: {'boosting_type': 'gbdt', 'colsample_bytree': 0.7, 'n_estimators': 48, 'num_leaves': 22, 'subsample': 0.7}, mean: -0.95381, std: 0.02619, params: {'boosting_type': 'gbdt', 'colsample_bytree': 0.7, 'n_estimators': 48, 'num_leaves': 22, 'subsample': 0.8}, mean: -0.94807, std: 0.02696, params: {'boosting_type': 'gbdt', 'colsample_bytree': 0.7, 'n_estimators': 48, 'num_leaves': 22, 'subsample': 0.9}, mean: -1.58126, std: 0.01697, params: {'boosting_type': 'gbdt', 'colsample_bytree': 0.8, 'n_estimators': 8, 'num_leaves': 6, 'subsample': 0.7}, mean: -1.57916, std: 0.01738, params: {'boosting_type': 'gbdt', 'colsample_bytree': 0.8, 'n_estimators': 8, 'num_leaves': 6, 'subsample': 0.8}, mean: -1.57705, std: 0.01902, params: {'boosting_type': 'gbdt', 'colsample_bytree': 0.8, 'n_estimators': 8, 'num_leaves': 6, 'subsample': 0.9}, mean: -1.51011, std: 0.01921, params: {'boosting_type': 'gbdt', 'colsample_bytree': 0.8, 'n_estimators': 8, 'num_leaves': 12, 'subsample': 0.7}, mean: -1.50650, std: 0.01489, params: {'boosting_type': 'gbdt', 'colsample_bytree': 0.8, 'n_estimators': 8, 'num_leaves': 12, 'subsample': 0.8}, mean: -1.50373, std: 0.02027, params: {'boosting_type': 'gbdt', 'colsample_bytree': 0.8, 'n_estimators': 8, 'num_leaves': 12, 'subsample': 0.9}, mean: -1.48694, std: 0.01553, params: {'boosting_type': 'gbdt', 'colsample_bytree': 0.8, 'n_estimators': 8, 'num_leaves': 16, 'subsample': 0.7}, mean: -1.48288, std: 0.01687, params: {'boosting_type': 'gbdt', 'colsample_bytree': 0.8, 'n_estimators': 8, 'num_leaves': 16, 'subsample': 0.8}, mean: -1.47813, std: 0.02212, params: {'boosting_type': 'gbdt', 'colsample_bytree': 0.8, 'n_estimators': 8, 'num_leaves': 16, 'subsample': 0.9}, mean: -1.47436, std: 0.01550, params: {'boosting_type': 'gbdt', 'colsample_bytree': 0.8, 'n_estimators': 8, 'num_leaves': 22, 'subsample': 0.7}, mean: -1.46382, std: 0.01616, params: {'boosting_type': 'gbdt', 'colsample_bytree': 0.8, 'n_estimators': 8, 'num_leaves': 22, 'subsample': 0.8}, mean: -1.45575, std: 0.01961, params: {'boosting_type': 'gbdt', 'colsample_bytree': 0.8, 'n_estimators': 8, 'num_leaves': 22, 'subsample': 0.9}, mean: -1.21808, std: 0.02159, params: {'boosting_type': 'gbdt', 'colsample_bytree': 0.8, 'n_estimators': 24, 'num_leaves': 6, 'subsample': 0.7}, mean: -1.21627, std: 0.02382, params: {'boosting_type': 'gbdt', 'colsample_bytree': 0.8, 'n_estimators': 24, 'num_leaves': 6, 'subsample': 0.8}, mean: -1.21383, std: 0.02500, params: {'boosting_type': 'gbdt', 'colsample_bytree': 0.8, 'n_estimators': 24, 'num_leaves': 6, 'subsample': 0.9}, mean: -1.12700, std: 0.02577, params: {'boosting_type': 'gbdt', 'colsample_bytree': 0.8, 'n_estimators': 24, 'num_leaves': 12, 'subsample': 0.7}, mean: -1.12394, std: 0.01982, params: {'boosting_type': 'gbdt', 'colsample_bytree': 0.8, 'n_estimators': 24, 'num_leaves': 12, 'subsample': 0.8}, mean: -1.11549, std: 0.02474, params: {'boosting_type': 'gbdt', 'colsample_bytree': 0.8, 'n_estimators': 24, 'num_leaves': 12, 'subsample': 0.9}, mean: -1.10259, std: 0.02275, params: {'boosting_type': 'gbdt', 'colsample_bytree': 0.8, 'n_estimators': 24, 'num_leaves': 16, 'subsample': 0.7}, mean: -1.09295, std: 0.01955, params: {'boosting_type': 'gbdt', 'colsample_bytree': 0.8, 'n_estimators': 24, 'num_leaves': 16, 'subsample': 0.8}, mean: -1.08901, std: 0.02729, params: {'boosting_type': 'gbdt', 'colsample_bytree': 0.8, 'n_estimators': 24, 'num_leaves': 16, 'subsample': 0.9}, mean: -1.09024, std: 0.02126, params: {'boosting_type': 'gbdt', 'colsample_bytree': 0.8, 'n_estimators': 24, 'num_leaves': 22, 'subsample': 0.7}, mean: -1.08323, std: 0.01705, params: {'boosting_type': 'gbdt', 'colsample_bytree': 0.8, 'n_estimators': 24, 'num_leaves': 22, 'subsample': 0.8}, mean: -1.06788, std: 0.02053, params: {'boosting_type': 'gbdt', 'colsample_bytree': 0.8, 'n_estimators': 24, 'num_leaves': 22, 'subsample': 0.9}, mean: -1.11224, std: 0.01952, params: {'boosting_type': 'gbdt', 'colsample_bytree': 0.8, 'n_estimators': 36, 'num_leaves': 6, 'subsample': 0.7}, mean: -1.11266, std: 0.02361, params: {'boosting_type': 'gbdt', 'colsample_bytree': 0.8, 'n_estimators': 36, 'num_leaves': 6, 'subsample': 0.8}, mean: -1.11173, std: 0.02469, params: {'boosting_type': 'gbdt', 'colsample_bytree': 0.8, 'n_estimators': 36, 'num_leaves': 6, 'subsample': 0.9}, mean: -1.02666, std: 0.02746, params: {'boosting_type': 'gbdt', 'colsample_bytree': 0.8, 'n_estimators': 36, 'num_leaves': 12, 'subsample': 0.7}, mean: -1.02365, std: 0.02110, params: {'boosting_type': 'gbdt', 'colsample_bytree': 0.8, 'n_estimators': 36, 'num_leaves': 12, 'subsample': 0.8}, mean: -1.01955, std: 0.02250, params: {'boosting_type': 'gbdt', 'colsample_bytree': 0.8, 'n_estimators': 36, 'num_leaves': 12, 'subsample': 0.9}, mean: -1.01033, std: 0.02350, params: {'boosting_type': 'gbdt', 'colsample_bytree': 0.8, 'n_estimators': 36, 'num_leaves': 16, 'subsample': 0.7}, mean: -1.00184, std: 0.02382, params: {'boosting_type': 'gbdt', 'colsample_bytree': 0.8, 'n_estimators': 36, 'num_leaves': 16, 'subsample': 0.8}, mean: -1.00108, std: 0.02907, params: {'boosting_type': 'gbdt', 'colsample_bytree': 0.8, 'n_estimators': 36, 'num_leaves': 16, 'subsample': 0.9}, mean: -0.99939, std: 0.02198, params: {'boosting_type': 'gbdt', 'colsample_bytree': 0.8, 'n_estimators': 36, 'num_leaves': 22, 'subsample': 0.7}, mean: -0.99696, std: 0.02036, params: {'boosting_type': 'gbdt', 'colsample_bytree': 0.8, 'n_estimators': 36, 'num_leaves': 22, 'subsample': 0.8}, mean: -0.98453, std: 0.02352, params: {'boosting_type': 'gbdt', 'colsample_bytree': 0.8, 'n_estimators': 36, 'num_leaves': 22, 'subsample': 0.9}, mean: -1.05184, std: 0.01994, params: {'boosting_type': 'gbdt', 'colsample_bytree': 0.8, 'n_estimators': 48, 'num_leaves': 6, 'subsample': 0.7}, mean: -1.05544, std: 0.02480, params: {'boosting_type': 'gbdt', 'colsample_bytree': 0.8, 'n_estimators': 48, 'num_leaves': 6, 'subsample': 0.8}, mean: -1.05429, std: 0.02758, params: {'boosting_type': 'gbdt', 'colsample_bytree': 0.8, 'n_estimators': 48, 'num_leaves': 6, 'subsample': 0.9}, mean: -0.97762, std: 0.02665, params: {'boosting_type': 'gbdt', 'colsample_bytree': 0.8, 'n_estimators': 48, 'num_leaves': 12, 'subsample': 0.7}, mean: -0.97620, std: 0.02284, params: {'boosting_type': 'gbdt', 'colsample_bytree': 0.8, 'n_estimators': 48, 'num_leaves': 12, 'subsample': 0.8}, mean: -0.97268, std: 0.02637, params: {'boosting_type': 'gbdt', 'colsample_bytree': 0.8, 'n_estimators': 48, 'num_leaves': 12, 'subsample': 0.9}, mean: -0.96765, std: 0.02843, params: {'boosting_type': 'gbdt', 'colsample_bytree': 0.8, 'n_estimators': 48, 'num_leaves': 16, 'subsample': 0.7}, mean: -0.96100, std: 0.02582, params: {'boosting_type': 'gbdt', 'colsample_bytree': 0.8, 'n_estimators': 48, 'num_leaves': 16, 'subsample': 0.8}, mean: -0.96130, std: 0.03302, params: {'boosting_type': 'gbdt', 'colsample_bytree': 0.8, 'n_estimators': 48, 'num_leaves': 16, 'subsample': 0.9}, mean: -0.96249, std: 0.02619, params: {'boosting_type': 'gbdt', 'colsample_bytree': 0.8, 'n_estimators': 48, 'num_leaves': 22, 'subsample': 0.7}, mean: -0.96094, std: 0.02488, params: {'boosting_type': 'gbdt', 'colsample_bytree': 0.8, 'n_estimators': 48, 'num_leaves': 22, 'subsample': 0.8}, mean: -0.95271, std: 0.02908, params: {'boosting_type': 'gbdt', 'colsample_bytree': 0.8, 'n_estimators': 48, 'num_leaves': 22, 'subsample': 0.9}, mean: -1.58088, std: 0.01685, params: {'boosting_type': 'gbdt', 'colsample_bytree': 0.9, 'n_estimators': 8, 'num_leaves': 6, 'subsample': 0.7}, mean: -1.57701, std: 0.01651, params: {'boosting_type': 'gbdt', 'colsample_bytree': 0.9, 'n_estimators': 8, 'num_leaves': 6, 'subsample': 0.8}, mean: -1.57782, std: 0.01729, params: {'boosting_type': 'gbdt', 'colsample_bytree': 0.9, 'n_estimators': 8, 'num_leaves': 6, 'subsample': 0.9}, mean: -1.51102, std: 0.01759, params: {'boosting_type': 'gbdt', 'colsample_bytree': 0.9, 'n_estimators': 8, 'num_leaves': 12, 'subsample': 0.7}, mean: -1.50231, std: 0.01489, params: {'boosting_type': 'gbdt', 'colsample_bytree': 0.9, 'n_estimators': 8, 'num_leaves': 12, 'subsample': 0.8}, mean: -1.49953, std: 0.01692, params: {'boosting_type': 'gbdt', 'colsample_bytree': 0.9, 'n_estimators': 8, 'num_leaves': 12, 'subsample': 0.9}, mean: -1.48609, std: 0.01680, params: {'boosting_type': 'gbdt', 'colsample_bytree': 0.9, 'n_estimators': 8, 'num_leaves': 16, 'subsample': 0.7}, mean: -1.48120, std: 0.01649, params: {'boosting_type': 'gbdt', 'colsample_bytree': 0.9, 'n_estimators': 8, 'num_leaves': 16, 'subsample': 0.8}, mean: -1.47671, std: 0.01934, params: {'boosting_type': 'gbdt', 'colsample_bytree': 0.9, 'n_estimators': 8, 'num_leaves': 16, 'subsample': 0.9}, mean: -1.46835, std: 0.01623, params: {'boosting_type': 'gbdt', 'colsample_bytree': 0.9, 'n_estimators': 8, 'num_leaves': 22, 'subsample': 0.7}, mean: -1.45996, std: 0.01432, params: {'boosting_type': 'gbdt', 'colsample_bytree': 0.9, 'n_estimators': 8, 'num_leaves': 22, 'subsample': 0.8}, mean: -1.45681, std: 0.01953, params: {'boosting_type': 'gbdt', 'colsample_bytree': 0.9, 'n_estimators': 8, 'num_leaves': 22, 'subsample': 0.9}, mean: -1.21961, std: 0.02093, params: {'boosting_type': 'gbdt', 'colsample_bytree': 0.9, 'n_estimators': 24, 'num_leaves': 6, 'subsample': 0.7}, mean: -1.21343, std: 0.02289, params: {'boosting_type': 'gbdt', 'colsample_bytree': 0.9, 'n_estimators': 24, 'num_leaves': 6, 'subsample': 0.8}, mean: -1.21484, std: 0.02540, params: {'boosting_type': 'gbdt', 'colsample_bytree': 0.9, 'n_estimators': 24, 'num_leaves': 6, 'subsample': 0.9}, mean: -1.12726, std: 0.01908, params: {'boosting_type': 'gbdt', 'colsample_bytree': 0.9, 'n_estimators': 24, 'num_leaves': 12, 'subsample': 0.7}, mean: -1.12191, std: 0.02053, params: {'boosting_type': 'gbdt', 'colsample_bytree': 0.9, 'n_estimators': 24, 'num_leaves': 12, 'subsample': 0.8}, mean: -1.11711, std: 0.02259, params: {'boosting_type': 'gbdt', 'colsample_bytree': 0.9, 'n_estimators': 24, 'num_leaves': 12, 'subsample': 0.9}, mean: -1.10144, std: 0.02127, params: {'boosting_type': 'gbdt', 'colsample_bytree': 0.9, 'n_estimators': 24, 'num_leaves': 16, 'subsample': 0.7}, mean: -1.09284, std: 0.02055, params: {'boosting_type': 'gbdt', 'colsample_bytree': 0.9, 'n_estimators': 24, 'num_leaves': 16, 'subsample': 0.8}, mean: -1.08491, std: 0.02404, params: {'boosting_type': 'gbdt', 'colsample_bytree': 0.9, 'n_estimators': 24, 'num_leaves': 16, 'subsample': 0.9}, mean: -1.08205, std: 0.01750, params: {'boosting_type': 'gbdt', 'colsample_bytree': 0.9, 'n_estimators': 24, 'num_leaves': 22, 'subsample': 0.7}, mean: -1.07457, std: 0.01560, params: {'boosting_type': 'gbdt', 'colsample_bytree': 0.9, 'n_estimators': 24, 'num_leaves': 22, 'subsample': 0.8}, mean: -1.06796, std: 0.02140, params: {'boosting_type': 'gbdt', 'colsample_bytree': 0.9, 'n_estimators': 24, 'num_leaves': 22, 'subsample': 0.9}, mean: -1.11374, std: 0.02150, params: {'boosting_type': 'gbdt', 'colsample_bytree': 0.9, 'n_estimators': 36, 'num_leaves': 6, 'subsample': 0.7}, mean: -1.10961, std: 0.02305, params: {'boosting_type': 'gbdt', 'colsample_bytree': 0.9, 'n_estimators': 36, 'num_leaves': 6, 'subsample': 0.8}, mean: -1.11211, std: 0.02460, params: {'boosting_type': 'gbdt', 'colsample_bytree': 0.9, 'n_estimators': 36, 'num_leaves': 6, 'subsample': 0.9}, mean: -1.02540, std: 0.02301, params: {'boosting_type': 'gbdt', 'colsample_bytree': 0.9, 'n_estimators': 36, 'num_leaves': 12, 'subsample': 0.7}, mean: -1.02367, std: 0.02301, params: {'boosting_type': 'gbdt', 'colsample_bytree': 0.9, 'n_estimators': 36, 'num_leaves': 12, 'subsample': 0.8}, mean: -1.02254, std: 0.02570, params: {'boosting_type': 'gbdt', 'colsample_bytree': 0.9, 'n_estimators': 36, 'num_leaves': 12, 'subsample': 0.9}, mean: -1.00751, std: 0.01957, params: {'boosting_type': 'gbdt', 'colsample_bytree': 0.9, 'n_estimators': 36, 'num_leaves': 16, 'subsample': 0.7}, mean: -1.00051, std: 0.02614, params: {'boosting_type': 'gbdt', 'colsample_bytree': 0.9, 'n_estimators': 36, 'num_leaves': 16, 'subsample': 0.8}, mean: -0.99446, std: 0.02628, params: {'boosting_type': 'gbdt', 'colsample_bytree': 0.9, 'n_estimators': 36, 'num_leaves': 16, 'subsample': 0.9}, mean: -0.99323, std: 0.01632, params: {'boosting_type': 'gbdt', 'colsample_bytree': 0.9, 'n_estimators': 36, 'num_leaves': 22, 'subsample': 0.7}, mean: -0.98337, std: 0.02071, params: {'boosting_type': 'gbdt', 'colsample_bytree': 0.9, 'n_estimators': 36, 'num_leaves': 22, 'subsample': 0.8}, mean: -0.98431, std: 0.02436, params: {'boosting_type': 'gbdt', 'colsample_bytree': 0.9, 'n_estimators': 36, 'num_leaves': 22, 'subsample': 0.9}, mean: -1.05485, std: 0.02181, params: {'boosting_type': 'gbdt', 'colsample_bytree': 0.9, 'n_estimators': 48, 'num_leaves': 6, 'subsample': 0.7}, mean: -1.05147, std: 0.02389, params: {'boosting_type': 'gbdt', 'colsample_bytree': 0.9, 'n_estimators': 48, 'num_leaves': 6, 'subsample': 0.8}, mean: -1.05480, std: 0.02646, params: {'boosting_type': 'gbdt', 'colsample_bytree': 0.9, 'n_estimators': 48, 'num_leaves': 6, 'subsample': 0.9}, mean: -0.97919, std: 0.02436, params: {'boosting_type': 'gbdt', 'colsample_bytree': 0.9, 'n_estimators': 48, 'num_leaves': 12, 'subsample': 0.7}, mean: -0.97640, std: 0.02382, params: {'boosting_type': 'gbdt', 'colsample_bytree': 0.9, 'n_estimators': 48, 'num_leaves': 12, 'subsample': 0.8}, mean: -0.97722, std: 0.02918, params: {'boosting_type': 'gbdt', 'colsample_bytree': 0.9, 'n_estimators': 48, 'num_leaves': 12, 'subsample': 0.9}, mean: -0.96519, std: 0.02219, params: {'boosting_type': 'gbdt', 'colsample_bytree': 0.9, 'n_estimators': 48, 'num_leaves': 16, 'subsample': 0.7}, mean: -0.95967, std: 0.03045, params: {'boosting_type': 'gbdt', 'colsample_bytree': 0.9, 'n_estimators': 48, 'num_leaves': 16, 'subsample': 0.8}, mean: -0.95608, std: 0.03127, params: {'boosting_type': 'gbdt', 'colsample_bytree': 0.9, 'n_estimators': 48, 'num_leaves': 16, 'subsample': 0.9}, mean: -0.95594, std: 0.01882, params: {'boosting_type': 'gbdt', 'colsample_bytree': 0.9, 'n_estimators': 48, 'num_leaves': 22, 'subsample': 0.7}, mean: -0.95177, std: 0.02554, params: {'boosting_type': 'gbdt', 'colsample_bytree': 0.9, 'n_estimators': 48, 'num_leaves': 22, 'subsample': 0.8}, mean: -0.95432, std: 0.02877, params: {'boosting_type': 'gbdt', 'colsample_bytree': 0.9, 'n_estimators': 48, 'num_leaves': 22, 'subsample': 0.9}]\n",
      "{'boosting_type': 'gbdt', 'colsample_bytree': 0.7, 'n_estimators': 48, 'num_leaves': 22, 'subsample': 0.9}\n",
      "-0.948070297381\n",
      "Fitting 5 folds for each of 144 candidates, totalling 720 fits\n"
     ]
    },
    {
     "name": "stderr",
     "output_type": "stream",
     "text": [
      "C:\\Users\\Franck\\Documents\\Continuum\\Anaconda3\\lib\\site-packages\\sklearn\\model_selection\\_search.py:667: DeprecationWarning: The grid_scores_ attribute was deprecated in version 0.18 in favor of the more elaborate cv_results_ attribute. The grid_scores_ attribute will not be available from 0.20\n",
      "  DeprecationWarning)\n",
      "[Parallel(n_jobs=-1)]: Done  42 tasks      | elapsed:   27.8s\n",
      "[Parallel(n_jobs=-1)]: Done 192 tasks      | elapsed:  5.7min\n",
      "[Parallel(n_jobs=-1)]: Done 442 tasks      | elapsed: 15.8min\n",
      "[Parallel(n_jobs=-1)]: Done 720 out of 720 | elapsed: 30.3min finished\n"
     ]
    },
    {
     "name": "stdout",
     "output_type": "stream",
     "text": [
      "w2v_300\n",
      "[mean: -1.57932, std: 0.02003, params: {'boosting_type': 'gbdt', 'colsample_bytree': 0.7, 'n_estimators': 8, 'num_leaves': 6, 'subsample': 0.7}, mean: -1.57580, std: 0.01944, params: {'boosting_type': 'gbdt', 'colsample_bytree': 0.7, 'n_estimators': 8, 'num_leaves': 6, 'subsample': 0.8}, mean: -1.58010, std: 0.01673, params: {'boosting_type': 'gbdt', 'colsample_bytree': 0.7, 'n_estimators': 8, 'num_leaves': 6, 'subsample': 0.9}, mean: -1.51131, std: 0.01797, params: {'boosting_type': 'gbdt', 'colsample_bytree': 0.7, 'n_estimators': 8, 'num_leaves': 12, 'subsample': 0.7}, mean: -1.50427, std: 0.02299, params: {'boosting_type': 'gbdt', 'colsample_bytree': 0.7, 'n_estimators': 8, 'num_leaves': 12, 'subsample': 0.8}, mean: -1.50728, std: 0.01750, params: {'boosting_type': 'gbdt', 'colsample_bytree': 0.7, 'n_estimators': 8, 'num_leaves': 12, 'subsample': 0.9}, mean: -1.48615, std: 0.02034, params: {'boosting_type': 'gbdt', 'colsample_bytree': 0.7, 'n_estimators': 8, 'num_leaves': 16, 'subsample': 0.7}, mean: -1.47949, std: 0.02271, params: {'boosting_type': 'gbdt', 'colsample_bytree': 0.7, 'n_estimators': 8, 'num_leaves': 16, 'subsample': 0.8}, mean: -1.48254, std: 0.01335, params: {'boosting_type': 'gbdt', 'colsample_bytree': 0.7, 'n_estimators': 8, 'num_leaves': 16, 'subsample': 0.9}, mean: -1.47192, std: 0.01623, params: {'boosting_type': 'gbdt', 'colsample_bytree': 0.7, 'n_estimators': 8, 'num_leaves': 22, 'subsample': 0.7}, mean: -1.46471, std: 0.01603, params: {'boosting_type': 'gbdt', 'colsample_bytree': 0.7, 'n_estimators': 8, 'num_leaves': 22, 'subsample': 0.8}, mean: -1.45969, std: 0.01430, params: {'boosting_type': 'gbdt', 'colsample_bytree': 0.7, 'n_estimators': 8, 'num_leaves': 22, 'subsample': 0.9}, mean: -1.21916, std: 0.02185, params: {'boosting_type': 'gbdt', 'colsample_bytree': 0.7, 'n_estimators': 24, 'num_leaves': 6, 'subsample': 0.7}, mean: -1.21548, std: 0.02396, params: {'boosting_type': 'gbdt', 'colsample_bytree': 0.7, 'n_estimators': 24, 'num_leaves': 6, 'subsample': 0.8}, mean: -1.21957, std: 0.01951, params: {'boosting_type': 'gbdt', 'colsample_bytree': 0.7, 'n_estimators': 24, 'num_leaves': 6, 'subsample': 0.9}, mean: -1.13308, std: 0.01798, params: {'boosting_type': 'gbdt', 'colsample_bytree': 0.7, 'n_estimators': 24, 'num_leaves': 12, 'subsample': 0.7}, mean: -1.12579, std: 0.02414, params: {'boosting_type': 'gbdt', 'colsample_bytree': 0.7, 'n_estimators': 24, 'num_leaves': 12, 'subsample': 0.8}, mean: -1.12429, std: 0.01684, params: {'boosting_type': 'gbdt', 'colsample_bytree': 0.7, 'n_estimators': 24, 'num_leaves': 12, 'subsample': 0.9}, mean: -1.10517, std: 0.01615, params: {'boosting_type': 'gbdt', 'colsample_bytree': 0.7, 'n_estimators': 24, 'num_leaves': 16, 'subsample': 0.7}, mean: -1.09312, std: 0.02312, params: {'boosting_type': 'gbdt', 'colsample_bytree': 0.7, 'n_estimators': 24, 'num_leaves': 16, 'subsample': 0.8}, mean: -1.09806, std: 0.01391, params: {'boosting_type': 'gbdt', 'colsample_bytree': 0.7, 'n_estimators': 24, 'num_leaves': 16, 'subsample': 0.9}, mean: -1.08703, std: 0.01789, params: {'boosting_type': 'gbdt', 'colsample_bytree': 0.7, 'n_estimators': 24, 'num_leaves': 22, 'subsample': 0.7}, mean: -1.07550, std: 0.01646, params: {'boosting_type': 'gbdt', 'colsample_bytree': 0.7, 'n_estimators': 24, 'num_leaves': 22, 'subsample': 0.8}, mean: -1.07734, std: 0.01581, params: {'boosting_type': 'gbdt', 'colsample_bytree': 0.7, 'n_estimators': 24, 'num_leaves': 22, 'subsample': 0.9}, mean: -1.11664, std: 0.02101, params: {'boosting_type': 'gbdt', 'colsample_bytree': 0.7, 'n_estimators': 36, 'num_leaves': 6, 'subsample': 0.7}, mean: -1.11455, std: 0.02394, params: {'boosting_type': 'gbdt', 'colsample_bytree': 0.7, 'n_estimators': 36, 'num_leaves': 6, 'subsample': 0.8}, mean: -1.11819, std: 0.02065, params: {'boosting_type': 'gbdt', 'colsample_bytree': 0.7, 'n_estimators': 36, 'num_leaves': 6, 'subsample': 0.9}, mean: -1.03625, std: 0.01951, params: {'boosting_type': 'gbdt', 'colsample_bytree': 0.7, 'n_estimators': 36, 'num_leaves': 12, 'subsample': 0.7}, mean: -1.03007, std: 0.02448, params: {'boosting_type': 'gbdt', 'colsample_bytree': 0.7, 'n_estimators': 36, 'num_leaves': 12, 'subsample': 0.8}, mean: -1.02816, std: 0.02053, params: {'boosting_type': 'gbdt', 'colsample_bytree': 0.7, 'n_estimators': 36, 'num_leaves': 12, 'subsample': 0.9}, mean: -1.01306, std: 0.02179, params: {'boosting_type': 'gbdt', 'colsample_bytree': 0.7, 'n_estimators': 36, 'num_leaves': 16, 'subsample': 0.7}, mean: -1.00244, std: 0.02731, params: {'boosting_type': 'gbdt', 'colsample_bytree': 0.7, 'n_estimators': 36, 'num_leaves': 16, 'subsample': 0.8}, mean: -1.00425, std: 0.02019, params: {'boosting_type': 'gbdt', 'colsample_bytree': 0.7, 'n_estimators': 36, 'num_leaves': 16, 'subsample': 0.9}, mean: -1.00090, std: 0.02282, params: {'boosting_type': 'gbdt', 'colsample_bytree': 0.7, 'n_estimators': 36, 'num_leaves': 22, 'subsample': 0.7}, mean: -0.99321, std: 0.02110, params: {'boosting_type': 'gbdt', 'colsample_bytree': 0.7, 'n_estimators': 36, 'num_leaves': 22, 'subsample': 0.8}, mean: -0.99315, std: 0.02120, params: {'boosting_type': 'gbdt', 'colsample_bytree': 0.7, 'n_estimators': 36, 'num_leaves': 22, 'subsample': 0.9}, mean: -1.05988, std: 0.01867, params: {'boosting_type': 'gbdt', 'colsample_bytree': 0.7, 'n_estimators': 48, 'num_leaves': 6, 'subsample': 0.7}, mean: -1.05911, std: 0.02250, params: {'boosting_type': 'gbdt', 'colsample_bytree': 0.7, 'n_estimators': 48, 'num_leaves': 6, 'subsample': 0.8}, mean: -1.06017, std: 0.02096, params: {'boosting_type': 'gbdt', 'colsample_bytree': 0.7, 'n_estimators': 48, 'num_leaves': 6, 'subsample': 0.9}, mean: -0.98913, std: 0.02243, params: {'boosting_type': 'gbdt', 'colsample_bytree': 0.7, 'n_estimators': 48, 'num_leaves': 12, 'subsample': 0.7}, mean: -0.98204, std: 0.02495, params: {'boosting_type': 'gbdt', 'colsample_bytree': 0.7, 'n_estimators': 48, 'num_leaves': 12, 'subsample': 0.8}, mean: -0.98275, std: 0.02374, params: {'boosting_type': 'gbdt', 'colsample_bytree': 0.7, 'n_estimators': 48, 'num_leaves': 12, 'subsample': 0.9}, mean: -0.97528, std: 0.02490, params: {'boosting_type': 'gbdt', 'colsample_bytree': 0.7, 'n_estimators': 48, 'num_leaves': 16, 'subsample': 0.7}, mean: -0.96534, std: 0.03130, params: {'boosting_type': 'gbdt', 'colsample_bytree': 0.7, 'n_estimators': 48, 'num_leaves': 16, 'subsample': 0.8}, mean: -0.96572, std: 0.02531, params: {'boosting_type': 'gbdt', 'colsample_bytree': 0.7, 'n_estimators': 48, 'num_leaves': 16, 'subsample': 0.9}, mean: -0.96811, std: 0.02749, params: {'boosting_type': 'gbdt', 'colsample_bytree': 0.7, 'n_estimators': 48, 'num_leaves': 22, 'subsample': 0.7}, mean: -0.96054, std: 0.02949, params: {'boosting_type': 'gbdt', 'colsample_bytree': 0.7, 'n_estimators': 48, 'num_leaves': 22, 'subsample': 0.8}, mean: -0.96189, std: 0.02757, params: {'boosting_type': 'gbdt', 'colsample_bytree': 0.7, 'n_estimators': 48, 'num_leaves': 22, 'subsample': 0.9}, mean: -1.57737, std: 0.02032, params: {'boosting_type': 'gbdt', 'colsample_bytree': 0.8, 'n_estimators': 8, 'num_leaves': 6, 'subsample': 0.7}, mean: -1.57459, std: 0.02248, params: {'boosting_type': 'gbdt', 'colsample_bytree': 0.8, 'n_estimators': 8, 'num_leaves': 6, 'subsample': 0.8}, mean: -1.57689, std: 0.02105, params: {'boosting_type': 'gbdt', 'colsample_bytree': 0.8, 'n_estimators': 8, 'num_leaves': 6, 'subsample': 0.9}, mean: -1.50624, std: 0.01620, params: {'boosting_type': 'gbdt', 'colsample_bytree': 0.8, 'n_estimators': 8, 'num_leaves': 12, 'subsample': 0.7}, mean: -1.50324, std: 0.01904, params: {'boosting_type': 'gbdt', 'colsample_bytree': 0.8, 'n_estimators': 8, 'num_leaves': 12, 'subsample': 0.8}, mean: -1.50370, std: 0.01660, params: {'boosting_type': 'gbdt', 'colsample_bytree': 0.8, 'n_estimators': 8, 'num_leaves': 12, 'subsample': 0.9}, mean: -1.48593, std: 0.01492, params: {'boosting_type': 'gbdt', 'colsample_bytree': 0.8, 'n_estimators': 8, 'num_leaves': 16, 'subsample': 0.7}, mean: -1.48007, std: 0.01868, params: {'boosting_type': 'gbdt', 'colsample_bytree': 0.8, 'n_estimators': 8, 'num_leaves': 16, 'subsample': 0.8}, mean: -1.47858, std: 0.01404, params: {'boosting_type': 'gbdt', 'colsample_bytree': 0.8, 'n_estimators': 8, 'num_leaves': 16, 'subsample': 0.9}, mean: -1.47176, std: 0.01737, params: {'boosting_type': 'gbdt', 'colsample_bytree': 0.8, 'n_estimators': 8, 'num_leaves': 22, 'subsample': 0.7}, mean: -1.46062, std: 0.02040, params: {'boosting_type': 'gbdt', 'colsample_bytree': 0.8, 'n_estimators': 8, 'num_leaves': 22, 'subsample': 0.8}, mean: -1.45671, std: 0.02010, params: {'boosting_type': 'gbdt', 'colsample_bytree': 0.8, 'n_estimators': 8, 'num_leaves': 22, 'subsample': 0.9}, mean: -1.21860, std: 0.02533, params: {'boosting_type': 'gbdt', 'colsample_bytree': 0.8, 'n_estimators': 24, 'num_leaves': 6, 'subsample': 0.7}, mean: -1.21623, std: 0.02899, params: {'boosting_type': 'gbdt', 'colsample_bytree': 0.8, 'n_estimators': 24, 'num_leaves': 6, 'subsample': 0.8}, mean: -1.21629, std: 0.02487, params: {'boosting_type': 'gbdt', 'colsample_bytree': 0.8, 'n_estimators': 24, 'num_leaves': 6, 'subsample': 0.9}, mean: -1.12752, std: 0.01972, params: {'boosting_type': 'gbdt', 'colsample_bytree': 0.8, 'n_estimators': 24, 'num_leaves': 12, 'subsample': 0.7}, mean: -1.11891, std: 0.02231, params: {'boosting_type': 'gbdt', 'colsample_bytree': 0.8, 'n_estimators': 24, 'num_leaves': 12, 'subsample': 0.8}, mean: -1.12736, std: 0.01622, params: {'boosting_type': 'gbdt', 'colsample_bytree': 0.8, 'n_estimators': 24, 'num_leaves': 12, 'subsample': 0.9}, mean: -1.10627, std: 0.02024, params: {'boosting_type': 'gbdt', 'colsample_bytree': 0.8, 'n_estimators': 24, 'num_leaves': 16, 'subsample': 0.7}, mean: -1.09735, std: 0.02309, params: {'boosting_type': 'gbdt', 'colsample_bytree': 0.8, 'n_estimators': 24, 'num_leaves': 16, 'subsample': 0.8}, mean: -1.09882, std: 0.01560, params: {'boosting_type': 'gbdt', 'colsample_bytree': 0.8, 'n_estimators': 24, 'num_leaves': 16, 'subsample': 0.9}, mean: -1.08954, std: 0.01968, params: {'boosting_type': 'gbdt', 'colsample_bytree': 0.8, 'n_estimators': 24, 'num_leaves': 22, 'subsample': 0.7}, mean: -1.07695, std: 0.02642, params: {'boosting_type': 'gbdt', 'colsample_bytree': 0.8, 'n_estimators': 24, 'num_leaves': 22, 'subsample': 0.8}, mean: -1.07648, std: 0.02278, params: {'boosting_type': 'gbdt', 'colsample_bytree': 0.8, 'n_estimators': 24, 'num_leaves': 22, 'subsample': 0.9}, mean: -1.11481, std: 0.02570, params: {'boosting_type': 'gbdt', 'colsample_bytree': 0.8, 'n_estimators': 36, 'num_leaves': 6, 'subsample': 0.7}, mean: -1.11216, std: 0.02636, params: {'boosting_type': 'gbdt', 'colsample_bytree': 0.8, 'n_estimators': 36, 'num_leaves': 6, 'subsample': 0.8}, mean: -1.11409, std: 0.02344, params: {'boosting_type': 'gbdt', 'colsample_bytree': 0.8, 'n_estimators': 36, 'num_leaves': 6, 'subsample': 0.9}, mean: -1.02994, std: 0.02402, params: {'boosting_type': 'gbdt', 'colsample_bytree': 0.8, 'n_estimators': 36, 'num_leaves': 12, 'subsample': 0.7}, mean: -1.02440, std: 0.02493, params: {'boosting_type': 'gbdt', 'colsample_bytree': 0.8, 'n_estimators': 36, 'num_leaves': 12, 'subsample': 0.8}, mean: -1.03239, std: 0.01910, params: {'boosting_type': 'gbdt', 'colsample_bytree': 0.8, 'n_estimators': 36, 'num_leaves': 12, 'subsample': 0.9}, mean: -1.01377, std: 0.02549, params: {'boosting_type': 'gbdt', 'colsample_bytree': 0.8, 'n_estimators': 36, 'num_leaves': 16, 'subsample': 0.7}, mean: -1.00889, std: 0.02646, params: {'boosting_type': 'gbdt', 'colsample_bytree': 0.8, 'n_estimators': 36, 'num_leaves': 16, 'subsample': 0.8}, mean: -1.00658, std: 0.01908, params: {'boosting_type': 'gbdt', 'colsample_bytree': 0.8, 'n_estimators': 36, 'num_leaves': 16, 'subsample': 0.9}, mean: -1.00476, std: 0.02277, params: {'boosting_type': 'gbdt', 'colsample_bytree': 0.8, 'n_estimators': 36, 'num_leaves': 22, 'subsample': 0.7}, mean: -0.99442, std: 0.02888, params: {'boosting_type': 'gbdt', 'colsample_bytree': 0.8, 'n_estimators': 36, 'num_leaves': 22, 'subsample': 0.8}, mean: -0.99429, std: 0.02592, params: {'boosting_type': 'gbdt', 'colsample_bytree': 0.8, 'n_estimators': 36, 'num_leaves': 22, 'subsample': 0.9}, mean: -1.05405, std: 0.02408, params: {'boosting_type': 'gbdt', 'colsample_bytree': 0.8, 'n_estimators': 48, 'num_leaves': 6, 'subsample': 0.7}, mean: -1.05351, std: 0.02651, params: {'boosting_type': 'gbdt', 'colsample_bytree': 0.8, 'n_estimators': 48, 'num_leaves': 6, 'subsample': 0.8}, mean: -1.05734, std: 0.02295, params: {'boosting_type': 'gbdt', 'colsample_bytree': 0.8, 'n_estimators': 48, 'num_leaves': 6, 'subsample': 0.9}, mean: -0.98161, std: 0.03051, params: {'boosting_type': 'gbdt', 'colsample_bytree': 0.8, 'n_estimators': 48, 'num_leaves': 12, 'subsample': 0.7}, mean: -0.98007, std: 0.02762, params: {'boosting_type': 'gbdt', 'colsample_bytree': 0.8, 'n_estimators': 48, 'num_leaves': 12, 'subsample': 0.8}, mean: -0.98644, std: 0.02275, params: {'boosting_type': 'gbdt', 'colsample_bytree': 0.8, 'n_estimators': 48, 'num_leaves': 12, 'subsample': 0.9}, mean: -0.97590, std: 0.03118, params: {'boosting_type': 'gbdt', 'colsample_bytree': 0.8, 'n_estimators': 48, 'num_leaves': 16, 'subsample': 0.7}, mean: -0.96903, std: 0.03074, params: {'boosting_type': 'gbdt', 'colsample_bytree': 0.8, 'n_estimators': 48, 'num_leaves': 16, 'subsample': 0.8}, mean: -0.96864, std: 0.02392, params: {'boosting_type': 'gbdt', 'colsample_bytree': 0.8, 'n_estimators': 48, 'num_leaves': 16, 'subsample': 0.9}, mean: -0.97497, std: 0.02727, params: {'boosting_type': 'gbdt', 'colsample_bytree': 0.8, 'n_estimators': 48, 'num_leaves': 22, 'subsample': 0.7}, mean: -0.96468, std: 0.03319, params: {'boosting_type': 'gbdt', 'colsample_bytree': 0.8, 'n_estimators': 48, 'num_leaves': 22, 'subsample': 0.8}, mean: -0.96573, std: 0.03123, params: {'boosting_type': 'gbdt', 'colsample_bytree': 0.8, 'n_estimators': 48, 'num_leaves': 22, 'subsample': 0.9}, mean: -1.57476, std: 0.01684, params: {'boosting_type': 'gbdt', 'colsample_bytree': 0.9, 'n_estimators': 8, 'num_leaves': 6, 'subsample': 0.7}, mean: -1.57487, std: 0.02395, params: {'boosting_type': 'gbdt', 'colsample_bytree': 0.9, 'n_estimators': 8, 'num_leaves': 6, 'subsample': 0.8}, mean: -1.57436, std: 0.01903, params: {'boosting_type': 'gbdt', 'colsample_bytree': 0.9, 'n_estimators': 8, 'num_leaves': 6, 'subsample': 0.9}, mean: -1.50697, std: 0.01602, params: {'boosting_type': 'gbdt', 'colsample_bytree': 0.9, 'n_estimators': 8, 'num_leaves': 12, 'subsample': 0.7}, mean: -1.50318, std: 0.01535, params: {'boosting_type': 'gbdt', 'colsample_bytree': 0.9, 'n_estimators': 8, 'num_leaves': 12, 'subsample': 0.8}, mean: -1.50365, std: 0.01509, params: {'boosting_type': 'gbdt', 'colsample_bytree': 0.9, 'n_estimators': 8, 'num_leaves': 12, 'subsample': 0.9}, mean: -1.48606, std: 0.01564, params: {'boosting_type': 'gbdt', 'colsample_bytree': 0.9, 'n_estimators': 8, 'num_leaves': 16, 'subsample': 0.7}, mean: -1.48092, std: 0.01413, params: {'boosting_type': 'gbdt', 'colsample_bytree': 0.9, 'n_estimators': 8, 'num_leaves': 16, 'subsample': 0.8}, mean: -1.47321, std: 0.01462, params: {'boosting_type': 'gbdt', 'colsample_bytree': 0.9, 'n_estimators': 8, 'num_leaves': 16, 'subsample': 0.9}, mean: -1.46649, std: 0.01260, params: {'boosting_type': 'gbdt', 'colsample_bytree': 0.9, 'n_estimators': 8, 'num_leaves': 22, 'subsample': 0.7}, mean: -1.46111, std: 0.01160, params: {'boosting_type': 'gbdt', 'colsample_bytree': 0.9, 'n_estimators': 8, 'num_leaves': 22, 'subsample': 0.8}, mean: -1.45401, std: 0.01781, params: {'boosting_type': 'gbdt', 'colsample_bytree': 0.9, 'n_estimators': 8, 'num_leaves': 22, 'subsample': 0.9}, mean: -1.21638, std: 0.02342, params: {'boosting_type': 'gbdt', 'colsample_bytree': 0.9, 'n_estimators': 24, 'num_leaves': 6, 'subsample': 0.7}, mean: -1.21455, std: 0.02447, params: {'boosting_type': 'gbdt', 'colsample_bytree': 0.9, 'n_estimators': 24, 'num_leaves': 6, 'subsample': 0.8}, mean: -1.21477, std: 0.02375, params: {'boosting_type': 'gbdt', 'colsample_bytree': 0.9, 'n_estimators': 24, 'num_leaves': 6, 'subsample': 0.9}, mean: -1.13128, std: 0.01787, params: {'boosting_type': 'gbdt', 'colsample_bytree': 0.9, 'n_estimators': 24, 'num_leaves': 12, 'subsample': 0.7}, mean: -1.12410, std: 0.01917, params: {'boosting_type': 'gbdt', 'colsample_bytree': 0.9, 'n_estimators': 24, 'num_leaves': 12, 'subsample': 0.8}, mean: -1.12400, std: 0.01858, params: {'boosting_type': 'gbdt', 'colsample_bytree': 0.9, 'n_estimators': 24, 'num_leaves': 12, 'subsample': 0.9}, mean: -1.10484, std: 0.02006, params: {'boosting_type': 'gbdt', 'colsample_bytree': 0.9, 'n_estimators': 24, 'num_leaves': 16, 'subsample': 0.7}, mean: -1.10147, std: 0.02055, params: {'boosting_type': 'gbdt', 'colsample_bytree': 0.9, 'n_estimators': 24, 'num_leaves': 16, 'subsample': 0.8}, mean: -1.09475, std: 0.01880, params: {'boosting_type': 'gbdt', 'colsample_bytree': 0.9, 'n_estimators': 24, 'num_leaves': 16, 'subsample': 0.9}, mean: -1.08582, std: 0.01995, params: {'boosting_type': 'gbdt', 'colsample_bytree': 0.9, 'n_estimators': 24, 'num_leaves': 22, 'subsample': 0.7}, mean: -1.08222, std: 0.01624, params: {'boosting_type': 'gbdt', 'colsample_bytree': 0.9, 'n_estimators': 24, 'num_leaves': 22, 'subsample': 0.8}, mean: -1.07264, std: 0.02069, params: {'boosting_type': 'gbdt', 'colsample_bytree': 0.9, 'n_estimators': 24, 'num_leaves': 22, 'subsample': 0.9}, mean: -1.11117, std: 0.02351, params: {'boosting_type': 'gbdt', 'colsample_bytree': 0.9, 'n_estimators': 36, 'num_leaves': 6, 'subsample': 0.7}, mean: -1.11139, std: 0.02585, params: {'boosting_type': 'gbdt', 'colsample_bytree': 0.9, 'n_estimators': 36, 'num_leaves': 6, 'subsample': 0.8}, mean: -1.11140, std: 0.02360, params: {'boosting_type': 'gbdt', 'colsample_bytree': 0.9, 'n_estimators': 36, 'num_leaves': 6, 'subsample': 0.9}, mean: -1.03420, std: 0.01992, params: {'boosting_type': 'gbdt', 'colsample_bytree': 0.9, 'n_estimators': 36, 'num_leaves': 12, 'subsample': 0.7}, mean: -1.02663, std: 0.02278, params: {'boosting_type': 'gbdt', 'colsample_bytree': 0.9, 'n_estimators': 36, 'num_leaves': 12, 'subsample': 0.8}, mean: -1.02841, std: 0.02256, params: {'boosting_type': 'gbdt', 'colsample_bytree': 0.9, 'n_estimators': 36, 'num_leaves': 12, 'subsample': 0.9}, mean: -1.01416, std: 0.02447, params: {'boosting_type': 'gbdt', 'colsample_bytree': 0.9, 'n_estimators': 36, 'num_leaves': 16, 'subsample': 0.7}, mean: -1.01172, std: 0.02061, params: {'boosting_type': 'gbdt', 'colsample_bytree': 0.9, 'n_estimators': 36, 'num_leaves': 16, 'subsample': 0.8}, mean: -1.00710, std: 0.02579, params: {'boosting_type': 'gbdt', 'colsample_bytree': 0.9, 'n_estimators': 36, 'num_leaves': 16, 'subsample': 0.9}, mean: -0.99920, std: 0.02431, params: {'boosting_type': 'gbdt', 'colsample_bytree': 0.9, 'n_estimators': 36, 'num_leaves': 22, 'subsample': 0.7}, mean: -0.99834, std: 0.02111, params: {'boosting_type': 'gbdt', 'colsample_bytree': 0.9, 'n_estimators': 36, 'num_leaves': 22, 'subsample': 0.8}, mean: -0.98889, std: 0.02409, params: {'boosting_type': 'gbdt', 'colsample_bytree': 0.9, 'n_estimators': 36, 'num_leaves': 22, 'subsample': 0.9}, mean: -1.05393, std: 0.02350, params: {'boosting_type': 'gbdt', 'colsample_bytree': 0.9, 'n_estimators': 48, 'num_leaves': 6, 'subsample': 0.7}, mean: -1.05364, std: 0.02499, params: {'boosting_type': 'gbdt', 'colsample_bytree': 0.9, 'n_estimators': 48, 'num_leaves': 6, 'subsample': 0.8}, mean: -1.05323, std: 0.02255, params: {'boosting_type': 'gbdt', 'colsample_bytree': 0.9, 'n_estimators': 48, 'num_leaves': 6, 'subsample': 0.9}, mean: -0.98968, std: 0.02053, params: {'boosting_type': 'gbdt', 'colsample_bytree': 0.9, 'n_estimators': 48, 'num_leaves': 12, 'subsample': 0.7}, mean: -0.98143, std: 0.02819, params: {'boosting_type': 'gbdt', 'colsample_bytree': 0.9, 'n_estimators': 48, 'num_leaves': 12, 'subsample': 0.8}, mean: -0.98410, std: 0.02626, params: {'boosting_type': 'gbdt', 'colsample_bytree': 0.9, 'n_estimators': 48, 'num_leaves': 12, 'subsample': 0.9}, mean: -0.97584, std: 0.03147, params: {'boosting_type': 'gbdt', 'colsample_bytree': 0.9, 'n_estimators': 48, 'num_leaves': 16, 'subsample': 0.7}, mean: -0.97443, std: 0.02704, params: {'boosting_type': 'gbdt', 'colsample_bytree': 0.9, 'n_estimators': 48, 'num_leaves': 16, 'subsample': 0.8}, mean: -0.96847, std: 0.03133, params: {'boosting_type': 'gbdt', 'colsample_bytree': 0.9, 'n_estimators': 48, 'num_leaves': 16, 'subsample': 0.9}, mean: -0.96797, std: 0.02994, params: {'boosting_type': 'gbdt', 'colsample_bytree': 0.9, 'n_estimators': 48, 'num_leaves': 22, 'subsample': 0.7}, mean: -0.96957, std: 0.02679, params: {'boosting_type': 'gbdt', 'colsample_bytree': 0.9, 'n_estimators': 48, 'num_leaves': 22, 'subsample': 0.8}, mean: -0.95978, std: 0.02916, params: {'boosting_type': 'gbdt', 'colsample_bytree': 0.9, 'n_estimators': 48, 'num_leaves': 22, 'subsample': 0.9}]\n",
      "{'boosting_type': 'gbdt', 'colsample_bytree': 0.9, 'n_estimators': 48, 'num_leaves': 22, 'subsample': 0.9}\n",
      "-0.959776566797\n"
     ]
    },
    {
     "name": "stderr",
     "output_type": "stream",
     "text": [
      "C:\\Users\\Franck\\Documents\\Continuum\\Anaconda3\\lib\\site-packages\\sklearn\\model_selection\\_search.py:667: DeprecationWarning: The grid_scores_ attribute was deprecated in version 0.18 in favor of the more elaborate cv_results_ attribute. The grid_scores_ attribute will not be available from 0.20\n",
      "  DeprecationWarning)\n"
     ]
    }
   ],
   "source": [
    "clf_lgbm=LGBMClassifier(seed=26)\n",
    "param_test= {\n",
    "    'n_estimators': [8,24,36,48],\n",
    "    'num_leaves': [6,12,16,22],\n",
    "    'boosting_type' : ['gbdt'],\n",
    "    'colsample_bytree' : [0.7,0.8,0.9],\n",
    "    'subsample' : [0.7,0.8,0.9]\n",
    "    }\n",
    "for name in work_train_final:\n",
    "    gsearch=GridSearchCV(estimator=clf_lgbm, param_grid = param_test,scoring=\"neg_log_loss\",n_jobs=-1,iid=False, cv=kf,verbose=True)\n",
    "    gsearch.fit(np.array(work_train_final[name]),y)\n",
    "    print(name)\n",
    "    print(gsearch.grid_scores_)\n",
    "    print(gsearch.best_params_)\n",
    "    print(gsearch.best_score_)\n",
    "#bio: {'boosting_type': 'gbdt', 'colsample_bytree': 0.8, 'n_estimators': 48, 'num_leaves': 16, 'subsample': 0.8}-0.940803913351\n",
    "#f_tfidf:{'boosting_type': 'gbdt', 'colsample_bytree': 0.8, 'n_estimators': 48, 'num_leaves': 16, 'subsample': 0.9}-0.919518508725\n",
    "#w_tfidf:{'boosting_type': 'gbdt', 'colsample_bytree': 0.7, 'n_estimators': 48, 'num_leaves': 22, 'subsample': 0.9}-0.948070297381\n",
    "#w2v:{'boosting_type': 'gbdt', 'colsample_bytree': 0.9, 'n_estimators': 48, 'num_leaves': 22, 'subsample': 0.9}\n",
    "    \n",
    "#bio :{'boosting_type': 'gbdt', 'colsample_bytree': 0.7, 'n_estimators': 48, 'num_leaves': 22, 'subsample': 0.9}\n",
    "#-0.950704488318\n",
    "#tfidf : {'boosting_type': 'gbdt', 'colsample_bytree': 0.9, 'n_estimators': 48, 'num_leaves': 22, 'subsample': 0.8}\n",
    "#-0.93280968028\n",
    "#w2v : {'boosting_type': 'gbdt', 'colsample_bytree': 0.7, 'n_estimators': 48, 'num_leaves': 22, 'subsample': 0.9}\n",
    "#-0.948655365308"
   ]
  },
  {
   "cell_type": "code",
   "execution_count": null,
   "metadata": {},
   "outputs": [
    {
     "name": "stdout",
     "output_type": "stream",
     "text": [
      "Fitting 5 folds for each of 14 candidates, totalling 70 fits\n"
     ]
    },
    {
     "name": "stderr",
     "output_type": "stream",
     "text": [
      "[Parallel(n_jobs=-1)]: Done  42 tasks      | elapsed:  1.1min\n",
      "[Parallel(n_jobs=-1)]: Done  70 out of  70 | elapsed:  3.3min finished\n"
     ]
    },
    {
     "name": "stdout",
     "output_type": "stream",
     "text": [
      "bio\n",
      "[mean: -1.34129, std: 0.02130, params: {'C': 0.1, 'penalty': 'l1'}, mean: -1.29818, std: 0.02134, params: {'C': 0.1, 'penalty': 'l2'}, mean: -1.26131, std: 0.03781, params: {'C': 1, 'penalty': 'l1'}, mean: -1.24582, std: 0.03244, params: {'C': 1, 'penalty': 'l2'}, mean: -1.20613, std: 0.04483, params: {'C': 3, 'penalty': 'l1'}, mean: -1.21823, std: 0.04047, params: {'C': 3, 'penalty': 'l2'}, mean: -1.20005, std: 0.05505, params: {'C': 5, 'penalty': 'l1'}, mean: -1.20715, std: 0.04490, params: {'C': 5, 'penalty': 'l2'}, mean: -1.19912, std: 0.08141, params: {'C': 10, 'penalty': 'l1'}, mean: -1.19514, std: 0.05243, params: {'C': 10, 'penalty': 'l2'}, mean: -1.20595, std: 0.09898, params: {'C': 15, 'penalty': 'l1'}, mean: -1.19004, std: 0.05754, params: {'C': 15, 'penalty': 'l2'}, mean: -1.22286, std: 0.11391, params: {'C': 20, 'penalty': 'l1'}, mean: -1.18718, std: 0.06126, params: {'C': 20, 'penalty': 'l2'}]\n",
      "{'C': 20, 'penalty': 'l2'}\n",
      "-1.18718175531\n",
      "Fitting 5 folds for each of 14 candidates, totalling 70 fits\n"
     ]
    },
    {
     "name": "stderr",
     "output_type": "stream",
     "text": [
      "C:\\Users\\Franck\\Documents\\Continuum\\Anaconda3\\lib\\site-packages\\sklearn\\model_selection\\_search.py:667: DeprecationWarning: The grid_scores_ attribute was deprecated in version 0.18 in favor of the more elaborate cv_results_ attribute. The grid_scores_ attribute will not be available from 0.20\n",
      "  DeprecationWarning)\n",
      "[Parallel(n_jobs=-1)]: Done  42 tasks      | elapsed:   57.9s\n",
      "[Parallel(n_jobs=-1)]: Done  70 out of  70 | elapsed:  2.8min finished\n"
     ]
    },
    {
     "name": "stdout",
     "output_type": "stream",
     "text": [
      "full_tfidf_100\n",
      "[mean: -1.33443, std: 0.02141, params: {'C': 0.1, 'penalty': 'l1'}, mean: -1.25380, std: 0.02046, params: {'C': 0.1, 'penalty': 'l2'}, mean: -1.11906, std: 0.03170, params: {'C': 1, 'penalty': 'l1'}, mean: -1.12360, std: 0.02740, params: {'C': 1, 'penalty': 'l2'}, mean: -1.06867, std: 0.03809, params: {'C': 3, 'penalty': 'l1'}, mean: -1.08156, std: 0.03509, params: {'C': 3, 'penalty': 'l2'}, mean: -1.07410, std: 0.05010, params: {'C': 5, 'penalty': 'l1'}, mean: -1.06996, std: 0.04011, params: {'C': 5, 'penalty': 'l2'}, mean: -1.10278, std: 0.07014, params: {'C': 10, 'penalty': 'l1'}, mean: -1.06522, std: 0.04864, params: {'C': 10, 'penalty': 'l2'}, mean: -1.12291, std: 0.08151, params: {'C': 15, 'penalty': 'l1'}, mean: -1.06836, std: 0.05443, params: {'C': 15, 'penalty': 'l2'}, mean: -1.13997, std: 0.08822, params: {'C': 20, 'penalty': 'l1'}, mean: -1.07308, std: 0.05909, params: {'C': 20, 'penalty': 'l2'}]\n",
      "{'C': 10, 'penalty': 'l2'}\n",
      "-1.06521558156\n",
      "Fitting 5 folds for each of 14 candidates, totalling 70 fits\n"
     ]
    },
    {
     "name": "stderr",
     "output_type": "stream",
     "text": [
      "C:\\Users\\Franck\\Documents\\Continuum\\Anaconda3\\lib\\site-packages\\sklearn\\model_selection\\_search.py:667: DeprecationWarning: The grid_scores_ attribute was deprecated in version 0.18 in favor of the more elaborate cv_results_ attribute. The grid_scores_ attribute will not be available from 0.20\n",
      "  DeprecationWarning)\n",
      "[Parallel(n_jobs=-1)]: Done  42 tasks      | elapsed:   56.7s\n",
      "[Parallel(n_jobs=-1)]: Done  70 out of  70 | elapsed:  2.5min finished\n"
     ]
    },
    {
     "name": "stdout",
     "output_type": "stream",
     "text": [
      "wind_tfidf_100\n",
      "[mean: -1.33526, std: 0.02130, params: {'C': 0.1, 'penalty': 'l1'}, mean: -1.26977, std: 0.02052, params: {'C': 0.1, 'penalty': 'l2'}, mean: -1.15655, std: 0.02898, params: {'C': 1, 'penalty': 'l1'}, mean: -1.15076, std: 0.02589, params: {'C': 1, 'penalty': 'l2'}, mean: -1.08880, std: 0.03395, params: {'C': 3, 'penalty': 'l1'}, mean: -1.10656, std: 0.03229, params: {'C': 3, 'penalty': 'l2'}, mean: -1.09192, std: 0.03984, params: {'C': 5, 'penalty': 'l1'}, mean: -1.09412, std: 0.03689, params: {'C': 5, 'penalty': 'l2'}, mean: -1.13130, std: 0.05753, params: {'C': 10, 'penalty': 'l1'}, mean: -1.08898, std: 0.04524, params: {'C': 10, 'penalty': 'l2'}, mean: -1.16132, std: 0.06712, params: {'C': 15, 'penalty': 'l1'}, mean: -1.09235, std: 0.05084, params: {'C': 15, 'penalty': 'l2'}, mean: -1.18078, std: 0.07084, params: {'C': 20, 'penalty': 'l1'}, mean: -1.09760, std: 0.05499, params: {'C': 20, 'penalty': 'l2'}]\n",
      "{'C': 3, 'penalty': 'l1'}\n",
      "-1.08879678537\n",
      "Fitting 5 folds for each of 14 candidates, totalling 70 fits\n"
     ]
    },
    {
     "name": "stderr",
     "output_type": "stream",
     "text": [
      "C:\\Users\\Franck\\Documents\\Continuum\\Anaconda3\\lib\\site-packages\\sklearn\\model_selection\\_search.py:667: DeprecationWarning: The grid_scores_ attribute was deprecated in version 0.18 in favor of the more elaborate cv_results_ attribute. The grid_scores_ attribute will not be available from 0.20\n",
      "  DeprecationWarning)\n",
      "[Parallel(n_jobs=-1)]: Done  42 tasks      | elapsed:  2.0min\n",
      "[Parallel(n_jobs=-1)]: Done  70 out of  70 | elapsed:  6.2min finished\n"
     ]
    },
    {
     "name": "stdout",
     "output_type": "stream",
     "text": [
      "w2v_300\n",
      "[mean: -1.28686, std: 0.02603, params: {'C': 0.1, 'penalty': 'l1'}, mean: -1.17979, std: 0.02229, params: {'C': 0.1, 'penalty': 'l2'}, mean: -1.15466, std: 0.03663, params: {'C': 1, 'penalty': 'l1'}, mean: -1.13328, std: 0.03529, params: {'C': 1, 'penalty': 'l2'}, mean: -1.13651, std: 0.04192, params: {'C': 3, 'penalty': 'l1'}, mean: -1.13500, std: 0.04298, params: {'C': 3, 'penalty': 'l2'}, mean: -1.14653, std: 0.04598, params: {'C': 5, 'penalty': 'l1'}, mean: -1.13986, std: 0.04628, params: {'C': 5, 'penalty': 'l2'}, mean: -1.17009, std: 0.05256, params: {'C': 10, 'penalty': 'l1'}, mean: -1.15060, std: 0.05134, params: {'C': 10, 'penalty': 'l2'}, mean: -1.19267, std: 0.06169, params: {'C': 15, 'penalty': 'l1'}, mean: -1.15868, std: 0.05461, params: {'C': 15, 'penalty': 'l2'}, mean: -1.21234, std: 0.07081, params: {'C': 20, 'penalty': 'l1'}, mean: -1.16503, std: 0.05699, params: {'C': 20, 'penalty': 'l2'}]\n",
      "{'C': 1, 'penalty': 'l2'}\n",
      "-1.13328444281\n"
     ]
    },
    {
     "name": "stderr",
     "output_type": "stream",
     "text": [
      "C:\\Users\\Franck\\Documents\\Continuum\\Anaconda3\\lib\\site-packages\\sklearn\\model_selection\\_search.py:667: DeprecationWarning: The grid_scores_ attribute was deprecated in version 0.18 in favor of the more elaborate cv_results_ attribute. The grid_scores_ attribute will not be available from 0.20\n",
      "  DeprecationWarning)\n"
     ]
    }
   ],
   "source": [
    "clf_log=LogisticRegression()\n",
    "param_test= {\n",
    "    \"C\" : [0.1,1,3,5,10,15,20],\n",
    "    \"penalty\" : [\"l1\",\"l2\"]\n",
    "}\n",
    "for name in work_train_final:\n",
    "    gsearch=GridSearchCV(estimator=clf_log, param_grid = param_test,scoring=\"neg_log_loss\",n_jobs=-1,iid=False, cv=kf,verbose=True)\n",
    "    gsearch.fit(np.array(work_train_final[name]),y)\n",
    "    print(name)\n",
    "    print(gsearch.grid_scores_)\n",
    "    print(gsearch.best_params_)\n",
    "    print(gsearch.best_score_)\n",
    "    \n",
    "#bio:\n",
    "#f_tfidf:\n",
    "#w_tfidf:\n",
    "#w2v:\n",
    "    \n",
    "#bio : {'C': 10, 'penalty': 'l2'}\n",
    "#tfidf : {'C': 9, 'penalty': 'l2'}\n",
    "#w2v : {'C': 5, 'penalty': 'l2'}"
   ]
  },
  {
   "cell_type": "code",
   "execution_count": null,
   "metadata": {},
   "outputs": [
    {
     "name": "stdout",
     "output_type": "stream",
     "text": [
      "Fitting 5 folds for each of 15 candidates, totalling 75 fits\n"
     ]
    }
   ],
   "source": [
    "clf_dt=RandomForestClassifier()\n",
    "param_test={\n",
    "    \"max_depth\":[11,13,15,17,19],\n",
    "    \"n_estimators\":[250,300,350]\n",
    "}\n",
    "for name in work_train_final:\n",
    "    gsearch=GridSearchCV(estimator=clf_dt, param_grid = param_test,scoring=\"neg_log_loss\",n_jobs=-1,iid=False, cv=kf,verbose=True)\n",
    "    gsearch.fit(np.array(work_train_final[name]),y)\n",
    "    print(name)\n",
    "    print(gsearch.grid_scores_)\n",
    "    print(gsearch.best_params_)\n",
    "    print(gsearch.best_score_)\n",
    "    \n",
    "#bio:\n",
    "#f_tfidf:\n",
    "#w_tfidf:\n",
    "#w2v:\n",
    "\n",
    "#bio : {'max_depth': 15, 'n_estimators': 300} -0.957419688259 ok\n",
    "#tfidf : {'max_depth': 13, 'n_estimators': 350} -0.920825809843 ok \n",
    "#w2v :{'max_depth': 15, 'n_estimators': 300} -0.972048498265"
   ]
  },
  {
   "cell_type": "markdown",
   "metadata": {},
   "source": [
    "# TRAINING PHASE ALL ALGOS "
   ]
  },
  {
   "cell_type": "code",
   "execution_count": 23,
   "metadata": {},
   "outputs": [],
   "source": [
    "def model_gen(X,X_test,y,classifier,file,five_fold_predict=True):\n",
    "    #if not os.path.exists(\"scores/\"+file):\n",
    "    #   os.makedirs(\"scores/\"+file)\n",
    "    if five_fold_predict:\n",
    "        fold = 0\n",
    "        y_test=0\n",
    "        for train_index, test_index in kf.split(X, y):\n",
    "        \n",
    "            fold += 1\n",
    "\n",
    "            X_train, X_valid    = X[train_index],   X[test_index]\n",
    "            y_train, y_valid    = y[train_index],   y[test_index]\n",
    "\n",
    "            print(\"Fold\", fold, X_train.shape, X_valid.shape)\n",
    "\n",
    "            clf=classifier\n",
    "            clf.fit(X_train,y_train)\n",
    "            p_test = clf.predict_proba(X_test)\n",
    "            y_test += p_test/5\n",
    "\n",
    "    classes = \"class1,class2,class3,class4,class5,class6,class7,class8,class9\".split(',')\n",
    "    subm = pd.DataFrame(y_test, columns=classes)\n",
    "    subm['ID'] = ID_test\n",
    "    \n",
    "    subm.to_csv(\"new_scores/new_stack_test/new_stem_{}.csv\".format(file),index=False)\n",
    "    \n",
    "    print(\"cross_val sur train \") #peut etre que to array est exclusivement pour les xgb\n",
    "\n",
    "    y_pred=cross_val_predict(estimator=clf,X=X,y=y,cv=kf,method=\"predict_proba\")\n",
    "    subm1 = pd.DataFrame(y_pred, columns=classes)\n",
    "    subm1['ID'] = ID_train\n",
    "    subm1.to_csv(\"new_scores/new_stack_train/new_stem_{}.csv\".format(file),index=False)\n"
   ]
  },
  {
   "cell_type": "code",
   "execution_count": 138,
   "metadata": {
    "collapsed": true
   },
   "outputs": [
    {
     "name": "stdout",
     "output_type": "stream",
     "text": [
      "xgboost here\n",
      "Fold 1 (2946, 142) (743, 142)\n",
      "Fold 2 (2949, 142) (740, 142)\n",
      "Fold 3 (2952, 142) (737, 142)\n",
      "Fold 4 (2954, 142) (735, 142)\n",
      "Fold 5 (2955, 142) (734, 142)\n",
      "cross_val sur train \n",
      "Fold 1 (2946, 142) (743, 142)\n",
      "Fold 2 (2949, 142) (740, 142)\n",
      "Fold 3 (2952, 142) (737, 142)\n",
      "Fold 4 (2954, 142) (735, 142)\n",
      "Fold 5 (2955, 142) (734, 142)\n",
      "cross_val sur train \n",
      "Fold 1 (2946, 243) (743, 243)\n",
      "Fold 2 (2949, 243) (740, 243)\n",
      "Fold 3 (2952, 243) (737, 243)\n",
      "Fold 4 (2954, 243) (735, 243)\n",
      "Fold 5 (2955, 243) (734, 243)\n",
      "cross_val sur train \n",
      "lgbm here\n",
      "Fold 1 (2946, 142) (743, 142)\n",
      "Fold 2 (2949, 142) (740, 142)\n",
      "Fold 3 (2952, 142) (737, 142)\n",
      "Fold 4 (2954, 142) (735, 142)\n",
      "Fold 5 (2955, 142) (734, 142)\n",
      "cross_val sur train \n",
      "Fold 1 (2946, 142) (743, 142)\n",
      "Fold 2 (2949, 142) (740, 142)\n",
      "Fold 3 (2952, 142) (737, 142)\n",
      "Fold 4 (2954, 142) (735, 142)\n",
      "Fold 5 (2955, 142) (734, 142)\n",
      "cross_val sur train \n",
      "Fold 1 (2946, 243) (743, 243)\n",
      "Fold 2 (2949, 243) (740, 243)\n",
      "Fold 3 (2952, 243) (737, 243)\n",
      "Fold 4 (2954, 243) (735, 243)\n",
      "Fold 5 (2955, 243) (734, 243)\n",
      "cross_val sur train \n",
      "logreg here\n",
      "Fold 1 (2946, 142) (743, 142)\n",
      "Fold 2 (2949, 142) (740, 142)\n",
      "Fold 3 (2952, 142) (737, 142)\n",
      "Fold 4 (2954, 142) (735, 142)\n",
      "Fold 5 (2955, 142) (734, 142)\n",
      "cross_val sur train \n",
      "Fold 1 (2946, 142) (743, 142)\n",
      "Fold 2 (2949, 142) (740, 142)\n",
      "Fold 3 (2952, 142) (737, 142)\n",
      "Fold 4 (2954, 142) (735, 142)\n",
      "Fold 5 (2955, 142) (734, 142)\n",
      "cross_val sur train \n",
      "Fold 1 (2946, 243) (743, 243)\n",
      "Fold 2 (2949, 243) (740, 243)\n",
      "Fold 3 (2952, 243) (737, 243)\n",
      "Fold 4 (2954, 243) (735, 243)\n",
      "Fold 5 (2955, 243) (734, 243)\n",
      "cross_val sur train \n",
      "adaboost here\n",
      "Fold 1 (2946, 142) (743, 142)\n",
      "Fold 2 (2949, 142) (740, 142)\n",
      "Fold 3 (2952, 142) (737, 142)\n",
      "Fold 4 (2954, 142) (735, 142)\n",
      "Fold 5 (2955, 142) (734, 142)\n",
      "cross_val sur train \n",
      "Fold 1 (2946, 142) (743, 142)\n",
      "Fold 2 (2949, 142) (740, 142)\n",
      "Fold 3 (2952, 142) (737, 142)\n",
      "Fold 4 (2954, 142) (735, 142)\n",
      "Fold 5 (2955, 142) (734, 142)\n",
      "cross_val sur train \n",
      "Fold 1 (2946, 243) (743, 243)\n",
      "Fold 2 (2949, 243) (740, 243)\n",
      "Fold 3 (2952, 243) (737, 243)\n",
      "Fold 4 (2954, 243) (735, 243)\n",
      "Fold 5 (2955, 243) (734, 243)\n",
      "cross_val sur train \n",
      "random forest here\n",
      "Fold 1 (2946, 142) (743, 142)\n",
      "Fold 2 (2949, 142) (740, 142)\n",
      "Fold 3 (2952, 142) (737, 142)\n",
      "Fold 4 (2954, 142) (735, 142)\n",
      "Fold 5 (2955, 142) (734, 142)\n",
      "cross_val sur train \n",
      "Fold 1 (2946, 142) (743, 142)\n",
      "Fold 2 (2949, 142) (740, 142)\n",
      "Fold 3 (2952, 142) (737, 142)\n",
      "Fold 4 (2954, 142) (735, 142)\n",
      "Fold 5 (2955, 142) (734, 142)\n",
      "cross_val sur train \n",
      "Fold 1 (2946, 243) (743, 243)\n",
      "Fold 2 (2949, 243) (740, 243)\n",
      "Fold 3 (2952, 243) (737, 243)\n",
      "Fold 4 (2954, 243) (735, 243)\n",
      "Fold 5 (2955, 243) (734, 243)\n",
      "cross_val sur train \n"
     ]
    }
   ],
   "source": [
    "dic_xgb={\"xgb_bio\":XGBClassifier(colsample_bytree=0.8,max_depth=7,min_child_weight=3,n_estimators=100,subsample=0.8,objective=\"multi:softprob\",seed=26),\n",
    "        \"xgb_w_tfidf\":XGBClassifier(colsample_bytree=0.8,max_depth=5,min_child_weight=3,n_estimators=100,subsample=1,objective=\"multi:softprob\",seed=26),\n",
    "        \"xgb_f_tfidf\"::XGBClassifier(colsample_bytree=0.8,max_depth=5,min_child_weight=3,n_estimators=100,subsample=1,objective=\"multi:softprob\",seed=26),\n",
    "        \"xgb_w2v\":XGBClassifier(colsample_bytree=0.8,max_depth=5,min_child_weight=3,n_estimators=100,subsample=0.8,objective=\"multi:softprob\",seed=26)}\n",
    "dic_lgbm={\"lgbm_bio\":LGBMClassifier(boosting_type=\"gbdt\",colsample_bytree=0.8,n_estimators=48,num_leaves=22,subsample=0.8,seed=26),\n",
    "        \"lgbm_w_tfidf\":LGBMClassifier(boosting_type=\"gbdt\",colsample_bytree=0.8,n_estimators=48,num_leaves=22,subsample=0.8,seed=26),\n",
    "        \"lgbm_f_tfidf\":LGBMClassifier(boosting_type=\"gbdt\",colsample_bytree=0.8,n_estimators=48,num_leaves=22,subsample=0.8,seed=26),\n",
    "        \"lgbm_w2v\":LGBMClassifier(boosting_type=\"gbdt\",colsample_bytree=0.8,n_estimators=48,num_leaves=22,subsample=0.8,seed=26)}\n",
    "dic_lr={\"lr_bio\":LogisticRegression(C=10,penalty=\"l1\"),\n",
    "        \"lr_w_tfidf\":LogisticRegression(C=10,penalty=\"l1\"),\n",
    "        \"lr_f_tfidf\":LogisticRegression(C=10,penalty=\"l1\"),\n",
    "        \"lr_w2v\":LogisticRegression(C=1,penalty=\"l1\")}\n",
    "dic_rf={\"rf_bio\":RandomForestClassifier(n_estimators=400,max_depth=25,random_state=26),\n",
    "        \"rf_w_tfidf\":RandomForestClassifier(n_estimators=400,max_depth=20,random_state=26),\n",
    "        \"rf_f_tfidf\":RandomForestClassifier(n_estimators=400,max_depth=20,random_state=26),\n",
    "        \"rf_w2v\":RandomForestClassifier(n_estimators=300,max_depth=15,random_state=26)}\n",
    "\n",
    "print(\"xgboost here\")\n",
    "for clf,name in zip(dic_xgb.keys(),work_train_final.keys()):\n",
    "    model_gen(X=np.array(work_train_final[name]),X_test=np.array(work_test_final[name]),y=y,classifier=dic_xgb[clf],file=clf)\n",
    "print(\"lgbm here\")\n",
    "for clf,name in zip(dic_lgbm.keys(),work_train_final.keys()):\n",
    "    model_gen(X=np.array(work_train_final[name]),X_test=np.array(work_test_final[name]),y=y,classifier=dic_lgbm[clf],file=clf)\n",
    "print(\"logreg here\")\n",
    "for clf,name in zip(dic_lr.keys(),work_train_final.keys()):\n",
    "    model_gen(X=np.array(work_train_final[name]),X_test=np.array(work_test_final[name]),y=y,classifier=dic_lr[clf],file=clf)\n",
    "print(\"random forest here\")\n",
    "for clf,name in zip(dic_rf.keys(),work_train_final.keys()):\n",
    "    model_gen(X=np.array(work_train_final[name]),X_test=np.array(work_test_final[name]),y=y,classifier=dic_rf[clf],file=clf)\n",
    "\n"
   ]
  },
  {
   "cell_type": "code",
   "execution_count": null,
   "metadata": {},
   "outputs": [],
   "source": [
    "work_train_final"
   ]
  },
  {
   "cell_type": "code",
   "execution_count": null,
   "metadata": {},
   "outputs": [],
   "source": []
  }
 ],
 "metadata": {
  "kernelspec": {
   "display_name": "Python 3",
   "language": "python",
   "name": "python3"
  },
  "language_info": {
   "codemirror_mode": {
    "name": "ipython",
    "version": 3
   },
   "file_extension": ".py",
   "mimetype": "text/x-python",
   "name": "python",
   "nbconvert_exporter": "python",
   "pygments_lexer": "ipython3",
   "version": "3.6.1"
  }
 },
 "nbformat": 4,
 "nbformat_minor": 2
}
