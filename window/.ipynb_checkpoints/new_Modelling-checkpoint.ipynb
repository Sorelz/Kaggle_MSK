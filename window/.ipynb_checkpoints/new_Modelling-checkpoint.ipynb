{
 "cells": [
  {
   "cell_type": "code",
   "execution_count": 20,
   "metadata": {
    "scrolled": true
   },
   "outputs": [],
   "source": [
    "import numpy as np\n",
    "import pandas as pd\n",
    "import scipy.sparse as ssp\n",
    "import sklearn\n",
    "from sklearn.feature_extraction.text import TfidfVectorizer\n",
    "from sklearn import metrics, model_selection\n",
    "from sklearn.linear_model import LogisticRegression\n",
    "import xgboost as xgb\n",
    "from xgboost import XGBClassifier\n",
    "from sklearn import svm\n",
    "from sklearn.neighbors import KNeighborsClassifier\n",
    "from sklearn.model_selection import cross_val_predict,cross_val_score\n",
    "from sklearn.decomposition import TruncatedSVD\n",
    "from sklearn.ensemble import BaggingClassifier\n",
    "from sklearn.ensemble import AdaBoostClassifier\n",
    "import lightgbm\n",
    "from lightgbm.sklearn import LGBMClassifier\n",
    "import os \n",
    "import re\n",
    "from sklearn.model_selection import GridSearchCV\n",
    "from sklearn.ensemble import RandomForestClassifier "
   ]
  },
  {
   "cell_type": "markdown",
   "metadata": {},
   "source": [
    "# I will use cross_val_score on XGBoost to select 100,200 or 300 for each preprocess"
   ]
  },
  {
   "cell_type": "code",
   "execution_count": 2,
   "metadata": {},
   "outputs": [],
   "source": [
    "work_train_w2v = {} \n",
    "work_test_w2v = {}\n",
    "pre_process=[\"w2v_100.csv\",\"w2v_200.csv\",\"w2v_300.csv\"]\n",
    "path=\"checkpoints_databases/\"\n",
    "for f in pre_process:\n",
    "    work_train_w2v[re.sub(\"\\.csv\",\"\",f)] = pd.read_csv(path+\"new_working_train_\"+f)\n",
    "    work_test_w2v[re.sub(\"\\.csv\",\"\",f)] = pd.read_csv(path+\"new_working_test_\"+f)"
   ]
  },
  {
   "cell_type": "code",
   "execution_count": 3,
   "metadata": {},
   "outputs": [],
   "source": [
    "work_train_bio = {} \n",
    "work_test_bio = {}\n",
    "pre_process=[\"bio.csv\"]\n",
    "path=\"checkpoints_databases/\"\n",
    "for f in pre_process:\n",
    "    work_train_bio[re.sub(\"\\.csv\",\"\",f)] = pd.read_csv(path+\"new_working_train_\"+f)\n",
    "    work_test_bio[re.sub(\"\\.csv\",\"\",f)] = pd.read_csv(path+\"new_working_test_\"+f)"
   ]
  },
  {
   "cell_type": "code",
   "execution_count": 4,
   "metadata": {},
   "outputs": [],
   "source": [
    "work_train_tfidf = {} \n",
    "work_test_tfidf = {}\n",
    "pre_process=[\"tfidf_tsvd_100.csv\",\"tfidf_tsvd_200.csv\",\"tfidf_tsvd_300.csv\"]\n",
    "path=\"checkpoints_databases/\"\n",
    "for f in pre_process:\n",
    "    work_train_tfidf[re.sub(\"\\.csv\",\"\",f)] = pd.read_csv(path+\"new_working_train_\"+f)\n",
    "    work_test_tfidf[re.sub(\"\\.csv\",\"\",f)] = pd.read_csv(path+\"new_working_test_\"+f)"
   ]
  },
  {
   "cell_type": "code",
   "execution_count": 21,
   "metadata": {},
   "outputs": [],
   "source": [
    "new_train=pd.read_csv(\"checkpoints_databases/new_working_train.csv\")\n",
    "new_test=pd.read_csv(\"checkpoints_databases/new_working_test.csv\")"
   ]
  },
  {
   "cell_type": "code",
   "execution_count": 22,
   "metadata": {
    "scrolled": true
   },
   "outputs": [],
   "source": [
    "y=np.array(new_train.Class)-1"
   ]
  },
  {
   "cell_type": "code",
   "execution_count": 23,
   "metadata": {},
   "outputs": [],
   "source": [
    "ID_train=new_train.ID\n",
    "ID_test=new_test.ID\n"
   ]
  },
  {
   "cell_type": "code",
   "execution_count": 24,
   "metadata": {},
   "outputs": [],
   "source": [
    "kf = model_selection.StratifiedKFold(n_splits=5, random_state=26, shuffle=True)"
   ]
  },
  {
   "cell_type": "markdown",
   "metadata": {},
   "source": [
    "Start "
   ]
  },
  {
   "cell_type": "code",
   "execution_count": 33,
   "metadata": {},
   "outputs": [
    {
     "name": "stdout",
     "output_type": "stream",
     "text": [
      "meanw2v_100 -1.07331330963 std:w2v_100 0.0364550094376\n",
      "meanw2v_200 -1.08126323561 std:w2v_200 0.0447141389549\n",
      "meanw2v_300 -1.06656954989 std:w2v_300 0.0304045282825\n"
     ]
    }
   ],
   "source": [
    "clf_xgb=XGBClassifier(max_depth=5, objective=\"multi:softprob\",seed=26)\n",
    "for name in work_train_w2v:\n",
    "    h=cross_val_score(clf_xgb,np.array(work_train_w2v[name]),y,cv=kf,n_jobs=-1,scoring=\"neg_log_loss\")\n",
    "    print(\"mean\"+name+\" \"+str(h.mean()),\n",
    "         \"std:\"+name+\" \"+str(h.std()))\n",
    "#300"
   ]
  },
  {
   "cell_type": "code",
   "execution_count": 34,
   "metadata": {},
   "outputs": [
    {
     "name": "stdout",
     "output_type": "stream",
     "text": [
      "meanbio -1.09764345161 std:bio 0.034944053108\n"
     ]
    }
   ],
   "source": [
    "for name in work_train_bio:\n",
    "    h=cross_val_score(clf_xgb,np.array(work_train_bio[name]),y,cv=kf,n_jobs=-1,scoring=\"neg_log_loss\")\n",
    "    print(\"mean\"+name+\" \"+str(h.mean()),\n",
    "         \"std:\"+name+\" \"+str(h.std()))\n",
    "#k"
   ]
  },
  {
   "cell_type": "code",
   "execution_count": 35,
   "metadata": {
    "scrolled": true
   },
   "outputs": [
    {
     "name": "stdout",
     "output_type": "stream",
     "text": [
      "meantfidf_tsvd_100 -1.00962632533 std:tfidf_tsvd_100 0.0343409770402\n",
      "meantfidf_tsvd_200 -1.01784942814 std:tfidf_tsvd_200 0.0316089971765\n",
      "meantfidf_tsvd_300 -1.01995911039 std:tfidf_tsvd_300 0.0456225357959\n"
     ]
    }
   ],
   "source": [
    "for name in work_train_tfidf:\n",
    "    h=cross_val_score(clf_xgb,np.array(work_train_tfidf[name]),y,cv=kf,n_jobs=-1,scoring=\"neg_log_loss\")\n",
    "    print(\"mean\"+name+\" \"+str(h.mean()),\n",
    "         \"std:\"+name+\" \"+str(h.std()))\n",
    "#100 tsvd"
   ]
  },
  {
   "cell_type": "markdown",
   "metadata": {},
   "source": [
    "# GRID SEARCH PHASE ALL ALGOS"
   ]
  },
  {
   "cell_type": "code",
   "execution_count": 7,
   "metadata": {},
   "outputs": [],
   "source": [
    "work_train= {} \n",
    "work_test = {}\n",
    "#To complete\n",
    "pre_process=[\"bio.csv\",\"tfidf_tsvd_100.csv\",\"w2v_300.csv\"]\n",
    "path=\"checkpoints_databases/\"\n",
    "for f in pre_process:\n",
    "    work_train[re.sub(\"\\.csv\",\"\",f)] = pd.read_csv(path+\"new_working_train_\"+f)\n",
    "    work_test[re.sub(\"\\.csv\",\"\",f)] = pd.read_csv(path+\"new_working_test_\"+f)"
   ]
  },
  {
   "cell_type": "code",
   "execution_count": 31,
   "metadata": {},
   "outputs": [],
   "source": [
    "feat_train=pd.read_csv(\"../window/w_meta_features/meta_train_l1l2.csv\")\n",
    "feat_test=pd.read_csv(\"../window/w_meta_features/meta_test_l1l2.csv\")\n",
    "feat_train=feat_train.drop(\"ID\",axis=1)\n",
    "feat_test=feat_test.drop(\"ID\",axis=1)\n",
    "feat_ext_train=pd.read_csv(\"w_meta_features/new_working_train_ext.csv\")\n",
    "feat_ext_test=pd.read_csv(\"w_meta_features/new_working_test_ext.csv\")"
   ]
  },
  {
   "cell_type": "code",
   "execution_count": 15,
   "metadata": {},
   "outputs": [],
   "source": [
    "#add a \"external model\" xgb alone"
   ]
  },
  {
   "cell_type": "code",
   "execution_count": 15,
   "metadata": {},
   "outputs": [],
   "source": [
    "ext_bio=pd.read_csv(\"../l2_meta_features/svd25_biological.csv\")\n",
    "ext_cell=pd.read_csv(\"../l2_meta_features/svd25_cellular.csv\")\n",
    "ext_mol=pd.read_csv(\"../l2_meta_features/svd25_molecular.csv\")"
   ]
  },
  {
   "cell_type": "code",
   "execution_count": 16,
   "metadata": {},
   "outputs": [],
   "source": [
    "ext_bio=ext_bio.drop([\"Class\",\"Gene\",\"ID\",\"Variation\"],axis=1)\n",
    "ext_cell=ext_cell.drop([\"Class\",\"Gene\",\"ID\",\"Variation\"],axis=1)\n",
    "ext_mol=ext_mol.drop([\"Class\",\"Gene\",\"ID\",\"Variation\"],axis=1)"
   ]
  },
  {
   "cell_type": "code",
   "execution_count": 17,
   "metadata": {},
   "outputs": [],
   "source": [
    "model_ext=pd.concat((ext_bio,ext_cell,ext_mol),axis=1)\n",
    "model_ext_train=model_ext[:len(y)]\n",
    "model_ext_test=model_ext[len(y):]"
   ]
  },
  {
   "cell_type": "code",
   "execution_count": null,
   "metadata": {
    "collapsed": true
   },
   "outputs": [
    {
     "name": "stdout",
     "output_type": "stream",
     "text": [
      "Fitting 5 folds for each of 48 candidates, totalling 240 fits\n"
     ]
    },
    {
     "name": "stderr",
     "output_type": "stream",
     "text": [
      "[Parallel(n_jobs=-1)]: Done  42 tasks      | elapsed:  2.4min\n",
      "[Parallel(n_jobs=-1)]: Done 192 tasks      | elapsed: 14.9min\n",
      "[Parallel(n_jobs=-1)]: Done 240 out of 240 | elapsed: 21.3min finished\n"
     ]
    },
    {
     "name": "stdout",
     "output_type": "stream",
     "text": [
      "bio\n",
      "[mean: -1.16119, std: 0.03745, params: {'colsample_bytree': 0.8, 'max_depth': 3, 'min_child_weight': 1, 'n_estimators': 100, 'subsample': 0.8}, mean: -1.16675, std: 0.04054, params: {'colsample_bytree': 0.8, 'max_depth': 3, 'min_child_weight': 1, 'n_estimators': 100, 'subsample': 1}, mean: -1.18082, std: 0.04592, params: {'colsample_bytree': 0.8, 'max_depth': 3, 'min_child_weight': 1, 'n_estimators': 200, 'subsample': 0.8}, mean: -1.17657, std: 0.04654, params: {'colsample_bytree': 0.8, 'max_depth': 3, 'min_child_weight': 1, 'n_estimators': 200, 'subsample': 1}, mean: -1.16237, std: 0.03865, params: {'colsample_bytree': 0.8, 'max_depth': 3, 'min_child_weight': 3, 'n_estimators': 100, 'subsample': 0.8}, mean: -1.16553, std: 0.04232, params: {'colsample_bytree': 0.8, 'max_depth': 3, 'min_child_weight': 3, 'n_estimators': 100, 'subsample': 1}, mean: -1.17751, std: 0.04598, params: {'colsample_bytree': 0.8, 'max_depth': 3, 'min_child_weight': 3, 'n_estimators': 200, 'subsample': 0.8}, mean: -1.17329, std: 0.04792, params: {'colsample_bytree': 0.8, 'max_depth': 3, 'min_child_weight': 3, 'n_estimators': 200, 'subsample': 1}, mean: -1.17571, std: 0.04425, params: {'colsample_bytree': 0.8, 'max_depth': 5, 'min_child_weight': 1, 'n_estimators': 100, 'subsample': 0.8}, mean: -1.16764, std: 0.04546, params: {'colsample_bytree': 0.8, 'max_depth': 5, 'min_child_weight': 1, 'n_estimators': 100, 'subsample': 1}, mean: -1.22929, std: 0.05756, params: {'colsample_bytree': 0.8, 'max_depth': 5, 'min_child_weight': 1, 'n_estimators': 200, 'subsample': 0.8}, mean: -1.21748, std: 0.05806, params: {'colsample_bytree': 0.8, 'max_depth': 5, 'min_child_weight': 1, 'n_estimators': 200, 'subsample': 1}, mean: -1.17143, std: 0.04338, params: {'colsample_bytree': 0.8, 'max_depth': 5, 'min_child_weight': 3, 'n_estimators': 100, 'subsample': 0.8}, mean: -1.16980, std: 0.04578, params: {'colsample_bytree': 0.8, 'max_depth': 5, 'min_child_weight': 3, 'n_estimators': 100, 'subsample': 1}, mean: -1.21624, std: 0.05479, params: {'colsample_bytree': 0.8, 'max_depth': 5, 'min_child_weight': 3, 'n_estimators': 200, 'subsample': 0.8}, mean: -1.20462, std: 0.05435, params: {'colsample_bytree': 0.8, 'max_depth': 5, 'min_child_weight': 3, 'n_estimators': 200, 'subsample': 1}, mean: -1.19712, std: 0.04761, params: {'colsample_bytree': 0.8, 'max_depth': 7, 'min_child_weight': 1, 'n_estimators': 100, 'subsample': 0.8}, mean: -1.18592, std: 0.04799, params: {'colsample_bytree': 0.8, 'max_depth': 7, 'min_child_weight': 1, 'n_estimators': 100, 'subsample': 1}, mean: -1.26280, std: 0.06211, params: {'colsample_bytree': 0.8, 'max_depth': 7, 'min_child_weight': 1, 'n_estimators': 200, 'subsample': 0.8}, mean: -1.23596, std: 0.05948, params: {'colsample_bytree': 0.8, 'max_depth': 7, 'min_child_weight': 1, 'n_estimators': 200, 'subsample': 1}, mean: -1.18875, std: 0.04506, params: {'colsample_bytree': 0.8, 'max_depth': 7, 'min_child_weight': 3, 'n_estimators': 100, 'subsample': 0.8}, mean: -1.18116, std: 0.04503, params: {'colsample_bytree': 0.8, 'max_depth': 7, 'min_child_weight': 3, 'n_estimators': 100, 'subsample': 1}, mean: -1.24414, std: 0.05895, params: {'colsample_bytree': 0.8, 'max_depth': 7, 'min_child_weight': 3, 'n_estimators': 200, 'subsample': 0.8}, mean: -1.21839, std: 0.05396, params: {'colsample_bytree': 0.8, 'max_depth': 7, 'min_child_weight': 3, 'n_estimators': 200, 'subsample': 1}, mean: -1.16209, std: 0.03817, params: {'colsample_bytree': 1, 'max_depth': 3, 'min_child_weight': 1, 'n_estimators': 100, 'subsample': 0.8}, mean: -1.16611, std: 0.04276, params: {'colsample_bytree': 1, 'max_depth': 3, 'min_child_weight': 1, 'n_estimators': 100, 'subsample': 1}, mean: -1.18344, std: 0.04707, params: {'colsample_bytree': 1, 'max_depth': 3, 'min_child_weight': 1, 'n_estimators': 200, 'subsample': 0.8}, mean: -1.17802, std: 0.04954, params: {'colsample_bytree': 1, 'max_depth': 3, 'min_child_weight': 1, 'n_estimators': 200, 'subsample': 1}, mean: -1.16072, std: 0.03762, params: {'colsample_bytree': 1, 'max_depth': 3, 'min_child_weight': 3, 'n_estimators': 100, 'subsample': 0.8}, mean: -1.16545, std: 0.04344, params: {'colsample_bytree': 1, 'max_depth': 3, 'min_child_weight': 3, 'n_estimators': 100, 'subsample': 1}, mean: -1.17811, std: 0.04706, params: {'colsample_bytree': 1, 'max_depth': 3, 'min_child_weight': 3, 'n_estimators': 200, 'subsample': 0.8}, mean: -1.17434, std: 0.04783, params: {'colsample_bytree': 1, 'max_depth': 3, 'min_child_weight': 3, 'n_estimators': 200, 'subsample': 1}, mean: -1.17879, std: 0.04390, params: {'colsample_bytree': 1, 'max_depth': 5, 'min_child_weight': 1, 'n_estimators': 100, 'subsample': 0.8}, mean: -1.17217, std: 0.04619, params: {'colsample_bytree': 1, 'max_depth': 5, 'min_child_weight': 1, 'n_estimators': 100, 'subsample': 1}, mean: -1.23382, std: 0.05851, params: {'colsample_bytree': 1, 'max_depth': 5, 'min_child_weight': 1, 'n_estimators': 200, 'subsample': 0.8}, mean: -1.22413, std: 0.05818, params: {'colsample_bytree': 1, 'max_depth': 5, 'min_child_weight': 1, 'n_estimators': 200, 'subsample': 1}, mean: -1.17332, std: 0.04139, params: {'colsample_bytree': 1, 'max_depth': 5, 'min_child_weight': 3, 'n_estimators': 100, 'subsample': 0.8}, mean: -1.17129, std: 0.04613, params: {'colsample_bytree': 1, 'max_depth': 5, 'min_child_weight': 3, 'n_estimators': 100, 'subsample': 1}, mean: -1.21869, std: 0.05463, params: {'colsample_bytree': 1, 'max_depth': 5, 'min_child_weight': 3, 'n_estimators': 200, 'subsample': 0.8}, mean: -1.20848, std: 0.05538, params: {'colsample_bytree': 1, 'max_depth': 5, 'min_child_weight': 3, 'n_estimators': 200, 'subsample': 1}, mean: -1.19895, std: 0.04860, params: {'colsample_bytree': 1, 'max_depth': 7, 'min_child_weight': 1, 'n_estimators': 100, 'subsample': 0.8}, mean: -1.18881, std: 0.04851, params: {'colsample_bytree': 1, 'max_depth': 7, 'min_child_weight': 1, 'n_estimators': 100, 'subsample': 1}, mean: -1.26712, std: 0.06432, params: {'colsample_bytree': 1, 'max_depth': 7, 'min_child_weight': 1, 'n_estimators': 200, 'subsample': 0.8}, mean: -1.24019, std: 0.05908, params: {'colsample_bytree': 1, 'max_depth': 7, 'min_child_weight': 1, 'n_estimators': 200, 'subsample': 1}, mean: -1.18927, std: 0.04628, params: {'colsample_bytree': 1, 'max_depth': 7, 'min_child_weight': 3, 'n_estimators': 100, 'subsample': 0.8}, mean: -1.18408, std: 0.04703, params: {'colsample_bytree': 1, 'max_depth': 7, 'min_child_weight': 3, 'n_estimators': 100, 'subsample': 1}, mean: -1.24517, std: 0.05974, params: {'colsample_bytree': 1, 'max_depth': 7, 'min_child_weight': 3, 'n_estimators': 200, 'subsample': 0.8}, mean: -1.22039, std: 0.05630, params: {'colsample_bytree': 1, 'max_depth': 7, 'min_child_weight': 3, 'n_estimators': 200, 'subsample': 1}]\n",
      "{'colsample_bytree': 1, 'max_depth': 3, 'min_child_weight': 3, 'n_estimators': 100, 'subsample': 0.8}\n",
      "-1.160723399\n",
      "Fitting 5 folds for each of 48 candidates, totalling 240 fits\n"
     ]
    },
    {
     "name": "stderr",
     "output_type": "stream",
     "text": [
      "C:\\Users\\Franck\\Documents\\Continuum\\Anaconda3\\lib\\site-packages\\sklearn\\model_selection\\_search.py:667: DeprecationWarning: The grid_scores_ attribute was deprecated in version 0.18 in favor of the more elaborate cv_results_ attribute. The grid_scores_ attribute will not be available from 0.20\n",
      "  DeprecationWarning)\n"
     ]
    }
   ],
   "source": [
    "clf_xgb=XGBClassifier(max_depth=3, objective=\"multi:softprob\",seed=26)\n",
    "param_test= {\n",
    "    \"max_depth\" : [3,5,7],\n",
    "    \"min_child_weight\" : [1,3],\n",
    "    \"n_estimators\" : [100,200],\n",
    "    \"subsample\":[0.8,1],\n",
    "    \"colsample_bytree\":[0.8,1]\n",
    "}\n",
    "\n",
    "gsearch=GridSearchCV(estimator=clf_xgb, param_grid = param_test,scoring=\"neg_log_loss\",n_jobs=-1,iid=False, cv=kf,verbose=True)\n",
    "gsearch.fit(np.array(model_ext_train),y)\n",
    "print(name)\n",
    "print(gsearch.grid_scores_)\n",
    "print(gsearch.best_params_)\n",
    "print(gsearch.best_score_)\n",
    "# best grid : {'colsample_bytree': 1, 'max_depth': 3, 'min_child_weight': 3, 'n_estimators': 100, 'subsample': 0.8}"
   ]
  },
  {
   "cell_type": "code",
   "execution_count": 2,
   "metadata": {},
   "outputs": [],
   "source": [
    "#now add the others models that worked on the window pre-processed"
   ]
  },
  {
   "cell_type": "code",
   "execution_count": 33,
   "metadata": {},
   "outputs": [],
   "source": [
    "#Gene features + manual features on variations + text embeddings\n",
    "work_train_final={}\n",
    "work_test_final={}\n",
    "work_train_ext={}\n",
    "work_test_ext={}\n",
    "for name in work_train:\n",
    "    work_train_final[name]=pd.concat((work_train[name],feat_train),axis=1)\n",
    "    work_test_final[name]=pd.concat((work_test[name],feat_test),axis=1)\n",
    "    work_train_ext[name]=pd.concat((work_train[name],feat_ext_train),axis=1)\n",
    "    work_test_ext[name]=pd.concat((work_test[name],feat_ext_test),axis=1)"
   ]
  },
  {
   "cell_type": "code",
   "execution_count": null,
   "metadata": {},
   "outputs": [],
   "source": [
    "work_train_franck=pd.concat((work_train[\"tfidf_tsvd_100\"],))"
   ]
  },
  {
   "cell_type": "code",
   "execution_count": null,
   "metadata": {
    "scrolled": false
   },
   "outputs": [
    {
     "name": "stdout",
     "output_type": "stream",
     "text": [
      "Fitting 5 folds for each of 162 candidates, totalling 810 fits\n"
     ]
    },
    {
     "name": "stderr",
     "output_type": "stream",
     "text": [
      "[Parallel(n_jobs=-1)]: Done  42 tasks      | elapsed:  6.2min\n",
      "[Parallel(n_jobs=-1)]: Done 192 tasks      | elapsed: 37.6min\n",
      "[Parallel(n_jobs=-1)]: Done 442 tasks      | elapsed: 97.2min\n",
      "[Parallel(n_jobs=-1)]: Done 792 tasks      | elapsed: 196.5min\n",
      "[Parallel(n_jobs=-1)]: Done 810 out of 810 | elapsed: 203.0min finished\n"
     ]
    },
    {
     "name": "stdout",
     "output_type": "stream",
     "text": [
      "bio\n",
      "[mean: -0.96276, std: 0.03618, params: {'colsample_bytree': 0.8, 'max_depth': 3, 'min_child_weight': 1, 'n_estimators': 100, 'subsample': 0.8}, mean: -0.96202, std: 0.03862, params: {'colsample_bytree': 0.8, 'max_depth': 3, 'min_child_weight': 1, 'n_estimators': 100, 'subsample': 0.9}, mean: -0.97599, std: 0.03854, params: {'colsample_bytree': 0.8, 'max_depth': 3, 'min_child_weight': 1, 'n_estimators': 100, 'subsample': 1}, mean: -0.95525, std: 0.04838, params: {'colsample_bytree': 0.8, 'max_depth': 3, 'min_child_weight': 1, 'n_estimators': 200, 'subsample': 0.8}, mean: -0.95339, std: 0.04947, params: {'colsample_bytree': 0.8, 'max_depth': 3, 'min_child_weight': 1, 'n_estimators': 200, 'subsample': 0.9}, mean: -0.96360, std: 0.05074, params: {'colsample_bytree': 0.8, 'max_depth': 3, 'min_child_weight': 1, 'n_estimators': 200, 'subsample': 1}, mean: -0.96506, std: 0.03510, params: {'colsample_bytree': 0.8, 'max_depth': 3, 'min_child_weight': 3, 'n_estimators': 100, 'subsample': 0.8}, mean: -0.96607, std: 0.03688, params: {'colsample_bytree': 0.8, 'max_depth': 3, 'min_child_weight': 3, 'n_estimators': 100, 'subsample': 0.9}, mean: -0.97572, std: 0.03593, params: {'colsample_bytree': 0.8, 'max_depth': 3, 'min_child_weight': 3, 'n_estimators': 100, 'subsample': 1}, mean: -0.95368, std: 0.04286, params: {'colsample_bytree': 0.8, 'max_depth': 3, 'min_child_weight': 3, 'n_estimators': 200, 'subsample': 0.8}, mean: -0.95403, std: 0.04616, params: {'colsample_bytree': 0.8, 'max_depth': 3, 'min_child_weight': 3, 'n_estimators': 200, 'subsample': 0.9}, mean: -0.95588, std: 0.04069, params: {'colsample_bytree': 0.8, 'max_depth': 3, 'min_child_weight': 3, 'n_estimators': 200, 'subsample': 1}, mean: -0.96324, std: 0.03272, params: {'colsample_bytree': 0.8, 'max_depth': 3, 'min_child_weight': 5, 'n_estimators': 100, 'subsample': 0.8}, mean: -0.96694, std: 0.03160, params: {'colsample_bytree': 0.8, 'max_depth': 3, 'min_child_weight': 5, 'n_estimators': 100, 'subsample': 0.9}, mean: -0.97684, std: 0.03359, params: {'colsample_bytree': 0.8, 'max_depth': 3, 'min_child_weight': 5, 'n_estimators': 100, 'subsample': 1}, mean: -0.94251, std: 0.03986, params: {'colsample_bytree': 0.8, 'max_depth': 3, 'min_child_weight': 5, 'n_estimators': 200, 'subsample': 0.8}, mean: -0.94910, std: 0.04064, params: {'colsample_bytree': 0.8, 'max_depth': 3, 'min_child_weight': 5, 'n_estimators': 200, 'subsample': 0.9}, mean: -0.95289, std: 0.03920, params: {'colsample_bytree': 0.8, 'max_depth': 3, 'min_child_weight': 5, 'n_estimators': 200, 'subsample': 1}, mean: -0.96483, std: 0.04789, params: {'colsample_bytree': 0.8, 'max_depth': 5, 'min_child_weight': 1, 'n_estimators': 100, 'subsample': 0.8}, mean: -0.96190, std: 0.05086, params: {'colsample_bytree': 0.8, 'max_depth': 5, 'min_child_weight': 1, 'n_estimators': 100, 'subsample': 0.9}, mean: -0.96897, std: 0.05260, params: {'colsample_bytree': 0.8, 'max_depth': 5, 'min_child_weight': 1, 'n_estimators': 100, 'subsample': 1}, mean: -1.05246, std: 0.06166, params: {'colsample_bytree': 0.8, 'max_depth': 5, 'min_child_weight': 1, 'n_estimators': 200, 'subsample': 0.8}, mean: -1.05313, std: 0.06236, params: {'colsample_bytree': 0.8, 'max_depth': 5, 'min_child_weight': 1, 'n_estimators': 200, 'subsample': 0.9}, mean: -1.06844, std: 0.06306, params: {'colsample_bytree': 0.8, 'max_depth': 5, 'min_child_weight': 1, 'n_estimators': 200, 'subsample': 1}, mean: -0.94399, std: 0.04169, params: {'colsample_bytree': 0.8, 'max_depth': 5, 'min_child_weight': 3, 'n_estimators': 100, 'subsample': 0.8}, mean: -0.95179, std: 0.04541, params: {'colsample_bytree': 0.8, 'max_depth': 5, 'min_child_weight': 3, 'n_estimators': 100, 'subsample': 0.9}, mean: -0.95201, std: 0.04043, params: {'colsample_bytree': 0.8, 'max_depth': 5, 'min_child_weight': 3, 'n_estimators': 100, 'subsample': 1}, mean: -1.01455, std: 0.05753, params: {'colsample_bytree': 0.8, 'max_depth': 5, 'min_child_weight': 3, 'n_estimators': 200, 'subsample': 0.8}, mean: -1.02282, std: 0.05473, params: {'colsample_bytree': 0.8, 'max_depth': 5, 'min_child_weight': 3, 'n_estimators': 200, 'subsample': 0.9}, mean: -1.02745, std: 0.05199, params: {'colsample_bytree': 0.8, 'max_depth': 5, 'min_child_weight': 3, 'n_estimators': 200, 'subsample': 1}, mean: -0.93919, std: 0.03773, params: {'colsample_bytree': 0.8, 'max_depth': 5, 'min_child_weight': 5, 'n_estimators': 100, 'subsample': 0.8}, mean: -0.93853, std: 0.04251, params: {'colsample_bytree': 0.8, 'max_depth': 5, 'min_child_weight': 5, 'n_estimators': 100, 'subsample': 0.9}, mean: -0.94228, std: 0.03431, params: {'colsample_bytree': 0.8, 'max_depth': 5, 'min_child_weight': 5, 'n_estimators': 100, 'subsample': 1}, mean: -0.98718, std: 0.04560, params: {'colsample_bytree': 0.8, 'max_depth': 5, 'min_child_weight': 5, 'n_estimators': 200, 'subsample': 0.8}, mean: -0.99502, std: 0.05120, params: {'colsample_bytree': 0.8, 'max_depth': 5, 'min_child_weight': 5, 'n_estimators': 200, 'subsample': 0.9}, mean: -0.99817, std: 0.04280, params: {'colsample_bytree': 0.8, 'max_depth': 5, 'min_child_weight': 5, 'n_estimators': 200, 'subsample': 1}, mean: -1.01409, std: 0.05102, params: {'colsample_bytree': 0.8, 'max_depth': 7, 'min_child_weight': 1, 'n_estimators': 100, 'subsample': 0.8}, mean: -1.01714, std: 0.05582, params: {'colsample_bytree': 0.8, 'max_depth': 7, 'min_child_weight': 1, 'n_estimators': 100, 'subsample': 0.9}, mean: -1.01192, std: 0.04711, params: {'colsample_bytree': 0.8, 'max_depth': 7, 'min_child_weight': 1, 'n_estimators': 100, 'subsample': 1}, mean: -1.10801, std: 0.06099, params: {'colsample_bytree': 0.8, 'max_depth': 7, 'min_child_weight': 1, 'n_estimators': 200, 'subsample': 0.8}, mean: -1.11282, std: 0.06626, params: {'colsample_bytree': 0.8, 'max_depth': 7, 'min_child_weight': 1, 'n_estimators': 200, 'subsample': 0.9}, mean: -1.10871, std: 0.05618, params: {'colsample_bytree': 0.8, 'max_depth': 7, 'min_child_weight': 1, 'n_estimators': 200, 'subsample': 1}, mean: -0.96378, std: 0.04588, params: {'colsample_bytree': 0.8, 'max_depth': 7, 'min_child_weight': 3, 'n_estimators': 100, 'subsample': 0.8}, mean: -0.97424, std: 0.04392, params: {'colsample_bytree': 0.8, 'max_depth': 7, 'min_child_weight': 3, 'n_estimators': 100, 'subsample': 0.9}, mean: -0.97359, std: 0.04560, params: {'colsample_bytree': 0.8, 'max_depth': 7, 'min_child_weight': 3, 'n_estimators': 100, 'subsample': 1}, mean: -1.03496, std: 0.05693, params: {'colsample_bytree': 0.8, 'max_depth': 7, 'min_child_weight': 3, 'n_estimators': 200, 'subsample': 0.8}, mean: -1.05105, std: 0.05441, params: {'colsample_bytree': 0.8, 'max_depth': 7, 'min_child_weight': 3, 'n_estimators': 200, 'subsample': 0.9}, mean: -1.04852, std: 0.05083, params: {'colsample_bytree': 0.8, 'max_depth': 7, 'min_child_weight': 3, 'n_estimators': 200, 'subsample': 1}, mean: -0.94557, std: 0.04294, params: {'colsample_bytree': 0.8, 'max_depth': 7, 'min_child_weight': 5, 'n_estimators': 100, 'subsample': 0.8}, mean: -0.95707, std: 0.04348, params: {'colsample_bytree': 0.8, 'max_depth': 7, 'min_child_weight': 5, 'n_estimators': 100, 'subsample': 0.9}, mean: -0.95782, std: 0.03593, params: {'colsample_bytree': 0.8, 'max_depth': 7, 'min_child_weight': 5, 'n_estimators': 100, 'subsample': 1}, mean: -1.00244, std: 0.05311, params: {'colsample_bytree': 0.8, 'max_depth': 7, 'min_child_weight': 5, 'n_estimators': 200, 'subsample': 0.8}, mean: -1.01614, std: 0.05104, params: {'colsample_bytree': 0.8, 'max_depth': 7, 'min_child_weight': 5, 'n_estimators': 200, 'subsample': 0.9}, mean: -1.01957, std: 0.04428, params: {'colsample_bytree': 0.8, 'max_depth': 7, 'min_child_weight': 5, 'n_estimators': 200, 'subsample': 1}, mean: -0.96050, std: 0.03269, params: {'colsample_bytree': 0.9, 'max_depth': 3, 'min_child_weight': 1, 'n_estimators': 100, 'subsample': 0.8}, mean: -0.96196, std: 0.03548, params: {'colsample_bytree': 0.9, 'max_depth': 3, 'min_child_weight': 1, 'n_estimators': 100, 'subsample': 0.9}, mean: -0.97507, std: 0.03793, params: {'colsample_bytree': 0.9, 'max_depth': 3, 'min_child_weight': 1, 'n_estimators': 100, 'subsample': 1}, mean: -0.95704, std: 0.04616, params: {'colsample_bytree': 0.9, 'max_depth': 3, 'min_child_weight': 1, 'n_estimators': 200, 'subsample': 0.8}, mean: -0.95816, std: 0.04727, params: {'colsample_bytree': 0.9, 'max_depth': 3, 'min_child_weight': 1, 'n_estimators': 200, 'subsample': 0.9}, mean: -0.96253, std: 0.04588, params: {'colsample_bytree': 0.9, 'max_depth': 3, 'min_child_weight': 1, 'n_estimators': 200, 'subsample': 1}, mean: -0.96634, std: 0.03340, params: {'colsample_bytree': 0.9, 'max_depth': 3, 'min_child_weight': 3, 'n_estimators': 100, 'subsample': 0.8}, mean: -0.96546, std: 0.03716, params: {'colsample_bytree': 0.9, 'max_depth': 3, 'min_child_weight': 3, 'n_estimators': 100, 'subsample': 0.9}, mean: -0.97462, std: 0.03536, params: {'colsample_bytree': 0.9, 'max_depth': 3, 'min_child_weight': 3, 'n_estimators': 100, 'subsample': 1}, mean: -0.95708, std: 0.04332, params: {'colsample_bytree': 0.9, 'max_depth': 3, 'min_child_weight': 3, 'n_estimators': 200, 'subsample': 0.8}, mean: -0.95519, std: 0.04801, params: {'colsample_bytree': 0.9, 'max_depth': 3, 'min_child_weight': 3, 'n_estimators': 200, 'subsample': 0.9}, mean: -0.95603, std: 0.04448, params: {'colsample_bytree': 0.9, 'max_depth': 3, 'min_child_weight': 3, 'n_estimators': 200, 'subsample': 1}, mean: -0.96339, std: 0.03202, params: {'colsample_bytree': 0.9, 'max_depth': 3, 'min_child_weight': 5, 'n_estimators': 100, 'subsample': 0.8}, mean: -0.96649, std: 0.03070, params: {'colsample_bytree': 0.9, 'max_depth': 3, 'min_child_weight': 5, 'n_estimators': 100, 'subsample': 0.9}, mean: -0.97859, std: 0.03471, params: {'colsample_bytree': 0.9, 'max_depth': 3, 'min_child_weight': 5, 'n_estimators': 100, 'subsample': 1}, mean: -0.94395, std: 0.04067, params: {'colsample_bytree': 0.9, 'max_depth': 3, 'min_child_weight': 5, 'n_estimators': 200, 'subsample': 0.8}, mean: -0.94529, std: 0.03909, params: {'colsample_bytree': 0.9, 'max_depth': 3, 'min_child_weight': 5, 'n_estimators': 200, 'subsample': 0.9}, mean: -0.95688, std: 0.04075, params: {'colsample_bytree': 0.9, 'max_depth': 3, 'min_child_weight': 5, 'n_estimators': 200, 'subsample': 1}, mean: -0.97410, std: 0.04958, params: {'colsample_bytree': 0.9, 'max_depth': 5, 'min_child_weight': 1, 'n_estimators': 100, 'subsample': 0.8}, mean: -0.97156, std: 0.05298, params: {'colsample_bytree': 0.9, 'max_depth': 5, 'min_child_weight': 1, 'n_estimators': 100, 'subsample': 0.9}, mean: -0.97101, std: 0.04829, params: {'colsample_bytree': 0.9, 'max_depth': 5, 'min_child_weight': 1, 'n_estimators': 100, 'subsample': 1}, mean: -1.06445, std: 0.06130, params: {'colsample_bytree': 0.9, 'max_depth': 5, 'min_child_weight': 1, 'n_estimators': 200, 'subsample': 0.8}, mean: -1.06139, std: 0.06523, params: {'colsample_bytree': 0.9, 'max_depth': 5, 'min_child_weight': 1, 'n_estimators': 200, 'subsample': 0.9}, mean: -1.07063, std: 0.05730, params: {'colsample_bytree': 0.9, 'max_depth': 5, 'min_child_weight': 1, 'n_estimators': 200, 'subsample': 1}, mean: -0.95332, std: 0.03763, params: {'colsample_bytree': 0.9, 'max_depth': 5, 'min_child_weight': 3, 'n_estimators': 100, 'subsample': 0.8}, mean: -0.95347, std: 0.04741, params: {'colsample_bytree': 0.9, 'max_depth': 5, 'min_child_weight': 3, 'n_estimators': 100, 'subsample': 0.9}, mean: -0.95384, std: 0.04671, params: {'colsample_bytree': 0.9, 'max_depth': 5, 'min_child_weight': 3, 'n_estimators': 100, 'subsample': 1}, mean: -1.01816, std: 0.05372, params: {'colsample_bytree': 0.9, 'max_depth': 5, 'min_child_weight': 3, 'n_estimators': 200, 'subsample': 0.8}, mean: -1.02244, std: 0.05793, params: {'colsample_bytree': 0.9, 'max_depth': 5, 'min_child_weight': 3, 'n_estimators': 200, 'subsample': 0.9}, mean: -1.03023, std: 0.05507, params: {'colsample_bytree': 0.9, 'max_depth': 5, 'min_child_weight': 3, 'n_estimators': 200, 'subsample': 1}, mean: -0.94696, std: 0.04190, params: {'colsample_bytree': 0.9, 'max_depth': 5, 'min_child_weight': 5, 'n_estimators': 100, 'subsample': 0.8}, mean: -0.94096, std: 0.04353, params: {'colsample_bytree': 0.9, 'max_depth': 5, 'min_child_weight': 5, 'n_estimators': 100, 'subsample': 0.9}, mean: -0.94691, std: 0.04458, params: {'colsample_bytree': 0.9, 'max_depth': 5, 'min_child_weight': 5, 'n_estimators': 100, 'subsample': 1}, mean: -0.99751, std: 0.05094, params: {'colsample_bytree': 0.9, 'max_depth': 5, 'min_child_weight': 5, 'n_estimators': 200, 'subsample': 0.8}, mean: -0.99381, std: 0.05413, params: {'colsample_bytree': 0.9, 'max_depth': 5, 'min_child_weight': 5, 'n_estimators': 200, 'subsample': 0.9}, mean: -1.00475, std: 0.05257, params: {'colsample_bytree': 0.9, 'max_depth': 5, 'min_child_weight': 5, 'n_estimators': 200, 'subsample': 1}, mean: -1.01380, std: 0.05208, params: {'colsample_bytree': 0.9, 'max_depth': 7, 'min_child_weight': 1, 'n_estimators': 100, 'subsample': 0.8}, mean: -1.01967, std: 0.05335, params: {'colsample_bytree': 0.9, 'max_depth': 7, 'min_child_weight': 1, 'n_estimators': 100, 'subsample': 0.9}, mean: -1.02245, std: 0.05015, params: {'colsample_bytree': 0.9, 'max_depth': 7, 'min_child_weight': 1, 'n_estimators': 100, 'subsample': 1}, mean: -1.10672, std: 0.05881, params: {'colsample_bytree': 0.9, 'max_depth': 7, 'min_child_weight': 1, 'n_estimators': 200, 'subsample': 0.8}, mean: -1.11301, std: 0.06810, params: {'colsample_bytree': 0.9, 'max_depth': 7, 'min_child_weight': 1, 'n_estimators': 200, 'subsample': 0.9}, mean: -1.12062, std: 0.06084, params: {'colsample_bytree': 0.9, 'max_depth': 7, 'min_child_weight': 1, 'n_estimators': 200, 'subsample': 1}, mean: -0.97513, std: 0.04110, params: {'colsample_bytree': 0.9, 'max_depth': 7, 'min_child_weight': 3, 'n_estimators': 100, 'subsample': 0.8}, mean: -0.97543, std: 0.04204, params: {'colsample_bytree': 0.9, 'max_depth': 7, 'min_child_weight': 3, 'n_estimators': 100, 'subsample': 0.9}, mean: -0.98294, std: 0.04667, params: {'colsample_bytree': 0.9, 'max_depth': 7, 'min_child_weight': 3, 'n_estimators': 100, 'subsample': 1}, mean: -1.04779, std: 0.05215, params: {'colsample_bytree': 0.9, 'max_depth': 7, 'min_child_weight': 3, 'n_estimators': 200, 'subsample': 0.8}, mean: -1.05093, std: 0.04957, params: {'colsample_bytree': 0.9, 'max_depth': 7, 'min_child_weight': 3, 'n_estimators': 200, 'subsample': 0.9}, mean: -1.06109, std: 0.05167, params: {'colsample_bytree': 0.9, 'max_depth': 7, 'min_child_weight': 3, 'n_estimators': 200, 'subsample': 1}, mean: -0.95403, std: 0.03783, params: {'colsample_bytree': 0.9, 'max_depth': 7, 'min_child_weight': 5, 'n_estimators': 100, 'subsample': 0.8}, mean: -0.96306, std: 0.03927, params: {'colsample_bytree': 0.9, 'max_depth': 7, 'min_child_weight': 5, 'n_estimators': 100, 'subsample': 0.9}, mean: -0.96135, std: 0.04079, params: {'colsample_bytree': 0.9, 'max_depth': 7, 'min_child_weight': 5, 'n_estimators': 100, 'subsample': 1}, mean: -1.01515, std: 0.04746, params: {'colsample_bytree': 0.9, 'max_depth': 7, 'min_child_weight': 5, 'n_estimators': 200, 'subsample': 0.8}, mean: -1.02307, std: 0.04578, params: {'colsample_bytree': 0.9, 'max_depth': 7, 'min_child_weight': 5, 'n_estimators': 200, 'subsample': 0.9}, mean: -1.02525, std: 0.04477, params: {'colsample_bytree': 0.9, 'max_depth': 7, 'min_child_weight': 5, 'n_estimators': 200, 'subsample': 1}, mean: -0.96024, std: 0.03786, params: {'colsample_bytree': 1, 'max_depth': 3, 'min_child_weight': 1, 'n_estimators': 100, 'subsample': 0.8}, mean: -0.96203, std: 0.03637, params: {'colsample_bytree': 1, 'max_depth': 3, 'min_child_weight': 1, 'n_estimators': 100, 'subsample': 0.9}, mean: -0.97812, std: 0.03405, params: {'colsample_bytree': 1, 'max_depth': 3, 'min_child_weight': 1, 'n_estimators': 100, 'subsample': 1}, mean: -0.95859, std: 0.04615, params: {'colsample_bytree': 1, 'max_depth': 3, 'min_child_weight': 1, 'n_estimators': 200, 'subsample': 0.8}, mean: -0.96041, std: 0.04735, params: {'colsample_bytree': 1, 'max_depth': 3, 'min_child_weight': 1, 'n_estimators': 200, 'subsample': 0.9}, mean: -0.96841, std: 0.04792, params: {'colsample_bytree': 1, 'max_depth': 3, 'min_child_weight': 1, 'n_estimators': 200, 'subsample': 1}, mean: -0.95872, std: 0.03043, params: {'colsample_bytree': 1, 'max_depth': 3, 'min_child_weight': 3, 'n_estimators': 100, 'subsample': 0.8}, mean: -0.96624, std: 0.03542, params: {'colsample_bytree': 1, 'max_depth': 3, 'min_child_weight': 3, 'n_estimators': 100, 'subsample': 0.9}, mean: -0.97679, std: 0.03478, params: {'colsample_bytree': 1, 'max_depth': 3, 'min_child_weight': 3, 'n_estimators': 100, 'subsample': 1}, mean: -0.95082, std: 0.04175, params: {'colsample_bytree': 1, 'max_depth': 3, 'min_child_weight': 3, 'n_estimators': 200, 'subsample': 0.8}, mean: -0.95541, std: 0.04803, params: {'colsample_bytree': 1, 'max_depth': 3, 'min_child_weight': 3, 'n_estimators': 200, 'subsample': 0.9}, mean: -0.95645, std: 0.03963, params: {'colsample_bytree': 1, 'max_depth': 3, 'min_child_weight': 3, 'n_estimators': 200, 'subsample': 1}, mean: -0.96381, std: 0.03034, params: {'colsample_bytree': 1, 'max_depth': 3, 'min_child_weight': 5, 'n_estimators': 100, 'subsample': 0.8}, mean: -0.96667, std: 0.03138, params: {'colsample_bytree': 1, 'max_depth': 3, 'min_child_weight': 5, 'n_estimators': 100, 'subsample': 0.9}, mean: -0.97940, std: 0.03385, params: {'colsample_bytree': 1, 'max_depth': 3, 'min_child_weight': 5, 'n_estimators': 100, 'subsample': 1}, mean: -0.94465, std: 0.04031, params: {'colsample_bytree': 1, 'max_depth': 3, 'min_child_weight': 5, 'n_estimators': 200, 'subsample': 0.8}, mean: -0.94662, std: 0.03613, params: {'colsample_bytree': 1, 'max_depth': 3, 'min_child_weight': 5, 'n_estimators': 200, 'subsample': 0.9}, mean: -0.95253, std: 0.03913, params: {'colsample_bytree': 1, 'max_depth': 3, 'min_child_weight': 5, 'n_estimators': 200, 'subsample': 1}, mean: -0.96728, std: 0.04286, params: {'colsample_bytree': 1, 'max_depth': 5, 'min_child_weight': 1, 'n_estimators': 100, 'subsample': 0.8}, mean: -0.97117, std: 0.05541, params: {'colsample_bytree': 1, 'max_depth': 5, 'min_child_weight': 1, 'n_estimators': 100, 'subsample': 0.9}, mean: -0.97481, std: 0.05158, params: {'colsample_bytree': 1, 'max_depth': 5, 'min_child_weight': 1, 'n_estimators': 100, 'subsample': 1}, mean: -1.05811, std: 0.06039, params: {'colsample_bytree': 1, 'max_depth': 5, 'min_child_weight': 1, 'n_estimators': 200, 'subsample': 0.8}, mean: -1.06588, std: 0.06928, params: {'colsample_bytree': 1, 'max_depth': 5, 'min_child_weight': 1, 'n_estimators': 200, 'subsample': 0.9}, mean: -1.07546, std: 0.05839, params: {'colsample_bytree': 1, 'max_depth': 5, 'min_child_weight': 1, 'n_estimators': 200, 'subsample': 1}, mean: -0.94979, std: 0.04021, params: {'colsample_bytree': 1, 'max_depth': 5, 'min_child_weight': 3, 'n_estimators': 100, 'subsample': 0.8}, mean: -0.95631, std: 0.05379, params: {'colsample_bytree': 1, 'max_depth': 5, 'min_child_weight': 3, 'n_estimators': 100, 'subsample': 0.9}, mean: -0.94962, std: 0.04603, params: {'colsample_bytree': 1, 'max_depth': 5, 'min_child_weight': 3, 'n_estimators': 100, 'subsample': 1}, mean: -1.01608, std: 0.05161, params: {'colsample_bytree': 1, 'max_depth': 5, 'min_child_weight': 3, 'n_estimators': 200, 'subsample': 0.8}, mean: -1.02982, std: 0.06350, params: {'colsample_bytree': 1, 'max_depth': 5, 'min_child_weight': 3, 'n_estimators': 200, 'subsample': 0.9}, mean: -1.03079, std: 0.05399, params: {'colsample_bytree': 1, 'max_depth': 5, 'min_child_weight': 3, 'n_estimators': 200, 'subsample': 1}, mean: -0.94105, std: 0.03552, params: {'colsample_bytree': 1, 'max_depth': 5, 'min_child_weight': 5, 'n_estimators': 100, 'subsample': 0.8}, mean: -0.95077, std: 0.03908, params: {'colsample_bytree': 1, 'max_depth': 5, 'min_child_weight': 5, 'n_estimators': 100, 'subsample': 0.9}, mean: -0.94752, std: 0.03984, params: {'colsample_bytree': 1, 'max_depth': 5, 'min_child_weight': 5, 'n_estimators': 100, 'subsample': 1}, mean: -0.99540, std: 0.04650, params: {'colsample_bytree': 1, 'max_depth': 5, 'min_child_weight': 5, 'n_estimators': 200, 'subsample': 0.8}, mean: -1.00804, std: 0.04938, params: {'colsample_bytree': 1, 'max_depth': 5, 'min_child_weight': 5, 'n_estimators': 200, 'subsample': 0.9}, mean: -1.00602, std: 0.04693, params: {'colsample_bytree': 1, 'max_depth': 5, 'min_child_weight': 5, 'n_estimators': 200, 'subsample': 1}, mean: -1.01792, std: 0.04874, params: {'colsample_bytree': 1, 'max_depth': 7, 'min_child_weight': 1, 'n_estimators': 100, 'subsample': 0.8}, mean: -1.02724, std: 0.05693, params: {'colsample_bytree': 1, 'max_depth': 7, 'min_child_weight': 1, 'n_estimators': 100, 'subsample': 0.9}, mean: -1.02900, std: 0.05656, params: {'colsample_bytree': 1, 'max_depth': 7, 'min_child_weight': 1, 'n_estimators': 100, 'subsample': 1}, mean: -1.11162, std: 0.06019, params: {'colsample_bytree': 1, 'max_depth': 7, 'min_child_weight': 1, 'n_estimators': 200, 'subsample': 0.8}, mean: -1.12167, std: 0.06976, params: {'colsample_bytree': 1, 'max_depth': 7, 'min_child_weight': 1, 'n_estimators': 200, 'subsample': 0.9}, mean: -1.12495, std: 0.06835, params: {'colsample_bytree': 1, 'max_depth': 7, 'min_child_weight': 1, 'n_estimators': 200, 'subsample': 1}, mean: -0.97237, std: 0.04506, params: {'colsample_bytree': 1, 'max_depth': 7, 'min_child_weight': 3, 'n_estimators': 100, 'subsample': 0.8}, mean: -0.98470, std: 0.05237, params: {'colsample_bytree': 1, 'max_depth': 7, 'min_child_weight': 3, 'n_estimators': 100, 'subsample': 0.9}, mean: -0.98240, std: 0.04834, params: {'colsample_bytree': 1, 'max_depth': 7, 'min_child_weight': 3, 'n_estimators': 100, 'subsample': 1}, mean: -1.04645, std: 0.05487, params: {'colsample_bytree': 1, 'max_depth': 7, 'min_child_weight': 3, 'n_estimators': 200, 'subsample': 0.8}, mean: -1.06159, std: 0.06094, params: {'colsample_bytree': 1, 'max_depth': 7, 'min_child_weight': 3, 'n_estimators': 200, 'subsample': 0.9}, mean: -1.06188, std: 0.05761, params: {'colsample_bytree': 1, 'max_depth': 7, 'min_child_weight': 3, 'n_estimators': 200, 'subsample': 1}, mean: -0.95617, std: 0.03968, params: {'colsample_bytree': 1, 'max_depth': 7, 'min_child_weight': 5, 'n_estimators': 100, 'subsample': 0.8}, mean: -0.96169, std: 0.03983, params: {'colsample_bytree': 1, 'max_depth': 7, 'min_child_weight': 5, 'n_estimators': 100, 'subsample': 0.9}, mean: -0.96973, std: 0.04056, params: {'colsample_bytree': 1, 'max_depth': 7, 'min_child_weight': 5, 'n_estimators': 100, 'subsample': 1}, mean: -1.01534, std: 0.04853, params: {'colsample_bytree': 1, 'max_depth': 7, 'min_child_weight': 5, 'n_estimators': 200, 'subsample': 0.8}, mean: -1.02340, std: 0.04595, params: {'colsample_bytree': 1, 'max_depth': 7, 'min_child_weight': 5, 'n_estimators': 200, 'subsample': 0.9}, mean: -1.03409, std: 0.04583, params: {'colsample_bytree': 1, 'max_depth': 7, 'min_child_weight': 5, 'n_estimators': 200, 'subsample': 1}]\n",
      "{'colsample_bytree': 0.8, 'max_depth': 5, 'min_child_weight': 5, 'n_estimators': 100, 'subsample': 0.9}\n",
      "-0.938533387645\n",
      "Fitting 5 folds for each of 162 candidates, totalling 810 fits\n"
     ]
    },
    {
     "name": "stderr",
     "output_type": "stream",
     "text": [
      "C:\\Users\\Franck\\Documents\\Continuum\\Anaconda3\\lib\\site-packages\\sklearn\\model_selection\\_search.py:667: DeprecationWarning: The grid_scores_ attribute was deprecated in version 0.18 in favor of the more elaborate cv_results_ attribute. The grid_scores_ attribute will not be available from 0.20\n",
      "  DeprecationWarning)\n",
      "[Parallel(n_jobs=-1)]: Done  42 tasks      | elapsed:  3.5min\n",
      "[Parallel(n_jobs=-1)]: Done 192 tasks      | elapsed: 21.8min\n",
      "[Parallel(n_jobs=-1)]: Done 442 tasks      | elapsed: 56.4min\n",
      "[Parallel(n_jobs=-1)]: Done 792 tasks      | elapsed: 114.2min\n",
      "[Parallel(n_jobs=-1)]: Done 810 out of 810 | elapsed: 118.5min finished\n"
     ]
    },
    {
     "name": "stdout",
     "output_type": "stream",
     "text": [
      "tfidf_tsvd_100\n",
      "[mean: -0.94134, std: 0.03160, params: {'colsample_bytree': 0.8, 'max_depth': 3, 'min_child_weight': 1, 'n_estimators': 100, 'subsample': 0.8}, mean: -0.94142, std: 0.02952, params: {'colsample_bytree': 0.8, 'max_depth': 3, 'min_child_weight': 1, 'n_estimators': 100, 'subsample': 0.9}, mean: -0.95229, std: 0.02786, params: {'colsample_bytree': 0.8, 'max_depth': 3, 'min_child_weight': 1, 'n_estimators': 100, 'subsample': 1}, mean: -0.93624, std: 0.05073, params: {'colsample_bytree': 0.8, 'max_depth': 3, 'min_child_weight': 1, 'n_estimators': 200, 'subsample': 0.8}, mean: -0.93189, std: 0.04217, params: {'colsample_bytree': 0.8, 'max_depth': 3, 'min_child_weight': 1, 'n_estimators': 200, 'subsample': 0.9}, mean: -0.93974, std: 0.03934, params: {'colsample_bytree': 0.8, 'max_depth': 3, 'min_child_weight': 1, 'n_estimators': 200, 'subsample': 1}, mean: -0.94541, std: 0.03162, params: {'colsample_bytree': 0.8, 'max_depth': 3, 'min_child_weight': 3, 'n_estimators': 100, 'subsample': 0.8}, mean: -0.94338, std: 0.02789, params: {'colsample_bytree': 0.8, 'max_depth': 3, 'min_child_weight': 3, 'n_estimators': 100, 'subsample': 0.9}, mean: -0.95660, std: 0.02626, params: {'colsample_bytree': 0.8, 'max_depth': 3, 'min_child_weight': 3, 'n_estimators': 100, 'subsample': 1}, mean: -0.93246, std: 0.04634, params: {'colsample_bytree': 0.8, 'max_depth': 3, 'min_child_weight': 3, 'n_estimators': 200, 'subsample': 0.8}, mean: -0.92909, std: 0.04227, params: {'colsample_bytree': 0.8, 'max_depth': 3, 'min_child_weight': 3, 'n_estimators': 200, 'subsample': 0.9}, mean: -0.93787, std: 0.03629, params: {'colsample_bytree': 0.8, 'max_depth': 3, 'min_child_weight': 3, 'n_estimators': 200, 'subsample': 1}, mean: -0.94847, std: 0.03166, params: {'colsample_bytree': 0.8, 'max_depth': 3, 'min_child_weight': 5, 'n_estimators': 100, 'subsample': 0.8}, mean: -0.94559, std: 0.03111, params: {'colsample_bytree': 0.8, 'max_depth': 3, 'min_child_weight': 5, 'n_estimators': 100, 'subsample': 0.9}, mean: -0.95592, std: 0.02736, params: {'colsample_bytree': 0.8, 'max_depth': 3, 'min_child_weight': 5, 'n_estimators': 100, 'subsample': 1}, mean: -0.92829, std: 0.04986, params: {'colsample_bytree': 0.8, 'max_depth': 3, 'min_child_weight': 5, 'n_estimators': 200, 'subsample': 0.8}, mean: -0.92443, std: 0.03745, params: {'colsample_bytree': 0.8, 'max_depth': 3, 'min_child_weight': 5, 'n_estimators': 200, 'subsample': 0.9}, mean: -0.93175, std: 0.03817, params: {'colsample_bytree': 0.8, 'max_depth': 3, 'min_child_weight': 5, 'n_estimators': 200, 'subsample': 1}, mean: -0.93881, std: 0.04255, params: {'colsample_bytree': 0.8, 'max_depth': 5, 'min_child_weight': 1, 'n_estimators': 100, 'subsample': 0.8}, mean: -0.94358, std: 0.04392, params: {'colsample_bytree': 0.8, 'max_depth': 5, 'min_child_weight': 1, 'n_estimators': 100, 'subsample': 0.9}, mean: -0.94590, std: 0.04863, params: {'colsample_bytree': 0.8, 'max_depth': 5, 'min_child_weight': 1, 'n_estimators': 100, 'subsample': 1}, mean: -1.02895, std: 0.05613, params: {'colsample_bytree': 0.8, 'max_depth': 5, 'min_child_weight': 1, 'n_estimators': 200, 'subsample': 0.8}, mean: -1.03883, std: 0.05915, params: {'colsample_bytree': 0.8, 'max_depth': 5, 'min_child_weight': 1, 'n_estimators': 200, 'subsample': 0.9}, mean: -1.04996, std: 0.06794, params: {'colsample_bytree': 0.8, 'max_depth': 5, 'min_child_weight': 1, 'n_estimators': 200, 'subsample': 1}, mean: -0.92130, std: 0.03735, params: {'colsample_bytree': 0.8, 'max_depth': 5, 'min_child_weight': 3, 'n_estimators': 100, 'subsample': 0.8}, mean: -0.92521, std: 0.04091, params: {'colsample_bytree': 0.8, 'max_depth': 5, 'min_child_weight': 3, 'n_estimators': 100, 'subsample': 0.9}, mean: -0.93184, std: 0.03794, params: {'colsample_bytree': 0.8, 'max_depth': 5, 'min_child_weight': 3, 'n_estimators': 100, 'subsample': 1}, mean: -0.98696, std: 0.05091, params: {'colsample_bytree': 0.8, 'max_depth': 5, 'min_child_weight': 3, 'n_estimators': 200, 'subsample': 0.8}, mean: -0.99585, std: 0.05469, params: {'colsample_bytree': 0.8, 'max_depth': 5, 'min_child_weight': 3, 'n_estimators': 200, 'subsample': 0.9}, mean: -1.00975, std: 0.05344, params: {'colsample_bytree': 0.8, 'max_depth': 5, 'min_child_weight': 3, 'n_estimators': 200, 'subsample': 1}, mean: -0.92286, std: 0.03412, params: {'colsample_bytree': 0.8, 'max_depth': 5, 'min_child_weight': 5, 'n_estimators': 100, 'subsample': 0.8}, mean: -0.92044, std: 0.04258, params: {'colsample_bytree': 0.8, 'max_depth': 5, 'min_child_weight': 5, 'n_estimators': 100, 'subsample': 0.9}, mean: -0.93137, std: 0.03920, params: {'colsample_bytree': 0.8, 'max_depth': 5, 'min_child_weight': 5, 'n_estimators': 100, 'subsample': 1}, mean: -0.97278, std: 0.04736, params: {'colsample_bytree': 0.8, 'max_depth': 5, 'min_child_weight': 5, 'n_estimators': 200, 'subsample': 0.8}, mean: -0.97785, std: 0.05948, params: {'colsample_bytree': 0.8, 'max_depth': 5, 'min_child_weight': 5, 'n_estimators': 200, 'subsample': 0.9}, mean: -0.98519, std: 0.05187, params: {'colsample_bytree': 0.8, 'max_depth': 5, 'min_child_weight': 5, 'n_estimators': 200, 'subsample': 1}, mean: -0.98733, std: 0.04999, params: {'colsample_bytree': 0.8, 'max_depth': 7, 'min_child_weight': 1, 'n_estimators': 100, 'subsample': 0.8}, mean: -0.99060, std: 0.04724, params: {'colsample_bytree': 0.8, 'max_depth': 7, 'min_child_weight': 1, 'n_estimators': 100, 'subsample': 0.9}, mean: -0.99815, std: 0.05386, params: {'colsample_bytree': 0.8, 'max_depth': 7, 'min_child_weight': 1, 'n_estimators': 100, 'subsample': 1}, mean: -1.08670, std: 0.06508, params: {'colsample_bytree': 0.8, 'max_depth': 7, 'min_child_weight': 1, 'n_estimators': 200, 'subsample': 0.8}, mean: -1.09400, std: 0.06031, params: {'colsample_bytree': 0.8, 'max_depth': 7, 'min_child_weight': 1, 'n_estimators': 200, 'subsample': 0.9}, mean: -1.10629, std: 0.07021, params: {'colsample_bytree': 0.8, 'max_depth': 7, 'min_child_weight': 1, 'n_estimators': 200, 'subsample': 1}, mean: -0.95119, std: 0.04519, params: {'colsample_bytree': 0.8, 'max_depth': 7, 'min_child_weight': 3, 'n_estimators': 100, 'subsample': 0.8}, mean: -0.95449, std: 0.05049, params: {'colsample_bytree': 0.8, 'max_depth': 7, 'min_child_weight': 3, 'n_estimators': 100, 'subsample': 0.9}, mean: -0.96161, std: 0.04663, params: {'colsample_bytree': 0.8, 'max_depth': 7, 'min_child_weight': 3, 'n_estimators': 100, 'subsample': 1}, mean: -1.02434, std: 0.05470, params: {'colsample_bytree': 0.8, 'max_depth': 7, 'min_child_weight': 3, 'n_estimators': 200, 'subsample': 0.8}, mean: -1.03788, std: 0.05929, params: {'colsample_bytree': 0.8, 'max_depth': 7, 'min_child_weight': 3, 'n_estimators': 200, 'subsample': 0.9}, mean: -1.04990, std: 0.05819, params: {'colsample_bytree': 0.8, 'max_depth': 7, 'min_child_weight': 3, 'n_estimators': 200, 'subsample': 1}, mean: -0.94002, std: 0.04232, params: {'colsample_bytree': 0.8, 'max_depth': 7, 'min_child_weight': 5, 'n_estimators': 100, 'subsample': 0.8}, mean: -0.94296, std: 0.04540, params: {'colsample_bytree': 0.8, 'max_depth': 7, 'min_child_weight': 5, 'n_estimators': 100, 'subsample': 0.9}, mean: -0.94702, std: 0.04224, params: {'colsample_bytree': 0.8, 'max_depth': 7, 'min_child_weight': 5, 'n_estimators': 100, 'subsample': 1}, mean: -1.00067, std: 0.05226, params: {'colsample_bytree': 0.8, 'max_depth': 7, 'min_child_weight': 5, 'n_estimators': 200, 'subsample': 0.8}, mean: -1.01000, std: 0.05796, params: {'colsample_bytree': 0.8, 'max_depth': 7, 'min_child_weight': 5, 'n_estimators': 200, 'subsample': 0.9}, mean: -1.01658, std: 0.05637, params: {'colsample_bytree': 0.8, 'max_depth': 7, 'min_child_weight': 5, 'n_estimators': 200, 'subsample': 1}, mean: -0.94221, std: 0.03615, params: {'colsample_bytree': 0.9, 'max_depth': 3, 'min_child_weight': 1, 'n_estimators': 100, 'subsample': 0.8}, mean: -0.93953, std: 0.03248, params: {'colsample_bytree': 0.9, 'max_depth': 3, 'min_child_weight': 1, 'n_estimators': 100, 'subsample': 0.9}, mean: -0.95524, std: 0.03140, params: {'colsample_bytree': 0.9, 'max_depth': 3, 'min_child_weight': 1, 'n_estimators': 100, 'subsample': 1}, mean: -0.93776, std: 0.04985, params: {'colsample_bytree': 0.9, 'max_depth': 3, 'min_child_weight': 1, 'n_estimators': 200, 'subsample': 0.8}, mean: -0.93309, std: 0.04676, params: {'colsample_bytree': 0.9, 'max_depth': 3, 'min_child_weight': 1, 'n_estimators': 200, 'subsample': 0.9}, mean: -0.94272, std: 0.04023, params: {'colsample_bytree': 0.9, 'max_depth': 3, 'min_child_weight': 1, 'n_estimators': 200, 'subsample': 1}, mean: -0.94746, std: 0.03194, params: {'colsample_bytree': 0.9, 'max_depth': 3, 'min_child_weight': 3, 'n_estimators': 100, 'subsample': 0.8}, mean: -0.94257, std: 0.02701, params: {'colsample_bytree': 0.9, 'max_depth': 3, 'min_child_weight': 3, 'n_estimators': 100, 'subsample': 0.9}, mean: -0.95401, std: 0.02886, params: {'colsample_bytree': 0.9, 'max_depth': 3, 'min_child_weight': 3, 'n_estimators': 100, 'subsample': 1}, mean: -0.93482, std: 0.04472, params: {'colsample_bytree': 0.9, 'max_depth': 3, 'min_child_weight': 3, 'n_estimators': 200, 'subsample': 0.8}, mean: -0.92946, std: 0.03970, params: {'colsample_bytree': 0.9, 'max_depth': 3, 'min_child_weight': 3, 'n_estimators': 200, 'subsample': 0.9}, mean: -0.93567, std: 0.03802, params: {'colsample_bytree': 0.9, 'max_depth': 3, 'min_child_weight': 3, 'n_estimators': 200, 'subsample': 1}, mean: -0.94717, std: 0.03244, params: {'colsample_bytree': 0.9, 'max_depth': 3, 'min_child_weight': 5, 'n_estimators': 100, 'subsample': 0.8}, mean: -0.94521, std: 0.02772, params: {'colsample_bytree': 0.9, 'max_depth': 3, 'min_child_weight': 5, 'n_estimators': 100, 'subsample': 0.9}, mean: -0.95858, std: 0.02989, params: {'colsample_bytree': 0.9, 'max_depth': 3, 'min_child_weight': 5, 'n_estimators': 100, 'subsample': 1}, mean: -0.92875, std: 0.04405, params: {'colsample_bytree': 0.9, 'max_depth': 3, 'min_child_weight': 5, 'n_estimators': 200, 'subsample': 0.8}, mean: -0.92645, std: 0.04103, params: {'colsample_bytree': 0.9, 'max_depth': 3, 'min_child_weight': 5, 'n_estimators': 200, 'subsample': 0.9}, mean: -0.93371, std: 0.04318, params: {'colsample_bytree': 0.9, 'max_depth': 3, 'min_child_weight': 5, 'n_estimators': 200, 'subsample': 1}, mean: -0.94327, std: 0.04158, params: {'colsample_bytree': 0.9, 'max_depth': 5, 'min_child_weight': 1, 'n_estimators': 100, 'subsample': 0.8}, mean: -0.94513, std: 0.04772, params: {'colsample_bytree': 0.9, 'max_depth': 5, 'min_child_weight': 1, 'n_estimators': 100, 'subsample': 0.9}, mean: -0.94841, std: 0.04182, params: {'colsample_bytree': 0.9, 'max_depth': 5, 'min_child_weight': 1, 'n_estimators': 100, 'subsample': 1}, mean: -1.02970, std: 0.05977, params: {'colsample_bytree': 0.9, 'max_depth': 5, 'min_child_weight': 1, 'n_estimators': 200, 'subsample': 0.8}, mean: -1.03694, std: 0.06435, params: {'colsample_bytree': 0.9, 'max_depth': 5, 'min_child_weight': 1, 'n_estimators': 200, 'subsample': 0.9}, mean: -1.04863, std: 0.06346, params: {'colsample_bytree': 0.9, 'max_depth': 5, 'min_child_weight': 1, 'n_estimators': 200, 'subsample': 1}, mean: -0.92618, std: 0.03986, params: {'colsample_bytree': 0.9, 'max_depth': 5, 'min_child_weight': 3, 'n_estimators': 100, 'subsample': 0.8}, mean: -0.92962, std: 0.04101, params: {'colsample_bytree': 0.9, 'max_depth': 5, 'min_child_weight': 3, 'n_estimators': 100, 'subsample': 0.9}, mean: -0.93759, std: 0.04354, params: {'colsample_bytree': 0.9, 'max_depth': 5, 'min_child_weight': 3, 'n_estimators': 100, 'subsample': 1}, mean: -0.99529, std: 0.05466, params: {'colsample_bytree': 0.9, 'max_depth': 5, 'min_child_weight': 3, 'n_estimators': 200, 'subsample': 0.8}, mean: -1.00274, std: 0.05437, params: {'colsample_bytree': 0.9, 'max_depth': 5, 'min_child_weight': 3, 'n_estimators': 200, 'subsample': 0.9}, mean: -1.02092, std: 0.05844, params: {'colsample_bytree': 0.9, 'max_depth': 5, 'min_child_weight': 3, 'n_estimators': 200, 'subsample': 1}, mean: -0.92019, std: 0.04155, params: {'colsample_bytree': 0.9, 'max_depth': 5, 'min_child_weight': 5, 'n_estimators': 100, 'subsample': 0.8}, mean: -0.92912, std: 0.04141, params: {'colsample_bytree': 0.9, 'max_depth': 5, 'min_child_weight': 5, 'n_estimators': 100, 'subsample': 0.9}, mean: -0.93348, std: 0.03975, params: {'colsample_bytree': 0.9, 'max_depth': 5, 'min_child_weight': 5, 'n_estimators': 100, 'subsample': 1}, mean: -0.97236, std: 0.05599, params: {'colsample_bytree': 0.9, 'max_depth': 5, 'min_child_weight': 5, 'n_estimators': 200, 'subsample': 0.8}, mean: -0.98516, std: 0.05520, params: {'colsample_bytree': 0.9, 'max_depth': 5, 'min_child_weight': 5, 'n_estimators': 200, 'subsample': 0.9}, mean: -0.99338, std: 0.05442, params: {'colsample_bytree': 0.9, 'max_depth': 5, 'min_child_weight': 5, 'n_estimators': 200, 'subsample': 1}, mean: -0.99133, std: 0.04587, params: {'colsample_bytree': 0.9, 'max_depth': 7, 'min_child_weight': 1, 'n_estimators': 100, 'subsample': 0.8}, mean: -0.99148, std: 0.05183, params: {'colsample_bytree': 0.9, 'max_depth': 7, 'min_child_weight': 1, 'n_estimators': 100, 'subsample': 0.9}, mean: -1.00602, std: 0.05409, params: {'colsample_bytree': 0.9, 'max_depth': 7, 'min_child_weight': 1, 'n_estimators': 100, 'subsample': 1}, mean: -1.09549, std: 0.06145, params: {'colsample_bytree': 0.9, 'max_depth': 7, 'min_child_weight': 1, 'n_estimators': 200, 'subsample': 0.8}, mean: -1.09374, std: 0.06765, params: {'colsample_bytree': 0.9, 'max_depth': 7, 'min_child_weight': 1, 'n_estimators': 200, 'subsample': 0.9}, mean: -1.11686, std: 0.07371, params: {'colsample_bytree': 0.9, 'max_depth': 7, 'min_child_weight': 1, 'n_estimators': 200, 'subsample': 1}, mean: -0.95210, std: 0.04145, params: {'colsample_bytree': 0.9, 'max_depth': 7, 'min_child_weight': 3, 'n_estimators': 100, 'subsample': 0.8}, mean: -0.96051, std: 0.04281, params: {'colsample_bytree': 0.9, 'max_depth': 7, 'min_child_weight': 3, 'n_estimators': 100, 'subsample': 0.9}, mean: -0.96808, std: 0.04763, params: {'colsample_bytree': 0.9, 'max_depth': 7, 'min_child_weight': 3, 'n_estimators': 100, 'subsample': 1}, mean: -1.02862, std: 0.05401, params: {'colsample_bytree': 0.9, 'max_depth': 7, 'min_child_weight': 3, 'n_estimators': 200, 'subsample': 0.8}, mean: -1.04713, std: 0.05431, params: {'colsample_bytree': 0.9, 'max_depth': 7, 'min_child_weight': 3, 'n_estimators': 200, 'subsample': 0.9}, mean: -1.05647, std: 0.05938, params: {'colsample_bytree': 0.9, 'max_depth': 7, 'min_child_weight': 3, 'n_estimators': 200, 'subsample': 1}, mean: -0.94183, std: 0.03944, params: {'colsample_bytree': 0.9, 'max_depth': 7, 'min_child_weight': 5, 'n_estimators': 100, 'subsample': 0.8}, mean: -0.93911, std: 0.04313, params: {'colsample_bytree': 0.9, 'max_depth': 7, 'min_child_weight': 5, 'n_estimators': 100, 'subsample': 0.9}, mean: -0.95421, std: 0.04919, params: {'colsample_bytree': 0.9, 'max_depth': 7, 'min_child_weight': 5, 'n_estimators': 100, 'subsample': 1}, mean: -1.00131, std: 0.05224, params: {'colsample_bytree': 0.9, 'max_depth': 7, 'min_child_weight': 5, 'n_estimators': 200, 'subsample': 0.8}, mean: -1.00477, std: 0.05306, params: {'colsample_bytree': 0.9, 'max_depth': 7, 'min_child_weight': 5, 'n_estimators': 200, 'subsample': 0.9}, mean: -1.02791, std: 0.06201, params: {'colsample_bytree': 0.9, 'max_depth': 7, 'min_child_weight': 5, 'n_estimators': 200, 'subsample': 1}, mean: -0.94037, std: 0.03136, params: {'colsample_bytree': 1, 'max_depth': 3, 'min_child_weight': 1, 'n_estimators': 100, 'subsample': 0.8}, mean: -0.94096, std: 0.03313, params: {'colsample_bytree': 1, 'max_depth': 3, 'min_child_weight': 1, 'n_estimators': 100, 'subsample': 0.9}, mean: -0.95583, std: 0.03216, params: {'colsample_bytree': 1, 'max_depth': 3, 'min_child_weight': 1, 'n_estimators': 100, 'subsample': 1}, mean: -0.94233, std: 0.04376, params: {'colsample_bytree': 1, 'max_depth': 3, 'min_child_weight': 1, 'n_estimators': 200, 'subsample': 0.8}, mean: -0.93835, std: 0.04887, params: {'colsample_bytree': 1, 'max_depth': 3, 'min_child_weight': 1, 'n_estimators': 200, 'subsample': 0.9}, mean: -0.94646, std: 0.04270, params: {'colsample_bytree': 1, 'max_depth': 3, 'min_child_weight': 1, 'n_estimators': 200, 'subsample': 1}, mean: -0.94351, std: 0.03064, params: {'colsample_bytree': 1, 'max_depth': 3, 'min_child_weight': 3, 'n_estimators': 100, 'subsample': 0.8}, mean: -0.94223, std: 0.02672, params: {'colsample_bytree': 1, 'max_depth': 3, 'min_child_weight': 3, 'n_estimators': 100, 'subsample': 0.9}, mean: -0.95725, std: 0.02626, params: {'colsample_bytree': 1, 'max_depth': 3, 'min_child_weight': 3, 'n_estimators': 100, 'subsample': 1}, mean: -0.93200, std: 0.04381, params: {'colsample_bytree': 1, 'max_depth': 3, 'min_child_weight': 3, 'n_estimators': 200, 'subsample': 0.8}, mean: -0.92929, std: 0.04118, params: {'colsample_bytree': 1, 'max_depth': 3, 'min_child_weight': 3, 'n_estimators': 200, 'subsample': 0.9}, mean: -0.93945, std: 0.03842, params: {'colsample_bytree': 1, 'max_depth': 3, 'min_child_weight': 3, 'n_estimators': 200, 'subsample': 1}, mean: -0.94591, std: 0.02845, params: {'colsample_bytree': 1, 'max_depth': 3, 'min_child_weight': 5, 'n_estimators': 100, 'subsample': 0.8}, mean: -0.94832, std: 0.03193, params: {'colsample_bytree': 1, 'max_depth': 3, 'min_child_weight': 5, 'n_estimators': 100, 'subsample': 0.9}, mean: -0.95951, std: 0.02892, params: {'colsample_bytree': 1, 'max_depth': 3, 'min_child_weight': 5, 'n_estimators': 100, 'subsample': 1}, mean: -0.92791, std: 0.04462, params: {'colsample_bytree': 1, 'max_depth': 3, 'min_child_weight': 5, 'n_estimators': 200, 'subsample': 0.8}, mean: -0.92679, std: 0.04434, params: {'colsample_bytree': 1, 'max_depth': 3, 'min_child_weight': 5, 'n_estimators': 200, 'subsample': 0.9}, mean: -0.93547, std: 0.04060, params: {'colsample_bytree': 1, 'max_depth': 3, 'min_child_weight': 5, 'n_estimators': 200, 'subsample': 1}, mean: -0.94497, std: 0.04039, params: {'colsample_bytree': 1, 'max_depth': 5, 'min_child_weight': 1, 'n_estimators': 100, 'subsample': 0.8}, mean: -0.94464, std: 0.04993, params: {'colsample_bytree': 1, 'max_depth': 5, 'min_child_weight': 1, 'n_estimators': 100, 'subsample': 0.9}, mean: -0.95011, std: 0.04451, params: {'colsample_bytree': 1, 'max_depth': 5, 'min_child_weight': 1, 'n_estimators': 100, 'subsample': 1}, mean: -1.03796, std: 0.05435, params: {'colsample_bytree': 1, 'max_depth': 5, 'min_child_weight': 1, 'n_estimators': 200, 'subsample': 0.8}, mean: -1.04123, std: 0.06821, params: {'colsample_bytree': 1, 'max_depth': 5, 'min_child_weight': 1, 'n_estimators': 200, 'subsample': 0.9}, mean: -1.05533, std: 0.06130, params: {'colsample_bytree': 1, 'max_depth': 5, 'min_child_weight': 1, 'n_estimators': 200, 'subsample': 1}, mean: -0.92490, std: 0.03622, params: {'colsample_bytree': 1, 'max_depth': 5, 'min_child_weight': 3, 'n_estimators': 100, 'subsample': 0.8}, mean: -0.92543, std: 0.04639, params: {'colsample_bytree': 1, 'max_depth': 5, 'min_child_weight': 3, 'n_estimators': 100, 'subsample': 0.9}, mean: -0.93985, std: 0.04603, params: {'colsample_bytree': 1, 'max_depth': 5, 'min_child_weight': 3, 'n_estimators': 100, 'subsample': 1}, mean: -0.99192, std: 0.04987, params: {'colsample_bytree': 1, 'max_depth': 5, 'min_child_weight': 3, 'n_estimators': 200, 'subsample': 0.8}, mean: -0.99762, std: 0.05899, params: {'colsample_bytree': 1, 'max_depth': 5, 'min_child_weight': 3, 'n_estimators': 200, 'subsample': 0.9}, mean: -1.02088, std: 0.05980, params: {'colsample_bytree': 1, 'max_depth': 5, 'min_child_weight': 3, 'n_estimators': 200, 'subsample': 1}, mean: -0.92004, std: 0.04053, params: {'colsample_bytree': 1, 'max_depth': 5, 'min_child_weight': 5, 'n_estimators': 100, 'subsample': 0.8}, mean: -0.92450, std: 0.03737, params: {'colsample_bytree': 1, 'max_depth': 5, 'min_child_weight': 5, 'n_estimators': 100, 'subsample': 0.9}, mean: -0.93519, std: 0.04077, params: {'colsample_bytree': 1, 'max_depth': 5, 'min_child_weight': 5, 'n_estimators': 100, 'subsample': 1}, mean: -0.97323, std: 0.05206, params: {'colsample_bytree': 1, 'max_depth': 5, 'min_child_weight': 5, 'n_estimators': 200, 'subsample': 0.8}, mean: -0.98361, std: 0.05199, params: {'colsample_bytree': 1, 'max_depth': 5, 'min_child_weight': 5, 'n_estimators': 200, 'subsample': 0.9}, mean: -0.99488, std: 0.05315, params: {'colsample_bytree': 1, 'max_depth': 5, 'min_child_weight': 5, 'n_estimators': 200, 'subsample': 1}, mean: -0.99094, std: 0.04532, params: {'colsample_bytree': 1, 'max_depth': 7, 'min_child_weight': 1, 'n_estimators': 100, 'subsample': 0.8}, mean: -0.99471, std: 0.04933, params: {'colsample_bytree': 1, 'max_depth': 7, 'min_child_weight': 1, 'n_estimators': 100, 'subsample': 0.9}, mean: -1.01117, std: 0.05576, params: {'colsample_bytree': 1, 'max_depth': 7, 'min_child_weight': 1, 'n_estimators': 100, 'subsample': 1}, mean: -1.09266, std: 0.05934, params: {'colsample_bytree': 1, 'max_depth': 7, 'min_child_weight': 1, 'n_estimators': 200, 'subsample': 0.8}, mean: -1.10233, std: 0.06552, params: {'colsample_bytree': 1, 'max_depth': 7, 'min_child_weight': 1, 'n_estimators': 200, 'subsample': 0.9}, mean: -1.12793, std: 0.07204, params: {'colsample_bytree': 1, 'max_depth': 7, 'min_child_weight': 1, 'n_estimators': 200, 'subsample': 1}, mean: -0.95127, std: 0.03485, params: {'colsample_bytree': 1, 'max_depth': 7, 'min_child_weight': 3, 'n_estimators': 100, 'subsample': 0.8}, mean: -0.96269, std: 0.04692, params: {'colsample_bytree': 1, 'max_depth': 7, 'min_child_weight': 3, 'n_estimators': 100, 'subsample': 0.9}, mean: -0.96801, std: 0.04706, params: {'colsample_bytree': 1, 'max_depth': 7, 'min_child_weight': 3, 'n_estimators': 100, 'subsample': 1}, mean: -1.02688, std: 0.04829, params: {'colsample_bytree': 1, 'max_depth': 7, 'min_child_weight': 3, 'n_estimators': 200, 'subsample': 0.8}, mean: -1.04865, std: 0.06040, params: {'colsample_bytree': 1, 'max_depth': 7, 'min_child_weight': 3, 'n_estimators': 200, 'subsample': 0.9}, mean: -1.05967, std: 0.05803, params: {'colsample_bytree': 1, 'max_depth': 7, 'min_child_weight': 3, 'n_estimators': 200, 'subsample': 1}, mean: -0.94066, std: 0.03928, params: {'colsample_bytree': 1, 'max_depth': 7, 'min_child_weight': 5, 'n_estimators': 100, 'subsample': 0.8}, mean: -0.94157, std: 0.04816, params: {'colsample_bytree': 1, 'max_depth': 7, 'min_child_weight': 5, 'n_estimators': 100, 'subsample': 0.9}, mean: -0.95353, std: 0.04751, params: {'colsample_bytree': 1, 'max_depth': 7, 'min_child_weight': 5, 'n_estimators': 100, 'subsample': 1}, mean: -1.00161, std: 0.05091, params: {'colsample_bytree': 1, 'max_depth': 7, 'min_child_weight': 5, 'n_estimators': 200, 'subsample': 0.8}, mean: -1.01082, std: 0.05942, params: {'colsample_bytree': 1, 'max_depth': 7, 'min_child_weight': 5, 'n_estimators': 200, 'subsample': 0.9}, mean: -1.02649, std: 0.06186, params: {'colsample_bytree': 1, 'max_depth': 7, 'min_child_weight': 5, 'n_estimators': 200, 'subsample': 1}]\n",
      "{'colsample_bytree': 1, 'max_depth': 5, 'min_child_weight': 5, 'n_estimators': 100, 'subsample': 0.8}\n",
      "-0.920038387312\n",
      "Fitting 5 folds for each of 162 candidates, totalling 810 fits\n"
     ]
    },
    {
     "name": "stderr",
     "output_type": "stream",
     "text": [
      "C:\\Users\\Franck\\Documents\\Continuum\\Anaconda3\\lib\\site-packages\\sklearn\\model_selection\\_search.py:667: DeprecationWarning: The grid_scores_ attribute was deprecated in version 0.18 in favor of the more elaborate cv_results_ attribute. The grid_scores_ attribute will not be available from 0.20\n",
      "  DeprecationWarning)\n",
      "[Parallel(n_jobs=-1)]: Done  42 tasks      | elapsed: 10.0min\n",
      "[Parallel(n_jobs=-1)]: Done 192 tasks      | elapsed: 62.0min\n",
      "[Parallel(n_jobs=-1)]: Done 442 tasks      | elapsed: 159.8min\n"
     ]
    }
   ],
   "source": [
    "clf_xgb=XGBClassifier(max_depth=3, objective=\"multi:softprob\",seed=26)\n",
    "param_test= {\n",
    "    \"max_depth\" : [3,5,7],\n",
    "    \"min_child_weight\" : [1,3,5],\n",
    "    \"n_estimators\" : [100,200],\n",
    "    \"subsample\":[0.8,0.9,1],\n",
    "    \"colsample_bytree\":[0.8,0.9,1]\n",
    "}\n",
    "for name in work_train_final:\n",
    "    gsearch=GridSearchCV(estimator=clf_xgb, param_grid = param_test,scoring=\"neg_log_loss\",n_jobs=-1,iid=False, cv=kf,verbose=True)\n",
    "    gsearch.fit(np.array(work_train_ext[name]),y)\n",
    "    print(name)\n",
    "    print(gsearch.grid_scores_)\n",
    "    print(gsearch.best_params_)\n",
    "    print(gsearch.best_score_)\n",
    "#bio : {'colsample_bytree': 0.8, 'max_depth': 5, 'min_child_weight': 3, 'n_estimators': 100, 'subsample': 1}\n",
    "#tfidf: {'colsample_bytree': 0.8, 'max_depth': 5, 'min_child_weight': 3, 'n_estimators': 100, 'subsample': 1}\n",
    "#w2v: {'colsample_bytree': 0.8, 'max_depth': 5, 'min_child_weight': 3, 'n_estimators': 100, 'subsample': 0.8}"
   ]
  },
  {
   "cell_type": "code",
   "execution_count": null,
   "metadata": {},
   "outputs": [],
   "source": [
    "clf_lgbm=LGBMClassifier(seed=26)\n",
    "param_test= {\n",
    "    'n_estimators': [8,,16,24,36,48],\n",
    "    'num_leaves': [6,12,16,22],\n",
    "    'boosting_type' : ['gbdt'],\n",
    "    'colsample_bytree' : [0.7,0.8,0.9],\n",
    "    'subsample' : [0.7,0.8,0.9]\n",
    "    }\n",
    "for name in work_train_final:\n",
    "    gsearch=GridSearchCV(estimator=clf_lgbm, param_grid = param_test,scoring=\"neg_log_loss\",n_jobs=-1,iid=False, cv=kf,verbose=True)\n",
    "    gsearch.fit(np.array(work_train_ext[name]),y)\n",
    "    print(name)\n",
    "    print(gsearch.grid_scores_)\n",
    "    print(gsearch.best_params_)\n",
    "    print(gsearch.best_score_)\n",
    "#d2v : {'boosting_type': 'gbdt', 'colsample_bytree': 0.8, 'n_estimators': 48, 'num_leaves': 22, 'subsample': 0.8}\n",
    "#tfidf : {'boosting_type': 'gbdt', 'colsample_bytree': 0.8, 'n_estimators': 48, 'num_leaves': 22, 'subsample': 0.8}\n",
    "#w2v : {'boosting_type': 'gbdt', 'colsample_bytree': 0.8, 'n_estimators': 48, 'num_leaves': 22, 'subsample': 0.8}"
   ]
  },
  {
   "cell_type": "code",
   "execution_count": 34,
   "metadata": {
    "collapsed": true
   },
   "outputs": [
    {
     "name": "stdout",
     "output_type": "stream",
     "text": [
      "Fitting 5 folds for each of 14 candidates, totalling 70 fits\n"
     ]
    },
    {
     "name": "stderr",
     "output_type": "stream",
     "text": [
      "[Parallel(n_jobs=-1)]: Done  42 tasks      | elapsed:   28.5s\n",
      "[Parallel(n_jobs=-1)]: Done  70 out of  70 | elapsed:  5.5min finished\n"
     ]
    },
    {
     "name": "stdout",
     "output_type": "stream",
     "text": [
      "bio\n",
      "[mean: -2.16489, std: 0.00029, params: {'C': 0.001, 'penalty': 'l1'}, mean: -2.10134, std: 0.00074, params: {'C': 0.001, 'penalty': 'l2'}, mean: -1.91341, std: 0.00133, params: {'C': 0.01, 'penalty': 'l1'}, mean: -1.87990, std: 0.00458, params: {'C': 0.01, 'penalty': 'l2'}, mean: -1.74917, std: 0.01223, params: {'C': 0.1, 'penalty': 'l1'}, mean: -1.60313, std: 0.01831, params: {'C': 0.1, 'penalty': 'l2'}, mean: -1.36559, std: 0.02814, params: {'C': 1, 'penalty': 'l1'}, mean: -1.36289, std: 0.02980, params: {'C': 1, 'penalty': 'l2'}, mean: -1.16996, std: 0.04263, params: {'C': 10, 'penalty': 'l1'}, mean: -1.20232, std: 0.03268, params: {'C': 10, 'penalty': 'l2'}, mean: -1.38548, std: 0.06647, params: {'C': 100, 'penalty': 'l1'}, mean: -1.16012, std: 0.04500, params: {'C': 100, 'penalty': 'l2'}, mean: -1.72748, std: 0.12829, params: {'C': 1000, 'penalty': 'l1'}, mean: -1.30786, std: 0.05802, params: {'C': 1000, 'penalty': 'l2'}]\n",
      "{'C': 100, 'penalty': 'l2'}\n",
      "-1.16011995766\n",
      "Fitting 5 folds for each of 14 candidates, totalling 70 fits\n"
     ]
    },
    {
     "name": "stderr",
     "output_type": "stream",
     "text": [
      "C:\\Users\\Franck\\Documents\\Continuum\\Anaconda3\\lib\\site-packages\\sklearn\\model_selection\\_search.py:667: DeprecationWarning: The grid_scores_ attribute was deprecated in version 0.18 in favor of the more elaborate cv_results_ attribute. The grid_scores_ attribute will not be available from 0.20\n",
      "  DeprecationWarning)\n",
      "[Parallel(n_jobs=-1)]: Done  42 tasks      | elapsed:    6.6s\n",
      "[Parallel(n_jobs=-1)]: Done  70 out of  70 | elapsed:   40.0s finished\n"
     ]
    },
    {
     "name": "stdout",
     "output_type": "stream",
     "text": [
      "tfidf_tsvd_100\n",
      "[mean: -2.16489, std: 0.00029, params: {'C': 0.001, 'penalty': 'l1'}, mean: -2.12527, std: 0.00046, params: {'C': 0.001, 'penalty': 'l2'}, mean: -1.91341, std: 0.00133, params: {'C': 0.01, 'penalty': 'l1'}, mean: -1.89633, std: 0.00310, params: {'C': 0.01, 'penalty': 'l2'}, mean: -1.58242, std: 0.01423, params: {'C': 0.1, 'penalty': 'l1'}, mean: -1.52553, std: 0.01136, params: {'C': 0.1, 'penalty': 'l2'}, mean: -1.16043, std: 0.01439, params: {'C': 1, 'penalty': 'l1'}, mean: -1.19221, std: 0.01642, params: {'C': 1, 'penalty': 'l2'}, mean: -1.08386, std: 0.02675, params: {'C': 10, 'penalty': 'l1'}, mean: -1.07288, std: 0.02133, params: {'C': 10, 'penalty': 'l2'}, mean: -1.20319, std: 0.04193, params: {'C': 100, 'penalty': 'l1'}, mean: -1.10435, std: 0.03337, params: {'C': 100, 'penalty': 'l2'}, mean: -1.30641, std: 0.06715, params: {'C': 1000, 'penalty': 'l1'}, mean: -1.19175, std: 0.04642, params: {'C': 1000, 'penalty': 'l2'}]\n",
      "{'C': 10, 'penalty': 'l2'}\n",
      "-1.07288442852\n",
      "Fitting 5 folds for each of 14 candidates, totalling 70 fits\n"
     ]
    },
    {
     "name": "stderr",
     "output_type": "stream",
     "text": [
      "C:\\Users\\Franck\\Documents\\Continuum\\Anaconda3\\lib\\site-packages\\sklearn\\model_selection\\_search.py:667: DeprecationWarning: The grid_scores_ attribute was deprecated in version 0.18 in favor of the more elaborate cv_results_ attribute. The grid_scores_ attribute will not be available from 0.20\n",
      "  DeprecationWarning)\n",
      "[Parallel(n_jobs=-1)]: Done  42 tasks      | elapsed:   39.1s\n",
      "[Parallel(n_jobs=-1)]: Done  70 out of  70 | elapsed: 47.1min finished\n"
     ]
    },
    {
     "name": "stdout",
     "output_type": "stream",
     "text": [
      "w2v_300\n",
      "[mean: -2.16489, std: 0.00029, params: {'C': 0.001, 'penalty': 'l1'}, mean: -1.87894, std: 0.00707, params: {'C': 0.001, 'penalty': 'l2'}, mean: -1.90219, std: 0.00165, params: {'C': 0.01, 'penalty': 'l1'}, mean: -1.54857, std: 0.01781, params: {'C': 0.01, 'penalty': 'l2'}, mean: -1.48291, std: 0.01962, params: {'C': 0.1, 'penalty': 'l1'}, mean: -1.33218, std: 0.01983, params: {'C': 0.1, 'penalty': 'l2'}, mean: -1.24381, std: 0.02467, params: {'C': 1, 'penalty': 'l1'}, mean: -1.21924, std: 0.02682, params: {'C': 1, 'penalty': 'l2'}, mean: -1.18246, std: 0.03968, params: {'C': 10, 'penalty': 'l1'}, mean: -1.18141, std: 0.03306, params: {'C': 10, 'penalty': 'l2'}, mean: -1.29852, std: 0.07677, params: {'C': 100, 'penalty': 'l1'}, mean: -1.20224, std: 0.04803, params: {'C': 100, 'penalty': 'l2'}, mean: -1.51600, std: 0.13707, params: {'C': 1000, 'penalty': 'l1'}, mean: -1.27643, std: 0.07441, params: {'C': 1000, 'penalty': 'l2'}]\n",
      "{'C': 10, 'penalty': 'l2'}\n",
      "-1.18141051951\n"
     ]
    },
    {
     "name": "stderr",
     "output_type": "stream",
     "text": [
      "C:\\Users\\Franck\\Documents\\Continuum\\Anaconda3\\lib\\site-packages\\sklearn\\model_selection\\_search.py:667: DeprecationWarning: The grid_scores_ attribute was deprecated in version 0.18 in favor of the more elaborate cv_results_ attribute. The grid_scores_ attribute will not be available from 0.20\n",
      "  DeprecationWarning)\n"
     ]
    }
   ],
   "source": [
    "clf_log=LogisticRegression()\n",
    "param_test= {\n",
    "    \"C\" : [0.001, 0.01, 0.1, 1, 10, 100, 1000],\n",
    "    \"penalty\" : [\"l1\",\"l2\"]\n",
    "}\n",
    "for name in work_train_final:\n",
    "    gsearch=GridSearchCV(estimator=clf_log, param_grid = param_test,scoring=\"neg_log_loss\",n_jobs=-1,iid=False, cv=kf,verbose=True)\n",
    "    gsearch.fit(np.array(work_train_final[name]),y)\n",
    "    print(name)\n",
    "    print(gsearch.grid_scores_)\n",
    "    print(gsearch.best_params_)\n",
    "    print(gsearch.best_score_)\n",
    "#bio : {'C': 10, 'penalty': 'l1'}\n",
    "#tfidf : {'C': 10, 'penalty': 'l1'}\n",
    "#w2v : {'C': 1, 'penalty': 'l1'}"
   ]
  },
  {
   "cell_type": "code",
   "execution_count": null,
   "metadata": {
    "collapsed": true
   },
   "outputs": [
    {
     "name": "stdout",
     "output_type": "stream",
     "text": [
      "Fitting 5 folds for each of 14 candidates, totalling 70 fits\n"
     ]
    },
    {
     "name": "stderr",
     "output_type": "stream",
     "text": [
      "[Parallel(n_jobs=-1)]: Done  42 tasks      | elapsed:   38.3s\n",
      "[Parallel(n_jobs=-1)]: Done  70 out of  70 | elapsed:  8.1min finished\n"
     ]
    },
    {
     "name": "stdout",
     "output_type": "stream",
     "text": [
      "bio\n",
      "[mean: -2.04903, std: 0.00643, params: {'C': 0.001, 'penalty': 'l1'}, mean: -1.69707, std: 0.01004, params: {'C': 0.001, 'penalty': 'l2'}, mean: -1.59588, std: 0.01875, params: {'C': 0.01, 'penalty': 'l1'}, mean: -1.39052, std: 0.01480, params: {'C': 0.01, 'penalty': 'l2'}, mean: -1.34130, std: 0.02130, params: {'C': 0.1, 'penalty': 'l1'}, mean: -1.28633, std: 0.02297, params: {'C': 0.1, 'penalty': 'l2'}, mean: -1.25670, std: 0.03723, params: {'C': 1, 'penalty': 'l1'}, mean: -1.22663, std: 0.03529, params: {'C': 1, 'penalty': 'l2'}, mean: -1.16912, std: 0.07483, params: {'C': 10, 'penalty': 'l1'}, mean: -1.16517, std: 0.05737, params: {'C': 10, 'penalty': 'l2'}, mean: -1.45068, std: 0.11123, params: {'C': 100, 'penalty': 'l1'}, mean: -1.17256, std: 0.08469, params: {'C': 100, 'penalty': 'l2'}, mean: -1.77874, std: 0.19913, params: {'C': 1000, 'penalty': 'l1'}, mean: -1.32814, std: 0.08134, params: {'C': 1000, 'penalty': 'l2'}]\n",
      "{'C': 10, 'penalty': 'l2'}\n",
      "-1.1651688452\n",
      "Fitting 5 folds for each of 14 candidates, totalling 70 fits\n"
     ]
    },
    {
     "name": "stderr",
     "output_type": "stream",
     "text": [
      "C:\\Users\\Franck\\Documents\\Continuum\\Anaconda3\\lib\\site-packages\\sklearn\\model_selection\\_search.py:667: DeprecationWarning: The grid_scores_ attribute was deprecated in version 0.18 in favor of the more elaborate cv_results_ attribute. The grid_scores_ attribute will not be available from 0.20\n",
      "  DeprecationWarning)\n",
      "[Parallel(n_jobs=-1)]: Done  42 tasks      | elapsed:   24.9s\n",
      "[Parallel(n_jobs=-1)]: Done  70 out of  70 | elapsed:  3.9min finished\n"
     ]
    },
    {
     "name": "stdout",
     "output_type": "stream",
     "text": [
      "tfidf_tsvd_100\n",
      "[mean: -2.04903, std: 0.00643, params: {'C': 0.001, 'penalty': 'l1'}, mean: -1.70507, std: 0.01005, params: {'C': 0.001, 'penalty': 'l2'}, mean: -1.59588, std: 0.01874, params: {'C': 0.01, 'penalty': 'l1'}, mean: -1.39402, std: 0.01424, params: {'C': 0.01, 'penalty': 'l2'}, mean: -1.33730, std: 0.02121, params: {'C': 0.1, 'penalty': 'l1'}, mean: -1.26934, std: 0.02130, params: {'C': 0.1, 'penalty': 'l2'}, mean: -1.15798, std: 0.02447, params: {'C': 1, 'penalty': 'l1'}, mean: -1.15016, std: 0.02911, params: {'C': 1, 'penalty': 'l2'}, mean: -1.12490, std: 0.05547, params: {'C': 10, 'penalty': 'l1'}, mean: -1.09272, std: 0.04911, params: {'C': 10, 'penalty': 'l2'}, mean: -1.27942, std: 0.08589, params: {'C': 100, 'penalty': 'l1'}, mean: -1.15544, std: 0.07082, params: {'C': 100, 'penalty': 'l2'}, mean: -1.43050, std: 0.11937, params: {'C': 1000, 'penalty': 'l1'}, mean: -1.25191, std: 0.08117, params: {'C': 1000, 'penalty': 'l2'}]\n",
      "{'C': 10, 'penalty': 'l2'}\n",
      "-1.09271753031\n",
      "Fitting 5 folds for each of 14 candidates, totalling 70 fits\n"
     ]
    },
    {
     "name": "stderr",
     "output_type": "stream",
     "text": [
      "C:\\Users\\Franck\\Documents\\Continuum\\Anaconda3\\lib\\site-packages\\sklearn\\model_selection\\_search.py:667: DeprecationWarning: The grid_scores_ attribute was deprecated in version 0.18 in favor of the more elaborate cv_results_ attribute. The grid_scores_ attribute will not be available from 0.20\n",
      "  DeprecationWarning)\n",
      "[Parallel(n_jobs=-1)]: Done  42 tasks      | elapsed:   54.6s\n",
      "[Parallel(n_jobs=-1)]: Done  70 out of  70 | elapsed: 49.8min finished\n"
     ]
    },
    {
     "name": "stdout",
     "output_type": "stream",
     "text": [
      "w2v_300\n",
      "[mean: -2.04903, std: 0.00643, params: {'C': 0.001, 'penalty': 'l1'}, mean: -1.60625, std: 0.01207, params: {'C': 0.001, 'penalty': 'l2'}, mean: -1.59589, std: 0.01874, params: {'C': 0.01, 'penalty': 'l1'}, mean: -1.30283, std: 0.01969, params: {'C': 0.01, 'penalty': 'l2'}, mean: -1.29492, std: 0.02645, params: {'C': 0.1, 'penalty': 'l1'}, mean: -1.18978, std: 0.02982, params: {'C': 0.1, 'penalty': 'l2'}, mean: -1.17644, std: 0.04633, params: {'C': 1, 'penalty': 'l1'}, mean: -1.15330, std: 0.04963, params: {'C': 1, 'penalty': 'l2'}, mean: -1.19066, std: 0.08564, params: {'C': 10, 'penalty': 'l1'}, mean: -1.16551, std: 0.06926, params: {'C': 10, 'penalty': 'l2'}, mean: -1.34990, std: 0.11605, params: {'C': 100, 'penalty': 'l1'}, mean: -1.23027, std: 0.09377, params: {'C': 100, 'penalty': 'l2'}, mean: -1.56735, std: 0.17136, params: {'C': 1000, 'penalty': 'l1'}, mean: -1.32577, std: 0.12000, params: {'C': 1000, 'penalty': 'l2'}]\n",
      "{'C': 1, 'penalty': 'l2'}\n",
      "-1.15330170978\n"
     ]
    },
    {
     "name": "stderr",
     "output_type": "stream",
     "text": [
      "C:\\Users\\Franck\\Documents\\Continuum\\Anaconda3\\lib\\site-packages\\sklearn\\model_selection\\_search.py:667: DeprecationWarning: The grid_scores_ attribute was deprecated in version 0.18 in favor of the more elaborate cv_results_ attribute. The grid_scores_ attribute will not be available from 0.20\n",
      "  DeprecationWarning)\n"
     ]
    }
   ],
   "source": [
    "clf_log=LogisticRegression()\n",
    "param_test= {\n",
    "    \"C\" : [0.001, 0.01, 0.1, 1, 10, 100, 1000],\n",
    "    \"penalty\" : [\"l1\",\"l2\"]\n",
    "}\n",
    "for name in work_train_final:\n",
    "    gsearch=GridSearchCV(estimator=clf_log, param_grid = param_test,scoring=\"neg_log_loss\",n_jobs=-1,iid=False, cv=kf,verbose=True)\n",
    "    gsearch.fit(np.array(work_train_ext[name]),y)\n",
    "    print(name)\n",
    "    print(gsearch.grid_scores_)\n",
    "    print(gsearch.best_params_)\n",
    "    print(gsearch.best_score_)"
   ]
  },
  {
   "cell_type": "code",
   "execution_count": null,
   "metadata": {},
   "outputs": [],
   "source": [
    "clf_ada=AdaBoostClassifier(n_estimators=100, learning_rate=0.3, algorithm=\"SAMME.R\", random_state=26)\n",
    "param_test={\n",
    "    \"n_estimators\":[50,70,100,200],\n",
    "    \"learning_rate\":[0.01,0.05,0.1,0.2]\n",
    "}\n",
    "for name in work_train_final:\n",
    "    gsearch=GridSearchCV(estimator=clf_ada, param_grid = param_test,scoring=\"neg_log_loss\",n_jobs=-1,iid=False, cv=kf,verbose=True)\n",
    "    gsearch.fit(np.array(work_train_ext[name]),y)\n",
    "    print(name)\n",
    "    print(gsearch.grid_scores_)\n",
    "    print(gsearch.best_params_)\n",
    "    print(gsearch.best_score_)\n",
    "#d2v : {'learning_rate': 0.01, 'n_estimators': 50}\n",
    "#tfidf : {'learning_rate': 0.01, 'n_estimators': 70}\n",
    "#w2v :{'learning_rate': 0.01, 'n_estimators': 50}"
   ]
  },
  {
   "cell_type": "code",
   "execution_count": null,
   "metadata": {},
   "outputs": [],
   "source": [
    "clf_dt=RandomForestClassifier()\n",
    "param_test={\n",
    "    \"max_depth\":[10,15,20,25,30,35],\n",
    "    \"n_estimators\":[200,300,400]\n",
    "}\n",
    "for name in work_train_final:\n",
    "    gsearch=GridSearchCV(estimator=clf_dt, param_grid = param_test,scoring=\"neg_log_loss\",n_jobs=-1,iid=False, cv=kf,verbose=True)\n",
    "    gsearch.fit(np.array(work_train_ext[name]),y)\n",
    "    print(name)\n",
    "    print(gsearch.grid_scores_)\n",
    "    print(gsearch.best_params_)\n",
    "    print(gsearch.best_score_)\n",
    "#d2v : {'max_depth': 15, 'n_estimators': 300}\n",
    "#tfidf :{'max_depth': 20, 'n_estimators': 400}\n",
    "#w2v : {'max_depth': 15, 'n_estimators': 400}"
   ]
  },
  {
   "cell_type": "markdown",
   "metadata": {},
   "source": [
    "# TRAINING PHASE ALL ALGOS "
   ]
  },
  {
   "cell_type": "code",
   "execution_count": 23,
   "metadata": {},
   "outputs": [],
   "source": [
    "def model_gen(X,X_test,y,classifier,file,five_fold_predict=True):\n",
    "    #if not os.path.exists(\"scores/\"+file):\n",
    "    #   os.makedirs(\"scores/\"+file)\n",
    "    if five_fold_predict:\n",
    "        fold = 0\n",
    "        y_test=0\n",
    "        for train_index, test_index in kf.split(X, y):\n",
    "        \n",
    "            fold += 1\n",
    "\n",
    "            X_train, X_valid    = X[train_index],   X[test_index]\n",
    "            y_train, y_valid    = y[train_index],   y[test_index]\n",
    "\n",
    "            print(\"Fold\", fold, X_train.shape, X_valid.shape)\n",
    "\n",
    "            clf=classifier\n",
    "            clf.fit(X_train,y_train)\n",
    "            p_test = clf.predict_proba(X_test)\n",
    "            y_test += p_test/5\n",
    "\n",
    "    classes = \"class1,class2,class3,class4,class5,class6,class7,class8,class9\".split(',')\n",
    "    subm = pd.DataFrame(y_test, columns=classes)\n",
    "    subm['ID'] = ID_test\n",
    "    \n",
    "    subm.to_csv(\"new_scores/new_stack_test/new_{}.csv\".format(file),index=False)\n",
    "    \n",
    "    print(\"cross_val sur train \") #peut etre que to array est exclusivement pour les xgb\n",
    "\n",
    "    y_pred=cross_val_predict(estimator=clf,X=X,y=y,cv=kf,method=\"predict_proba\")\n",
    "    subm1 = pd.DataFrame(y_pred, columns=classes)\n",
    "    subm1['ID'] = ID_train\n",
    "    subm1.to_csv(\"new_scores/new_stack_train/new_{}.csv\".format(file),index=False)\n"
   ]
  },
  {
   "cell_type": "code",
   "execution_count": 138,
   "metadata": {
    "collapsed": true
   },
   "outputs": [
    {
     "name": "stdout",
     "output_type": "stream",
     "text": [
      "xgboost here\n",
      "Fold 1 (2946, 142) (743, 142)\n",
      "Fold 2 (2949, 142) (740, 142)\n",
      "Fold 3 (2952, 142) (737, 142)\n",
      "Fold 4 (2954, 142) (735, 142)\n",
      "Fold 5 (2955, 142) (734, 142)\n",
      "cross_val sur train \n",
      "Fold 1 (2946, 142) (743, 142)\n",
      "Fold 2 (2949, 142) (740, 142)\n",
      "Fold 3 (2952, 142) (737, 142)\n",
      "Fold 4 (2954, 142) (735, 142)\n",
      "Fold 5 (2955, 142) (734, 142)\n",
      "cross_val sur train \n",
      "Fold 1 (2946, 243) (743, 243)\n",
      "Fold 2 (2949, 243) (740, 243)\n",
      "Fold 3 (2952, 243) (737, 243)\n",
      "Fold 4 (2954, 243) (735, 243)\n",
      "Fold 5 (2955, 243) (734, 243)\n",
      "cross_val sur train \n",
      "lgbm here\n",
      "Fold 1 (2946, 142) (743, 142)\n",
      "Fold 2 (2949, 142) (740, 142)\n",
      "Fold 3 (2952, 142) (737, 142)\n",
      "Fold 4 (2954, 142) (735, 142)\n",
      "Fold 5 (2955, 142) (734, 142)\n",
      "cross_val sur train \n",
      "Fold 1 (2946, 142) (743, 142)\n",
      "Fold 2 (2949, 142) (740, 142)\n",
      "Fold 3 (2952, 142) (737, 142)\n",
      "Fold 4 (2954, 142) (735, 142)\n",
      "Fold 5 (2955, 142) (734, 142)\n",
      "cross_val sur train \n",
      "Fold 1 (2946, 243) (743, 243)\n",
      "Fold 2 (2949, 243) (740, 243)\n",
      "Fold 3 (2952, 243) (737, 243)\n",
      "Fold 4 (2954, 243) (735, 243)\n",
      "Fold 5 (2955, 243) (734, 243)\n",
      "cross_val sur train \n",
      "logreg here\n",
      "Fold 1 (2946, 142) (743, 142)\n",
      "Fold 2 (2949, 142) (740, 142)\n",
      "Fold 3 (2952, 142) (737, 142)\n",
      "Fold 4 (2954, 142) (735, 142)\n",
      "Fold 5 (2955, 142) (734, 142)\n",
      "cross_val sur train \n",
      "Fold 1 (2946, 142) (743, 142)\n",
      "Fold 2 (2949, 142) (740, 142)\n",
      "Fold 3 (2952, 142) (737, 142)\n",
      "Fold 4 (2954, 142) (735, 142)\n",
      "Fold 5 (2955, 142) (734, 142)\n",
      "cross_val sur train \n",
      "Fold 1 (2946, 243) (743, 243)\n",
      "Fold 2 (2949, 243) (740, 243)\n",
      "Fold 3 (2952, 243) (737, 243)\n",
      "Fold 4 (2954, 243) (735, 243)\n",
      "Fold 5 (2955, 243) (734, 243)\n",
      "cross_val sur train \n",
      "adaboost here\n",
      "Fold 1 (2946, 142) (743, 142)\n",
      "Fold 2 (2949, 142) (740, 142)\n",
      "Fold 3 (2952, 142) (737, 142)\n",
      "Fold 4 (2954, 142) (735, 142)\n",
      "Fold 5 (2955, 142) (734, 142)\n",
      "cross_val sur train \n",
      "Fold 1 (2946, 142) (743, 142)\n",
      "Fold 2 (2949, 142) (740, 142)\n",
      "Fold 3 (2952, 142) (737, 142)\n",
      "Fold 4 (2954, 142) (735, 142)\n",
      "Fold 5 (2955, 142) (734, 142)\n",
      "cross_val sur train \n",
      "Fold 1 (2946, 243) (743, 243)\n",
      "Fold 2 (2949, 243) (740, 243)\n",
      "Fold 3 (2952, 243) (737, 243)\n",
      "Fold 4 (2954, 243) (735, 243)\n",
      "Fold 5 (2955, 243) (734, 243)\n",
      "cross_val sur train \n",
      "random forest here\n",
      "Fold 1 (2946, 142) (743, 142)\n",
      "Fold 2 (2949, 142) (740, 142)\n",
      "Fold 3 (2952, 142) (737, 142)\n",
      "Fold 4 (2954, 142) (735, 142)\n",
      "Fold 5 (2955, 142) (734, 142)\n",
      "cross_val sur train \n",
      "Fold 1 (2946, 142) (743, 142)\n",
      "Fold 2 (2949, 142) (740, 142)\n",
      "Fold 3 (2952, 142) (737, 142)\n",
      "Fold 4 (2954, 142) (735, 142)\n",
      "Fold 5 (2955, 142) (734, 142)\n",
      "cross_val sur train \n",
      "Fold 1 (2946, 243) (743, 243)\n",
      "Fold 2 (2949, 243) (740, 243)\n",
      "Fold 3 (2952, 243) (737, 243)\n",
      "Fold 4 (2954, 243) (735, 243)\n",
      "Fold 5 (2955, 243) (734, 243)\n",
      "cross_val sur train \n"
     ]
    }
   ],
   "source": [
    "dic_xgb={\"xgb_bio\":XGBClassifier(colsample_bytree=0.8,max_depth=7,min_child_weight=3,n_estimators=100,subsample=0.8,objective=\"multi:softprob\",seed=26),\n",
    "        \"xgb_tfidf\":XGBClassifier(colsample_bytree=0.8,max_depth=5,min_child_weight=3,n_estimators=100,subsample=1,objective=\"multi:softprob\",seed=26),\n",
    "        \"xgb_w2v\":XGBClassifier(colsample_bytree=0.8,max_depth=5,min_child_weight=3,n_estimators=100,subsample=0.8,objective=\"multi:softprob\",seed=26)}\n",
    "\n",
    "dic_lgbm={\"lgbm_bio\":LGBMClassifier(boosting_type=\"gbdt\",colsample_bytree=0.8,n_estimators=48,num_leaves=22,subsample=0.8,seed=26),\n",
    "        \"lgbm_tfidf\":LGBMClassifier(boosting_type=\"gbdt\",colsample_bytree=0.8,n_estimators=48,num_leaves=22,subsample=0.8,seed=26),\n",
    "        \"lgbm_w2v\":LGBMClassifier(boosting_type=\"gbdt\",colsample_bytree=0.8,n_estimators=48,num_leaves=22,subsample=0.8,seed=26)}\n",
    "dic_lr={\"lr_bio\":LogisticRegression(C=10,penalty=\"l1\"),\n",
    "        \"lr_tfidf\":LogisticRegression(C=10,penalty=\"l1\"),\n",
    "        \"lr_w2v\":LogisticRegression(C=1,penalty=\"l1\")}\n",
    "dic_ada={\"ada_bio\":AdaBoostClassifier(n_estimators=50, learning_rate=0.01, algorithm=\"SAMME.R\", random_state=26),\n",
    "        \"ada_tfidf\":AdaBoostClassifier(n_estimators=70, learning_rate=0.01, algorithm=\"SAMME.R\", random_state=26),\n",
    "        \"ada_w2v\":AdaBoostClassifier(n_estimators=50, learning_rate=0.01, algorithm=\"SAMME.R\", random_state=26)}\n",
    "dic_rf={\"rf_bio\":RandomForestClassifier(n_estimators=400,max_depth=25,random_state=26),\n",
    "        \"rf_tfidf\":RandomForestClassifier(n_estimators=400,max_depth=20,random_state=26),\n",
    "        \"rf_w2v\":RandomForestClassifier(n_estimators=300,max_depth=15,random_state=26)}\n",
    "\n",
    "print(\"xgboost here\")\n",
    "for clf,name in zip(dic_xgb.keys(),work_train_final.keys()):\n",
    "    model_gen(X=np.array(work_train_final[name]),X_test=np.array(work_test_final[name].drop(\"ID\",axis=1)),y=y,classifier=dic_xgb[clf],file=clf)\n",
    "print(\"lgbm here\")\n",
    "for clf,name in zip(dic_lgbm.keys(),work_train_final.keys()):\n",
    "    model_gen(X=np.array(work_train_final[name]),X_test=np.array(work_test_final[name].drop(\"ID\",axis=1)),y=y,classifier=dic_lgbm[clf],file=clf)\n",
    "print(\"logreg here\")\n",
    "for clf,name in zip(dic_lr.keys(),work_train_final.keys()):\n",
    "    model_gen(X=np.array(work_train_final[name]),X_test=np.array(work_test_final[name].drop(\"ID\",axis=1)),y=y,classifier=dic_lr[clf],file=clf)\n",
    "print(\"adaboost here\")\n",
    "for clf,name in zip(dic_ada.keys(),work_train_final.keys()):\n",
    "    model_gen(X=np.array(work_train_final[name]),X_test=np.array(work_test_final[name].drop(\"ID\",axis=1)),y=y,classifier=dic_ada[clf],file=clf)\n",
    "print(\"random forest here\")\n",
    "for clf,name in zip(dic_rf.keys(),work_train_final.keys()):\n",
    "    model_gen(X=np.array(work_train_final[name]),X_test=np.array(work_test_final[name].drop(\"ID\",axis=1)),y=y,classifier=dic_rf[clf],file=clf)\n",
    "\n",
    "ext_xgb=XGBClassifier(tocomplete)\n",
    "model_gen(X=np.array(model_ext_train),X_test=np.array(model_ext_test),y=y,classifier=ext_xgb,file=\"xgb_external\")"
   ]
  },
  {
   "cell_type": "code",
   "execution_count": null,
   "metadata": {},
   "outputs": [],
   "source": [
    "ex"
   ]
  }
 ],
 "metadata": {
  "kernelspec": {
   "display_name": "Python 3",
   "language": "python",
   "name": "python3"
  },
  "language_info": {
   "codemirror_mode": {
    "name": "ipython",
    "version": 3
   },
   "file_extension": ".py",
   "mimetype": "text/x-python",
   "name": "python",
   "nbconvert_exporter": "python",
   "pygments_lexer": "ipython3",
   "version": "3.6.1"
  }
 },
 "nbformat": 4,
 "nbformat_minor": 2
}
