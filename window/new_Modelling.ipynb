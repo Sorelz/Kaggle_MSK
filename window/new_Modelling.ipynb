{
 "cells": [
  {
   "cell_type": "code",
   "execution_count": 2,
   "metadata": {
    "scrolled": true
   },
   "outputs": [
    {
     "name": "stderr",
     "output_type": "stream",
     "text": [
      "C:\\Users\\Franck\\Documents\\Continuum\\Anaconda3\\lib\\site-packages\\sklearn\\cross_validation.py:44: DeprecationWarning: This module was deprecated in version 0.18 in favor of the model_selection module into which all the refactored classes and functions are moved. Also note that the interface of the new CV iterators are different from that of this module. This module will be removed in 0.20.\n",
      "  \"This module will be removed in 0.20.\", DeprecationWarning)\n"
     ]
    }
   ],
   "source": [
    "import numpy as np\n",
    "import pandas as pd\n",
    "import scipy.sparse as ssp\n",
    "import sklearn\n",
    "from sklearn.feature_extraction.text import TfidfVectorizer\n",
    "from sklearn import metrics, model_selection\n",
    "from sklearn.linear_model import LogisticRegression\n",
    "import xgboost as xgb\n",
    "from xgboost import XGBClassifier\n",
    "from sklearn import svm\n",
    "from sklearn.neighbors import KNeighborsClassifier\n",
    "from sklearn.model_selection import cross_val_predict,cross_val_score\n",
    "from sklearn.decomposition import TruncatedSVD\n",
    "from sklearn.ensemble import BaggingClassifier\n",
    "from sklearn.ensemble import AdaBoostClassifier\n",
    "import lightgbm\n",
    "from lightgbm.sklearn import LGBMClassifier\n",
    "import os \n",
    "import re\n",
    "from sklearn.model_selection import GridSearchCV\n",
    "from sklearn.ensemble import RandomForestClassifier "
   ]
  },
  {
   "cell_type": "markdown",
   "metadata": {},
   "source": [
    "# I will use cross_val_score on XGBoost to select 100,200 or 300 for each preprocess"
   ]
  },
  {
   "cell_type": "code",
   "execution_count": 2,
   "metadata": {},
   "outputs": [],
   "source": [
    "work_train_w2v = {} \n",
    "work_test_w2v = {}\n",
    "pre_process=[\"w2v_100.csv\",\"w2v_200.csv\",\"w2v_300.csv\"]\n",
    "path=\"checkpoints_databases/\"\n",
    "for f in pre_process:\n",
    "    work_train_w2v[re.sub(\"\\.csv\",\"\",f)] = pd.read_csv(path+\"new_working_train_\"+f)\n",
    "    work_test_w2v[re.sub(\"\\.csv\",\"\",f)] = pd.read_csv(path+\"new_working_test_\"+f)"
   ]
  },
  {
   "cell_type": "code",
   "execution_count": 3,
   "metadata": {},
   "outputs": [],
   "source": [
    "work_train_bio = {} \n",
    "work_test_bio = {}\n",
    "pre_process=[\"bio.csv\"]\n",
    "path=\"checkpoints_databases/\"\n",
    "for f in pre_process:\n",
    "    work_train_bio[re.sub(\"\\.csv\",\"\",f)] = pd.read_csv(path+\"new_working_train_\"+f)\n",
    "    work_test_bio[re.sub(\"\\.csv\",\"\",f)] = pd.read_csv(path+\"new_working_test_\"+f)"
   ]
  },
  {
   "cell_type": "code",
   "execution_count": 4,
   "metadata": {},
   "outputs": [],
   "source": [
    "work_train_tfidf = {} \n",
    "work_test_tfidf = {}\n",
    "pre_process=[\"tfidf_tsvd_100.csv\",\"tfidf_tsvd_200.csv\",\"tfidf_tsvd_300.csv\"]\n",
    "path=\"checkpoints_databases/\"\n",
    "for f in pre_process:\n",
    "    work_train_tfidf[re.sub(\"\\.csv\",\"\",f)] = pd.read_csv(path+\"new_working_train_\"+f)\n",
    "    work_test_tfidf[re.sub(\"\\.csv\",\"\",f)] = pd.read_csv(path+\"new_working_test_\"+f)"
   ]
  },
  {
   "cell_type": "code",
   "execution_count": 3,
   "metadata": {},
   "outputs": [],
   "source": [
    "new_train=pd.read_csv(\"checkpoints_databases/new_working_train.csv\")\n",
    "new_test=pd.read_csv(\"checkpoints_databases/new_working_test.csv\")"
   ]
  },
  {
   "cell_type": "code",
   "execution_count": 4,
   "metadata": {
    "scrolled": true
   },
   "outputs": [],
   "source": [
    "y=np.array(new_train.Class)-1"
   ]
  },
  {
   "cell_type": "code",
   "execution_count": 5,
   "metadata": {},
   "outputs": [],
   "source": [
    "ID_train=new_train.ID\n",
    "ID_test=new_test.ID\n"
   ]
  },
  {
   "cell_type": "code",
   "execution_count": 6,
   "metadata": {},
   "outputs": [],
   "source": [
    "kf = model_selection.StratifiedKFold(n_splits=5, random_state=26, shuffle=True)"
   ]
  },
  {
   "cell_type": "markdown",
   "metadata": {},
   "source": [
    "Start "
   ]
  },
  {
   "cell_type": "code",
   "execution_count": 33,
   "metadata": {},
   "outputs": [
    {
     "name": "stdout",
     "output_type": "stream",
     "text": [
      "meanw2v_100 -1.07331330963 std:w2v_100 0.0364550094376\n",
      "meanw2v_200 -1.08126323561 std:w2v_200 0.0447141389549\n",
      "meanw2v_300 -1.06656954989 std:w2v_300 0.0304045282825\n"
     ]
    }
   ],
   "source": [
    "clf_xgb=XGBClassifier(max_depth=5, objective=\"multi:softprob\",seed=26)\n",
    "for name in work_train_w2v:\n",
    "    h=cross_val_score(clf_xgb,np.array(work_train_w2v[name]),y,cv=kf,n_jobs=-1,scoring=\"neg_log_loss\")\n",
    "    print(\"mean\"+name+\" \"+str(h.mean()),\n",
    "         \"std:\"+name+\" \"+str(h.std()))\n",
    "#300"
   ]
  },
  {
   "cell_type": "code",
   "execution_count": 34,
   "metadata": {},
   "outputs": [
    {
     "name": "stdout",
     "output_type": "stream",
     "text": [
      "meanbio -1.09764345161 std:bio 0.034944053108\n"
     ]
    }
   ],
   "source": [
    "for name in work_train_bio:\n",
    "    h=cross_val_score(clf_xgb,np.array(work_train_bio[name]),y,cv=kf,n_jobs=-1,scoring=\"neg_log_loss\")\n",
    "    print(\"mean\"+name+\" \"+str(h.mean()),\n",
    "         \"std:\"+name+\" \"+str(h.std()))\n",
    "#k"
   ]
  },
  {
   "cell_type": "code",
   "execution_count": 35,
   "metadata": {
    "scrolled": true
   },
   "outputs": [
    {
     "name": "stdout",
     "output_type": "stream",
     "text": [
      "meantfidf_tsvd_100 -1.00962632533 std:tfidf_tsvd_100 0.0343409770402\n",
      "meantfidf_tsvd_200 -1.01784942814 std:tfidf_tsvd_200 0.0316089971765\n",
      "meantfidf_tsvd_300 -1.01995911039 std:tfidf_tsvd_300 0.0456225357959\n"
     ]
    }
   ],
   "source": [
    "for name in work_train_tfidf:\n",
    "    h=cross_val_score(clf_xgb,np.array(work_train_tfidf[name]),y,cv=kf,n_jobs=-1,scoring=\"neg_log_loss\")\n",
    "    print(\"mean\"+name+\" \"+str(h.mean()),\n",
    "         \"std:\"+name+\" \"+str(h.std()))\n",
    "#100 tsvd"
   ]
  },
  {
   "cell_type": "markdown",
   "metadata": {},
   "source": [
    "# GRID SEARCH PHASE ALL ALGOS"
   ]
  },
  {
   "cell_type": "code",
   "execution_count": 7,
   "metadata": {},
   "outputs": [],
   "source": [
    "work_train= {} \n",
    "work_test = {}\n",
    "#To complete\n",
    "pre_process=[\"bio.csv\",\"tfidf_tsvd_100.csv\",\"w2v_300.csv\"]\n",
    "path=\"checkpoints_databases/\"\n",
    "for f in pre_process:\n",
    "    work_train[re.sub(\"\\.csv\",\"\",f)] = pd.read_csv(path+\"new_working_train_\"+f)\n",
    "    work_test[re.sub(\"\\.csv\",\"\",f)] = pd.read_csv(path+\"new_working_test_\"+f)"
   ]
  },
  {
   "cell_type": "code",
   "execution_count": 11,
   "metadata": {},
   "outputs": [],
   "source": [
    "feat_train=pd.read_csv(\"../window/w_meta_features/meta_train_l1l2.csv\")\n",
    "feat_test=pd.read_csv(\"../window/w_meta_features/meta_test_l1l2.csv\")"
   ]
  },
  {
   "cell_type": "code",
   "execution_count": 15,
   "metadata": {},
   "outputs": [],
   "source": [
    "#add a \"external model\" xgb alone"
   ]
  },
  {
   "cell_type": "code",
   "execution_count": 15,
   "metadata": {},
   "outputs": [],
   "source": [
    "ext_bio=pd.read_csv(\"../l2_meta_features/svd25_biological.csv\")\n",
    "ext_cell=pd.read_csv(\"../l2_meta_features/svd25_cellular.csv\")\n",
    "ext_mol=pd.read_csv(\"../l2_meta_features/svd25_molecular.csv\")"
   ]
  },
  {
   "cell_type": "code",
   "execution_count": 16,
   "metadata": {},
   "outputs": [],
   "source": [
    "ext_bio=ext_bio.drop([\"Class\",\"Gene\",\"ID\",\"Variation\"],axis=1)\n",
    "ext_cell=ext_cell.drop([\"Class\",\"Gene\",\"ID\",\"Variation\"],axis=1)\n",
    "ext_mol=ext_mol.drop([\"Class\",\"Gene\",\"ID\",\"Variation\"],axis=1)"
   ]
  },
  {
   "cell_type": "code",
   "execution_count": 17,
   "metadata": {},
   "outputs": [],
   "source": [
    "model_ext=pd.concat((ext_bio,ext_cell,ext_mol),axis=1)\n",
    "model_ext_train=model_ext[:len(y)]\n",
    "model_ext_test=model_ext[len(y):]"
   ]
  },
  {
   "cell_type": "code",
   "execution_count": null,
   "metadata": {
    "collapsed": true
   },
   "outputs": [
    {
     "name": "stdout",
     "output_type": "stream",
     "text": [
      "Fitting 5 folds for each of 48 candidates, totalling 240 fits\n"
     ]
    },
    {
     "name": "stderr",
     "output_type": "stream",
     "text": [
      "[Parallel(n_jobs=-1)]: Done  42 tasks      | elapsed:  2.4min\n",
      "[Parallel(n_jobs=-1)]: Done 192 tasks      | elapsed: 14.9min\n",
      "[Parallel(n_jobs=-1)]: Done 240 out of 240 | elapsed: 21.3min finished\n"
     ]
    },
    {
     "name": "stdout",
     "output_type": "stream",
     "text": [
      "bio\n",
      "[mean: -1.16119, std: 0.03745, params: {'colsample_bytree': 0.8, 'max_depth': 3, 'min_child_weight': 1, 'n_estimators': 100, 'subsample': 0.8}, mean: -1.16675, std: 0.04054, params: {'colsample_bytree': 0.8, 'max_depth': 3, 'min_child_weight': 1, 'n_estimators': 100, 'subsample': 1}, mean: -1.18082, std: 0.04592, params: {'colsample_bytree': 0.8, 'max_depth': 3, 'min_child_weight': 1, 'n_estimators': 200, 'subsample': 0.8}, mean: -1.17657, std: 0.04654, params: {'colsample_bytree': 0.8, 'max_depth': 3, 'min_child_weight': 1, 'n_estimators': 200, 'subsample': 1}, mean: -1.16237, std: 0.03865, params: {'colsample_bytree': 0.8, 'max_depth': 3, 'min_child_weight': 3, 'n_estimators': 100, 'subsample': 0.8}, mean: -1.16553, std: 0.04232, params: {'colsample_bytree': 0.8, 'max_depth': 3, 'min_child_weight': 3, 'n_estimators': 100, 'subsample': 1}, mean: -1.17751, std: 0.04598, params: {'colsample_bytree': 0.8, 'max_depth': 3, 'min_child_weight': 3, 'n_estimators': 200, 'subsample': 0.8}, mean: -1.17329, std: 0.04792, params: {'colsample_bytree': 0.8, 'max_depth': 3, 'min_child_weight': 3, 'n_estimators': 200, 'subsample': 1}, mean: -1.17571, std: 0.04425, params: {'colsample_bytree': 0.8, 'max_depth': 5, 'min_child_weight': 1, 'n_estimators': 100, 'subsample': 0.8}, mean: -1.16764, std: 0.04546, params: {'colsample_bytree': 0.8, 'max_depth': 5, 'min_child_weight': 1, 'n_estimators': 100, 'subsample': 1}, mean: -1.22929, std: 0.05756, params: {'colsample_bytree': 0.8, 'max_depth': 5, 'min_child_weight': 1, 'n_estimators': 200, 'subsample': 0.8}, mean: -1.21748, std: 0.05806, params: {'colsample_bytree': 0.8, 'max_depth': 5, 'min_child_weight': 1, 'n_estimators': 200, 'subsample': 1}, mean: -1.17143, std: 0.04338, params: {'colsample_bytree': 0.8, 'max_depth': 5, 'min_child_weight': 3, 'n_estimators': 100, 'subsample': 0.8}, mean: -1.16980, std: 0.04578, params: {'colsample_bytree': 0.8, 'max_depth': 5, 'min_child_weight': 3, 'n_estimators': 100, 'subsample': 1}, mean: -1.21624, std: 0.05479, params: {'colsample_bytree': 0.8, 'max_depth': 5, 'min_child_weight': 3, 'n_estimators': 200, 'subsample': 0.8}, mean: -1.20462, std: 0.05435, params: {'colsample_bytree': 0.8, 'max_depth': 5, 'min_child_weight': 3, 'n_estimators': 200, 'subsample': 1}, mean: -1.19712, std: 0.04761, params: {'colsample_bytree': 0.8, 'max_depth': 7, 'min_child_weight': 1, 'n_estimators': 100, 'subsample': 0.8}, mean: -1.18592, std: 0.04799, params: {'colsample_bytree': 0.8, 'max_depth': 7, 'min_child_weight': 1, 'n_estimators': 100, 'subsample': 1}, mean: -1.26280, std: 0.06211, params: {'colsample_bytree': 0.8, 'max_depth': 7, 'min_child_weight': 1, 'n_estimators': 200, 'subsample': 0.8}, mean: -1.23596, std: 0.05948, params: {'colsample_bytree': 0.8, 'max_depth': 7, 'min_child_weight': 1, 'n_estimators': 200, 'subsample': 1}, mean: -1.18875, std: 0.04506, params: {'colsample_bytree': 0.8, 'max_depth': 7, 'min_child_weight': 3, 'n_estimators': 100, 'subsample': 0.8}, mean: -1.18116, std: 0.04503, params: {'colsample_bytree': 0.8, 'max_depth': 7, 'min_child_weight': 3, 'n_estimators': 100, 'subsample': 1}, mean: -1.24414, std: 0.05895, params: {'colsample_bytree': 0.8, 'max_depth': 7, 'min_child_weight': 3, 'n_estimators': 200, 'subsample': 0.8}, mean: -1.21839, std: 0.05396, params: {'colsample_bytree': 0.8, 'max_depth': 7, 'min_child_weight': 3, 'n_estimators': 200, 'subsample': 1}, mean: -1.16209, std: 0.03817, params: {'colsample_bytree': 1, 'max_depth': 3, 'min_child_weight': 1, 'n_estimators': 100, 'subsample': 0.8}, mean: -1.16611, std: 0.04276, params: {'colsample_bytree': 1, 'max_depth': 3, 'min_child_weight': 1, 'n_estimators': 100, 'subsample': 1}, mean: -1.18344, std: 0.04707, params: {'colsample_bytree': 1, 'max_depth': 3, 'min_child_weight': 1, 'n_estimators': 200, 'subsample': 0.8}, mean: -1.17802, std: 0.04954, params: {'colsample_bytree': 1, 'max_depth': 3, 'min_child_weight': 1, 'n_estimators': 200, 'subsample': 1}, mean: -1.16072, std: 0.03762, params: {'colsample_bytree': 1, 'max_depth': 3, 'min_child_weight': 3, 'n_estimators': 100, 'subsample': 0.8}, mean: -1.16545, std: 0.04344, params: {'colsample_bytree': 1, 'max_depth': 3, 'min_child_weight': 3, 'n_estimators': 100, 'subsample': 1}, mean: -1.17811, std: 0.04706, params: {'colsample_bytree': 1, 'max_depth': 3, 'min_child_weight': 3, 'n_estimators': 200, 'subsample': 0.8}, mean: -1.17434, std: 0.04783, params: {'colsample_bytree': 1, 'max_depth': 3, 'min_child_weight': 3, 'n_estimators': 200, 'subsample': 1}, mean: -1.17879, std: 0.04390, params: {'colsample_bytree': 1, 'max_depth': 5, 'min_child_weight': 1, 'n_estimators': 100, 'subsample': 0.8}, mean: -1.17217, std: 0.04619, params: {'colsample_bytree': 1, 'max_depth': 5, 'min_child_weight': 1, 'n_estimators': 100, 'subsample': 1}, mean: -1.23382, std: 0.05851, params: {'colsample_bytree': 1, 'max_depth': 5, 'min_child_weight': 1, 'n_estimators': 200, 'subsample': 0.8}, mean: -1.22413, std: 0.05818, params: {'colsample_bytree': 1, 'max_depth': 5, 'min_child_weight': 1, 'n_estimators': 200, 'subsample': 1}, mean: -1.17332, std: 0.04139, params: {'colsample_bytree': 1, 'max_depth': 5, 'min_child_weight': 3, 'n_estimators': 100, 'subsample': 0.8}, mean: -1.17129, std: 0.04613, params: {'colsample_bytree': 1, 'max_depth': 5, 'min_child_weight': 3, 'n_estimators': 100, 'subsample': 1}, mean: -1.21869, std: 0.05463, params: {'colsample_bytree': 1, 'max_depth': 5, 'min_child_weight': 3, 'n_estimators': 200, 'subsample': 0.8}, mean: -1.20848, std: 0.05538, params: {'colsample_bytree': 1, 'max_depth': 5, 'min_child_weight': 3, 'n_estimators': 200, 'subsample': 1}, mean: -1.19895, std: 0.04860, params: {'colsample_bytree': 1, 'max_depth': 7, 'min_child_weight': 1, 'n_estimators': 100, 'subsample': 0.8}, mean: -1.18881, std: 0.04851, params: {'colsample_bytree': 1, 'max_depth': 7, 'min_child_weight': 1, 'n_estimators': 100, 'subsample': 1}, mean: -1.26712, std: 0.06432, params: {'colsample_bytree': 1, 'max_depth': 7, 'min_child_weight': 1, 'n_estimators': 200, 'subsample': 0.8}, mean: -1.24019, std: 0.05908, params: {'colsample_bytree': 1, 'max_depth': 7, 'min_child_weight': 1, 'n_estimators': 200, 'subsample': 1}, mean: -1.18927, std: 0.04628, params: {'colsample_bytree': 1, 'max_depth': 7, 'min_child_weight': 3, 'n_estimators': 100, 'subsample': 0.8}, mean: -1.18408, std: 0.04703, params: {'colsample_bytree': 1, 'max_depth': 7, 'min_child_weight': 3, 'n_estimators': 100, 'subsample': 1}, mean: -1.24517, std: 0.05974, params: {'colsample_bytree': 1, 'max_depth': 7, 'min_child_weight': 3, 'n_estimators': 200, 'subsample': 0.8}, mean: -1.22039, std: 0.05630, params: {'colsample_bytree': 1, 'max_depth': 7, 'min_child_weight': 3, 'n_estimators': 200, 'subsample': 1}]\n",
      "{'colsample_bytree': 1, 'max_depth': 3, 'min_child_weight': 3, 'n_estimators': 100, 'subsample': 0.8}\n",
      "-1.160723399\n",
      "Fitting 5 folds for each of 48 candidates, totalling 240 fits\n"
     ]
    },
    {
     "name": "stderr",
     "output_type": "stream",
     "text": [
      "C:\\Users\\Franck\\Documents\\Continuum\\Anaconda3\\lib\\site-packages\\sklearn\\model_selection\\_search.py:667: DeprecationWarning: The grid_scores_ attribute was deprecated in version 0.18 in favor of the more elaborate cv_results_ attribute. The grid_scores_ attribute will not be available from 0.20\n",
      "  DeprecationWarning)\n"
     ]
    }
   ],
   "source": [
    "clf_xgb=XGBClassifier(max_depth=3, objective=\"multi:softprob\",seed=26)\n",
    "param_test= {\n",
    "    \"max_depth\" : [3,5,7],\n",
    "    \"min_child_weight\" : [1,3],\n",
    "    \"n_estimators\" : [100,200],\n",
    "    \"subsample\":[0.8,1],\n",
    "    \"colsample_bytree\":[0.8,1]\n",
    "}\n",
    "\n",
    "gsearch=GridSearchCV(estimator=clf_xgb, param_grid = param_test,scoring=\"neg_log_loss\",n_jobs=-1,iid=False, cv=kf,verbose=True)\n",
    "gsearch.fit(np.array(model_ext_train),y)\n",
    "print(name)\n",
    "print(gsearch.grid_scores_)\n",
    "print(gsearch.best_params_)\n",
    "print(gsearch.best_score_)\n",
    "# best grid : {'colsample_bytree': 1, 'max_depth': 3, 'min_child_weight': 3, 'n_estimators': 100, 'subsample': 0.8}"
   ]
  },
  {
   "cell_type": "code",
   "execution_count": 2,
   "metadata": {},
   "outputs": [],
   "source": [
    "#now add the others models that worked on the window pre-processed"
   ]
  },
  {
   "cell_type": "code",
   "execution_count": 16,
   "metadata": {},
   "outputs": [],
   "source": [
    "#Gene features + manual features on variations + text embeddings\n",
    "work_train_final={}\n",
    "work_test_final={}\n",
    "for name in work_train:\n",
    "    work_train_final[name]=pd.concat((work_train[name],feat_train),axis=1)\n",
    "    work_test_final[name]=pd.concat((work_test[name],feat_test),axis=1)"
   ]
  },
  {
   "cell_type": "code",
   "execution_count": null,
   "metadata": {},
   "outputs": [
    {
     "name": "stdout",
     "output_type": "stream",
     "text": [
      "Fitting 5 folds for each of 216 candidates, totalling 1080 fits\n"
     ]
    }
   ],
   "source": [
    "clf_xgb=XGBClassifier(max_depth=3, objective=\"multi:softprob\",seed=26)\n",
    "param_test= {\n",
    "    \"max_depth\" : [3,5,7],\n",
    "    \"min_child_weight\" : [1,3,5,7],\n",
    "    \"n_estimators\" : [100,200],\n",
    "    \"subsample\":[0.8,0.9,1],\n",
    "    \"colsample_bytree\":[0.8,0.9,1]\n",
    "}\n",
    "for name in work_train_final:\n",
    "    gsearch=GridSearchCV(estimator=clf_xgb, param_grid = param_test,scoring=\"neg_log_loss\",n_jobs=-1,iid=False, cv=kf,verbose=True)\n",
    "    gsearch.fit(np.array(work_train_final[name]),y)\n",
    "    print(name)\n",
    "    print(gsearch.grid_scores_)\n",
    "    print(gsearch.best_params_)\n",
    "    print(gsearch.best_score_)\n",
    "#bio : {'colsample_bytree': 0.8, 'max_depth': 5, 'min_child_weight': 3, 'n_estimators': 100, 'subsample': 1}\n",
    "#tfidf: {'colsample_bytree': 0.8, 'max_depth': 5, 'min_child_weight': 3, 'n_estimators': 100, 'subsample': 1}\n",
    "#w2v: {'colsample_bytree': 0.8, 'max_depth': 5, 'min_child_weight': 3, 'n_estimators': 100, 'subsample': 0.8}"
   ]
  },
  {
   "cell_type": "code",
   "execution_count": null,
   "metadata": {},
   "outputs": [],
   "source": [
    "clf_lgbm=LGBMClassifier(seed=26)\n",
    "param_test= {\n",
    "    'n_estimators': [8,,16,24,36,48],\n",
    "    'num_leaves': [6,12,16,22],\n",
    "    'boosting_type' : ['gbdt'],\n",
    "    'colsample_bytree' : [0.7,0.8,0.9],\n",
    "    'subsample' : [0.7,0.8,0.9]\n",
    "    }\n",
    "for name in work_train_final:\n",
    "    gsearch=GridSearchCV(estimator=clf_lgbm, param_grid = param_test,scoring=\"neg_log_loss\",n_jobs=-1,iid=False, cv=kf,verbose=True)\n",
    "    gsearch.fit(np.array(work_train_final[name]),y)\n",
    "    print(name)\n",
    "    print(gsearch.grid_scores_)\n",
    "    print(gsearch.best_params_)\n",
    "    print(gsearch.best_score_)\n",
    "#d2v : {'boosting_type': 'gbdt', 'colsample_bytree': 0.8, 'n_estimators': 48, 'num_leaves': 22, 'subsample': 0.8}\n",
    "#tfidf : {'boosting_type': 'gbdt', 'colsample_bytree': 0.8, 'n_estimators': 48, 'num_leaves': 22, 'subsample': 0.8}\n",
    "#w2v : {'boosting_type': 'gbdt', 'colsample_bytree': 0.8, 'n_estimators': 48, 'num_leaves': 22, 'subsample': 0.8}"
   ]
  },
  {
   "cell_type": "code",
   "execution_count": 20,
   "metadata": {
    "collapsed": true
   },
   "outputs": [
    {
     "name": "stdout",
     "output_type": "stream",
     "text": [
      "Fitting 5 folds for each of 14 candidates, totalling 70 fits\n"
     ]
    },
    {
     "name": "stderr",
     "output_type": "stream",
     "text": [
      "[Parallel(n_jobs=-1)]: Done  42 tasks      | elapsed:   24.2s\n",
      "[Parallel(n_jobs=-1)]: Done  70 out of  70 | elapsed:  1.3min finished\n"
     ]
    },
    {
     "name": "stdout",
     "output_type": "stream",
     "text": [
      "bio\n",
      "[mean: -1.86803, std: 0.03397, params: {'C': 0.001, 'penalty': 'l1'}, mean: -1.84768, std: 0.03397, params: {'C': 0.001, 'penalty': 'l2'}, mean: -1.85697, std: 0.03590, params: {'C': 0.01, 'penalty': 'l1'}, mean: -1.74019, std: 0.03347, params: {'C': 0.01, 'penalty': 'l2'}, mean: -1.48880, std: 0.03090, params: {'C': 0.1, 'penalty': 'l1'}, mean: -1.59616, std: 0.03364, params: {'C': 0.1, 'penalty': 'l2'}, mean: -1.18891, std: 0.03194, params: {'C': 1, 'penalty': 'l1'}, mean: -1.56553, std: 0.04701, params: {'C': 1, 'penalty': 'l2'}, mean: -1.08507, std: 0.07225, params: {'C': 10, 'penalty': 'l1'}, mean: -1.54745, std: 0.04248, params: {'C': 10, 'penalty': 'l2'}, mean: -1.25024, std: 0.11076, params: {'C': 100, 'penalty': 'l1'}, mean: -1.53170, std: 0.04476, params: {'C': 100, 'penalty': 'l2'}, mean: -1.47991, std: 0.14102, params: {'C': 1000, 'penalty': 'l1'}, mean: -1.54798, std: 0.05585, params: {'C': 1000, 'penalty': 'l2'}]\n",
      "{'C': 10, 'penalty': 'l1'}\n",
      "-1.08507188292\n",
      "Fitting 5 folds for each of 14 candidates, totalling 70 fits\n"
     ]
    },
    {
     "name": "stderr",
     "output_type": "stream",
     "text": [
      "C:\\Users\\Franck\\Documents\\Continuum\\Anaconda3\\lib\\site-packages\\sklearn\\model_selection\\_search.py:667: DeprecationWarning: The grid_scores_ attribute was deprecated in version 0.18 in favor of the more elaborate cv_results_ attribute. The grid_scores_ attribute will not be available from 0.20\n",
      "  DeprecationWarning)\n",
      "[Parallel(n_jobs=-1)]: Done  42 tasks      | elapsed:   26.5s\n",
      "[Parallel(n_jobs=-1)]: Done  70 out of  70 | elapsed:  1.2min finished\n"
     ]
    },
    {
     "name": "stdout",
     "output_type": "stream",
     "text": [
      "tfidf_tsvd_200\n",
      "[mean: -1.86803, std: 0.03397, params: {'C': 0.001, 'penalty': 'l1'}, mean: -1.85003, std: 0.03452, params: {'C': 0.001, 'penalty': 'l2'}, mean: -1.85696, std: 0.03588, params: {'C': 0.01, 'penalty': 'l1'}, mean: -1.73552, std: 0.03253, params: {'C': 0.01, 'penalty': 'l2'}, mean: -1.40054, std: 0.03062, params: {'C': 0.1, 'penalty': 'l1'}, mean: -1.57905, std: 0.02806, params: {'C': 0.1, 'penalty': 'l2'}, mean: -1.02020, std: 0.03476, params: {'C': 1, 'penalty': 'l1'}, mean: -1.49652, std: 0.06465, params: {'C': 1, 'penalty': 'l2'}, mean: -0.97296, std: 0.06173, params: {'C': 10, 'penalty': 'l1'}, mean: -1.48031, std: 0.05720, params: {'C': 10, 'penalty': 'l2'}, mean: -1.24551, std: 0.10562, params: {'C': 100, 'penalty': 'l1'}, mean: -1.51125, std: 0.06040, params: {'C': 100, 'penalty': 'l2'}, mean: -1.46208, std: 0.13350, params: {'C': 1000, 'penalty': 'l1'}, mean: -1.49331, std: 0.07660, params: {'C': 1000, 'penalty': 'l2'}]\n",
      "{'C': 10, 'penalty': 'l1'}\n",
      "-0.972961492865\n",
      "Fitting 5 folds for each of 14 candidates, totalling 70 fits\n"
     ]
    },
    {
     "name": "stderr",
     "output_type": "stream",
     "text": [
      "C:\\Users\\Franck\\Documents\\Continuum\\Anaconda3\\lib\\site-packages\\sklearn\\model_selection\\_search.py:667: DeprecationWarning: The grid_scores_ attribute was deprecated in version 0.18 in favor of the more elaborate cv_results_ attribute. The grid_scores_ attribute will not be available from 0.20\n",
      "  DeprecationWarning)\n",
      "[Parallel(n_jobs=-1)]: Done  42 tasks      | elapsed:   39.1s\n",
      "[Parallel(n_jobs=-1)]: Done  70 out of  70 | elapsed:  2.6min finished\n"
     ]
    },
    {
     "name": "stdout",
     "output_type": "stream",
     "text": [
      "w2v_200\n",
      "[mean: -1.86803, std: 0.03397, params: {'C': 0.001, 'penalty': 'l1'}, mean: -1.67352, std: 0.03061, params: {'C': 0.001, 'penalty': 'l2'}, mean: -1.83219, std: 0.03622, params: {'C': 0.01, 'penalty': 'l1'}, mean: -1.40601, std: 0.02965, params: {'C': 0.01, 'penalty': 'l2'}, mean: -1.30002, std: 0.03128, params: {'C': 0.1, 'penalty': 'l1'}, mean: -1.26912, std: 0.03197, params: {'C': 0.1, 'penalty': 'l2'}, mean: -1.06466, std: 0.02846, params: {'C': 1, 'penalty': 'l1'}, mean: -1.21277, std: 0.03970, params: {'C': 1, 'penalty': 'l2'}, mean: -1.09470, std: 0.05564, params: {'C': 10, 'penalty': 'l1'}, mean: -1.19982, std: 0.03938, params: {'C': 10, 'penalty': 'l2'}, mean: -1.26262, std: 0.09708, params: {'C': 100, 'penalty': 'l1'}, mean: -1.20655, std: 0.04595, params: {'C': 100, 'penalty': 'l2'}, mean: -1.42409, std: 0.10368, params: {'C': 1000, 'penalty': 'l1'}, mean: -1.20037, std: 0.04371, params: {'C': 1000, 'penalty': 'l2'}]\n",
      "{'C': 1, 'penalty': 'l1'}\n",
      "-1.06465879891\n"
     ]
    },
    {
     "name": "stderr",
     "output_type": "stream",
     "text": [
      "C:\\Users\\Franck\\Documents\\Continuum\\Anaconda3\\lib\\site-packages\\sklearn\\model_selection\\_search.py:667: DeprecationWarning: The grid_scores_ attribute was deprecated in version 0.18 in favor of the more elaborate cv_results_ attribute. The grid_scores_ attribute will not be available from 0.20\n",
      "  DeprecationWarning)\n"
     ]
    }
   ],
   "source": [
    "clf_log=LogisticRegression()\n",
    "param_test= {\n",
    "    \"C\" : [0.001, 0.01, 0.1, 1, 10, 100, 1000],\n",
    "    \"penalty\" : [\"l1\",\"l2\"]\n",
    "}\n",
    "for name in work_train_final:\n",
    "    gsearch=GridSearchCV(estimator=clf_log, param_grid = param_test,scoring=\"neg_log_loss\",n_jobs=-1,iid=False, cv=kf,verbose=True)\n",
    "    gsearch.fit(np.array(work_train_final[name]),y)\n",
    "    print(name)\n",
    "    print(gsearch.grid_scores_)\n",
    "    print(gsearch.best_params_)\n",
    "    print(gsearch.best_score_)\n",
    "#bio : {'C': 10, 'penalty': 'l1'}\n",
    "#tfidf : {'C': 10, 'penalty': 'l1'}\n",
    "#w2v : {'C': 1, 'penalty': 'l1'}"
   ]
  },
  {
   "cell_type": "code",
   "execution_count": 21,
   "metadata": {
    "collapsed": true
   },
   "outputs": [
    {
     "name": "stdout",
     "output_type": "stream",
     "text": [
      "Fitting 5 folds for each of 16 candidates, totalling 80 fits\n"
     ]
    },
    {
     "name": "stderr",
     "output_type": "stream",
     "text": [
      "[Parallel(n_jobs=-1)]: Done  42 tasks      | elapsed:  2.3min\n",
      "[Parallel(n_jobs=-1)]: Done  80 out of  80 | elapsed:  4.6min finished\n"
     ]
    },
    {
     "name": "stdout",
     "output_type": "stream",
     "text": [
      "bio\n",
      "[mean: -1.70313, std: 0.01856, params: {'learning_rate': 0.01, 'n_estimators': 50}, mean: -1.70407, std: 0.01127, params: {'learning_rate': 0.01, 'n_estimators': 70}, mean: -1.71122, std: 0.01290, params: {'learning_rate': 0.01, 'n_estimators': 100}, mean: -1.78389, std: 0.00730, params: {'learning_rate': 0.01, 'n_estimators': 200}, mean: -1.79898, std: 0.00875, params: {'learning_rate': 0.05, 'n_estimators': 50}, mean: -1.85068, std: 0.00986, params: {'learning_rate': 0.05, 'n_estimators': 70}, mean: -1.89971, std: 0.00820, params: {'learning_rate': 0.05, 'n_estimators': 100}, mean: -1.96751, std: 0.01023, params: {'learning_rate': 0.05, 'n_estimators': 200}, mean: -1.87995, std: 0.01012, params: {'learning_rate': 0.1, 'n_estimators': 50}, mean: -1.91845, std: 0.01392, params: {'learning_rate': 0.1, 'n_estimators': 70}, mean: -1.95199, std: 0.01566, params: {'learning_rate': 0.1, 'n_estimators': 100}, mean: -1.99172, std: 0.01692, params: {'learning_rate': 0.1, 'n_estimators': 200}, mean: -1.92272, std: 0.02996, params: {'learning_rate': 0.2, 'n_estimators': 50}, mean: -1.94489, std: 0.03565, params: {'learning_rate': 0.2, 'n_estimators': 70}, mean: -1.96245, std: 0.04130, params: {'learning_rate': 0.2, 'n_estimators': 100}, mean: -1.98216, std: 0.03521, params: {'learning_rate': 0.2, 'n_estimators': 200}]\n",
      "{'learning_rate': 0.01, 'n_estimators': 50}\n",
      "-1.70312906783\n",
      "Fitting 5 folds for each of 16 candidates, totalling 80 fits\n"
     ]
    },
    {
     "name": "stderr",
     "output_type": "stream",
     "text": [
      "C:\\Users\\Franck\\Documents\\Continuum\\Anaconda3\\lib\\site-packages\\sklearn\\model_selection\\_search.py:667: DeprecationWarning: The grid_scores_ attribute was deprecated in version 0.18 in favor of the more elaborate cv_results_ attribute. The grid_scores_ attribute will not be available from 0.20\n",
      "  DeprecationWarning)\n",
      "[Parallel(n_jobs=-1)]: Done  42 tasks      | elapsed:  2.3min\n",
      "[Parallel(n_jobs=-1)]: Done  80 out of  80 | elapsed:  4.6min finished\n"
     ]
    },
    {
     "name": "stdout",
     "output_type": "stream",
     "text": [
      "tfidf_tsvd_200\n",
      "[mean: -1.61635, std: 0.01334, params: {'learning_rate': 0.01, 'n_estimators': 50}, mean: -1.62020, std: 0.00913, params: {'learning_rate': 0.01, 'n_estimators': 70}, mean: -1.63868, std: 0.00708, params: {'learning_rate': 0.01, 'n_estimators': 100}, mean: -1.72485, std: 0.00472, params: {'learning_rate': 0.01, 'n_estimators': 200}, mean: -1.75006, std: 0.00598, params: {'learning_rate': 0.05, 'n_estimators': 50}, mean: -1.80610, std: 0.00741, params: {'learning_rate': 0.05, 'n_estimators': 70}, mean: -1.86003, std: 0.01176, params: {'learning_rate': 0.05, 'n_estimators': 100}, mean: -1.94314, std: 0.00801, params: {'learning_rate': 0.05, 'n_estimators': 200}, mean: -1.85360, std: 0.01259, params: {'learning_rate': 0.1, 'n_estimators': 50}, mean: -1.89821, std: 0.01441, params: {'learning_rate': 0.1, 'n_estimators': 70}, mean: -1.93675, std: 0.01358, params: {'learning_rate': 0.1, 'n_estimators': 100}, mean: -1.98272, std: 0.00592, params: {'learning_rate': 0.1, 'n_estimators': 200}, mean: -1.93526, std: 0.01357, params: {'learning_rate': 0.2, 'n_estimators': 50}, mean: -1.95738, std: 0.01095, params: {'learning_rate': 0.2, 'n_estimators': 70}, mean: -1.97596, std: 0.00894, params: {'learning_rate': 0.2, 'n_estimators': 100}, mean: -1.99529, std: 0.00978, params: {'learning_rate': 0.2, 'n_estimators': 200}]\n",
      "{'learning_rate': 0.01, 'n_estimators': 50}\n",
      "-1.61635282934\n",
      "Fitting 5 folds for each of 16 candidates, totalling 80 fits\n"
     ]
    },
    {
     "name": "stderr",
     "output_type": "stream",
     "text": [
      "C:\\Users\\Franck\\Documents\\Continuum\\Anaconda3\\lib\\site-packages\\sklearn\\model_selection\\_search.py:667: DeprecationWarning: The grid_scores_ attribute was deprecated in version 0.18 in favor of the more elaborate cv_results_ attribute. The grid_scores_ attribute will not be available from 0.20\n",
      "  DeprecationWarning)\n",
      "[Parallel(n_jobs=-1)]: Done  42 tasks      | elapsed:  2.3min\n",
      "[Parallel(n_jobs=-1)]: Done  80 out of  80 | elapsed:  4.6min finished\n"
     ]
    },
    {
     "name": "stdout",
     "output_type": "stream",
     "text": [
      "w2v_200\n",
      "[mean: -1.65727, std: 0.01240, params: {'learning_rate': 0.01, 'n_estimators': 50}, mean: -1.66383, std: 0.01387, params: {'learning_rate': 0.01, 'n_estimators': 70}, mean: -1.67958, std: 0.01275, params: {'learning_rate': 0.01, 'n_estimators': 100}, mean: -1.74641, std: 0.00731, params: {'learning_rate': 0.01, 'n_estimators': 200}, mean: -1.76681, std: 0.00922, params: {'learning_rate': 0.05, 'n_estimators': 50}, mean: -1.80650, std: 0.00887, params: {'learning_rate': 0.05, 'n_estimators': 70}, mean: -1.85316, std: 0.01019, params: {'learning_rate': 0.05, 'n_estimators': 100}, mean: -1.92365, std: 0.01443, params: {'learning_rate': 0.05, 'n_estimators': 200}, mean: -1.85002, std: 0.01080, params: {'learning_rate': 0.1, 'n_estimators': 50}, mean: -1.88819, std: 0.01297, params: {'learning_rate': 0.1, 'n_estimators': 70}, mean: -1.91832, std: 0.01418, params: {'learning_rate': 0.1, 'n_estimators': 100}, mean: -1.95619, std: 0.02216, params: {'learning_rate': 0.1, 'n_estimators': 200}, mean: -1.92672, std: 0.01940, params: {'learning_rate': 0.2, 'n_estimators': 50}, mean: -1.94099, std: 0.02062, params: {'learning_rate': 0.2, 'n_estimators': 70}, mean: -1.95284, std: 0.02161, params: {'learning_rate': 0.2, 'n_estimators': 100}, mean: -1.96314, std: 0.01514, params: {'learning_rate': 0.2, 'n_estimators': 200}]\n",
      "{'learning_rate': 0.01, 'n_estimators': 50}\n",
      "-1.65726513853\n"
     ]
    },
    {
     "name": "stderr",
     "output_type": "stream",
     "text": [
      "C:\\Users\\Franck\\Documents\\Continuum\\Anaconda3\\lib\\site-packages\\sklearn\\model_selection\\_search.py:667: DeprecationWarning: The grid_scores_ attribute was deprecated in version 0.18 in favor of the more elaborate cv_results_ attribute. The grid_scores_ attribute will not be available from 0.20\n",
      "  DeprecationWarning)\n"
     ]
    }
   ],
   "source": [
    "clf_ada=AdaBoostClassifier(n_estimators=100, learning_rate=0.3, algorithm=\"SAMME.R\", random_state=26)\n",
    "param_test={\n",
    "    \"n_estimators\":[50,70,100,200],\n",
    "    \"learning_rate\":[0.01,0.05,0.1,0.2]\n",
    "}\n",
    "for name in work_train_final:\n",
    "    gsearch=GridSearchCV(estimator=clf_ada, param_grid = param_test,scoring=\"neg_log_loss\",n_jobs=-1,iid=False, cv=kf,verbose=True)\n",
    "    gsearch.fit(np.array(work_train_final[name]),y)\n",
    "    print(name)\n",
    "    print(gsearch.grid_scores_)\n",
    "    print(gsearch.best_params_)\n",
    "    print(gsearch.best_score_)\n",
    "#d2v : {'learning_rate': 0.01, 'n_estimators': 50}\n",
    "#tfidf : {'learning_rate': 0.01, 'n_estimators': 70}\n",
    "#w2v :{'learning_rate': 0.01, 'n_estimators': 50}"
   ]
  },
  {
   "cell_type": "code",
   "execution_count": 22,
   "metadata": {
    "collapsed": true
   },
   "outputs": [
    {
     "name": "stdout",
     "output_type": "stream",
     "text": [
      "Fitting 5 folds for each of 15 candidates, totalling 75 fits\n"
     ]
    },
    {
     "name": "stderr",
     "output_type": "stream",
     "text": [
      "[Parallel(n_jobs=-1)]: Done  42 tasks      | elapsed:  2.6min\n",
      "[Parallel(n_jobs=-1)]: Done  75 out of  75 | elapsed:  4.9min finished\n"
     ]
    },
    {
     "name": "stdout",
     "output_type": "stream",
     "text": [
      "bio\n",
      "[mean: -1.15908, std: 0.02270, params: {'max_depth': 10, 'n_estimators': 200}, mean: -1.15802, std: 0.02181, params: {'max_depth': 10, 'n_estimators': 300}, mean: -1.15575, std: 0.02111, params: {'max_depth': 10, 'n_estimators': 400}, mean: -1.08667, std: 0.03183, params: {'max_depth': 15, 'n_estimators': 200}, mean: -1.07188, std: 0.02653, params: {'max_depth': 15, 'n_estimators': 300}, mean: -1.08062, std: 0.01634, params: {'max_depth': 15, 'n_estimators': 400}, mean: -1.09363, std: 0.03696, params: {'max_depth': 20, 'n_estimators': 200}, mean: -1.11017, std: 0.02737, params: {'max_depth': 20, 'n_estimators': 300}, mean: -1.08925, std: 0.04286, params: {'max_depth': 20, 'n_estimators': 400}, mean: -1.15695, std: 0.06978, params: {'max_depth': 25, 'n_estimators': 200}, mean: -1.10237, std: 0.02824, params: {'max_depth': 25, 'n_estimators': 300}, mean: -1.09724, std: 0.02294, params: {'max_depth': 25, 'n_estimators': 400}, mean: -1.14795, std: 0.07616, params: {'max_depth': 30, 'n_estimators': 200}, mean: -1.11052, std: 0.03226, params: {'max_depth': 30, 'n_estimators': 300}, mean: -1.12421, std: 0.05335, params: {'max_depth': 30, 'n_estimators': 400}]\n",
      "{'max_depth': 15, 'n_estimators': 300}\n",
      "-1.07187541504\n",
      "Fitting 5 folds for each of 15 candidates, totalling 75 fits\n"
     ]
    },
    {
     "name": "stderr",
     "output_type": "stream",
     "text": [
      "C:\\Users\\Franck\\Documents\\Continuum\\Anaconda3\\lib\\site-packages\\sklearn\\model_selection\\_search.py:667: DeprecationWarning: The grid_scores_ attribute was deprecated in version 0.18 in favor of the more elaborate cv_results_ attribute. The grid_scores_ attribute will not be available from 0.20\n",
      "  DeprecationWarning)\n",
      "[Parallel(n_jobs=-1)]: Done  42 tasks      | elapsed:  3.2min\n",
      "[Parallel(n_jobs=-1)]: Done  75 out of  75 | elapsed:  5.9min finished\n"
     ]
    },
    {
     "name": "stdout",
     "output_type": "stream",
     "text": [
      "tfidf_tsvd_200\n",
      "[mean: -1.10751, std: 0.02275, params: {'max_depth': 10, 'n_estimators': 200}, mean: -1.10860, std: 0.01813, params: {'max_depth': 10, 'n_estimators': 300}, mean: -1.10508, std: 0.01982, params: {'max_depth': 10, 'n_estimators': 400}, mean: -0.98437, std: 0.02440, params: {'max_depth': 15, 'n_estimators': 200}, mean: -0.98110, std: 0.02420, params: {'max_depth': 15, 'n_estimators': 300}, mean: -0.98001, std: 0.02539, params: {'max_depth': 15, 'n_estimators': 400}, mean: -0.96782, std: 0.03894, params: {'max_depth': 20, 'n_estimators': 200}, mean: -0.96101, std: 0.02109, params: {'max_depth': 20, 'n_estimators': 300}, mean: -0.95426, std: 0.02944, params: {'max_depth': 20, 'n_estimators': 400}, mean: -1.03832, std: 0.08311, params: {'max_depth': 25, 'n_estimators': 200}, mean: -0.97501, std: 0.05341, params: {'max_depth': 25, 'n_estimators': 300}, mean: -0.97563, std: 0.03924, params: {'max_depth': 25, 'n_estimators': 400}, mean: -1.07268, std: 0.08909, params: {'max_depth': 30, 'n_estimators': 200}, mean: -1.00744, std: 0.03631, params: {'max_depth': 30, 'n_estimators': 300}, mean: -0.99013, std: 0.04338, params: {'max_depth': 30, 'n_estimators': 400}]\n",
      "{'max_depth': 20, 'n_estimators': 400}\n",
      "-0.954263251397\n",
      "Fitting 5 folds for each of 15 candidates, totalling 75 fits\n"
     ]
    },
    {
     "name": "stderr",
     "output_type": "stream",
     "text": [
      "C:\\Users\\Franck\\Documents\\Continuum\\Anaconda3\\lib\\site-packages\\sklearn\\model_selection\\_search.py:667: DeprecationWarning: The grid_scores_ attribute was deprecated in version 0.18 in favor of the more elaborate cv_results_ attribute. The grid_scores_ attribute will not be available from 0.20\n",
      "  DeprecationWarning)\n",
      "[Parallel(n_jobs=-1)]: Done  42 tasks      | elapsed:  2.8min\n",
      "[Parallel(n_jobs=-1)]: Done  75 out of  75 | elapsed:  5.1min finished\n"
     ]
    },
    {
     "name": "stdout",
     "output_type": "stream",
     "text": [
      "w2v_200\n",
      "[mean: -1.05788, std: 0.02329, params: {'max_depth': 10, 'n_estimators': 200}, mean: -1.05358, std: 0.02182, params: {'max_depth': 10, 'n_estimators': 300}, mean: -1.05416, std: 0.02527, params: {'max_depth': 10, 'n_estimators': 400}, mean: -1.00331, std: 0.02327, params: {'max_depth': 15, 'n_estimators': 200}, mean: -0.99590, std: 0.02220, params: {'max_depth': 15, 'n_estimators': 300}, mean: -0.99133, std: 0.02338, params: {'max_depth': 15, 'n_estimators': 400}, mean: -1.05185, std: 0.05954, params: {'max_depth': 20, 'n_estimators': 200}, mean: -1.00404, std: 0.02273, params: {'max_depth': 20, 'n_estimators': 300}, mean: -1.00334, std: 0.03138, params: {'max_depth': 20, 'n_estimators': 400}, mean: -1.07132, std: 0.06890, params: {'max_depth': 25, 'n_estimators': 200}, mean: -1.03322, std: 0.07220, params: {'max_depth': 25, 'n_estimators': 300}, mean: -1.03466, std: 0.04385, params: {'max_depth': 25, 'n_estimators': 400}, mean: -1.11073, std: 0.04711, params: {'max_depth': 30, 'n_estimators': 200}, mean: -1.04949, std: 0.05695, params: {'max_depth': 30, 'n_estimators': 300}, mean: -1.04264, std: 0.05073, params: {'max_depth': 30, 'n_estimators': 400}]\n",
      "{'max_depth': 15, 'n_estimators': 400}\n",
      "-0.99133089835\n"
     ]
    },
    {
     "name": "stderr",
     "output_type": "stream",
     "text": [
      "C:\\Users\\Franck\\Documents\\Continuum\\Anaconda3\\lib\\site-packages\\sklearn\\model_selection\\_search.py:667: DeprecationWarning: The grid_scores_ attribute was deprecated in version 0.18 in favor of the more elaborate cv_results_ attribute. The grid_scores_ attribute will not be available from 0.20\n",
      "  DeprecationWarning)\n"
     ]
    }
   ],
   "source": [
    "clf_dt=RandomForestClassifier()\n",
    "param_test={\n",
    "    \"max_depth\":[10,15,20,25,30],\n",
    "    \"n_estimators\":[200,300,400]\n",
    "}\n",
    "for name in work_train_final:\n",
    "    gsearch=GridSearchCV(estimator=clf_dt, param_grid = param_test,scoring=\"neg_log_loss\",n_jobs=-1,iid=False, cv=kf,verbose=True)\n",
    "    gsearch.fit(np.array(work_train_final[name]),y)\n",
    "    print(name)\n",
    "    print(gsearch.grid_scores_)\n",
    "    print(gsearch.best_params_)\n",
    "    print(gsearch.best_score_)\n",
    "#d2v : {'max_depth': 15, 'n_estimators': 300}\n",
    "#tfidf :{'max_depth': 20, 'n_estimators': 400}\n",
    "#w2v : {'max_depth': 15, 'n_estimators': 400}"
   ]
  },
  {
   "cell_type": "markdown",
   "metadata": {},
   "source": [
    "# TRAINING PHASE ALL ALGOS "
   ]
  },
  {
   "cell_type": "code",
   "execution_count": 23,
   "metadata": {},
   "outputs": [],
   "source": [
    "def model_gen(X,X_test,y,classifier,file,five_fold_predict=True):\n",
    "    #if not os.path.exists(\"scores/\"+file):\n",
    "    #   os.makedirs(\"scores/\"+file)\n",
    "    if five_fold_predict:\n",
    "        fold = 0\n",
    "        y_test=0\n",
    "        for train_index, test_index in kf.split(X, y):\n",
    "        \n",
    "            fold += 1\n",
    "\n",
    "            X_train, X_valid    = X[train_index],   X[test_index]\n",
    "            y_train, y_valid    = y[train_index],   y[test_index]\n",
    "\n",
    "            print(\"Fold\", fold, X_train.shape, X_valid.shape)\n",
    "\n",
    "            clf=classifier\n",
    "            clf.fit(X_train,y_train)\n",
    "            p_test = clf.predict_proba(X_test)\n",
    "            y_test += p_test/5\n",
    "\n",
    "    classes = \"class1,class2,class3,class4,class5,class6,class7,class8,class9\".split(',')\n",
    "    subm = pd.DataFrame(y_test, columns=classes)\n",
    "    subm['ID'] = ID_test\n",
    "    \n",
    "    subm.to_csv(\"new_scores/new_stack_test/new_{}.csv\".format(file),index=False)\n",
    "    \n",
    "    print(\"cross_val sur train \") #peut etre que to array est exclusivement pour les xgb\n",
    "\n",
    "    y_pred=cross_val_predict(estimator=clf,X=X,y=y,cv=kf,method=\"predict_proba\")\n",
    "    subm1 = pd.DataFrame(y_pred, columns=classes)\n",
    "    subm1['ID'] = ID_train\n",
    "    subm1.to_csv(\"new_scores/new_stack_train/new_{}.csv\".format(file),index=False)\n"
   ]
  },
  {
   "cell_type": "code",
   "execution_count": 138,
   "metadata": {
    "collapsed": true
   },
   "outputs": [
    {
     "name": "stdout",
     "output_type": "stream",
     "text": [
      "xgboost here\n",
      "Fold 1 (2946, 142) (743, 142)\n",
      "Fold 2 (2949, 142) (740, 142)\n",
      "Fold 3 (2952, 142) (737, 142)\n",
      "Fold 4 (2954, 142) (735, 142)\n",
      "Fold 5 (2955, 142) (734, 142)\n",
      "cross_val sur train \n",
      "Fold 1 (2946, 142) (743, 142)\n",
      "Fold 2 (2949, 142) (740, 142)\n",
      "Fold 3 (2952, 142) (737, 142)\n",
      "Fold 4 (2954, 142) (735, 142)\n",
      "Fold 5 (2955, 142) (734, 142)\n",
      "cross_val sur train \n",
      "Fold 1 (2946, 243) (743, 243)\n",
      "Fold 2 (2949, 243) (740, 243)\n",
      "Fold 3 (2952, 243) (737, 243)\n",
      "Fold 4 (2954, 243) (735, 243)\n",
      "Fold 5 (2955, 243) (734, 243)\n",
      "cross_val sur train \n",
      "lgbm here\n",
      "Fold 1 (2946, 142) (743, 142)\n",
      "Fold 2 (2949, 142) (740, 142)\n",
      "Fold 3 (2952, 142) (737, 142)\n",
      "Fold 4 (2954, 142) (735, 142)\n",
      "Fold 5 (2955, 142) (734, 142)\n",
      "cross_val sur train \n",
      "Fold 1 (2946, 142) (743, 142)\n",
      "Fold 2 (2949, 142) (740, 142)\n",
      "Fold 3 (2952, 142) (737, 142)\n",
      "Fold 4 (2954, 142) (735, 142)\n",
      "Fold 5 (2955, 142) (734, 142)\n",
      "cross_val sur train \n",
      "Fold 1 (2946, 243) (743, 243)\n",
      "Fold 2 (2949, 243) (740, 243)\n",
      "Fold 3 (2952, 243) (737, 243)\n",
      "Fold 4 (2954, 243) (735, 243)\n",
      "Fold 5 (2955, 243) (734, 243)\n",
      "cross_val sur train \n",
      "logreg here\n",
      "Fold 1 (2946, 142) (743, 142)\n",
      "Fold 2 (2949, 142) (740, 142)\n",
      "Fold 3 (2952, 142) (737, 142)\n",
      "Fold 4 (2954, 142) (735, 142)\n",
      "Fold 5 (2955, 142) (734, 142)\n",
      "cross_val sur train \n",
      "Fold 1 (2946, 142) (743, 142)\n",
      "Fold 2 (2949, 142) (740, 142)\n",
      "Fold 3 (2952, 142) (737, 142)\n",
      "Fold 4 (2954, 142) (735, 142)\n",
      "Fold 5 (2955, 142) (734, 142)\n",
      "cross_val sur train \n",
      "Fold 1 (2946, 243) (743, 243)\n",
      "Fold 2 (2949, 243) (740, 243)\n",
      "Fold 3 (2952, 243) (737, 243)\n",
      "Fold 4 (2954, 243) (735, 243)\n",
      "Fold 5 (2955, 243) (734, 243)\n",
      "cross_val sur train \n",
      "adaboost here\n",
      "Fold 1 (2946, 142) (743, 142)\n",
      "Fold 2 (2949, 142) (740, 142)\n",
      "Fold 3 (2952, 142) (737, 142)\n",
      "Fold 4 (2954, 142) (735, 142)\n",
      "Fold 5 (2955, 142) (734, 142)\n",
      "cross_val sur train \n",
      "Fold 1 (2946, 142) (743, 142)\n",
      "Fold 2 (2949, 142) (740, 142)\n",
      "Fold 3 (2952, 142) (737, 142)\n",
      "Fold 4 (2954, 142) (735, 142)\n",
      "Fold 5 (2955, 142) (734, 142)\n",
      "cross_val sur train \n",
      "Fold 1 (2946, 243) (743, 243)\n",
      "Fold 2 (2949, 243) (740, 243)\n",
      "Fold 3 (2952, 243) (737, 243)\n",
      "Fold 4 (2954, 243) (735, 243)\n",
      "Fold 5 (2955, 243) (734, 243)\n",
      "cross_val sur train \n",
      "random forest here\n",
      "Fold 1 (2946, 142) (743, 142)\n",
      "Fold 2 (2949, 142) (740, 142)\n",
      "Fold 3 (2952, 142) (737, 142)\n",
      "Fold 4 (2954, 142) (735, 142)\n",
      "Fold 5 (2955, 142) (734, 142)\n",
      "cross_val sur train \n",
      "Fold 1 (2946, 142) (743, 142)\n",
      "Fold 2 (2949, 142) (740, 142)\n",
      "Fold 3 (2952, 142) (737, 142)\n",
      "Fold 4 (2954, 142) (735, 142)\n",
      "Fold 5 (2955, 142) (734, 142)\n",
      "cross_val sur train \n",
      "Fold 1 (2946, 243) (743, 243)\n",
      "Fold 2 (2949, 243) (740, 243)\n",
      "Fold 3 (2952, 243) (737, 243)\n",
      "Fold 4 (2954, 243) (735, 243)\n",
      "Fold 5 (2955, 243) (734, 243)\n",
      "cross_val sur train \n"
     ]
    }
   ],
   "source": [
    "dic_xgb={\"xgb_bio\":XGBClassifier(colsample_bytree=0.8,max_depth=7,min_child_weight=3,n_estimators=100,subsample=0.8,objective=\"multi:softprob\",seed=26),\n",
    "        \"xgb_tfidf\":XGBClassifier(colsample_bytree=0.8,max_depth=5,min_child_weight=3,n_estimators=100,subsample=1,objective=\"multi:softprob\",seed=26),\n",
    "        \"xgb_w2v\":XGBClassifier(colsample_bytree=0.8,max_depth=5,min_child_weight=3,n_estimators=100,subsample=0.8,objective=\"multi:softprob\",seed=26)}\n",
    "\n",
    "dic_lgbm={\"lgbm_bio\":LGBMClassifier(boosting_type=\"gbdt\",colsample_bytree=0.8,n_estimators=48,num_leaves=22,subsample=0.8,seed=26),\n",
    "        \"lgbm_tfidf\":LGBMClassifier(boosting_type=\"gbdt\",colsample_bytree=0.8,n_estimators=48,num_leaves=22,subsample=0.8,seed=26),\n",
    "        \"lgbm_w2v\":LGBMClassifier(boosting_type=\"gbdt\",colsample_bytree=0.8,n_estimators=48,num_leaves=22,subsample=0.8,seed=26)}\n",
    "dic_lr={\"lr_bio\":LogisticRegression(C=10,penalty=\"l1\"),\n",
    "        \"lr_tfidf\":LogisticRegression(C=10,penalty=\"l1\"),\n",
    "        \"lr_w2v\":LogisticRegression(C=1,penalty=\"l1\")}\n",
    "dic_ada={\"ada_bio\":AdaBoostClassifier(n_estimators=50, learning_rate=0.01, algorithm=\"SAMME.R\", random_state=26),\n",
    "        \"ada_tfidf\":AdaBoostClassifier(n_estimators=70, learning_rate=0.01, algorithm=\"SAMME.R\", random_state=26),\n",
    "        \"ada_w2v\":AdaBoostClassifier(n_estimators=50, learning_rate=0.01, algorithm=\"SAMME.R\", random_state=26)}\n",
    "dic_rf={\"rf_bio\":RandomForestClassifier(n_estimators=400,max_depth=25,random_state=26),\n",
    "        \"rf_tfidf\":RandomForestClassifier(n_estimators=400,max_depth=20,random_state=26),\n",
    "        \"rf_w2v\":RandomForestClassifier(n_estimators=300,max_depth=15,random_state=26)}\n",
    "\n",
    "print(\"xgboost here\")\n",
    "for clf,name in zip(dic_xgb.keys(),work_train_final.keys()):\n",
    "    model_gen(X=np.array(work_train_final[name]),X_test=np.array(work_test_final[name].drop(\"ID\",axis=1)),y=y,classifier=dic_xgb[clf],file=clf)\n",
    "print(\"lgbm here\")\n",
    "for clf,name in zip(dic_lgbm.keys(),work_train_final.keys()):\n",
    "    model_gen(X=np.array(work_train_final[name]),X_test=np.array(work_test_final[name].drop(\"ID\",axis=1)),y=y,classifier=dic_lgbm[clf],file=clf)\n",
    "print(\"logreg here\")\n",
    "for clf,name in zip(dic_lr.keys(),work_train_final.keys()):\n",
    "    model_gen(X=np.array(work_train_final[name]),X_test=np.array(work_test_final[name].drop(\"ID\",axis=1)),y=y,classifier=dic_lr[clf],file=clf)\n",
    "print(\"adaboost here\")\n",
    "for clf,name in zip(dic_ada.keys(),work_train_final.keys()):\n",
    "    model_gen(X=np.array(work_train_final[name]),X_test=np.array(work_test_final[name].drop(\"ID\",axis=1)),y=y,classifier=dic_ada[clf],file=clf)\n",
    "print(\"random forest here\")\n",
    "for clf,name in zip(dic_rf.keys(),work_train_final.keys()):\n",
    "    model_gen(X=np.array(work_train_final[name]),X_test=np.array(work_test_final[name].drop(\"ID\",axis=1)),y=y,classifier=dic_rf[clf],file=clf)\n",
    "\n",
    "ext_xgb=XGBClassifier(tocomplete)\n",
    "model_gen(X=np.array(model_ext_train),X_test=np.array(model_ext_test),y=y,classifier=ext_xgb,file=\"xgb_external\")"
   ]
  },
  {
   "cell_type": "code",
   "execution_count": null,
   "metadata": {},
   "outputs": [],
   "source": [
    "ex"
   ]
  }
 ],
 "metadata": {
  "kernelspec": {
   "display_name": "Python 3",
   "language": "python",
   "name": "python3"
  },
  "language_info": {
   "codemirror_mode": {
    "name": "ipython",
    "version": 3
   },
   "file_extension": ".py",
   "mimetype": "text/x-python",
   "name": "python",
   "nbconvert_exporter": "python",
   "pygments_lexer": "ipython3",
   "version": "3.6.1"
  }
 },
 "nbformat": 4,
 "nbformat_minor": 2
}
