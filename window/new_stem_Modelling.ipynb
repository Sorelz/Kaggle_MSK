{
 "cells": [
  {
   "cell_type": "code",
   "execution_count": 1,
   "metadata": {
    "scrolled": true
   },
   "outputs": [
    {
     "name": "stderr",
     "output_type": "stream",
     "text": [
      "C:\\Users\\Franck\\Documents\\Continuum\\Anaconda3\\lib\\site-packages\\sklearn\\cross_validation.py:44: DeprecationWarning: This module was deprecated in version 0.18 in favor of the model_selection module into which all the refactored classes and functions are moved. Also note that the interface of the new CV iterators are different from that of this module. This module will be removed in 0.20.\n",
      "  \"This module will be removed in 0.20.\", DeprecationWarning)\n"
     ]
    }
   ],
   "source": [
    "import numpy as np\n",
    "import pandas as pd\n",
    "import scipy.sparse as ssp\n",
    "import sklearn\n",
    "from sklearn.feature_extraction.text import TfidfVectorizer\n",
    "from sklearn import metrics, model_selection\n",
    "from sklearn.linear_model import LogisticRegression\n",
    "import xgboost as xgb\n",
    "from xgboost import XGBClassifier\n",
    "from sklearn import svm\n",
    "from sklearn.neighbors import KNeighborsClassifier\n",
    "from sklearn.model_selection import cross_val_predict,cross_val_score\n",
    "from sklearn.decomposition import TruncatedSVD\n",
    "from sklearn.ensemble import BaggingClassifier\n",
    "from sklearn.ensemble import AdaBoostClassifier\n",
    "import lightgbm\n",
    "from lightgbm.sklearn import LGBMClassifier\n",
    "import os \n",
    "import re\n",
    "from sklearn.model_selection import GridSearchCV\n",
    "from sklearn.ensemble import RandomForestClassifier "
   ]
  },
  {
   "cell_type": "markdown",
   "metadata": {},
   "source": [
    "# I will use cross_val_score on XGBoost to select 100,200 or 300 for each preprocess => actually selected so ignore that part"
   ]
  },
  {
   "cell_type": "code",
   "execution_count": 2,
   "metadata": {},
   "outputs": [],
   "source": [
    "work_train_w2v = {} \n",
    "work_test_w2v = {}\n",
    "pre_process=[\"w2v_100.csv\",\"w2v_200.csv\",\"w2v_300.csv\"]\n",
    "path=\"checkpoints_databases/\"\n",
    "for f in pre_process:\n",
    "    work_train_w2v[re.sub(\"\\.csv\",\"\",f)] = pd.read_csv(path+\"new_stem_working_train_\"+f)\n",
    "    work_test_w2v[re.sub(\"\\.csv\",\"\",f)] = pd.read_csv(path+\"new_stem_working_test_\"+f)"
   ]
  },
  {
   "cell_type": "code",
   "execution_count": 3,
   "metadata": {},
   "outputs": [],
   "source": [
    "work_train_tfidf = {} \n",
    "work_test_tfidf = {}\n",
    "pre_process=[\"tfidf_tsvd_100.csv\",\"tfidf_tsvd_200.csv\",\"tfidf_tsvd_300.csv\"]\n",
    "path=\"checkpoints_databases/\"\n",
    "for f in pre_process:\n",
    "    work_train_tfidf[re.sub(\"\\.csv\",\"\",f)] = pd.read_csv(path+\"new_stem_working_train_\"+f)\n",
    "    work_test_tfidf[re.sub(\"\\.csv\",\"\",f)] = pd.read_csv(path+\"new_stem_working_test_\"+f)"
   ]
  },
  {
   "cell_type": "code",
   "execution_count": null,
   "metadata": {},
   "outputs": [],
   "source": [
    "#we keep the lemmatization bio w2v\n",
    "work_train_bio = {} \n",
    "work_test_bio = {}\n",
    "pre_process=[\"bio.csv\"]\n",
    "path=\"checkpoints_databases/\"\n",
    "for f in pre_process:\n",
    "    work_train_bio[re.sub(\"\\.csv\",\"\",f)] = pd.read_csv(path+\"new_working_train_\"+f)\n",
    "    work_test_bio[re.sub(\"\\.csv\",\"\",f)] = pd.read_csv(path+\"new_working_test_\"+f)"
   ]
  },
  {
   "cell_type": "code",
   "execution_count": 8,
   "metadata": {},
   "outputs": [
    {
     "name": "stdout",
     "output_type": "stream",
     "text": [
      "meanw2v_100 -1.08591915345 std:w2v_100 0.0541873570702\n",
      "meanw2v_200 -1.07376934966 std:w2v_200 0.0372816273367\n",
      "meanw2v_300 -1.06437402745 std:w2v_300 0.0367764336005\n"
     ]
    }
   ],
   "source": [
    "clf_xgb=XGBClassifier(max_depth=5, objective=\"multi:softprob\",seed=26)\n",
    "for name in work_train_w2v:\n",
    "    h=cross_val_score(clf_xgb,np.array(work_train_w2v[name]),y,cv=kf,n_jobs=-1,scoring=\"neg_log_loss\")\n",
    "    print(\"mean\"+name+\" \"+str(h.mean()),\n",
    "         \"std:\"+name+\" \"+str(h.std()))\n",
    "#"
   ]
  },
  {
   "cell_type": "code",
   "execution_count": 9,
   "metadata": {
    "scrolled": true
   },
   "outputs": [
    {
     "name": "stdout",
     "output_type": "stream",
     "text": [
      "meantfidf_tsvd_100 -1.0169704023 std:tfidf_tsvd_100 0.0365495778442\n",
      "meantfidf_tsvd_200 -1.02394548835 std:tfidf_tsvd_200 0.0384426689575\n",
      "meantfidf_tsvd_300 -1.02594316006 std:tfidf_tsvd_300 0.0390292436386\n"
     ]
    }
   ],
   "source": [
    "for name in work_train_tfidf:\n",
    "    h=cross_val_score(clf_xgb,np.array(work_train_tfidf[name]),y,cv=kf,n_jobs=-1,scoring=\"neg_log_loss\")\n",
    "    print(\"mean\"+name+\" \"+str(h.mean()),\n",
    "         \"std:\"+name+\" \"+str(h.std()))\n",
    "#"
   ]
  },
  {
   "cell_type": "markdown",
   "metadata": {},
   "source": [
    "# things start here"
   ]
  },
  {
   "cell_type": "code",
   "execution_count": 2,
   "metadata": {},
   "outputs": [],
   "source": [
    "new_train=pd.read_csv(\"checkpoints_databases/new_working_train.csv\")\n",
    "new_test=pd.read_csv(\"checkpoints_databases/new_working_test.csv\")"
   ]
  },
  {
   "cell_type": "code",
   "execution_count": 3,
   "metadata": {},
   "outputs": [],
   "source": [
    "y=np.array(new_train.Class)-1"
   ]
  },
  {
   "cell_type": "code",
   "execution_count": 4,
   "metadata": {},
   "outputs": [],
   "source": [
    "ID_train=new_train.ID\n",
    "ID_test=new_test.ID"
   ]
  },
  {
   "cell_type": "code",
   "execution_count": 5,
   "metadata": {},
   "outputs": [],
   "source": [
    "kf = model_selection.StratifiedKFold(n_splits=5, random_state=26, shuffle=True)"
   ]
  },
  {
   "cell_type": "markdown",
   "metadata": {},
   "source": [
    "# GRID SEARCH PHASE ALL ALGOS"
   ]
  },
  {
   "cell_type": "code",
   "execution_count": 7,
   "metadata": {},
   "outputs": [],
   "source": [
    "work_train= {} \n",
    "work_test = {}\n",
    "#To complete\n",
    "path=\"checkpoints_databases/\"\n",
    "work_train[\"bio\"] = pd.read_csv(path+\"new_working_train_bio.csv\")\n",
    "work_test[\"bio\"] = pd.read_csv(path+\"new_working_test_bio.csv\")\n",
    "work_train[\"full_tfidf_100\"] = pd.read_csv(path+\"new_stem_working_train_full_tfidf_100.csv\")\n",
    "work_test[\"full_tfidf_100\"] = pd.read_csv(path+\"new_stem_working_test_full_tfidf_100.csv\")\n",
    "\n",
    "work_train[\"wind_tfidf_100\"] = pd.read_csv(path+\"new_stem_working_train_wind_tfidf_100.csv\")\n",
    "work_test[\"wind_tfidf_100\"] = pd.read_csv(path+\"new_stem_working_test_wind_tfidf_100.csv\")\n",
    "\n",
    "work_train[\"w2v_300\"] = pd.read_csv(path+\"new_stem_working_train_w2v_300.csv\")\n",
    "work_test[\"w2v_300\"] = pd.read_csv(path+\"new_stem_working_test_w2v_300.csv\")\n"
   ]
  },
  {
   "cell_type": "code",
   "execution_count": 8,
   "metadata": {},
   "outputs": [],
   "source": [
    "feat_train=pd.read_csv(\"../window/w_meta_features/meta_train_l1l2.csv\")\n",
    "feat_test=pd.read_csv(\"../window/w_meta_features/meta_test_l1l2.csv\")\n",
    "feat_train=feat_train.drop(\"ID\",axis=1)\n",
    "feat_test=feat_test.drop(\"ID\",axis=1)\n",
    "feat_ext_train=pd.read_csv(\"w_meta_features/new_working_train_ext.csv\")\n",
    "feat_ext_test=pd.read_csv(\"w_meta_features/new_working_test_ext.csv\")"
   ]
  },
  {
   "cell_type": "code",
   "execution_count": 9,
   "metadata": {},
   "outputs": [],
   "source": [
    "#GO features + text embeddings\n",
    "work_train_final={}\n",
    "work_test_final={}\n",
    "for name in work_train:\n",
    "    work_train_final[name]=pd.concat((work_train[name],feat_ext_train),axis=1)\n",
    "    work_test_final[name]=pd.concat((work_test[name],feat_ext_test),axis=1)"
   ]
  },
  {
   "cell_type": "code",
   "execution_count": 10,
   "metadata": {},
   "outputs": [
    {
     "name": "stdout",
     "output_type": "stream",
     "text": [
      "bio\n",
      "full_tfidf_100\n",
      "wind_tfidf_100\n",
      "w2v_300\n"
     ]
    }
   ],
   "source": [
    "for name in work_train_final:\n",
    "    print(name) #just to check that the ordering is not doing shit"
   ]
  },
  {
   "cell_type": "markdown",
   "metadata": {},
   "source": [
    "# the gridsearch for w2vbio lemmatized is already done in the other modelling script"
   ]
  },
  {
   "cell_type": "code",
   "execution_count": null,
   "metadata": {},
   "outputs": [
    {
     "name": "stdout",
     "output_type": "stream",
     "text": [
      "Fitting 5 folds for each of 162 candidates, totalling 810 fits\n"
     ]
    },
    {
     "name": "stderr",
     "output_type": "stream",
     "text": [
      "[Parallel(n_jobs=-1)]: Done  42 tasks      | elapsed:  5.5min\n",
      "[Parallel(n_jobs=-1)]: Done 192 tasks      | elapsed: 107.7min\n"
     ]
    }
   ],
   "source": [
    "clf_xgb=XGBClassifier(max_depth=3, objective=\"multi:softprob\",seed=26)\n",
    "param_test= {\n",
    "    \"max_depth\" : [3,5,7],\n",
    "    \"min_child_weight\" : [1,3,5],\n",
    "    \"subsample\":[0.8,0.9,1],\n",
    "    \"colsample_bytree\":[0.8,0.9,1]\n",
    "}\n",
    "for name in work_train_final:\n",
    "    gsearch=GridSearchCV(estimator=clf_xgb, param_grid = param_test,scoring=\"neg_log_loss\",n_jobs=-1,iid=False, cv=kf,verbose=True)\n",
    "    gsearch.fit(np.array(work_train_final[name]),y)\n",
    "    print(name)\n",
    "    print(gsearch.grid_scores_)\n",
    "    print(gsearch.best_params_)\n",
    "    print(gsearch.best_score_)\n",
    "    \n",
    "#bio:\n",
    "#f_tfidf:\n",
    "#w_tfidf:\n",
    "#w2v:\n",
    "    \n",
    "#bio : {'colsample_bytree': 0.8, 'max_depth': 5, 'min_child_weight': 5, 'n_estimators': 100, 'subsample': 0.9} : 0.9385\n",
    "#tfidf: \n",
    "#w2v: "
   ]
  },
  {
   "cell_type": "code",
   "execution_count": null,
   "metadata": {
    "scrolled": false
   },
   "outputs": [
    {
     "name": "stdout",
     "output_type": "stream",
     "text": [
      "Fitting 5 folds for each of 144 candidates, totalling 720 fits\n"
     ]
    },
    {
     "name": "stderr",
     "output_type": "stream",
     "text": [
      "[Parallel(n_jobs=-1)]: Done  42 tasks      | elapsed:   20.9s\n",
      "[Parallel(n_jobs=-1)]: Done 192 tasks      | elapsed:  3.9min\n",
      "[Parallel(n_jobs=-1)]: Done 442 tasks      | elapsed: 10.6min\n",
      "[Parallel(n_jobs=-1)]: Done 720 out of 720 | elapsed: 19.8min finished\n"
     ]
    },
    {
     "name": "stdout",
     "output_type": "stream",
     "text": [
      "bio\n",
      "[mean: -1.55490, std: 0.01438, params: {'boosting_type': 'gbdt', 'colsample_bytree': 0.7, 'n_estimators': 8, 'num_leaves': 6, 'subsample': 0.7}, mean: -1.55617, std: 0.01565, params: {'boosting_type': 'gbdt', 'colsample_bytree': 0.7, 'n_estimators': 8, 'num_leaves': 6, 'subsample': 0.8}, mean: -1.55400, std: 0.01066, params: {'boosting_type': 'gbdt', 'colsample_bytree': 0.7, 'n_estimators': 8, 'num_leaves': 6, 'subsample': 0.9}, mean: -1.48765, std: 0.01384, params: {'boosting_type': 'gbdt', 'colsample_bytree': 0.7, 'n_estimators': 8, 'num_leaves': 12, 'subsample': 0.7}, mean: -1.48021, std: 0.01472, params: {'boosting_type': 'gbdt', 'colsample_bytree': 0.7, 'n_estimators': 8, 'num_leaves': 12, 'subsample': 0.8}, mean: -1.47836, std: 0.01221, params: {'boosting_type': 'gbdt', 'colsample_bytree': 0.7, 'n_estimators': 8, 'num_leaves': 12, 'subsample': 0.9}, mean: -1.46263, std: 0.01420, params: {'boosting_type': 'gbdt', 'colsample_bytree': 0.7, 'n_estimators': 8, 'num_leaves': 16, 'subsample': 0.7}, mean: -1.44989, std: 0.01446, params: {'boosting_type': 'gbdt', 'colsample_bytree': 0.7, 'n_estimators': 8, 'num_leaves': 16, 'subsample': 0.8}, mean: -1.44723, std: 0.01497, params: {'boosting_type': 'gbdt', 'colsample_bytree': 0.7, 'n_estimators': 8, 'num_leaves': 16, 'subsample': 0.9}, mean: -1.44038, std: 0.01196, params: {'boosting_type': 'gbdt', 'colsample_bytree': 0.7, 'n_estimators': 8, 'num_leaves': 22, 'subsample': 0.7}, mean: -1.43146, std: 0.01699, params: {'boosting_type': 'gbdt', 'colsample_bytree': 0.7, 'n_estimators': 8, 'num_leaves': 22, 'subsample': 0.8}, mean: -1.42332, std: 0.01312, params: {'boosting_type': 'gbdt', 'colsample_bytree': 0.7, 'n_estimators': 8, 'num_leaves': 22, 'subsample': 0.9}, mean: -1.18866, std: 0.01937, params: {'boosting_type': 'gbdt', 'colsample_bytree': 0.7, 'n_estimators': 24, 'num_leaves': 6, 'subsample': 0.7}, mean: -1.18562, std: 0.02044, params: {'boosting_type': 'gbdt', 'colsample_bytree': 0.7, 'n_estimators': 24, 'num_leaves': 6, 'subsample': 0.8}, mean: -1.18146, std: 0.01937, params: {'boosting_type': 'gbdt', 'colsample_bytree': 0.7, 'n_estimators': 24, 'num_leaves': 6, 'subsample': 0.9}, mean: -1.09722, std: 0.02431, params: {'boosting_type': 'gbdt', 'colsample_bytree': 0.7, 'n_estimators': 24, 'num_leaves': 12, 'subsample': 0.7}, mean: -1.09193, std: 0.02662, params: {'boosting_type': 'gbdt', 'colsample_bytree': 0.7, 'n_estimators': 24, 'num_leaves': 12, 'subsample': 0.8}, mean: -1.08885, std: 0.02207, params: {'boosting_type': 'gbdt', 'colsample_bytree': 0.7, 'n_estimators': 24, 'num_leaves': 12, 'subsample': 0.9}, mean: -1.07317, std: 0.02411, params: {'boosting_type': 'gbdt', 'colsample_bytree': 0.7, 'n_estimators': 24, 'num_leaves': 16, 'subsample': 0.7}, mean: -1.06304, std: 0.02407, params: {'boosting_type': 'gbdt', 'colsample_bytree': 0.7, 'n_estimators': 24, 'num_leaves': 16, 'subsample': 0.8}, mean: -1.06046, std: 0.02530, params: {'boosting_type': 'gbdt', 'colsample_bytree': 0.7, 'n_estimators': 24, 'num_leaves': 16, 'subsample': 0.9}, mean: -1.05649, std: 0.02466, params: {'boosting_type': 'gbdt', 'colsample_bytree': 0.7, 'n_estimators': 24, 'num_leaves': 22, 'subsample': 0.7}, mean: -1.04701, std: 0.02742, params: {'boosting_type': 'gbdt', 'colsample_bytree': 0.7, 'n_estimators': 24, 'num_leaves': 22, 'subsample': 0.8}, mean: -1.03978, std: 0.02982, params: {'boosting_type': 'gbdt', 'colsample_bytree': 0.7, 'n_estimators': 24, 'num_leaves': 22, 'subsample': 0.9}, mean: -1.08743, std: 0.01935, params: {'boosting_type': 'gbdt', 'colsample_bytree': 0.7, 'n_estimators': 36, 'num_leaves': 6, 'subsample': 0.7}, mean: -1.08431, std: 0.02121, params: {'boosting_type': 'gbdt', 'colsample_bytree': 0.7, 'n_estimators': 36, 'num_leaves': 6, 'subsample': 0.8}, mean: -1.07935, std: 0.02298, params: {'boosting_type': 'gbdt', 'colsample_bytree': 0.7, 'n_estimators': 36, 'num_leaves': 6, 'subsample': 0.9}, mean: -1.00256, std: 0.03013, params: {'boosting_type': 'gbdt', 'colsample_bytree': 0.7, 'n_estimators': 36, 'num_leaves': 12, 'subsample': 0.7}, mean: -0.99720, std: 0.03003, params: {'boosting_type': 'gbdt', 'colsample_bytree': 0.7, 'n_estimators': 36, 'num_leaves': 12, 'subsample': 0.8}, mean: -0.99418, std: 0.02899, params: {'boosting_type': 'gbdt', 'colsample_bytree': 0.7, 'n_estimators': 36, 'num_leaves': 12, 'subsample': 0.9}, mean: -0.98567, std: 0.02978, params: {'boosting_type': 'gbdt', 'colsample_bytree': 0.7, 'n_estimators': 36, 'num_leaves': 16, 'subsample': 0.7}, mean: -0.97806, std: 0.03067, params: {'boosting_type': 'gbdt', 'colsample_bytree': 0.7, 'n_estimators': 36, 'num_leaves': 16, 'subsample': 0.8}, mean: -0.97360, std: 0.03314, params: {'boosting_type': 'gbdt', 'colsample_bytree': 0.7, 'n_estimators': 36, 'num_leaves': 16, 'subsample': 0.9}, mean: -0.97871, std: 0.03276, params: {'boosting_type': 'gbdt', 'colsample_bytree': 0.7, 'n_estimators': 36, 'num_leaves': 22, 'subsample': 0.7}, mean: -0.97253, std: 0.03455, params: {'boosting_type': 'gbdt', 'colsample_bytree': 0.7, 'n_estimators': 36, 'num_leaves': 22, 'subsample': 0.8}, mean: -0.96315, std: 0.03833, params: {'boosting_type': 'gbdt', 'colsample_bytree': 0.7, 'n_estimators': 36, 'num_leaves': 22, 'subsample': 0.9}, mean: -1.02871, std: 0.02467, params: {'boosting_type': 'gbdt', 'colsample_bytree': 0.7, 'n_estimators': 48, 'num_leaves': 6, 'subsample': 0.7}, mean: -1.02746, std: 0.02337, params: {'boosting_type': 'gbdt', 'colsample_bytree': 0.7, 'n_estimators': 48, 'num_leaves': 6, 'subsample': 0.8}, mean: -1.02317, std: 0.02793, params: {'boosting_type': 'gbdt', 'colsample_bytree': 0.7, 'n_estimators': 48, 'num_leaves': 6, 'subsample': 0.9}, mean: -0.96131, std: 0.03266, params: {'boosting_type': 'gbdt', 'colsample_bytree': 0.7, 'n_estimators': 48, 'num_leaves': 12, 'subsample': 0.7}, mean: -0.95940, std: 0.03550, params: {'boosting_type': 'gbdt', 'colsample_bytree': 0.7, 'n_estimators': 48, 'num_leaves': 12, 'subsample': 0.8}, mean: -0.94973, std: 0.03613, params: {'boosting_type': 'gbdt', 'colsample_bytree': 0.7, 'n_estimators': 48, 'num_leaves': 12, 'subsample': 0.9}, mean: -0.95163, std: 0.03420, params: {'boosting_type': 'gbdt', 'colsample_bytree': 0.7, 'n_estimators': 48, 'num_leaves': 16, 'subsample': 0.7}, mean: -0.94486, std: 0.03775, params: {'boosting_type': 'gbdt', 'colsample_bytree': 0.7, 'n_estimators': 48, 'num_leaves': 16, 'subsample': 0.8}, mean: -0.94002, std: 0.03878, params: {'boosting_type': 'gbdt', 'colsample_bytree': 0.7, 'n_estimators': 48, 'num_leaves': 16, 'subsample': 0.9}, mean: -0.95214, std: 0.04027, params: {'boosting_type': 'gbdt', 'colsample_bytree': 0.7, 'n_estimators': 48, 'num_leaves': 22, 'subsample': 0.7}, mean: -0.94995, std: 0.03935, params: {'boosting_type': 'gbdt', 'colsample_bytree': 0.7, 'n_estimators': 48, 'num_leaves': 22, 'subsample': 0.8}, mean: -0.94205, std: 0.04298, params: {'boosting_type': 'gbdt', 'colsample_bytree': 0.7, 'n_estimators': 48, 'num_leaves': 22, 'subsample': 0.9}, mean: -1.55223, std: 0.01828, params: {'boosting_type': 'gbdt', 'colsample_bytree': 0.8, 'n_estimators': 8, 'num_leaves': 6, 'subsample': 0.7}, mean: -1.55131, std: 0.01906, params: {'boosting_type': 'gbdt', 'colsample_bytree': 0.8, 'n_estimators': 8, 'num_leaves': 6, 'subsample': 0.8}, mean: -1.55095, std: 0.01439, params: {'boosting_type': 'gbdt', 'colsample_bytree': 0.8, 'n_estimators': 8, 'num_leaves': 6, 'subsample': 0.9}, mean: -1.48071, std: 0.01417, params: {'boosting_type': 'gbdt', 'colsample_bytree': 0.8, 'n_estimators': 8, 'num_leaves': 12, 'subsample': 0.7}, mean: -1.47520, std: 0.01603, params: {'boosting_type': 'gbdt', 'colsample_bytree': 0.8, 'n_estimators': 8, 'num_leaves': 12, 'subsample': 0.8}, mean: -1.47022, std: 0.01398, params: {'boosting_type': 'gbdt', 'colsample_bytree': 0.8, 'n_estimators': 8, 'num_leaves': 12, 'subsample': 0.9}, mean: -1.45554, std: 0.01314, params: {'boosting_type': 'gbdt', 'colsample_bytree': 0.8, 'n_estimators': 8, 'num_leaves': 16, 'subsample': 0.7}, mean: -1.45070, std: 0.01845, params: {'boosting_type': 'gbdt', 'colsample_bytree': 0.8, 'n_estimators': 8, 'num_leaves': 16, 'subsample': 0.8}, mean: -1.44532, std: 0.01452, params: {'boosting_type': 'gbdt', 'colsample_bytree': 0.8, 'n_estimators': 8, 'num_leaves': 16, 'subsample': 0.9}, mean: -1.43570, std: 0.01345, params: {'boosting_type': 'gbdt', 'colsample_bytree': 0.8, 'n_estimators': 8, 'num_leaves': 22, 'subsample': 0.7}, mean: -1.42793, std: 0.01908, params: {'boosting_type': 'gbdt', 'colsample_bytree': 0.8, 'n_estimators': 8, 'num_leaves': 22, 'subsample': 0.8}, mean: -1.42457, std: 0.01441, params: {'boosting_type': 'gbdt', 'colsample_bytree': 0.8, 'n_estimators': 8, 'num_leaves': 22, 'subsample': 0.9}, mean: -1.18644, std: 0.02175, params: {'boosting_type': 'gbdt', 'colsample_bytree': 0.8, 'n_estimators': 24, 'num_leaves': 6, 'subsample': 0.7}, mean: -1.18464, std: 0.02481, params: {'boosting_type': 'gbdt', 'colsample_bytree': 0.8, 'n_estimators': 24, 'num_leaves': 6, 'subsample': 0.8}, mean: -1.18164, std: 0.01762, params: {'boosting_type': 'gbdt', 'colsample_bytree': 0.8, 'n_estimators': 24, 'num_leaves': 6, 'subsample': 0.9}, mean: -1.09427, std: 0.02410, params: {'boosting_type': 'gbdt', 'colsample_bytree': 0.8, 'n_estimators': 24, 'num_leaves': 12, 'subsample': 0.7}, mean: -1.09122, std: 0.02554, params: {'boosting_type': 'gbdt', 'colsample_bytree': 0.8, 'n_estimators': 24, 'num_leaves': 12, 'subsample': 0.8}, mean: -1.08616, std: 0.02293, params: {'boosting_type': 'gbdt', 'colsample_bytree': 0.8, 'n_estimators': 24, 'num_leaves': 12, 'subsample': 0.9}, mean: -1.06952, std: 0.01946, params: {'boosting_type': 'gbdt', 'colsample_bytree': 0.8, 'n_estimators': 24, 'num_leaves': 16, 'subsample': 0.7}, mean: -1.06638, std: 0.02807, params: {'boosting_type': 'gbdt', 'colsample_bytree': 0.8, 'n_estimators': 24, 'num_leaves': 16, 'subsample': 0.8}, mean: -1.05878, std: 0.02619, params: {'boosting_type': 'gbdt', 'colsample_bytree': 0.8, 'n_estimators': 24, 'num_leaves': 16, 'subsample': 0.9}, mean: -1.05043, std: 0.02785, params: {'boosting_type': 'gbdt', 'colsample_bytree': 0.8, 'n_estimators': 24, 'num_leaves': 22, 'subsample': 0.7}, mean: -1.04550, std: 0.02806, params: {'boosting_type': 'gbdt', 'colsample_bytree': 0.8, 'n_estimators': 24, 'num_leaves': 22, 'subsample': 0.8}, mean: -1.03911, std: 0.02504, params: {'boosting_type': 'gbdt', 'colsample_bytree': 0.8, 'n_estimators': 24, 'num_leaves': 22, 'subsample': 0.9}, mean: -1.08275, std: 0.02192, params: {'boosting_type': 'gbdt', 'colsample_bytree': 0.8, 'n_estimators': 36, 'num_leaves': 6, 'subsample': 0.7}, mean: -1.08519, std: 0.02615, params: {'boosting_type': 'gbdt', 'colsample_bytree': 0.8, 'n_estimators': 36, 'num_leaves': 6, 'subsample': 0.8}, mean: -1.08106, std: 0.02064, params: {'boosting_type': 'gbdt', 'colsample_bytree': 0.8, 'n_estimators': 36, 'num_leaves': 6, 'subsample': 0.9}, mean: -1.00004, std: 0.02813, params: {'boosting_type': 'gbdt', 'colsample_bytree': 0.8, 'n_estimators': 36, 'num_leaves': 12, 'subsample': 0.7}, mean: -0.99820, std: 0.03072, params: {'boosting_type': 'gbdt', 'colsample_bytree': 0.8, 'n_estimators': 36, 'num_leaves': 12, 'subsample': 0.8}, mean: -0.99399, std: 0.03163, params: {'boosting_type': 'gbdt', 'colsample_bytree': 0.8, 'n_estimators': 36, 'num_leaves': 12, 'subsample': 0.9}, mean: -0.98294, std: 0.02632, params: {'boosting_type': 'gbdt', 'colsample_bytree': 0.8, 'n_estimators': 36, 'num_leaves': 16, 'subsample': 0.7}, mean: -0.97948, std: 0.03432, params: {'boosting_type': 'gbdt', 'colsample_bytree': 0.8, 'n_estimators': 36, 'num_leaves': 16, 'subsample': 0.8}, mean: -0.97382, std: 0.03492, params: {'boosting_type': 'gbdt', 'colsample_bytree': 0.8, 'n_estimators': 36, 'num_leaves': 16, 'subsample': 0.9}, mean: -0.97449, std: 0.03410, params: {'boosting_type': 'gbdt', 'colsample_bytree': 0.8, 'n_estimators': 36, 'num_leaves': 22, 'subsample': 0.7}, mean: -0.96916, std: 0.03353, params: {'boosting_type': 'gbdt', 'colsample_bytree': 0.8, 'n_estimators': 36, 'num_leaves': 22, 'subsample': 0.8}, mean: -0.96239, std: 0.03662, params: {'boosting_type': 'gbdt', 'colsample_bytree': 0.8, 'n_estimators': 36, 'num_leaves': 22, 'subsample': 0.9}, mean: -1.02521, std: 0.02482, params: {'boosting_type': 'gbdt', 'colsample_bytree': 0.8, 'n_estimators': 48, 'num_leaves': 6, 'subsample': 0.7}, mean: -1.02723, std: 0.02772, params: {'boosting_type': 'gbdt', 'colsample_bytree': 0.8, 'n_estimators': 48, 'num_leaves': 6, 'subsample': 0.8}, mean: -1.02318, std: 0.02592, params: {'boosting_type': 'gbdt', 'colsample_bytree': 0.8, 'n_estimators': 48, 'num_leaves': 6, 'subsample': 0.9}, mean: -0.95865, std: 0.03161, params: {'boosting_type': 'gbdt', 'colsample_bytree': 0.8, 'n_estimators': 48, 'num_leaves': 12, 'subsample': 0.7}, mean: -0.95674, std: 0.03723, params: {'boosting_type': 'gbdt', 'colsample_bytree': 0.8, 'n_estimators': 48, 'num_leaves': 12, 'subsample': 0.8}, mean: -0.95224, std: 0.03788, params: {'boosting_type': 'gbdt', 'colsample_bytree': 0.8, 'n_estimators': 48, 'num_leaves': 12, 'subsample': 0.9}, mean: -0.95210, std: 0.03404, params: {'boosting_type': 'gbdt', 'colsample_bytree': 0.8, 'n_estimators': 48, 'num_leaves': 16, 'subsample': 0.7}, mean: -0.94830, std: 0.04101, params: {'boosting_type': 'gbdt', 'colsample_bytree': 0.8, 'n_estimators': 48, 'num_leaves': 16, 'subsample': 0.8}, mean: -0.94262, std: 0.04094, params: {'boosting_type': 'gbdt', 'colsample_bytree': 0.8, 'n_estimators': 48, 'num_leaves': 16, 'subsample': 0.9}, mean: -0.95257, std: 0.03800, params: {'boosting_type': 'gbdt', 'colsample_bytree': 0.8, 'n_estimators': 48, 'num_leaves': 22, 'subsample': 0.7}, mean: -0.94712, std: 0.03954, params: {'boosting_type': 'gbdt', 'colsample_bytree': 0.8, 'n_estimators': 48, 'num_leaves': 22, 'subsample': 0.8}, mean: -0.94341, std: 0.04331, params: {'boosting_type': 'gbdt', 'colsample_bytree': 0.8, 'n_estimators': 48, 'num_leaves': 22, 'subsample': 0.9}, mean: -1.54786, std: 0.01569, params: {'boosting_type': 'gbdt', 'colsample_bytree': 0.9, 'n_estimators': 8, 'num_leaves': 6, 'subsample': 0.7}, mean: -1.54999, std: 0.01748, params: {'boosting_type': 'gbdt', 'colsample_bytree': 0.9, 'n_estimators': 8, 'num_leaves': 6, 'subsample': 0.8}, mean: -1.54806, std: 0.01746, params: {'boosting_type': 'gbdt', 'colsample_bytree': 0.9, 'n_estimators': 8, 'num_leaves': 6, 'subsample': 0.9}, mean: -1.47929, std: 0.01261, params: {'boosting_type': 'gbdt', 'colsample_bytree': 0.9, 'n_estimators': 8, 'num_leaves': 12, 'subsample': 0.7}, mean: -1.46981, std: 0.01942, params: {'boosting_type': 'gbdt', 'colsample_bytree': 0.9, 'n_estimators': 8, 'num_leaves': 12, 'subsample': 0.8}, mean: -1.46903, std: 0.01469, params: {'boosting_type': 'gbdt', 'colsample_bytree': 0.9, 'n_estimators': 8, 'num_leaves': 12, 'subsample': 0.9}, mean: -1.45190, std: 0.01455, params: {'boosting_type': 'gbdt', 'colsample_bytree': 0.9, 'n_estimators': 8, 'num_leaves': 16, 'subsample': 0.7}, mean: -1.44742, std: 0.01964, params: {'boosting_type': 'gbdt', 'colsample_bytree': 0.9, 'n_estimators': 8, 'num_leaves': 16, 'subsample': 0.8}, mean: -1.43940, std: 0.01210, params: {'boosting_type': 'gbdt', 'colsample_bytree': 0.9, 'n_estimators': 8, 'num_leaves': 16, 'subsample': 0.9}, mean: -1.43344, std: 0.01413, params: {'boosting_type': 'gbdt', 'colsample_bytree': 0.9, 'n_estimators': 8, 'num_leaves': 22, 'subsample': 0.7}, mean: -1.42841, std: 0.01875, params: {'boosting_type': 'gbdt', 'colsample_bytree': 0.9, 'n_estimators': 8, 'num_leaves': 22, 'subsample': 0.8}, mean: -1.41612, std: 0.01818, params: {'boosting_type': 'gbdt', 'colsample_bytree': 0.9, 'n_estimators': 8, 'num_leaves': 22, 'subsample': 0.9}, mean: -1.18541, std: 0.02221, params: {'boosting_type': 'gbdt', 'colsample_bytree': 0.9, 'n_estimators': 24, 'num_leaves': 6, 'subsample': 0.7}, mean: -1.18402, std: 0.02491, params: {'boosting_type': 'gbdt', 'colsample_bytree': 0.9, 'n_estimators': 24, 'num_leaves': 6, 'subsample': 0.8}, mean: -1.17970, std: 0.01993, params: {'boosting_type': 'gbdt', 'colsample_bytree': 0.9, 'n_estimators': 24, 'num_leaves': 6, 'subsample': 0.9}, mean: -1.09533, std: 0.02074, params: {'boosting_type': 'gbdt', 'colsample_bytree': 0.9, 'n_estimators': 24, 'num_leaves': 12, 'subsample': 0.7}, mean: -1.08693, std: 0.02845, params: {'boosting_type': 'gbdt', 'colsample_bytree': 0.9, 'n_estimators': 24, 'num_leaves': 12, 'subsample': 0.8}, mean: -1.08480, std: 0.02377, params: {'boosting_type': 'gbdt', 'colsample_bytree': 0.9, 'n_estimators': 24, 'num_leaves': 12, 'subsample': 0.9}, mean: -1.06332, std: 0.02608, params: {'boosting_type': 'gbdt', 'colsample_bytree': 0.9, 'n_estimators': 24, 'num_leaves': 16, 'subsample': 0.7}, mean: -1.06127, std: 0.02696, params: {'boosting_type': 'gbdt', 'colsample_bytree': 0.9, 'n_estimators': 24, 'num_leaves': 16, 'subsample': 0.8}, mean: -1.05604, std: 0.02508, params: {'boosting_type': 'gbdt', 'colsample_bytree': 0.9, 'n_estimators': 24, 'num_leaves': 16, 'subsample': 0.9}, mean: -1.05146, std: 0.02613, params: {'boosting_type': 'gbdt', 'colsample_bytree': 0.9, 'n_estimators': 24, 'num_leaves': 22, 'subsample': 0.7}, mean: -1.04797, std: 0.02918, params: {'boosting_type': 'gbdt', 'colsample_bytree': 0.9, 'n_estimators': 24, 'num_leaves': 22, 'subsample': 0.8}, mean: -1.03503, std: 0.02839, params: {'boosting_type': 'gbdt', 'colsample_bytree': 0.9, 'n_estimators': 24, 'num_leaves': 22, 'subsample': 0.9}, mean: -1.08073, std: 0.02287, params: {'boosting_type': 'gbdt', 'colsample_bytree': 0.9, 'n_estimators': 36, 'num_leaves': 6, 'subsample': 0.7}, mean: -1.08153, std: 0.02521, params: {'boosting_type': 'gbdt', 'colsample_bytree': 0.9, 'n_estimators': 36, 'num_leaves': 6, 'subsample': 0.8}, mean: -1.07984, std: 0.02331, params: {'boosting_type': 'gbdt', 'colsample_bytree': 0.9, 'n_estimators': 36, 'num_leaves': 6, 'subsample': 0.9}, mean: -1.00265, std: 0.02539, params: {'boosting_type': 'gbdt', 'colsample_bytree': 0.9, 'n_estimators': 36, 'num_leaves': 12, 'subsample': 0.7}, mean: -0.99386, std: 0.03525, params: {'boosting_type': 'gbdt', 'colsample_bytree': 0.9, 'n_estimators': 36, 'num_leaves': 12, 'subsample': 0.8}, mean: -0.98923, std: 0.03134, params: {'boosting_type': 'gbdt', 'colsample_bytree': 0.9, 'n_estimators': 36, 'num_leaves': 12, 'subsample': 0.9}, mean: -0.97773, std: 0.03158, params: {'boosting_type': 'gbdt', 'colsample_bytree': 0.9, 'n_estimators': 36, 'num_leaves': 16, 'subsample': 0.7}, mean: -0.97624, std: 0.03066, params: {'boosting_type': 'gbdt', 'colsample_bytree': 0.9, 'n_estimators': 36, 'num_leaves': 16, 'subsample': 0.8}, mean: -0.96910, std: 0.03172, params: {'boosting_type': 'gbdt', 'colsample_bytree': 0.9, 'n_estimators': 36, 'num_leaves': 16, 'subsample': 0.9}, mean: -0.97622, std: 0.03295, params: {'boosting_type': 'gbdt', 'colsample_bytree': 0.9, 'n_estimators': 36, 'num_leaves': 22, 'subsample': 0.7}, mean: -0.97175, std: 0.03939, params: {'boosting_type': 'gbdt', 'colsample_bytree': 0.9, 'n_estimators': 36, 'num_leaves': 22, 'subsample': 0.8}, mean: -0.96073, std: 0.03722, params: {'boosting_type': 'gbdt', 'colsample_bytree': 0.9, 'n_estimators': 36, 'num_leaves': 22, 'subsample': 0.9}, mean: -1.02304, std: 0.02537, params: {'boosting_type': 'gbdt', 'colsample_bytree': 0.9, 'n_estimators': 48, 'num_leaves': 6, 'subsample': 0.7}, mean: -1.02469, std: 0.02777, params: {'boosting_type': 'gbdt', 'colsample_bytree': 0.9, 'n_estimators': 48, 'num_leaves': 6, 'subsample': 0.8}, mean: -1.02296, std: 0.02820, params: {'boosting_type': 'gbdt', 'colsample_bytree': 0.9, 'n_estimators': 48, 'num_leaves': 6, 'subsample': 0.9}, mean: -0.96216, std: 0.02892, params: {'boosting_type': 'gbdt', 'colsample_bytree': 0.9, 'n_estimators': 48, 'num_leaves': 12, 'subsample': 0.7}, mean: -0.95277, std: 0.04138, params: {'boosting_type': 'gbdt', 'colsample_bytree': 0.9, 'n_estimators': 48, 'num_leaves': 12, 'subsample': 0.8}, mean: -0.94681, std: 0.03728, params: {'boosting_type': 'gbdt', 'colsample_bytree': 0.9, 'n_estimators': 48, 'num_leaves': 12, 'subsample': 0.9}, mean: -0.94692, std: 0.03624, params: {'boosting_type': 'gbdt', 'colsample_bytree': 0.9, 'n_estimators': 48, 'num_leaves': 16, 'subsample': 0.7}, mean: -0.94532, std: 0.03796, params: {'boosting_type': 'gbdt', 'colsample_bytree': 0.9, 'n_estimators': 48, 'num_leaves': 16, 'subsample': 0.8}, mean: -0.94013, std: 0.03513, params: {'boosting_type': 'gbdt', 'colsample_bytree': 0.9, 'n_estimators': 48, 'num_leaves': 16, 'subsample': 0.9}, mean: -0.95732, std: 0.03981, params: {'boosting_type': 'gbdt', 'colsample_bytree': 0.9, 'n_estimators': 48, 'num_leaves': 22, 'subsample': 0.7}, mean: -0.95013, std: 0.04552, params: {'boosting_type': 'gbdt', 'colsample_bytree': 0.9, 'n_estimators': 48, 'num_leaves': 22, 'subsample': 0.8}, mean: -0.94028, std: 0.04235, params: {'boosting_type': 'gbdt', 'colsample_bytree': 0.9, 'n_estimators': 48, 'num_leaves': 22, 'subsample': 0.9}]\n",
      "{'boosting_type': 'gbdt', 'colsample_bytree': 0.7, 'n_estimators': 48, 'num_leaves': 16, 'subsample': 0.9}\n",
      "-0.940016998893\n",
      "Fitting 5 folds for each of 144 candidates, totalling 720 fits\n"
     ]
    },
    {
     "name": "stderr",
     "output_type": "stream",
     "text": [
      "C:\\Users\\Franck\\Documents\\Continuum\\Anaconda3\\lib\\site-packages\\sklearn\\model_selection\\_search.py:667: DeprecationWarning: The grid_scores_ attribute was deprecated in version 0.18 in favor of the more elaborate cv_results_ attribute. The grid_scores_ attribute will not be available from 0.20\n",
      "  DeprecationWarning)\n",
      "[Parallel(n_jobs=-1)]: Done  42 tasks      | elapsed:   14.2s\n",
      "[Parallel(n_jobs=-1)]: Done 192 tasks      | elapsed:  2.3min\n",
      "[Parallel(n_jobs=-1)]: Done 442 tasks      | elapsed:  6.2min\n",
      "[Parallel(n_jobs=-1)]: Done 720 out of 720 | elapsed: 11.7min finished\n"
     ]
    },
    {
     "name": "stdout",
     "output_type": "stream",
     "text": [
      "full_tfidf_100\n",
      "[mean: -1.55173, std: 0.01291, params: {'boosting_type': 'gbdt', 'colsample_bytree': 0.7, 'n_estimators': 8, 'num_leaves': 6, 'subsample': 0.7}, mean: -1.54892, std: 0.01458, params: {'boosting_type': 'gbdt', 'colsample_bytree': 0.7, 'n_estimators': 8, 'num_leaves': 6, 'subsample': 0.8}, mean: -1.54990, std: 0.01558, params: {'boosting_type': 'gbdt', 'colsample_bytree': 0.7, 'n_estimators': 8, 'num_leaves': 6, 'subsample': 0.9}, mean: -1.47456, std: 0.01212, params: {'boosting_type': 'gbdt', 'colsample_bytree': 0.7, 'n_estimators': 8, 'num_leaves': 12, 'subsample': 0.7}, mean: -1.46893, std: 0.01672, params: {'boosting_type': 'gbdt', 'colsample_bytree': 0.7, 'n_estimators': 8, 'num_leaves': 12, 'subsample': 0.8}, mean: -1.46555, std: 0.01470, params: {'boosting_type': 'gbdt', 'colsample_bytree': 0.7, 'n_estimators': 8, 'num_leaves': 12, 'subsample': 0.9}, mean: -1.45017, std: 0.01305, params: {'boosting_type': 'gbdt', 'colsample_bytree': 0.7, 'n_estimators': 8, 'num_leaves': 16, 'subsample': 0.7}, mean: -1.44256, std: 0.01526, params: {'boosting_type': 'gbdt', 'colsample_bytree': 0.7, 'n_estimators': 8, 'num_leaves': 16, 'subsample': 0.8}, mean: -1.44028, std: 0.01400, params: {'boosting_type': 'gbdt', 'colsample_bytree': 0.7, 'n_estimators': 8, 'num_leaves': 16, 'subsample': 0.9}, mean: -1.43283, std: 0.01435, params: {'boosting_type': 'gbdt', 'colsample_bytree': 0.7, 'n_estimators': 8, 'num_leaves': 22, 'subsample': 0.7}, mean: -1.42514, std: 0.01504, params: {'boosting_type': 'gbdt', 'colsample_bytree': 0.7, 'n_estimators': 8, 'num_leaves': 22, 'subsample': 0.8}, mean: -1.41598, std: 0.01343, params: {'boosting_type': 'gbdt', 'colsample_bytree': 0.7, 'n_estimators': 8, 'num_leaves': 22, 'subsample': 0.9}, mean: -1.16916, std: 0.02002, params: {'boosting_type': 'gbdt', 'colsample_bytree': 0.7, 'n_estimators': 24, 'num_leaves': 6, 'subsample': 0.7}, mean: -1.16849, std: 0.01760, params: {'boosting_type': 'gbdt', 'colsample_bytree': 0.7, 'n_estimators': 24, 'num_leaves': 6, 'subsample': 0.8}, mean: -1.16917, std: 0.01737, params: {'boosting_type': 'gbdt', 'colsample_bytree': 0.7, 'n_estimators': 24, 'num_leaves': 6, 'subsample': 0.9}, mean: -1.07932, std: 0.01908, params: {'boosting_type': 'gbdt', 'colsample_bytree': 0.7, 'n_estimators': 24, 'num_leaves': 12, 'subsample': 0.7}, mean: -1.07294, std: 0.02193, params: {'boosting_type': 'gbdt', 'colsample_bytree': 0.7, 'n_estimators': 24, 'num_leaves': 12, 'subsample': 0.8}, mean: -1.06799, std: 0.01934, params: {'boosting_type': 'gbdt', 'colsample_bytree': 0.7, 'n_estimators': 24, 'num_leaves': 12, 'subsample': 0.9}, mean: -1.05326, std: 0.02188, params: {'boosting_type': 'gbdt', 'colsample_bytree': 0.7, 'n_estimators': 24, 'num_leaves': 16, 'subsample': 0.7}, mean: -1.04575, std: 0.02060, params: {'boosting_type': 'gbdt', 'colsample_bytree': 0.7, 'n_estimators': 24, 'num_leaves': 16, 'subsample': 0.8}, mean: -1.04430, std: 0.02072, params: {'boosting_type': 'gbdt', 'colsample_bytree': 0.7, 'n_estimators': 24, 'num_leaves': 16, 'subsample': 0.9}, mean: -1.03667, std: 0.02687, params: {'boosting_type': 'gbdt', 'colsample_bytree': 0.7, 'n_estimators': 24, 'num_leaves': 22, 'subsample': 0.7}, mean: -1.03211, std: 0.02114, params: {'boosting_type': 'gbdt', 'colsample_bytree': 0.7, 'n_estimators': 24, 'num_leaves': 22, 'subsample': 0.8}, mean: -1.02519, std: 0.02318, params: {'boosting_type': 'gbdt', 'colsample_bytree': 0.7, 'n_estimators': 24, 'num_leaves': 22, 'subsample': 0.9}, mean: -1.06059, std: 0.02017, params: {'boosting_type': 'gbdt', 'colsample_bytree': 0.7, 'n_estimators': 36, 'num_leaves': 6, 'subsample': 0.7}, mean: -1.06048, std: 0.02103, params: {'boosting_type': 'gbdt', 'colsample_bytree': 0.7, 'n_estimators': 36, 'num_leaves': 6, 'subsample': 0.8}, mean: -1.06163, std: 0.01781, params: {'boosting_type': 'gbdt', 'colsample_bytree': 0.7, 'n_estimators': 36, 'num_leaves': 6, 'subsample': 0.9}, mean: -0.98574, std: 0.02357, params: {'boosting_type': 'gbdt', 'colsample_bytree': 0.7, 'n_estimators': 36, 'num_leaves': 12, 'subsample': 0.7}, mean: -0.97947, std: 0.02778, params: {'boosting_type': 'gbdt', 'colsample_bytree': 0.7, 'n_estimators': 36, 'num_leaves': 12, 'subsample': 0.8}, mean: -0.97531, std: 0.02466, params: {'boosting_type': 'gbdt', 'colsample_bytree': 0.7, 'n_estimators': 36, 'num_leaves': 12, 'subsample': 0.9}, mean: -0.96789, std: 0.02759, params: {'boosting_type': 'gbdt', 'colsample_bytree': 0.7, 'n_estimators': 36, 'num_leaves': 16, 'subsample': 0.7}, mean: -0.96012, std: 0.02629, params: {'boosting_type': 'gbdt', 'colsample_bytree': 0.7, 'n_estimators': 36, 'num_leaves': 16, 'subsample': 0.8}, mean: -0.96020, std: 0.02697, params: {'boosting_type': 'gbdt', 'colsample_bytree': 0.7, 'n_estimators': 36, 'num_leaves': 16, 'subsample': 0.9}, mean: -0.95795, std: 0.03331, params: {'boosting_type': 'gbdt', 'colsample_bytree': 0.7, 'n_estimators': 36, 'num_leaves': 22, 'subsample': 0.7}, mean: -0.95505, std: 0.02755, params: {'boosting_type': 'gbdt', 'colsample_bytree': 0.7, 'n_estimators': 36, 'num_leaves': 22, 'subsample': 0.8}, mean: -0.94881, std: 0.03093, params: {'boosting_type': 'gbdt', 'colsample_bytree': 0.7, 'n_estimators': 36, 'num_leaves': 22, 'subsample': 0.9}, mean: -1.00183, std: 0.02496, params: {'boosting_type': 'gbdt', 'colsample_bytree': 0.7, 'n_estimators': 48, 'num_leaves': 6, 'subsample': 0.7}, mean: -1.00134, std: 0.02401, params: {'boosting_type': 'gbdt', 'colsample_bytree': 0.7, 'n_estimators': 48, 'num_leaves': 6, 'subsample': 0.8}, mean: -1.00305, std: 0.01940, params: {'boosting_type': 'gbdt', 'colsample_bytree': 0.7, 'n_estimators': 48, 'num_leaves': 6, 'subsample': 0.9}, mean: -0.94506, std: 0.03011, params: {'boosting_type': 'gbdt', 'colsample_bytree': 0.7, 'n_estimators': 48, 'num_leaves': 12, 'subsample': 0.7}, mean: -0.93797, std: 0.03344, params: {'boosting_type': 'gbdt', 'colsample_bytree': 0.7, 'n_estimators': 48, 'num_leaves': 12, 'subsample': 0.8}, mean: -0.93423, std: 0.02896, params: {'boosting_type': 'gbdt', 'colsample_bytree': 0.7, 'n_estimators': 48, 'num_leaves': 12, 'subsample': 0.9}, mean: -0.93277, std: 0.03392, params: {'boosting_type': 'gbdt', 'colsample_bytree': 0.7, 'n_estimators': 48, 'num_leaves': 16, 'subsample': 0.7}, mean: -0.92670, std: 0.03422, params: {'boosting_type': 'gbdt', 'colsample_bytree': 0.7, 'n_estimators': 48, 'num_leaves': 16, 'subsample': 0.8}, mean: -0.92665, std: 0.03344, params: {'boosting_type': 'gbdt', 'colsample_bytree': 0.7, 'n_estimators': 48, 'num_leaves': 16, 'subsample': 0.9}, mean: -0.93079, std: 0.03876, params: {'boosting_type': 'gbdt', 'colsample_bytree': 0.7, 'n_estimators': 48, 'num_leaves': 22, 'subsample': 0.7}, mean: -0.93062, std: 0.03410, params: {'boosting_type': 'gbdt', 'colsample_bytree': 0.7, 'n_estimators': 48, 'num_leaves': 22, 'subsample': 0.8}, mean: -0.92605, std: 0.03513, params: {'boosting_type': 'gbdt', 'colsample_bytree': 0.7, 'n_estimators': 48, 'num_leaves': 22, 'subsample': 0.9}, mean: -1.54799, std: 0.01143, params: {'boosting_type': 'gbdt', 'colsample_bytree': 0.8, 'n_estimators': 8, 'num_leaves': 6, 'subsample': 0.7}, mean: -1.54285, std: 0.01233, params: {'boosting_type': 'gbdt', 'colsample_bytree': 0.8, 'n_estimators': 8, 'num_leaves': 6, 'subsample': 0.8}, mean: -1.54324, std: 0.00966, params: {'boosting_type': 'gbdt', 'colsample_bytree': 0.8, 'n_estimators': 8, 'num_leaves': 6, 'subsample': 0.9}, mean: -1.47136, std: 0.01271, params: {'boosting_type': 'gbdt', 'colsample_bytree': 0.8, 'n_estimators': 8, 'num_leaves': 12, 'subsample': 0.7}, mean: -1.46301, std: 0.01493, params: {'boosting_type': 'gbdt', 'colsample_bytree': 0.8, 'n_estimators': 8, 'num_leaves': 12, 'subsample': 0.8}, mean: -1.45795, std: 0.01303, params: {'boosting_type': 'gbdt', 'colsample_bytree': 0.8, 'n_estimators': 8, 'num_leaves': 12, 'subsample': 0.9}, mean: -1.44860, std: 0.01153, params: {'boosting_type': 'gbdt', 'colsample_bytree': 0.8, 'n_estimators': 8, 'num_leaves': 16, 'subsample': 0.7}, mean: -1.43791, std: 0.01577, params: {'boosting_type': 'gbdt', 'colsample_bytree': 0.8, 'n_estimators': 8, 'num_leaves': 16, 'subsample': 0.8}, mean: -1.43442, std: 0.01298, params: {'boosting_type': 'gbdt', 'colsample_bytree': 0.8, 'n_estimators': 8, 'num_leaves': 16, 'subsample': 0.9}, mean: -1.42915, std: 0.01052, params: {'boosting_type': 'gbdt', 'colsample_bytree': 0.8, 'n_estimators': 8, 'num_leaves': 22, 'subsample': 0.7}, mean: -1.41796, std: 0.01224, params: {'boosting_type': 'gbdt', 'colsample_bytree': 0.8, 'n_estimators': 8, 'num_leaves': 22, 'subsample': 0.8}, mean: -1.41218, std: 0.01595, params: {'boosting_type': 'gbdt', 'colsample_bytree': 0.8, 'n_estimators': 8, 'num_leaves': 22, 'subsample': 0.9}, mean: -1.17092, std: 0.01838, params: {'boosting_type': 'gbdt', 'colsample_bytree': 0.8, 'n_estimators': 24, 'num_leaves': 6, 'subsample': 0.7}, mean: -1.16427, std: 0.01536, params: {'boosting_type': 'gbdt', 'colsample_bytree': 0.8, 'n_estimators': 24, 'num_leaves': 6, 'subsample': 0.8}, mean: -1.16513, std: 0.01734, params: {'boosting_type': 'gbdt', 'colsample_bytree': 0.8, 'n_estimators': 24, 'num_leaves': 6, 'subsample': 0.9}, mean: -1.07513, std: 0.01619, params: {'boosting_type': 'gbdt', 'colsample_bytree': 0.8, 'n_estimators': 24, 'num_leaves': 12, 'subsample': 0.7}, mean: -1.06766, std: 0.02090, params: {'boosting_type': 'gbdt', 'colsample_bytree': 0.8, 'n_estimators': 24, 'num_leaves': 12, 'subsample': 0.8}, mean: -1.06747, std: 0.01866, params: {'boosting_type': 'gbdt', 'colsample_bytree': 0.8, 'n_estimators': 24, 'num_leaves': 12, 'subsample': 0.9}, mean: -1.05217, std: 0.02006, params: {'boosting_type': 'gbdt', 'colsample_bytree': 0.8, 'n_estimators': 24, 'num_leaves': 16, 'subsample': 0.7}, mean: -1.04181, std: 0.02534, params: {'boosting_type': 'gbdt', 'colsample_bytree': 0.8, 'n_estimators': 24, 'num_leaves': 16, 'subsample': 0.8}, mean: -1.04044, std: 0.02451, params: {'boosting_type': 'gbdt', 'colsample_bytree': 0.8, 'n_estimators': 24, 'num_leaves': 16, 'subsample': 0.9}, mean: -1.03609, std: 0.02469, params: {'boosting_type': 'gbdt', 'colsample_bytree': 0.8, 'n_estimators': 24, 'num_leaves': 22, 'subsample': 0.7}, mean: -1.02906, std: 0.02444, params: {'boosting_type': 'gbdt', 'colsample_bytree': 0.8, 'n_estimators': 24, 'num_leaves': 22, 'subsample': 0.8}, mean: -1.02403, std: 0.02601, params: {'boosting_type': 'gbdt', 'colsample_bytree': 0.8, 'n_estimators': 24, 'num_leaves': 22, 'subsample': 0.9}, mean: -1.06457, std: 0.01763, params: {'boosting_type': 'gbdt', 'colsample_bytree': 0.8, 'n_estimators': 36, 'num_leaves': 6, 'subsample': 0.7}, mean: -1.06103, std: 0.01564, params: {'boosting_type': 'gbdt', 'colsample_bytree': 0.8, 'n_estimators': 36, 'num_leaves': 6, 'subsample': 0.8}, mean: -1.05996, std: 0.01940, params: {'boosting_type': 'gbdt', 'colsample_bytree': 0.8, 'n_estimators': 36, 'num_leaves': 6, 'subsample': 0.9}, mean: -0.98250, std: 0.02086, params: {'boosting_type': 'gbdt', 'colsample_bytree': 0.8, 'n_estimators': 36, 'num_leaves': 12, 'subsample': 0.7}, mean: -0.97513, std: 0.02384, params: {'boosting_type': 'gbdt', 'colsample_bytree': 0.8, 'n_estimators': 36, 'num_leaves': 12, 'subsample': 0.8}, mean: -0.97467, std: 0.02162, params: {'boosting_type': 'gbdt', 'colsample_bytree': 0.8, 'n_estimators': 36, 'num_leaves': 12, 'subsample': 0.9}, mean: -0.96682, std: 0.02555, params: {'boosting_type': 'gbdt', 'colsample_bytree': 0.8, 'n_estimators': 36, 'num_leaves': 16, 'subsample': 0.7}, mean: -0.95850, std: 0.03081, params: {'boosting_type': 'gbdt', 'colsample_bytree': 0.8, 'n_estimators': 36, 'num_leaves': 16, 'subsample': 0.8}, mean: -0.95776, std: 0.02822, params: {'boosting_type': 'gbdt', 'colsample_bytree': 0.8, 'n_estimators': 36, 'num_leaves': 16, 'subsample': 0.9}, mean: -0.95845, std: 0.02861, params: {'boosting_type': 'gbdt', 'colsample_bytree': 0.8, 'n_estimators': 36, 'num_leaves': 22, 'subsample': 0.7}, mean: -0.95157, std: 0.03078, params: {'boosting_type': 'gbdt', 'colsample_bytree': 0.8, 'n_estimators': 36, 'num_leaves': 22, 'subsample': 0.8}, mean: -0.95102, std: 0.03373, params: {'boosting_type': 'gbdt', 'colsample_bytree': 0.8, 'n_estimators': 36, 'num_leaves': 22, 'subsample': 0.9}, mean: -1.00562, std: 0.01987, params: {'boosting_type': 'gbdt', 'colsample_bytree': 0.8, 'n_estimators': 48, 'num_leaves': 6, 'subsample': 0.7}, mean: -1.00222, std: 0.01765, params: {'boosting_type': 'gbdt', 'colsample_bytree': 0.8, 'n_estimators': 48, 'num_leaves': 6, 'subsample': 0.8}, mean: -1.00203, std: 0.02204, params: {'boosting_type': 'gbdt', 'colsample_bytree': 0.8, 'n_estimators': 48, 'num_leaves': 6, 'subsample': 0.9}, mean: -0.93872, std: 0.02702, params: {'boosting_type': 'gbdt', 'colsample_bytree': 0.8, 'n_estimators': 48, 'num_leaves': 12, 'subsample': 0.7}, mean: -0.93398, std: 0.02945, params: {'boosting_type': 'gbdt', 'colsample_bytree': 0.8, 'n_estimators': 48, 'num_leaves': 12, 'subsample': 0.8}, mean: -0.93612, std: 0.02753, params: {'boosting_type': 'gbdt', 'colsample_bytree': 0.8, 'n_estimators': 48, 'num_leaves': 12, 'subsample': 0.9}, mean: -0.93456, std: 0.03034, params: {'boosting_type': 'gbdt', 'colsample_bytree': 0.8, 'n_estimators': 48, 'num_leaves': 16, 'subsample': 0.7}, mean: -0.92733, std: 0.03632, params: {'boosting_type': 'gbdt', 'colsample_bytree': 0.8, 'n_estimators': 48, 'num_leaves': 16, 'subsample': 0.8}, mean: -0.92603, std: 0.03498, params: {'boosting_type': 'gbdt', 'colsample_bytree': 0.8, 'n_estimators': 48, 'num_leaves': 16, 'subsample': 0.9}, mean: -0.93096, std: 0.03450, params: {'boosting_type': 'gbdt', 'colsample_bytree': 0.8, 'n_estimators': 48, 'num_leaves': 22, 'subsample': 0.7}, mean: -0.92818, std: 0.03356, params: {'boosting_type': 'gbdt', 'colsample_bytree': 0.8, 'n_estimators': 48, 'num_leaves': 22, 'subsample': 0.8}, mean: -0.93183, std: 0.03800, params: {'boosting_type': 'gbdt', 'colsample_bytree': 0.8, 'n_estimators': 48, 'num_leaves': 22, 'subsample': 0.9}, mean: -1.54916, std: 0.01359, params: {'boosting_type': 'gbdt', 'colsample_bytree': 0.9, 'n_estimators': 8, 'num_leaves': 6, 'subsample': 0.7}, mean: -1.53902, std: 0.01342, params: {'boosting_type': 'gbdt', 'colsample_bytree': 0.9, 'n_estimators': 8, 'num_leaves': 6, 'subsample': 0.8}, mean: -1.54079, std: 0.01262, params: {'boosting_type': 'gbdt', 'colsample_bytree': 0.9, 'n_estimators': 8, 'num_leaves': 6, 'subsample': 0.9}, mean: -1.46750, std: 0.01499, params: {'boosting_type': 'gbdt', 'colsample_bytree': 0.9, 'n_estimators': 8, 'num_leaves': 12, 'subsample': 0.7}, mean: -1.46071, std: 0.01506, params: {'boosting_type': 'gbdt', 'colsample_bytree': 0.9, 'n_estimators': 8, 'num_leaves': 12, 'subsample': 0.8}, mean: -1.45706, std: 0.01252, params: {'boosting_type': 'gbdt', 'colsample_bytree': 0.9, 'n_estimators': 8, 'num_leaves': 12, 'subsample': 0.9}, mean: -1.44670, std: 0.01447, params: {'boosting_type': 'gbdt', 'colsample_bytree': 0.9, 'n_estimators': 8, 'num_leaves': 16, 'subsample': 0.7}, mean: -1.43552, std: 0.01465, params: {'boosting_type': 'gbdt', 'colsample_bytree': 0.9, 'n_estimators': 8, 'num_leaves': 16, 'subsample': 0.8}, mean: -1.42689, std: 0.01317, params: {'boosting_type': 'gbdt', 'colsample_bytree': 0.9, 'n_estimators': 8, 'num_leaves': 16, 'subsample': 0.9}, mean: -1.42785, std: 0.01511, params: {'boosting_type': 'gbdt', 'colsample_bytree': 0.9, 'n_estimators': 8, 'num_leaves': 22, 'subsample': 0.7}, mean: -1.41445, std: 0.01583, params: {'boosting_type': 'gbdt', 'colsample_bytree': 0.9, 'n_estimators': 8, 'num_leaves': 22, 'subsample': 0.8}, mean: -1.40886, std: 0.01385, params: {'boosting_type': 'gbdt', 'colsample_bytree': 0.9, 'n_estimators': 8, 'num_leaves': 22, 'subsample': 0.9}, mean: -1.16907, std: 0.02025, params: {'boosting_type': 'gbdt', 'colsample_bytree': 0.9, 'n_estimators': 24, 'num_leaves': 6, 'subsample': 0.7}, mean: -1.16211, std: 0.01889, params: {'boosting_type': 'gbdt', 'colsample_bytree': 0.9, 'n_estimators': 24, 'num_leaves': 6, 'subsample': 0.8}, mean: -1.16683, std: 0.01779, params: {'boosting_type': 'gbdt', 'colsample_bytree': 0.9, 'n_estimators': 24, 'num_leaves': 6, 'subsample': 0.9}, mean: -1.07490, std: 0.01922, params: {'boosting_type': 'gbdt', 'colsample_bytree': 0.9, 'n_estimators': 24, 'num_leaves': 12, 'subsample': 0.7}, mean: -1.06658, std: 0.02295, params: {'boosting_type': 'gbdt', 'colsample_bytree': 0.9, 'n_estimators': 24, 'num_leaves': 12, 'subsample': 0.8}, mean: -1.06498, std: 0.01908, params: {'boosting_type': 'gbdt', 'colsample_bytree': 0.9, 'n_estimators': 24, 'num_leaves': 12, 'subsample': 0.9}, mean: -1.05483, std: 0.02587, params: {'boosting_type': 'gbdt', 'colsample_bytree': 0.9, 'n_estimators': 24, 'num_leaves': 16, 'subsample': 0.7}, mean: -1.04389, std: 0.02192, params: {'boosting_type': 'gbdt', 'colsample_bytree': 0.9, 'n_estimators': 24, 'num_leaves': 16, 'subsample': 0.8}, mean: -1.03716, std: 0.02311, params: {'boosting_type': 'gbdt', 'colsample_bytree': 0.9, 'n_estimators': 24, 'num_leaves': 16, 'subsample': 0.9}, mean: -1.03763, std: 0.02318, params: {'boosting_type': 'gbdt', 'colsample_bytree': 0.9, 'n_estimators': 24, 'num_leaves': 22, 'subsample': 0.7}, mean: -1.02497, std: 0.02784, params: {'boosting_type': 'gbdt', 'colsample_bytree': 0.9, 'n_estimators': 24, 'num_leaves': 22, 'subsample': 0.8}, mean: -1.02540, std: 0.02810, params: {'boosting_type': 'gbdt', 'colsample_bytree': 0.9, 'n_estimators': 24, 'num_leaves': 22, 'subsample': 0.9}, mean: -1.06402, std: 0.02031, params: {'boosting_type': 'gbdt', 'colsample_bytree': 0.9, 'n_estimators': 36, 'num_leaves': 6, 'subsample': 0.7}, mean: -1.05952, std: 0.01762, params: {'boosting_type': 'gbdt', 'colsample_bytree': 0.9, 'n_estimators': 36, 'num_leaves': 6, 'subsample': 0.8}, mean: -1.06010, std: 0.01845, params: {'boosting_type': 'gbdt', 'colsample_bytree': 0.9, 'n_estimators': 36, 'num_leaves': 6, 'subsample': 0.9}, mean: -0.98151, std: 0.02353, params: {'boosting_type': 'gbdt', 'colsample_bytree': 0.9, 'n_estimators': 36, 'num_leaves': 12, 'subsample': 0.7}, mean: -0.97727, std: 0.02729, params: {'boosting_type': 'gbdt', 'colsample_bytree': 0.9, 'n_estimators': 36, 'num_leaves': 12, 'subsample': 0.8}, mean: -0.97305, std: 0.02259, params: {'boosting_type': 'gbdt', 'colsample_bytree': 0.9, 'n_estimators': 36, 'num_leaves': 12, 'subsample': 0.9}, mean: -0.96861, std: 0.02955, params: {'boosting_type': 'gbdt', 'colsample_bytree': 0.9, 'n_estimators': 36, 'num_leaves': 16, 'subsample': 0.7}, mean: -0.96134, std: 0.02601, params: {'boosting_type': 'gbdt', 'colsample_bytree': 0.9, 'n_estimators': 36, 'num_leaves': 16, 'subsample': 0.8}, mean: -0.95426, std: 0.02911, params: {'boosting_type': 'gbdt', 'colsample_bytree': 0.9, 'n_estimators': 36, 'num_leaves': 16, 'subsample': 0.9}, mean: -0.96099, std: 0.02836, params: {'boosting_type': 'gbdt', 'colsample_bytree': 0.9, 'n_estimators': 36, 'num_leaves': 22, 'subsample': 0.7}, mean: -0.95400, std: 0.03395, params: {'boosting_type': 'gbdt', 'colsample_bytree': 0.9, 'n_estimators': 36, 'num_leaves': 22, 'subsample': 0.8}, mean: -0.95186, std: 0.03456, params: {'boosting_type': 'gbdt', 'colsample_bytree': 0.9, 'n_estimators': 36, 'num_leaves': 22, 'subsample': 0.9}, mean: -1.00571, std: 0.02167, params: {'boosting_type': 'gbdt', 'colsample_bytree': 0.9, 'n_estimators': 48, 'num_leaves': 6, 'subsample': 0.7}, mean: -1.00098, std: 0.01933, params: {'boosting_type': 'gbdt', 'colsample_bytree': 0.9, 'n_estimators': 48, 'num_leaves': 6, 'subsample': 0.8}, mean: -1.00339, std: 0.02082, params: {'boosting_type': 'gbdt', 'colsample_bytree': 0.9, 'n_estimators': 48, 'num_leaves': 6, 'subsample': 0.9}, mean: -0.94424, std: 0.03034, params: {'boosting_type': 'gbdt', 'colsample_bytree': 0.9, 'n_estimators': 48, 'num_leaves': 12, 'subsample': 0.7}, mean: -0.93602, std: 0.03066, params: {'boosting_type': 'gbdt', 'colsample_bytree': 0.9, 'n_estimators': 48, 'num_leaves': 12, 'subsample': 0.8}, mean: -0.93410, std: 0.02731, params: {'boosting_type': 'gbdt', 'colsample_bytree': 0.9, 'n_estimators': 48, 'num_leaves': 12, 'subsample': 0.9}, mean: -0.93615, std: 0.03643, params: {'boosting_type': 'gbdt', 'colsample_bytree': 0.9, 'n_estimators': 48, 'num_leaves': 16, 'subsample': 0.7}, mean: -0.92917, std: 0.03136, params: {'boosting_type': 'gbdt', 'colsample_bytree': 0.9, 'n_estimators': 48, 'num_leaves': 16, 'subsample': 0.8}, mean: -0.92320, std: 0.03726, params: {'boosting_type': 'gbdt', 'colsample_bytree': 0.9, 'n_estimators': 48, 'num_leaves': 16, 'subsample': 0.9}, mean: -0.93715, std: 0.03634, params: {'boosting_type': 'gbdt', 'colsample_bytree': 0.9, 'n_estimators': 48, 'num_leaves': 22, 'subsample': 0.7}, mean: -0.93286, std: 0.03907, params: {'boosting_type': 'gbdt', 'colsample_bytree': 0.9, 'n_estimators': 48, 'num_leaves': 22, 'subsample': 0.8}, mean: -0.93109, std: 0.04156, params: {'boosting_type': 'gbdt', 'colsample_bytree': 0.9, 'n_estimators': 48, 'num_leaves': 22, 'subsample': 0.9}]\n",
      "{'boosting_type': 'gbdt', 'colsample_bytree': 0.9, 'n_estimators': 48, 'num_leaves': 16, 'subsample': 0.9}\n",
      "-0.923197719885\n",
      "Fitting 5 folds for each of 144 candidates, totalling 720 fits\n"
     ]
    },
    {
     "name": "stderr",
     "output_type": "stream",
     "text": [
      "C:\\Users\\Franck\\Documents\\Continuum\\Anaconda3\\lib\\site-packages\\sklearn\\model_selection\\_search.py:667: DeprecationWarning: The grid_scores_ attribute was deprecated in version 0.18 in favor of the more elaborate cv_results_ attribute. The grid_scores_ attribute will not be available from 0.20\n",
      "  DeprecationWarning)\n",
      "[Parallel(n_jobs=-1)]: Done  42 tasks      | elapsed:   14.6s\n",
      "[Parallel(n_jobs=-1)]: Done 192 tasks      | elapsed:  2.3min\n",
      "[Parallel(n_jobs=-1)]: Done 442 tasks      | elapsed:  6.3min\n",
      "[Parallel(n_jobs=-1)]: Done 720 out of 720 | elapsed: 11.8min finished\n"
     ]
    },
    {
     "name": "stdout",
     "output_type": "stream",
     "text": [
      "wind_tfidf_100\n",
      "[mean: -1.57294, std: 0.01220, params: {'boosting_type': 'gbdt', 'colsample_bytree': 0.7, 'n_estimators': 8, 'num_leaves': 6, 'subsample': 0.7}, mean: -1.57451, std: 0.01339, params: {'boosting_type': 'gbdt', 'colsample_bytree': 0.7, 'n_estimators': 8, 'num_leaves': 6, 'subsample': 0.8}, mean: -1.57029, std: 0.01107, params: {'boosting_type': 'gbdt', 'colsample_bytree': 0.7, 'n_estimators': 8, 'num_leaves': 6, 'subsample': 0.9}, mean: -1.50799, std: 0.01627, params: {'boosting_type': 'gbdt', 'colsample_bytree': 0.7, 'n_estimators': 8, 'num_leaves': 12, 'subsample': 0.7}, mean: -1.49878, std: 0.01334, params: {'boosting_type': 'gbdt', 'colsample_bytree': 0.7, 'n_estimators': 8, 'num_leaves': 12, 'subsample': 0.8}, mean: -1.49331, std: 0.01404, params: {'boosting_type': 'gbdt', 'colsample_bytree': 0.7, 'n_estimators': 8, 'num_leaves': 12, 'subsample': 0.9}, mean: -1.48350, std: 0.01210, params: {'boosting_type': 'gbdt', 'colsample_bytree': 0.7, 'n_estimators': 8, 'num_leaves': 16, 'subsample': 0.7}, mean: -1.47594, std: 0.01516, params: {'boosting_type': 'gbdt', 'colsample_bytree': 0.7, 'n_estimators': 8, 'num_leaves': 16, 'subsample': 0.8}, mean: -1.46821, std: 0.01330, params: {'boosting_type': 'gbdt', 'colsample_bytree': 0.7, 'n_estimators': 8, 'num_leaves': 16, 'subsample': 0.9}, mean: -1.47080, std: 0.01296, params: {'boosting_type': 'gbdt', 'colsample_bytree': 0.7, 'n_estimators': 8, 'num_leaves': 22, 'subsample': 0.7}, mean: -1.45883, std: 0.00966, params: {'boosting_type': 'gbdt', 'colsample_bytree': 0.7, 'n_estimators': 8, 'num_leaves': 22, 'subsample': 0.8}, mean: -1.45068, std: 0.01521, params: {'boosting_type': 'gbdt', 'colsample_bytree': 0.7, 'n_estimators': 8, 'num_leaves': 22, 'subsample': 0.9}, mean: -1.20806, std: 0.01641, params: {'boosting_type': 'gbdt', 'colsample_bytree': 0.7, 'n_estimators': 24, 'num_leaves': 6, 'subsample': 0.7}, mean: -1.20621, std: 0.02093, params: {'boosting_type': 'gbdt', 'colsample_bytree': 0.7, 'n_estimators': 24, 'num_leaves': 6, 'subsample': 0.8}, mean: -1.20389, std: 0.01854, params: {'boosting_type': 'gbdt', 'colsample_bytree': 0.7, 'n_estimators': 24, 'num_leaves': 6, 'subsample': 0.9}, mean: -1.12011, std: 0.02033, params: {'boosting_type': 'gbdt', 'colsample_bytree': 0.7, 'n_estimators': 24, 'num_leaves': 12, 'subsample': 0.7}, mean: -1.11284, std: 0.02026, params: {'boosting_type': 'gbdt', 'colsample_bytree': 0.7, 'n_estimators': 24, 'num_leaves': 12, 'subsample': 0.8}, mean: -1.10694, std: 0.01991, params: {'boosting_type': 'gbdt', 'colsample_bytree': 0.7, 'n_estimators': 24, 'num_leaves': 12, 'subsample': 0.9}, mean: -1.09314, std: 0.02055, params: {'boosting_type': 'gbdt', 'colsample_bytree': 0.7, 'n_estimators': 24, 'num_leaves': 16, 'subsample': 0.7}, mean: -1.08636, std: 0.01626, params: {'boosting_type': 'gbdt', 'colsample_bytree': 0.7, 'n_estimators': 24, 'num_leaves': 16, 'subsample': 0.8}, mean: -1.07955, std: 0.01939, params: {'boosting_type': 'gbdt', 'colsample_bytree': 0.7, 'n_estimators': 24, 'num_leaves': 16, 'subsample': 0.9}, mean: -1.08225, std: 0.01388, params: {'boosting_type': 'gbdt', 'colsample_bytree': 0.7, 'n_estimators': 24, 'num_leaves': 22, 'subsample': 0.7}, mean: -1.06872, std: 0.01577, params: {'boosting_type': 'gbdt', 'colsample_bytree': 0.7, 'n_estimators': 24, 'num_leaves': 22, 'subsample': 0.8}, mean: -1.05735, std: 0.02416, params: {'boosting_type': 'gbdt', 'colsample_bytree': 0.7, 'n_estimators': 24, 'num_leaves': 22, 'subsample': 0.9}, mean: -1.10411, std: 0.01796, params: {'boosting_type': 'gbdt', 'colsample_bytree': 0.7, 'n_estimators': 36, 'num_leaves': 6, 'subsample': 0.7}, mean: -1.10141, std: 0.02333, params: {'boosting_type': 'gbdt', 'colsample_bytree': 0.7, 'n_estimators': 36, 'num_leaves': 6, 'subsample': 0.8}, mean: -1.10137, std: 0.02214, params: {'boosting_type': 'gbdt', 'colsample_bytree': 0.7, 'n_estimators': 36, 'num_leaves': 6, 'subsample': 0.9}, mean: -1.02000, std: 0.02302, params: {'boosting_type': 'gbdt', 'colsample_bytree': 0.7, 'n_estimators': 36, 'num_leaves': 12, 'subsample': 0.7}, mean: -1.01442, std: 0.02342, params: {'boosting_type': 'gbdt', 'colsample_bytree': 0.7, 'n_estimators': 36, 'num_leaves': 12, 'subsample': 0.8}, mean: -1.01107, std: 0.02558, params: {'boosting_type': 'gbdt', 'colsample_bytree': 0.7, 'n_estimators': 36, 'num_leaves': 12, 'subsample': 0.9}, mean: -0.99842, std: 0.02651, params: {'boosting_type': 'gbdt', 'colsample_bytree': 0.7, 'n_estimators': 36, 'num_leaves': 16, 'subsample': 0.7}, mean: -0.99168, std: 0.02144, params: {'boosting_type': 'gbdt', 'colsample_bytree': 0.7, 'n_estimators': 36, 'num_leaves': 16, 'subsample': 0.8}, mean: -0.98698, std: 0.02423, params: {'boosting_type': 'gbdt', 'colsample_bytree': 0.7, 'n_estimators': 36, 'num_leaves': 16, 'subsample': 0.9}, mean: -0.99056, std: 0.01738, params: {'boosting_type': 'gbdt', 'colsample_bytree': 0.7, 'n_estimators': 36, 'num_leaves': 22, 'subsample': 0.7}, mean: -0.98273, std: 0.01964, params: {'boosting_type': 'gbdt', 'colsample_bytree': 0.7, 'n_estimators': 36, 'num_leaves': 22, 'subsample': 0.8}, mean: -0.97188, std: 0.02879, params: {'boosting_type': 'gbdt', 'colsample_bytree': 0.7, 'n_estimators': 36, 'num_leaves': 22, 'subsample': 0.9}, mean: -1.04803, std: 0.01995, params: {'boosting_type': 'gbdt', 'colsample_bytree': 0.7, 'n_estimators': 48, 'num_leaves': 6, 'subsample': 0.7}, mean: -1.04307, std: 0.02617, params: {'boosting_type': 'gbdt', 'colsample_bytree': 0.7, 'n_estimators': 48, 'num_leaves': 6, 'subsample': 0.8}, mean: -1.04401, std: 0.02305, params: {'boosting_type': 'gbdt', 'colsample_bytree': 0.7, 'n_estimators': 48, 'num_leaves': 6, 'subsample': 0.9}, mean: -0.97247, std: 0.02567, params: {'boosting_type': 'gbdt', 'colsample_bytree': 0.7, 'n_estimators': 48, 'num_leaves': 12, 'subsample': 0.7}, mean: -0.96833, std: 0.02471, params: {'boosting_type': 'gbdt', 'colsample_bytree': 0.7, 'n_estimators': 48, 'num_leaves': 12, 'subsample': 0.8}, mean: -0.96732, std: 0.03288, params: {'boosting_type': 'gbdt', 'colsample_bytree': 0.7, 'n_estimators': 48, 'num_leaves': 12, 'subsample': 0.9}, mean: -0.95560, std: 0.03154, params: {'boosting_type': 'gbdt', 'colsample_bytree': 0.7, 'n_estimators': 48, 'num_leaves': 16, 'subsample': 0.7}, mean: -0.95086, std: 0.02282, params: {'boosting_type': 'gbdt', 'colsample_bytree': 0.7, 'n_estimators': 48, 'num_leaves': 16, 'subsample': 0.8}, mean: -0.94566, std: 0.02796, params: {'boosting_type': 'gbdt', 'colsample_bytree': 0.7, 'n_estimators': 48, 'num_leaves': 16, 'subsample': 0.9}, mean: -0.95475, std: 0.02289, params: {'boosting_type': 'gbdt', 'colsample_bytree': 0.7, 'n_estimators': 48, 'num_leaves': 22, 'subsample': 0.7}, mean: -0.95029, std: 0.02484, params: {'boosting_type': 'gbdt', 'colsample_bytree': 0.7, 'n_estimators': 48, 'num_leaves': 22, 'subsample': 0.8}, mean: -0.93900, std: 0.03229, params: {'boosting_type': 'gbdt', 'colsample_bytree': 0.7, 'n_estimators': 48, 'num_leaves': 22, 'subsample': 0.9}, mean: -1.57227, std: 0.01223, params: {'boosting_type': 'gbdt', 'colsample_bytree': 0.8, 'n_estimators': 8, 'num_leaves': 6, 'subsample': 0.7}, mean: -1.57351, std: 0.01769, params: {'boosting_type': 'gbdt', 'colsample_bytree': 0.8, 'n_estimators': 8, 'num_leaves': 6, 'subsample': 0.8}, mean: -1.56942, std: 0.01394, params: {'boosting_type': 'gbdt', 'colsample_bytree': 0.8, 'n_estimators': 8, 'num_leaves': 6, 'subsample': 0.9}, mean: -1.50559, std: 0.01392, params: {'boosting_type': 'gbdt', 'colsample_bytree': 0.8, 'n_estimators': 8, 'num_leaves': 12, 'subsample': 0.7}, mean: -1.49931, std: 0.01469, params: {'boosting_type': 'gbdt', 'colsample_bytree': 0.8, 'n_estimators': 8, 'num_leaves': 12, 'subsample': 0.8}, mean: -1.49202, std: 0.01444, params: {'boosting_type': 'gbdt', 'colsample_bytree': 0.8, 'n_estimators': 8, 'num_leaves': 12, 'subsample': 0.9}, mean: -1.48432, std: 0.01390, params: {'boosting_type': 'gbdt', 'colsample_bytree': 0.8, 'n_estimators': 8, 'num_leaves': 16, 'subsample': 0.7}, mean: -1.47240, std: 0.01275, params: {'boosting_type': 'gbdt', 'colsample_bytree': 0.8, 'n_estimators': 8, 'num_leaves': 16, 'subsample': 0.8}, mean: -1.46693, std: 0.01459, params: {'boosting_type': 'gbdt', 'colsample_bytree': 0.8, 'n_estimators': 8, 'num_leaves': 16, 'subsample': 0.9}, mean: -1.46312, std: 0.01556, params: {'boosting_type': 'gbdt', 'colsample_bytree': 0.8, 'n_estimators': 8, 'num_leaves': 22, 'subsample': 0.7}, mean: -1.45392, std: 0.01342, params: {'boosting_type': 'gbdt', 'colsample_bytree': 0.8, 'n_estimators': 8, 'num_leaves': 22, 'subsample': 0.8}, mean: -1.44874, std: 0.01562, params: {'boosting_type': 'gbdt', 'colsample_bytree': 0.8, 'n_estimators': 8, 'num_leaves': 22, 'subsample': 0.9}, mean: -1.20594, std: 0.01851, params: {'boosting_type': 'gbdt', 'colsample_bytree': 0.8, 'n_estimators': 24, 'num_leaves': 6, 'subsample': 0.7}, mean: -1.20484, std: 0.02173, params: {'boosting_type': 'gbdt', 'colsample_bytree': 0.8, 'n_estimators': 24, 'num_leaves': 6, 'subsample': 0.8}, mean: -1.20564, std: 0.02241, params: {'boosting_type': 'gbdt', 'colsample_bytree': 0.8, 'n_estimators': 24, 'num_leaves': 6, 'subsample': 0.9}, mean: -1.11943, std: 0.01622, params: {'boosting_type': 'gbdt', 'colsample_bytree': 0.8, 'n_estimators': 24, 'num_leaves': 12, 'subsample': 0.7}, mean: -1.11560, std: 0.02345, params: {'boosting_type': 'gbdt', 'colsample_bytree': 0.8, 'n_estimators': 24, 'num_leaves': 12, 'subsample': 0.8}, mean: -1.10819, std: 0.02489, params: {'boosting_type': 'gbdt', 'colsample_bytree': 0.8, 'n_estimators': 24, 'num_leaves': 12, 'subsample': 0.9}, mean: -1.09274, std: 0.02006, params: {'boosting_type': 'gbdt', 'colsample_bytree': 0.8, 'n_estimators': 24, 'num_leaves': 16, 'subsample': 0.7}, mean: -1.08805, std: 0.02013, params: {'boosting_type': 'gbdt', 'colsample_bytree': 0.8, 'n_estimators': 24, 'num_leaves': 16, 'subsample': 0.8}, mean: -1.07912, std: 0.02332, params: {'boosting_type': 'gbdt', 'colsample_bytree': 0.8, 'n_estimators': 24, 'num_leaves': 16, 'subsample': 0.9}, mean: -1.07501, std: 0.02296, params: {'boosting_type': 'gbdt', 'colsample_bytree': 0.8, 'n_estimators': 24, 'num_leaves': 22, 'subsample': 0.7}, mean: -1.06582, std: 0.02023, params: {'boosting_type': 'gbdt', 'colsample_bytree': 0.8, 'n_estimators': 24, 'num_leaves': 22, 'subsample': 0.8}, mean: -1.05963, std: 0.02216, params: {'boosting_type': 'gbdt', 'colsample_bytree': 0.8, 'n_estimators': 24, 'num_leaves': 22, 'subsample': 0.9}, mean: -1.10405, std: 0.02131, params: {'boosting_type': 'gbdt', 'colsample_bytree': 0.8, 'n_estimators': 36, 'num_leaves': 6, 'subsample': 0.7}, mean: -1.10144, std: 0.02300, params: {'boosting_type': 'gbdt', 'colsample_bytree': 0.8, 'n_estimators': 36, 'num_leaves': 6, 'subsample': 0.8}, mean: -1.10238, std: 0.02446, params: {'boosting_type': 'gbdt', 'colsample_bytree': 0.8, 'n_estimators': 36, 'num_leaves': 6, 'subsample': 0.9}, mean: -1.02121, std: 0.02311, params: {'boosting_type': 'gbdt', 'colsample_bytree': 0.8, 'n_estimators': 36, 'num_leaves': 12, 'subsample': 0.7}, mean: -1.01828, std: 0.02566, params: {'boosting_type': 'gbdt', 'colsample_bytree': 0.8, 'n_estimators': 36, 'num_leaves': 12, 'subsample': 0.8}, mean: -1.01296, std: 0.03089, params: {'boosting_type': 'gbdt', 'colsample_bytree': 0.8, 'n_estimators': 36, 'num_leaves': 12, 'subsample': 0.9}, mean: -0.99977, std: 0.02753, params: {'boosting_type': 'gbdt', 'colsample_bytree': 0.8, 'n_estimators': 36, 'num_leaves': 16, 'subsample': 0.7}, mean: -0.99330, std: 0.02454, params: {'boosting_type': 'gbdt', 'colsample_bytree': 0.8, 'n_estimators': 36, 'num_leaves': 16, 'subsample': 0.8}, mean: -0.98854, std: 0.02820, params: {'boosting_type': 'gbdt', 'colsample_bytree': 0.8, 'n_estimators': 36, 'num_leaves': 16, 'subsample': 0.9}, mean: -0.99009, std: 0.02649, params: {'boosting_type': 'gbdt', 'colsample_bytree': 0.8, 'n_estimators': 36, 'num_leaves': 22, 'subsample': 0.7}, mean: -0.98011, std: 0.02451, params: {'boosting_type': 'gbdt', 'colsample_bytree': 0.8, 'n_estimators': 36, 'num_leaves': 22, 'subsample': 0.8}, mean: -0.97780, std: 0.02595, params: {'boosting_type': 'gbdt', 'colsample_bytree': 0.8, 'n_estimators': 36, 'num_leaves': 22, 'subsample': 0.9}, mean: -1.04795, std: 0.02380, params: {'boosting_type': 'gbdt', 'colsample_bytree': 0.8, 'n_estimators': 48, 'num_leaves': 6, 'subsample': 0.7}, mean: -1.04461, std: 0.02482, params: {'boosting_type': 'gbdt', 'colsample_bytree': 0.8, 'n_estimators': 48, 'num_leaves': 6, 'subsample': 0.8}, mean: -1.04567, std: 0.02740, params: {'boosting_type': 'gbdt', 'colsample_bytree': 0.8, 'n_estimators': 48, 'num_leaves': 6, 'subsample': 0.9}, mean: -0.97306, std: 0.02781, params: {'boosting_type': 'gbdt', 'colsample_bytree': 0.8, 'n_estimators': 48, 'num_leaves': 12, 'subsample': 0.7}, mean: -0.96866, std: 0.02859, params: {'boosting_type': 'gbdt', 'colsample_bytree': 0.8, 'n_estimators': 48, 'num_leaves': 12, 'subsample': 0.8}, mean: -0.96783, std: 0.03430, params: {'boosting_type': 'gbdt', 'colsample_bytree': 0.8, 'n_estimators': 48, 'num_leaves': 12, 'subsample': 0.9}, mean: -0.95833, std: 0.03086, params: {'boosting_type': 'gbdt', 'colsample_bytree': 0.8, 'n_estimators': 48, 'num_leaves': 16, 'subsample': 0.7}, mean: -0.95289, std: 0.02830, params: {'boosting_type': 'gbdt', 'colsample_bytree': 0.8, 'n_estimators': 48, 'num_leaves': 16, 'subsample': 0.8}, mean: -0.94752, std: 0.03618, params: {'boosting_type': 'gbdt', 'colsample_bytree': 0.8, 'n_estimators': 48, 'num_leaves': 16, 'subsample': 0.9}, mean: -0.95712, std: 0.02895, params: {'boosting_type': 'gbdt', 'colsample_bytree': 0.8, 'n_estimators': 48, 'num_leaves': 22, 'subsample': 0.7}, mean: -0.94802, std: 0.02852, params: {'boosting_type': 'gbdt', 'colsample_bytree': 0.8, 'n_estimators': 48, 'num_leaves': 22, 'subsample': 0.8}, mean: -0.94595, std: 0.03209, params: {'boosting_type': 'gbdt', 'colsample_bytree': 0.8, 'n_estimators': 48, 'num_leaves': 22, 'subsample': 0.9}, mean: -1.57084, std: 0.01355, params: {'boosting_type': 'gbdt', 'colsample_bytree': 0.9, 'n_estimators': 8, 'num_leaves': 6, 'subsample': 0.7}, mean: -1.57269, std: 0.01688, params: {'boosting_type': 'gbdt', 'colsample_bytree': 0.9, 'n_estimators': 8, 'num_leaves': 6, 'subsample': 0.8}, mean: -1.56642, std: 0.01570, params: {'boosting_type': 'gbdt', 'colsample_bytree': 0.9, 'n_estimators': 8, 'num_leaves': 6, 'subsample': 0.9}, mean: -1.49792, std: 0.01629, params: {'boosting_type': 'gbdt', 'colsample_bytree': 0.9, 'n_estimators': 8, 'num_leaves': 12, 'subsample': 0.7}, mean: -1.49392, std: 0.01605, params: {'boosting_type': 'gbdt', 'colsample_bytree': 0.9, 'n_estimators': 8, 'num_leaves': 12, 'subsample': 0.8}, mean: -1.49316, std: 0.01691, params: {'boosting_type': 'gbdt', 'colsample_bytree': 0.9, 'n_estimators': 8, 'num_leaves': 12, 'subsample': 0.9}, mean: -1.47595, std: 0.01177, params: {'boosting_type': 'gbdt', 'colsample_bytree': 0.9, 'n_estimators': 8, 'num_leaves': 16, 'subsample': 0.7}, mean: -1.47287, std: 0.01337, params: {'boosting_type': 'gbdt', 'colsample_bytree': 0.9, 'n_estimators': 8, 'num_leaves': 16, 'subsample': 0.8}, mean: -1.46634, std: 0.01560, params: {'boosting_type': 'gbdt', 'colsample_bytree': 0.9, 'n_estimators': 8, 'num_leaves': 16, 'subsample': 0.9}, mean: -1.46020, std: 0.01399, params: {'boosting_type': 'gbdt', 'colsample_bytree': 0.9, 'n_estimators': 8, 'num_leaves': 22, 'subsample': 0.7}, mean: -1.45699, std: 0.01660, params: {'boosting_type': 'gbdt', 'colsample_bytree': 0.9, 'n_estimators': 8, 'num_leaves': 22, 'subsample': 0.8}, mean: -1.44702, std: 0.01774, params: {'boosting_type': 'gbdt', 'colsample_bytree': 0.9, 'n_estimators': 8, 'num_leaves': 22, 'subsample': 0.9}, mean: -1.20586, std: 0.01827, params: {'boosting_type': 'gbdt', 'colsample_bytree': 0.9, 'n_estimators': 24, 'num_leaves': 6, 'subsample': 0.7}, mean: -1.20638, std: 0.02675, params: {'boosting_type': 'gbdt', 'colsample_bytree': 0.9, 'n_estimators': 24, 'num_leaves': 6, 'subsample': 0.8}, mean: -1.20209, std: 0.02234, params: {'boosting_type': 'gbdt', 'colsample_bytree': 0.9, 'n_estimators': 24, 'num_leaves': 6, 'subsample': 0.9}, mean: -1.11517, std: 0.02100, params: {'boosting_type': 'gbdt', 'colsample_bytree': 0.9, 'n_estimators': 24, 'num_leaves': 12, 'subsample': 0.7}, mean: -1.11133, std: 0.02122, params: {'boosting_type': 'gbdt', 'colsample_bytree': 0.9, 'n_estimators': 24, 'num_leaves': 12, 'subsample': 0.8}, mean: -1.10799, std: 0.02209, params: {'boosting_type': 'gbdt', 'colsample_bytree': 0.9, 'n_estimators': 24, 'num_leaves': 12, 'subsample': 0.9}, mean: -1.08947, std: 0.01833, params: {'boosting_type': 'gbdt', 'colsample_bytree': 0.9, 'n_estimators': 24, 'num_leaves': 16, 'subsample': 0.7}, mean: -1.09063, std: 0.02151, params: {'boosting_type': 'gbdt', 'colsample_bytree': 0.9, 'n_estimators': 24, 'num_leaves': 16, 'subsample': 0.8}, mean: -1.07837, std: 0.01898, params: {'boosting_type': 'gbdt', 'colsample_bytree': 0.9, 'n_estimators': 24, 'num_leaves': 16, 'subsample': 0.9}, mean: -1.07125, std: 0.02500, params: {'boosting_type': 'gbdt', 'colsample_bytree': 0.9, 'n_estimators': 24, 'num_leaves': 22, 'subsample': 0.7}, mean: -1.07323, std: 0.02107, params: {'boosting_type': 'gbdt', 'colsample_bytree': 0.9, 'n_estimators': 24, 'num_leaves': 22, 'subsample': 0.8}, mean: -1.05947, std: 0.02665, params: {'boosting_type': 'gbdt', 'colsample_bytree': 0.9, 'n_estimators': 24, 'num_leaves': 22, 'subsample': 0.9}, mean: -1.10294, std: 0.02252, params: {'boosting_type': 'gbdt', 'colsample_bytree': 0.9, 'n_estimators': 36, 'num_leaves': 6, 'subsample': 0.7}, mean: -1.10089, std: 0.02784, params: {'boosting_type': 'gbdt', 'colsample_bytree': 0.9, 'n_estimators': 36, 'num_leaves': 6, 'subsample': 0.8}, mean: -1.10056, std: 0.02542, params: {'boosting_type': 'gbdt', 'colsample_bytree': 0.9, 'n_estimators': 36, 'num_leaves': 6, 'subsample': 0.9}, mean: -1.02020, std: 0.02842, params: {'boosting_type': 'gbdt', 'colsample_bytree': 0.9, 'n_estimators': 36, 'num_leaves': 12, 'subsample': 0.7}, mean: -1.01401, std: 0.02518, params: {'boosting_type': 'gbdt', 'colsample_bytree': 0.9, 'n_estimators': 36, 'num_leaves': 12, 'subsample': 0.8}, mean: -1.01517, std: 0.02676, params: {'boosting_type': 'gbdt', 'colsample_bytree': 0.9, 'n_estimators': 36, 'num_leaves': 12, 'subsample': 0.9}, mean: -0.99773, std: 0.02609, params: {'boosting_type': 'gbdt', 'colsample_bytree': 0.9, 'n_estimators': 36, 'num_leaves': 16, 'subsample': 0.7}, mean: -0.99903, std: 0.02321, params: {'boosting_type': 'gbdt', 'colsample_bytree': 0.9, 'n_estimators': 36, 'num_leaves': 16, 'subsample': 0.8}, mean: -0.98872, std: 0.02536, params: {'boosting_type': 'gbdt', 'colsample_bytree': 0.9, 'n_estimators': 36, 'num_leaves': 16, 'subsample': 0.9}, mean: -0.98487, std: 0.02697, params: {'boosting_type': 'gbdt', 'colsample_bytree': 0.9, 'n_estimators': 36, 'num_leaves': 22, 'subsample': 0.7}, mean: -0.98719, std: 0.02708, params: {'boosting_type': 'gbdt', 'colsample_bytree': 0.9, 'n_estimators': 36, 'num_leaves': 22, 'subsample': 0.8}, mean: -0.97781, std: 0.02976, params: {'boosting_type': 'gbdt', 'colsample_bytree': 0.9, 'n_estimators': 36, 'num_leaves': 22, 'subsample': 0.9}, mean: -1.04717, std: 0.02368, params: {'boosting_type': 'gbdt', 'colsample_bytree': 0.9, 'n_estimators': 48, 'num_leaves': 6, 'subsample': 0.7}, mean: -1.04296, std: 0.02755, params: {'boosting_type': 'gbdt', 'colsample_bytree': 0.9, 'n_estimators': 48, 'num_leaves': 6, 'subsample': 0.8}, mean: -1.04158, std: 0.02753, params: {'boosting_type': 'gbdt', 'colsample_bytree': 0.9, 'n_estimators': 48, 'num_leaves': 6, 'subsample': 0.9}, mean: -0.97444, std: 0.02989, params: {'boosting_type': 'gbdt', 'colsample_bytree': 0.9, 'n_estimators': 48, 'num_leaves': 12, 'subsample': 0.7}, mean: -0.96847, std: 0.02820, params: {'boosting_type': 'gbdt', 'colsample_bytree': 0.9, 'n_estimators': 48, 'num_leaves': 12, 'subsample': 0.8}, mean: -0.96935, std: 0.03076, params: {'boosting_type': 'gbdt', 'colsample_bytree': 0.9, 'n_estimators': 48, 'num_leaves': 12, 'subsample': 0.9}, mean: -0.95759, std: 0.02924, params: {'boosting_type': 'gbdt', 'colsample_bytree': 0.9, 'n_estimators': 48, 'num_leaves': 16, 'subsample': 0.7}, mean: -0.95762, std: 0.02891, params: {'boosting_type': 'gbdt', 'colsample_bytree': 0.9, 'n_estimators': 48, 'num_leaves': 16, 'subsample': 0.8}, mean: -0.95047, std: 0.03009, params: {'boosting_type': 'gbdt', 'colsample_bytree': 0.9, 'n_estimators': 48, 'num_leaves': 16, 'subsample': 0.9}, mean: -0.95168, std: 0.03255, params: {'boosting_type': 'gbdt', 'colsample_bytree': 0.9, 'n_estimators': 48, 'num_leaves': 22, 'subsample': 0.7}, mean: -0.95325, std: 0.03042, params: {'boosting_type': 'gbdt', 'colsample_bytree': 0.9, 'n_estimators': 48, 'num_leaves': 22, 'subsample': 0.8}, mean: -0.94662, std: 0.03358, params: {'boosting_type': 'gbdt', 'colsample_bytree': 0.9, 'n_estimators': 48, 'num_leaves': 22, 'subsample': 0.9}]\n",
      "{'boosting_type': 'gbdt', 'colsample_bytree': 0.7, 'n_estimators': 48, 'num_leaves': 22, 'subsample': 0.9}\n",
      "-0.938995537783\n",
      "Fitting 5 folds for each of 144 candidates, totalling 720 fits\n"
     ]
    },
    {
     "name": "stderr",
     "output_type": "stream",
     "text": [
      "C:\\Users\\Franck\\Documents\\Continuum\\Anaconda3\\lib\\site-packages\\sklearn\\model_selection\\_search.py:667: DeprecationWarning: The grid_scores_ attribute was deprecated in version 0.18 in favor of the more elaborate cv_results_ attribute. The grid_scores_ attribute will not be available from 0.20\n",
      "  DeprecationWarning)\n",
      "[Parallel(n_jobs=-1)]: Done  42 tasks      | elapsed:   28.6s\n",
      "[Parallel(n_jobs=-1)]: Done 192 tasks      | elapsed:  5.8min\n",
      "[Parallel(n_jobs=-1)]: Done 442 tasks      | elapsed: 16.4min\n"
     ]
    }
   ],
   "source": [
    "clf_lgbm=LGBMClassifier(seed=26)\n",
    "param_test= {\n",
    "    'n_estimators': [8,24,36,48],\n",
    "    'num_leaves': [6,12,16,22],\n",
    "    'boosting_type' : ['gbdt'],\n",
    "    'colsample_bytree' : [0.7,0.8,0.9],\n",
    "    'subsample' : [0.7,0.8,0.9]\n",
    "    }\n",
    "for name in work_train_final:\n",
    "    gsearch=GridSearchCV(estimator=clf_lgbm, param_grid = param_test,scoring=\"neg_log_loss\",n_jobs=-1,iid=False, cv=kf,verbose=True)\n",
    "    gsearch.fit(np.array(work_train_final[name]),y)\n",
    "    print(name)\n",
    "    print(gsearch.grid_scores_)\n",
    "    print(gsearch.best_params_)\n",
    "    print(gsearch.best_score_)\n",
    "#bio: {'boosting_type': 'gbdt', 'colsample_bytree': 0.7, 'n_estimators': 48, 'num_leaves': 16, 'subsample': 0.9}-0.940016998893\n",
    "#f_tfidf:{'boosting_type': 'gbdt', 'colsample_bytree': 0.9, 'n_estimators': 48, 'num_leaves': 16, 'subsample': 0.9}-0.923197719885\n",
    "#w_tfidf:{'boosting_type': 'gbdt', 'colsample_bytree': 0.7, 'n_estimators': 48, 'num_leaves': 22, 'subsample': 0.9}-0.938995537783\n",
    "#w2v:\n",
    "    \n",
    "#bio :{'boosting_type': 'gbdt', 'colsample_bytree': 0.7, 'n_estimators': 48, 'num_leaves': 22, 'subsample': 0.9}\n",
    "#-0.950704488318\n",
    "#tfidf : {'boosting_type': 'gbdt', 'colsample_bytree': 0.9, 'n_estimators': 48, 'num_leaves': 22, 'subsample': 0.8}\n",
    "#-0.93280968028\n",
    "#w2v : {'boosting_type': 'gbdt', 'colsample_bytree': 0.7, 'n_estimators': 48, 'num_leaves': 22, 'subsample': 0.9}\n",
    "#-0.948655365308"
   ]
  },
  {
   "cell_type": "code",
   "execution_count": null,
   "metadata": {},
   "outputs": [],
   "source": [
    "clf_log=LogisticRegression()\n",
    "param_test= {\n",
    "    \"C\" : [0.1,1,3,5,10,15,20],\n",
    "    \"penalty\" : [\"l1\",\"l2\"]\n",
    "}\n",
    "for name in work_train_final:\n",
    "    gsearch=GridSearchCV(estimator=clf_log, param_grid = param_test,scoring=\"neg_log_loss\",n_jobs=-1,iid=False, cv=kf,verbose=True)\n",
    "    gsearch.fit(np.array(work_train_final[name]),y)\n",
    "    print(name)\n",
    "    print(gsearch.grid_scores_)\n",
    "    print(gsearch.best_params_)\n",
    "    print(gsearch.best_score_)\n",
    "    \n",
    "#bio:\n",
    "#f_tfidf:\n",
    "#w_tfidf:\n",
    "#w2v:\n",
    "    \n",
    "#bio : {'C': 10, 'penalty': 'l2'}\n",
    "#tfidf : {'C': 9, 'penalty': 'l2'}\n",
    "#w2v : {'C': 5, 'penalty': 'l2'}"
   ]
  },
  {
   "cell_type": "code",
   "execution_count": null,
   "metadata": {},
   "outputs": [],
   "source": [
    "clf_dt=RandomForestClassifier()\n",
    "param_test={\n",
    "    \"max_depth\":[11,13,15,17,19],\n",
    "    \"n_estimators\":[250,300,350]\n",
    "}\n",
    "for name in work_train_final:\n",
    "    gsearch=GridSearchCV(estimator=clf_dt, param_grid = param_test,scoring=\"neg_log_loss\",n_jobs=-1,iid=False, cv=kf,verbose=True)\n",
    "    gsearch.fit(np.array(work_train_final[name]),y)\n",
    "    print(name)\n",
    "    print(gsearch.grid_scores_)\n",
    "    print(gsearch.best_params_)\n",
    "    print(gsearch.best_score_)\n",
    "    \n",
    "#bio:\n",
    "#f_tfidf:\n",
    "#w_tfidf:\n",
    "#w2v:\n",
    "\n",
    "#bio : {'max_depth': 15, 'n_estimators': 300} -0.957419688259 ok\n",
    "#tfidf : {'max_depth': 13, 'n_estimators': 350} -0.920825809843 ok \n",
    "#w2v :{'max_depth': 15, 'n_estimators': 300} -0.972048498265"
   ]
  },
  {
   "cell_type": "markdown",
   "metadata": {},
   "source": [
    "# TRAINING PHASE ALL ALGOS "
   ]
  },
  {
   "cell_type": "code",
   "execution_count": 23,
   "metadata": {},
   "outputs": [],
   "source": [
    "def model_gen(X,X_test,y,classifier,file,five_fold_predict=True):\n",
    "    #if not os.path.exists(\"scores/\"+file):\n",
    "    #   os.makedirs(\"scores/\"+file)\n",
    "    if five_fold_predict:\n",
    "        fold = 0\n",
    "        y_test=0\n",
    "        for train_index, test_index in kf.split(X, y):\n",
    "        \n",
    "            fold += 1\n",
    "\n",
    "            X_train, X_valid    = X[train_index],   X[test_index]\n",
    "            y_train, y_valid    = y[train_index],   y[test_index]\n",
    "\n",
    "            print(\"Fold\", fold, X_train.shape, X_valid.shape)\n",
    "\n",
    "            clf=classifier\n",
    "            clf.fit(X_train,y_train)\n",
    "            p_test = clf.predict_proba(X_test)\n",
    "            y_test += p_test/5\n",
    "\n",
    "    classes = \"class1,class2,class3,class4,class5,class6,class7,class8,class9\".split(',')\n",
    "    subm = pd.DataFrame(y_test, columns=classes)\n",
    "    subm['ID'] = ID_test\n",
    "    \n",
    "    subm.to_csv(\"new_scores/new_stack_test/new_stem_{}.csv\".format(file),index=False)\n",
    "    \n",
    "    print(\"cross_val sur train \") #peut etre que to array est exclusivement pour les xgb\n",
    "\n",
    "    y_pred=cross_val_predict(estimator=clf,X=X,y=y,cv=kf,method=\"predict_proba\")\n",
    "    subm1 = pd.DataFrame(y_pred, columns=classes)\n",
    "    subm1['ID'] = ID_train\n",
    "    subm1.to_csv(\"new_scores/new_stack_train/new_stem_{}.csv\".format(file),index=False)\n"
   ]
  },
  {
   "cell_type": "code",
   "execution_count": 138,
   "metadata": {
    "collapsed": true
   },
   "outputs": [
    {
     "name": "stdout",
     "output_type": "stream",
     "text": [
      "xgboost here\n",
      "Fold 1 (2946, 142) (743, 142)\n",
      "Fold 2 (2949, 142) (740, 142)\n",
      "Fold 3 (2952, 142) (737, 142)\n",
      "Fold 4 (2954, 142) (735, 142)\n",
      "Fold 5 (2955, 142) (734, 142)\n",
      "cross_val sur train \n",
      "Fold 1 (2946, 142) (743, 142)\n",
      "Fold 2 (2949, 142) (740, 142)\n",
      "Fold 3 (2952, 142) (737, 142)\n",
      "Fold 4 (2954, 142) (735, 142)\n",
      "Fold 5 (2955, 142) (734, 142)\n",
      "cross_val sur train \n",
      "Fold 1 (2946, 243) (743, 243)\n",
      "Fold 2 (2949, 243) (740, 243)\n",
      "Fold 3 (2952, 243) (737, 243)\n",
      "Fold 4 (2954, 243) (735, 243)\n",
      "Fold 5 (2955, 243) (734, 243)\n",
      "cross_val sur train \n",
      "lgbm here\n",
      "Fold 1 (2946, 142) (743, 142)\n",
      "Fold 2 (2949, 142) (740, 142)\n",
      "Fold 3 (2952, 142) (737, 142)\n",
      "Fold 4 (2954, 142) (735, 142)\n",
      "Fold 5 (2955, 142) (734, 142)\n",
      "cross_val sur train \n",
      "Fold 1 (2946, 142) (743, 142)\n",
      "Fold 2 (2949, 142) (740, 142)\n",
      "Fold 3 (2952, 142) (737, 142)\n",
      "Fold 4 (2954, 142) (735, 142)\n",
      "Fold 5 (2955, 142) (734, 142)\n",
      "cross_val sur train \n",
      "Fold 1 (2946, 243) (743, 243)\n",
      "Fold 2 (2949, 243) (740, 243)\n",
      "Fold 3 (2952, 243) (737, 243)\n",
      "Fold 4 (2954, 243) (735, 243)\n",
      "Fold 5 (2955, 243) (734, 243)\n",
      "cross_val sur train \n",
      "logreg here\n",
      "Fold 1 (2946, 142) (743, 142)\n",
      "Fold 2 (2949, 142) (740, 142)\n",
      "Fold 3 (2952, 142) (737, 142)\n",
      "Fold 4 (2954, 142) (735, 142)\n",
      "Fold 5 (2955, 142) (734, 142)\n",
      "cross_val sur train \n",
      "Fold 1 (2946, 142) (743, 142)\n",
      "Fold 2 (2949, 142) (740, 142)\n",
      "Fold 3 (2952, 142) (737, 142)\n",
      "Fold 4 (2954, 142) (735, 142)\n",
      "Fold 5 (2955, 142) (734, 142)\n",
      "cross_val sur train \n",
      "Fold 1 (2946, 243) (743, 243)\n",
      "Fold 2 (2949, 243) (740, 243)\n",
      "Fold 3 (2952, 243) (737, 243)\n",
      "Fold 4 (2954, 243) (735, 243)\n",
      "Fold 5 (2955, 243) (734, 243)\n",
      "cross_val sur train \n",
      "adaboost here\n",
      "Fold 1 (2946, 142) (743, 142)\n",
      "Fold 2 (2949, 142) (740, 142)\n",
      "Fold 3 (2952, 142) (737, 142)\n",
      "Fold 4 (2954, 142) (735, 142)\n",
      "Fold 5 (2955, 142) (734, 142)\n",
      "cross_val sur train \n",
      "Fold 1 (2946, 142) (743, 142)\n",
      "Fold 2 (2949, 142) (740, 142)\n",
      "Fold 3 (2952, 142) (737, 142)\n",
      "Fold 4 (2954, 142) (735, 142)\n",
      "Fold 5 (2955, 142) (734, 142)\n",
      "cross_val sur train \n",
      "Fold 1 (2946, 243) (743, 243)\n",
      "Fold 2 (2949, 243) (740, 243)\n",
      "Fold 3 (2952, 243) (737, 243)\n",
      "Fold 4 (2954, 243) (735, 243)\n",
      "Fold 5 (2955, 243) (734, 243)\n",
      "cross_val sur train \n",
      "random forest here\n",
      "Fold 1 (2946, 142) (743, 142)\n",
      "Fold 2 (2949, 142) (740, 142)\n",
      "Fold 3 (2952, 142) (737, 142)\n",
      "Fold 4 (2954, 142) (735, 142)\n",
      "Fold 5 (2955, 142) (734, 142)\n",
      "cross_val sur train \n",
      "Fold 1 (2946, 142) (743, 142)\n",
      "Fold 2 (2949, 142) (740, 142)\n",
      "Fold 3 (2952, 142) (737, 142)\n",
      "Fold 4 (2954, 142) (735, 142)\n",
      "Fold 5 (2955, 142) (734, 142)\n",
      "cross_val sur train \n",
      "Fold 1 (2946, 243) (743, 243)\n",
      "Fold 2 (2949, 243) (740, 243)\n",
      "Fold 3 (2952, 243) (737, 243)\n",
      "Fold 4 (2954, 243) (735, 243)\n",
      "Fold 5 (2955, 243) (734, 243)\n",
      "cross_val sur train \n"
     ]
    }
   ],
   "source": [
    "dic_xgb={\"xgb_bio\":XGBClassifier(colsample_bytree=0.8,max_depth=7,min_child_weight=3,n_estimators=100,subsample=0.8,objective=\"multi:softprob\",seed=26),\n",
    "        \"xgb_w_tfidf\":XGBClassifier(colsample_bytree=0.8,max_depth=5,min_child_weight=3,n_estimators=100,subsample=1,objective=\"multi:softprob\",seed=26),\n",
    "        \"xgb_f_tfidf\"::XGBClassifier(colsample_bytree=0.8,max_depth=5,min_child_weight=3,n_estimators=100,subsample=1,objective=\"multi:softprob\",seed=26),\n",
    "        \"xgb_w2v\":XGBClassifier(colsample_bytree=0.8,max_depth=5,min_child_weight=3,n_estimators=100,subsample=0.8,objective=\"multi:softprob\",seed=26)}\n",
    "dic_lgbm={\"lgbm_bio\":LGBMClassifier(boosting_type=\"gbdt\",colsample_bytree=0.8,n_estimators=48,num_leaves=22,subsample=0.8,seed=26),\n",
    "        \"lgbm_w_tfidf\":LGBMClassifier(boosting_type=\"gbdt\",colsample_bytree=0.8,n_estimators=48,num_leaves=22,subsample=0.8,seed=26),\n",
    "        \"lgbm_f_tfidf\":LGBMClassifier(boosting_type=\"gbdt\",colsample_bytree=0.8,n_estimators=48,num_leaves=22,subsample=0.8,seed=26),\n",
    "        \"lgbm_w2v\":LGBMClassifier(boosting_type=\"gbdt\",colsample_bytree=0.8,n_estimators=48,num_leaves=22,subsample=0.8,seed=26)}\n",
    "dic_lr={\"lr_bio\":LogisticRegression(C=10,penalty=\"l1\"),\n",
    "        \"lr_w_tfidf\":LogisticRegression(C=10,penalty=\"l1\"),\n",
    "        \"lr_f_tfidf\":LogisticRegression(C=10,penalty=\"l1\"),\n",
    "        \"lr_w2v\":LogisticRegression(C=1,penalty=\"l1\")}\n",
    "dic_rf={\"rf_bio\":RandomForestClassifier(n_estimators=400,max_depth=25,random_state=26),\n",
    "        \"rf_w_tfidf\":RandomForestClassifier(n_estimators=400,max_depth=20,random_state=26),\n",
    "        \"rf_f_tfidf\":RandomForestClassifier(n_estimators=400,max_depth=20,random_state=26),\n",
    "        \"rf_w2v\":RandomForestClassifier(n_estimators=300,max_depth=15,random_state=26)}\n",
    "\n",
    "print(\"xgboost here\")\n",
    "for clf,name in zip(dic_xgb.keys(),work_train_final.keys()):\n",
    "    model_gen(X=np.array(work_train_final[name]),X_test=np.array(work_test_final[name]),y=y,classifier=dic_xgb[clf],file=clf)\n",
    "print(\"lgbm here\")\n",
    "for clf,name in zip(dic_lgbm.keys(),work_train_final.keys()):\n",
    "    model_gen(X=np.array(work_train_final[name]),X_test=np.array(work_test_final[name]),y=y,classifier=dic_lgbm[clf],file=clf)\n",
    "print(\"logreg here\")\n",
    "for clf,name in zip(dic_lr.keys(),work_train_final.keys()):\n",
    "    model_gen(X=np.array(work_train_final[name]),X_test=np.array(work_test_final[name]),y=y,classifier=dic_lr[clf],file=clf)\n",
    "print(\"random forest here\")\n",
    "for clf,name in zip(dic_rf.keys(),work_train_final.keys()):\n",
    "    model_gen(X=np.array(work_train_final[name]),X_test=np.array(work_test_final[name]),y=y,classifier=dic_rf[clf],file=clf)\n",
    "\n"
   ]
  },
  {
   "cell_type": "code",
   "execution_count": null,
   "metadata": {},
   "outputs": [],
   "source": [
    "work_train_final"
   ]
  },
  {
   "cell_type": "code",
   "execution_count": null,
   "metadata": {},
   "outputs": [],
   "source": []
  }
 ],
 "metadata": {
  "kernelspec": {
   "display_name": "Python 3",
   "language": "python",
   "name": "python3"
  },
  "language_info": {
   "codemirror_mode": {
    "name": "ipython",
    "version": 3
   },
   "file_extension": ".py",
   "mimetype": "text/x-python",
   "name": "python",
   "nbconvert_exporter": "python",
   "pygments_lexer": "ipython3",
   "version": "3.6.1"
  }
 },
 "nbformat": 4,
 "nbformat_minor": 2
}
