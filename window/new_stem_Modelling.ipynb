{
 "cells": [
  {
   "cell_type": "code",
   "execution_count": 1,
   "metadata": {
    "scrolled": true
   },
   "outputs": [
    {
     "name": "stderr",
     "output_type": "stream",
     "text": [
      "C:\\Users\\Franck\\Documents\\Continuum\\Anaconda3\\lib\\site-packages\\sklearn\\cross_validation.py:44: DeprecationWarning: This module was deprecated in version 0.18 in favor of the model_selection module into which all the refactored classes and functions are moved. Also note that the interface of the new CV iterators are different from that of this module. This module will be removed in 0.20.\n",
      "  \"This module will be removed in 0.20.\", DeprecationWarning)\n"
     ]
    }
   ],
   "source": [
    "import numpy as np\n",
    "import pandas as pd\n",
    "import scipy.sparse as ssp\n",
    "import sklearn\n",
    "from sklearn.feature_extraction.text import TfidfVectorizer\n",
    "from sklearn import metrics, model_selection\n",
    "from sklearn.linear_model import LogisticRegression\n",
    "import xgboost as xgb\n",
    "from xgboost import XGBClassifier\n",
    "from sklearn import svm\n",
    "from sklearn.neighbors import KNeighborsClassifier\n",
    "from sklearn.model_selection import cross_val_predict,cross_val_score\n",
    "from sklearn.decomposition import TruncatedSVD\n",
    "from sklearn.ensemble import BaggingClassifier\n",
    "from sklearn.ensemble import AdaBoostClassifier\n",
    "import lightgbm\n",
    "from lightgbm.sklearn import LGBMClassifier\n",
    "import os \n",
    "import re\n",
    "from sklearn.model_selection import GridSearchCV\n",
    "from sklearn.ensemble import RandomForestClassifier "
   ]
  },
  {
   "cell_type": "markdown",
   "metadata": {},
   "source": [
    "# I will use cross_val_score on XGBoost to select 100,200 or 300 for each preprocess"
   ]
  },
  {
   "cell_type": "code",
   "execution_count": 2,
   "metadata": {},
   "outputs": [],
   "source": [
    "work_train_w2v = {} \n",
    "work_test_w2v = {}\n",
    "pre_process=[\"w2v_100.csv\",\"w2v_200.csv\",\"w2v_300.csv\"]\n",
    "path=\"checkpoints_databases/\"\n",
    "for f in pre_process:\n",
    "    work_train_w2v[re.sub(\"\\.csv\",\"\",f)] = pd.read_csv(path+\"new_stem_working_train_\"+f)\n",
    "    work_test_w2v[re.sub(\"\\.csv\",\"\",f)] = pd.read_csv(path+\"new_stem_working_test_\"+f)"
   ]
  },
  {
   "cell_type": "code",
   "execution_count": 3,
   "metadata": {},
   "outputs": [],
   "source": [
    "work_train_tfidf = {} \n",
    "work_test_tfidf = {}\n",
    "pre_process=[\"tfidf_tsvd_100.csv\",\"tfidf_tsvd_200.csv\",\"tfidf_tsvd_300.csv\"]\n",
    "path=\"checkpoints_databases/\"\n",
    "for f in pre_process:\n",
    "    work_train_tfidf[re.sub(\"\\.csv\",\"\",f)] = pd.read_csv(path+\"new_stem_working_train_\"+f)\n",
    "    work_test_tfidf[re.sub(\"\\.csv\",\"\",f)] = pd.read_csv(path+\"new_stem_working_test_\"+f)"
   ]
  },
  {
   "cell_type": "code",
   "execution_count": null,
   "metadata": {},
   "outputs": [],
   "source": [
    "#we keep the lemmatization bio w2v\n",
    "work_train_bio = {} \n",
    "work_test_bio = {}\n",
    "pre_process=[\"bio.csv\"]\n",
    "path=\"checkpoints_databases/\"\n",
    "for f in pre_process:\n",
    "    work_train_bio[re.sub(\"\\.csv\",\"\",f)] = pd.read_csv(path+\"new_working_train_\"+f)\n",
    "    work_test_bio[re.sub(\"\\.csv\",\"\",f)] = pd.read_csv(path+\"new_working_test_\"+f)"
   ]
  },
  {
   "cell_type": "code",
   "execution_count": 2,
   "metadata": {},
   "outputs": [],
   "source": [
    "new_train=pd.read_csv(\"checkpoints_databases/new_working_train.csv\")\n",
    "new_test=pd.read_csv(\"checkpoints_databases/new_working_test.csv\")"
   ]
  },
  {
   "cell_type": "code",
   "execution_count": 3,
   "metadata": {},
   "outputs": [],
   "source": [
    "y=np.array(new_train.Class)-1"
   ]
  },
  {
   "cell_type": "code",
   "execution_count": 4,
   "metadata": {},
   "outputs": [],
   "source": [
    "ID_train=new_train.ID\n",
    "ID_test=new_test.ID\n"
   ]
  },
  {
   "cell_type": "code",
   "execution_count": 5,
   "metadata": {},
   "outputs": [],
   "source": [
    "kf = model_selection.StratifiedKFold(n_splits=5, random_state=26, shuffle=True)"
   ]
  },
  {
   "cell_type": "markdown",
   "metadata": {},
   "source": [
    "Start "
   ]
  },
  {
   "cell_type": "code",
   "execution_count": 8,
   "metadata": {},
   "outputs": [
    {
     "name": "stdout",
     "output_type": "stream",
     "text": [
      "meanw2v_100 -1.08591915345 std:w2v_100 0.0541873570702\n",
      "meanw2v_200 -1.07376934966 std:w2v_200 0.0372816273367\n",
      "meanw2v_300 -1.06437402745 std:w2v_300 0.0367764336005\n"
     ]
    }
   ],
   "source": [
    "clf_xgb=XGBClassifier(max_depth=5, objective=\"multi:softprob\",seed=26)\n",
    "for name in work_train_w2v:\n",
    "    h=cross_val_score(clf_xgb,np.array(work_train_w2v[name]),y,cv=kf,n_jobs=-1,scoring=\"neg_log_loss\")\n",
    "    print(\"mean\"+name+\" \"+str(h.mean()),\n",
    "         \"std:\"+name+\" \"+str(h.std()))\n",
    "#"
   ]
  },
  {
   "cell_type": "code",
   "execution_count": 9,
   "metadata": {
    "scrolled": true
   },
   "outputs": [
    {
     "name": "stdout",
     "output_type": "stream",
     "text": [
      "meantfidf_tsvd_100 -1.0169704023 std:tfidf_tsvd_100 0.0365495778442\n",
      "meantfidf_tsvd_200 -1.02394548835 std:tfidf_tsvd_200 0.0384426689575\n",
      "meantfidf_tsvd_300 -1.02594316006 std:tfidf_tsvd_300 0.0390292436386\n"
     ]
    }
   ],
   "source": [
    "for name in work_train_tfidf:\n",
    "    h=cross_val_score(clf_xgb,np.array(work_train_tfidf[name]),y,cv=kf,n_jobs=-1,scoring=\"neg_log_loss\")\n",
    "    print(\"mean\"+name+\" \"+str(h.mean()),\n",
    "         \"std:\"+name+\" \"+str(h.std()))\n",
    "#"
   ]
  },
  {
   "cell_type": "markdown",
   "metadata": {},
   "source": [
    "# GRID SEARCH PHASE ALL ALGOS"
   ]
  },
  {
   "cell_type": "code",
   "execution_count": 7,
   "metadata": {},
   "outputs": [],
   "source": [
    "work_train= {} \n",
    "work_test = {}\n",
    "#To complete\n",
    "path=\"checkpoints_databases/\"\n",
    "work_train[\"bio\"] = pd.read_csv(path+\"new_working_train_bio.csv\")\n",
    "work_test[\"bio\"] = pd.read_csv(path+\"new_working_test_bio.csv\")\n",
    "work_train[\"tfidf_100\"] = pd.read_csv(path+\"new_working_train_tfidf_tsvd_100.csv\")\n",
    "work_test[\"tfidf_100\"] = pd.read_csv(path+\"new_working_test_tfidf_tsvd_100.csv\")\n",
    "work_train[\"w2v_300\"] = pd.read_csv(path+\"new_working_train_w2v_300.csv\")\n",
    "work_test[\"w2v_300\"] = pd.read_csv(path+\"new_working_test_w2v_300.csv\")"
   ]
  },
  {
   "cell_type": "code",
   "execution_count": 8,
   "metadata": {},
   "outputs": [],
   "source": [
    "feat_train=pd.read_csv(\"../window/w_meta_features/meta_train_l1l2.csv\")\n",
    "feat_test=pd.read_csv(\"../window/w_meta_features/meta_test_l1l2.csv\")\n",
    "feat_train=feat_train.drop(\"ID\",axis=1)\n",
    "feat_test=feat_test.drop(\"ID\",axis=1)\n",
    "feat_ext_train=pd.read_csv(\"w_meta_features/new_working_train_ext.csv\")\n",
    "feat_ext_test=pd.read_csv(\"w_meta_features/new_working_test_ext.csv\")"
   ]
  },
  {
   "cell_type": "code",
   "execution_count": 9,
   "metadata": {},
   "outputs": [],
   "source": [
    "#GO features + text embeddings\n",
    "work_train_final={}\n",
    "work_test_final={}\n",
    "for name in work_train:\n",
    "    work_train_final[name]=pd.concat((work_train[name],feat_ext_train),axis=1)\n",
    "    work_test_final[name]=pd.concat((work_test[name],feat_ext_test),axis=1)"
   ]
  },
  {
   "cell_type": "markdown",
   "metadata": {},
   "source": [
    "# the gridsearch for w2vbio lemmatized is already done in the other modelling script"
   ]
  },
  {
   "cell_type": "code",
   "execution_count": null,
   "metadata": {},
   "outputs": [
    {
     "name": "stdout",
     "output_type": "stream",
     "text": [
      "Fitting 5 folds for each of 162 candidates, totalling 810 fits\n"
     ]
    },
    {
     "name": "stderr",
     "output_type": "stream",
     "text": [
      "[Parallel(n_jobs=-1)]: Done  42 tasks      | elapsed:  5.5min\n"
     ]
    }
   ],
   "source": [
    "clf_xgb=XGBClassifier(max_depth=3, objective=\"multi:softprob\",seed=26)\n",
    "param_test= {\n",
    "    \"max_depth\" : [3,5,7],\n",
    "    \"min_child_weight\" : [1,3,5],\n",
    "    \"n_estimators\" : [100,200],\n",
    "    \"subsample\":[0.8,0.9,1],\n",
    "    \"colsample_bytree\":[0.8,0.9,1]\n",
    "}\n",
    "for name in [\"tfidf_100\",\"w2v_300\"]:\n",
    "    gsearch=GridSearchCV(estimator=clf_xgb, param_grid = param_test,scoring=\"neg_log_loss\",n_jobs=-1,iid=False, cv=kf,verbose=True)\n",
    "    gsearch.fit(np.array(work_train_final[name]),y)\n",
    "    print(name)\n",
    "    print(gsearch.grid_scores_)\n",
    "    print(gsearch.best_params_)\n",
    "    print(gsearch.best_score_)\n",
    "#bio : {'colsample_bytree': 0.8, 'max_depth': 5, 'min_child_weight': 5, 'n_estimators': 100, 'subsample': 0.9} : 0.9385\n",
    "#tfidf: \n",
    "#w2v: "
   ]
  },
  {
   "cell_type": "code",
   "execution_count": 16,
   "metadata": {
    "scrolled": true
   },
   "outputs": [
    {
     "name": "stdout",
     "output_type": "stream",
     "text": [
      "Fitting 5 folds for each of 144 candidates, totalling 720 fits\n"
     ]
    },
    {
     "name": "stderr",
     "output_type": "stream",
     "text": [
      "[Parallel(n_jobs=-1)]: Done  42 tasks      | elapsed:   28.2s\n",
      "[Parallel(n_jobs=-1)]: Done 192 tasks      | elapsed:  4.5min\n",
      "[Parallel(n_jobs=-1)]: Done 442 tasks      | elapsed: 12.2min\n",
      "[Parallel(n_jobs=-1)]: Done 720 out of 720 | elapsed: 22.0min finished\n"
     ]
    },
    {
     "name": "stdout",
     "output_type": "stream",
     "text": [
      "bio\n",
      "[mean: -1.58538, std: 0.02208, params: {'boosting_type': 'gbdt', 'colsample_bytree': 0.7, 'n_estimators': 8, 'num_leaves': 6, 'subsample': 0.7}, mean: -1.58567, std: 0.02589, params: {'boosting_type': 'gbdt', 'colsample_bytree': 0.7, 'n_estimators': 8, 'num_leaves': 6, 'subsample': 0.8}, mean: -1.58347, std: 0.02348, params: {'boosting_type': 'gbdt', 'colsample_bytree': 0.7, 'n_estimators': 8, 'num_leaves': 6, 'subsample': 0.9}, mean: -1.51911, std: 0.02147, params: {'boosting_type': 'gbdt', 'colsample_bytree': 0.7, 'n_estimators': 8, 'num_leaves': 12, 'subsample': 0.7}, mean: -1.51401, std: 0.02102, params: {'boosting_type': 'gbdt', 'colsample_bytree': 0.7, 'n_estimators': 8, 'num_leaves': 12, 'subsample': 0.8}, mean: -1.50926, std: 0.02076, params: {'boosting_type': 'gbdt', 'colsample_bytree': 0.7, 'n_estimators': 8, 'num_leaves': 12, 'subsample': 0.9}, mean: -1.50056, std: 0.01875, params: {'boosting_type': 'gbdt', 'colsample_bytree': 0.7, 'n_estimators': 8, 'num_leaves': 16, 'subsample': 0.7}, mean: -1.49267, std: 0.01828, params: {'boosting_type': 'gbdt', 'colsample_bytree': 0.7, 'n_estimators': 8, 'num_leaves': 16, 'subsample': 0.8}, mean: -1.48654, std: 0.01931, params: {'boosting_type': 'gbdt', 'colsample_bytree': 0.7, 'n_estimators': 8, 'num_leaves': 16, 'subsample': 0.9}, mean: -1.48343, std: 0.01406, params: {'boosting_type': 'gbdt', 'colsample_bytree': 0.7, 'n_estimators': 8, 'num_leaves': 22, 'subsample': 0.7}, mean: -1.46811, std: 0.02061, params: {'boosting_type': 'gbdt', 'colsample_bytree': 0.7, 'n_estimators': 8, 'num_leaves': 22, 'subsample': 0.8}, mean: -1.46241, std: 0.01785, params: {'boosting_type': 'gbdt', 'colsample_bytree': 0.7, 'n_estimators': 8, 'num_leaves': 22, 'subsample': 0.9}, mean: -1.23304, std: 0.02890, params: {'boosting_type': 'gbdt', 'colsample_bytree': 0.7, 'n_estimators': 24, 'num_leaves': 6, 'subsample': 0.7}, mean: -1.22799, std: 0.03329, params: {'boosting_type': 'gbdt', 'colsample_bytree': 0.7, 'n_estimators': 24, 'num_leaves': 6, 'subsample': 0.8}, mean: -1.22725, std: 0.03058, params: {'boosting_type': 'gbdt', 'colsample_bytree': 0.7, 'n_estimators': 24, 'num_leaves': 6, 'subsample': 0.9}, mean: -1.13770, std: 0.02621, params: {'boosting_type': 'gbdt', 'colsample_bytree': 0.7, 'n_estimators': 24, 'num_leaves': 12, 'subsample': 0.7}, mean: -1.13298, std: 0.02889, params: {'boosting_type': 'gbdt', 'colsample_bytree': 0.7, 'n_estimators': 24, 'num_leaves': 12, 'subsample': 0.8}, mean: -1.12694, std: 0.02285, params: {'boosting_type': 'gbdt', 'colsample_bytree': 0.7, 'n_estimators': 24, 'num_leaves': 12, 'subsample': 0.9}, mean: -1.11364, std: 0.02221, params: {'boosting_type': 'gbdt', 'colsample_bytree': 0.7, 'n_estimators': 24, 'num_leaves': 16, 'subsample': 0.7}, mean: -1.10258, std: 0.02426, params: {'boosting_type': 'gbdt', 'colsample_bytree': 0.7, 'n_estimators': 24, 'num_leaves': 16, 'subsample': 0.8}, mean: -1.09566, std: 0.02339, params: {'boosting_type': 'gbdt', 'colsample_bytree': 0.7, 'n_estimators': 24, 'num_leaves': 16, 'subsample': 0.9}, mean: -1.09408, std: 0.02236, params: {'boosting_type': 'gbdt', 'colsample_bytree': 0.7, 'n_estimators': 24, 'num_leaves': 22, 'subsample': 0.7}, mean: -1.08158, std: 0.02553, params: {'boosting_type': 'gbdt', 'colsample_bytree': 0.7, 'n_estimators': 24, 'num_leaves': 22, 'subsample': 0.8}, mean: -1.07032, std: 0.01897, params: {'boosting_type': 'gbdt', 'colsample_bytree': 0.7, 'n_estimators': 24, 'num_leaves': 22, 'subsample': 0.9}, mean: -1.13098, std: 0.03106, params: {'boosting_type': 'gbdt', 'colsample_bytree': 0.7, 'n_estimators': 36, 'num_leaves': 6, 'subsample': 0.7}, mean: -1.12549, std: 0.03212, params: {'boosting_type': 'gbdt', 'colsample_bytree': 0.7, 'n_estimators': 36, 'num_leaves': 6, 'subsample': 0.8}, mean: -1.12511, std: 0.03176, params: {'boosting_type': 'gbdt', 'colsample_bytree': 0.7, 'n_estimators': 36, 'num_leaves': 6, 'subsample': 0.9}, mean: -1.03897, std: 0.02427, params: {'boosting_type': 'gbdt', 'colsample_bytree': 0.7, 'n_estimators': 36, 'num_leaves': 12, 'subsample': 0.7}, mean: -1.03326, std: 0.02998, params: {'boosting_type': 'gbdt', 'colsample_bytree': 0.7, 'n_estimators': 36, 'num_leaves': 12, 'subsample': 0.8}, mean: -1.02871, std: 0.02493, params: {'boosting_type': 'gbdt', 'colsample_bytree': 0.7, 'n_estimators': 36, 'num_leaves': 12, 'subsample': 0.9}, mean: -1.01702, std: 0.02346, params: {'boosting_type': 'gbdt', 'colsample_bytree': 0.7, 'n_estimators': 36, 'num_leaves': 16, 'subsample': 0.7}, mean: -1.00930, std: 0.02262, params: {'boosting_type': 'gbdt', 'colsample_bytree': 0.7, 'n_estimators': 36, 'num_leaves': 16, 'subsample': 0.8}, mean: -1.00180, std: 0.02897, params: {'boosting_type': 'gbdt', 'colsample_bytree': 0.7, 'n_estimators': 36, 'num_leaves': 16, 'subsample': 0.9}, mean: -1.00410, std: 0.02685, params: {'boosting_type': 'gbdt', 'colsample_bytree': 0.7, 'n_estimators': 36, 'num_leaves': 22, 'subsample': 0.7}, mean: -0.99344, std: 0.02666, params: {'boosting_type': 'gbdt', 'colsample_bytree': 0.7, 'n_estimators': 36, 'num_leaves': 22, 'subsample': 0.8}, mean: -0.98149, std: 0.02372, params: {'boosting_type': 'gbdt', 'colsample_bytree': 0.7, 'n_estimators': 36, 'num_leaves': 22, 'subsample': 0.9}, mean: -1.07331, std: 0.03311, params: {'boosting_type': 'gbdt', 'colsample_bytree': 0.7, 'n_estimators': 48, 'num_leaves': 6, 'subsample': 0.7}, mean: -1.06667, std: 0.03134, params: {'boosting_type': 'gbdt', 'colsample_bytree': 0.7, 'n_estimators': 48, 'num_leaves': 6, 'subsample': 0.8}, mean: -1.06732, std: 0.03012, params: {'boosting_type': 'gbdt', 'colsample_bytree': 0.7, 'n_estimators': 48, 'num_leaves': 6, 'subsample': 0.9}, mean: -0.99099, std: 0.02437, params: {'boosting_type': 'gbdt', 'colsample_bytree': 0.7, 'n_estimators': 48, 'num_leaves': 12, 'subsample': 0.7}, mean: -0.98189, std: 0.03360, params: {'boosting_type': 'gbdt', 'colsample_bytree': 0.7, 'n_estimators': 48, 'num_leaves': 12, 'subsample': 0.8}, mean: -0.98064, std: 0.02836, params: {'boosting_type': 'gbdt', 'colsample_bytree': 0.7, 'n_estimators': 48, 'num_leaves': 12, 'subsample': 0.9}, mean: -0.96983, std: 0.02445, params: {'boosting_type': 'gbdt', 'colsample_bytree': 0.7, 'n_estimators': 48, 'num_leaves': 16, 'subsample': 0.7}, mean: -0.96874, std: 0.02647, params: {'boosting_type': 'gbdt', 'colsample_bytree': 0.7, 'n_estimators': 48, 'num_leaves': 16, 'subsample': 0.8}, mean: -0.96102, std: 0.03204, params: {'boosting_type': 'gbdt', 'colsample_bytree': 0.7, 'n_estimators': 48, 'num_leaves': 16, 'subsample': 0.9}, mean: -0.96734, std: 0.02686, params: {'boosting_type': 'gbdt', 'colsample_bytree': 0.7, 'n_estimators': 48, 'num_leaves': 22, 'subsample': 0.7}, mean: -0.95601, std: 0.02948, params: {'boosting_type': 'gbdt', 'colsample_bytree': 0.7, 'n_estimators': 48, 'num_leaves': 22, 'subsample': 0.8}, mean: -0.95070, std: 0.02900, params: {'boosting_type': 'gbdt', 'colsample_bytree': 0.7, 'n_estimators': 48, 'num_leaves': 22, 'subsample': 0.9}, mean: -1.58873, std: 0.02590, params: {'boosting_type': 'gbdt', 'colsample_bytree': 0.8, 'n_estimators': 8, 'num_leaves': 6, 'subsample': 0.7}, mean: -1.58509, std: 0.02458, params: {'boosting_type': 'gbdt', 'colsample_bytree': 0.8, 'n_estimators': 8, 'num_leaves': 6, 'subsample': 0.8}, mean: -1.58516, std: 0.02193, params: {'boosting_type': 'gbdt', 'colsample_bytree': 0.8, 'n_estimators': 8, 'num_leaves': 6, 'subsample': 0.9}, mean: -1.52047, std: 0.02128, params: {'boosting_type': 'gbdt', 'colsample_bytree': 0.8, 'n_estimators': 8, 'num_leaves': 12, 'subsample': 0.7}, mean: -1.51234, std: 0.02521, params: {'boosting_type': 'gbdt', 'colsample_bytree': 0.8, 'n_estimators': 8, 'num_leaves': 12, 'subsample': 0.8}, mean: -1.50644, std: 0.02246, params: {'boosting_type': 'gbdt', 'colsample_bytree': 0.8, 'n_estimators': 8, 'num_leaves': 12, 'subsample': 0.9}, mean: -1.49916, std: 0.01981, params: {'boosting_type': 'gbdt', 'colsample_bytree': 0.8, 'n_estimators': 8, 'num_leaves': 16, 'subsample': 0.7}, mean: -1.48355, std: 0.01948, params: {'boosting_type': 'gbdt', 'colsample_bytree': 0.8, 'n_estimators': 8, 'num_leaves': 16, 'subsample': 0.8}, mean: -1.48077, std: 0.02386, params: {'boosting_type': 'gbdt', 'colsample_bytree': 0.8, 'n_estimators': 8, 'num_leaves': 16, 'subsample': 0.9}, mean: -1.47858, std: 0.01712, params: {'boosting_type': 'gbdt', 'colsample_bytree': 0.8, 'n_estimators': 8, 'num_leaves': 22, 'subsample': 0.7}, mean: -1.46740, std: 0.01732, params: {'boosting_type': 'gbdt', 'colsample_bytree': 0.8, 'n_estimators': 8, 'num_leaves': 22, 'subsample': 0.8}, mean: -1.46027, std: 0.02009, params: {'boosting_type': 'gbdt', 'colsample_bytree': 0.8, 'n_estimators': 8, 'num_leaves': 22, 'subsample': 0.9}, mean: -1.23796, std: 0.02956, params: {'boosting_type': 'gbdt', 'colsample_bytree': 0.8, 'n_estimators': 24, 'num_leaves': 6, 'subsample': 0.7}, mean: -1.22937, std: 0.02924, params: {'boosting_type': 'gbdt', 'colsample_bytree': 0.8, 'n_estimators': 24, 'num_leaves': 6, 'subsample': 0.8}, mean: -1.22839, std: 0.02952, params: {'boosting_type': 'gbdt', 'colsample_bytree': 0.8, 'n_estimators': 24, 'num_leaves': 6, 'subsample': 0.9}, mean: -1.13929, std: 0.02056, params: {'boosting_type': 'gbdt', 'colsample_bytree': 0.8, 'n_estimators': 24, 'num_leaves': 12, 'subsample': 0.7}, mean: -1.13204, std: 0.02727, params: {'boosting_type': 'gbdt', 'colsample_bytree': 0.8, 'n_estimators': 24, 'num_leaves': 12, 'subsample': 0.8}, mean: -1.12343, std: 0.02076, params: {'boosting_type': 'gbdt', 'colsample_bytree': 0.8, 'n_estimators': 24, 'num_leaves': 12, 'subsample': 0.9}, mean: -1.11087, std: 0.02242, params: {'boosting_type': 'gbdt', 'colsample_bytree': 0.8, 'n_estimators': 24, 'num_leaves': 16, 'subsample': 0.7}, mean: -1.09911, std: 0.02372, params: {'boosting_type': 'gbdt', 'colsample_bytree': 0.8, 'n_estimators': 24, 'num_leaves': 16, 'subsample': 0.8}, mean: -1.09199, std: 0.02294, params: {'boosting_type': 'gbdt', 'colsample_bytree': 0.8, 'n_estimators': 24, 'num_leaves': 16, 'subsample': 0.9}, mean: -1.09098, std: 0.02212, params: {'boosting_type': 'gbdt', 'colsample_bytree': 0.8, 'n_estimators': 24, 'num_leaves': 22, 'subsample': 0.7}, mean: -1.08044, std: 0.01894, params: {'boosting_type': 'gbdt', 'colsample_bytree': 0.8, 'n_estimators': 24, 'num_leaves': 22, 'subsample': 0.8}, mean: -1.07113, std: 0.02299, params: {'boosting_type': 'gbdt', 'colsample_bytree': 0.8, 'n_estimators': 24, 'num_leaves': 22, 'subsample': 0.9}, mean: -1.13587, std: 0.02662, params: {'boosting_type': 'gbdt', 'colsample_bytree': 0.8, 'n_estimators': 36, 'num_leaves': 6, 'subsample': 0.7}, mean: -1.12748, std: 0.02892, params: {'boosting_type': 'gbdt', 'colsample_bytree': 0.8, 'n_estimators': 36, 'num_leaves': 6, 'subsample': 0.8}, mean: -1.12679, std: 0.03096, params: {'boosting_type': 'gbdt', 'colsample_bytree': 0.8, 'n_estimators': 36, 'num_leaves': 6, 'subsample': 0.9}, mean: -1.03852, std: 0.01888, params: {'boosting_type': 'gbdt', 'colsample_bytree': 0.8, 'n_estimators': 36, 'num_leaves': 12, 'subsample': 0.7}, mean: -1.03288, std: 0.02833, params: {'boosting_type': 'gbdt', 'colsample_bytree': 0.8, 'n_estimators': 36, 'num_leaves': 12, 'subsample': 0.8}, mean: -1.02577, std: 0.02337, params: {'boosting_type': 'gbdt', 'colsample_bytree': 0.8, 'n_estimators': 36, 'num_leaves': 12, 'subsample': 0.9}, mean: -1.01447, std: 0.02247, params: {'boosting_type': 'gbdt', 'colsample_bytree': 0.8, 'n_estimators': 36, 'num_leaves': 16, 'subsample': 0.7}, mean: -1.00480, std: 0.02224, params: {'boosting_type': 'gbdt', 'colsample_bytree': 0.8, 'n_estimators': 36, 'num_leaves': 16, 'subsample': 0.8}, mean: -0.99904, std: 0.02793, params: {'boosting_type': 'gbdt', 'colsample_bytree': 0.8, 'n_estimators': 36, 'num_leaves': 16, 'subsample': 0.9}, mean: -1.00008, std: 0.02420, params: {'boosting_type': 'gbdt', 'colsample_bytree': 0.8, 'n_estimators': 36, 'num_leaves': 22, 'subsample': 0.7}, mean: -0.98981, std: 0.02210, params: {'boosting_type': 'gbdt', 'colsample_bytree': 0.8, 'n_estimators': 36, 'num_leaves': 22, 'subsample': 0.8}, mean: -0.98326, std: 0.02472, params: {'boosting_type': 'gbdt', 'colsample_bytree': 0.8, 'n_estimators': 36, 'num_leaves': 22, 'subsample': 0.9}, mean: -1.07696, std: 0.02587, params: {'boosting_type': 'gbdt', 'colsample_bytree': 0.8, 'n_estimators': 48, 'num_leaves': 6, 'subsample': 0.7}, mean: -1.06759, std: 0.02902, params: {'boosting_type': 'gbdt', 'colsample_bytree': 0.8, 'n_estimators': 48, 'num_leaves': 6, 'subsample': 0.8}, mean: -1.06727, std: 0.02697, params: {'boosting_type': 'gbdt', 'colsample_bytree': 0.8, 'n_estimators': 48, 'num_leaves': 6, 'subsample': 0.9}, mean: -0.98907, std: 0.02262, params: {'boosting_type': 'gbdt', 'colsample_bytree': 0.8, 'n_estimators': 48, 'num_leaves': 12, 'subsample': 0.7}, mean: -0.98004, std: 0.02740, params: {'boosting_type': 'gbdt', 'colsample_bytree': 0.8, 'n_estimators': 48, 'num_leaves': 12, 'subsample': 0.8}, mean: -0.97798, std: 0.02603, params: {'boosting_type': 'gbdt', 'colsample_bytree': 0.8, 'n_estimators': 48, 'num_leaves': 12, 'subsample': 0.9}, mean: -0.97062, std: 0.02379, params: {'boosting_type': 'gbdt', 'colsample_bytree': 0.8, 'n_estimators': 48, 'num_leaves': 16, 'subsample': 0.7}, mean: -0.96114, std: 0.02717, params: {'boosting_type': 'gbdt', 'colsample_bytree': 0.8, 'n_estimators': 48, 'num_leaves': 16, 'subsample': 0.8}, mean: -0.95779, std: 0.03040, params: {'boosting_type': 'gbdt', 'colsample_bytree': 0.8, 'n_estimators': 48, 'num_leaves': 16, 'subsample': 0.9}, mean: -0.96471, std: 0.02897, params: {'boosting_type': 'gbdt', 'colsample_bytree': 0.8, 'n_estimators': 48, 'num_leaves': 22, 'subsample': 0.7}, mean: -0.95617, std: 0.02523, params: {'boosting_type': 'gbdt', 'colsample_bytree': 0.8, 'n_estimators': 48, 'num_leaves': 22, 'subsample': 0.8}, mean: -0.95203, std: 0.03053, params: {'boosting_type': 'gbdt', 'colsample_bytree': 0.8, 'n_estimators': 48, 'num_leaves': 22, 'subsample': 0.9}, mean: -1.58415, std: 0.02086, params: {'boosting_type': 'gbdt', 'colsample_bytree': 0.9, 'n_estimators': 8, 'num_leaves': 6, 'subsample': 0.7}, mean: -1.58587, std: 0.02589, params: {'boosting_type': 'gbdt', 'colsample_bytree': 0.9, 'n_estimators': 8, 'num_leaves': 6, 'subsample': 0.8}, mean: -1.58161, std: 0.02095, params: {'boosting_type': 'gbdt', 'colsample_bytree': 0.9, 'n_estimators': 8, 'num_leaves': 6, 'subsample': 0.9}, mean: -1.51522, std: 0.02398, params: {'boosting_type': 'gbdt', 'colsample_bytree': 0.9, 'n_estimators': 8, 'num_leaves': 12, 'subsample': 0.7}, mean: -1.51058, std: 0.02494, params: {'boosting_type': 'gbdt', 'colsample_bytree': 0.9, 'n_estimators': 8, 'num_leaves': 12, 'subsample': 0.8}, mean: -1.50528, std: 0.02159, params: {'boosting_type': 'gbdt', 'colsample_bytree': 0.9, 'n_estimators': 8, 'num_leaves': 12, 'subsample': 0.9}, mean: -1.49528, std: 0.02150, params: {'boosting_type': 'gbdt', 'colsample_bytree': 0.9, 'n_estimators': 8, 'num_leaves': 16, 'subsample': 0.7}, mean: -1.48830, std: 0.02453, params: {'boosting_type': 'gbdt', 'colsample_bytree': 0.9, 'n_estimators': 8, 'num_leaves': 16, 'subsample': 0.8}, mean: -1.48140, std: 0.02050, params: {'boosting_type': 'gbdt', 'colsample_bytree': 0.9, 'n_estimators': 8, 'num_leaves': 16, 'subsample': 0.9}, mean: -1.47844, std: 0.02285, params: {'boosting_type': 'gbdt', 'colsample_bytree': 0.9, 'n_estimators': 8, 'num_leaves': 22, 'subsample': 0.7}, mean: -1.46870, std: 0.02066, params: {'boosting_type': 'gbdt', 'colsample_bytree': 0.9, 'n_estimators': 8, 'num_leaves': 22, 'subsample': 0.8}, mean: -1.45866, std: 0.01691, params: {'boosting_type': 'gbdt', 'colsample_bytree': 0.9, 'n_estimators': 8, 'num_leaves': 22, 'subsample': 0.9}, mean: -1.23055, std: 0.02604, params: {'boosting_type': 'gbdt', 'colsample_bytree': 0.9, 'n_estimators': 24, 'num_leaves': 6, 'subsample': 0.7}, mean: -1.22759, std: 0.02985, params: {'boosting_type': 'gbdt', 'colsample_bytree': 0.9, 'n_estimators': 24, 'num_leaves': 6, 'subsample': 0.8}, mean: -1.22576, std: 0.02654, params: {'boosting_type': 'gbdt', 'colsample_bytree': 0.9, 'n_estimators': 24, 'num_leaves': 6, 'subsample': 0.9}, mean: -1.13453, std: 0.02619, params: {'boosting_type': 'gbdt', 'colsample_bytree': 0.9, 'n_estimators': 24, 'num_leaves': 12, 'subsample': 0.7}, mean: -1.13177, std: 0.02984, params: {'boosting_type': 'gbdt', 'colsample_bytree': 0.9, 'n_estimators': 24, 'num_leaves': 12, 'subsample': 0.8}, mean: -1.12434, std: 0.02339, params: {'boosting_type': 'gbdt', 'colsample_bytree': 0.9, 'n_estimators': 24, 'num_leaves': 12, 'subsample': 0.9}, mean: -1.11017, std: 0.02552, params: {'boosting_type': 'gbdt', 'colsample_bytree': 0.9, 'n_estimators': 24, 'num_leaves': 16, 'subsample': 0.7}, mean: -1.10289, std: 0.02899, params: {'boosting_type': 'gbdt', 'colsample_bytree': 0.9, 'n_estimators': 24, 'num_leaves': 16, 'subsample': 0.8}, mean: -1.09743, std: 0.02128, params: {'boosting_type': 'gbdt', 'colsample_bytree': 0.9, 'n_estimators': 24, 'num_leaves': 16, 'subsample': 0.9}, mean: -1.08856, std: 0.02583, params: {'boosting_type': 'gbdt', 'colsample_bytree': 0.9, 'n_estimators': 24, 'num_leaves': 22, 'subsample': 0.7}, mean: -1.08081, std: 0.02602, params: {'boosting_type': 'gbdt', 'colsample_bytree': 0.9, 'n_estimators': 24, 'num_leaves': 22, 'subsample': 0.8}, mean: -1.07122, std: 0.01773, params: {'boosting_type': 'gbdt', 'colsample_bytree': 0.9, 'n_estimators': 24, 'num_leaves': 22, 'subsample': 0.9}, mean: -1.13222, std: 0.02627, params: {'boosting_type': 'gbdt', 'colsample_bytree': 0.9, 'n_estimators': 36, 'num_leaves': 6, 'subsample': 0.7}, mean: -1.12443, std: 0.03037, params: {'boosting_type': 'gbdt', 'colsample_bytree': 0.9, 'n_estimators': 36, 'num_leaves': 6, 'subsample': 0.8}, mean: -1.12583, std: 0.02697, params: {'boosting_type': 'gbdt', 'colsample_bytree': 0.9, 'n_estimators': 36, 'num_leaves': 6, 'subsample': 0.9}, mean: -1.03507, std: 0.02736, params: {'boosting_type': 'gbdt', 'colsample_bytree': 0.9, 'n_estimators': 36, 'num_leaves': 12, 'subsample': 0.7}, mean: -1.03522, std: 0.03072, params: {'boosting_type': 'gbdt', 'colsample_bytree': 0.9, 'n_estimators': 36, 'num_leaves': 12, 'subsample': 0.8}, mean: -1.02732, std: 0.02654, params: {'boosting_type': 'gbdt', 'colsample_bytree': 0.9, 'n_estimators': 36, 'num_leaves': 12, 'subsample': 0.9}, mean: -1.01764, std: 0.02675, params: {'boosting_type': 'gbdt', 'colsample_bytree': 0.9, 'n_estimators': 36, 'num_leaves': 16, 'subsample': 0.7}, mean: -1.00904, std: 0.02955, params: {'boosting_type': 'gbdt', 'colsample_bytree': 0.9, 'n_estimators': 36, 'num_leaves': 16, 'subsample': 0.8}, mean: -1.00432, std: 0.02473, params: {'boosting_type': 'gbdt', 'colsample_bytree': 0.9, 'n_estimators': 36, 'num_leaves': 16, 'subsample': 0.9}, mean: -0.99868, std: 0.03137, params: {'boosting_type': 'gbdt', 'colsample_bytree': 0.9, 'n_estimators': 36, 'num_leaves': 22, 'subsample': 0.7}, mean: -0.99345, std: 0.02797, params: {'boosting_type': 'gbdt', 'colsample_bytree': 0.9, 'n_estimators': 36, 'num_leaves': 22, 'subsample': 0.8}, mean: -0.98637, std: 0.02306, params: {'boosting_type': 'gbdt', 'colsample_bytree': 0.9, 'n_estimators': 36, 'num_leaves': 22, 'subsample': 0.9}, mean: -1.07392, std: 0.02707, params: {'boosting_type': 'gbdt', 'colsample_bytree': 0.9, 'n_estimators': 48, 'num_leaves': 6, 'subsample': 0.7}, mean: -1.06429, std: 0.02989, params: {'boosting_type': 'gbdt', 'colsample_bytree': 0.9, 'n_estimators': 48, 'num_leaves': 6, 'subsample': 0.8}, mean: -1.06597, std: 0.02778, params: {'boosting_type': 'gbdt', 'colsample_bytree': 0.9, 'n_estimators': 48, 'num_leaves': 6, 'subsample': 0.9}, mean: -0.98589, std: 0.03047, params: {'boosting_type': 'gbdt', 'colsample_bytree': 0.9, 'n_estimators': 48, 'num_leaves': 12, 'subsample': 0.7}, mean: -0.98872, std: 0.03364, params: {'boosting_type': 'gbdt', 'colsample_bytree': 0.9, 'n_estimators': 48, 'num_leaves': 12, 'subsample': 0.8}, mean: -0.97869, std: 0.02781, params: {'boosting_type': 'gbdt', 'colsample_bytree': 0.9, 'n_estimators': 48, 'num_leaves': 12, 'subsample': 0.9}, mean: -0.97616, std: 0.03058, params: {'boosting_type': 'gbdt', 'colsample_bytree': 0.9, 'n_estimators': 48, 'num_leaves': 16, 'subsample': 0.7}, mean: -0.96513, std: 0.02894, params: {'boosting_type': 'gbdt', 'colsample_bytree': 0.9, 'n_estimators': 48, 'num_leaves': 16, 'subsample': 0.8}, mean: -0.96389, std: 0.02730, params: {'boosting_type': 'gbdt', 'colsample_bytree': 0.9, 'n_estimators': 48, 'num_leaves': 16, 'subsample': 0.9}, mean: -0.96176, std: 0.03622, params: {'boosting_type': 'gbdt', 'colsample_bytree': 0.9, 'n_estimators': 48, 'num_leaves': 22, 'subsample': 0.7}, mean: -0.95849, std: 0.03145, params: {'boosting_type': 'gbdt', 'colsample_bytree': 0.9, 'n_estimators': 48, 'num_leaves': 22, 'subsample': 0.8}, mean: -0.95471, std: 0.02800, params: {'boosting_type': 'gbdt', 'colsample_bytree': 0.9, 'n_estimators': 48, 'num_leaves': 22, 'subsample': 0.9}]\n",
      "{'boosting_type': 'gbdt', 'colsample_bytree': 0.7, 'n_estimators': 48, 'num_leaves': 22, 'subsample': 0.9}\n",
      "-0.950704488318\n",
      "Fitting 5 folds for each of 144 candidates, totalling 720 fits\n"
     ]
    },
    {
     "name": "stderr",
     "output_type": "stream",
     "text": [
      "C:\\Users\\Franck\\Documents\\Continuum\\Anaconda3\\lib\\site-packages\\sklearn\\model_selection\\_search.py:667: DeprecationWarning: The grid_scores_ attribute was deprecated in version 0.18 in favor of the more elaborate cv_results_ attribute. The grid_scores_ attribute will not be available from 0.20\n",
      "  DeprecationWarning)\n",
      "[Parallel(n_jobs=-1)]: Done  42 tasks      | elapsed:   27.7s\n",
      "[Parallel(n_jobs=-1)]: Done 192 tasks      | elapsed:  5.7min\n",
      "[Parallel(n_jobs=-1)]: Done 442 tasks      | elapsed: 16.2min\n",
      "[Parallel(n_jobs=-1)]: Done 720 out of 720 | elapsed: 30.7min finished\n"
     ]
    },
    {
     "name": "stdout",
     "output_type": "stream",
     "text": [
      "w2v_300\n",
      "[mean: -1.57031, std: 0.01970, params: {'boosting_type': 'gbdt', 'colsample_bytree': 0.7, 'n_estimators': 8, 'num_leaves': 6, 'subsample': 0.7}, mean: -1.57253, std: 0.02050, params: {'boosting_type': 'gbdt', 'colsample_bytree': 0.7, 'n_estimators': 8, 'num_leaves': 6, 'subsample': 0.8}, mean: -1.56997, std: 0.01556, params: {'boosting_type': 'gbdt', 'colsample_bytree': 0.7, 'n_estimators': 8, 'num_leaves': 6, 'subsample': 0.9}, mean: -1.50408, std: 0.02095, params: {'boosting_type': 'gbdt', 'colsample_bytree': 0.7, 'n_estimators': 8, 'num_leaves': 12, 'subsample': 0.7}, mean: -1.50222, std: 0.01758, params: {'boosting_type': 'gbdt', 'colsample_bytree': 0.7, 'n_estimators': 8, 'num_leaves': 12, 'subsample': 0.8}, mean: -1.49851, std: 0.01856, params: {'boosting_type': 'gbdt', 'colsample_bytree': 0.7, 'n_estimators': 8, 'num_leaves': 12, 'subsample': 0.9}, mean: -1.48358, std: 0.01361, params: {'boosting_type': 'gbdt', 'colsample_bytree': 0.7, 'n_estimators': 8, 'num_leaves': 16, 'subsample': 0.7}, mean: -1.48125, std: 0.01769, params: {'boosting_type': 'gbdt', 'colsample_bytree': 0.7, 'n_estimators': 8, 'num_leaves': 16, 'subsample': 0.8}, mean: -1.47733, std: 0.01666, params: {'boosting_type': 'gbdt', 'colsample_bytree': 0.7, 'n_estimators': 8, 'num_leaves': 16, 'subsample': 0.9}, mean: -1.47174, std: 0.01616, params: {'boosting_type': 'gbdt', 'colsample_bytree': 0.7, 'n_estimators': 8, 'num_leaves': 22, 'subsample': 0.7}, mean: -1.46232, std: 0.01455, params: {'boosting_type': 'gbdt', 'colsample_bytree': 0.7, 'n_estimators': 8, 'num_leaves': 22, 'subsample': 0.8}, mean: -1.45513, std: 0.01380, params: {'boosting_type': 'gbdt', 'colsample_bytree': 0.7, 'n_estimators': 8, 'num_leaves': 22, 'subsample': 0.9}, mean: -1.21119, std: 0.02741, params: {'boosting_type': 'gbdt', 'colsample_bytree': 0.7, 'n_estimators': 24, 'num_leaves': 6, 'subsample': 0.7}, mean: -1.21025, std: 0.02771, params: {'boosting_type': 'gbdt', 'colsample_bytree': 0.7, 'n_estimators': 24, 'num_leaves': 6, 'subsample': 0.8}, mean: -1.20507, std: 0.02011, params: {'boosting_type': 'gbdt', 'colsample_bytree': 0.7, 'n_estimators': 24, 'num_leaves': 6, 'subsample': 0.9}, mean: -1.12204, std: 0.02205, params: {'boosting_type': 'gbdt', 'colsample_bytree': 0.7, 'n_estimators': 24, 'num_leaves': 12, 'subsample': 0.7}, mean: -1.11743, std: 0.01810, params: {'boosting_type': 'gbdt', 'colsample_bytree': 0.7, 'n_estimators': 24, 'num_leaves': 12, 'subsample': 0.8}, mean: -1.11328, std: 0.01657, params: {'boosting_type': 'gbdt', 'colsample_bytree': 0.7, 'n_estimators': 24, 'num_leaves': 12, 'subsample': 0.9}, mean: -1.09579, std: 0.02125, params: {'boosting_type': 'gbdt', 'colsample_bytree': 0.7, 'n_estimators': 24, 'num_leaves': 16, 'subsample': 0.7}, mean: -1.09376, std: 0.01989, params: {'boosting_type': 'gbdt', 'colsample_bytree': 0.7, 'n_estimators': 24, 'num_leaves': 16, 'subsample': 0.8}, mean: -1.08508, std: 0.01633, params: {'boosting_type': 'gbdt', 'colsample_bytree': 0.7, 'n_estimators': 24, 'num_leaves': 16, 'subsample': 0.9}, mean: -1.07774, std: 0.02162, params: {'boosting_type': 'gbdt', 'colsample_bytree': 0.7, 'n_estimators': 24, 'num_leaves': 22, 'subsample': 0.7}, mean: -1.07013, std: 0.01722, params: {'boosting_type': 'gbdt', 'colsample_bytree': 0.7, 'n_estimators': 24, 'num_leaves': 22, 'subsample': 0.8}, mean: -1.06091, std: 0.01749, params: {'boosting_type': 'gbdt', 'colsample_bytree': 0.7, 'n_estimators': 24, 'num_leaves': 22, 'subsample': 0.9}, mean: -1.10721, std: 0.02540, params: {'boosting_type': 'gbdt', 'colsample_bytree': 0.7, 'n_estimators': 36, 'num_leaves': 6, 'subsample': 0.7}, mean: -1.10984, std: 0.02623, params: {'boosting_type': 'gbdt', 'colsample_bytree': 0.7, 'n_estimators': 36, 'num_leaves': 6, 'subsample': 0.8}, mean: -1.10872, std: 0.02092, params: {'boosting_type': 'gbdt', 'colsample_bytree': 0.7, 'n_estimators': 36, 'num_leaves': 6, 'subsample': 0.9}, mean: -1.02485, std: 0.02148, params: {'boosting_type': 'gbdt', 'colsample_bytree': 0.7, 'n_estimators': 36, 'num_leaves': 12, 'subsample': 0.7}, mean: -1.02093, std: 0.01738, params: {'boosting_type': 'gbdt', 'colsample_bytree': 0.7, 'n_estimators': 36, 'num_leaves': 12, 'subsample': 0.8}, mean: -1.02010, std: 0.02066, params: {'boosting_type': 'gbdt', 'colsample_bytree': 0.7, 'n_estimators': 36, 'num_leaves': 12, 'subsample': 0.9}, mean: -0.99901, std: 0.02098, params: {'boosting_type': 'gbdt', 'colsample_bytree': 0.7, 'n_estimators': 36, 'num_leaves': 16, 'subsample': 0.7}, mean: -1.00006, std: 0.02127, params: {'boosting_type': 'gbdt', 'colsample_bytree': 0.7, 'n_estimators': 36, 'num_leaves': 16, 'subsample': 0.8}, mean: -0.99439, std: 0.02037, params: {'boosting_type': 'gbdt', 'colsample_bytree': 0.7, 'n_estimators': 36, 'num_leaves': 16, 'subsample': 0.9}, mean: -0.98655, std: 0.02224, params: {'boosting_type': 'gbdt', 'colsample_bytree': 0.7, 'n_estimators': 36, 'num_leaves': 22, 'subsample': 0.7}, mean: -0.98425, std: 0.01891, params: {'boosting_type': 'gbdt', 'colsample_bytree': 0.7, 'n_estimators': 36, 'num_leaves': 22, 'subsample': 0.8}, mean: -0.97875, std: 0.02284, params: {'boosting_type': 'gbdt', 'colsample_bytree': 0.7, 'n_estimators': 36, 'num_leaves': 22, 'subsample': 0.9}, mean: -1.05230, std: 0.02385, params: {'boosting_type': 'gbdt', 'colsample_bytree': 0.7, 'n_estimators': 48, 'num_leaves': 6, 'subsample': 0.7}, mean: -1.05471, std: 0.02717, params: {'boosting_type': 'gbdt', 'colsample_bytree': 0.7, 'n_estimators': 48, 'num_leaves': 6, 'subsample': 0.8}, mean: -1.05348, std: 0.02008, params: {'boosting_type': 'gbdt', 'colsample_bytree': 0.7, 'n_estimators': 48, 'num_leaves': 6, 'subsample': 0.9}, mean: -0.98038, std: 0.02479, params: {'boosting_type': 'gbdt', 'colsample_bytree': 0.7, 'n_estimators': 48, 'num_leaves': 12, 'subsample': 0.7}, mean: -0.97521, std: 0.02100, params: {'boosting_type': 'gbdt', 'colsample_bytree': 0.7, 'n_estimators': 48, 'num_leaves': 12, 'subsample': 0.8}, mean: -0.97662, std: 0.02219, params: {'boosting_type': 'gbdt', 'colsample_bytree': 0.7, 'n_estimators': 48, 'num_leaves': 12, 'subsample': 0.9}, mean: -0.96063, std: 0.02438, params: {'boosting_type': 'gbdt', 'colsample_bytree': 0.7, 'n_estimators': 48, 'num_leaves': 16, 'subsample': 0.7}, mean: -0.95861, std: 0.02158, params: {'boosting_type': 'gbdt', 'colsample_bytree': 0.7, 'n_estimators': 48, 'num_leaves': 16, 'subsample': 0.8}, mean: -0.95761, std: 0.02546, params: {'boosting_type': 'gbdt', 'colsample_bytree': 0.7, 'n_estimators': 48, 'num_leaves': 16, 'subsample': 0.9}, mean: -0.95505, std: 0.02481, params: {'boosting_type': 'gbdt', 'colsample_bytree': 0.7, 'n_estimators': 48, 'num_leaves': 22, 'subsample': 0.7}, mean: -0.95321, std: 0.02305, params: {'boosting_type': 'gbdt', 'colsample_bytree': 0.7, 'n_estimators': 48, 'num_leaves': 22, 'subsample': 0.8}, mean: -0.94866, std: 0.02652, params: {'boosting_type': 'gbdt', 'colsample_bytree': 0.7, 'n_estimators': 48, 'num_leaves': 22, 'subsample': 0.9}, mean: -1.56943, std: 0.02076, params: {'boosting_type': 'gbdt', 'colsample_bytree': 0.8, 'n_estimators': 8, 'num_leaves': 6, 'subsample': 0.7}, mean: -1.56792, std: 0.02079, params: {'boosting_type': 'gbdt', 'colsample_bytree': 0.8, 'n_estimators': 8, 'num_leaves': 6, 'subsample': 0.8}, mean: -1.56616, std: 0.01458, params: {'boosting_type': 'gbdt', 'colsample_bytree': 0.8, 'n_estimators': 8, 'num_leaves': 6, 'subsample': 0.9}, mean: -1.50575, std: 0.02170, params: {'boosting_type': 'gbdt', 'colsample_bytree': 0.8, 'n_estimators': 8, 'num_leaves': 12, 'subsample': 0.7}, mean: -1.49793, std: 0.01468, params: {'boosting_type': 'gbdt', 'colsample_bytree': 0.8, 'n_estimators': 8, 'num_leaves': 12, 'subsample': 0.8}, mean: -1.49488, std: 0.01340, params: {'boosting_type': 'gbdt', 'colsample_bytree': 0.8, 'n_estimators': 8, 'num_leaves': 12, 'subsample': 0.9}, mean: -1.48392, std: 0.01245, params: {'boosting_type': 'gbdt', 'colsample_bytree': 0.8, 'n_estimators': 8, 'num_leaves': 16, 'subsample': 0.7}, mean: -1.47882, std: 0.01610, params: {'boosting_type': 'gbdt', 'colsample_bytree': 0.8, 'n_estimators': 8, 'num_leaves': 16, 'subsample': 0.8}, mean: -1.47149, std: 0.01291, params: {'boosting_type': 'gbdt', 'colsample_bytree': 0.8, 'n_estimators': 8, 'num_leaves': 16, 'subsample': 0.9}, mean: -1.46404, std: 0.01282, params: {'boosting_type': 'gbdt', 'colsample_bytree': 0.8, 'n_estimators': 8, 'num_leaves': 22, 'subsample': 0.7}, mean: -1.45829, std: 0.01515, params: {'boosting_type': 'gbdt', 'colsample_bytree': 0.8, 'n_estimators': 8, 'num_leaves': 22, 'subsample': 0.8}, mean: -1.45082, std: 0.00970, params: {'boosting_type': 'gbdt', 'colsample_bytree': 0.8, 'n_estimators': 8, 'num_leaves': 22, 'subsample': 0.9}, mean: -1.20957, std: 0.02753, params: {'boosting_type': 'gbdt', 'colsample_bytree': 0.8, 'n_estimators': 24, 'num_leaves': 6, 'subsample': 0.7}, mean: -1.20445, std: 0.02646, params: {'boosting_type': 'gbdt', 'colsample_bytree': 0.8, 'n_estimators': 24, 'num_leaves': 6, 'subsample': 0.8}, mean: -1.20506, std: 0.01961, params: {'boosting_type': 'gbdt', 'colsample_bytree': 0.8, 'n_estimators': 24, 'num_leaves': 6, 'subsample': 0.9}, mean: -1.12051, std: 0.02442, params: {'boosting_type': 'gbdt', 'colsample_bytree': 0.8, 'n_estimators': 24, 'num_leaves': 12, 'subsample': 0.7}, mean: -1.11296, std: 0.01691, params: {'boosting_type': 'gbdt', 'colsample_bytree': 0.8, 'n_estimators': 24, 'num_leaves': 12, 'subsample': 0.8}, mean: -1.11181, std: 0.01480, params: {'boosting_type': 'gbdt', 'colsample_bytree': 0.8, 'n_estimators': 24, 'num_leaves': 12, 'subsample': 0.9}, mean: -1.09385, std: 0.01734, params: {'boosting_type': 'gbdt', 'colsample_bytree': 0.8, 'n_estimators': 24, 'num_leaves': 16, 'subsample': 0.7}, mean: -1.09106, std: 0.01806, params: {'boosting_type': 'gbdt', 'colsample_bytree': 0.8, 'n_estimators': 24, 'num_leaves': 16, 'subsample': 0.8}, mean: -1.08479, std: 0.01916, params: {'boosting_type': 'gbdt', 'colsample_bytree': 0.8, 'n_estimators': 24, 'num_leaves': 16, 'subsample': 0.9}, mean: -1.07168, std: 0.01507, params: {'boosting_type': 'gbdt', 'colsample_bytree': 0.8, 'n_estimators': 24, 'num_leaves': 22, 'subsample': 0.7}, mean: -1.07099, std: 0.01862, params: {'boosting_type': 'gbdt', 'colsample_bytree': 0.8, 'n_estimators': 24, 'num_leaves': 22, 'subsample': 0.8}, mean: -1.06357, std: 0.01556, params: {'boosting_type': 'gbdt', 'colsample_bytree': 0.8, 'n_estimators': 24, 'num_leaves': 22, 'subsample': 0.9}, mean: -1.10896, std: 0.02404, params: {'boosting_type': 'gbdt', 'colsample_bytree': 0.8, 'n_estimators': 36, 'num_leaves': 6, 'subsample': 0.7}, mean: -1.10393, std: 0.02365, params: {'boosting_type': 'gbdt', 'colsample_bytree': 0.8, 'n_estimators': 36, 'num_leaves': 6, 'subsample': 0.8}, mean: -1.10429, std: 0.02069, params: {'boosting_type': 'gbdt', 'colsample_bytree': 0.8, 'n_estimators': 36, 'num_leaves': 6, 'subsample': 0.9}, mean: -1.02135, std: 0.02160, params: {'boosting_type': 'gbdt', 'colsample_bytree': 0.8, 'n_estimators': 36, 'num_leaves': 12, 'subsample': 0.7}, mean: -1.01654, std: 0.01851, params: {'boosting_type': 'gbdt', 'colsample_bytree': 0.8, 'n_estimators': 36, 'num_leaves': 12, 'subsample': 0.8}, mean: -1.01483, std: 0.01849, params: {'boosting_type': 'gbdt', 'colsample_bytree': 0.8, 'n_estimators': 36, 'num_leaves': 12, 'subsample': 0.9}, mean: -0.99905, std: 0.02114, params: {'boosting_type': 'gbdt', 'colsample_bytree': 0.8, 'n_estimators': 36, 'num_leaves': 16, 'subsample': 0.7}, mean: -0.99665, std: 0.01621, params: {'boosting_type': 'gbdt', 'colsample_bytree': 0.8, 'n_estimators': 36, 'num_leaves': 16, 'subsample': 0.8}, mean: -0.99566, std: 0.02328, params: {'boosting_type': 'gbdt', 'colsample_bytree': 0.8, 'n_estimators': 36, 'num_leaves': 16, 'subsample': 0.9}, mean: -0.98294, std: 0.01903, params: {'boosting_type': 'gbdt', 'colsample_bytree': 0.8, 'n_estimators': 36, 'num_leaves': 22, 'subsample': 0.7}, mean: -0.98777, std: 0.02092, params: {'boosting_type': 'gbdt', 'colsample_bytree': 0.8, 'n_estimators': 36, 'num_leaves': 22, 'subsample': 0.8}, mean: -0.98050, std: 0.02070, params: {'boosting_type': 'gbdt', 'colsample_bytree': 0.8, 'n_estimators': 36, 'num_leaves': 22, 'subsample': 0.9}, mean: -1.05432, std: 0.02561, params: {'boosting_type': 'gbdt', 'colsample_bytree': 0.8, 'n_estimators': 48, 'num_leaves': 6, 'subsample': 0.7}, mean: -1.04899, std: 0.02444, params: {'boosting_type': 'gbdt', 'colsample_bytree': 0.8, 'n_estimators': 48, 'num_leaves': 6, 'subsample': 0.8}, mean: -1.04996, std: 0.02184, params: {'boosting_type': 'gbdt', 'colsample_bytree': 0.8, 'n_estimators': 48, 'num_leaves': 6, 'subsample': 0.9}, mean: -0.97628, std: 0.02463, params: {'boosting_type': 'gbdt', 'colsample_bytree': 0.8, 'n_estimators': 48, 'num_leaves': 12, 'subsample': 0.7}, mean: -0.96959, std: 0.02079, params: {'boosting_type': 'gbdt', 'colsample_bytree': 0.8, 'n_estimators': 48, 'num_leaves': 12, 'subsample': 0.8}, mean: -0.97039, std: 0.02169, params: {'boosting_type': 'gbdt', 'colsample_bytree': 0.8, 'n_estimators': 48, 'num_leaves': 12, 'subsample': 0.9}, mean: -0.96043, std: 0.02565, params: {'boosting_type': 'gbdt', 'colsample_bytree': 0.8, 'n_estimators': 48, 'num_leaves': 16, 'subsample': 0.7}, mean: -0.95819, std: 0.01919, params: {'boosting_type': 'gbdt', 'colsample_bytree': 0.8, 'n_estimators': 48, 'num_leaves': 16, 'subsample': 0.8}, mean: -0.96285, std: 0.02773, params: {'boosting_type': 'gbdt', 'colsample_bytree': 0.8, 'n_estimators': 48, 'num_leaves': 16, 'subsample': 0.9}, mean: -0.95010, std: 0.02640, params: {'boosting_type': 'gbdt', 'colsample_bytree': 0.8, 'n_estimators': 48, 'num_leaves': 22, 'subsample': 0.7}, mean: -0.95831, std: 0.02440, params: {'boosting_type': 'gbdt', 'colsample_bytree': 0.8, 'n_estimators': 48, 'num_leaves': 22, 'subsample': 0.8}, mean: -0.95375, std: 0.02629, params: {'boosting_type': 'gbdt', 'colsample_bytree': 0.8, 'n_estimators': 48, 'num_leaves': 22, 'subsample': 0.9}, mean: -1.56780, std: 0.02118, params: {'boosting_type': 'gbdt', 'colsample_bytree': 0.9, 'n_estimators': 8, 'num_leaves': 6, 'subsample': 0.7}, mean: -1.56831, std: 0.01968, params: {'boosting_type': 'gbdt', 'colsample_bytree': 0.9, 'n_estimators': 8, 'num_leaves': 6, 'subsample': 0.8}, mean: -1.56623, std: 0.01710, params: {'boosting_type': 'gbdt', 'colsample_bytree': 0.9, 'n_estimators': 8, 'num_leaves': 6, 'subsample': 0.9}, mean: -1.50439, std: 0.01758, params: {'boosting_type': 'gbdt', 'colsample_bytree': 0.9, 'n_estimators': 8, 'num_leaves': 12, 'subsample': 0.7}, mean: -1.49568, std: 0.01658, params: {'boosting_type': 'gbdt', 'colsample_bytree': 0.9, 'n_estimators': 8, 'num_leaves': 12, 'subsample': 0.8}, mean: -1.49469, std: 0.01596, params: {'boosting_type': 'gbdt', 'colsample_bytree': 0.9, 'n_estimators': 8, 'num_leaves': 12, 'subsample': 0.9}, mean: -1.48325, std: 0.01546, params: {'boosting_type': 'gbdt', 'colsample_bytree': 0.9, 'n_estimators': 8, 'num_leaves': 16, 'subsample': 0.7}, mean: -1.47134, std: 0.01795, params: {'boosting_type': 'gbdt', 'colsample_bytree': 0.9, 'n_estimators': 8, 'num_leaves': 16, 'subsample': 0.8}, mean: -1.47125, std: 0.01542, params: {'boosting_type': 'gbdt', 'colsample_bytree': 0.9, 'n_estimators': 8, 'num_leaves': 16, 'subsample': 0.9}, mean: -1.46259, std: 0.01245, params: {'boosting_type': 'gbdt', 'colsample_bytree': 0.9, 'n_estimators': 8, 'num_leaves': 22, 'subsample': 0.7}, mean: -1.45724, std: 0.01589, params: {'boosting_type': 'gbdt', 'colsample_bytree': 0.9, 'n_estimators': 8, 'num_leaves': 22, 'subsample': 0.8}, mean: -1.44990, std: 0.01089, params: {'boosting_type': 'gbdt', 'colsample_bytree': 0.9, 'n_estimators': 8, 'num_leaves': 22, 'subsample': 0.9}, mean: -1.21103, std: 0.02584, params: {'boosting_type': 'gbdt', 'colsample_bytree': 0.9, 'n_estimators': 24, 'num_leaves': 6, 'subsample': 0.7}, mean: -1.20861, std: 0.03086, params: {'boosting_type': 'gbdt', 'colsample_bytree': 0.9, 'n_estimators': 24, 'num_leaves': 6, 'subsample': 0.8}, mean: -1.20624, std: 0.02204, params: {'boosting_type': 'gbdt', 'colsample_bytree': 0.9, 'n_estimators': 24, 'num_leaves': 6, 'subsample': 0.9}, mean: -1.12412, std: 0.02135, params: {'boosting_type': 'gbdt', 'colsample_bytree': 0.9, 'n_estimators': 24, 'num_leaves': 12, 'subsample': 0.7}, mean: -1.11310, std: 0.02276, params: {'boosting_type': 'gbdt', 'colsample_bytree': 0.9, 'n_estimators': 24, 'num_leaves': 12, 'subsample': 0.8}, mean: -1.11213, std: 0.01389, params: {'boosting_type': 'gbdt', 'colsample_bytree': 0.9, 'n_estimators': 24, 'num_leaves': 12, 'subsample': 0.9}, mean: -1.09257, std: 0.01833, params: {'boosting_type': 'gbdt', 'colsample_bytree': 0.9, 'n_estimators': 24, 'num_leaves': 16, 'subsample': 0.7}, mean: -1.08167, std: 0.01651, params: {'boosting_type': 'gbdt', 'colsample_bytree': 0.9, 'n_estimators': 24, 'num_leaves': 16, 'subsample': 0.8}, mean: -1.08336, std: 0.01997, params: {'boosting_type': 'gbdt', 'colsample_bytree': 0.9, 'n_estimators': 24, 'num_leaves': 16, 'subsample': 0.9}, mean: -1.07217, std: 0.01495, params: {'boosting_type': 'gbdt', 'colsample_bytree': 0.9, 'n_estimators': 24, 'num_leaves': 22, 'subsample': 0.7}, mean: -1.06368, std: 0.02217, params: {'boosting_type': 'gbdt', 'colsample_bytree': 0.9, 'n_estimators': 24, 'num_leaves': 22, 'subsample': 0.8}, mean: -1.06324, std: 0.01802, params: {'boosting_type': 'gbdt', 'colsample_bytree': 0.9, 'n_estimators': 24, 'num_leaves': 22, 'subsample': 0.9}, mean: -1.10934, std: 0.02252, params: {'boosting_type': 'gbdt', 'colsample_bytree': 0.9, 'n_estimators': 36, 'num_leaves': 6, 'subsample': 0.7}, mean: -1.10473, std: 0.02567, params: {'boosting_type': 'gbdt', 'colsample_bytree': 0.9, 'n_estimators': 36, 'num_leaves': 6, 'subsample': 0.8}, mean: -1.10692, std: 0.02190, params: {'boosting_type': 'gbdt', 'colsample_bytree': 0.9, 'n_estimators': 36, 'num_leaves': 6, 'subsample': 0.9}, mean: -1.02522, std: 0.02020, params: {'boosting_type': 'gbdt', 'colsample_bytree': 0.9, 'n_estimators': 36, 'num_leaves': 12, 'subsample': 0.7}, mean: -1.01464, std: 0.02557, params: {'boosting_type': 'gbdt', 'colsample_bytree': 0.9, 'n_estimators': 36, 'num_leaves': 12, 'subsample': 0.8}, mean: -1.01669, std: 0.01838, params: {'boosting_type': 'gbdt', 'colsample_bytree': 0.9, 'n_estimators': 36, 'num_leaves': 12, 'subsample': 0.9}, mean: -0.99805, std: 0.02060, params: {'boosting_type': 'gbdt', 'colsample_bytree': 0.9, 'n_estimators': 36, 'num_leaves': 16, 'subsample': 0.7}, mean: -0.99153, std: 0.02077, params: {'boosting_type': 'gbdt', 'colsample_bytree': 0.9, 'n_estimators': 36, 'num_leaves': 16, 'subsample': 0.8}, mean: -0.99098, std: 0.01959, params: {'boosting_type': 'gbdt', 'colsample_bytree': 0.9, 'n_estimators': 36, 'num_leaves': 16, 'subsample': 0.9}, mean: -0.98589, std: 0.01585, params: {'boosting_type': 'gbdt', 'colsample_bytree': 0.9, 'n_estimators': 36, 'num_leaves': 22, 'subsample': 0.7}, mean: -0.97927, std: 0.02328, params: {'boosting_type': 'gbdt', 'colsample_bytree': 0.9, 'n_estimators': 36, 'num_leaves': 22, 'subsample': 0.8}, mean: -0.98108, std: 0.02251, params: {'boosting_type': 'gbdt', 'colsample_bytree': 0.9, 'n_estimators': 36, 'num_leaves': 22, 'subsample': 0.9}, mean: -1.05403, std: 0.02314, params: {'boosting_type': 'gbdt', 'colsample_bytree': 0.9, 'n_estimators': 48, 'num_leaves': 6, 'subsample': 0.7}, mean: -1.04738, std: 0.02606, params: {'boosting_type': 'gbdt', 'colsample_bytree': 0.9, 'n_estimators': 48, 'num_leaves': 6, 'subsample': 0.8}, mean: -1.05045, std: 0.02379, params: {'boosting_type': 'gbdt', 'colsample_bytree': 0.9, 'n_estimators': 48, 'num_leaves': 6, 'subsample': 0.9}, mean: -0.97998, std: 0.01939, params: {'boosting_type': 'gbdt', 'colsample_bytree': 0.9, 'n_estimators': 48, 'num_leaves': 12, 'subsample': 0.7}, mean: -0.96899, std: 0.02923, params: {'boosting_type': 'gbdt', 'colsample_bytree': 0.9, 'n_estimators': 48, 'num_leaves': 12, 'subsample': 0.8}, mean: -0.97386, std: 0.02226, params: {'boosting_type': 'gbdt', 'colsample_bytree': 0.9, 'n_estimators': 48, 'num_leaves': 12, 'subsample': 0.9}, mean: -0.96174, std: 0.02207, params: {'boosting_type': 'gbdt', 'colsample_bytree': 0.9, 'n_estimators': 48, 'num_leaves': 16, 'subsample': 0.7}, mean: -0.95415, std: 0.02366, params: {'boosting_type': 'gbdt', 'colsample_bytree': 0.9, 'n_estimators': 48, 'num_leaves': 16, 'subsample': 0.8}, mean: -0.95540, std: 0.02491, params: {'boosting_type': 'gbdt', 'colsample_bytree': 0.9, 'n_estimators': 48, 'num_leaves': 16, 'subsample': 0.9}, mean: -0.95295, std: 0.01617, params: {'boosting_type': 'gbdt', 'colsample_bytree': 0.9, 'n_estimators': 48, 'num_leaves': 22, 'subsample': 0.7}, mean: -0.95013, std: 0.02702, params: {'boosting_type': 'gbdt', 'colsample_bytree': 0.9, 'n_estimators': 48, 'num_leaves': 22, 'subsample': 0.8}, mean: -0.95365, std: 0.02659, params: {'boosting_type': 'gbdt', 'colsample_bytree': 0.9, 'n_estimators': 48, 'num_leaves': 22, 'subsample': 0.9}]\n",
      "{'boosting_type': 'gbdt', 'colsample_bytree': 0.7, 'n_estimators': 48, 'num_leaves': 22, 'subsample': 0.9}\n",
      "-0.948655365308\n"
     ]
    },
    {
     "name": "stderr",
     "output_type": "stream",
     "text": [
      "C:\\Users\\Franck\\Documents\\Continuum\\Anaconda3\\lib\\site-packages\\sklearn\\model_selection\\_search.py:667: DeprecationWarning: The grid_scores_ attribute was deprecated in version 0.18 in favor of the more elaborate cv_results_ attribute. The grid_scores_ attribute will not be available from 0.20\n",
      "  DeprecationWarning)\n"
     ]
    }
   ],
   "source": [
    "clf_lgbm=LGBMClassifier(seed=26)\n",
    "param_test= {\n",
    "    'n_estimators': [8,24,36,48],\n",
    "    'num_leaves': [6,12,16,22],\n",
    "    'boosting_type' : ['gbdt'],\n",
    "    'colsample_bytree' : [0.7,0.8,0.9],\n",
    "    'subsample' : [0.7,0.8,0.9]\n",
    "    }\n",
    "for name in [\"bio\",\"tfidf_100\",\"w2v_300\"]:\n",
    "    gsearch=GridSearchCV(estimator=clf_lgbm, param_grid = param_test,scoring=\"neg_log_loss\",n_jobs=-1,iid=False, cv=kf,verbose=True)\n",
    "    gsearch.fit(np.array(work_train_final[name]),y)\n",
    "    print(name)\n",
    "    print(gsearch.grid_scores_)\n",
    "    print(gsearch.best_params_)\n",
    "    print(gsearch.best_score_)\n",
    "#bio :{'boosting_type': 'gbdt', 'colsample_bytree': 0.7, 'n_estimators': 48, 'num_leaves': 22, 'subsample': 0.9}\n",
    "#-0.950704488318\n",
    "#tfidf : {'boosting_type': 'gbdt', 'colsample_bytree': 0.9, 'n_estimators': 48, 'num_leaves': 22, 'subsample': 0.8}\n",
    "#-0.93280968028\n",
    "#w2v : {'boosting_type': 'gbdt', 'colsample_bytree': 0.7, 'n_estimators': 48, 'num_leaves': 22, 'subsample': 0.9}\n",
    "#-0.948655365308"
   ]
  },
  {
   "cell_type": "code",
   "execution_count": 15,
   "metadata": {
    "collapsed": true
   },
   "outputs": [
    {
     "name": "stdout",
     "output_type": "stream",
     "text": [
      "Fitting 5 folds for each of 18 candidates, totalling 90 fits\n"
     ]
    },
    {
     "name": "stderr",
     "output_type": "stream",
     "text": [
      "[Parallel(n_jobs=-1)]: Done  42 tasks      | elapsed:  1.9min\n",
      "[Parallel(n_jobs=-1)]: Done  90 out of  90 | elapsed:  4.8min finished\n"
     ]
    },
    {
     "name": "stdout",
     "output_type": "stream",
     "text": [
      "tfidf_100\n",
      "[mean: -1.09834, std: 0.03969, params: {'C': 5, 'penalty': 'l1'}, mean: -1.09634, std: 0.04143, params: {'C': 5, 'penalty': 'l2'}, mean: -1.10748, std: 0.04719, params: {'C': 7, 'penalty': 'l1'}, mean: -1.09290, std: 0.04502, params: {'C': 7, 'penalty': 'l2'}, mean: -1.11952, std: 0.05389, params: {'C': 9, 'penalty': 'l1'}, mean: -1.09239, std: 0.04788, params: {'C': 9, 'penalty': 'l2'}, mean: -1.12490, std: 0.05549, params: {'C': 10, 'penalty': 'l1'}, mean: -1.09272, std: 0.04911, params: {'C': 10, 'penalty': 'l2'}, mean: -1.13545, std: 0.05871, params: {'C': 12, 'penalty': 'l1'}, mean: -1.09403, std: 0.05133, params: {'C': 12, 'penalty': 'l2'}, mean: -1.14417, std: 0.06059, params: {'C': 14, 'penalty': 'l1'}, mean: -1.09584, std: 0.05321, params: {'C': 14, 'penalty': 'l2'}, mean: -1.15330, std: 0.06204, params: {'C': 16, 'penalty': 'l1'}, mean: -1.09800, std: 0.05494, params: {'C': 16, 'penalty': 'l2'}, mean: -1.16201, std: 0.06323, params: {'C': 18, 'penalty': 'l1'}, mean: -1.10029, std: 0.05653, params: {'C': 18, 'penalty': 'l2'}, mean: -1.17037, std: 0.06412, params: {'C': 20, 'penalty': 'l1'}, mean: -1.10270, std: 0.05800, params: {'C': 20, 'penalty': 'l2'}]\n",
      "{'C': 9, 'penalty': 'l2'}\n",
      "-1.09238657392\n",
      "Fitting 5 folds for each of 18 candidates, totalling 90 fits\n"
     ]
    },
    {
     "name": "stderr",
     "output_type": "stream",
     "text": [
      "C:\\Users\\Franck\\Documents\\Continuum\\Anaconda3\\lib\\site-packages\\sklearn\\model_selection\\_search.py:667: DeprecationWarning: The grid_scores_ attribute was deprecated in version 0.18 in favor of the more elaborate cv_results_ attribute. The grid_scores_ attribute will not be available from 0.20\n",
      "  DeprecationWarning)\n",
      "[Parallel(n_jobs=-1)]: Done  42 tasks      | elapsed:  4.0min\n",
      "[Parallel(n_jobs=-1)]: Done  90 out of  90 | elapsed: 10.9min finished\n"
     ]
    },
    {
     "name": "stdout",
     "output_type": "stream",
     "text": [
      "w2v_300\n",
      "[mean: -1.16571, std: 0.06918, params: {'C': 5, 'penalty': 'l1'}, mean: -1.15625, std: 0.06344, params: {'C': 5, 'penalty': 'l2'}, mean: -1.17674, std: 0.07798, params: {'C': 7, 'penalty': 'l1'}, mean: -1.15999, std: 0.06612, params: {'C': 7, 'penalty': 'l2'}, mean: -1.18680, std: 0.08370, params: {'C': 9, 'penalty': 'l1'}, mean: -1.16371, std: 0.06826, params: {'C': 9, 'penalty': 'l2'}, mean: -1.19094, std: 0.08560, params: {'C': 10, 'penalty': 'l1'}, mean: -1.16551, std: 0.06926, params: {'C': 10, 'penalty': 'l2'}, mean: -1.19787, std: 0.08872, params: {'C': 12, 'penalty': 'l1'}, mean: -1.16890, std: 0.07097, params: {'C': 12, 'penalty': 'l2'}, mean: -1.20456, std: 0.08997, params: {'C': 14, 'penalty': 'l1'}, mean: -1.17207, std: 0.07258, params: {'C': 14, 'penalty': 'l2'}, mean: -1.21048, std: 0.09003, params: {'C': 16, 'penalty': 'l1'}, mean: -1.17504, std: 0.07396, params: {'C': 16, 'penalty': 'l2'}, mean: -1.21810, std: 0.09133, params: {'C': 18, 'penalty': 'l1'}, mean: -1.17785, std: 0.07528, params: {'C': 18, 'penalty': 'l2'}, mean: -1.22500, std: 0.09231, params: {'C': 20, 'penalty': 'l1'}, mean: -1.18049, std: 0.07654, params: {'C': 20, 'penalty': 'l2'}]\n",
      "{'C': 5, 'penalty': 'l2'}\n",
      "-1.15624885278\n"
     ]
    },
    {
     "name": "stderr",
     "output_type": "stream",
     "text": [
      "C:\\Users\\Franck\\Documents\\Continuum\\Anaconda3\\lib\\site-packages\\sklearn\\model_selection\\_search.py:667: DeprecationWarning: The grid_scores_ attribute was deprecated in version 0.18 in favor of the more elaborate cv_results_ attribute. The grid_scores_ attribute will not be available from 0.20\n",
      "  DeprecationWarning)\n"
     ]
    }
   ],
   "source": [
    "clf_log=LogisticRegression()\n",
    "param_test= {\n",
    "    \"C\" : [5,7,9,10,12,14,16,18,20],\n",
    "    \"penalty\" : [\"l1\",\"l2\"]\n",
    "}\n",
    "for name in [\"tfidf_100\",\"w2v_300\"]:\n",
    "    gsearch=GridSearchCV(estimator=clf_log, param_grid = param_test,scoring=\"neg_log_loss\",n_jobs=-1,iid=False, cv=kf,verbose=True)\n",
    "    gsearch.fit(np.array(work_train_final[name]),y)\n",
    "    print(name)\n",
    "    print(gsearch.grid_scores_)\n",
    "    print(gsearch.best_params_)\n",
    "    print(gsearch.best_score_)\n",
    "#bio : {'C': 10, 'penalty': 'l2'}\n",
    "#tfidf : {'C': 9, 'penalty': 'l2'}\n",
    "#w2v : {'C': 5, 'penalty': 'l2'}"
   ]
  },
  {
   "cell_type": "code",
   "execution_count": 13,
   "metadata": {
    "collapsed": true
   },
   "outputs": [
    {
     "name": "stdout",
     "output_type": "stream",
     "text": [
      "Fitting 5 folds for each of 15 candidates, totalling 75 fits\n"
     ]
    },
    {
     "name": "stderr",
     "output_type": "stream",
     "text": [
      "[Parallel(n_jobs=-1)]: Done  42 tasks      | elapsed:  2.0min\n",
      "[Parallel(n_jobs=-1)]: Done  75 out of  75 | elapsed:  3.7min finished\n"
     ]
    },
    {
     "name": "stdout",
     "output_type": "stream",
     "text": [
      "bio\n",
      "[mean: -0.98921, std: 0.03374, params: {'max_depth': 11, 'n_estimators': 250}, mean: -0.97999, std: 0.02848, params: {'max_depth': 11, 'n_estimators': 300}, mean: -0.97820, std: 0.02786, params: {'max_depth': 11, 'n_estimators': 350}, mean: -0.96592, std: 0.03615, params: {'max_depth': 13, 'n_estimators': 250}, mean: -0.96483, std: 0.03763, params: {'max_depth': 13, 'n_estimators': 300}, mean: -0.96381, std: 0.03571, params: {'max_depth': 13, 'n_estimators': 350}, mean: -0.96159, std: 0.04092, params: {'max_depth': 15, 'n_estimators': 250}, mean: -0.96310, std: 0.04660, params: {'max_depth': 15, 'n_estimators': 300}, mean: -0.95990, std: 0.04023, params: {'max_depth': 15, 'n_estimators': 350}, mean: -0.99005, std: 0.05035, params: {'max_depth': 17, 'n_estimators': 250}, mean: -0.97091, std: 0.04292, params: {'max_depth': 17, 'n_estimators': 300}, mean: -0.98030, std: 0.05839, params: {'max_depth': 17, 'n_estimators': 350}, mean: -1.00936, std: 0.07973, params: {'max_depth': 19, 'n_estimators': 250}, mean: -0.97916, std: 0.05510, params: {'max_depth': 19, 'n_estimators': 300}, mean: -0.99931, std: 0.06458, params: {'max_depth': 19, 'n_estimators': 350}]\n",
      "{'max_depth': 15, 'n_estimators': 350}\n",
      "-0.959900323647\n",
      "Fitting 5 folds for each of 15 candidates, totalling 75 fits\n"
     ]
    },
    {
     "name": "stderr",
     "output_type": "stream",
     "text": [
      "C:\\Users\\Franck\\Documents\\Continuum\\Anaconda3\\lib\\site-packages\\sklearn\\model_selection\\_search.py:667: DeprecationWarning: The grid_scores_ attribute was deprecated in version 0.18 in favor of the more elaborate cv_results_ attribute. The grid_scores_ attribute will not be available from 0.20\n",
      "  DeprecationWarning)\n",
      "[Parallel(n_jobs=-1)]: Done  42 tasks      | elapsed:  1.4min\n",
      "[Parallel(n_jobs=-1)]: Done  75 out of  75 | elapsed:  2.6min finished\n"
     ]
    },
    {
     "name": "stdout",
     "output_type": "stream",
     "text": [
      "tfidf_100\n",
      "[mean: -0.94322, std: 0.03245, params: {'max_depth': 11, 'n_estimators': 250}, mean: -0.94210, std: 0.02997, params: {'max_depth': 11, 'n_estimators': 300}, mean: -0.94002, std: 0.02926, params: {'max_depth': 11, 'n_estimators': 350}, mean: -0.93217, std: 0.03938, params: {'max_depth': 13, 'n_estimators': 250}, mean: -0.93579, std: 0.04141, params: {'max_depth': 13, 'n_estimators': 300}, mean: -0.92083, std: 0.03438, params: {'max_depth': 13, 'n_estimators': 350}, mean: -0.93005, std: 0.04395, params: {'max_depth': 15, 'n_estimators': 250}, mean: -0.92554, std: 0.04157, params: {'max_depth': 15, 'n_estimators': 300}, mean: -0.92540, std: 0.03870, params: {'max_depth': 15, 'n_estimators': 350}, mean: -0.96134, std: 0.07547, params: {'max_depth': 17, 'n_estimators': 250}, mean: -0.93025, std: 0.04053, params: {'max_depth': 17, 'n_estimators': 300}, mean: -0.93967, std: 0.05281, params: {'max_depth': 17, 'n_estimators': 350}, mean: -0.97240, std: 0.05365, params: {'max_depth': 19, 'n_estimators': 250}, mean: -0.98685, std: 0.05916, params: {'max_depth': 19, 'n_estimators': 300}, mean: -0.96915, std: 0.06504, params: {'max_depth': 19, 'n_estimators': 350}]\n",
      "{'max_depth': 13, 'n_estimators': 350}\n",
      "-0.920825809843\n",
      "Fitting 5 folds for each of 15 candidates, totalling 75 fits\n"
     ]
    },
    {
     "name": "stderr",
     "output_type": "stream",
     "text": [
      "C:\\Users\\Franck\\Documents\\Continuum\\Anaconda3\\lib\\site-packages\\sklearn\\model_selection\\_search.py:667: DeprecationWarning: The grid_scores_ attribute was deprecated in version 0.18 in favor of the more elaborate cv_results_ attribute. The grid_scores_ attribute will not be available from 0.20\n",
      "  DeprecationWarning)\n",
      "[Parallel(n_jobs=-1)]: Done  42 tasks      | elapsed:  2.6min\n",
      "[Parallel(n_jobs=-1)]: Done  75 out of  75 | elapsed:  4.6min finished\n"
     ]
    },
    {
     "name": "stdout",
     "output_type": "stream",
     "text": [
      "w2v_300\n",
      "[mean: -0.99520, std: 0.02373, params: {'max_depth': 11, 'n_estimators': 250}, mean: -0.99469, std: 0.02825, params: {'max_depth': 11, 'n_estimators': 300}, mean: -0.99142, std: 0.02944, params: {'max_depth': 11, 'n_estimators': 350}, mean: -0.98497, std: 0.03561, params: {'max_depth': 13, 'n_estimators': 250}, mean: -0.99550, std: 0.04389, params: {'max_depth': 13, 'n_estimators': 300}, mean: -0.98181, std: 0.03716, params: {'max_depth': 13, 'n_estimators': 350}, mean: -0.98066, std: 0.03439, params: {'max_depth': 15, 'n_estimators': 250}, mean: -0.98449, std: 0.03527, params: {'max_depth': 15, 'n_estimators': 300}, mean: -0.98009, std: 0.03965, params: {'max_depth': 15, 'n_estimators': 350}, mean: -0.98868, std: 0.04860, params: {'max_depth': 17, 'n_estimators': 250}, mean: -1.00925, std: 0.04909, params: {'max_depth': 17, 'n_estimators': 300}, mean: -0.97676, std: 0.03047, params: {'max_depth': 17, 'n_estimators': 350}, mean: -1.02597, std: 0.08931, params: {'max_depth': 19, 'n_estimators': 250}, mean: -1.05308, std: 0.06848, params: {'max_depth': 19, 'n_estimators': 300}, mean: -1.03907, std: 0.06827, params: {'max_depth': 19, 'n_estimators': 350}]\n",
      "{'max_depth': 17, 'n_estimators': 350}\n",
      "-0.976764640586\n"
     ]
    },
    {
     "name": "stderr",
     "output_type": "stream",
     "text": [
      "C:\\Users\\Franck\\Documents\\Continuum\\Anaconda3\\lib\\site-packages\\sklearn\\model_selection\\_search.py:667: DeprecationWarning: The grid_scores_ attribute was deprecated in version 0.18 in favor of the more elaborate cv_results_ attribute. The grid_scores_ attribute will not be available from 0.20\n",
      "  DeprecationWarning)\n"
     ]
    }
   ],
   "source": [
    "clf_dt=RandomForestClassifier()\n",
    "param_test={\n",
    "    \"max_depth\":[11,13,15,17,19],\n",
    "    \"n_estimators\":[250,300,350]\n",
    "}\n",
    "for name in [\"bio\",\"tfidf_100\",\"w2v_300\"]:\n",
    "    gsearch=GridSearchCV(estimator=clf_dt, param_grid = param_test,scoring=\"neg_log_loss\",n_jobs=-1,iid=False, cv=kf,verbose=True)\n",
    "    gsearch.fit(np.array(work_train_final[name]),y)\n",
    "    print(name)\n",
    "    print(gsearch.grid_scores_)\n",
    "    print(gsearch.best_params_)\n",
    "    print(gsearch.best_score_)\n",
    "#bio : {'max_depth': 15, 'n_estimators': 300} -0.957419688259 ok\n",
    "#tfidf : {'max_depth': 13, 'n_estimators': 350} -0.920825809843 ok \n",
    "#w2v :{'max_depth': 15, 'n_estimators': 300} -0.972048498265"
   ]
  },
  {
   "cell_type": "markdown",
   "metadata": {},
   "source": [
    "# TRAINING PHASE ALL ALGOS "
   ]
  },
  {
   "cell_type": "code",
   "execution_count": 23,
   "metadata": {},
   "outputs": [],
   "source": [
    "def model_gen(X,X_test,y,classifier,file,five_fold_predict=True):\n",
    "    #if not os.path.exists(\"scores/\"+file):\n",
    "    #   os.makedirs(\"scores/\"+file)\n",
    "    if five_fold_predict:\n",
    "        fold = 0\n",
    "        y_test=0\n",
    "        for train_index, test_index in kf.split(X, y):\n",
    "        \n",
    "            fold += 1\n",
    "\n",
    "            X_train, X_valid    = X[train_index],   X[test_index]\n",
    "            y_train, y_valid    = y[train_index],   y[test_index]\n",
    "\n",
    "            print(\"Fold\", fold, X_train.shape, X_valid.shape)\n",
    "\n",
    "            clf=classifier\n",
    "            clf.fit(X_train,y_train)\n",
    "            p_test = clf.predict_proba(X_test)\n",
    "            y_test += p_test/5\n",
    "\n",
    "    classes = \"class1,class2,class3,class4,class5,class6,class7,class8,class9\".split(',')\n",
    "    subm = pd.DataFrame(y_test, columns=classes)\n",
    "    subm['ID'] = ID_test\n",
    "    \n",
    "    subm.to_csv(\"new_scores/new_stack_test/new_stem_{}.csv\".format(file),index=False)\n",
    "    \n",
    "    print(\"cross_val sur train \") #peut etre que to array est exclusivement pour les xgb\n",
    "\n",
    "    y_pred=cross_val_predict(estimator=clf,X=X,y=y,cv=kf,method=\"predict_proba\")\n",
    "    subm1 = pd.DataFrame(y_pred, columns=classes)\n",
    "    subm1['ID'] = ID_train\n",
    "    subm1.to_csv(\"new_scores/new_stack_train/new_stem_{}.csv\".format(file),index=False)\n"
   ]
  },
  {
   "cell_type": "code",
   "execution_count": 138,
   "metadata": {
    "collapsed": true
   },
   "outputs": [
    {
     "name": "stdout",
     "output_type": "stream",
     "text": [
      "xgboost here\n",
      "Fold 1 (2946, 142) (743, 142)\n",
      "Fold 2 (2949, 142) (740, 142)\n",
      "Fold 3 (2952, 142) (737, 142)\n",
      "Fold 4 (2954, 142) (735, 142)\n",
      "Fold 5 (2955, 142) (734, 142)\n",
      "cross_val sur train \n",
      "Fold 1 (2946, 142) (743, 142)\n",
      "Fold 2 (2949, 142) (740, 142)\n",
      "Fold 3 (2952, 142) (737, 142)\n",
      "Fold 4 (2954, 142) (735, 142)\n",
      "Fold 5 (2955, 142) (734, 142)\n",
      "cross_val sur train \n",
      "Fold 1 (2946, 243) (743, 243)\n",
      "Fold 2 (2949, 243) (740, 243)\n",
      "Fold 3 (2952, 243) (737, 243)\n",
      "Fold 4 (2954, 243) (735, 243)\n",
      "Fold 5 (2955, 243) (734, 243)\n",
      "cross_val sur train \n",
      "lgbm here\n",
      "Fold 1 (2946, 142) (743, 142)\n",
      "Fold 2 (2949, 142) (740, 142)\n",
      "Fold 3 (2952, 142) (737, 142)\n",
      "Fold 4 (2954, 142) (735, 142)\n",
      "Fold 5 (2955, 142) (734, 142)\n",
      "cross_val sur train \n",
      "Fold 1 (2946, 142) (743, 142)\n",
      "Fold 2 (2949, 142) (740, 142)\n",
      "Fold 3 (2952, 142) (737, 142)\n",
      "Fold 4 (2954, 142) (735, 142)\n",
      "Fold 5 (2955, 142) (734, 142)\n",
      "cross_val sur train \n",
      "Fold 1 (2946, 243) (743, 243)\n",
      "Fold 2 (2949, 243) (740, 243)\n",
      "Fold 3 (2952, 243) (737, 243)\n",
      "Fold 4 (2954, 243) (735, 243)\n",
      "Fold 5 (2955, 243) (734, 243)\n",
      "cross_val sur train \n",
      "logreg here\n",
      "Fold 1 (2946, 142) (743, 142)\n",
      "Fold 2 (2949, 142) (740, 142)\n",
      "Fold 3 (2952, 142) (737, 142)\n",
      "Fold 4 (2954, 142) (735, 142)\n",
      "Fold 5 (2955, 142) (734, 142)\n",
      "cross_val sur train \n",
      "Fold 1 (2946, 142) (743, 142)\n",
      "Fold 2 (2949, 142) (740, 142)\n",
      "Fold 3 (2952, 142) (737, 142)\n",
      "Fold 4 (2954, 142) (735, 142)\n",
      "Fold 5 (2955, 142) (734, 142)\n",
      "cross_val sur train \n",
      "Fold 1 (2946, 243) (743, 243)\n",
      "Fold 2 (2949, 243) (740, 243)\n",
      "Fold 3 (2952, 243) (737, 243)\n",
      "Fold 4 (2954, 243) (735, 243)\n",
      "Fold 5 (2955, 243) (734, 243)\n",
      "cross_val sur train \n",
      "adaboost here\n",
      "Fold 1 (2946, 142) (743, 142)\n",
      "Fold 2 (2949, 142) (740, 142)\n",
      "Fold 3 (2952, 142) (737, 142)\n",
      "Fold 4 (2954, 142) (735, 142)\n",
      "Fold 5 (2955, 142) (734, 142)\n",
      "cross_val sur train \n",
      "Fold 1 (2946, 142) (743, 142)\n",
      "Fold 2 (2949, 142) (740, 142)\n",
      "Fold 3 (2952, 142) (737, 142)\n",
      "Fold 4 (2954, 142) (735, 142)\n",
      "Fold 5 (2955, 142) (734, 142)\n",
      "cross_val sur train \n",
      "Fold 1 (2946, 243) (743, 243)\n",
      "Fold 2 (2949, 243) (740, 243)\n",
      "Fold 3 (2952, 243) (737, 243)\n",
      "Fold 4 (2954, 243) (735, 243)\n",
      "Fold 5 (2955, 243) (734, 243)\n",
      "cross_val sur train \n",
      "random forest here\n",
      "Fold 1 (2946, 142) (743, 142)\n",
      "Fold 2 (2949, 142) (740, 142)\n",
      "Fold 3 (2952, 142) (737, 142)\n",
      "Fold 4 (2954, 142) (735, 142)\n",
      "Fold 5 (2955, 142) (734, 142)\n",
      "cross_val sur train \n",
      "Fold 1 (2946, 142) (743, 142)\n",
      "Fold 2 (2949, 142) (740, 142)\n",
      "Fold 3 (2952, 142) (737, 142)\n",
      "Fold 4 (2954, 142) (735, 142)\n",
      "Fold 5 (2955, 142) (734, 142)\n",
      "cross_val sur train \n",
      "Fold 1 (2946, 243) (743, 243)\n",
      "Fold 2 (2949, 243) (740, 243)\n",
      "Fold 3 (2952, 243) (737, 243)\n",
      "Fold 4 (2954, 243) (735, 243)\n",
      "Fold 5 (2955, 243) (734, 243)\n",
      "cross_val sur train \n"
     ]
    }
   ],
   "source": [
    "dic_xgb={\"xgb_bio\":XGBClassifier(colsample_bytree=0.8,max_depth=7,min_child_weight=3,n_estimators=100,subsample=0.8,objective=\"multi:softprob\",seed=26),\n",
    "        \"xgb_tfidf\":XGBClassifier(colsample_bytree=0.8,max_depth=5,min_child_weight=3,n_estimators=100,subsample=1,objective=\"multi:softprob\",seed=26),\n",
    "        \"xgb_w2v\":XGBClassifier(colsample_bytree=0.8,max_depth=5,min_child_weight=3,n_estimators=100,subsample=0.8,objective=\"multi:softprob\",seed=26)}\n",
    "\n",
    "dic_lgbm={\"lgbm_bio\":LGBMClassifier(boosting_type=\"gbdt\",colsample_bytree=0.8,n_estimators=48,num_leaves=22,subsample=0.8,seed=26),\n",
    "        \"lgbm_tfidf\":LGBMClassifier(boosting_type=\"gbdt\",colsample_bytree=0.8,n_estimators=48,num_leaves=22,subsample=0.8,seed=26),\n",
    "        \"lgbm_w2v\":LGBMClassifier(boosting_type=\"gbdt\",colsample_bytree=0.8,n_estimators=48,num_leaves=22,subsample=0.8,seed=26)}\n",
    "dic_lr={\"lr_bio\":LogisticRegression(C=10,penalty=\"l1\"),\n",
    "        \"lr_tfidf\":LogisticRegression(C=10,penalty=\"l1\"),\n",
    "        \"lr_w2v\":LogisticRegression(C=1,penalty=\"l1\")}\n",
    "dic_ada={\"ada_bio\":AdaBoostClassifier(n_estimators=50, learning_rate=0.01, algorithm=\"SAMME.R\", random_state=26),\n",
    "        \"ada_tfidf\":AdaBoostClassifier(n_estimators=70, learning_rate=0.01, algorithm=\"SAMME.R\", random_state=26),\n",
    "        \"ada_w2v\":AdaBoostClassifier(n_estimators=50, learning_rate=0.01, algorithm=\"SAMME.R\", random_state=26)}\n",
    "dic_rf={\"rf_bio\":RandomForestClassifier(n_estimators=400,max_depth=25,random_state=26),\n",
    "        \"rf_tfidf\":RandomForestClassifier(n_estimators=400,max_depth=20,random_state=26),\n",
    "        \"rf_w2v\":RandomForestClassifier(n_estimators=300,max_depth=15,random_state=26)}\n",
    "\n",
    "print(\"xgboost here\")\n",
    "for clf,name in zip(dic_xgb.keys(),work_train_final.keys()):\n",
    "    model_gen(X=np.array(work_train_final[name]),X_test=np.array(work_test_final[name]),y=y,classifier=dic_xgb[clf],file=clf)\n",
    "print(\"lgbm here\")\n",
    "for clf,name in zip(dic_lgbm.keys(),work_train_final.keys()):\n",
    "    model_gen(X=np.array(work_train_final[name]),X_test=np.array(work_test_final[name]),y=y,classifier=dic_lgbm[clf],file=clf)\n",
    "print(\"logreg here\")\n",
    "for clf,name in zip(dic_lr.keys(),work_train_final.keys()):\n",
    "    model_gen(X=np.array(work_train_final[name]),X_test=np.array(work_test_final[name]),y=y,classifier=dic_lr[clf],file=clf)\n",
    "print(\"adaboost here\")\n",
    "for clf,name in zip(dic_ada.keys(),work_train_final.keys()):\n",
    "    model_gen(X=np.array(work_train_final[name]),X_test=np.array(work_test_final[name]),y=y,classifier=dic_ada[clf],file=clf)\n",
    "print(\"random forest here\")\n",
    "for clf,name in zip(dic_rf.keys(),work_train_final.keys()):\n",
    "    model_gen(X=np.array(work_train_final[name]),X_test=np.array(work_test_final[name]),y=y,classifier=dic_rf[clf],file=clf)\n",
    "\n"
   ]
  },
  {
   "cell_type": "code",
   "execution_count": null,
   "metadata": {},
   "outputs": [],
   "source": [
    "work_train_final"
   ]
  },
  {
   "cell_type": "code",
   "execution_count": null,
   "metadata": {},
   "outputs": [],
   "source": []
  }
 ],
 "metadata": {
  "kernelspec": {
   "display_name": "Python 3",
   "language": "python",
   "name": "python3"
  },
  "language_info": {
   "codemirror_mode": {
    "name": "ipython",
    "version": 3
   },
   "file_extension": ".py",
   "mimetype": "text/x-python",
   "name": "python",
   "nbconvert_exporter": "python",
   "pygments_lexer": "ipython3",
   "version": "3.6.1"
  }
 },
 "nbformat": 4,
 "nbformat_minor": 2
}
